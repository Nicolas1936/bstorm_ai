{
 "cells": [
  {
   "cell_type": "markdown",
   "metadata": {},
   "source": [
    "<font size=\"5\"><p style=\"text-align: center;\">**Exercice Immigration**</font></p> "
   ]
  },
  {
   "cell_type": "markdown",
   "metadata": {},
   "source": [
    "__OBJECTIFS:__\n",
    "- Importation library\n",
    "- Manipulation avec Pandas\n",
    "- Plotting avec pandas ou Matplotlib\n",
    "\n",
    "The Dataset: Immigration to Canada from 1980 to 2013\n",
    "\n",
    "United Nations : International migration flows to and from selected countries - The 2015 revision.\n",
    "\n",
    "The dataset contains annual data on the flows of international immigrants as recorded by the countries of destination. The data presents both inflows and outflows according to the place of birth, citizenship or place of previous / next residence both for foreigners and nationals. The current version presents data pertaining to 45 countries."
   ]
  },
  {
   "cell_type": "markdown",
   "metadata": {},
   "source": [
    "# Importation libraires"
   ]
  },
  {
   "cell_type": "code",
   "execution_count": 1,
   "metadata": {},
   "outputs": [],
   "source": [
    "# Importation librairies\n",
    "import numpy as np  # \n",
    "import pandas as pd # \n",
    "import matplotlib.pyplot as plt"
   ]
  },
  {
   "cell_type": "markdown",
   "metadata": {},
   "source": [
    "# Importation fichier"
   ]
  },
  {
   "cell_type": "code",
   "execution_count": 2,
   "metadata": {},
   "outputs": [
    {
     "data": {
      "text/plain": [
       "['Regions by Citizenship', 'Canada by Citizenship']"
      ]
     },
     "execution_count": 2,
     "metadata": {},
     "output_type": "execute_result"
    }
   ],
   "source": [
    "# Lien du fichier\n",
    "path=r\"C:\\Users\\alder\\Documents\\DataVisualisation\\Dataset\\Canada.xlsx\"\n",
    "xl = pd.ExcelFile(path)\n",
    "\n",
    "# Afficher le nom des sheets\n",
    "xl.sheet_names  "
   ]
  },
  {
   "cell_type": "code",
   "execution_count": 3,
   "metadata": {},
   "outputs": [
    {
     "data": {
      "text/html": [
       "<div>\n",
       "<style scoped>\n",
       "    .dataframe tbody tr th:only-of-type {\n",
       "        vertical-align: middle;\n",
       "    }\n",
       "\n",
       "    .dataframe tbody tr th {\n",
       "        vertical-align: top;\n",
       "    }\n",
       "\n",
       "    .dataframe thead th {\n",
       "        text-align: right;\n",
       "    }\n",
       "</style>\n",
       "<table border=\"1\" class=\"dataframe\">\n",
       "  <thead>\n",
       "    <tr style=\"text-align: right;\">\n",
       "      <th></th>\n",
       "      <th>Type</th>\n",
       "      <th>Coverage</th>\n",
       "      <th>OdName</th>\n",
       "      <th>AREA</th>\n",
       "      <th>AreaName</th>\n",
       "      <th>REG</th>\n",
       "      <th>RegName</th>\n",
       "      <th>DEV</th>\n",
       "      <th>DevName</th>\n",
       "      <th>1980</th>\n",
       "      <th>...</th>\n",
       "      <th>2004</th>\n",
       "      <th>2005</th>\n",
       "      <th>2006</th>\n",
       "      <th>2007</th>\n",
       "      <th>2008</th>\n",
       "      <th>2009</th>\n",
       "      <th>2010</th>\n",
       "      <th>2011</th>\n",
       "      <th>2012</th>\n",
       "      <th>2013</th>\n",
       "    </tr>\n",
       "  </thead>\n",
       "  <tbody>\n",
       "    <tr>\n",
       "      <th>0</th>\n",
       "      <td>Immigrants</td>\n",
       "      <td>Foreigners</td>\n",
       "      <td>Afghanistan</td>\n",
       "      <td>935</td>\n",
       "      <td>Asia</td>\n",
       "      <td>5501</td>\n",
       "      <td>Southern Asia</td>\n",
       "      <td>902</td>\n",
       "      <td>Developing regions</td>\n",
       "      <td>16</td>\n",
       "      <td>...</td>\n",
       "      <td>2978</td>\n",
       "      <td>3436</td>\n",
       "      <td>3009</td>\n",
       "      <td>2652</td>\n",
       "      <td>2111</td>\n",
       "      <td>1746</td>\n",
       "      <td>1758</td>\n",
       "      <td>2203</td>\n",
       "      <td>2635</td>\n",
       "      <td>2004</td>\n",
       "    </tr>\n",
       "    <tr>\n",
       "      <th>1</th>\n",
       "      <td>Immigrants</td>\n",
       "      <td>Foreigners</td>\n",
       "      <td>Albania</td>\n",
       "      <td>908</td>\n",
       "      <td>Europe</td>\n",
       "      <td>925</td>\n",
       "      <td>Southern Europe</td>\n",
       "      <td>901</td>\n",
       "      <td>Developed regions</td>\n",
       "      <td>1</td>\n",
       "      <td>...</td>\n",
       "      <td>1450</td>\n",
       "      <td>1223</td>\n",
       "      <td>856</td>\n",
       "      <td>702</td>\n",
       "      <td>560</td>\n",
       "      <td>716</td>\n",
       "      <td>561</td>\n",
       "      <td>539</td>\n",
       "      <td>620</td>\n",
       "      <td>603</td>\n",
       "    </tr>\n",
       "  </tbody>\n",
       "</table>\n",
       "<p>2 rows × 43 columns</p>\n",
       "</div>"
      ],
      "text/plain": [
       "         Type    Coverage       OdName  AREA AreaName   REG          RegName  \\\n",
       "0  Immigrants  Foreigners  Afghanistan   935     Asia  5501    Southern Asia   \n",
       "1  Immigrants  Foreigners      Albania   908   Europe   925  Southern Europe   \n",
       "\n",
       "   DEV             DevName  1980  ...  2004  2005  2006  2007  2008  2009  \\\n",
       "0  902  Developing regions    16  ...  2978  3436  3009  2652  2111  1746   \n",
       "1  901   Developed regions     1  ...  1450  1223   856   702   560   716   \n",
       "\n",
       "   2010  2011  2012  2013  \n",
       "0  1758  2203  2635  2004  \n",
       "1   561   539   620   603  \n",
       "\n",
       "[2 rows x 43 columns]"
      ]
     },
     "execution_count": 3,
     "metadata": {},
     "output_type": "execute_result"
    }
   ],
   "source": [
    "# Importation du fichier excel\n",
    "df = pd.read_excel(\n",
    "    path,\n",
    "    sheet_name='Canada by Citizenship',\n",
    "    skiprows=range(20),\n",
    "    skipfooter=2\n",
    "    , usecols=\"A:AQ\")\n",
    "\n",
    "# Affichage\n",
    "df.head(2)"
   ]
  },
  {
   "cell_type": "code",
   "execution_count": 4,
   "metadata": {},
   "outputs": [
    {
     "data": {
      "text/plain": [
       "(195, 43)"
      ]
     },
     "metadata": {},
     "output_type": "display_data"
    },
    {
     "name": "stdout",
     "output_type": "stream",
     "text": [
      "<class 'pandas.core.frame.DataFrame'>\n",
      "RangeIndex: 195 entries, 0 to 194\n",
      "Columns: 43 entries, Type to 2013\n",
      "dtypes: int64(37), object(6)\n",
      "memory usage: 65.6+ KB\n"
     ]
    }
   ],
   "source": [
    "# Dimension\n",
    "display(df.shape)\n",
    "# DES NA ?\n",
    "df.isnull().sum()\n",
    "# Info\n",
    "df.info(verbose=False)"
   ]
  },
  {
   "cell_type": "markdown",
   "metadata": {},
   "source": [
    "# NETTOYAGE avec pandas"
   ]
  },
  {
   "cell_type": "markdown",
   "metadata": {},
   "source": [
    "### SUPPRIMER DES COLONNES"
   ]
  },
  {
   "cell_type": "code",
   "execution_count": 5,
   "metadata": {},
   "outputs": [
    {
     "data": {
      "text/html": [
       "<div>\n",
       "<style scoped>\n",
       "    .dataframe tbody tr th:only-of-type {\n",
       "        vertical-align: middle;\n",
       "    }\n",
       "\n",
       "    .dataframe tbody tr th {\n",
       "        vertical-align: top;\n",
       "    }\n",
       "\n",
       "    .dataframe thead th {\n",
       "        text-align: right;\n",
       "    }\n",
       "</style>\n",
       "<table border=\"1\" class=\"dataframe\">\n",
       "  <thead>\n",
       "    <tr style=\"text-align: right;\">\n",
       "      <th></th>\n",
       "      <th>OdName</th>\n",
       "      <th>AreaName</th>\n",
       "      <th>RegName</th>\n",
       "      <th>DevName</th>\n",
       "      <th>1980</th>\n",
       "      <th>1981</th>\n",
       "      <th>1982</th>\n",
       "      <th>1983</th>\n",
       "      <th>1984</th>\n",
       "      <th>1985</th>\n",
       "      <th>...</th>\n",
       "      <th>2004</th>\n",
       "      <th>2005</th>\n",
       "      <th>2006</th>\n",
       "      <th>2007</th>\n",
       "      <th>2008</th>\n",
       "      <th>2009</th>\n",
       "      <th>2010</th>\n",
       "      <th>2011</th>\n",
       "      <th>2012</th>\n",
       "      <th>2013</th>\n",
       "    </tr>\n",
       "  </thead>\n",
       "  <tbody>\n",
       "    <tr>\n",
       "      <th>0</th>\n",
       "      <td>Afghanistan</td>\n",
       "      <td>Asia</td>\n",
       "      <td>Southern Asia</td>\n",
       "      <td>Developing regions</td>\n",
       "      <td>16</td>\n",
       "      <td>39</td>\n",
       "      <td>39</td>\n",
       "      <td>47</td>\n",
       "      <td>71</td>\n",
       "      <td>340</td>\n",
       "      <td>...</td>\n",
       "      <td>2978</td>\n",
       "      <td>3436</td>\n",
       "      <td>3009</td>\n",
       "      <td>2652</td>\n",
       "      <td>2111</td>\n",
       "      <td>1746</td>\n",
       "      <td>1758</td>\n",
       "      <td>2203</td>\n",
       "      <td>2635</td>\n",
       "      <td>2004</td>\n",
       "    </tr>\n",
       "    <tr>\n",
       "      <th>1</th>\n",
       "      <td>Albania</td>\n",
       "      <td>Europe</td>\n",
       "      <td>Southern Europe</td>\n",
       "      <td>Developed regions</td>\n",
       "      <td>1</td>\n",
       "      <td>0</td>\n",
       "      <td>0</td>\n",
       "      <td>0</td>\n",
       "      <td>0</td>\n",
       "      <td>0</td>\n",
       "      <td>...</td>\n",
       "      <td>1450</td>\n",
       "      <td>1223</td>\n",
       "      <td>856</td>\n",
       "      <td>702</td>\n",
       "      <td>560</td>\n",
       "      <td>716</td>\n",
       "      <td>561</td>\n",
       "      <td>539</td>\n",
       "      <td>620</td>\n",
       "      <td>603</td>\n",
       "    </tr>\n",
       "  </tbody>\n",
       "</table>\n",
       "<p>2 rows × 38 columns</p>\n",
       "</div>"
      ],
      "text/plain": [
       "        OdName AreaName          RegName             DevName  1980  1981  \\\n",
       "0  Afghanistan     Asia    Southern Asia  Developing regions    16    39   \n",
       "1      Albania   Europe  Southern Europe   Developed regions     1     0   \n",
       "\n",
       "   1982  1983  1984  1985  ...  2004  2005  2006  2007  2008  2009  2010  \\\n",
       "0    39    47    71   340  ...  2978  3436  3009  2652  2111  1746  1758   \n",
       "1     0     0     0     0  ...  1450  1223   856   702   560   716   561   \n",
       "\n",
       "   2011  2012  2013  \n",
       "0  2203  2635  2004  \n",
       "1   539   620   603  \n",
       "\n",
       "[2 rows x 38 columns]"
      ]
     },
     "execution_count": 5,
     "metadata": {},
     "output_type": "execute_result"
    }
   ],
   "source": [
    "# SUPPRESSION  axis=0 represente rows (default) et axis=1 represente columns.\n",
    "df.drop(['AREA','REG','DEV','Type','Coverage'], axis=1, inplace=True)\n",
    "df.head(2)"
   ]
  },
  {
   "cell_type": "markdown",
   "metadata": {},
   "source": [
    "### RENOMMER LES COLONNES"
   ]
  },
  {
   "cell_type": "code",
   "execution_count": 6,
   "metadata": {},
   "outputs": [],
   "source": [
    "# 1er manière\n",
    "df.rename(columns={'OdName':'Country', 'AreaName':'Continent', 'RegName':'Region'}, inplace=True)\n",
    "\n",
    "# 2e manière moins fun - renommer l'ensemble\n",
    "# df.columns # Copie la liste et change celle que l'on désire\n",
    "# df.columns = ['Name','Age','Roll_no']"
   ]
  },
  {
   "cell_type": "markdown",
   "metadata": {},
   "source": [
    "### AJOUT DE COLONNE\n",
    "     axis=0 represent rows (default) et axis=1 represent columns."
   ]
  },
  {
   "cell_type": "code",
   "execution_count": 9,
   "metadata": {},
   "outputs": [
    {
     "data": {
      "text/html": [
       "<div>\n",
       "<style scoped>\n",
       "    .dataframe tbody tr th:only-of-type {\n",
       "        vertical-align: middle;\n",
       "    }\n",
       "\n",
       "    .dataframe tbody tr th {\n",
       "        vertical-align: top;\n",
       "    }\n",
       "\n",
       "    .dataframe thead th {\n",
       "        text-align: right;\n",
       "    }\n",
       "</style>\n",
       "<table border=\"1\" class=\"dataframe\">\n",
       "  <thead>\n",
       "    <tr style=\"text-align: right;\">\n",
       "      <th></th>\n",
       "      <th>Country</th>\n",
       "      <th>Continent</th>\n",
       "      <th>Region</th>\n",
       "      <th>DevName</th>\n",
       "      <th>1980</th>\n",
       "      <th>1981</th>\n",
       "      <th>1982</th>\n",
       "      <th>1983</th>\n",
       "      <th>1984</th>\n",
       "      <th>1985</th>\n",
       "      <th>...</th>\n",
       "      <th>2005</th>\n",
       "      <th>2006</th>\n",
       "      <th>2007</th>\n",
       "      <th>2008</th>\n",
       "      <th>2009</th>\n",
       "      <th>2010</th>\n",
       "      <th>2011</th>\n",
       "      <th>2012</th>\n",
       "      <th>2013</th>\n",
       "      <th>Total</th>\n",
       "    </tr>\n",
       "  </thead>\n",
       "  <tbody>\n",
       "    <tr>\n",
       "      <th>0</th>\n",
       "      <td>Afghanistan</td>\n",
       "      <td>Asia</td>\n",
       "      <td>Southern Asia</td>\n",
       "      <td>Developing regions</td>\n",
       "      <td>16</td>\n",
       "      <td>39</td>\n",
       "      <td>39</td>\n",
       "      <td>47</td>\n",
       "      <td>71</td>\n",
       "      <td>340</td>\n",
       "      <td>...</td>\n",
       "      <td>3436</td>\n",
       "      <td>3009</td>\n",
       "      <td>2652</td>\n",
       "      <td>2111</td>\n",
       "      <td>1746</td>\n",
       "      <td>1758</td>\n",
       "      <td>2203</td>\n",
       "      <td>2635</td>\n",
       "      <td>2004</td>\n",
       "      <td>117278</td>\n",
       "    </tr>\n",
       "    <tr>\n",
       "      <th>1</th>\n",
       "      <td>Albania</td>\n",
       "      <td>Europe</td>\n",
       "      <td>Southern Europe</td>\n",
       "      <td>Developed regions</td>\n",
       "      <td>1</td>\n",
       "      <td>0</td>\n",
       "      <td>0</td>\n",
       "      <td>0</td>\n",
       "      <td>0</td>\n",
       "      <td>0</td>\n",
       "      <td>...</td>\n",
       "      <td>1223</td>\n",
       "      <td>856</td>\n",
       "      <td>702</td>\n",
       "      <td>560</td>\n",
       "      <td>716</td>\n",
       "      <td>561</td>\n",
       "      <td>539</td>\n",
       "      <td>620</td>\n",
       "      <td>603</td>\n",
       "      <td>31398</td>\n",
       "    </tr>\n",
       "  </tbody>\n",
       "</table>\n",
       "<p>2 rows × 39 columns</p>\n",
       "</div>"
      ],
      "text/plain": [
       "       Country Continent           Region             DevName  1980  1981  \\\n",
       "0  Afghanistan      Asia    Southern Asia  Developing regions    16    39   \n",
       "1      Albania    Europe  Southern Europe   Developed regions     1     0   \n",
       "\n",
       "   1982  1983  1984  1985  ...  2005  2006  2007  2008  2009  2010  2011  \\\n",
       "0    39    47    71   340  ...  3436  3009  2652  2111  1746  1758  2203   \n",
       "1     0     0     0     0  ...  1223   856   702   560   716   561   539   \n",
       "\n",
       "   2012  2013   Total  \n",
       "0  2635  2004  117278  \n",
       "1   620   603   31398  \n",
       "\n",
       "[2 rows x 39 columns]"
      ]
     },
     "execution_count": 9,
     "metadata": {},
     "output_type": "execute_result"
    }
   ],
   "source": [
    "df['Total'] = df.sum(axis=1)\n",
    "df.head(2)"
   ]
  },
  {
   "cell_type": "markdown",
   "metadata": {},
   "source": [
    "### INITIALISATION des INDEX"
   ]
  },
  {
   "cell_type": "code",
   "execution_count": 10,
   "metadata": {},
   "outputs": [],
   "source": [
    "df.set_index('Country', inplace=True)"
   ]
  },
  {
   "cell_type": "markdown",
   "metadata": {},
   "source": [
    "# QUESTIONS"
   ]
  },
  {
   "cell_type": "markdown",
   "metadata": {},
   "source": [
    "### _ Line Plot Haiti\n",
    "__Question 1: Tracez un line Plot de l'immigration en provenance d'Haïti en utilisant df.plot().__\n",
    "\n",
    "Remarquez comment le nombre d'immigrants d'Haïti a augmenté depuis 2010, le Canada a accepté des réfugiés d'Haïti en raison du tremblement de terre.\n",
    "\n",
    "Annotez ce pic dans le tracé en utilisant la méthode plt.text(). "
   ]
  },
  {
   "cell_type": "code",
   "execution_count": 11,
   "metadata": {},
   "outputs": [
    {
     "data": {
      "text/plain": [
       "1980    1666\n",
       "1981    3692\n",
       "Name: Haiti, dtype: object"
      ]
     },
     "execution_count": 11,
     "metadata": {},
     "output_type": "execute_result"
    }
   ],
   "source": [
    "# SELECTION DES LIGNES PERTINENTES\n",
    "years = list(range(1980, 2014))\n",
    "haiti = df.loc['Haiti', years]\n",
    "haiti.head(2)"
   ]
  },
  {
   "cell_type": "code",
   "execution_count": 289,
   "metadata": {},
   "outputs": [
    {
     "data": {
      "image/png": "[encoded data removed]",
      "text/plain": [
       "<Figure size 576x432 with 1 Axes>"
      ]
     },
     "metadata": {
      "needs_background": "light"
     },
     "output_type": "display_data"
    }
   ],
   "source": [
    "# CREATION DE GRAPHIQUE\n",
    "haiti.plot(kind='line', figsize=(8,6))\n",
    "\n",
    "plt.title('Immigration provenant Haiti')\n",
    "plt.ylabel(\"Nombre d'Immigrants\")\n",
    "plt.xlabel('Années')\n",
    "\n",
    "plt.text(2000, 6000, 'Tremblement de terre* \\n en 2010') # ajout d'une note\n",
    "plt.axvline(2010, color='red') # ajout du ligne de référence\n",
    "plt.show() "
   ]
  },
  {
   "cell_type": "markdown",
   "metadata": {},
   "source": [
    "### _ Line PLot Inde et Chine\n",
    "__Question 2: Comparez avec un line plot le nombre d'immigrants en provenance d'Inde et de Chine de 1980 à 2013.__\n"
   ]
  },
  {
   "cell_type": "code",
   "execution_count": 13,
   "metadata": {},
   "outputs": [
    {
     "data": {
      "text/html": [
       "<div>\n",
       "<style scoped>\n",
       "    .dataframe tbody tr th:only-of-type {\n",
       "        vertical-align: middle;\n",
       "    }\n",
       "\n",
       "    .dataframe tbody tr th {\n",
       "        vertical-align: top;\n",
       "    }\n",
       "\n",
       "    .dataframe thead th {\n",
       "        text-align: right;\n",
       "    }\n",
       "</style>\n",
       "<table border=\"1\" class=\"dataframe\">\n",
       "  <thead>\n",
       "    <tr style=\"text-align: right;\">\n",
       "      <th>Country</th>\n",
       "      <th>India</th>\n",
       "      <th>China</th>\n",
       "    </tr>\n",
       "  </thead>\n",
       "  <tbody>\n",
       "    <tr>\n",
       "      <th>1980</th>\n",
       "      <td>8880</td>\n",
       "      <td>5123</td>\n",
       "    </tr>\n",
       "    <tr>\n",
       "      <th>1981</th>\n",
       "      <td>8670</td>\n",
       "      <td>6682</td>\n",
       "    </tr>\n",
       "  </tbody>\n",
       "</table>\n",
       "</div>"
      ],
      "text/plain": [
       "Country  India  China\n",
       "1980      8880   5123\n",
       "1981      8670   6682"
      ]
     },
     "execution_count": 13,
     "metadata": {},
     "output_type": "execute_result"
    }
   ],
   "source": [
    "# SELECTION DES LIGNES PERTINENTES\n",
    "df_CI = df.loc[['India', 'China'], years]\n",
    "df_CI = df_CI.transpose()\n",
    "df_CI.head(2)"
   ]
  },
  {
   "cell_type": "code",
   "execution_count": 14,
   "metadata": {},
   "outputs": [
    {
     "data": {
      "text/plain": [
       "<AxesSubplot:>"
      ]
     },
     "execution_count": 14,
     "metadata": {},
     "output_type": "execute_result"
    },
    {
     "data": {
      "image/png": "[encoded data removed]",
      "text/plain": [
       "<Figure size 432x288 with 1 Axes>"
      ]
     },
     "metadata": {
      "needs_background": "light"
     },
     "output_type": "display_data"
    }
   ],
   "source": [
    "# CREATION DE GRAPHIQUE\n",
    "df_CI.plot(kind='line')"
   ]
  },
  {
   "cell_type": "markdown",
   "metadata": {},
   "source": [
    "### _ Line Plot Top 5 pays\n",
    "__Question 3: Comparez l'évolution  des 5 pays qui ont le plus contribué à l'immigration au Canada avec un line plot.__ "
   ]
  },
  {
   "cell_type": "code",
   "execution_count": 15,
   "metadata": {},
   "outputs": [],
   "source": [
    "# SELECTION DES 5 PREMIERS\n",
    "df.sort_values(by='Total', ascending=False, axis=0, inplace=True)\n",
    "\n",
    "df_top5 = df.head(5)"
   ]
  },
  {
   "cell_type": "code",
   "execution_count": 16,
   "metadata": {},
   "outputs": [
    {
     "data": {
      "text/html": [
       "<div>\n",
       "<style scoped>\n",
       "    .dataframe tbody tr th:only-of-type {\n",
       "        vertical-align: middle;\n",
       "    }\n",
       "\n",
       "    .dataframe tbody tr th {\n",
       "        vertical-align: top;\n",
       "    }\n",
       "\n",
       "    .dataframe thead th {\n",
       "        text-align: right;\n",
       "    }\n",
       "</style>\n",
       "<table border=\"1\" class=\"dataframe\">\n",
       "  <thead>\n",
       "    <tr style=\"text-align: right;\">\n",
       "      <th>Country</th>\n",
       "      <th>India</th>\n",
       "      <th>China</th>\n",
       "      <th>United Kingdom of Great Britain and Northern Ireland</th>\n",
       "      <th>Philippines</th>\n",
       "      <th>Pakistan</th>\n",
       "    </tr>\n",
       "  </thead>\n",
       "  <tbody>\n",
       "    <tr>\n",
       "      <th>1980</th>\n",
       "      <td>8880</td>\n",
       "      <td>5123</td>\n",
       "      <td>22045</td>\n",
       "      <td>6051</td>\n",
       "      <td>978</td>\n",
       "    </tr>\n",
       "    <tr>\n",
       "      <th>1981</th>\n",
       "      <td>8670</td>\n",
       "      <td>6682</td>\n",
       "      <td>24796</td>\n",
       "      <td>5921</td>\n",
       "      <td>972</td>\n",
       "    </tr>\n",
       "  </tbody>\n",
       "</table>\n",
       "</div>"
      ],
      "text/plain": [
       "Country  India  China  United Kingdom of Great Britain and Northern Ireland  \\\n",
       "1980      8880   5123                                              22045      \n",
       "1981      8670   6682                                              24796      \n",
       "\n",
       "Country  Philippines  Pakistan  \n",
       "1980            6051       978  \n",
       "1981            5921       972  "
      ]
     },
     "execution_count": 16,
     "metadata": {},
     "output_type": "execute_result"
    }
   ],
   "source": [
    "# TRANSPOSE\n",
    "df_top5 = df_top5[years].transpose() \n",
    "df_top5.head(2)"
   ]
  },
  {
   "cell_type": "code",
   "execution_count": 18,
   "metadata": {},
   "outputs": [],
   "source": [
    "# RENAME COLONNE\n",
    "df_top5.rename(columns={\"United Kingdom of Great Britain and Northern Ireland\": \"United Kingdom\"}, inplace=True)"
   ]
  },
  {
   "cell_type": "code",
   "execution_count": 19,
   "metadata": {},
   "outputs": [
    {
     "data": {
      "image/png": "[encoded data removed]",
      "text/plain": [
       "<Figure size 1008x576 with 1 Axes>"
      ]
     },
     "metadata": {
      "needs_background": "light"
     },
     "output_type": "display_data"
    }
   ],
   "source": [
    "# CREATION GRAPHIQUE\n",
    "df_top5.plot(kind='line', figsize=(14, 8)) \n",
    "plt.title(\"Evolution de l'immigration - Top 5 Pays\")\n",
    "plt.ylabel(\"Nombre d'Immigrants\")\n",
    "plt.xlabel('Années')\n",
    "# plt.legend(['label1', 'label2', 'label3','label4','label5']) si ne renomme pas les colonnes\n",
    "plt.show()"
   ]
  },
  {
   "cell_type": "markdown",
   "metadata": {},
   "source": [
    "### _ Top 5 pays Arae Plot\n",
    "__Question 4: Comparez l'évolution des 5 pays qui ont le plus contribué à l'immigration au Canada avec un Arae plot unstacked et avec une transparence alpha de 0.25__"
   ]
  },
  {
   "cell_type": "code",
   "execution_count": 20,
   "metadata": {},
   "outputs": [
    {
     "data": {
      "image/png": "[encoded data removed]",
      "text/plain": [
       "<Figure size 1440x720 with 1 Axes>"
      ]
     },
     "metadata": {
      "needs_background": "light"
     },
     "output_type": "display_data"
    }
   ],
   "source": [
    "df_top5.plot(kind='area',\n",
    "             stacked=False,\n",
    "             figsize=(20, 10),\n",
    "             alpha=0.25)  \n",
    "\n",
    "plt.title(\"Evolution de l'immigration - Top 5 Pays\")\n",
    "plt.ylabel(\"Nombre d'Immigrants\")\n",
    "plt.xlabel('Années')\n",
    "\n",
    "plt.show()"
   ]
  },
  {
   "cell_type": "markdown",
   "metadata": {},
   "source": [
    "### _ Iceland Bar plot et Line Plot\n",
    "__Question 5: Comparez le nombre d'immigrants islandais (pays = 'Iceland') au Canada de 1980 à 2013. Et ajouter une annotation avec plt.annotate() disant 2008 - 2011  crise financière__"
   ]
  },
  {
   "cell_type": "code",
   "execution_count": 21,
   "metadata": {},
   "outputs": [
    {
     "data": {
      "text/plain": [
       "1980    17\n",
       "1981    33\n",
       "1982    10\n",
       "1983     9\n",
       "1984    13\n",
       "Name: Iceland, dtype: object"
      ]
     },
     "execution_count": 21,
     "metadata": {},
     "output_type": "execute_result"
    }
   ],
   "source": [
    "df_iceland = df.loc['Iceland', years]\n",
    "df_iceland.head()"
   ]
  },
  {
   "cell_type": "code",
   "execution_count": 27,
   "metadata": {},
   "outputs": [
    {
     "data": {
      "image/png": "[encoded data removed]",
      "text/plain": [
       "<Figure size 720x432 with 1 Axes>"
      ]
     },
     "metadata": {
      "needs_background": "light"
     },
     "output_type": "display_data"
    }
   ],
   "source": [
    "# CREATION GRAPHIQUE BAR PLOT\n",
    "df_iceland.plot(kind='bar', figsize=(10, 6))\n",
    "\n",
    "plt.ylabel(\"Nombre d'Immigrants\")\n",
    "plt.xlabel('Années')\n",
    "plt.title('Immigrant Islandais de 1980 à 2013') \n",
    "# Annotate arrow\n",
    "plt.annotate('',  \n",
    "             xy=(32, 70),  # (Annee 2012 , nbre 70)\n",
    "             xytext=(28, 70),  # (Annee 2008 , nbre 70)\n",
    "             arrowprops=dict(arrowstyle='->', connectionstyle='arc3', color='#FF796C', lw=2)\n",
    "             )\n",
    "\n",
    "# Annotate Text\n",
    "plt.annotate('2008 - 2011 Crise financière',  \n",
    "             xy=(21, 65),  # (Année 2008 , Nombre 65)\n",
    "             )\n",
    "plt.show()"
   ]
  },
  {
   "cell_type": "code",
   "execution_count": 303,
   "metadata": {
    "scrolled": false
   },
   "outputs": [
    {
     "data": {
      "image/png": "[encoded data removed]",
      "text/plain": [
       "<Figure size 1008x576 with 1 Axes>"
      ]
     },
     "metadata": {
      "needs_background": "light"
     },
     "output_type": "display_data"
    }
   ],
   "source": [
    "# CREATION GRAPHIQUE LINE PLOT\n",
    "df_iceland.plot(kind='line', figsize=(14, 8)) \n",
    "plt.ylabel(\"Nombre d'Immigrants\")\n",
    "plt.xlabel('Années')\n",
    "plt.title('Immigrant Islandais de 1980 à 2013')\n",
    "plt.axvspan(2008, 2011, facecolor='#F5F5DC')\n",
    "plt.text(2004, 70, 'Crise financière >') # ajout d'une note\n",
    "plt.show()"
   ]
  },
  {
   "cell_type": "markdown",
   "metadata": {},
   "source": [
    "### _ Top 15 pays Bar plot\n",
    "__Question 6: Créez un Bar plot horizontales montrant le nombre total d'immigrants au Canada en provenance des 15 principaux pays, pour la période 1980-2013.__"
   ]
  },
  {
   "cell_type": "code",
   "execution_count": 35,
   "metadata": {},
   "outputs": [],
   "source": [
    "# SELECTION DES LIGNES PERTINENTES\n",
    "df.sort_values(by='Total', ascending=True, inplace=True)\n",
    "\n",
    "# Obtenir top 15\n",
    "df_top15 = df['Total'].tail(15)\n",
    "df_top15.rename(index={'United Kingdom of Great Britain and Northern Ireland': 'United Kingdom'}, inplace=True)"
   ]
  },
  {
   "cell_type": "code",
   "execution_count": 40,
   "metadata": {},
   "outputs": [
    {
     "data": {
      "image/png": "[encoded data removed]",
      "text/plain": [
       "<Figure size 864x864 with 1 Axes>"
      ]
     },
     "metadata": {
      "needs_background": "light"
     },
     "output_type": "display_data"
    }
   ],
   "source": [
    "# CREATION GRAPHIQUE\n",
    "df_top15.plot(kind='barh', figsize=(12, 12), color='#06C2AC')\n",
    "plt.ylabel(\"Nombre d'Immigrants\")\n",
    "plt.title(\"Top 15 des poays contribuant  le plus à l'immigration au Canada entre 1980 - 2013\")\n",
    "\n",
    "# annotate value labels to each country\n",
    "for index, value in enumerate(df_top15): \n",
    "    label = format(int(value), ',') \n",
    "    plt.annotate(label, xy=(value - 47000, index - 0.10), color='black')\n",
    "#plt.xlim(0,1500000)\n",
    "\n",
    "plt.show()"
   ]
  },
  {
   "cell_type": "markdown",
   "metadata": {},
   "source": [
    "### _ Continent Pie plot\n",
    "__Question 7: Comparez le nombre total d'immigration pour chaque continent au moyen d'un Pie plot__"
   ]
  },
  {
   "cell_type": "code",
   "execution_count": 41,
   "metadata": {},
   "outputs": [
    {
     "data": {
      "text/html": [
       "<div>\n",
       "<style scoped>\n",
       "    .dataframe tbody tr th:only-of-type {\n",
       "        vertical-align: middle;\n",
       "    }\n",
       "\n",
       "    .dataframe tbody tr th {\n",
       "        vertical-align: top;\n",
       "    }\n",
       "\n",
       "    .dataframe thead th {\n",
       "        text-align: right;\n",
       "    }\n",
       "</style>\n",
       "<table border=\"1\" class=\"dataframe\">\n",
       "  <thead>\n",
       "    <tr style=\"text-align: right;\">\n",
       "      <th></th>\n",
       "      <th>1980</th>\n",
       "      <th>1981</th>\n",
       "      <th>1982</th>\n",
       "      <th>1983</th>\n",
       "      <th>1984</th>\n",
       "      <th>1985</th>\n",
       "      <th>1986</th>\n",
       "      <th>1987</th>\n",
       "      <th>1988</th>\n",
       "      <th>1989</th>\n",
       "      <th>...</th>\n",
       "      <th>2005</th>\n",
       "      <th>2006</th>\n",
       "      <th>2007</th>\n",
       "      <th>2008</th>\n",
       "      <th>2009</th>\n",
       "      <th>2010</th>\n",
       "      <th>2011</th>\n",
       "      <th>2012</th>\n",
       "      <th>2013</th>\n",
       "      <th>Total</th>\n",
       "    </tr>\n",
       "    <tr>\n",
       "      <th>Continent</th>\n",
       "      <th></th>\n",
       "      <th></th>\n",
       "      <th></th>\n",
       "      <th></th>\n",
       "      <th></th>\n",
       "      <th></th>\n",
       "      <th></th>\n",
       "      <th></th>\n",
       "      <th></th>\n",
       "      <th></th>\n",
       "      <th></th>\n",
       "      <th></th>\n",
       "      <th></th>\n",
       "      <th></th>\n",
       "      <th></th>\n",
       "      <th></th>\n",
       "      <th></th>\n",
       "      <th></th>\n",
       "      <th></th>\n",
       "      <th></th>\n",
       "      <th></th>\n",
       "    </tr>\n",
       "  </thead>\n",
       "  <tbody>\n",
       "    <tr>\n",
       "      <th>Asia</th>\n",
       "      <td>31025</td>\n",
       "      <td>34314</td>\n",
       "      <td>30214</td>\n",
       "      <td>24696</td>\n",
       "      <td>27274</td>\n",
       "      <td>23850</td>\n",
       "      <td>28739</td>\n",
       "      <td>43203</td>\n",
       "      <td>47454</td>\n",
       "      <td>60256</td>\n",
       "      <td>...</td>\n",
       "      <td>159253</td>\n",
       "      <td>149054</td>\n",
       "      <td>133459</td>\n",
       "      <td>139894</td>\n",
       "      <td>141434</td>\n",
       "      <td>163845</td>\n",
       "      <td>146894</td>\n",
       "      <td>152218</td>\n",
       "      <td>155075</td>\n",
       "      <td>6635588</td>\n",
       "    </tr>\n",
       "    <tr>\n",
       "      <th>Europe</th>\n",
       "      <td>39760</td>\n",
       "      <td>44802</td>\n",
       "      <td>42720</td>\n",
       "      <td>24638</td>\n",
       "      <td>22287</td>\n",
       "      <td>20844</td>\n",
       "      <td>24370</td>\n",
       "      <td>46698</td>\n",
       "      <td>54726</td>\n",
       "      <td>60893</td>\n",
       "      <td>...</td>\n",
       "      <td>35955</td>\n",
       "      <td>33053</td>\n",
       "      <td>33495</td>\n",
       "      <td>34692</td>\n",
       "      <td>35078</td>\n",
       "      <td>33425</td>\n",
       "      <td>26778</td>\n",
       "      <td>29177</td>\n",
       "      <td>28691</td>\n",
       "      <td>2821894</td>\n",
       "    </tr>\n",
       "  </tbody>\n",
       "</table>\n",
       "<p>2 rows × 35 columns</p>\n",
       "</div>"
      ],
      "text/plain": [
       "            1980   1981   1982   1983   1984   1985   1986   1987   1988  \\\n",
       "Continent                                                                  \n",
       "Asia       31025  34314  30214  24696  27274  23850  28739  43203  47454   \n",
       "Europe     39760  44802  42720  24638  22287  20844  24370  46698  54726   \n",
       "\n",
       "            1989  ...    2005    2006    2007    2008    2009    2010    2011  \\\n",
       "Continent         ...                                                           \n",
       "Asia       60256  ...  159253  149054  133459  139894  141434  163845  146894   \n",
       "Europe     60893  ...   35955   33053   33495   34692   35078   33425   26778   \n",
       "\n",
       "             2012    2013    Total  \n",
       "Continent                           \n",
       "Asia       152218  155075  6635588  \n",
       "Europe      29177   28691  2821894  \n",
       "\n",
       "[2 rows x 35 columns]"
      ]
     },
     "execution_count": 41,
     "metadata": {},
     "output_type": "execute_result"
    }
   ],
   "source": [
    "# SELECTION DES DONNEES PERTINENTES\n",
    "df_continents = df.groupby('Continent', axis=0).sum()\n",
    "df_continents.sort_values(by='Total', ascending=False, inplace=True)\n",
    "df_continents.head(2)"
   ]
  },
  {
   "cell_type": "code",
   "execution_count": 307,
   "metadata": {},
   "outputs": [
    {
     "data": {
      "image/png": "[encoded data removed]",
      "text/plain": [
       "<Figure size 1080x432 with 1 Axes>"
      ]
     },
     "metadata": {},
     "output_type": "display_data"
    }
   ],
   "source": [
    "# CREATION GRAPHIQUE\n",
    "colors_list = ['gold', 'lightcoral', '#C5C9C7', 'lightblue', 'lightskyblue', '#808080']\n",
    "explode_list = [0.1, 0, 0, 0, 0, 0] # ratio for each continent with which to offset each wedge.\n",
    "\n",
    "df_continents['Total'].plot(kind='pie',\n",
    "                            figsize=(15, 6),\n",
    "                            autopct='%1.1f%%', \n",
    "                            startangle=90,    \n",
    "                            #shadow=True,       \n",
    "                            labels=None,         # turn off labels on pie chart\n",
    "                            pctdistance=1.12,    # pisition du ratio par rapport au centre \n",
    "                            colors=colors_list,  # Couleur\n",
    "                            explode=explode_list # 'explode' \n",
    "                            )\n",
    "\n",
    "# scale the title up by 12% to match pctdistance\n",
    "plt.title('Immigration par Continent entre 1980 - 2013', y=1.12) \n",
    "plt.axis('equal') \n",
    "\n",
    "# add legend\n",
    "plt.legend(labels=df_continents.index, loc='upper left') \n",
    "\n",
    "plt.show()"
   ]
  },
  {
   "cell_type": "markdown",
   "metadata": {},
   "source": [
    "### _ France-Belgique Boxplot\n",
    "__Question 8: Comparez la distribution des immigrants Francais et Belges au Canada au moyen d'un Boxplot__"
   ]
  },
  {
   "cell_type": "code",
   "execution_count": 308,
   "metadata": {},
   "outputs": [
    {
     "data": {
      "text/html": [
       "<div>\n",
       "<style scoped>\n",
       "    .dataframe tbody tr th:only-of-type {\n",
       "        vertical-align: middle;\n",
       "    }\n",
       "\n",
       "    .dataframe tbody tr th {\n",
       "        vertical-align: top;\n",
       "    }\n",
       "\n",
       "    .dataframe thead th {\n",
       "        text-align: right;\n",
       "    }\n",
       "</style>\n",
       "<table border=\"1\" class=\"dataframe\">\n",
       "  <thead>\n",
       "    <tr style=\"text-align: right;\">\n",
       "      <th>Country</th>\n",
       "      <th>France</th>\n",
       "      <th>Belgium</th>\n",
       "    </tr>\n",
       "  </thead>\n",
       "  <tbody>\n",
       "    <tr>\n",
       "      <th>1980</th>\n",
       "      <td>1729</td>\n",
       "      <td>511</td>\n",
       "    </tr>\n",
       "    <tr>\n",
       "      <th>1981</th>\n",
       "      <td>2027</td>\n",
       "      <td>540</td>\n",
       "    </tr>\n",
       "    <tr>\n",
       "      <th>1982</th>\n",
       "      <td>2219</td>\n",
       "      <td>519</td>\n",
       "    </tr>\n",
       "    <tr>\n",
       "      <th>1983</th>\n",
       "      <td>1490</td>\n",
       "      <td>297</td>\n",
       "    </tr>\n",
       "    <tr>\n",
       "      <th>1984</th>\n",
       "      <td>1169</td>\n",
       "      <td>183</td>\n",
       "    </tr>\n",
       "  </tbody>\n",
       "</table>\n",
       "</div>"
      ],
      "text/plain": [
       "Country  France  Belgium\n",
       "1980       1729      511\n",
       "1981       2027      540\n",
       "1982       2219      519\n",
       "1983       1490      297\n",
       "1984       1169      183"
      ]
     },
     "execution_count": 308,
     "metadata": {},
     "output_type": "execute_result"
    }
   ],
   "source": [
    "# SELECTION DES DONNEES \n",
    "df_BEFR= df.loc[['France', 'Belgium'], years].transpose()\n",
    "df_BEFR.head()"
   ]
  },
  {
   "cell_type": "code",
   "execution_count": 309,
   "metadata": {},
   "outputs": [
    {
     "data": {
      "image/png": "[encoded data removed]",
      "text/plain": [
       "<Figure size 720x504 with 1 Axes>"
      ]
     },
     "metadata": {
      "needs_background": "light"
     },
     "output_type": "display_data"
    }
   ],
   "source": [
    "# CREATION GRAPHIQUE\n",
    "df_BEFR.plot(kind='box', figsize=(10, 7), vert=False)\n",
    "\n",
    "plt.title('Box plots Immigration provenant Belgique et France (1980 - 2013)')\n",
    "plt.xlabel(\"Nombre d'Immigrants\")\n",
    "\n",
    "plt.show()"
   ]
  },
  {
   "cell_type": "code",
   "execution_count": 310,
   "metadata": {},
   "outputs": [
    {
     "data": {
      "image/png": "[encoded data removed]",
      "text/plain": [
       "<Figure size 1440x432 with 2 Axes>"
      ]
     },
     "metadata": {
      "needs_background": "light"
     },
     "output_type": "display_data"
    }
   ],
   "source": [
    "# CREATION SUBPLOT\n",
    "fig = plt.figure() \n",
    "\n",
    "ax0 = fig.add_subplot(1, 2, 1) #  (1 row, 2 columns, first plot)\n",
    "ax1 = fig.add_subplot(1, 2, 2) #  (1 row, 2 columns, second plot)\n",
    "\n",
    "# Subplot 1: Box plot\n",
    "df_BEFR.plot(kind='box', color='#06C2AC', vert=True, figsize=(20, 6), ax=ax0) # add to subplot 1\n",
    "ax0.set_title('Immigration Belgique-France au Canada (1980 - 2013)')\n",
    "ax0.set_xlabel(\"Nombre d'Immigrants\")\n",
    "ax0.set_ylabel('Pays')\n",
    "\n",
    "# Subplot 2: Line plot\n",
    "df_BEFR.plot(kind='line', figsize=(20, 6), ax=ax1) # add to subplot 2\n",
    "ax1.set_title (\"Evolution de l'mmigration Belgique-France au Canada (1980 - 2013)\")\n",
    "ax1.set_ylabel(\"Nombre d'Immigrants\")\n",
    "ax1.set_xlabel('Années')\n",
    "\n",
    "plt.show()"
   ]
  },
  {
   "cell_type": "markdown",
   "metadata": {},
   "source": [
    "### _ Regression linéaire scatter plot\n",
    "__Question 9: Visualisez l'evolution de l'immigration totale au Canada (tous pays confondus) pour les années 1980 à 2013 au moyen d'un scatter plot. Ajouter également une droite de régression linéaire sur votre graphique__ "
   ]
  },
  {
   "cell_type": "code",
   "execution_count": 338,
   "metadata": {},
   "outputs": [
    {
     "data": {
      "text/html": [
       "<div>\n",
       "<style scoped>\n",
       "    .dataframe tbody tr th:only-of-type {\n",
       "        vertical-align: middle;\n",
       "    }\n",
       "\n",
       "    .dataframe tbody tr th {\n",
       "        vertical-align: top;\n",
       "    }\n",
       "\n",
       "    .dataframe thead th {\n",
       "        text-align: right;\n",
       "    }\n",
       "</style>\n",
       "<table border=\"1\" class=\"dataframe\">\n",
       "  <thead>\n",
       "    <tr style=\"text-align: right;\">\n",
       "      <th></th>\n",
       "      <th>Country</th>\n",
       "      <th>1980</th>\n",
       "      <th>1981</th>\n",
       "      <th>1982</th>\n",
       "      <th>1983</th>\n",
       "      <th>1984</th>\n",
       "      <th>1985</th>\n",
       "      <th>1986</th>\n",
       "      <th>1987</th>\n",
       "      <th>1988</th>\n",
       "      <th>...</th>\n",
       "      <th>2005</th>\n",
       "      <th>2006</th>\n",
       "      <th>2007</th>\n",
       "      <th>2008</th>\n",
       "      <th>2009</th>\n",
       "      <th>2010</th>\n",
       "      <th>2011</th>\n",
       "      <th>2012</th>\n",
       "      <th>2013</th>\n",
       "      <th>Total</th>\n",
       "    </tr>\n",
       "  </thead>\n",
       "  <tbody>\n",
       "    <tr>\n",
       "      <th>0</th>\n",
       "      <td>Palau</td>\n",
       "      <td>0</td>\n",
       "      <td>0</td>\n",
       "      <td>0</td>\n",
       "      <td>0</td>\n",
       "      <td>0</td>\n",
       "      <td>0</td>\n",
       "      <td>0</td>\n",
       "      <td>0</td>\n",
       "      <td>0</td>\n",
       "      <td>...</td>\n",
       "      <td>0</td>\n",
       "      <td>0</td>\n",
       "      <td>1</td>\n",
       "      <td>0</td>\n",
       "      <td>0</td>\n",
       "      <td>0</td>\n",
       "      <td>0</td>\n",
       "      <td>0</td>\n",
       "      <td>0</td>\n",
       "      <td>1</td>\n",
       "    </tr>\n",
       "    <tr>\n",
       "      <th>1</th>\n",
       "      <td>Western Sahara</td>\n",
       "      <td>0</td>\n",
       "      <td>0</td>\n",
       "      <td>0</td>\n",
       "      <td>0</td>\n",
       "      <td>0</td>\n",
       "      <td>0</td>\n",
       "      <td>0</td>\n",
       "      <td>0</td>\n",
       "      <td>0</td>\n",
       "      <td>...</td>\n",
       "      <td>0</td>\n",
       "      <td>1</td>\n",
       "      <td>0</td>\n",
       "      <td>0</td>\n",
       "      <td>0</td>\n",
       "      <td>0</td>\n",
       "      <td>0</td>\n",
       "      <td>0</td>\n",
       "      <td>0</td>\n",
       "      <td>2</td>\n",
       "    </tr>\n",
       "  </tbody>\n",
       "</table>\n",
       "<p>2 rows × 36 columns</p>\n",
       "</div>"
      ],
      "text/plain": [
       "          Country  1980  1981  1982  1983  1984  1985  1986  1987  1988  ...  \\\n",
       "0           Palau     0     0     0     0     0     0     0     0     0  ...   \n",
       "1  Western Sahara     0     0     0     0     0     0     0     0     0  ...   \n",
       "\n",
       "   2005  2006  2007  2008  2009  2010  2011  2012  2013  Total  \n",
       "0     0     0     1     0     0     0     0     0     0      1  \n",
       "1     0     1     0     0     0     0     0     0     0      2  \n",
       "\n",
       "[2 rows x 36 columns]"
      ]
     },
     "execution_count": 338,
     "metadata": {},
     "output_type": "execute_result"
    }
   ],
   "source": [
    "# SELECTION DES LIGNES PERTINENTES\n",
    "df.head(2)\n",
    "df.columns\n",
    "df2=df[[ 1980,        1981,\n",
    "              1982,        1983,        1984,        1985,        1986,\n",
    "              1987,        1988,        1989,        1990,        1991,\n",
    "              1992,        1993,        1994,        1995,        1996,\n",
    "              1997,        1998,        1999,        2000,        2001,\n",
    "              2002,        2003,        2004,        2005,        2006,\n",
    "              2007,        2008,        2009,        2010,        2011,\n",
    "              2012,        2013,     'Total']].reset_index()\n",
    "df2.head(2)"
   ]
  },
  {
   "cell_type": "code",
   "execution_count": 339,
   "metadata": {},
   "outputs": [
    {
     "data": {
      "text/html": [
       "<div>\n",
       "<style scoped>\n",
       "    .dataframe tbody tr th:only-of-type {\n",
       "        vertical-align: middle;\n",
       "    }\n",
       "\n",
       "    .dataframe tbody tr th {\n",
       "        vertical-align: top;\n",
       "    }\n",
       "\n",
       "    .dataframe thead th {\n",
       "        text-align: right;\n",
       "    }\n",
       "</style>\n",
       "<table border=\"1\" class=\"dataframe\">\n",
       "  <thead>\n",
       "    <tr style=\"text-align: right;\">\n",
       "      <th></th>\n",
       "      <th>year</th>\n",
       "      <th>total</th>\n",
       "    </tr>\n",
       "  </thead>\n",
       "  <tbody>\n",
       "    <tr>\n",
       "      <th>0</th>\n",
       "      <td>1980</td>\n",
       "      <td>99137</td>\n",
       "    </tr>\n",
       "    <tr>\n",
       "      <th>1</th>\n",
       "      <td>1981</td>\n",
       "      <td>110563</td>\n",
       "    </tr>\n",
       "  </tbody>\n",
       "</table>\n",
       "</div>"
      ],
      "text/plain": [
       "   year   total\n",
       "0  1980   99137\n",
       "1  1981  110563"
      ]
     },
     "execution_count": 339,
     "metadata": {},
     "output_type": "execute_result"
    }
   ],
   "source": [
    "# 1e méthode\n",
    "df2=df2.melt(id_vars=['Country'],value_vars=[ 1980,        1981,\n",
    "              1982,        1983,        1984,        1985,        1986,\n",
    "              1987,        1988,        1989,        1990,        1991,\n",
    "              1992,        1993,        1994,        1995,        1996,\n",
    "              1997,        1998,        1999,        2000,        2001,\n",
    "              2002,        2003,        2004,        2005,        2006,\n",
    "              2007,        2008,        2009,        2010,        2011,\n",
    "              2012,        2013]  ,  var_name=\"year\", value_name=\"total\").groupby(\"year\")[\"total\"].sum().reset_index()\n",
    "df2=pd.DataFrame(df2)\n",
    "df2.head(2)"
   ]
  },
  {
   "cell_type": "code",
   "execution_count": 340,
   "metadata": {},
   "outputs": [
    {
     "data": {
      "text/html": [
       "<div>\n",
       "<style scoped>\n",
       "    .dataframe tbody tr th:only-of-type {\n",
       "        vertical-align: middle;\n",
       "    }\n",
       "\n",
       "    .dataframe tbody tr th {\n",
       "        vertical-align: top;\n",
       "    }\n",
       "\n",
       "    .dataframe thead th {\n",
       "        text-align: right;\n",
       "    }\n",
       "</style>\n",
       "<table border=\"1\" class=\"dataframe\">\n",
       "  <thead>\n",
       "    <tr style=\"text-align: right;\">\n",
       "      <th></th>\n",
       "      <th>year</th>\n",
       "      <th>total</th>\n",
       "    </tr>\n",
       "  </thead>\n",
       "  <tbody>\n",
       "    <tr>\n",
       "      <th>0</th>\n",
       "      <td>1980</td>\n",
       "      <td>99137</td>\n",
       "    </tr>\n",
       "    <tr>\n",
       "      <th>1</th>\n",
       "      <td>1981</td>\n",
       "      <td>110563</td>\n",
       "    </tr>\n",
       "  </tbody>\n",
       "</table>\n",
       "</div>"
      ],
      "text/plain": [
       "   year   total\n",
       "0  1980   99137\n",
       "1  1981  110563"
      ]
     },
     "execution_count": 340,
     "metadata": {},
     "output_type": "execute_result"
    }
   ],
   "source": [
    "# 2e méthode\n",
    "df_tot = pd.DataFrame(df[years].sum(axis=0))\n",
    "df_tot.reset_index(inplace = True)\n",
    "df_tot.columns = ['year', 'total']\n",
    "df_tot.head(2)"
   ]
  },
  {
   "cell_type": "code",
   "execution_count": 229,
   "metadata": {},
   "outputs": [
    {
     "data": {
      "image/png": "[encoded data removed]",
      "text/plain": [
       "<Figure size 720x432 with 1 Axes>"
      ]
     },
     "metadata": {
      "needs_background": "light"
     },
     "output_type": "display_data"
    }
   ],
   "source": [
    "# CREATION GRAPHIQUE\n",
    "df_tot.plot(kind='scatter', x='year', y='total', figsize=(10, 6), color='darkblue')\n",
    "\n",
    "plt.title('Total Immigration de 1980 - 2013')\n",
    "plt.xlabel('Années')\n",
    "plt.ylabel(\"Nombre d'Immigrants\")\n",
    "\n",
    "# Droite reg\n",
    "x = df_tot['year']      # year on x-axis\n",
    "y = df_tot['total']     # total on y-axis\n",
    "fit = np.polyfit(x, y, deg=1)\n",
    "\n",
    "plt.plot(x, fit[0] * x + fit[1], color='red') # recall that x is the Years\n",
    "plt.annotate('y={0:.0f} x + {1:.0f}'.format(fit[0], fit[1]), xy=(2000, 150000))\n",
    "\n",
    "plt.show()\n",
    "\n",
    "# \n",
    "'No. Immigrants = {0:.0f} * Year + {1:.0f}'.format(fit[0], fit[1]) \n",
    "\n",
    "plt.show()"
   ]
  },
  {
   "cell_type": "markdown",
   "metadata": {},
   "source": [
    "### _ Map\n",
    "__Question10: Réaliser une carte permettant de mieux distinguer l'origine et le nombre de immigrants toutes années confondue__ "
   ]
  },
  {
   "cell_type": "code",
   "execution_count": 42,
   "metadata": {},
   "outputs": [],
   "source": [
    "df_map=df.reset_index()\n",
    "df_map=df_map[[\"Country\", \"Continent\",\"Total\"]]\n",
    "df_map=df_map.sort_values(by=\"Total\", ascending=False)"
   ]
  },
  {
   "cell_type": "code",
   "execution_count": 43,
   "metadata": {},
   "outputs": [
    {
     "data": {
      "text/html": [
       "<div>\n",
       "<style scoped>\n",
       "    .dataframe tbody tr th:only-of-type {\n",
       "        vertical-align: middle;\n",
       "    }\n",
       "\n",
       "    .dataframe tbody tr th {\n",
       "        vertical-align: top;\n",
       "    }\n",
       "\n",
       "    .dataframe thead th {\n",
       "        text-align: right;\n",
       "    }\n",
       "</style>\n",
       "<table border=\"1\" class=\"dataframe\">\n",
       "  <thead>\n",
       "    <tr style=\"text-align: right;\">\n",
       "      <th></th>\n",
       "      <th>Country</th>\n",
       "      <th>Continent</th>\n",
       "      <th>Total</th>\n",
       "      <th>Country_2code</th>\n",
       "      <th>Country_3code</th>\n",
       "      <th>Capital</th>\n",
       "      <th>Region</th>\n",
       "      <th>Subregion</th>\n",
       "      <th>Population</th>\n",
       "      <th>Lat</th>\n",
       "      <th>long</th>\n",
       "      <th>Area</th>\n",
       "    </tr>\n",
       "  </thead>\n",
       "  <tbody>\n",
       "    <tr>\n",
       "      <th>0</th>\n",
       "      <td>India</td>\n",
       "      <td>Asia</td>\n",
       "      <td>1383808</td>\n",
       "      <td>IN</td>\n",
       "      <td>IND</td>\n",
       "      <td>New Delhi</td>\n",
       "      <td>Asia</td>\n",
       "      <td>Southern Asia</td>\n",
       "      <td>1295210000</td>\n",
       "      <td>20.0</td>\n",
       "      <td>77.0</td>\n",
       "      <td>3287590.0</td>\n",
       "    </tr>\n",
       "    <tr>\n",
       "      <th>1</th>\n",
       "      <td>China</td>\n",
       "      <td>Asia</td>\n",
       "      <td>1319924</td>\n",
       "      <td>CN</td>\n",
       "      <td>CHN</td>\n",
       "      <td>Beijing</td>\n",
       "      <td>Asia</td>\n",
       "      <td>Eastern Asia</td>\n",
       "      <td>1377422166</td>\n",
       "      <td>35.0</td>\n",
       "      <td>105.0</td>\n",
       "      <td>9640011.0</td>\n",
       "    </tr>\n",
       "    <tr>\n",
       "      <th>2</th>\n",
       "      <td>Philippines</td>\n",
       "      <td>Asia</td>\n",
       "      <td>1022782</td>\n",
       "      <td>PH</td>\n",
       "      <td>PHL</td>\n",
       "      <td>Manila</td>\n",
       "      <td>Asia</td>\n",
       "      <td>South-Eastern Asia</td>\n",
       "      <td>103279800</td>\n",
       "      <td>13.0</td>\n",
       "      <td>122.0</td>\n",
       "      <td>342353.0</td>\n",
       "    </tr>\n",
       "    <tr>\n",
       "      <th>3</th>\n",
       "      <td>Pakistan</td>\n",
       "      <td>Asia</td>\n",
       "      <td>483200</td>\n",
       "      <td>PK</td>\n",
       "      <td>PAK</td>\n",
       "      <td>Islamabad</td>\n",
       "      <td>Asia</td>\n",
       "      <td>Southern Asia</td>\n",
       "      <td>194125062</td>\n",
       "      <td>30.0</td>\n",
       "      <td>70.0</td>\n",
       "      <td>881912.0</td>\n",
       "    </tr>\n",
       "    <tr>\n",
       "      <th>4</th>\n",
       "      <td>United States of America</td>\n",
       "      <td>Northern America</td>\n",
       "      <td>482244</td>\n",
       "      <td>US</td>\n",
       "      <td>USA</td>\n",
       "      <td>Washington, D.C.</td>\n",
       "      <td>Americas</td>\n",
       "      <td>Northern America</td>\n",
       "      <td>323947000</td>\n",
       "      <td>38.0</td>\n",
       "      <td>-97.0</td>\n",
       "      <td>9629091.0</td>\n",
       "    </tr>\n",
       "  </tbody>\n",
       "</table>\n",
       "</div>"
      ],
      "text/plain": [
       "                    Country         Continent    Total Country_2code  \\\n",
       "0                     India              Asia  1383808            IN   \n",
       "1                     China              Asia  1319924            CN   \n",
       "2               Philippines              Asia  1022782            PH   \n",
       "3                  Pakistan              Asia   483200            PK   \n",
       "4  United States of America  Northern America   482244            US   \n",
       "\n",
       "  Country_3code           Capital    Region           Subregion  Population  \\\n",
       "0           IND         New Delhi      Asia       Southern Asia  1295210000   \n",
       "1           CHN           Beijing      Asia        Eastern Asia  1377422166   \n",
       "2           PHL            Manila      Asia  South-Eastern Asia   103279800   \n",
       "3           PAK         Islamabad      Asia       Southern Asia   194125062   \n",
       "4           USA  Washington, D.C.  Americas    Northern America   323947000   \n",
       "\n",
       "    Lat   long       Area  \n",
       "0  20.0   77.0  3287590.0  \n",
       "1  35.0  105.0  9640011.0  \n",
       "2  13.0  122.0   342353.0  \n",
       "3  30.0   70.0   881912.0  \n",
       "4  38.0  -97.0  9629091.0  "
      ]
     },
     "execution_count": 43,
     "metadata": {},
     "output_type": "execute_result"
    }
   ],
   "source": [
    "path=\"C:/Users/alder/Documents/DataVisualisation/Dataset/data_country.csv\"\n",
    "df2=pd.read_csv(path)\n",
    "df2.head(2)\n",
    "df3=pd.merge(df_map,df2, left_on=[\"Country\"], right_on=\"Country\")\n",
    "df3.head()"
   ]
  },
  {
   "cell_type": "code",
   "execution_count": 45,
   "metadata": {
    "scrolled": false
   },
   "outputs": [
    {
     "data": {
      "application/vnd.plotly.v1+json": {
       "config": {
        "plotlyServerURL": "https://plot.ly"
       },
       "data": [
        {
         "geo": "geo",
         "hovertemplate": "<b>%{hovertext}</b><br><br>Continent=Asia<br>Total=%{marker.size}<br>Country_3code=%{location}<extra></extra>",
         "hovertext": [
          "India",
          "China",
          "Philippines",
          "Pakistan",
          "Iran (Islamic Republic of)",
          "Sri Lanka",
          "Lebanon",
          "Viet Nam",
          "Iraq",
          "Israel",
          "Bangladesh",
          "Afghanistan",
          "Jordan",
          "Turkey",
          "Syrian Arab Republic",
          "Japan",
          "Malaysia",
          "Singapore",
          "Indonesia",
          "Nepal",
          "Myanmar",
          "Thailand",
          "Kazakhstan",
          "Cambodia",
          "Bhutan",
          "Saudi Arabia",
          "Uzbekistan",
          "Armenia",
          "Yemen",
          "Azerbaijan",
          "Kyrgyzstan",
          "Georgia",
          "Kuwait",
          "Cyprus",
          "Mongolia",
          "United Arab Emirates",
          "Brunei Darussalam",
          "Tajikistan",
          "Bahrain",
          "Turkmenistan",
          "Oman",
          "Qatar",
          "Maldives"
         ],
         "legendgroup": "Asia",
         "locations": [
          "IND",
          "CHN",
          "PHL",
          "PAK",
          "IRN",
          "LKA",
          "LBN",
          "VNM",
          "IRQ",
          "ISR",
          "BGD",
          "AFG",
          "JOR",
          "TUR",
          "SYR",
          "JPN",
          "MYS",
          "SGP",
          "IDN",
          "NPL",
          "MMR",
          "THA",
          "KAZ",
          "KHM",
          "BTN",
          "SAU",
          "UZB",
          "ARM",
          "YEM",
          "AZE",
          "KGZ",
          "GEO",
          "KWT",
          "CYP",
          "MNG",
          "ARE",
          "BRN",
          "TJK",
          "BHR",
          "TKM",
          "OMN",
          "QAT",
          "MDV"
         ],
         "marker": {
          "color": "#636efa",
          "size": [
           1383808,
           1319924,
           1022782,
           483200,
           351846,
           296716,
           230718,
           194292,
           139578,
           133016,
           131136,
           117278,
           70812,
           63562,
           62970,
           55414,
           48834,
           29158,
           26300,
           20444,
           18490,
           18348,
           16980,
           13076,
           11752,
           6850,
           6736,
           6620,
           5970,
           5298,
           4706,
           4136,
           4050,
           2252,
           1904,
           1672,
           1200,
           1006,
           950,
           620,
           448,
           314,
           60
          ],
          "sizemode": "area",
          "sizeref": 3459.52,
          "symbol": "circle"
         },
         "mode": "markers",
         "name": "Asia",
         "showlegend": true,
         "type": "scattergeo"
        },
        {
         "geo": "geo",
         "hovertemplate": "<b>%{hovertext}</b><br><br>Continent=Northern America<br>Total=%{marker.size}<br>Country_3code=%{location}<extra></extra>",
         "hovertext": [
          "United States of America",
          "Canada"
         ],
         "legendgroup": "Northern America",
         "locations": [
          "USA",
          "CAN"
         ],
         "marker": {
          "color": "#EF553B",
          "size": [
           482244,
           40
          ],
          "sizemode": "area",
          "sizeref": 3459.52,
          "symbol": "circle"
         },
         "mode": "markers",
         "name": "Northern America",
         "showlegend": true,
         "type": "scattergeo"
        },
        {
         "geo": "geo",
         "hovertemplate": "<b>%{hovertext}</b><br><br>Continent=Europe<br>Total=%{marker.size}<br>Country_3code=%{location}<extra></extra>",
         "hovertext": [
          "Poland",
          "France",
          "Romania",
          "Portugal",
          "Germany",
          "Russian Federation",
          "Ukraine",
          "Netherlands",
          "Bulgaria",
          "Italy",
          "Bosnia and Herzegovina",
          "Ireland",
          "Hungary",
          "Albania",
          "Switzerland",
          "Greece",
          "Belgium",
          "Croatia",
          "Belarus",
          "Slovakia",
          "Sweden",
          "Spain",
          "Austria",
          "Czech Republic",
          "Denmark",
          "Finland",
          "Lithuania",
          "Norway",
          "Latvia",
          "Serbia",
          "Malta",
          "Estonia",
          "Iceland",
          "Slovenia",
          "Luxembourg",
          "Montenegro",
          "Liechtenstein",
          "Monaco",
          "Andorra",
          "San Marino"
         ],
         "legendgroup": "Europe",
         "locations": [
          "POL",
          "FRA",
          "ROU",
          "PRT",
          "DEU",
          "RUS",
          "UKR",
          "NLD",
          "BGR",
          "ITA",
          "BIH",
          "IRL",
          "HUN",
          "ALB",
          "CHE",
          "GRC",
          "BEL",
          "HRV",
          "BLR",
          "SVK",
          "SWE",
          "ESP",
          "AUT",
          "CZE",
          "DNK",
          "FIN",
          "LTU",
          "NOR",
          "LVA",
          "SRB",
          "MLT",
          "EST",
          "ISL",
          "SVN",
          "LUX",
          "MNE",
          "LIE",
          "MCO",
          "AND",
          "SMR"
         ],
         "marker": {
          "color": "#00cc96",
          "size": [
           278482,
           218182,
           187170,
           148334,
           127824,
           126688,
           102820,
           53768,
           46620,
           45248,
           43710,
           33928,
           33644,
           31398,
           31356,
           24820,
           21524,
           16002,
           15950,
           11926,
           11732,
           10036,
           9970,
           8384,
           7802,
           5562,
           4828,
           4654,
           4652,
           3878,
           3092,
           1870,
           1140,
           1046,
           430,
           210,
           80,
           58,
           30,
           10
          ],
          "sizemode": "area",
          "sizeref": 3459.52,
          "symbol": "circle"
         },
         "mode": "markers",
         "name": "Europe",
         "showlegend": true,
         "type": "scattergeo"
        },
        {
         "geo": "geo",
         "hovertemplate": "<b>%{hovertext}</b><br><br>Continent=Latin America and the Caribbean<br>Total=%{marker.size}<br>Country_3code=%{location}<extra></extra>",
         "hovertext": [
          "Jamaica",
          "Haiti",
          "Guyana",
          "Colombia",
          "Mexico",
          "El Salvador",
          "Trinidad and Tobago",
          "Peru",
          "Brazil",
          "Chile",
          "Cuba",
          "Argentina",
          "Guatemala",
          "Ecuador",
          "Nicaragua",
          "Dominican Republic",
          "Saint Vincent and the Grenadines",
          "Grenada",
          "Honduras",
          "Barbados",
          "Saint Lucia",
          "Uruguay",
          "Costa Rica",
          "Panama",
          "Dominica",
          "Paraguay",
          "Belize",
          "Antigua and Barbuda",
          "Bahamas",
          "Suriname",
          "Saint Kitts and Nevis"
         ],
         "legendgroup": "Latin America and the Caribbean",
         "locations": [
          "JAM",
          "HTI",
          "GUY",
          "COL",
          "MEX",
          "SLV",
          "TTO",
          "PER",
          "BRA",
          "CHL",
          "CUB",
          "ARG",
          "GTM",
          "ECU",
          "NIC",
          "DOM",
          "VCT",
          "GRD",
          "HND",
          "BRB",
          "LCA",
          "URY",
          "CRI",
          "PAN",
          "DMA",
          "PRY",
          "BLZ",
          "ATG",
          "BHS",
          "SUR",
          "KNA"
         ],
         "marker": {
          "color": "#ab63fa",
          "size": [
           212862,
           169626,
           151570,
           144176,
           117424,
           109756,
           100032,
           65304,
           59318,
           42718,
           40730,
           39192,
           38930,
           24466,
           24190,
           22386,
           19414,
           18182,
           15540,
           13846,
           9604,
           9430,
           8978,
           6322,
           4940,
           3888,
           2166,
           1962,
           1616,
           1478,
           1306
          ],
          "sizemode": "area",
          "sizeref": 3459.52,
          "symbol": "circle"
         },
         "mode": "markers",
         "name": "Latin America and the Caribbean",
         "showlegend": true,
         "type": "scattergeo"
        },
        {
         "geo": "geo",
         "hovertemplate": "<b>%{hovertext}</b><br><br>Continent=Africa<br>Total=%{marker.size}<br>Country_3code=%{location}<extra></extra>",
         "hovertext": [
          "Egypt",
          "Morocco",
          "Algeria",
          "Somalia",
          "South Africa",
          "Nigeria",
          "Ethiopia",
          "Ghana",
          "Sudan",
          "Tunisia",
          "Kenya",
          "Cameroon",
          "Mauritius",
          "Eritrea",
          "Zimbabwe",
          "Côte d'Ivoire",
          "Burundi",
          "Senegal",
          "Rwanda",
          "Libya",
          "Guinea",
          "Togo",
          "Uganda",
          "Sierra Leone",
          "Benin",
          "Liberia",
          "Madagascar",
          "Mali",
          "Angola",
          "Burkina Faso",
          "Zambia",
          "Chad",
          "Djibouti",
          "Seychelles",
          "Mauritania",
          "Gabon",
          "Niger",
          "Gambia",
          "Central African Republic",
          "Botswana",
          "Namibia",
          "Malawi",
          "Cabo Verde",
          "Comoros",
          "Swaziland",
          "Mozambique",
          "Lesotho",
          "Guinea-Bissau",
          "Equatorial Guinea",
          "Sao Tome and Principe",
          "Western Sahara"
         ],
         "legendgroup": "Africa",
         "locations": [
          "EGY",
          "MAR",
          "DZA",
          "SOM",
          "ZAF",
          "NGA",
          "ETH",
          "GHA",
          "SDN",
          "TUN",
          "KEN",
          "CMR",
          "MUS",
          "ERI",
          "ZWE",
          "CIV",
          "BDI",
          "SEN",
          "RWA",
          "LBY",
          "GIN",
          "TGO",
          "UGA",
          "SLE",
          "BEN",
          "LBR",
          "MDG",
          "MLI",
          "AGO",
          "BFA",
          "ZMB",
          "TCD",
          "DJI",
          "SYC",
          "MRT",
          "GAB",
          "NER",
          "GMB",
          "CAF",
          "BWA",
          "NAM",
          "MWI",
          "CPV",
          "COM",
          "SWZ",
          "MOZ",
          "LSO",
          "GNB",
          "GNQ",
          "STP",
          "ESH"
         ],
         "marker": {
          "color": "#FFA15A",
          "size": [
           145490,
           144534,
           138878,
           84218,
           81136,
           79464,
           70272,
           52064,
           37012,
           35166,
           34456,
           32042,
           31380,
           20900,
           17196,
           16582,
           16220,
           14724,
           13382,
           9818,
           9782,
           7090,
           6900,
           6702,
           5704,
           5518,
           4388,
           4376,
           4226,
           4086,
           3354,
           3306,
           3292,
           2532,
           2032,
           1904,
           1904,
           1206,
           1100,
           792,
           640,
           588,
           402,
           388,
           376,
           320,
           214,
           166,
           122,
           20,
           4
          ],
          "sizemode": "area",
          "sizeref": 3459.52,
          "symbol": "circle"
         },
         "mode": "markers",
         "name": "Africa",
         "showlegend": true,
         "type": "scattergeo"
        },
        {
         "geo": "geo",
         "hovertemplate": "<b>%{hovertext}</b><br><br>Continent=Oceania<br>Total=%{marker.size}<br>Country_3code=%{location}<extra></extra>",
         "hovertext": [
          "Australia",
          "Fiji",
          "New Zealand",
          "Tonga",
          "Samoa",
          "Papua New Guinea",
          "Nauru",
          "Kiribati",
          "Vanuatu",
          "Tuvalu",
          "American Samoa",
          "New Caledonia",
          "Marshall Islands",
          "Palau"
         ],
         "legendgroup": "Oceania",
         "locations": [
          "AUS",
          "FJI",
          "NZL",
          "TON",
          "WSM",
          "PNG",
          "NRU",
          "KIR",
          "VUT",
          "TUV",
          "ASM",
          "NCL",
          "MHL",
          "PLW"
         ],
         "marker": {
          "color": "#19d3f3",
          "size": [
           47658,
           41218,
           20772,
           284,
           156,
           128,
           36,
           30,
           22,
           16,
           12,
           10,
           4,
           2
          ],
          "sizemode": "area",
          "sizeref": 3459.52,
          "symbol": "circle"
         },
         "mode": "markers",
         "name": "Oceania",
         "showlegend": true,
         "type": "scattergeo"
        }
       ],
       "layout": {
        "geo": {
         "center": {},
         "domain": {
          "x": [
           0,
           1
          ],
          "y": [
           0,
           1
          ]
         }
        },
        "legend": {
         "itemsizing": "constant",
         "title": {
          "text": "Continent"
         },
         "tracegroupgap": 0
        },
        "margin": {
         "t": 60
        },
        "template": {
         "data": {
          "bar": [
           {
            "error_x": {
             "color": "#2a3f5f"
            },
            "error_y": {
             "color": "#2a3f5f"
            },
            "marker": {
             "line": {
              "color": "#E5ECF6",
              "width": 0.5
             }
            },
            "type": "bar"
           }
          ],
          "barpolar": [
           {
            "marker": {
             "line": {
              "color": "#E5ECF6",
              "width": 0.5
             }
            },
            "type": "barpolar"
           }
          ],
          "carpet": [
           {
            "aaxis": {
             "endlinecolor": "#2a3f5f",
             "gridcolor": "white",
             "linecolor": "white",
             "minorgridcolor": "white",
             "startlinecolor": "#2a3f5f"
            },
            "baxis": {
             "endlinecolor": "#2a3f5f",
             "gridcolor": "white",
             "linecolor": "white",
             "minorgridcolor": "white",
             "startlinecolor": "#2a3f5f"
            },
            "type": "carpet"
           }
          ],
          "choropleth": [
           {
            "colorbar": {
             "outlinewidth": 0,
             "ticks": ""
            },
            "type": "choropleth"
           }
          ],
          "contour": [
           {
            "colorbar": {
             "outlinewidth": 0,
             "ticks": ""
            },
            "colorscale": [
             [
              0,
              "#0d0887"
             ],
             [
              0.1111111111111111,
              "#46039f"
             ],
             [
              0.2222222222222222,
              "#7201a8"
             ],
             [
              0.3333333333333333,
              "#9c179e"
             ],
             [
              0.4444444444444444,
              "#bd3786"
             ],
             [
              0.5555555555555556,
              "#d8576b"
             ],
             [
              0.6666666666666666,
              "#ed7953"
             ],
             [
              0.7777777777777778,
              "#fb9f3a"
             ],
             [
              0.8888888888888888,
              "#fdca26"
             ],
             [
              1,
              "#f0f921"
             ]
            ],
            "type": "contour"
           }
          ],
          "contourcarpet": [
           {
            "colorbar": {
             "outlinewidth": 0,
             "ticks": ""
            },
            "type": "contourcarpet"
           }
          ],
          "heatmap": [
           {
            "colorbar": {
             "outlinewidth": 0,
             "ticks": ""
            },
            "colorscale": [
             [
              0,
              "#0d0887"
             ],
             [
              0.1111111111111111,
              "#46039f"
             ],
             [
              0.2222222222222222,
              "#7201a8"
             ],
             [
              0.3333333333333333,
              "#9c179e"
             ],
             [
              0.4444444444444444,
              "#bd3786"
             ],
             [
              0.5555555555555556,
              "#d8576b"
             ],
             [
              0.6666666666666666,
              "#ed7953"
             ],
             [
              0.7777777777777778,
              "#fb9f3a"
             ],
             [
              0.8888888888888888,
              "#fdca26"
             ],
             [
              1,
              "#f0f921"
             ]
            ],
            "type": "heatmap"
           }
          ],
          "heatmapgl": [
           {
            "colorbar": {
             "outlinewidth": 0,
             "ticks": ""
            },
            "colorscale": [
             [
              0,
              "#0d0887"
             ],
             [
              0.1111111111111111,
              "#46039f"
             ],
             [
              0.2222222222222222,
              "#7201a8"
             ],
             [
              0.3333333333333333,
              "#9c179e"
             ],
             [
              0.4444444444444444,
              "#bd3786"
             ],
             [
              0.5555555555555556,
              "#d8576b"
             ],
             [
              0.6666666666666666,
              "#ed7953"
             ],
             [
              0.7777777777777778,
              "#fb9f3a"
             ],
             [
              0.8888888888888888,
              "#fdca26"
             ],
             [
              1,
              "#f0f921"
             ]
            ],
            "type": "heatmapgl"
           }
          ],
          "histogram": [
           {
            "marker": {
             "colorbar": {
              "outlinewidth": 0,
              "ticks": ""
             }
            },
            "type": "histogram"
           }
          ],
          "histogram2d": [
           {
            "colorbar": {
             "outlinewidth": 0,
             "ticks": ""
            },
            "colorscale": [
             [
              0,
              "#0d0887"
             ],
             [
              0.1111111111111111,
              "#46039f"
             ],
             [
              0.2222222222222222,
              "#7201a8"
             ],
             [
              0.3333333333333333,
              "#9c179e"
             ],
             [
              0.4444444444444444,
              "#bd3786"
             ],
             [
              0.5555555555555556,
              "#d8576b"
             ],
             [
              0.6666666666666666,
              "#ed7953"
             ],
             [
              0.7777777777777778,
              "#fb9f3a"
             ],
             [
              0.8888888888888888,
              "#fdca26"
             ],
             [
              1,
              "#f0f921"
             ]
            ],
            "type": "histogram2d"
           }
          ],
          "histogram2dcontour": [
           {
            "colorbar": {
             "outlinewidth": 0,
             "ticks": ""
            },
            "colorscale": [
             [
              0,
              "#0d0887"
             ],
             [
              0.1111111111111111,
              "#46039f"
             ],
             [
              0.2222222222222222,
              "#7201a8"
             ],
             [
              0.3333333333333333,
              "#9c179e"
             ],
             [
              0.4444444444444444,
              "#bd3786"
             ],
             [
              0.5555555555555556,
              "#d8576b"
             ],
             [
              0.6666666666666666,
              "#ed7953"
             ],
             [
              0.7777777777777778,
              "#fb9f3a"
             ],
             [
              0.8888888888888888,
              "#fdca26"
             ],
             [
              1,
              "#f0f921"
             ]
            ],
            "type": "histogram2dcontour"
           }
          ],
          "mesh3d": [
           {
            "colorbar": {
             "outlinewidth": 0,
             "ticks": ""
            },
            "type": "mesh3d"
           }
          ],
          "parcoords": [
           {
            "line": {
             "colorbar": {
              "outlinewidth": 0,
              "ticks": ""
             }
            },
            "type": "parcoords"
           }
          ],
          "pie": [
           {
            "automargin": true,
            "type": "pie"
           }
          ],
          "scatter": [
           {
            "marker": {
             "colorbar": {
              "outlinewidth": 0,
              "ticks": ""
             }
            },
            "type": "scatter"
           }
          ],
          "scatter3d": [
           {
            "line": {
             "colorbar": {
              "outlinewidth": 0,
              "ticks": ""
             }
            },
            "marker": {
             "colorbar": {
              "outlinewidth": 0,
              "ticks": ""
             }
            },
            "type": "scatter3d"
           }
          ],
          "scattercarpet": [
           {
            "marker": {
             "colorbar": {
              "outlinewidth": 0,
              "ticks": ""
             }
            },
            "type": "scattercarpet"
           }
          ],
          "scattergeo": [
           {
            "marker": {
             "colorbar": {
              "outlinewidth": 0,
              "ticks": ""
             }
            },
            "type": "scattergeo"
           }
          ],
          "scattergl": [
           {
            "marker": {
             "colorbar": {
              "outlinewidth": 0,
              "ticks": ""
             }
            },
            "type": "scattergl"
           }
          ],
          "scattermapbox": [
           {
            "marker": {
             "colorbar": {
              "outlinewidth": 0,
              "ticks": ""
             }
            },
            "type": "scattermapbox"
           }
          ],
          "scatterpolar": [
           {
            "marker": {
             "colorbar": {
              "outlinewidth": 0,
              "ticks": ""
             }
            },
            "type": "scatterpolar"
           }
          ],
          "scatterpolargl": [
           {
            "marker": {
             "colorbar": {
              "outlinewidth": 0,
              "ticks": ""
             }
            },
            "type": "scatterpolargl"
           }
          ],
          "scatterternary": [
           {
            "marker": {
             "colorbar": {
              "outlinewidth": 0,
              "ticks": ""
             }
            },
            "type": "scatterternary"
           }
          ],
          "surface": [
           {
            "colorbar": {
             "outlinewidth": 0,
             "ticks": ""
            },
            "colorscale": [
             [
              0,
              "#0d0887"
             ],
             [
              0.1111111111111111,
              "#46039f"
             ],
             [
              0.2222222222222222,
              "#7201a8"
             ],
             [
              0.3333333333333333,
              "#9c179e"
             ],
             [
              0.4444444444444444,
              "#bd3786"
             ],
             [
              0.5555555555555556,
              "#d8576b"
             ],
             [
              0.6666666666666666,
              "#ed7953"
             ],
             [
              0.7777777777777778,
              "#fb9f3a"
             ],
             [
              0.8888888888888888,
              "#fdca26"
             ],
             [
              1,
              "#f0f921"
             ]
            ],
            "type": "surface"
           }
          ],
          "table": [
           {
            "cells": {
             "fill": {
              "color": "#EBF0F8"
             },
             "line": {
              "color": "white"
             }
            },
            "header": {
             "fill": {
              "color": "#C8D4E3"
             },
             "line": {
              "color": "white"
             }
            },
            "type": "table"
           }
          ]
         },
         "layout": {
          "annotationdefaults": {
           "arrowcolor": "#2a3f5f",
           "arrowhead": 0,
           "arrowwidth": 1
          },
          "autotypenumbers": "strict",
          "coloraxis": {
           "colorbar": {
            "outlinewidth": 0,
            "ticks": ""
           }
          },
          "colorscale": {
           "diverging": [
            [
             0,
             "#8e0152"
            ],
            [
             0.1,
             "#c51b7d"
            ],
            [
             0.2,
             "#de77ae"
            ],
            [
             0.3,
             "#f1b6da"
            ],
            [
             0.4,
             "#fde0ef"
            ],
            [
             0.5,
             "#f7f7f7"
            ],
            [
             0.6,
             "#e6f5d0"
            ],
            [
             0.7,
             "#b8e186"
            ],
            [
             0.8,
             "#7fbc41"
            ],
            [
             0.9,
             "#4d9221"
            ],
            [
             1,
             "#276419"
            ]
           ],
           "sequential": [
            [
             0,
             "#0d0887"
            ],
            [
             0.1111111111111111,
             "#46039f"
            ],
            [
             0.2222222222222222,
             "#7201a8"
            ],
            [
             0.3333333333333333,
             "#9c179e"
            ],
            [
             0.4444444444444444,
             "#bd3786"
            ],
            [
             0.5555555555555556,
             "#d8576b"
            ],
            [
             0.6666666666666666,
             "#ed7953"
            ],
            [
             0.7777777777777778,
             "#fb9f3a"
            ],
            [
             0.8888888888888888,
             "#fdca26"
            ],
            [
             1,
             "#f0f921"
            ]
           ],
           "sequentialminus": [
            [
             0,
             "#0d0887"
            ],
            [
             0.1111111111111111,
             "#46039f"
            ],
            [
             0.2222222222222222,
             "#7201a8"
            ],
            [
             0.3333333333333333,
             "#9c179e"
            ],
            [
             0.4444444444444444,
             "#bd3786"
            ],
            [
             0.5555555555555556,
             "#d8576b"
            ],
            [
             0.6666666666666666,
             "#ed7953"
            ],
            [
             0.7777777777777778,
             "#fb9f3a"
            ],
            [
             0.8888888888888888,
             "#fdca26"
            ],
            [
             1,
             "#f0f921"
            ]
           ]
          },
          "colorway": [
           "#636efa",
           "#EF553B",
           "#00cc96",
           "#ab63fa",
           "#FFA15A",
           "#19d3f3",
           "#FF6692",
           "#B6E880",
           "#FF97FF",
           "#FECB52"
          ],
          "font": {
           "color": "#2a3f5f"
          },
          "geo": {
           "bgcolor": "white",
           "lakecolor": "white",
           "landcolor": "#E5ECF6",
           "showlakes": true,
           "showland": true,
           "subunitcolor": "white"
          },
          "hoverlabel": {
           "align": "left"
          },
          "hovermode": "closest",
          "mapbox": {
           "style": "light"
          },
          "paper_bgcolor": "white",
          "plot_bgcolor": "#E5ECF6",
          "polar": {
           "angularaxis": {
            "gridcolor": "white",
            "linecolor": "white",
            "ticks": ""
           },
           "bgcolor": "#E5ECF6",
           "radialaxis": {
            "gridcolor": "white",
            "linecolor": "white",
            "ticks": ""
           }
          },
          "scene": {
           "xaxis": {
            "backgroundcolor": "#E5ECF6",
            "gridcolor": "white",
            "gridwidth": 2,
            "linecolor": "white",
            "showbackground": true,
            "ticks": "",
            "zerolinecolor": "white"
           },
           "yaxis": {
            "backgroundcolor": "#E5ECF6",
            "gridcolor": "white",
            "gridwidth": 2,
            "linecolor": "white",
            "showbackground": true,
            "ticks": "",
            "zerolinecolor": "white"
           },
           "zaxis": {
            "backgroundcolor": "#E5ECF6",
            "gridcolor": "white",
            "gridwidth": 2,
            "linecolor": "white",
            "showbackground": true,
            "ticks": "",
            "zerolinecolor": "white"
           }
          },
          "shapedefaults": {
           "line": {
            "color": "#2a3f5f"
           }
          },
          "ternary": {
           "aaxis": {
            "gridcolor": "white",
            "linecolor": "white",
            "ticks": ""
           },
           "baxis": {
            "gridcolor": "white",
            "linecolor": "white",
            "ticks": ""
           },
           "bgcolor": "#E5ECF6",
           "caxis": {
            "gridcolor": "white",
            "linecolor": "white",
            "ticks": ""
           }
          },
          "title": {
           "x": 0.05
          },
          "xaxis": {
           "automargin": true,
           "gridcolor": "white",
           "linecolor": "white",
           "ticks": "",
           "title": {
            "standoff": 15
           },
           "zerolinecolor": "white",
           "zerolinewidth": 2
          },
          "yaxis": {
           "automargin": true,
           "gridcolor": "white",
           "linecolor": "white",
           "ticks": "",
           "title": {
            "standoff": 15
           },
           "zerolinecolor": "white",
           "zerolinewidth": 2
          }
         }
        }
       }
      },
      "text/html": [
       "<div>                            <div id=\"9089e48d-37b4-4072-9a08-34f0bef4959b\" class=\"plotly-graph-div\" style=\"height:525px; width:100%;\"></div>            <script type=\"text/javascript\">                require([\"plotly\"], function(Plotly) {                    window.PLOTLYENV=window.PLOTLYENV || {};                                    if (document.getElementById(\"9089e48d-37b4-4072-9a08-34f0bef4959b\")) {                    Plotly.newPlot(                        \"9089e48d-37b4-4072-9a08-34f0bef4959b\",                        [{\"geo\": \"geo\", \"hovertemplate\": \"<b>%{hovertext}</b><br><br>Continent=Asia<br>Total=%{marker.size}<br>Country_3code=%{location}<extra></extra>\", \"hovertext\": [\"India\", \"China\", \"Philippines\", \"Pakistan\", \"Iran (Islamic Republic of)\", \"Sri Lanka\", \"Lebanon\", \"Viet Nam\", \"Iraq\", \"Israel\", \"Bangladesh\", \"Afghanistan\", \"Jordan\", \"Turkey\", \"Syrian Arab Republic\", \"Japan\", \"Malaysia\", \"Singapore\", \"Indonesia\", \"Nepal\", \"Myanmar\", \"Thailand\", \"Kazakhstan\", \"Cambodia\", \"Bhutan\", \"Saudi Arabia\", \"Uzbekistan\", \"Armenia\", \"Yemen\", \"Azerbaijan\", \"Kyrgyzstan\", \"Georgia\", \"Kuwait\", \"Cyprus\", \"Mongolia\", \"United Arab Emirates\", \"Brunei Darussalam\", \"Tajikistan\", \"Bahrain\", \"Turkmenistan\", \"Oman\", \"Qatar\", \"Maldives\"], \"legendgroup\": \"Asia\", \"locations\": [\"IND\", \"CHN\", \"PHL\", \"PAK\", \"IRN\", \"LKA\", \"LBN\", \"VNM\", \"IRQ\", \"ISR\", \"BGD\", \"AFG\", \"JOR\", \"TUR\", \"SYR\", \"JPN\", \"MYS\", \"SGP\", \"IDN\", \"NPL\", \"MMR\", \"THA\", \"KAZ\", \"KHM\", \"BTN\", \"SAU\", \"UZB\", \"ARM\", \"YEM\", \"AZE\", \"KGZ\", \"GEO\", \"KWT\", \"CYP\", \"MNG\", \"ARE\", \"BRN\", \"TJK\", \"BHR\", \"TKM\", \"OMN\", \"QAT\", \"MDV\"], \"marker\": {\"color\": \"#636efa\", \"size\": [1383808, 1319924, 1022782, 483200, 351846, 296716, 230718, 194292, 139578, 133016, 131136, 117278, 70812, 63562, 62970, 55414, 48834, 29158, 26300, 20444, 18490, 18348, 16980, 13076, 11752, 6850, 6736, 6620, 5970, 5298, 4706, 4136, 4050, 2252, 1904, 1672, 1200, 1006, 950, 620, 448, 314, 60], \"sizemode\": \"area\", \"sizeref\": 3459.52, \"symbol\": \"circle\"}, \"mode\": \"markers\", \"name\": \"Asia\", \"showlegend\": true, \"type\": \"scattergeo\"}, {\"geo\": \"geo\", \"hovertemplate\": \"<b>%{hovertext}</b><br><br>Continent=Northern America<br>Total=%{marker.size}<br>Country_3code=%{location}<extra></extra>\", \"hovertext\": [\"United States of America\", \"Canada\"], \"legendgroup\": \"Northern America\", \"locations\": [\"USA\", \"CAN\"], \"marker\": {\"color\": \"#EF553B\", \"size\": [482244, 40], \"sizemode\": \"area\", \"sizeref\": 3459.52, \"symbol\": \"circle\"}, \"mode\": \"markers\", \"name\": \"Northern America\", \"showlegend\": true, \"type\": \"scattergeo\"}, {\"geo\": \"geo\", \"hovertemplate\": \"<b>%{hovertext}</b><br><br>Continent=Europe<br>Total=%{marker.size}<br>Country_3code=%{location}<extra></extra>\", \"hovertext\": [\"Poland\", \"France\", \"Romania\", \"Portugal\", \"Germany\", \"Russian Federation\", \"Ukraine\", \"Netherlands\", \"Bulgaria\", \"Italy\", \"Bosnia and Herzegovina\", \"Ireland\", \"Hungary\", \"Albania\", \"Switzerland\", \"Greece\", \"Belgium\", \"Croatia\", \"Belarus\", \"Slovakia\", \"Sweden\", \"Spain\", \"Austria\", \"Czech Republic\", \"Denmark\", \"Finland\", \"Lithuania\", \"Norway\", \"Latvia\", \"Serbia\", \"Malta\", \"Estonia\", \"Iceland\", \"Slovenia\", \"Luxembourg\", \"Montenegro\", \"Liechtenstein\", \"Monaco\", \"Andorra\", \"San Marino\"], \"legendgroup\": \"Europe\", \"locations\": [\"POL\", \"FRA\", \"ROU\", \"PRT\", \"DEU\", \"RUS\", \"UKR\", \"NLD\", \"BGR\", \"ITA\", \"BIH\", \"IRL\", \"HUN\", \"ALB\", \"CHE\", \"GRC\", \"BEL\", \"HRV\", \"BLR\", \"SVK\", \"SWE\", \"ESP\", \"AUT\", \"CZE\", \"DNK\", \"FIN\", \"LTU\", \"NOR\", \"LVA\", \"SRB\", \"MLT\", \"EST\", \"ISL\", \"SVN\", \"LUX\", \"MNE\", \"LIE\", \"MCO\", \"AND\", \"SMR\"], \"marker\": {\"color\": \"#00cc96\", \"size\": [278482, 218182, 187170, 148334, 127824, 126688, 102820, 53768, 46620, 45248, 43710, 33928, 33644, 31398, 31356, 24820, 21524, 16002, 15950, 11926, 11732, 10036, 9970, 8384, 7802, 5562, 4828, 4654, 4652, 3878, 3092, 1870, 1140, 1046, 430, 210, 80, 58, 30, 10], \"sizemode\": \"area\", \"sizeref\": 3459.52, \"symbol\": \"circle\"}, \"mode\": \"markers\", \"name\": \"Europe\", \"showlegend\": true, \"type\": \"scattergeo\"}, {\"geo\": \"geo\", \"hovertemplate\": \"<b>%{hovertext}</b><br><br>Continent=Latin America and the Caribbean<br>Total=%{marker.size}<br>Country_3code=%{location}<extra></extra>\", \"hovertext\": [\"Jamaica\", \"Haiti\", \"Guyana\", \"Colombia\", \"Mexico\", \"El Salvador\", \"Trinidad and Tobago\", \"Peru\", \"Brazil\", \"Chile\", \"Cuba\", \"Argentina\", \"Guatemala\", \"Ecuador\", \"Nicaragua\", \"Dominican Republic\", \"Saint Vincent and the Grenadines\", \"Grenada\", \"Honduras\", \"Barbados\", \"Saint Lucia\", \"Uruguay\", \"Costa Rica\", \"Panama\", \"Dominica\", \"Paraguay\", \"Belize\", \"Antigua and Barbuda\", \"Bahamas\", \"Suriname\", \"Saint Kitts and Nevis\"], \"legendgroup\": \"Latin America and the Caribbean\", \"locations\": [\"JAM\", \"HTI\", \"GUY\", \"COL\", \"MEX\", \"SLV\", \"TTO\", \"PER\", \"BRA\", \"CHL\", \"CUB\", \"ARG\", \"GTM\", \"ECU\", \"NIC\", \"DOM\", \"VCT\", \"GRD\", \"HND\", \"BRB\", \"LCA\", \"URY\", \"CRI\", \"PAN\", \"DMA\", \"PRY\", \"BLZ\", \"ATG\", \"BHS\", \"SUR\", \"KNA\"], \"marker\": {\"color\": \"#ab63fa\", \"size\": [212862, 169626, 151570, 144176, 117424, 109756, 100032, 65304, 59318, 42718, 40730, 39192, 38930, 24466, 24190, 22386, 19414, 18182, 15540, 13846, 9604, 9430, 8978, 6322, 4940, 3888, 2166, 1962, 1616, 1478, 1306], \"sizemode\": \"area\", \"sizeref\": 3459.52, \"symbol\": \"circle\"}, \"mode\": \"markers\", \"name\": \"Latin America and the Caribbean\", \"showlegend\": true, \"type\": \"scattergeo\"}, {\"geo\": \"geo\", \"hovertemplate\": \"<b>%{hovertext}</b><br><br>Continent=Africa<br>Total=%{marker.size}<br>Country_3code=%{location}<extra></extra>\", \"hovertext\": [\"Egypt\", \"Morocco\", \"Algeria\", \"Somalia\", \"South Africa\", \"Nigeria\", \"Ethiopia\", \"Ghana\", \"Sudan\", \"Tunisia\", \"Kenya\", \"Cameroon\", \"Mauritius\", \"Eritrea\", \"Zimbabwe\", \"C\\u00f4te d'Ivoire\", \"Burundi\", \"Senegal\", \"Rwanda\", \"Libya\", \"Guinea\", \"Togo\", \"Uganda\", \"Sierra Leone\", \"Benin\", \"Liberia\", \"Madagascar\", \"Mali\", \"Angola\", \"Burkina Faso\", \"Zambia\", \"Chad\", \"Djibouti\", \"Seychelles\", \"Mauritania\", \"Gabon\", \"Niger\", \"Gambia\", \"Central African Republic\", \"Botswana\", \"Namibia\", \"Malawi\", \"Cabo Verde\", \"Comoros\", \"Swaziland\", \"Mozambique\", \"Lesotho\", \"Guinea-Bissau\", \"Equatorial Guinea\", \"Sao Tome and Principe\", \"Western Sahara\"], \"legendgroup\": \"Africa\", \"locations\": [\"EGY\", \"MAR\", \"DZA\", \"SOM\", \"ZAF\", \"NGA\", \"ETH\", \"GHA\", \"SDN\", \"TUN\", \"KEN\", \"CMR\", \"MUS\", \"ERI\", \"ZWE\", \"CIV\", \"BDI\", \"SEN\", \"RWA\", \"LBY\", \"GIN\", \"TGO\", \"UGA\", \"SLE\", \"BEN\", \"LBR\", \"MDG\", \"MLI\", \"AGO\", \"BFA\", \"ZMB\", \"TCD\", \"DJI\", \"SYC\", \"MRT\", \"GAB\", \"NER\", \"GMB\", \"CAF\", \"BWA\", \"NAM\", \"MWI\", \"CPV\", \"COM\", \"SWZ\", \"MOZ\", \"LSO\", \"GNB\", \"GNQ\", \"STP\", \"ESH\"], \"marker\": {\"color\": \"#FFA15A\", \"size\": [145490, 144534, 138878, 84218, 81136, 79464, 70272, 52064, 37012, 35166, 34456, 32042, 31380, 20900, 17196, 16582, 16220, 14724, 13382, 9818, 9782, 7090, 6900, 6702, 5704, 5518, 4388, 4376, 4226, 4086, 3354, 3306, 3292, 2532, 2032, 1904, 1904, 1206, 1100, 792, 640, 588, 402, 388, 376, 320, 214, 166, 122, 20, 4], \"sizemode\": \"area\", \"sizeref\": 3459.52, \"symbol\": \"circle\"}, \"mode\": \"markers\", \"name\": \"Africa\", \"showlegend\": true, \"type\": \"scattergeo\"}, {\"geo\": \"geo\", \"hovertemplate\": \"<b>%{hovertext}</b><br><br>Continent=Oceania<br>Total=%{marker.size}<br>Country_3code=%{location}<extra></extra>\", \"hovertext\": [\"Australia\", \"Fiji\", \"New Zealand\", \"Tonga\", \"Samoa\", \"Papua New Guinea\", \"Nauru\", \"Kiribati\", \"Vanuatu\", \"Tuvalu\", \"American Samoa\", \"New Caledonia\", \"Marshall Islands\", \"Palau\"], \"legendgroup\": \"Oceania\", \"locations\": [\"AUS\", \"FJI\", \"NZL\", \"TON\", \"WSM\", \"PNG\", \"NRU\", \"KIR\", \"VUT\", \"TUV\", \"ASM\", \"NCL\", \"MHL\", \"PLW\"], \"marker\": {\"color\": \"#19d3f3\", \"size\": [47658, 41218, 20772, 284, 156, 128, 36, 30, 22, 16, 12, 10, 4, 2], \"sizemode\": \"area\", \"sizeref\": 3459.52, \"symbol\": \"circle\"}, \"mode\": \"markers\", \"name\": \"Oceania\", \"showlegend\": true, \"type\": \"scattergeo\"}],                        {\"geo\": {\"center\": {}, \"domain\": {\"x\": [0.0, 1.0], \"y\": [0.0, 1.0]}}, \"legend\": {\"itemsizing\": \"constant\", \"title\": {\"text\": \"Continent\"}, \"tracegroupgap\": 0}, \"margin\": {\"t\": 60}, \"template\": {\"data\": {\"bar\": [{\"error_x\": {\"color\": \"#2a3f5f\"}, \"error_y\": {\"color\": \"#2a3f5f\"}, \"marker\": {\"line\": {\"color\": \"#E5ECF6\", \"width\": 0.5}}, \"type\": \"bar\"}], \"barpolar\": [{\"marker\": {\"line\": {\"color\": \"#E5ECF6\", \"width\": 0.5}}, \"type\": \"barpolar\"}], \"carpet\": [{\"aaxis\": {\"endlinecolor\": \"#2a3f5f\", \"gridcolor\": \"white\", \"linecolor\": \"white\", \"minorgridcolor\": \"white\", \"startlinecolor\": \"#2a3f5f\"}, \"baxis\": {\"endlinecolor\": \"#2a3f5f\", \"gridcolor\": \"white\", \"linecolor\": \"white\", \"minorgridcolor\": \"white\", \"startlinecolor\": \"#2a3f5f\"}, \"type\": \"carpet\"}], \"choropleth\": [{\"colorbar\": {\"outlinewidth\": 0, \"ticks\": \"\"}, \"type\": \"choropleth\"}], \"contour\": [{\"colorbar\": {\"outlinewidth\": 0, \"ticks\": \"\"}, \"colorscale\": [[0.0, \"#0d0887\"], [0.1111111111111111, \"#46039f\"], [0.2222222222222222, \"#7201a8\"], [0.3333333333333333, \"#9c179e\"], [0.4444444444444444, \"#bd3786\"], [0.5555555555555556, \"#d8576b\"], [0.6666666666666666, \"#ed7953\"], [0.7777777777777778, \"#fb9f3a\"], [0.8888888888888888, \"#fdca26\"], [1.0, \"#f0f921\"]], \"type\": \"contour\"}], \"contourcarpet\": [{\"colorbar\": {\"outlinewidth\": 0, \"ticks\": \"\"}, \"type\": \"contourcarpet\"}], \"heatmap\": [{\"colorbar\": {\"outlinewidth\": 0, \"ticks\": \"\"}, \"colorscale\": [[0.0, \"#0d0887\"], [0.1111111111111111, \"#46039f\"], [0.2222222222222222, \"#7201a8\"], [0.3333333333333333, \"#9c179e\"], [0.4444444444444444, \"#bd3786\"], [0.5555555555555556, \"#d8576b\"], [0.6666666666666666, \"#ed7953\"], [0.7777777777777778, \"#fb9f3a\"], [0.8888888888888888, \"#fdca26\"], [1.0, \"#f0f921\"]], \"type\": \"heatmap\"}], \"heatmapgl\": [{\"colorbar\": {\"outlinewidth\": 0, \"ticks\": \"\"}, \"colorscale\": [[0.0, \"#0d0887\"], [0.1111111111111111, \"#46039f\"], [0.2222222222222222, \"#7201a8\"], [0.3333333333333333, \"#9c179e\"], [0.4444444444444444, \"#bd3786\"], [0.5555555555555556, \"#d8576b\"], [0.6666666666666666, \"#ed7953\"], [0.7777777777777778, \"#fb9f3a\"], [0.8888888888888888, \"#fdca26\"], [1.0, \"#f0f921\"]], \"type\": \"heatmapgl\"}], \"histogram\": [{\"marker\": {\"colorbar\": {\"outlinewidth\": 0, \"ticks\": \"\"}}, \"type\": \"histogram\"}], \"histogram2d\": [{\"colorbar\": {\"outlinewidth\": 0, \"ticks\": \"\"}, \"colorscale\": [[0.0, \"#0d0887\"], [0.1111111111111111, \"#46039f\"], [0.2222222222222222, \"#7201a8\"], [0.3333333333333333, \"#9c179e\"], [0.4444444444444444, \"#bd3786\"], [0.5555555555555556, \"#d8576b\"], [0.6666666666666666, \"#ed7953\"], [0.7777777777777778, \"#fb9f3a\"], [0.8888888888888888, \"#fdca26\"], [1.0, \"#f0f921\"]], \"type\": \"histogram2d\"}], \"histogram2dcontour\": [{\"colorbar\": {\"outlinewidth\": 0, \"ticks\": \"\"}, \"colorscale\": [[0.0, \"#0d0887\"], [0.1111111111111111, \"#46039f\"], [0.2222222222222222, \"#7201a8\"], [0.3333333333333333, \"#9c179e\"], [0.4444444444444444, \"#bd3786\"], [0.5555555555555556, \"#d8576b\"], [0.6666666666666666, \"#ed7953\"], [0.7777777777777778, \"#fb9f3a\"], [0.8888888888888888, \"#fdca26\"], [1.0, \"#f0f921\"]], \"type\": \"histogram2dcontour\"}], \"mesh3d\": [{\"colorbar\": {\"outlinewidth\": 0, \"ticks\": \"\"}, \"type\": \"mesh3d\"}], \"parcoords\": [{\"line\": {\"colorbar\": {\"outlinewidth\": 0, \"ticks\": \"\"}}, \"type\": \"parcoords\"}], \"pie\": [{\"automargin\": true, \"type\": \"pie\"}], \"scatter\": [{\"marker\": {\"colorbar\": {\"outlinewidth\": 0, \"ticks\": \"\"}}, \"type\": \"scatter\"}], \"scatter3d\": [{\"line\": {\"colorbar\": {\"outlinewidth\": 0, \"ticks\": \"\"}}, \"marker\": {\"colorbar\": {\"outlinewidth\": 0, \"ticks\": \"\"}}, \"type\": \"scatter3d\"}], \"scattercarpet\": [{\"marker\": {\"colorbar\": {\"outlinewidth\": 0, \"ticks\": \"\"}}, \"type\": \"scattercarpet\"}], \"scattergeo\": [{\"marker\": {\"colorbar\": {\"outlinewidth\": 0, \"ticks\": \"\"}}, \"type\": \"scattergeo\"}], \"scattergl\": [{\"marker\": {\"colorbar\": {\"outlinewidth\": 0, \"ticks\": \"\"}}, \"type\": \"scattergl\"}], \"scattermapbox\": [{\"marker\": {\"colorbar\": {\"outlinewidth\": 0, \"ticks\": \"\"}}, \"type\": \"scattermapbox\"}], \"scatterpolar\": [{\"marker\": {\"colorbar\": {\"outlinewidth\": 0, \"ticks\": \"\"}}, \"type\": \"scatterpolar\"}], \"scatterpolargl\": [{\"marker\": {\"colorbar\": {\"outlinewidth\": 0, \"ticks\": \"\"}}, \"type\": \"scatterpolargl\"}], \"scatterternary\": [{\"marker\": {\"colorbar\": {\"outlinewidth\": 0, \"ticks\": \"\"}}, \"type\": \"scatterternary\"}], \"surface\": [{\"colorbar\": {\"outlinewidth\": 0, \"ticks\": \"\"}, \"colorscale\": [[0.0, \"#0d0887\"], [0.1111111111111111, \"#46039f\"], [0.2222222222222222, \"#7201a8\"], [0.3333333333333333, \"#9c179e\"], [0.4444444444444444, \"#bd3786\"], [0.5555555555555556, \"#d8576b\"], [0.6666666666666666, \"#ed7953\"], [0.7777777777777778, \"#fb9f3a\"], [0.8888888888888888, \"#fdca26\"], [1.0, \"#f0f921\"]], \"type\": \"surface\"}], \"table\": [{\"cells\": {\"fill\": {\"color\": \"#EBF0F8\"}, \"line\": {\"color\": \"white\"}}, \"header\": {\"fill\": {\"color\": \"#C8D4E3\"}, \"line\": {\"color\": \"white\"}}, \"type\": \"table\"}]}, \"layout\": {\"annotationdefaults\": {\"arrowcolor\": \"#2a3f5f\", \"arrowhead\": 0, \"arrowwidth\": 1}, \"autotypenumbers\": \"strict\", \"coloraxis\": {\"colorbar\": {\"outlinewidth\": 0, \"ticks\": \"\"}}, \"colorscale\": {\"diverging\": [[0, \"#8e0152\"], [0.1, \"#c51b7d\"], [0.2, \"#de77ae\"], [0.3, \"#f1b6da\"], [0.4, \"#fde0ef\"], [0.5, \"#f7f7f7\"], [0.6, \"#e6f5d0\"], [0.7, \"#b8e186\"], [0.8, \"#7fbc41\"], [0.9, \"#4d9221\"], [1, \"#276419\"]], \"sequential\": [[0.0, \"#0d0887\"], [0.1111111111111111, \"#46039f\"], [0.2222222222222222, \"#7201a8\"], [0.3333333333333333, \"#9c179e\"], [0.4444444444444444, \"#bd3786\"], [0.5555555555555556, \"#d8576b\"], [0.6666666666666666, \"#ed7953\"], [0.7777777777777778, \"#fb9f3a\"], [0.8888888888888888, \"#fdca26\"], [1.0, \"#f0f921\"]], \"sequentialminus\": [[0.0, \"#0d0887\"], [0.1111111111111111, \"#46039f\"], [0.2222222222222222, \"#7201a8\"], [0.3333333333333333, \"#9c179e\"], [0.4444444444444444, \"#bd3786\"], [0.5555555555555556, \"#d8576b\"], [0.6666666666666666, \"#ed7953\"], [0.7777777777777778, \"#fb9f3a\"], [0.8888888888888888, \"#fdca26\"], [1.0, \"#f0f921\"]]}, \"colorway\": [\"#636efa\", \"#EF553B\", \"#00cc96\", \"#ab63fa\", \"#FFA15A\", \"#19d3f3\", \"#FF6692\", \"#B6E880\", \"#FF97FF\", \"#FECB52\"], \"font\": {\"color\": \"#2a3f5f\"}, \"geo\": {\"bgcolor\": \"white\", \"lakecolor\": \"white\", \"landcolor\": \"#E5ECF6\", \"showlakes\": true, \"showland\": true, \"subunitcolor\": \"white\"}, \"hoverlabel\": {\"align\": \"left\"}, \"hovermode\": \"closest\", \"mapbox\": {\"style\": \"light\"}, \"paper_bgcolor\": \"white\", \"plot_bgcolor\": \"#E5ECF6\", \"polar\": {\"angularaxis\": {\"gridcolor\": \"white\", \"linecolor\": \"white\", \"ticks\": \"\"}, \"bgcolor\": \"#E5ECF6\", \"radialaxis\": {\"gridcolor\": \"white\", \"linecolor\": \"white\", \"ticks\": \"\"}}, \"scene\": {\"xaxis\": {\"backgroundcolor\": \"#E5ECF6\", \"gridcolor\": \"white\", \"gridwidth\": 2, \"linecolor\": \"white\", \"showbackground\": true, \"ticks\": \"\", \"zerolinecolor\": \"white\"}, \"yaxis\": {\"backgroundcolor\": \"#E5ECF6\", \"gridcolor\": \"white\", \"gridwidth\": 2, \"linecolor\": \"white\", \"showbackground\": true, \"ticks\": \"\", \"zerolinecolor\": \"white\"}, \"zaxis\": {\"backgroundcolor\": \"#E5ECF6\", \"gridcolor\": \"white\", \"gridwidth\": 2, \"linecolor\": \"white\", \"showbackground\": true, \"ticks\": \"\", \"zerolinecolor\": \"white\"}}, \"shapedefaults\": {\"line\": {\"color\": \"#2a3f5f\"}}, \"ternary\": {\"aaxis\": {\"gridcolor\": \"white\", \"linecolor\": \"white\", \"ticks\": \"\"}, \"baxis\": {\"gridcolor\": \"white\", \"linecolor\": \"white\", \"ticks\": \"\"}, \"bgcolor\": \"#E5ECF6\", \"caxis\": {\"gridcolor\": \"white\", \"linecolor\": \"white\", \"ticks\": \"\"}}, \"title\": {\"x\": 0.05}, \"xaxis\": {\"automargin\": true, \"gridcolor\": \"white\", \"linecolor\": \"white\", \"ticks\": \"\", \"title\": {\"standoff\": 15}, \"zerolinecolor\": \"white\", \"zerolinewidth\": 2}, \"yaxis\": {\"automargin\": true, \"gridcolor\": \"white\", \"linecolor\": \"white\", \"ticks\": \"\", \"title\": {\"standoff\": 15}, \"zerolinecolor\": \"white\", \"zerolinewidth\": 2}}}},                        {\"responsive\": true}                    ).then(function(){\n",
       "                            \n",
       "var gd = document.getElementById('9089e48d-37b4-4072-9a08-34f0bef4959b');\n",
       "var x = new MutationObserver(function (mutations, observer) {{\n",
       "        var display = window.getComputedStyle(gd).display;\n",
       "        if (!display || display === 'none') {{\n",
       "            console.log([gd, 'removed!']);\n",
       "            Plotly.purge(gd);\n",
       "            observer.disconnect();\n",
       "        }}\n",
       "}});\n",
       "\n",
       "// Listen for the removal of the full notebook cells\n",
       "var notebookContainer = gd.closest('#notebook-container');\n",
       "if (notebookContainer) {{\n",
       "    x.observe(notebookContainer, {childList: true});\n",
       "}}\n",
       "\n",
       "// Listen for the clearing of the current output cell\n",
       "var outputEl = gd.closest('.output');\n",
       "if (outputEl) {{\n",
       "    x.observe(outputEl, {childList: true});\n",
       "}}\n",
       "\n",
       "                        })                };                });            </script>        </div>"
      ]
     },
     "metadata": {},
     "output_type": "display_data"
    }
   ],
   "source": [
    "import plotly.express as px\n",
    "fig=px.scatter_geo(df3, locations=\"Country_3code\", color=\"Continent\",\n",
    "                  hover_name=\"Country\",\n",
    "                  size=\"Total\"\n",
    "                  \n",
    "                  )\n",
    "fig.show()"
   ]
  },
  {
   "cell_type": "code",
   "execution_count": 271,
   "metadata": {},
   "outputs": [
    {
     "data": {
      "application/vnd.plotly.v1+json": {
       "config": {
        "plotlyServerURL": "https://plot.ly"
       },
       "data": [
        {
         "coloraxis": "coloraxis",
         "geo": "geo",
         "hovertemplate": "<b>%{hovertext}</b><br><br>Country_3code=%{location}<br>Total=%{z}<extra></extra>",
         "hovertext": [
          "India",
          "China",
          "United Kingdom",
          "Philippines",
          "Pakistan",
          "United States of America",
          "Iran (Islamic Republic of)",
          "Sri Lanka",
          "Poland",
          "Lebanon",
          "France",
          "Jamaica",
          "Viet Nam",
          "Romania",
          "Haiti",
          "Guyana",
          "Portugal",
          "Egypt",
          "Morocco",
          "Colombia",
          "Iraq",
          "Algeria",
          "Israel",
          "Bangladesh",
          "Germany",
          "Russian Federation",
          "Mexico",
          "Afghanistan",
          "El Salvador",
          "Ukraine",
          "Trinidad and Tobago",
          "Somalia",
          "South Africa",
          "Nigeria",
          "Jordan",
          "Ethiopia",
          "Peru",
          "Turkey",
          "Syrian Arab Republic",
          "Brazil",
          "Japan",
          "Netherlands",
          "Ghana",
          "Malaysia",
          "Australia",
          "Bulgaria",
          "Italy",
          "Bosnia and Herzegovina",
          "Chile",
          "Fiji",
          "Cuba",
          "Argentina",
          "Guatemala",
          "Sudan",
          "Tunisia",
          "Kenya",
          "Ireland",
          "Hungary",
          "Cameroon",
          "Albania",
          "Mauritius",
          "Switzerland",
          "Singapore",
          "Indonesia",
          "Greece",
          "Ecuador",
          "Nicaragua",
          "Dominican Republic",
          "Belgium",
          "Eritrea",
          "New Zealand",
          "Nepal",
          "Saint Vincent and the Grenadines",
          "Myanmar",
          "Thailand",
          "Grenada",
          "Zimbabwe",
          "Kazakhstan",
          "Côte d'Ivoire",
          "Burundi",
          "Croatia",
          "Belarus",
          "Honduras",
          "Senegal",
          "Barbados",
          "Rwanda",
          "Cambodia",
          "Slovakia",
          "Bhutan",
          "Sweden",
          "Spain",
          "Austria",
          "Libya",
          "Guinea",
          "Saint Lucia",
          "Uruguay",
          "Costa Rica",
          "Czech Republic",
          "Denmark",
          "Togo",
          "Uganda",
          "Saudi Arabia",
          "Uzbekistan",
          "Sierra Leone",
          "Armenia",
          "Panama",
          "Yemen",
          "Benin",
          "Finland",
          "Liberia",
          "Azerbaijan",
          "Dominica",
          "Lithuania",
          "Kyrgyzstan",
          "Norway",
          "Latvia",
          "Madagascar",
          "Mali",
          "Angola",
          "Georgia",
          "Burkina Faso",
          "Kuwait",
          "Paraguay",
          "Serbia",
          "Zambia",
          "Chad",
          "Djibouti",
          "Malta",
          "Seychelles",
          "Cyprus",
          "Belize",
          "Mauritania",
          "Antigua and Barbuda",
          "Gabon",
          "Niger",
          "Mongolia",
          "Estonia",
          "United Arab Emirates",
          "Bahamas",
          "Suriname",
          "Saint Kitts and Nevis",
          "Gambia",
          "Brunei Darussalam",
          "Iceland",
          "Central African Republic",
          "Slovenia",
          "Tajikistan",
          "Bahrain",
          "Botswana",
          "Namibia",
          "Turkmenistan",
          "Malawi",
          "Oman",
          "Luxembourg",
          "Cabo Verde",
          "Comoros",
          "Swaziland",
          "Mozambique",
          "Qatar",
          "Tonga",
          "Lesotho",
          "Montenegro",
          "Guinea-Bissau",
          "Samoa",
          "Papua New Guinea",
          "Equatorial Guinea",
          "Liechtenstein",
          "Maldives",
          "Monaco",
          "Canada",
          "Nauru",
          "Andorra",
          "Kiribati",
          "Vanuatu",
          "Sao Tome and Principe",
          "Tuvalu",
          "American Samoa",
          "San Marino",
          "New Caledonia",
          "Marshall Islands",
          "Western Sahara",
          "Palau"
         ],
         "locations": [
          "IND",
          "CHN",
          "GBR",
          "PHL",
          "PAK",
          "USA",
          "IRN",
          "LKA",
          "POL",
          "LBN",
          "FRA",
          "JAM",
          "VNM",
          "ROU",
          "HTI",
          "GUY",
          "PRT",
          "EGY",
          "MAR",
          "COL",
          "IRQ",
          "DZA",
          "ISR",
          "BGD",
          "DEU",
          "RUS",
          "MEX",
          "AFG",
          "SLV",
          "UKR",
          "TTO",
          "SOM",
          "ZAF",
          "NGA",
          "JOR",
          "ETH",
          "PER",
          "TUR",
          "SYR",
          "BRA",
          "JPN",
          "NLD",
          "GHA",
          "MYS",
          "AUS",
          "BGR",
          "ITA",
          "BIH",
          "CHL",
          "FJI",
          "CUB",
          "ARG",
          "GTM",
          "SDN",
          "TUN",
          "KEN",
          "IRL",
          "HUN",
          "CMR",
          "ALB",
          "MUS",
          "CHE",
          "SGP",
          "IDN",
          "GRC",
          "ECU",
          "NIC",
          "DOM",
          "BEL",
          "ERI",
          "NZL",
          "NPL",
          "VCT",
          "MMR",
          "THA",
          "GRD",
          "ZWE",
          "KAZ",
          "CIV",
          "BDI",
          "HRV",
          "BLR",
          "HND",
          "SEN",
          "BRB",
          "RWA",
          "KHM",
          "SVK",
          "BTN",
          "SWE",
          "ESP",
          "AUT",
          "LBY",
          "GIN",
          "LCA",
          "URY",
          "CRI",
          "CZE",
          "DNK",
          "TGO",
          "UGA",
          "SAU",
          "UZB",
          "SLE",
          "ARM",
          "PAN",
          "YEM",
          "BEN",
          "FIN",
          "LBR",
          "AZE",
          "DMA",
          "LTU",
          "KGZ",
          "NOR",
          "LVA",
          "MDG",
          "MLI",
          "AGO",
          "GEO",
          "BFA",
          "KWT",
          "PRY",
          "SRB",
          "ZMB",
          "TCD",
          "DJI",
          "MLT",
          "SYC",
          "CYP",
          "BLZ",
          "MRT",
          "ATG",
          "GAB",
          "NER",
          "MNG",
          "EST",
          "ARE",
          "BHS",
          "SUR",
          "KNA",
          "GMB",
          "BRN",
          "ISL",
          "CAF",
          "SVN",
          "TJK",
          "BHR",
          "BWA",
          "NAM",
          "TKM",
          "MWI",
          "OMN",
          "LUX",
          "CPV",
          "COM",
          "SWZ",
          "MOZ",
          "QAT",
          "TON",
          "LSO",
          "MNE",
          "GNB",
          "WSM",
          "PNG",
          "GNQ",
          "LIE",
          "MDV",
          "MCO",
          "CAN",
          "NRU",
          "AND",
          "KIR",
          "VUT",
          "STP",
          "TUV",
          "ASM",
          "SMR",
          "NCL",
          "MHL",
          "ESH",
          "PLW"
         ],
         "name": "",
         "type": "choropleth",
         "z": [
          691904,
          659962,
          551500,
          511391,
          241600,
          241122,
          175923,
          148358,
          139241,
          115359,
          109091,
          106431,
          97146,
          93585,
          84813,
          75785,
          74167,
          72745,
          72267,
          72088,
          69789,
          69439,
          66508,
          65568,
          63912,
          63344,
          58712,
          58639,
          54878,
          51410,
          50016,
          42109,
          40568,
          39732,
          35406,
          35136,
          32652,
          31781,
          31485,
          29659,
          27707,
          26884,
          26032,
          24417,
          23829,
          23310,
          22624,
          21855,
          21359,
          20609,
          20365,
          19596,
          19465,
          18506,
          17583,
          17228,
          16964,
          16822,
          16021,
          15699,
          15690,
          15678,
          14579,
          13150,
          12410,
          12233,
          12095,
          11193,
          10762,
          10450,
          10386,
          10222,
          9707,
          9245,
          9174,
          9091,
          8598,
          8490,
          8291,
          8110,
          8001,
          7975,
          7770,
          7362,
          6923,
          6691,
          6538,
          5963,
          5876,
          5866,
          5018,
          4985,
          4909,
          4891,
          4802,
          4715,
          4489,
          4192,
          3901,
          3545,
          3450,
          3425,
          3368,
          3351,
          3310,
          3161,
          2985,
          2852,
          2781,
          2759,
          2649,
          2470,
          2414,
          2353,
          2327,
          2326,
          2194,
          2188,
          2113,
          2068,
          2043,
          2025,
          1944,
          1939,
          1677,
          1653,
          1646,
          1546,
          1266,
          1126,
          1083,
          1016,
          981,
          952,
          952,
          952,
          935,
          836,
          808,
          739,
          653,
          603,
          600,
          570,
          550,
          523,
          503,
          475,
          396,
          320,
          310,
          294,
          224,
          215,
          201,
          194,
          188,
          160,
          157,
          142,
          107,
          105,
          83,
          78,
          64,
          61,
          40,
          30,
          29,
          20,
          18,
          15,
          15,
          11,
          10,
          8,
          6,
          5,
          5,
          2,
          2,
          1
         ]
        }
       ],
       "layout": {
        "coloraxis": {
         "colorbar": {
          "title": {
           "text": "Total"
          }
         },
         "colorscale": [
          [
           0,
           "#440154"
          ],
          [
           0.1111111111111111,
           "#482878"
          ],
          [
           0.2222222222222222,
           "#3e4989"
          ],
          [
           0.3333333333333333,
           "#31688e"
          ],
          [
           0.4444444444444444,
           "#26828e"
          ],
          [
           0.5555555555555556,
           "#1f9e89"
          ],
          [
           0.6666666666666666,
           "#35b779"
          ],
          [
           0.7777777777777778,
           "#6ece58"
          ],
          [
           0.8888888888888888,
           "#b5de2b"
          ],
          [
           1,
           "#fde725"
          ]
         ]
        },
        "geo": {
         "center": {},
         "domain": {
          "x": [
           0,
           1
          ],
          "y": [
           0,
           1
          ]
         }
        },
        "height": 700,
        "legend": {
         "tracegroupgap": 0
        },
        "margin": {
         "t": 60
        },
        "template": {
         "data": {
          "bar": [
           {
            "error_x": {
             "color": "#2a3f5f"
            },
            "error_y": {
             "color": "#2a3f5f"
            },
            "marker": {
             "line": {
              "color": "#E5ECF6",
              "width": 0.5
             }
            },
            "type": "bar"
           }
          ],
          "barpolar": [
           {
            "marker": {
             "line": {
              "color": "#E5ECF6",
              "width": 0.5
             }
            },
            "type": "barpolar"
           }
          ],
          "carpet": [
           {
            "aaxis": {
             "endlinecolor": "#2a3f5f",
             "gridcolor": "white",
             "linecolor": "white",
             "minorgridcolor": "white",
             "startlinecolor": "#2a3f5f"
            },
            "baxis": {
             "endlinecolor": "#2a3f5f",
             "gridcolor": "white",
             "linecolor": "white",
             "minorgridcolor": "white",
             "startlinecolor": "#2a3f5f"
            },
            "type": "carpet"
           }
          ],
          "choropleth": [
           {
            "colorbar": {
             "outlinewidth": 0,
             "ticks": ""
            },
            "type": "choropleth"
           }
          ],
          "contour": [
           {
            "colorbar": {
             "outlinewidth": 0,
             "ticks": ""
            },
            "colorscale": [
             [
              0,
              "#0d0887"
             ],
             [
              0.1111111111111111,
              "#46039f"
             ],
             [
              0.2222222222222222,
              "#7201a8"
             ],
             [
              0.3333333333333333,
              "#9c179e"
             ],
             [
              0.4444444444444444,
              "#bd3786"
             ],
             [
              0.5555555555555556,
              "#d8576b"
             ],
             [
              0.6666666666666666,
              "#ed7953"
             ],
             [
              0.7777777777777778,
              "#fb9f3a"
             ],
             [
              0.8888888888888888,
              "#fdca26"
             ],
             [
              1,
              "#f0f921"
             ]
            ],
            "type": "contour"
           }
          ],
          "contourcarpet": [
           {
            "colorbar": {
             "outlinewidth": 0,
             "ticks": ""
            },
            "type": "contourcarpet"
           }
          ],
          "heatmap": [
           {
            "colorbar": {
             "outlinewidth": 0,
             "ticks": ""
            },
            "colorscale": [
             [
              0,
              "#0d0887"
             ],
             [
              0.1111111111111111,
              "#46039f"
             ],
             [
              0.2222222222222222,
              "#7201a8"
             ],
             [
              0.3333333333333333,
              "#9c179e"
             ],
             [
              0.4444444444444444,
              "#bd3786"
             ],
             [
              0.5555555555555556,
              "#d8576b"
             ],
             [
              0.6666666666666666,
              "#ed7953"
             ],
             [
              0.7777777777777778,
              "#fb9f3a"
             ],
             [
              0.8888888888888888,
              "#fdca26"
             ],
             [
              1,
              "#f0f921"
             ]
            ],
            "type": "heatmap"
           }
          ],
          "heatmapgl": [
           {
            "colorbar": {
             "outlinewidth": 0,
             "ticks": ""
            },
            "colorscale": [
             [
              0,
              "#0d0887"
             ],
             [
              0.1111111111111111,
              "#46039f"
             ],
             [
              0.2222222222222222,
              "#7201a8"
             ],
             [
              0.3333333333333333,
              "#9c179e"
             ],
             [
              0.4444444444444444,
              "#bd3786"
             ],
             [
              0.5555555555555556,
              "#d8576b"
             ],
             [
              0.6666666666666666,
              "#ed7953"
             ],
             [
              0.7777777777777778,
              "#fb9f3a"
             ],
             [
              0.8888888888888888,
              "#fdca26"
             ],
             [
              1,
              "#f0f921"
             ]
            ],
            "type": "heatmapgl"
           }
          ],
          "histogram": [
           {
            "marker": {
             "colorbar": {
              "outlinewidth": 0,
              "ticks": ""
             }
            },
            "type": "histogram"
           }
          ],
          "histogram2d": [
           {
            "colorbar": {
             "outlinewidth": 0,
             "ticks": ""
            },
            "colorscale": [
             [
              0,
              "#0d0887"
             ],
             [
              0.1111111111111111,
              "#46039f"
             ],
             [
              0.2222222222222222,
              "#7201a8"
             ],
             [
              0.3333333333333333,
              "#9c179e"
             ],
             [
              0.4444444444444444,
              "#bd3786"
             ],
             [
              0.5555555555555556,
              "#d8576b"
             ],
             [
              0.6666666666666666,
              "#ed7953"
             ],
             [
              0.7777777777777778,
              "#fb9f3a"
             ],
             [
              0.8888888888888888,
              "#fdca26"
             ],
             [
              1,
              "#f0f921"
             ]
            ],
            "type": "histogram2d"
           }
          ],
          "histogram2dcontour": [
           {
            "colorbar": {
             "outlinewidth": 0,
             "ticks": ""
            },
            "colorscale": [
             [
              0,
              "#0d0887"
             ],
             [
              0.1111111111111111,
              "#46039f"
             ],
             [
              0.2222222222222222,
              "#7201a8"
             ],
             [
              0.3333333333333333,
              "#9c179e"
             ],
             [
              0.4444444444444444,
              "#bd3786"
             ],
             [
              0.5555555555555556,
              "#d8576b"
             ],
             [
              0.6666666666666666,
              "#ed7953"
             ],
             [
              0.7777777777777778,
              "#fb9f3a"
             ],
             [
              0.8888888888888888,
              "#fdca26"
             ],
             [
              1,
              "#f0f921"
             ]
            ],
            "type": "histogram2dcontour"
           }
          ],
          "mesh3d": [
           {
            "colorbar": {
             "outlinewidth": 0,
             "ticks": ""
            },
            "type": "mesh3d"
           }
          ],
          "parcoords": [
           {
            "line": {
             "colorbar": {
              "outlinewidth": 0,
              "ticks": ""
             }
            },
            "type": "parcoords"
           }
          ],
          "pie": [
           {
            "automargin": true,
            "type": "pie"
           }
          ],
          "scatter": [
           {
            "marker": {
             "colorbar": {
              "outlinewidth": 0,
              "ticks": ""
             }
            },
            "type": "scatter"
           }
          ],
          "scatter3d": [
           {
            "line": {
             "colorbar": {
              "outlinewidth": 0,
              "ticks": ""
             }
            },
            "marker": {
             "colorbar": {
              "outlinewidth": 0,
              "ticks": ""
             }
            },
            "type": "scatter3d"
           }
          ],
          "scattercarpet": [
           {
            "marker": {
             "colorbar": {
              "outlinewidth": 0,
              "ticks": ""
             }
            },
            "type": "scattercarpet"
           }
          ],
          "scattergeo": [
           {
            "marker": {
             "colorbar": {
              "outlinewidth": 0,
              "ticks": ""
             }
            },
            "type": "scattergeo"
           }
          ],
          "scattergl": [
           {
            "marker": {
             "colorbar": {
              "outlinewidth": 0,
              "ticks": ""
             }
            },
            "type": "scattergl"
           }
          ],
          "scattermapbox": [
           {
            "marker": {
             "colorbar": {
              "outlinewidth": 0,
              "ticks": ""
             }
            },
            "type": "scattermapbox"
           }
          ],
          "scatterpolar": [
           {
            "marker": {
             "colorbar": {
              "outlinewidth": 0,
              "ticks": ""
             }
            },
            "type": "scatterpolar"
           }
          ],
          "scatterpolargl": [
           {
            "marker": {
             "colorbar": {
              "outlinewidth": 0,
              "ticks": ""
             }
            },
            "type": "scatterpolargl"
           }
          ],
          "scatterternary": [
           {
            "marker": {
             "colorbar": {
              "outlinewidth": 0,
              "ticks": ""
             }
            },
            "type": "scatterternary"
           }
          ],
          "surface": [
           {
            "colorbar": {
             "outlinewidth": 0,
             "ticks": ""
            },
            "colorscale": [
             [
              0,
              "#0d0887"
             ],
             [
              0.1111111111111111,
              "#46039f"
             ],
             [
              0.2222222222222222,
              "#7201a8"
             ],
             [
              0.3333333333333333,
              "#9c179e"
             ],
             [
              0.4444444444444444,
              "#bd3786"
             ],
             [
              0.5555555555555556,
              "#d8576b"
             ],
             [
              0.6666666666666666,
              "#ed7953"
             ],
             [
              0.7777777777777778,
              "#fb9f3a"
             ],
             [
              0.8888888888888888,
              "#fdca26"
             ],
             [
              1,
              "#f0f921"
             ]
            ],
            "type": "surface"
           }
          ],
          "table": [
           {
            "cells": {
             "fill": {
              "color": "#EBF0F8"
             },
             "line": {
              "color": "white"
             }
            },
            "header": {
             "fill": {
              "color": "#C8D4E3"
             },
             "line": {
              "color": "white"
             }
            },
            "type": "table"
           }
          ]
         },
         "layout": {
          "annotationdefaults": {
           "arrowcolor": "#2a3f5f",
           "arrowhead": 0,
           "arrowwidth": 1
          },
          "autotypenumbers": "strict",
          "coloraxis": {
           "colorbar": {
            "outlinewidth": 0,
            "ticks": ""
           }
          },
          "colorscale": {
           "diverging": [
            [
             0,
             "#8e0152"
            ],
            [
             0.1,
             "#c51b7d"
            ],
            [
             0.2,
             "#de77ae"
            ],
            [
             0.3,
             "#f1b6da"
            ],
            [
             0.4,
             "#fde0ef"
            ],
            [
             0.5,
             "#f7f7f7"
            ],
            [
             0.6,
             "#e6f5d0"
            ],
            [
             0.7,
             "#b8e186"
            ],
            [
             0.8,
             "#7fbc41"
            ],
            [
             0.9,
             "#4d9221"
            ],
            [
             1,
             "#276419"
            ]
           ],
           "sequential": [
            [
             0,
             "#0d0887"
            ],
            [
             0.1111111111111111,
             "#46039f"
            ],
            [
             0.2222222222222222,
             "#7201a8"
            ],
            [
             0.3333333333333333,
             "#9c179e"
            ],
            [
             0.4444444444444444,
             "#bd3786"
            ],
            [
             0.5555555555555556,
             "#d8576b"
            ],
            [
             0.6666666666666666,
             "#ed7953"
            ],
            [
             0.7777777777777778,
             "#fb9f3a"
            ],
            [
             0.8888888888888888,
             "#fdca26"
            ],
            [
             1,
             "#f0f921"
            ]
           ],
           "sequentialminus": [
            [
             0,
             "#0d0887"
            ],
            [
             0.1111111111111111,
             "#46039f"
            ],
            [
             0.2222222222222222,
             "#7201a8"
            ],
            [
             0.3333333333333333,
             "#9c179e"
            ],
            [
             0.4444444444444444,
             "#bd3786"
            ],
            [
             0.5555555555555556,
             "#d8576b"
            ],
            [
             0.6666666666666666,
             "#ed7953"
            ],
            [
             0.7777777777777778,
             "#fb9f3a"
            ],
            [
             0.8888888888888888,
             "#fdca26"
            ],
            [
             1,
             "#f0f921"
            ]
           ]
          },
          "colorway": [
           "#636efa",
           "#EF553B",
           "#00cc96",
           "#ab63fa",
           "#FFA15A",
           "#19d3f3",
           "#FF6692",
           "#B6E880",
           "#FF97FF",
           "#FECB52"
          ],
          "font": {
           "color": "#2a3f5f"
          },
          "geo": {
           "bgcolor": "white",
           "lakecolor": "white",
           "landcolor": "#E5ECF6",
           "showlakes": true,
           "showland": true,
           "subunitcolor": "white"
          },
          "hoverlabel": {
           "align": "left"
          },
          "hovermode": "closest",
          "mapbox": {
           "style": "light"
          },
          "paper_bgcolor": "white",
          "plot_bgcolor": "#E5ECF6",
          "polar": {
           "angularaxis": {
            "gridcolor": "white",
            "linecolor": "white",
            "ticks": ""
           },
           "bgcolor": "#E5ECF6",
           "radialaxis": {
            "gridcolor": "white",
            "linecolor": "white",
            "ticks": ""
           }
          },
          "scene": {
           "xaxis": {
            "backgroundcolor": "#E5ECF6",
            "gridcolor": "white",
            "gridwidth": 2,
            "linecolor": "white",
            "showbackground": true,
            "ticks": "",
            "zerolinecolor": "white"
           },
           "yaxis": {
            "backgroundcolor": "#E5ECF6",
            "gridcolor": "white",
            "gridwidth": 2,
            "linecolor": "white",
            "showbackground": true,
            "ticks": "",
            "zerolinecolor": "white"
           },
           "zaxis": {
            "backgroundcolor": "#E5ECF6",
            "gridcolor": "white",
            "gridwidth": 2,
            "linecolor": "white",
            "showbackground": true,
            "ticks": "",
            "zerolinecolor": "white"
           }
          },
          "shapedefaults": {
           "line": {
            "color": "#2a3f5f"
           }
          },
          "ternary": {
           "aaxis": {
            "gridcolor": "white",
            "linecolor": "white",
            "ticks": ""
           },
           "baxis": {
            "gridcolor": "white",
            "linecolor": "white",
            "ticks": ""
           },
           "bgcolor": "#E5ECF6",
           "caxis": {
            "gridcolor": "white",
            "linecolor": "white",
            "ticks": ""
           }
          },
          "title": {
           "x": 0.05
          },
          "xaxis": {
           "automargin": true,
           "gridcolor": "white",
           "linecolor": "white",
           "ticks": "",
           "title": {
            "standoff": 15
           },
           "zerolinecolor": "white",
           "zerolinewidth": 2
          },
          "yaxis": {
           "automargin": true,
           "gridcolor": "white",
           "linecolor": "white",
           "ticks": "",
           "title": {
            "standoff": 15
           },
           "zerolinecolor": "white",
           "zerolinewidth": 2
          }
         }
        }
       }
      },
      "text/html": [
       "<div>                            <div id=\"4466d067-c0a2-4a12-b584-91686ce96934\" class=\"plotly-graph-div\" style=\"height:700px; width:100%;\"></div>            <script type=\"text/javascript\">                require([\"plotly\"], function(Plotly) {                    window.PLOTLYENV=window.PLOTLYENV || {};                                    if (document.getElementById(\"4466d067-c0a2-4a12-b584-91686ce96934\")) {                    Plotly.newPlot(                        \"4466d067-c0a2-4a12-b584-91686ce96934\",                        [{\"coloraxis\": \"coloraxis\", \"geo\": \"geo\", \"hovertemplate\": \"<b>%{hovertext}</b><br><br>Country_3code=%{location}<br>Total=%{z}<extra></extra>\", \"hovertext\": [\"India\", \"China\", \"United Kingdom\", \"Philippines\", \"Pakistan\", \"United States of America\", \"Iran (Islamic Republic of)\", \"Sri Lanka\", \"Poland\", \"Lebanon\", \"France\", \"Jamaica\", \"Viet Nam\", \"Romania\", \"Haiti\", \"Guyana\", \"Portugal\", \"Egypt\", \"Morocco\", \"Colombia\", \"Iraq\", \"Algeria\", \"Israel\", \"Bangladesh\", \"Germany\", \"Russian Federation\", \"Mexico\", \"Afghanistan\", \"El Salvador\", \"Ukraine\", \"Trinidad and Tobago\", \"Somalia\", \"South Africa\", \"Nigeria\", \"Jordan\", \"Ethiopia\", \"Peru\", \"Turkey\", \"Syrian Arab Republic\", \"Brazil\", \"Japan\", \"Netherlands\", \"Ghana\", \"Malaysia\", \"Australia\", \"Bulgaria\", \"Italy\", \"Bosnia and Herzegovina\", \"Chile\", \"Fiji\", \"Cuba\", \"Argentina\", \"Guatemala\", \"Sudan\", \"Tunisia\", \"Kenya\", \"Ireland\", \"Hungary\", \"Cameroon\", \"Albania\", \"Mauritius\", \"Switzerland\", \"Singapore\", \"Indonesia\", \"Greece\", \"Ecuador\", \"Nicaragua\", \"Dominican Republic\", \"Belgium\", \"Eritrea\", \"New Zealand\", \"Nepal\", \"Saint Vincent and the Grenadines\", \"Myanmar\", \"Thailand\", \"Grenada\", \"Zimbabwe\", \"Kazakhstan\", \"C\\u00f4te d'Ivoire\", \"Burundi\", \"Croatia\", \"Belarus\", \"Honduras\", \"Senegal\", \"Barbados\", \"Rwanda\", \"Cambodia\", \"Slovakia\", \"Bhutan\", \"Sweden\", \"Spain\", \"Austria\", \"Libya\", \"Guinea\", \"Saint Lucia\", \"Uruguay\", \"Costa Rica\", \"Czech Republic\", \"Denmark\", \"Togo\", \"Uganda\", \"Saudi Arabia\", \"Uzbekistan\", \"Sierra Leone\", \"Armenia\", \"Panama\", \"Yemen\", \"Benin\", \"Finland\", \"Liberia\", \"Azerbaijan\", \"Dominica\", \"Lithuania\", \"Kyrgyzstan\", \"Norway\", \"Latvia\", \"Madagascar\", \"Mali\", \"Angola\", \"Georgia\", \"Burkina Faso\", \"Kuwait\", \"Paraguay\", \"Serbia\", \"Zambia\", \"Chad\", \"Djibouti\", \"Malta\", \"Seychelles\", \"Cyprus\", \"Belize\", \"Mauritania\", \"Antigua and Barbuda\", \"Gabon\", \"Niger\", \"Mongolia\", \"Estonia\", \"United Arab Emirates\", \"Bahamas\", \"Suriname\", \"Saint Kitts and Nevis\", \"Gambia\", \"Brunei Darussalam\", \"Iceland\", \"Central African Republic\", \"Slovenia\", \"Tajikistan\", \"Bahrain\", \"Botswana\", \"Namibia\", \"Turkmenistan\", \"Malawi\", \"Oman\", \"Luxembourg\", \"Cabo Verde\", \"Comoros\", \"Swaziland\", \"Mozambique\", \"Qatar\", \"Tonga\", \"Lesotho\", \"Montenegro\", \"Guinea-Bissau\", \"Samoa\", \"Papua New Guinea\", \"Equatorial Guinea\", \"Liechtenstein\", \"Maldives\", \"Monaco\", \"Canada\", \"Nauru\", \"Andorra\", \"Kiribati\", \"Vanuatu\", \"Sao Tome and Principe\", \"Tuvalu\", \"American Samoa\", \"San Marino\", \"New Caledonia\", \"Marshall Islands\", \"Western Sahara\", \"Palau\"], \"locations\": [\"IND\", \"CHN\", \"GBR\", \"PHL\", \"PAK\", \"USA\", \"IRN\", \"LKA\", \"POL\", \"LBN\", \"FRA\", \"JAM\", \"VNM\", \"ROU\", \"HTI\", \"GUY\", \"PRT\", \"EGY\", \"MAR\", \"COL\", \"IRQ\", \"DZA\", \"ISR\", \"BGD\", \"DEU\", \"RUS\", \"MEX\", \"AFG\", \"SLV\", \"UKR\", \"TTO\", \"SOM\", \"ZAF\", \"NGA\", \"JOR\", \"ETH\", \"PER\", \"TUR\", \"SYR\", \"BRA\", \"JPN\", \"NLD\", \"GHA\", \"MYS\", \"AUS\", \"BGR\", \"ITA\", \"BIH\", \"CHL\", \"FJI\", \"CUB\", \"ARG\", \"GTM\", \"SDN\", \"TUN\", \"KEN\", \"IRL\", \"HUN\", \"CMR\", \"ALB\", \"MUS\", \"CHE\", \"SGP\", \"IDN\", \"GRC\", \"ECU\", \"NIC\", \"DOM\", \"BEL\", \"ERI\", \"NZL\", \"NPL\", \"VCT\", \"MMR\", \"THA\", \"GRD\", \"ZWE\", \"KAZ\", \"CIV\", \"BDI\", \"HRV\", \"BLR\", \"HND\", \"SEN\", \"BRB\", \"RWA\", \"KHM\", \"SVK\", \"BTN\", \"SWE\", \"ESP\", \"AUT\", \"LBY\", \"GIN\", \"LCA\", \"URY\", \"CRI\", \"CZE\", \"DNK\", \"TGO\", \"UGA\", \"SAU\", \"UZB\", \"SLE\", \"ARM\", \"PAN\", \"YEM\", \"BEN\", \"FIN\", \"LBR\", \"AZE\", \"DMA\", \"LTU\", \"KGZ\", \"NOR\", \"LVA\", \"MDG\", \"MLI\", \"AGO\", \"GEO\", \"BFA\", \"KWT\", \"PRY\", \"SRB\", \"ZMB\", \"TCD\", \"DJI\", \"MLT\", \"SYC\", \"CYP\", \"BLZ\", \"MRT\", \"ATG\", \"GAB\", \"NER\", \"MNG\", \"EST\", \"ARE\", \"BHS\", \"SUR\", \"KNA\", \"GMB\", \"BRN\", \"ISL\", \"CAF\", \"SVN\", \"TJK\", \"BHR\", \"BWA\", \"NAM\", \"TKM\", \"MWI\", \"OMN\", \"LUX\", \"CPV\", \"COM\", \"SWZ\", \"MOZ\", \"QAT\", \"TON\", \"LSO\", \"MNE\", \"GNB\", \"WSM\", \"PNG\", \"GNQ\", \"LIE\", \"MDV\", \"MCO\", \"CAN\", \"NRU\", \"AND\", \"KIR\", \"VUT\", \"STP\", \"TUV\", \"ASM\", \"SMR\", \"NCL\", \"MHL\", \"ESH\", \"PLW\"], \"name\": \"\", \"type\": \"choropleth\", \"z\": [691904, 659962, 551500, 511391, 241600, 241122, 175923, 148358, 139241, 115359, 109091, 106431, 97146, 93585, 84813, 75785, 74167, 72745, 72267, 72088, 69789, 69439, 66508, 65568, 63912, 63344, 58712, 58639, 54878, 51410, 50016, 42109, 40568, 39732, 35406, 35136, 32652, 31781, 31485, 29659, 27707, 26884, 26032, 24417, 23829, 23310, 22624, 21855, 21359, 20609, 20365, 19596, 19465, 18506, 17583, 17228, 16964, 16822, 16021, 15699, 15690, 15678, 14579, 13150, 12410, 12233, 12095, 11193, 10762, 10450, 10386, 10222, 9707, 9245, 9174, 9091, 8598, 8490, 8291, 8110, 8001, 7975, 7770, 7362, 6923, 6691, 6538, 5963, 5876, 5866, 5018, 4985, 4909, 4891, 4802, 4715, 4489, 4192, 3901, 3545, 3450, 3425, 3368, 3351, 3310, 3161, 2985, 2852, 2781, 2759, 2649, 2470, 2414, 2353, 2327, 2326, 2194, 2188, 2113, 2068, 2043, 2025, 1944, 1939, 1677, 1653, 1646, 1546, 1266, 1126, 1083, 1016, 981, 952, 952, 952, 935, 836, 808, 739, 653, 603, 600, 570, 550, 523, 503, 475, 396, 320, 310, 294, 224, 215, 201, 194, 188, 160, 157, 142, 107, 105, 83, 78, 64, 61, 40, 30, 29, 20, 18, 15, 15, 11, 10, 8, 6, 5, 5, 2, 2, 1]}],                        {\"coloraxis\": {\"colorbar\": {\"title\": {\"text\": \"Total\"}}, \"colorscale\": [[0.0, \"#440154\"], [0.1111111111111111, \"#482878\"], [0.2222222222222222, \"#3e4989\"], [0.3333333333333333, \"#31688e\"], [0.4444444444444444, \"#26828e\"], [0.5555555555555556, \"#1f9e89\"], [0.6666666666666666, \"#35b779\"], [0.7777777777777778, \"#6ece58\"], [0.8888888888888888, \"#b5de2b\"], [1.0, \"#fde725\"]]}, \"geo\": {\"center\": {}, \"domain\": {\"x\": [0.0, 1.0], \"y\": [0.0, 1.0]}}, \"height\": 700, \"legend\": {\"tracegroupgap\": 0}, \"margin\": {\"t\": 60}, \"template\": {\"data\": {\"bar\": [{\"error_x\": {\"color\": \"#2a3f5f\"}, \"error_y\": {\"color\": \"#2a3f5f\"}, \"marker\": {\"line\": {\"color\": \"#E5ECF6\", \"width\": 0.5}}, \"type\": \"bar\"}], \"barpolar\": [{\"marker\": {\"line\": {\"color\": \"#E5ECF6\", \"width\": 0.5}}, \"type\": \"barpolar\"}], \"carpet\": [{\"aaxis\": {\"endlinecolor\": \"#2a3f5f\", \"gridcolor\": \"white\", \"linecolor\": \"white\", \"minorgridcolor\": \"white\", \"startlinecolor\": \"#2a3f5f\"}, \"baxis\": {\"endlinecolor\": \"#2a3f5f\", \"gridcolor\": \"white\", \"linecolor\": \"white\", \"minorgridcolor\": \"white\", \"startlinecolor\": \"#2a3f5f\"}, \"type\": \"carpet\"}], \"choropleth\": [{\"colorbar\": {\"outlinewidth\": 0, \"ticks\": \"\"}, \"type\": \"choropleth\"}], \"contour\": [{\"colorbar\": {\"outlinewidth\": 0, \"ticks\": \"\"}, \"colorscale\": [[0.0, \"#0d0887\"], [0.1111111111111111, \"#46039f\"], [0.2222222222222222, \"#7201a8\"], [0.3333333333333333, \"#9c179e\"], [0.4444444444444444, \"#bd3786\"], [0.5555555555555556, \"#d8576b\"], [0.6666666666666666, \"#ed7953\"], [0.7777777777777778, \"#fb9f3a\"], [0.8888888888888888, \"#fdca26\"], [1.0, \"#f0f921\"]], \"type\": \"contour\"}], \"contourcarpet\": [{\"colorbar\": {\"outlinewidth\": 0, \"ticks\": \"\"}, \"type\": \"contourcarpet\"}], \"heatmap\": [{\"colorbar\": {\"outlinewidth\": 0, \"ticks\": \"\"}, \"colorscale\": [[0.0, \"#0d0887\"], [0.1111111111111111, \"#46039f\"], [0.2222222222222222, \"#7201a8\"], [0.3333333333333333, \"#9c179e\"], [0.4444444444444444, \"#bd3786\"], [0.5555555555555556, \"#d8576b\"], [0.6666666666666666, \"#ed7953\"], [0.7777777777777778, \"#fb9f3a\"], [0.8888888888888888, \"#fdca26\"], [1.0, \"#f0f921\"]], \"type\": \"heatmap\"}], \"heatmapgl\": [{\"colorbar\": {\"outlinewidth\": 0, \"ticks\": \"\"}, \"colorscale\": [[0.0, \"#0d0887\"], [0.1111111111111111, \"#46039f\"], [0.2222222222222222, \"#7201a8\"], [0.3333333333333333, \"#9c179e\"], [0.4444444444444444, \"#bd3786\"], [0.5555555555555556, \"#d8576b\"], [0.6666666666666666, \"#ed7953\"], [0.7777777777777778, \"#fb9f3a\"], [0.8888888888888888, \"#fdca26\"], [1.0, \"#f0f921\"]], \"type\": \"heatmapgl\"}], \"histogram\": [{\"marker\": {\"colorbar\": {\"outlinewidth\": 0, \"ticks\": \"\"}}, \"type\": \"histogram\"}], \"histogram2d\": [{\"colorbar\": {\"outlinewidth\": 0, \"ticks\": \"\"}, \"colorscale\": [[0.0, \"#0d0887\"], [0.1111111111111111, \"#46039f\"], [0.2222222222222222, \"#7201a8\"], [0.3333333333333333, \"#9c179e\"], [0.4444444444444444, \"#bd3786\"], [0.5555555555555556, \"#d8576b\"], [0.6666666666666666, \"#ed7953\"], [0.7777777777777778, \"#fb9f3a\"], [0.8888888888888888, \"#fdca26\"], [1.0, \"#f0f921\"]], \"type\": \"histogram2d\"}], \"histogram2dcontour\": [{\"colorbar\": {\"outlinewidth\": 0, \"ticks\": \"\"}, \"colorscale\": [[0.0, \"#0d0887\"], [0.1111111111111111, \"#46039f\"], [0.2222222222222222, \"#7201a8\"], [0.3333333333333333, \"#9c179e\"], [0.4444444444444444, \"#bd3786\"], [0.5555555555555556, \"#d8576b\"], [0.6666666666666666, \"#ed7953\"], [0.7777777777777778, \"#fb9f3a\"], [0.8888888888888888, \"#fdca26\"], [1.0, \"#f0f921\"]], \"type\": \"histogram2dcontour\"}], \"mesh3d\": [{\"colorbar\": {\"outlinewidth\": 0, \"ticks\": \"\"}, \"type\": \"mesh3d\"}], \"parcoords\": [{\"line\": {\"colorbar\": {\"outlinewidth\": 0, \"ticks\": \"\"}}, \"type\": \"parcoords\"}], \"pie\": [{\"automargin\": true, \"type\": \"pie\"}], \"scatter\": [{\"marker\": {\"colorbar\": {\"outlinewidth\": 0, \"ticks\": \"\"}}, \"type\": \"scatter\"}], \"scatter3d\": [{\"line\": {\"colorbar\": {\"outlinewidth\": 0, \"ticks\": \"\"}}, \"marker\": {\"colorbar\": {\"outlinewidth\": 0, \"ticks\": \"\"}}, \"type\": \"scatter3d\"}], \"scattercarpet\": [{\"marker\": {\"colorbar\": {\"outlinewidth\": 0, \"ticks\": \"\"}}, \"type\": \"scattercarpet\"}], \"scattergeo\": [{\"marker\": {\"colorbar\": {\"outlinewidth\": 0, \"ticks\": \"\"}}, \"type\": \"scattergeo\"}], \"scattergl\": [{\"marker\": {\"colorbar\": {\"outlinewidth\": 0, \"ticks\": \"\"}}, \"type\": \"scattergl\"}], \"scattermapbox\": [{\"marker\": {\"colorbar\": {\"outlinewidth\": 0, \"ticks\": \"\"}}, \"type\": \"scattermapbox\"}], \"scatterpolar\": [{\"marker\": {\"colorbar\": {\"outlinewidth\": 0, \"ticks\": \"\"}}, \"type\": \"scatterpolar\"}], \"scatterpolargl\": [{\"marker\": {\"colorbar\": {\"outlinewidth\": 0, \"ticks\": \"\"}}, \"type\": \"scatterpolargl\"}], \"scatterternary\": [{\"marker\": {\"colorbar\": {\"outlinewidth\": 0, \"ticks\": \"\"}}, \"type\": \"scatterternary\"}], \"surface\": [{\"colorbar\": {\"outlinewidth\": 0, \"ticks\": \"\"}, \"colorscale\": [[0.0, \"#0d0887\"], [0.1111111111111111, \"#46039f\"], [0.2222222222222222, \"#7201a8\"], [0.3333333333333333, \"#9c179e\"], [0.4444444444444444, \"#bd3786\"], [0.5555555555555556, \"#d8576b\"], [0.6666666666666666, \"#ed7953\"], [0.7777777777777778, \"#fb9f3a\"], [0.8888888888888888, \"#fdca26\"], [1.0, \"#f0f921\"]], \"type\": \"surface\"}], \"table\": [{\"cells\": {\"fill\": {\"color\": \"#EBF0F8\"}, \"line\": {\"color\": \"white\"}}, \"header\": {\"fill\": {\"color\": \"#C8D4E3\"}, \"line\": {\"color\": \"white\"}}, \"type\": \"table\"}]}, \"layout\": {\"annotationdefaults\": {\"arrowcolor\": \"#2a3f5f\", \"arrowhead\": 0, \"arrowwidth\": 1}, \"autotypenumbers\": \"strict\", \"coloraxis\": {\"colorbar\": {\"outlinewidth\": 0, \"ticks\": \"\"}}, \"colorscale\": {\"diverging\": [[0, \"#8e0152\"], [0.1, \"#c51b7d\"], [0.2, \"#de77ae\"], [0.3, \"#f1b6da\"], [0.4, \"#fde0ef\"], [0.5, \"#f7f7f7\"], [0.6, \"#e6f5d0\"], [0.7, \"#b8e186\"], [0.8, \"#7fbc41\"], [0.9, \"#4d9221\"], [1, \"#276419\"]], \"sequential\": [[0.0, \"#0d0887\"], [0.1111111111111111, \"#46039f\"], [0.2222222222222222, \"#7201a8\"], [0.3333333333333333, \"#9c179e\"], [0.4444444444444444, \"#bd3786\"], [0.5555555555555556, \"#d8576b\"], [0.6666666666666666, \"#ed7953\"], [0.7777777777777778, \"#fb9f3a\"], [0.8888888888888888, \"#fdca26\"], [1.0, \"#f0f921\"]], \"sequentialminus\": [[0.0, \"#0d0887\"], [0.1111111111111111, \"#46039f\"], [0.2222222222222222, \"#7201a8\"], [0.3333333333333333, \"#9c179e\"], [0.4444444444444444, \"#bd3786\"], [0.5555555555555556, \"#d8576b\"], [0.6666666666666666, \"#ed7953\"], [0.7777777777777778, \"#fb9f3a\"], [0.8888888888888888, \"#fdca26\"], [1.0, \"#f0f921\"]]}, \"colorway\": [\"#636efa\", \"#EF553B\", \"#00cc96\", \"#ab63fa\", \"#FFA15A\", \"#19d3f3\", \"#FF6692\", \"#B6E880\", \"#FF97FF\", \"#FECB52\"], \"font\": {\"color\": \"#2a3f5f\"}, \"geo\": {\"bgcolor\": \"white\", \"lakecolor\": \"white\", \"landcolor\": \"#E5ECF6\", \"showlakes\": true, \"showland\": true, \"subunitcolor\": \"white\"}, \"hoverlabel\": {\"align\": \"left\"}, \"hovermode\": \"closest\", \"mapbox\": {\"style\": \"light\"}, \"paper_bgcolor\": \"white\", \"plot_bgcolor\": \"#E5ECF6\", \"polar\": {\"angularaxis\": {\"gridcolor\": \"white\", \"linecolor\": \"white\", \"ticks\": \"\"}, \"bgcolor\": \"#E5ECF6\", \"radialaxis\": {\"gridcolor\": \"white\", \"linecolor\": \"white\", \"ticks\": \"\"}}, \"scene\": {\"xaxis\": {\"backgroundcolor\": \"#E5ECF6\", \"gridcolor\": \"white\", \"gridwidth\": 2, \"linecolor\": \"white\", \"showbackground\": true, \"ticks\": \"\", \"zerolinecolor\": \"white\"}, \"yaxis\": {\"backgroundcolor\": \"#E5ECF6\", \"gridcolor\": \"white\", \"gridwidth\": 2, \"linecolor\": \"white\", \"showbackground\": true, \"ticks\": \"\", \"zerolinecolor\": \"white\"}, \"zaxis\": {\"backgroundcolor\": \"#E5ECF6\", \"gridcolor\": \"white\", \"gridwidth\": 2, \"linecolor\": \"white\", \"showbackground\": true, \"ticks\": \"\", \"zerolinecolor\": \"white\"}}, \"shapedefaults\": {\"line\": {\"color\": \"#2a3f5f\"}}, \"ternary\": {\"aaxis\": {\"gridcolor\": \"white\", \"linecolor\": \"white\", \"ticks\": \"\"}, \"baxis\": {\"gridcolor\": \"white\", \"linecolor\": \"white\", \"ticks\": \"\"}, \"bgcolor\": \"#E5ECF6\", \"caxis\": {\"gridcolor\": \"white\", \"linecolor\": \"white\", \"ticks\": \"\"}}, \"title\": {\"x\": 0.05}, \"xaxis\": {\"automargin\": true, \"gridcolor\": \"white\", \"linecolor\": \"white\", \"ticks\": \"\", \"title\": {\"standoff\": 15}, \"zerolinecolor\": \"white\", \"zerolinewidth\": 2}, \"yaxis\": {\"automargin\": true, \"gridcolor\": \"white\", \"linecolor\": \"white\", \"ticks\": \"\", \"title\": {\"standoff\": 15}, \"zerolinecolor\": \"white\", \"zerolinewidth\": 2}}}},                        {\"responsive\": true}                    ).then(function(){\n",
       "                            \n",
       "var gd = document.getElementById('4466d067-c0a2-4a12-b584-91686ce96934');\n",
       "var x = new MutationObserver(function (mutations, observer) {{\n",
       "        var display = window.getComputedStyle(gd).display;\n",
       "        if (!display || display === 'none') {{\n",
       "            console.log([gd, 'removed!']);\n",
       "            Plotly.purge(gd);\n",
       "            observer.disconnect();\n",
       "        }}\n",
       "}});\n",
       "\n",
       "// Listen for the removal of the full notebook cells\n",
       "var notebookContainer = gd.closest('#notebook-container');\n",
       "if (notebookContainer) {{\n",
       "    x.observe(notebookContainer, {childList: true});\n",
       "}}\n",
       "\n",
       "// Listen for the clearing of the current output cell\n",
       "var outputEl = gd.closest('.output');\n",
       "if (outputEl) {{\n",
       "    x.observe(outputEl, {childList: true});\n",
       "}}\n",
       "\n",
       "                        })                };                });            </script>        </div>"
      ]
     },
     "metadata": {},
     "output_type": "display_data"
    }
   ],
   "source": [
    "px.choropleth(df3, locations=\"Country_3code\", hover_name=\"Country\", color=\"Total\",color_continuous_scale=\"Viridis\", height=700)"
   ]
  },
  {
   "cell_type": "markdown",
   "metadata": {},
   "source": [
    "### _ Histo\n",
    "__Question 11: Réalisez un histogramme montrant le nombre d'immigrant par nombre de pays pour la dernière année enregistré__"
   ]
  },
  {
   "cell_type": "code",
   "execution_count": 71,
   "metadata": {},
   "outputs": [
    {
     "name": "stdout",
     "output_type": "stream",
     "text": [
      "[164  14   9   2   1   0   1   1   0   0   0   0   0   0   0   0   0   1\n",
      "   0   2]\n",
      "[    0.    1706.45  3412.9   5119.35  6825.8   8532.25 10238.7  11945.15\n",
      " 13651.6  15358.05 17064.5  18770.95 20477.4  22183.85 23890.3  25596.75\n",
      " 27303.2  29009.65 30716.1  32422.55 34129.  ]\n"
     ]
    }
   ],
   "source": [
    "# np.histogram retourne 2 valeurs \n",
    "count, bin_edges = np.histogram(df[2013]) #, bins=nombre\n",
    "\n",
    "print(count) # frequency count\n",
    "print(bin_edges) # bin ranges, default = 10 bins"
   ]
  },
  {
   "cell_type": "markdown",
   "metadata": {},
   "source": [
    "Par défaut, la méthode « histogramme » divise l'ensemble de données en 10 groupes. \n",
    "* 178 pays ont contribué entre 0 et 3412,9 immigrants\n",
    "* 11 pays ont contribué entre 3412,9 à 6825,8 immigrants\n",
    "* 1 pays a contribué entre 6285,8 à 10238,7 immigrants, et ainsi de suite.\n"
   ]
  },
  {
   "cell_type": "code",
   "execution_count": 273,
   "metadata": {},
   "outputs": [
    {
     "data": {
      "image/png": "[encoded data removed]",
      "text/plain": [
       "<Figure size 576x360 with 1 Axes>"
      ]
     },
     "metadata": {
      "needs_background": "light"
     },
     "output_type": "display_data"
    }
   ],
   "source": [
    "# count, bin_edges = np.histogram(df[2013])\n",
    "df[2013].plot(kind='hist', figsize=(8, 5), bins=10) #,bins=nombre - 10 par defaut\n",
    "\n",
    "plt.title('Histogram de 195 pays')  \n",
    "plt.ylabel('Nombre pays')  \n",
    "plt.xlabel('Nombre immigrant') \n",
    "\n",
    "plt.show()"
   ]
  },
  {
   "cell_type": "markdown",
   "metadata": {},
   "source": [
    "__BONUS: faire un word cloud avec le nom de pays contribuant le plus à l'immigration.__\n",
    "\n",
    "    Source: https://github.com/amueller/word_cloud/\n",
    "    "
   ]
  },
  {
   "cell_type": "code",
   "execution_count": null,
   "metadata": {},
   "outputs": [],
   "source": []
  },
  {
   "cell_type": "code",
   "execution_count": null,
   "metadata": {},
   "outputs": [],
   "source": []
  },
  {
   "cell_type": "code",
   "execution_count": null,
   "metadata": {},
   "outputs": [],
   "source": []
  },
  {
   "cell_type": "markdown",
   "metadata": {},
   "source": [
    "<details><summary>Double clique pour connaitre la source de l'exercice </summary>\n",
    "\n",
    "```python\n",
    "Sources: Nation Unis et IBM Corporation\n",
    "```"
   ]
  }
 ],
 "metadata": {
  "kernelspec": {
   "display_name": "Python 3",
   "language": "python",
   "name": "python3"
  },
  "language_info": {
   "codemirror_mode": {
    "name": "ipython",
    "version": 3
   },
   "file_extension": ".py",
   "mimetype": "text/x-python",
   "name": "python",
   "nbconvert_exporter": "python",
   "pygments_lexer": "ipython3",
   "version": "3.8.5"
  },
  "latex_envs": {
   "LaTeX_envs_menu_present": true,
   "autoclose": false,
   "autocomplete": true,
   "bibliofile": "biblio.bib",
   "cite_by": "apalike",
   "current_citInitial": 1,
   "eqLabelWithNumbers": true,
   "eqNumInitial": 1,
   "hotkeys": {
    "equation": "Ctrl-E",
    "itemize": "Ctrl-I"
   },
   "labels_anchors": false,
   "latex_user_defs": false,
   "report_style_numbering": false,
   "user_envs_cfg": false
  },
  "toc": {
   "base_numbering": 1,
   "nav_menu": {},
   "number_sections": true,
   "sideBar": true,
   "skip_h1_title": false,
   "title_cell": "Table of Contents",
   "title_sidebar": "Contents",
   "toc_cell": false,
   "toc_position": {
    "height": "calc(100% - 180px)",
    "left": "10px",
    "top": "150px",
    "width": "269.825px"
   },
   "toc_section_display": true,
   "toc_window_display": true
  }
 },
 "nbformat": 4,
 "nbformat_minor": 4
}
