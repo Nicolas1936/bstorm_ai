{
 "cells": [
  {
   "cell_type": "markdown",
   "metadata": {},
   "source": [
    "<font size=\"5\"><p style=\"text-align: center;\">**Visualisation avec Seaborn**</font></p> "
   ]
  },
  {
   "cell_type": "markdown",
   "metadata": {},
   "source": [
    "<font size=\"4\">**SEABORN , qu'est ce c'est?**</font>\n",
    "\n",
    "Seaborn est une bibliothèque permettant de créer des graphiques en Python. Elle est basée sur Matplotlib, et s’intègre avec les structures Pandas.\n",
    "\n",
    "<font size=\"3\"> **Avantages:**</font>\n",
    "- Syntaxe Facile et réduite\n",
    "- Fournit différents styles et palettes de couleur attrayantes par défaut\n",
    "- Seaborn automatise la création de figures multiples\n",
    "- Intégration renforcée avec Pandas et ses Data Frames\n",
    "\n",
    "\n",
    "On utilise principalement Matplotlib pour les tracés de graphiques basiques. Cependant, Matplotlib offre une flexibilité importante en termes de customisation et des performances parfois supérieures.\n",
    "\n",
    "Choix de couleur: http://seaborn.pydata.org/tutorial/color_palettes.html\n",
    "\n",
    "Choix du style : http://seaborn.pydata.org/tutorial/aesthetics.html\n"
   ]
  },
  {
   "cell_type": "code",
   "execution_count": null,
   "metadata": {},
   "outputs": [],
   "source": [
    "# Imporatation libraries\n",
    "import pandas as pd\n",
    "import numpy as np\n",
    "import matplotlib.pyplot as plt\n",
    "import seaborn as sns"
   ]
  },
  {
   "cell_type": "code",
   "execution_count": null,
   "metadata": {},
   "outputs": [],
   "source": [
    "# Création d'un dataframe\n",
    "df=pd.DataFrame(np.random.rand(50,1)*100, columns=['vitesse'])\n",
    "df['poids']=np.random.rand(50,1)*100\n",
    "df['Nbre_accident']=np.random.randint(10, size=50)\n",
    "df['category']=np.random.choice(['Ford','BMW', 'Honda','Toyota'], size=50)\n",
    "df['color']=np.random.choice(['Bleu','Rouge', 'Noir'], size=50)\n",
    "df['bool']=np.random.choice([1,2], size=50)\n",
    "df.head()"
   ]
  },
  {
   "cell_type": "markdown",
   "metadata": {},
   "source": [
    "# CATPLOT - Variables catégorielles\n"
   ]
  },
  {
   "cell_type": "markdown",
   "metadata": {},
   "source": [
    "seaborn.catplot(*, x=None, y=None, hue=None, data=None, row=None, col=None, col_wrap=None, estimator=<function mean at 0x7fecadf1cee0>, ci=95, n_boot=1000, units=None, seed=None, order=None, hue_order=None, row_order=None, col_order=None, kind='strip', height=5, aspect=1, orient=None, color=None, palette=None, legend=True, legend_out=True, sharex=True, sharey=True, margin_titles=False, facet_kws=None, **kwargs)\n",
    "\n",
    "    Kind : bar - count - box - swarm - violin\n",
    "\n",
    "https://seaborn.pydata.org/generated/seaborn.catplot.html?highlight=catplot#seaborn.catplot"
   ]
  },
  {
   "cell_type": "code",
   "execution_count": null,
   "metadata": {},
   "outputs": [],
   "source": [
    "plt.figure(figsize=(12,7))\n",
    "sns.catplot(y=\"category\", x=\"vitesse\",\n",
    "                hue=\"color\",\n",
    "                col=\"bool\",\n",
    "                data=df, \n",
    "                kind=\"bar\",\n",
    "               )\n",
    "plt.show()"
   ]
  },
  {
   "cell_type": "markdown",
   "metadata": {},
   "source": [
    "## Barplot\n",
    "\n",
    "seaborn.barplot(x=None, y=None, hue=None, data=None, order=None, hue_order=None, estimator=, ci=95, n_boot=1000, units=None, orient=None, color=None, palette=None, saturation=0.75, errcolor='.26', errwidth=None, capsize=None, dodge=True, ax=None, **kwargs)\n",
    "\n",
    "    x,y,hue : names of variable in data or vector data\n",
    "    data : DataFrame,array or list of array,optional\n",
    "    color :matplotlib color,optional\n",
    "    palette : palette name,list, or dict,optional\n",
    "\n",
    "   \n",
    " https://seaborn.pydata.org/generated/seaborn.barplot.html#seaborn.barplot"
   ]
  },
  {
   "cell_type": "markdown",
   "metadata": {},
   "source": [
    "### Exemple 1"
   ]
  },
  {
   "cell_type": "code",
   "execution_count": null,
   "metadata": {},
   "outputs": [],
   "source": [
    "df['category'].value_counts()"
   ]
  },
  {
   "cell_type": "code",
   "execution_count": null,
   "metadata": {},
   "outputs": [],
   "source": [
    "sns.barplot(x=df['category'].value_counts().index,\n",
    "               y=df['category'].value_counts().values,\n",
    "               palette=\"Blues_d\")\n",
    "z=list(range(0,20,2))\n",
    "plt.yticks(z)\n",
    "plt.xlabel('Category',fontsize=14, color=\"skyblue\")\n",
    "plt.ylabel('Frequency')\n",
    "plt.title('Bar Plot')"
   ]
  },
  {
   "cell_type": "markdown",
   "metadata": {},
   "source": [
    "### Exemple 2: choix du style\n",
    "\n",
    "    style: darkgrid, whitegrid, dark, white, ticks\n",
    "    \n",
    "    context: paper, talk, poster\n",
    "    \n",
    "    color_palette: https://seaborn.pydata.org/generated/seaborn.color_palette.html#seaborn.color_palette"
   ]
  },
  {
   "cell_type": "code",
   "execution_count": null,
   "metadata": {},
   "outputs": [],
   "source": [
    "plt.figure(figsize=(7,4))\n",
    "\n",
    "sns.set(style='whitegrid')\n",
    "sns.set_context(\"paper\")\n",
    "sns.set_palette(\"Set2\")\n",
    "\n",
    "ax=sns.barplot(x=df['category'].value_counts().index,\n",
    "               y=df['category'].value_counts().values)\n",
    "\n",
    "plt.xlabel('Category')\n",
    "plt.ylabel('Frequency')\n",
    "plt.title('Bar Plot')\n"
   ]
  },
  {
   "cell_type": "markdown",
   "metadata": {},
   "source": [
    "### Exemple 3: Rotation de l'axe X \n"
   ]
  },
  {
   "cell_type": "code",
   "execution_count": null,
   "metadata": {},
   "outputs": [],
   "source": [
    "df.groupby(['category', 'color'])[\"vitesse\"].mean()"
   ]
  },
  {
   "cell_type": "code",
   "execution_count": null,
   "metadata": {},
   "outputs": [],
   "source": [
    "# Automatiquement la moyenne de vitesse avec ic de 95 par defaut (-> ci=0)\n",
    "sns.barplot(x = \"category\", y = \"vitesse\", hue = \"color\", data = df) \n",
    "plt.xticks(rotation=45)\n",
    "plt.legend(bbox_to_anchor=(1,1))"
   ]
  },
  {
   "cell_type": "markdown",
   "metadata": {},
   "source": [
    "## Countplot\n",
    "\n",
    "Compte les observations de chaque catégorie\n",
    "\n",
    "seaborn.countplot(*, x=None, y=None, hue=None, data=None, order=None, hue_order=None, orient=None, color=None, palette=None, saturation=0.75, dodge=True, ax=None, **kwargs)\n",
    "\n",
    "https://seaborn.pydata.org/generated/seaborn.countplot.html#seaborn.countplot"
   ]
  },
  {
   "cell_type": "markdown",
   "metadata": {},
   "source": [
    "### Exemple 1"
   ]
  },
  {
   "cell_type": "code",
   "execution_count": null,
   "metadata": {},
   "outputs": [],
   "source": [
    "# // = exemple 1 du bar plot\n",
    "sns.countplot(x=\"category\", data=df, palette=\"Set1\")"
   ]
  },
  {
   "cell_type": "code",
   "execution_count": null,
   "metadata": {},
   "outputs": [],
   "source": [
    "sns.countplot(x=\"category\", hue=\"color\", palette=\"Set3\", data=df)"
   ]
  },
  {
   "cell_type": "markdown",
   "metadata": {},
   "source": [
    "## Point PLot\n",
    "\n",
    "seaborn.pointplot(*, x=None, y=None, hue=None, data=None, order=None, hue_order=None, estimator=<function mean at 0x7fecadf1cee0>, ci=95, n_boot=1000, units=None, seed=None, markers='o', linestyles='-', dodge=False, join=True, scale=1, orient=None, color=None, palette=None, errwidth=None, capsize=None, ax=None, **kwargs)\n",
    "\n",
    "http://seaborn.pydata.org/generated/seaborn.pointplot.html?highlight=pointplot#seaborn.pointplot\n",
    "\n",
    "### Exemple 1"
   ]
  },
  {
   "cell_type": "code",
   "execution_count": null,
   "metadata": {},
   "outputs": [],
   "source": [
    "sns.pointplot(x=\"category\", y=\"vitesse\", hue=\"bool\",\n",
    "                   data=df,  \n",
    "              dodge=True # permet de séparer les point \n",
    "              ,markers=[\"o\", \"x\"]\n",
    "              ,linestyles=[\"-\", \"--\"]\n",
    "             ,ci=\"sd\")"
   ]
  },
  {
   "cell_type": "markdown",
   "metadata": {},
   "source": [
    "## Boxplot\n",
    "\n",
    "seaborn.boxplot(*, x=None, y=None, hue=None, data=None, order=None, hue_order=None, orient=None, color=None, palette=None, saturation=0.75, width=0.8, dodge=True, fliersize=5, linewidth=None, whis=1.5, ax=None, **kwargs)\n",
    "\n",
    "https://seaborn.pydata.org/generated/seaborn.boxplot.html?highlight=boxplot#seaborn.boxplot\n",
    "\n",
    "### Exemple 1: une variable quantitative"
   ]
  },
  {
   "cell_type": "code",
   "execution_count": null,
   "metadata": {},
   "outputs": [],
   "source": [
    "sns.boxplot(y=df['vitesse'])\n",
    "# ,orient='h'"
   ]
  },
  {
   "cell_type": "markdown",
   "metadata": {},
   "source": [
    "### Exemple 2: "
   ]
  },
  {
   "cell_type": "code",
   "execution_count": null,
   "metadata": {},
   "outputs": [],
   "source": [
    "sns.boxplot(x=df['color'],y=df['vitesse']\n",
    "           ,hue=df[\"bool\"]\n",
    "           ,linewidth=2.5 # épaisseur des bordures\n",
    "           ,order=[\"Noir\", \"Rouge\", \"Bleu\"] # ordre d'affichage \n",
    "           )\n"
   ]
  },
  {
   "cell_type": "markdown",
   "metadata": {},
   "source": [
    "## SWARMPLOT\n",
    "\n",
    "Une sorte de scatterplot catégoriel\n",
    "\n",
    "seaborn.swarmplot(*, x=None, y=None, hue=None, data=None, order=None, hue_order=None, dodge=False, orient=None, color=None, palette=None, size=5, edgecolor='gray', linewidth=0, ax=None, **kwargs)\n",
    "\n",
    "http://seaborn.pydata.org/generated/seaborn.swarmplot.html#seaborn.swarmplot"
   ]
  },
  {
   "cell_type": "markdown",
   "metadata": {},
   "source": [
    "### Exemple 1"
   ]
  },
  {
   "cell_type": "code",
   "execution_count": null,
   "metadata": {},
   "outputs": [],
   "source": [
    "sns.boxplot(x=\"category\", y=\"vitesse\", data=df)\n",
    "sns.swarmplot(x=\"category\", y=\"vitesse\", data=df\n",
    "              ,hue=\"bool\"\n",
    "              ,size=6\n",
    "             )"
   ]
  },
  {
   "cell_type": "markdown",
   "metadata": {},
   "source": [
    "## Violinplot\n",
    "\n",
    "Combinaition Boxplot et KDE (kernel density estimate)\n",
    "\n",
    "seaborn.violinplot(*, x=None, y=None, hue=None, data=None, order=None, hue_order=None, bw='scott', cut=2, scale='area', scale_hue=True, gridsize=100, width=0.8, inner='box', split=False, dodge=True, orient=None, linewidth=None, color=None, palette=None, saturation=0.75, ax=None, **kwargs)\n",
    "\n",
    "http://seaborn.pydata.org/generated/seaborn.violinplot.html#seaborn.violinplot"
   ]
  },
  {
   "cell_type": "markdown",
   "metadata": {},
   "source": [
    "### Exemple 1"
   ]
  },
  {
   "cell_type": "code",
   "execution_count": null,
   "metadata": {},
   "outputs": [],
   "source": [
    "sns.violinplot(x=\"category\", y=\"vitesse\", hue=\"bool\",\n",
    "               data=df\n",
    "               , palette=\"muted\"\n",
    "               #, split=True # compare les deux variable avec hue \n",
    "              )"
   ]
  },
  {
   "cell_type": "markdown",
   "metadata": {},
   "source": [
    "# DISPLOT - Distributions\n",
    "\n",
    "seaborn.displot(data=None, *, x=None, y=None, hue=None, row=None, col=None, weights=None, kind='hist', rug=False, rug_kws=None, log_scale=None, legend=True, palette=None, hue_order=None, hue_norm=None, color=None, col_wrap=None, row_order=None, col_order=None, height=5, aspect=1, facet_kws=None, **kwargs)\n",
    "\n",
    "    kind: par défaut histogramme - kde - ecdf\n",
    "\n",
    "https://seaborn.pydata.org/generated/seaborn.displot.html?highlight=displot#seaborn.displot"
   ]
  },
  {
   "cell_type": "code",
   "execution_count": null,
   "metadata": {},
   "outputs": [],
   "source": [
    "sns.displot(df, x=\"vitesse\", kind=\"kde\")"
   ]
  },
  {
   "cell_type": "code",
   "execution_count": null,
   "metadata": {},
   "outputs": [],
   "source": [
    "sns.displot(df, x=\"poids\", kde=True)"
   ]
  },
  {
   "cell_type": "markdown",
   "metadata": {},
   "source": [
    "## Histplot\n",
    "\n",
    "Histogramme de variable uni-ou bivariées.\n",
    "\n",
    "seaborn.histplot(data=None, *, x=None, y=None, hue=None, weights=None, stat='count', bins='auto', binwidth=None, binrange=None, discrete=None, cumulative=False, common_bins=True, common_norm=True, multiple='layer', element='bars', fill=True, shrink=1, kde=False, kde_kws=None, line_kws=None, thresh=0, pthresh=None, pmax=None, cbar=False, cbar_ax=None, cbar_kws=None, palette=None, hue_order=None, hue_norm=None, color=None, log_scale=None, legend=True, ax=None, **kwargs)\n",
    "\n",
    "http://seaborn.pydata.org/generated/seaborn.histplot.html#seaborn.histplot"
   ]
  },
  {
   "cell_type": "markdown",
   "metadata": {},
   "source": [
    "### Exemple 1"
   ]
  },
  {
   "cell_type": "code",
   "execution_count": null,
   "metadata": {},
   "outputs": [],
   "source": [
    "sns.histplot(data=df, x=\"vitesse\"\n",
    "            #,binwidth=3 # lg des bins\n",
    "            ,bins=15 # nbre total de bins\n",
    "            ,kde=True # ajout kde\n",
    "            ,hue=\"category\"\n",
    "            #, multiple=\"stack\" # emplilé\n",
    "            #,log_scale=True # echelle log x\n",
    "            #, fill=False # remplissage des barre\n",
    "            )"
   ]
  },
  {
   "cell_type": "markdown",
   "metadata": {},
   "source": [
    "## Kdeplot\n",
    "\n",
    "seaborn.kdeplot(x=None, *, y=None, shade=None, vertical=False, kernel=None, bw=None, gridsize=200, cut=3, clip=None, legend=True, cumulative=False, shade_lowest=None, cbar=False, cbar_ax=None, cbar_kws=None, ax=None, weights=None, hue=None, palette=None, hue_order=None, hue_norm=None, multiple='layer', common_norm=True, common_grid=False, levels=10, thresh=0.05, bw_method='scott', bw_adjust=1, log_scale=None, color=None, fill=None, data=None, data2=None, **kwargs)\n",
    "\n",
    "http://seaborn.pydata.org/generated/seaborn.kdeplot.html?highlight=kde#seaborn.kdeplot"
   ]
  },
  {
   "cell_type": "markdown",
   "metadata": {},
   "source": [
    "### Exemple 1"
   ]
  },
  {
   "cell_type": "code",
   "execution_count": null,
   "metadata": {},
   "outputs": [],
   "source": [
    "sns.kdeplot(data=df, x=\"vitesse\"\n",
    "           #, shade=True # remplir\n",
    "        #, vertical=True\n",
    "           )"
   ]
  },
  {
   "cell_type": "markdown",
   "metadata": {},
   "source": [
    "### Exemple 2"
   ]
  },
  {
   "cell_type": "code",
   "execution_count": null,
   "metadata": {},
   "outputs": [],
   "source": [
    "f, ax = plt.subplots(figsize=(7, 5))\n",
    "sns.kdeplot(df['vitesse'], shade=True, color='r')\n",
    "sns.kdeplot(df['poids'], shade=True, color='m')\n",
    "plt.show()"
   ]
  },
  {
   "cell_type": "markdown",
   "metadata": {},
   "source": [
    "## Rugplot\n",
    "\n",
    "S'utilise souvent en association avec un autre type de graphique.\n",
    "\n",
    "seaborn.rugplot(x=None, *, height=0.025, axis=None, ax=None, data=None, y=None, hue=None, palette=None, hue_order=None, hue_norm=None, expand_margins=True, legend=True, a=None, **kwargs)\n",
    "\n",
    "http://seaborn.pydata.org/generated/seaborn.rugplot.html#seaborn.rugplot"
   ]
  },
  {
   "cell_type": "markdown",
   "metadata": {},
   "source": [
    "### Exemple 1"
   ]
  },
  {
   "cell_type": "code",
   "execution_count": null,
   "metadata": {},
   "outputs": [],
   "source": [
    "sns.kdeplot(data=df, x=\"vitesse\")\n",
    "sns.rugplot(data=df, x=\"vitesse\")"
   ]
  },
  {
   "cell_type": "markdown",
   "metadata": {},
   "source": [
    "## Densité plot\n",
    "### Exemple 1"
   ]
  },
  {
   "cell_type": "code",
   "execution_count": null,
   "metadata": {},
   "outputs": [],
   "source": [
    "sns.kdeplot(x=df['vitesse'], y=df['poids'])"
   ]
  },
  {
   "cell_type": "markdown",
   "metadata": {},
   "source": [
    "### Exemple 2"
   ]
  },
  {
   "cell_type": "code",
   "execution_count": null,
   "metadata": {},
   "outputs": [],
   "source": [
    "sns.kdeplot(x=df['vitesse'], y=df['poids'], cmap=\"Reds\", shade=True)"
   ]
  },
  {
   "cell_type": "markdown",
   "metadata": {},
   "source": [
    "# RELPLOT - Relation\n",
    "\n",
    "kind: scatter - line"
   ]
  },
  {
   "cell_type": "code",
   "execution_count": null,
   "metadata": {},
   "outputs": [],
   "source": [
    "sns.relplot(\n",
    "    data=df, x=\"vitesse\", y=\"poids\",\n",
    "    col=\"color\", hue=\"category\", style=\"bool\",\n",
    "    kind=\"scatter\"\n",
    ")"
   ]
  },
  {
   "cell_type": "markdown",
   "metadata": {},
   "source": [
    "## Scatterplot"
   ]
  },
  {
   "cell_type": "markdown",
   "metadata": {},
   "source": [
    "### Exemple 1"
   ]
  },
  {
   "cell_type": "code",
   "execution_count": null,
   "metadata": {},
   "outputs": [],
   "source": [
    "plt.figure(figsize=(10,8))\n",
    "sns.scatterplot(data=df, x=\"vitesse\", y=\"poids\"\n",
    "               , hue=\"category\"\n",
    "                #, style=\"time\"\n",
    "               )\n"
   ]
  },
  {
   "cell_type": "markdown",
   "metadata": {},
   "source": [
    "## Lineplot\n",
    "\n",
    "seaborn.lineplot(*, x=None, y=None, hue=None, size=None, style=None, data=None, palette=None, hue_order=None, hue_norm=None, sizes=None, size_order=None, size_norm=None, dashes=True, markers=None, style_order=None, units=None, estimator='mean', ci=95, n_boot=1000, seed=None, sort=True, err_style='band', err_kws=None, legend='auto', ax=None, **kwargs)\n",
    "\n",
    "http://seaborn.pydata.org/generated/seaborn.lineplot.html#seaborn.lineplot"
   ]
  },
  {
   "cell_type": "markdown",
   "metadata": {},
   "source": [
    "### Exemple 1"
   ]
  },
  {
   "cell_type": "code",
   "execution_count": null,
   "metadata": {},
   "outputs": [],
   "source": [
    "sns.lineplot(data=df, x=\"year\", y=\"\")"
   ]
  },
  {
   "cell_type": "markdown",
   "metadata": {},
   "source": [
    "# REGPLOT - Regression\n",
    "\n",
    "Affiche par défaut regression fit\n",
    "\n",
    "seaborn.regplot(*, x=None, y=None, data=None, x_estimator=None, x_bins=None, x_ci='ci', scatter=True, fit_reg=True, ci=95, n_boot=1000, units=None, seed=None, order=1, logistic=False, lowess=False, robust=False, logx=False, x_partial=None, y_partial=None, truncate=True, dropna=True, x_jitter=None, y_jitter=None, label=None, color=None, marker='o', scatter_kws=None, line_kws=None, ax=None)\n",
    "\n",
    "http://seaborn.pydata.org/generated/seaborn.regplot.html?highlight=regplot#seaborn.regplot\n"
   ]
  },
  {
   "cell_type": "code",
   "execution_count": null,
   "metadata": {},
   "outputs": [],
   "source": [
    "sns.regplot(x='vitesse', y='poids', data=df\n",
    "           ,ci=68 # 68% confidence interval\n",
    "            ,color='green', marker='+', scatter_kws={'s': 200}\n",
    "           )"
   ]
  },
  {
   "cell_type": "markdown",
   "metadata": {},
   "source": [
    "## Lmplot\n",
    "\n",
    "seaborn.lmplot(*, x=None, y=None, data=None, hue=None, col=None, row=None, palette=None, col_wrap=None, height=5, aspect=1, markers='o', sharex=True, sharey=True, hue_order=None, col_order=None, row_order=None, legend=True, legend_out=True, x_estimator=None, x_bins=None, x_ci='ci', scatter=True, fit_reg=True, ci=95, n_boot=1000, units=None, seed=None, order=1, logistic=False, lowess=False, robust=False, logx=False, x_partial=None, y_partial=None, truncate=True, x_jitter=None, y_jitter=None, scatter_kws=None, line_kws=None, size=None)\n",
    "\n",
    "https://seaborn.pydata.org/generated/seaborn.lmplot.html#seaborn.lmplot"
   ]
  },
  {
   "cell_type": "markdown",
   "metadata": {},
   "source": [
    "### Exemple 1"
   ]
  },
  {
   "cell_type": "code",
   "execution_count": null,
   "metadata": {},
   "outputs": [],
   "source": [
    "sns.lmplot(x='vitesse', y='poids', hue=\"category\", data=df, palette=\"Set1\")"
   ]
  },
  {
   "cell_type": "markdown",
   "metadata": {},
   "source": [
    "### Exemple 2"
   ]
  },
  {
   "cell_type": "code",
   "execution_count": null,
   "metadata": {},
   "outputs": [],
   "source": [
    "sns.lmplot(x='vitesse', y='poids', col=\"bool\", data=df)"
   ]
  },
  {
   "cell_type": "markdown",
   "metadata": {},
   "source": [
    "### Exemple 3"
   ]
  },
  {
   "cell_type": "code",
   "execution_count": null,
   "metadata": {},
   "outputs": [],
   "source": [
    "sns.lmplot(x='vitesse', y='poids', col=\"category\", col_wrap=2,data=df)"
   ]
  },
  {
   "cell_type": "markdown",
   "metadata": {},
   "source": [
    "# JOINPLOT - Distribution & Relation\n",
    "\n",
    "Distribution et relation entre deux variables quantitatives.\n",
    "\n",
    "seaborn.jointplot(*, x=None, y=None, data=None, kind='scatter', color=None, height=6, ratio=5, space=0.2, dropna=False, xlim=None, ylim=None, marginal_ticks=False, joint_kws=None, marginal_kws=None, hue=None, palette=None, hue_order=None, hue_norm=None, **kwargs)\n",
    "\n",
    "http://seaborn.pydata.org/generated/seaborn.jointplot.html#seaborn.jointplot"
   ]
  },
  {
   "cell_type": "markdown",
   "metadata": {},
   "source": [
    "### Exemple 1"
   ]
  },
  {
   "cell_type": "code",
   "execution_count": null,
   "metadata": {},
   "outputs": [],
   "source": [
    "sns.jointplot(data=df, x=\"vitesse\", y=\"poids\", hue='category')"
   ]
  },
  {
   "cell_type": "markdown",
   "metadata": {},
   "source": [
    "### Exemple 2\n",
    "\n",
    "    kind= reg - hex - hist - kde"
   ]
  },
  {
   "cell_type": "code",
   "execution_count": null,
   "metadata": {},
   "outputs": [],
   "source": [
    "sns.jointplot(data=df, x=\"vitesse\", y=\"poids\", kind=\"reg\", marginal_kws=dict(bins=15))"
   ]
  },
  {
   "cell_type": "markdown",
   "metadata": {},
   "source": [
    "# HEATMAP - Multi-Relation\n",
    "\n",
    "seaborn.heatmap(data, *, vmin=None, vmax=None, cmap=None, center=None, robust=False, annot=None, fmt='.2g', annot_kws=None, linewidths=0, linecolor='white', cbar=True, cbar_kws=None, cbar_ax=None, square=False, xticklabels='auto', yticklabels='auto', mask=None, ax=None, **kwargs)\n",
    "\n",
    "https://seaborn.pydata.org/generated/seaborn.heatmap.html"
   ]
  },
  {
   "cell_type": "markdown",
   "metadata": {},
   "source": [
    "### Exemple 1"
   ]
  },
  {
   "cell_type": "code",
   "execution_count": null,
   "metadata": {},
   "outputs": [],
   "source": [
    "sns.heatmap(df.corr()\n",
    "           ,annot=True\n",
    "           ,cmap='YlGnBu')"
   ]
  },
  {
   "cell_type": "markdown",
   "metadata": {},
   "source": [
    "# PAIRPLOT - Multi-Relation\n",
    "\n",
    "Relation entre plusieurs variables\n",
    "\n",
    "seaborn.pairplot(data, *, hue=None, hue_order=None, palette=None, vars=None, x_vars=None, y_vars=None, kind='scatter', diag_kind='auto', markers=None, height=2.5, aspect=1, corner=False, dropna=False, plot_kws=None, diag_kws=None, grid_kws=None, size=None)\n",
    "\n",
    "http://seaborn.pydata.org/generated/seaborn.pairplot.html#seaborn.pairplot"
   ]
  },
  {
   "cell_type": "markdown",
   "metadata": {},
   "source": [
    "### Exemple 1"
   ]
  },
  {
   "cell_type": "code",
   "execution_count": null,
   "metadata": {},
   "outputs": [],
   "source": [
    "sns.pairplot(df\n",
    "            , hue=\"category\"\n",
    "            #, diag_kind=\"hist\" # histo\n",
    "            #, corner=True # triangle\n",
    "            )"
   ]
  },
  {
   "cell_type": "markdown",
   "metadata": {},
   "source": [
    "# Facetgrid Multi-graph\n",
    "\n",
    "sns.FacetGrid(self, data, *, row=None, col=None, hue=None, col_wrap=None, sharex=True, sharey=True, height=3, aspect=1, palette=None, row_order=None, col_order=None, hue_order=None, hue_kws=None, dropna=False, legend_out=True, despine=True, margin_titles=False, xlim=None, ylim=None, subplot_kws=None, gridspec_kws=None, size=None)\n",
    "\n",
    "https://seaborn.pydata.org/generated/seaborn.FacetGrid.html\n",
    "\n",
    "### Exemple 1"
   ]
  },
  {
   "cell_type": "code",
   "execution_count": null,
   "metadata": {},
   "outputs": [],
   "source": [
    "g=sns.FacetGrid(df, col=\"category\", row=\"color\")\n",
    "g.map_dataframe(sns.scatterplot, \"poids\", \"vitesse\")\n",
    "g.set_axis_labels(\"Varaiable poids\", \"variable vitesse\")"
   ]
  },
  {
   "cell_type": "code",
   "execution_count": null,
   "metadata": {},
   "outputs": [],
   "source": [
    "g=sns.FacetGrid(df, col=\"category\")\n",
    "g.map_dataframe(sns.scatterplot, \"poids\", \"vitesse\", hue=\"color\")\n",
    "g.set_axis_labels(\"Varaiable poids\", \"variable vitesse\")\n",
    "g.add_legend()"
   ]
  },
  {
   "cell_type": "markdown",
   "metadata": {},
   "source": [
    "# JoinGrid Multi-graph\n",
    "\n",
    "sns.JointGrid(self, *, x=None, y=None, data=None, height=6, ratio=5, space=0.2, dropna=False, xlim=None, ylim=None, size=None, marginal_ticks=False, hue=None, palette=None, hue_order=None, hue_norm=None)\n",
    "\n",
    "https://seaborn.pydata.org/generated/seaborn.JointGrid.html#seaborn.JointGrid\n",
    "\n"
   ]
  },
  {
   "cell_type": "markdown",
   "metadata": {},
   "source": [
    "## Exemple 1"
   ]
  },
  {
   "cell_type": "code",
   "execution_count": null,
   "metadata": {},
   "outputs": [],
   "source": [
    "g = sns.JointGrid(data=df, x=\"vitesse\", y=\"poids\")\n",
    "g.plot(sns.regplot, sns.boxplot)"
   ]
  },
  {
   "cell_type": "markdown",
   "metadata": {},
   "source": [
    "## Exemple 2"
   ]
  },
  {
   "cell_type": "code",
   "execution_count": null,
   "metadata": {},
   "outputs": [],
   "source": [
    "g=sns.JointGrid()\n",
    "x, y = df[\"vitesse\"], df[\"poids\"]\n",
    "sns.scatterplot(x=x, y=y, ec=\"b\", s=100, linewidth=1.5, ax=g.ax_joint)\n",
    "sns.histplot(x=x, linewidth=2, ax=g.ax_marg_x)\n",
    "sns.kdeplot(y=y, linewidth=2, ax=g.ax_marg_y)"
   ]
  },
  {
   "cell_type": "markdown",
   "metadata": {},
   "source": [
    "# Combo Plot"
   ]
  },
  {
   "cell_type": "code",
   "execution_count": null,
   "metadata": {},
   "outputs": [],
   "source": [
    "# CREATION DATAFRAME\n",
    "# Mois\n",
    "mois = ['Jan', 'Feb', 'Mar', 'Apr', 'May', 'June', \n",
    "         'July', 'Aug', 'Sep', 'Oct', 'Nov', 'Dec']\n",
    "# Moyenne temperatures\n",
    "moy_Temp = [35, 45, 55, 65, 75, 85, 95, 100, 85, 65, 45, 35]\n",
    "# Moyenne de  percipitation %\n",
    "moy_Percipitation_Perc = [.90, .75, .55, .10, .35, .05, .05, .08, .20, .45, .65, .80]\n",
    "\n",
    "df = pd.DataFrame({'Mois': mois, \n",
    "                   'Moy_Temp': moy_Temp, \n",
    "                   'Moy_Percipitation_Perc': moy_Percipitation_Perc})\n",
    "\n",
    "\n",
    "df.head()"
   ]
  },
  {
   "cell_type": "code",
   "execution_count": null,
   "metadata": {},
   "outputs": [],
   "source": [
    "# Plot 1\n",
    "sns.barplot(x='Mois', y='Moy_Temp', data=df, palette='YlGnBu')\n",
    "plt.title('Moyenne des temperature par mois')"
   ]
  },
  {
   "cell_type": "code",
   "execution_count": null,
   "metadata": {},
   "outputs": [],
   "source": [
    "# Plot 2\n",
    "plt.title('Moyenne des précipitations par mois')\n",
    "sns.lineplot(x='Mois', y='Moy_Percipitation_Perc', data=df, sort=False)"
   ]
  },
  {
   "cell_type": "code",
   "execution_count": null,
   "metadata": {},
   "outputs": [],
   "source": [
    "# Combo plot\n",
    "# Figure\n",
    "fig, ax1 = plt.subplots(figsize=(10,6))\n",
    "\n",
    "\n",
    "# creation bar plot \n",
    "ax1.set_title('Moyenne des temperature par mois', fontsize=16)\n",
    "ax1 = sns.barplot(x='Mois', y='Moy_Temp', data = df, color=\"skyblue\")\n",
    "ax1.set_xlabel('Mois', fontsize=16)\n",
    "ax1.set_ylabel('Moyenne Temperature', color=\"skyblue\" ,fontsize=14)\n",
    "\n",
    "\n",
    "# Partage de l'axe x\n",
    "ax2 = ax1.twinx()\n",
    "\n",
    "\n",
    "\n",
    "# creation line plot \n",
    "ax2.set_ylabel('Moyenne précipitations %', color=\"red\", fontsize=14)\n",
    "ax2 = sns.lineplot(x='Mois', y='Moy_Percipitation_Perc', data = df, sort=False, color=\"red\")\n",
    "\n",
    "\n",
    "#show plot\n",
    "plt.show()"
   ]
  },
  {
   "cell_type": "code",
   "execution_count": null,
   "metadata": {},
   "outputs": [],
   "source": []
  },
  {
   "cell_type": "code",
   "execution_count": null,
   "metadata": {},
   "outputs": [],
   "source": []
  },
  {
   "cell_type": "markdown",
   "metadata": {},
   "source": [
    "Resource suppl.: https://moncoachdata.com/blog/guide-visualisations-de-donnees-python/"
   ]
  }
 ],
 "metadata": {
  "kernelspec": {
   "display_name": "Python 3",
   "language": "python",
   "name": "python3"
  },
  "language_info": {
   "codemirror_mode": {
    "name": "ipython",
    "version": 3
   },
   "file_extension": ".py",
   "mimetype": "text/x-python",
   "name": "python",
   "nbconvert_exporter": "python",
   "pygments_lexer": "ipython3",
   "version": "3.7.7"
  },
  "latex_envs": {
   "LaTeX_envs_menu_present": true,
   "autoclose": false,
   "autocomplete": true,
   "bibliofile": "biblio.bib",
   "cite_by": "apalike",
   "current_citInitial": 1,
   "eqLabelWithNumbers": true,
   "eqNumInitial": 1,
   "hotkeys": {
    "equation": "Ctrl-E",
    "itemize": "Ctrl-I"
   },
   "labels_anchors": false,
   "latex_user_defs": false,
   "report_style_numbering": false,
   "user_envs_cfg": false
  },
  "toc": {
   "base_numbering": 1,
   "nav_menu": {},
   "number_sections": true,
   "sideBar": true,
   "skip_h1_title": false,
   "title_cell": "Table of Contents",
   "title_sidebar": "Contents",
   "toc_cell": false,
   "toc_position": {
    "height": "calc(100% - 180px)",
    "left": "10px",
    "top": "150px",
    "width": "303.825px"
   },
   "toc_section_display": true,
   "toc_window_display": false
  },
  "varInspector": {
   "cols": {
    "lenName": 16,
    "lenType": 16,
    "lenVar": 40
   },
   "kernels_config": {
    "python": {
     "delete_cmd_postfix": "",
     "delete_cmd_prefix": "del ",
     "library": "var_list.py",
     "varRefreshCmd": "print(var_dic_list())"
    },
    "r": {
     "delete_cmd_postfix": ") ",
     "delete_cmd_prefix": "rm(",
     "library": "var_list.r",
     "varRefreshCmd": "cat(var_dic_list()) "
    }
   },
   "types_to_exclude": [
    "module",
    "function",
    "builtin_function_or_method",
    "instance",
    "_Feature"
   ],
   "window_display": false
  }
 },
 "nbformat": 4,
 "nbformat_minor": 4
}
