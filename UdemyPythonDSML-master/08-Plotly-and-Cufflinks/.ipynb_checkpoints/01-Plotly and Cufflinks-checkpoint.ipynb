{
 "cells": [
  {
   "cell_type": "markdown",
   "metadata": {},
   "source": [
    "___\n",
    "\n",
    "<a href='http://www.pieriandata.com'> <img src='../Pierian_Data_Logo.png' /></a>\n",
    "___\n",
    "# Plotly and Cufflinks"
   ]
  },
  {
   "cell_type": "markdown",
   "metadata": {},
   "source": [
    "Plotly is a library that allows you to create interactive plots that you can use in dashboards or websites (you can save them as html files or static images).\n",
    "\n",
    "## Installation\n",
    "\n",
    "In order for this all to work, you'll need to install plotly and cufflinks to call plots directly off of a pandas dataframe. These libraries are not currently available through **conda** but are available through **pip**. Install the libraries at your command line/terminal using:\n",
    "\n",
    "    pip install plotly\n",
    "    pip install cufflinks\n",
    "\n",
    "** NOTE: Make sure you only have one installation of Python on your computer when you do this, otherwise the installation may not work. **\n",
    "\n",
    "## Imports and Set-up"
   ]
  },
  {
   "cell_type": "code",
   "execution_count": 1,
   "metadata": {},
   "outputs": [],
   "source": [
    "import pandas as pd\n",
    "import numpy as np\n",
    "%matplotlib inline"
   ]
  },
  {
   "cell_type": "code",
   "execution_count": 2,
   "metadata": {},
   "outputs": [
    {
     "name": "stdout",
     "output_type": "stream",
     "text": [
      "4.7.1\n"
     ]
    }
   ],
   "source": [
    "from plotly import __version__\n",
    "from plotly.offline import download_plotlyjs, init_notebook_mode, plot, iplot\n",
    "\n",
    "print(__version__) # requires version >= 1.9.0"
   ]
  },
  {
   "cell_type": "code",
   "execution_count": 3,
   "metadata": {},
   "outputs": [],
   "source": [
    "import cufflinks as cf"
   ]
  },
  {
   "cell_type": "code",
   "execution_count": 4,
   "metadata": {},
   "outputs": [
    {
     "data": {
      "text/html": [
       "        <script type=\"text/javascript\">\n",
       "        window.PlotlyConfig = {MathJaxConfig: 'local'};\n",
       "        if (window.MathJax) {MathJax.Hub.Config({SVG: {font: \"STIX-Web\"}});}\n",
       "        if (typeof require !== 'undefined') {\n",
       "        require.undef(\"plotly\");\n",
       "        requirejs.config({\n",
       "            paths: {\n",
       "                'plotly': ['https://cdn.plot.ly/plotly-latest.min']\n",
       "            }\n",
       "        });\n",
       "        require(['plotly'], function(Plotly) {\n",
       "            window._Plotly = Plotly;\n",
       "        });\n",
       "        }\n",
       "        </script>\n",
       "        "
      ]
     },
     "metadata": {},
     "output_type": "display_data"
    }
   ],
   "source": [
    "# For Notebooks\n",
    "init_notebook_mode(connected=True)"
   ]
  },
  {
   "cell_type": "code",
   "execution_count": 5,
   "metadata": {},
   "outputs": [
    {
     "data": {
      "text/html": [
       "        <script type=\"text/javascript\">\n",
       "        window.PlotlyConfig = {MathJaxConfig: 'local'};\n",
       "        if (window.MathJax) {MathJax.Hub.Config({SVG: {font: \"STIX-Web\"}});}\n",
       "        if (typeof require !== 'undefined') {\n",
       "        require.undef(\"plotly\");\n",
       "        requirejs.config({\n",
       "            paths: {\n",
       "                'plotly': ['https://cdn.plot.ly/plotly-latest.min']\n",
       "            }\n",
       "        });\n",
       "        require(['plotly'], function(Plotly) {\n",
       "            window._Plotly = Plotly;\n",
       "        });\n",
       "        }\n",
       "        </script>\n",
       "        "
      ]
     },
     "metadata": {},
     "output_type": "display_data"
    }
   ],
   "source": [
    "# For offline use\n",
    "cf.go_offline()"
   ]
  },
  {
   "cell_type": "markdown",
   "metadata": {},
   "source": [
    "### Fake Data"
   ]
  },
  {
   "cell_type": "code",
   "execution_count": 6,
   "metadata": {},
   "outputs": [],
   "source": [
    "df = pd.DataFrame(np.random.randn(100,4),columns='A B C D'.split())"
   ]
  },
  {
   "cell_type": "code",
   "execution_count": 7,
   "metadata": {},
   "outputs": [
    {
     "data": {
      "text/html": [
       "<div>\n",
       "<style scoped>\n",
       "    .dataframe tbody tr th:only-of-type {\n",
       "        vertical-align: middle;\n",
       "    }\n",
       "\n",
       "    .dataframe tbody tr th {\n",
       "        vertical-align: top;\n",
       "    }\n",
       "\n",
       "    .dataframe thead th {\n",
       "        text-align: right;\n",
       "    }\n",
       "</style>\n",
       "<table border=\"1\" class=\"dataframe\">\n",
       "  <thead>\n",
       "    <tr style=\"text-align: right;\">\n",
       "      <th></th>\n",
       "      <th>A</th>\n",
       "      <th>B</th>\n",
       "      <th>C</th>\n",
       "      <th>D</th>\n",
       "    </tr>\n",
       "  </thead>\n",
       "  <tbody>\n",
       "    <tr>\n",
       "      <th>0</th>\n",
       "      <td>-1.139419</td>\n",
       "      <td>0.071854</td>\n",
       "      <td>-0.371876</td>\n",
       "      <td>1.304735</td>\n",
       "    </tr>\n",
       "    <tr>\n",
       "      <th>1</th>\n",
       "      <td>0.654799</td>\n",
       "      <td>0.292676</td>\n",
       "      <td>-0.676343</td>\n",
       "      <td>0.352285</td>\n",
       "    </tr>\n",
       "    <tr>\n",
       "      <th>2</th>\n",
       "      <td>0.390846</td>\n",
       "      <td>1.335963</td>\n",
       "      <td>0.442549</td>\n",
       "      <td>-0.110181</td>\n",
       "    </tr>\n",
       "    <tr>\n",
       "      <th>3</th>\n",
       "      <td>0.964668</td>\n",
       "      <td>0.545107</td>\n",
       "      <td>0.043128</td>\n",
       "      <td>0.266313</td>\n",
       "    </tr>\n",
       "    <tr>\n",
       "      <th>4</th>\n",
       "      <td>0.421198</td>\n",
       "      <td>0.023573</td>\n",
       "      <td>1.321897</td>\n",
       "      <td>-0.882014</td>\n",
       "    </tr>\n",
       "  </tbody>\n",
       "</table>\n",
       "</div>"
      ],
      "text/plain": [
       "          A         B         C         D\n",
       "0 -1.139419  0.071854 -0.371876  1.304735\n",
       "1  0.654799  0.292676 -0.676343  0.352285\n",
       "2  0.390846  1.335963  0.442549 -0.110181\n",
       "3  0.964668  0.545107  0.043128  0.266313\n",
       "4  0.421198  0.023573  1.321897 -0.882014"
      ]
     },
     "execution_count": 7,
     "metadata": {},
     "output_type": "execute_result"
    }
   ],
   "source": [
    "df.head()"
   ]
  },
  {
   "cell_type": "code",
   "execution_count": 8,
   "metadata": {},
   "outputs": [],
   "source": [
    "df2 = pd.DataFrame({'Category':['A','B','C'],'Values':[32,43,50]})"
   ]
  },
  {
   "cell_type": "code",
   "execution_count": 9,
   "metadata": {},
   "outputs": [
    {
     "data": {
      "text/html": [
       "<div>\n",
       "<style scoped>\n",
       "    .dataframe tbody tr th:only-of-type {\n",
       "        vertical-align: middle;\n",
       "    }\n",
       "\n",
       "    .dataframe tbody tr th {\n",
       "        vertical-align: top;\n",
       "    }\n",
       "\n",
       "    .dataframe thead th {\n",
       "        text-align: right;\n",
       "    }\n",
       "</style>\n",
       "<table border=\"1\" class=\"dataframe\">\n",
       "  <thead>\n",
       "    <tr style=\"text-align: right;\">\n",
       "      <th></th>\n",
       "      <th>Category</th>\n",
       "      <th>Values</th>\n",
       "    </tr>\n",
       "  </thead>\n",
       "  <tbody>\n",
       "    <tr>\n",
       "      <th>0</th>\n",
       "      <td>A</td>\n",
       "      <td>32</td>\n",
       "    </tr>\n",
       "    <tr>\n",
       "      <th>1</th>\n",
       "      <td>B</td>\n",
       "      <td>43</td>\n",
       "    </tr>\n",
       "    <tr>\n",
       "      <th>2</th>\n",
       "      <td>C</td>\n",
       "      <td>50</td>\n",
       "    </tr>\n",
       "  </tbody>\n",
       "</table>\n",
       "</div>"
      ],
      "text/plain": [
       "  Category  Values\n",
       "0        A      32\n",
       "1        B      43\n",
       "2        C      50"
      ]
     },
     "execution_count": 9,
     "metadata": {},
     "output_type": "execute_result"
    }
   ],
   "source": [
    "df2.head()"
   ]
  },
  {
   "cell_type": "markdown",
   "metadata": {},
   "source": [
    "## Using Cufflinks and iplot()\n",
    "\n",
    "* scatter\n",
    "* bar\n",
    "* box\n",
    "* spread\n",
    "* ratio\n",
    "* heatmap\n",
    "* surface\n",
    "* histogram\n",
    "* bubble"
   ]
  },
  {
   "cell_type": "markdown",
   "metadata": {},
   "source": [
    "## Scatter"
   ]
  },
  {
   "cell_type": "code",
   "execution_count": 10,
   "metadata": {},
   "outputs": [
    {
     "data": {
      "application/vnd.plotly.v1+json": {
       "config": {
        "linkText": "Export to plot.ly",
        "plotlyServerURL": "https://plot.ly",
        "showLink": true
       },
       "data": [
        {
         "line": {
          "color": "rgba(255, 153, 51, 1.0)",
          "dash": "solid",
          "shape": "linear",
          "width": 1.3
         },
         "marker": {
          "size": 10,
          "symbol": "circle"
         },
         "mode": "markers",
         "name": "B",
         "text": "",
         "type": "scatter",
         "x": [
          -1.139418730002032,
          0.6547989998648551,
          0.39084583433649694,
          0.9646681826571936,
          0.42119755974889467,
          -0.23873385414912676,
          -0.2218960966330283,
          0.5675391268184925,
          -0.14589675805068572,
          0.2983797328942242,
          0.2481277187050298,
          -0.959565662084963,
          0.8983589857556141,
          -0.9205451688459358,
          -0.9073710648065669,
          -0.515818083052144,
          0.3568982359524299,
          -0.05039881754988521,
          1.045422545573841,
          -1.028197584323138,
          1.8884199740984546,
          0.5149998983933638,
          -0.4612569621502,
          -2.044884484384707,
          -2.2642782146088707,
          -1.3689178453525237,
          -0.4933880894392799,
          -0.44892769824569806,
          0.7021651569997387,
          0.17312188407331758,
          0.8297254909813514,
          -1.209018772125511,
          -0.6643563939520879,
          -0.03970583699998416,
          -0.5617207661402005,
          -1.5631259578039896,
          0.515889523095962,
          -0.8125689245955071,
          0.8352380213053745,
          -0.4821209854676755,
          1.1041130497801088,
          1.0306206606074977,
          0.9855867620785455,
          2.0027569273403243,
          0.2638266457953439,
          0.04350891310129441,
          0.8762454129201205,
          -0.08759198143271017,
          0.8125231817138858,
          -0.9075513348000999,
          0.5607733054161146,
          -0.23865240636633556,
          1.1191716763190929,
          0.5388212292102299,
          0.27082148087794466,
          -0.1956758784434622,
          1.2547094140308235,
          0.302733734712402,
          -1.1695245267490626,
          0.5185335466102716,
          0.8190908979174077,
          1.5642856701289398,
          -0.1839684949396022,
          -0.10464377212627611,
          -0.3738902853185688,
          -1.0578193647424976,
          2.0398000529190385,
          -0.47861082085741863,
          -0.26066652323696304,
          0.9178630415695512,
          1.9169026133398048,
          0.7487388185319119,
          -2.30795387068723,
          -0.04512853989323989,
          0.679899641273138,
          -0.48688078490635245,
          -1.1505941647974545,
          0.3185331783207228,
          0.8562093507089286,
          -0.651604128474846,
          0.45198833264601274,
          1.3482242401288627,
          0.8353632247445613,
          -1.6635070300669133,
          1.166008542614696,
          -1.062260511565378,
          0.5730805504655455,
          -0.08993760847573472,
          -0.43617816768055856,
          -1.5656173028182858,
          1.165886988023119,
          0.6929846977776724,
          0.8990660463253227,
          0.8770676699379643,
          0.35505829390139904,
          -2.3865360599607173,
          -0.6196681063548992,
          0.09208226131825127,
          -1.0205102925440586,
          -0.06404273101740816
         ],
         "y": [
          0.07185369046079401,
          0.29267616132149354,
          1.3359631098647982,
          0.545107252353979,
          0.023573072156253636,
          1.7806383033831787,
          -0.41920654167464244,
          0.004753334568482668,
          -2.7545563538357722,
          0.07041581324653917,
          -1.364304744464887,
          0.718262483781206,
          0.37671176544749074,
          -1.0847088557375442,
          1.6187844586389555,
          -0.41038939569643645,
          0.9022879204128095,
          0.07470444368018322,
          -0.7584331811688072,
          0.3479398247480616,
          0.8397792016531902,
          0.2845358694450361,
          0.19511201142922244,
          -0.010539222850371364,
          -0.14990513147805898,
          -0.37005534246633354,
          0.16154465308645954,
          -0.9630652851775763,
          0.579517364159973,
          -1.4035777230307875,
          -0.14667617489278087,
          0.429449098925077,
          1.440046259087059,
          2.779703254185213,
          -1.514950174241543,
          -0.38314255705606365,
          -0.28049090845899743,
          -1.6463839162523453,
          0.9295239384079738,
          0.7384350925009466,
          0.10959327433895386,
          -0.39257212731936186,
          0.23713498567784455,
          -1.7154102455070654,
          0.20760628052385752,
          -1.2702993648325682,
          0.07927160209414827,
          -0.4941781039881184,
          -0.5452131194133613,
          0.8346752200099381,
          0.21672730634365797,
          2.0009415803598136,
          -0.4925540797247069,
          0.290306402115402,
          -2.7768372967908723,
          -0.01243405416751847,
          -0.6796710071224988,
          -0.5173016212189284,
          0.011980851961724251,
          -0.4746822465762274,
          -0.5944376172789942,
          0.1581220435820472,
          1.26495408912878,
          -1.0696550732525592,
          0.013027485374751303,
          -0.4319955499309191,
          1.3510716342226594,
          0.47790259237997684,
          1.270129257323493,
          -0.7962319883857973,
          0.4221151806341645,
          1.2241360896242566,
          1.2238455887227986,
          0.5360442855369453,
          0.026539491263576968,
          0.16069619963252837,
          -0.11268005216683398,
          0.9944938623906966,
          0.4271947826458063,
          1.149959525055607,
          1.1635316140334477,
          -0.5986582879739627,
          -0.7622941206283473,
          0.23379827654993318,
          1.303149004453367,
          1.287826099022475,
          1.2714709343016026,
          -0.35790525271922513,
          -0.6941904164226653,
          -0.21990783839232766,
          0.4049388044447175,
          -0.7029717255640098,
          2.1418061547745078,
          -0.04272070937948088,
          0.00047843236067118583,
          0.40654832502335314,
          -0.9318105156963058,
          1.6492233784140895,
          -0.11745673997334564,
          0.1436187868780339
         ]
        }
       ],
       "layout": {
        "legend": {
         "bgcolor": "#F5F6F9",
         "font": {
          "color": "#4D5663"
         }
        },
        "paper_bgcolor": "#F5F6F9",
        "plot_bgcolor": "#F5F6F9",
        "template": {
         "data": {
          "bar": [
           {
            "error_x": {
             "color": "#2a3f5f"
            },
            "error_y": {
             "color": "#2a3f5f"
            },
            "marker": {
             "line": {
              "color": "#E5ECF6",
              "width": 0.5
             }
            },
            "type": "bar"
           }
          ],
          "barpolar": [
           {
            "marker": {
             "line": {
              "color": "#E5ECF6",
              "width": 0.5
             }
            },
            "type": "barpolar"
           }
          ],
          "carpet": [
           {
            "aaxis": {
             "endlinecolor": "#2a3f5f",
             "gridcolor": "white",
             "linecolor": "white",
             "minorgridcolor": "white",
             "startlinecolor": "#2a3f5f"
            },
            "baxis": {
             "endlinecolor": "#2a3f5f",
             "gridcolor": "white",
             "linecolor": "white",
             "minorgridcolor": "white",
             "startlinecolor": "#2a3f5f"
            },
            "type": "carpet"
           }
          ],
          "choropleth": [
           {
            "colorbar": {
             "outlinewidth": 0,
             "ticks": ""
            },
            "type": "choropleth"
           }
          ],
          "contour": [
           {
            "colorbar": {
             "outlinewidth": 0,
             "ticks": ""
            },
            "colorscale": [
             [
              0,
              "#0d0887"
             ],
             [
              0.1111111111111111,
              "#46039f"
             ],
             [
              0.2222222222222222,
              "#7201a8"
             ],
             [
              0.3333333333333333,
              "#9c179e"
             ],
             [
              0.4444444444444444,
              "#bd3786"
             ],
             [
              0.5555555555555556,
              "#d8576b"
             ],
             [
              0.6666666666666666,
              "#ed7953"
             ],
             [
              0.7777777777777778,
              "#fb9f3a"
             ],
             [
              0.8888888888888888,
              "#fdca26"
             ],
             [
              1,
              "#f0f921"
             ]
            ],
            "type": "contour"
           }
          ],
          "contourcarpet": [
           {
            "colorbar": {
             "outlinewidth": 0,
             "ticks": ""
            },
            "type": "contourcarpet"
           }
          ],
          "heatmap": [
           {
            "colorbar": {
             "outlinewidth": 0,
             "ticks": ""
            },
            "colorscale": [
             [
              0,
              "#0d0887"
             ],
             [
              0.1111111111111111,
              "#46039f"
             ],
             [
              0.2222222222222222,
              "#7201a8"
             ],
             [
              0.3333333333333333,
              "#9c179e"
             ],
             [
              0.4444444444444444,
              "#bd3786"
             ],
             [
              0.5555555555555556,
              "#d8576b"
             ],
             [
              0.6666666666666666,
              "#ed7953"
             ],
             [
              0.7777777777777778,
              "#fb9f3a"
             ],
             [
              0.8888888888888888,
              "#fdca26"
             ],
             [
              1,
              "#f0f921"
             ]
            ],
            "type": "heatmap"
           }
          ],
          "heatmapgl": [
           {
            "colorbar": {
             "outlinewidth": 0,
             "ticks": ""
            },
            "colorscale": [
             [
              0,
              "#0d0887"
             ],
             [
              0.1111111111111111,
              "#46039f"
             ],
             [
              0.2222222222222222,
              "#7201a8"
             ],
             [
              0.3333333333333333,
              "#9c179e"
             ],
             [
              0.4444444444444444,
              "#bd3786"
             ],
             [
              0.5555555555555556,
              "#d8576b"
             ],
             [
              0.6666666666666666,
              "#ed7953"
             ],
             [
              0.7777777777777778,
              "#fb9f3a"
             ],
             [
              0.8888888888888888,
              "#fdca26"
             ],
             [
              1,
              "#f0f921"
             ]
            ],
            "type": "heatmapgl"
           }
          ],
          "histogram": [
           {
            "marker": {
             "colorbar": {
              "outlinewidth": 0,
              "ticks": ""
             }
            },
            "type": "histogram"
           }
          ],
          "histogram2d": [
           {
            "colorbar": {
             "outlinewidth": 0,
             "ticks": ""
            },
            "colorscale": [
             [
              0,
              "#0d0887"
             ],
             [
              0.1111111111111111,
              "#46039f"
             ],
             [
              0.2222222222222222,
              "#7201a8"
             ],
             [
              0.3333333333333333,
              "#9c179e"
             ],
             [
              0.4444444444444444,
              "#bd3786"
             ],
             [
              0.5555555555555556,
              "#d8576b"
             ],
             [
              0.6666666666666666,
              "#ed7953"
             ],
             [
              0.7777777777777778,
              "#fb9f3a"
             ],
             [
              0.8888888888888888,
              "#fdca26"
             ],
             [
              1,
              "#f0f921"
             ]
            ],
            "type": "histogram2d"
           }
          ],
          "histogram2dcontour": [
           {
            "colorbar": {
             "outlinewidth": 0,
             "ticks": ""
            },
            "colorscale": [
             [
              0,
              "#0d0887"
             ],
             [
              0.1111111111111111,
              "#46039f"
             ],
             [
              0.2222222222222222,
              "#7201a8"
             ],
             [
              0.3333333333333333,
              "#9c179e"
             ],
             [
              0.4444444444444444,
              "#bd3786"
             ],
             [
              0.5555555555555556,
              "#d8576b"
             ],
             [
              0.6666666666666666,
              "#ed7953"
             ],
             [
              0.7777777777777778,
              "#fb9f3a"
             ],
             [
              0.8888888888888888,
              "#fdca26"
             ],
             [
              1,
              "#f0f921"
             ]
            ],
            "type": "histogram2dcontour"
           }
          ],
          "mesh3d": [
           {
            "colorbar": {
             "outlinewidth": 0,
             "ticks": ""
            },
            "type": "mesh3d"
           }
          ],
          "parcoords": [
           {
            "line": {
             "colorbar": {
              "outlinewidth": 0,
              "ticks": ""
             }
            },
            "type": "parcoords"
           }
          ],
          "pie": [
           {
            "automargin": true,
            "type": "pie"
           }
          ],
          "scatter": [
           {
            "marker": {
             "colorbar": {
              "outlinewidth": 0,
              "ticks": ""
             }
            },
            "type": "scatter"
           }
          ],
          "scatter3d": [
           {
            "line": {
             "colorbar": {
              "outlinewidth": 0,
              "ticks": ""
             }
            },
            "marker": {
             "colorbar": {
              "outlinewidth": 0,
              "ticks": ""
             }
            },
            "type": "scatter3d"
           }
          ],
          "scattercarpet": [
           {
            "marker": {
             "colorbar": {
              "outlinewidth": 0,
              "ticks": ""
             }
            },
            "type": "scattercarpet"
           }
          ],
          "scattergeo": [
           {
            "marker": {
             "colorbar": {
              "outlinewidth": 0,
              "ticks": ""
             }
            },
            "type": "scattergeo"
           }
          ],
          "scattergl": [
           {
            "marker": {
             "colorbar": {
              "outlinewidth": 0,
              "ticks": ""
             }
            },
            "type": "scattergl"
           }
          ],
          "scattermapbox": [
           {
            "marker": {
             "colorbar": {
              "outlinewidth": 0,
              "ticks": ""
             }
            },
            "type": "scattermapbox"
           }
          ],
          "scatterpolar": [
           {
            "marker": {
             "colorbar": {
              "outlinewidth": 0,
              "ticks": ""
             }
            },
            "type": "scatterpolar"
           }
          ],
          "scatterpolargl": [
           {
            "marker": {
             "colorbar": {
              "outlinewidth": 0,
              "ticks": ""
             }
            },
            "type": "scatterpolargl"
           }
          ],
          "scatterternary": [
           {
            "marker": {
             "colorbar": {
              "outlinewidth": 0,
              "ticks": ""
             }
            },
            "type": "scatterternary"
           }
          ],
          "surface": [
           {
            "colorbar": {
             "outlinewidth": 0,
             "ticks": ""
            },
            "colorscale": [
             [
              0,
              "#0d0887"
             ],
             [
              0.1111111111111111,
              "#46039f"
             ],
             [
              0.2222222222222222,
              "#7201a8"
             ],
             [
              0.3333333333333333,
              "#9c179e"
             ],
             [
              0.4444444444444444,
              "#bd3786"
             ],
             [
              0.5555555555555556,
              "#d8576b"
             ],
             [
              0.6666666666666666,
              "#ed7953"
             ],
             [
              0.7777777777777778,
              "#fb9f3a"
             ],
             [
              0.8888888888888888,
              "#fdca26"
             ],
             [
              1,
              "#f0f921"
             ]
            ],
            "type": "surface"
           }
          ],
          "table": [
           {
            "cells": {
             "fill": {
              "color": "#EBF0F8"
             },
             "line": {
              "color": "white"
             }
            },
            "header": {
             "fill": {
              "color": "#C8D4E3"
             },
             "line": {
              "color": "white"
             }
            },
            "type": "table"
           }
          ]
         },
         "layout": {
          "annotationdefaults": {
           "arrowcolor": "#2a3f5f",
           "arrowhead": 0,
           "arrowwidth": 1
          },
          "coloraxis": {
           "colorbar": {
            "outlinewidth": 0,
            "ticks": ""
           }
          },
          "colorscale": {
           "diverging": [
            [
             0,
             "#8e0152"
            ],
            [
             0.1,
             "#c51b7d"
            ],
            [
             0.2,
             "#de77ae"
            ],
            [
             0.3,
             "#f1b6da"
            ],
            [
             0.4,
             "#fde0ef"
            ],
            [
             0.5,
             "#f7f7f7"
            ],
            [
             0.6,
             "#e6f5d0"
            ],
            [
             0.7,
             "#b8e186"
            ],
            [
             0.8,
             "#7fbc41"
            ],
            [
             0.9,
             "#4d9221"
            ],
            [
             1,
             "#276419"
            ]
           ],
           "sequential": [
            [
             0,
             "#0d0887"
            ],
            [
             0.1111111111111111,
             "#46039f"
            ],
            [
             0.2222222222222222,
             "#7201a8"
            ],
            [
             0.3333333333333333,
             "#9c179e"
            ],
            [
             0.4444444444444444,
             "#bd3786"
            ],
            [
             0.5555555555555556,
             "#d8576b"
            ],
            [
             0.6666666666666666,
             "#ed7953"
            ],
            [
             0.7777777777777778,
             "#fb9f3a"
            ],
            [
             0.8888888888888888,
             "#fdca26"
            ],
            [
             1,
             "#f0f921"
            ]
           ],
           "sequentialminus": [
            [
             0,
             "#0d0887"
            ],
            [
             0.1111111111111111,
             "#46039f"
            ],
            [
             0.2222222222222222,
             "#7201a8"
            ],
            [
             0.3333333333333333,
             "#9c179e"
            ],
            [
             0.4444444444444444,
             "#bd3786"
            ],
            [
             0.5555555555555556,
             "#d8576b"
            ],
            [
             0.6666666666666666,
             "#ed7953"
            ],
            [
             0.7777777777777778,
             "#fb9f3a"
            ],
            [
             0.8888888888888888,
             "#fdca26"
            ],
            [
             1,
             "#f0f921"
            ]
           ]
          },
          "colorway": [
           "#636efa",
           "#EF553B",
           "#00cc96",
           "#ab63fa",
           "#FFA15A",
           "#19d3f3",
           "#FF6692",
           "#B6E880",
           "#FF97FF",
           "#FECB52"
          ],
          "font": {
           "color": "#2a3f5f"
          },
          "geo": {
           "bgcolor": "white",
           "lakecolor": "white",
           "landcolor": "#E5ECF6",
           "showlakes": true,
           "showland": true,
           "subunitcolor": "white"
          },
          "hoverlabel": {
           "align": "left"
          },
          "hovermode": "closest",
          "mapbox": {
           "style": "light"
          },
          "paper_bgcolor": "white",
          "plot_bgcolor": "#E5ECF6",
          "polar": {
           "angularaxis": {
            "gridcolor": "white",
            "linecolor": "white",
            "ticks": ""
           },
           "bgcolor": "#E5ECF6",
           "radialaxis": {
            "gridcolor": "white",
            "linecolor": "white",
            "ticks": ""
           }
          },
          "scene": {
           "xaxis": {
            "backgroundcolor": "#E5ECF6",
            "gridcolor": "white",
            "gridwidth": 2,
            "linecolor": "white",
            "showbackground": true,
            "ticks": "",
            "zerolinecolor": "white"
           },
           "yaxis": {
            "backgroundcolor": "#E5ECF6",
            "gridcolor": "white",
            "gridwidth": 2,
            "linecolor": "white",
            "showbackground": true,
            "ticks": "",
            "zerolinecolor": "white"
           },
           "zaxis": {
            "backgroundcolor": "#E5ECF6",
            "gridcolor": "white",
            "gridwidth": 2,
            "linecolor": "white",
            "showbackground": true,
            "ticks": "",
            "zerolinecolor": "white"
           }
          },
          "shapedefaults": {
           "line": {
            "color": "#2a3f5f"
           }
          },
          "ternary": {
           "aaxis": {
            "gridcolor": "white",
            "linecolor": "white",
            "ticks": ""
           },
           "baxis": {
            "gridcolor": "white",
            "linecolor": "white",
            "ticks": ""
           },
           "bgcolor": "#E5ECF6",
           "caxis": {
            "gridcolor": "white",
            "linecolor": "white",
            "ticks": ""
           }
          },
          "title": {
           "x": 0.05
          },
          "xaxis": {
           "automargin": true,
           "gridcolor": "white",
           "linecolor": "white",
           "ticks": "",
           "title": {
            "standoff": 15
           },
           "zerolinecolor": "white",
           "zerolinewidth": 2
          },
          "yaxis": {
           "automargin": true,
           "gridcolor": "white",
           "linecolor": "white",
           "ticks": "",
           "title": {
            "standoff": 15
           },
           "zerolinecolor": "white",
           "zerolinewidth": 2
          }
         }
        },
        "title": {
         "font": {
          "color": "#4D5663"
         }
        },
        "xaxis": {
         "gridcolor": "#E1E5ED",
         "showgrid": true,
         "tickfont": {
          "color": "#4D5663"
         },
         "title": {
          "font": {
           "color": "#4D5663"
          },
          "text": ""
         },
         "zerolinecolor": "#E1E5ED"
        },
        "yaxis": {
         "gridcolor": "#E1E5ED",
         "showgrid": true,
         "tickfont": {
          "color": "#4D5663"
         },
         "title": {
          "font": {
           "color": "#4D5663"
          },
          "text": ""
         },
         "zerolinecolor": "#E1E5ED"
        }
       }
      },
      "text/html": [
       "<div>\n",
       "        \n",
       "        \n",
       "            <div id=\"8d50708b-d986-408a-81c2-a9f7959d90bc\" class=\"plotly-graph-div\" style=\"height:525px; width:100%;\"></div>\n",
       "            <script type=\"text/javascript\">\n",
       "                require([\"plotly\"], function(Plotly) {\n",
       "                    window.PLOTLYENV=window.PLOTLYENV || {};\n",
       "                    window.PLOTLYENV.BASE_URL='https://plot.ly';\n",
       "                    \n",
       "                if (document.getElementById(\"8d50708b-d986-408a-81c2-a9f7959d90bc\")) {\n",
       "                    Plotly.newPlot(\n",
       "                        '8d50708b-d986-408a-81c2-a9f7959d90bc',\n",
       "                        [{\"line\": {\"color\": \"rgba(255, 153, 51, 1.0)\", \"dash\": \"solid\", \"shape\": \"linear\", \"width\": 1.3}, \"marker\": {\"size\": 10, \"symbol\": \"circle\"}, \"mode\": \"markers\", \"name\": \"B\", \"text\": \"\", \"type\": \"scatter\", \"x\": [-1.139418730002032, 0.6547989998648551, 0.39084583433649694, 0.9646681826571936, 0.42119755974889467, -0.23873385414912676, -0.2218960966330283, 0.5675391268184925, -0.14589675805068572, 0.2983797328942242, 0.2481277187050298, -0.959565662084963, 0.8983589857556141, -0.9205451688459358, -0.9073710648065669, -0.515818083052144, 0.3568982359524299, -0.05039881754988521, 1.045422545573841, -1.028197584323138, 1.8884199740984546, 0.5149998983933638, -0.4612569621502, -2.044884484384707, -2.2642782146088707, -1.3689178453525237, -0.4933880894392799, -0.44892769824569806, 0.7021651569997387, 0.17312188407331758, 0.8297254909813514, -1.209018772125511, -0.6643563939520879, -0.03970583699998416, -0.5617207661402005, -1.5631259578039896, 0.515889523095962, -0.8125689245955071, 0.8352380213053745, -0.4821209854676755, 1.1041130497801088, 1.0306206606074977, 0.9855867620785455, 2.0027569273403243, 0.2638266457953439, 0.04350891310129441, 0.8762454129201205, -0.08759198143271017, 0.8125231817138858, -0.9075513348000999, 0.5607733054161146, -0.23865240636633556, 1.1191716763190929, 0.5388212292102299, 0.27082148087794466, -0.1956758784434622, 1.2547094140308235, 0.302733734712402, -1.1695245267490626, 0.5185335466102716, 0.8190908979174077, 1.5642856701289398, -0.1839684949396022, -0.10464377212627611, -0.3738902853185688, -1.0578193647424976, 2.0398000529190385, -0.47861082085741863, -0.26066652323696304, 0.9178630415695512, 1.9169026133398048, 0.7487388185319119, -2.30795387068723, -0.04512853989323989, 0.679899641273138, -0.48688078490635245, -1.1505941647974545, 0.3185331783207228, 0.8562093507089286, -0.651604128474846, 0.45198833264601274, 1.3482242401288627, 0.8353632247445613, -1.6635070300669133, 1.166008542614696, -1.062260511565378, 0.5730805504655455, -0.08993760847573472, -0.43617816768055856, -1.5656173028182858, 1.165886988023119, 0.6929846977776724, 0.8990660463253227, 0.8770676699379643, 0.35505829390139904, -2.3865360599607173, -0.6196681063548992, 0.09208226131825127, -1.0205102925440586, -0.06404273101740816], \"y\": [0.07185369046079401, 0.29267616132149354, 1.3359631098647982, 0.545107252353979, 0.023573072156253636, 1.7806383033831787, -0.41920654167464244, 0.004753334568482668, -2.7545563538357722, 0.07041581324653917, -1.364304744464887, 0.718262483781206, 0.37671176544749074, -1.0847088557375442, 1.6187844586389555, -0.41038939569643645, 0.9022879204128095, 0.07470444368018322, -0.7584331811688072, 0.3479398247480616, 0.8397792016531902, 0.2845358694450361, 0.19511201142922244, -0.010539222850371364, -0.14990513147805898, -0.37005534246633354, 0.16154465308645954, -0.9630652851775763, 0.579517364159973, -1.4035777230307875, -0.14667617489278087, 0.429449098925077, 1.440046259087059, 2.779703254185213, -1.514950174241543, -0.38314255705606365, -0.28049090845899743, -1.6463839162523453, 0.9295239384079738, 0.7384350925009466, 0.10959327433895386, -0.39257212731936186, 0.23713498567784455, -1.7154102455070654, 0.20760628052385752, -1.2702993648325682, 0.07927160209414827, -0.4941781039881184, -0.5452131194133613, 0.8346752200099381, 0.21672730634365797, 2.0009415803598136, -0.4925540797247069, 0.290306402115402, -2.7768372967908723, -0.01243405416751847, -0.6796710071224988, -0.5173016212189284, 0.011980851961724251, -0.4746822465762274, -0.5944376172789942, 0.1581220435820472, 1.26495408912878, -1.0696550732525592, 0.013027485374751303, -0.4319955499309191, 1.3510716342226594, 0.47790259237997684, 1.270129257323493, -0.7962319883857973, 0.4221151806341645, 1.2241360896242566, 1.2238455887227986, 0.5360442855369453, 0.026539491263576968, 0.16069619963252837, -0.11268005216683398, 0.9944938623906966, 0.4271947826458063, 1.149959525055607, 1.1635316140334477, -0.5986582879739627, -0.7622941206283473, 0.23379827654993318, 1.303149004453367, 1.287826099022475, 1.2714709343016026, -0.35790525271922513, -0.6941904164226653, -0.21990783839232766, 0.4049388044447175, -0.7029717255640098, 2.1418061547745078, -0.04272070937948088, 0.00047843236067118583, 0.40654832502335314, -0.9318105156963058, 1.6492233784140895, -0.11745673997334564, 0.1436187868780339]}],\n",
       "                        {\"legend\": {\"bgcolor\": \"#F5F6F9\", \"font\": {\"color\": \"#4D5663\"}}, \"paper_bgcolor\": \"#F5F6F9\", \"plot_bgcolor\": \"#F5F6F9\", \"template\": {\"data\": {\"bar\": [{\"error_x\": {\"color\": \"#2a3f5f\"}, \"error_y\": {\"color\": \"#2a3f5f\"}, \"marker\": {\"line\": {\"color\": \"#E5ECF6\", \"width\": 0.5}}, \"type\": \"bar\"}], \"barpolar\": [{\"marker\": {\"line\": {\"color\": \"#E5ECF6\", \"width\": 0.5}}, \"type\": \"barpolar\"}], \"carpet\": [{\"aaxis\": {\"endlinecolor\": \"#2a3f5f\", \"gridcolor\": \"white\", \"linecolor\": \"white\", \"minorgridcolor\": \"white\", \"startlinecolor\": \"#2a3f5f\"}, \"baxis\": {\"endlinecolor\": \"#2a3f5f\", \"gridcolor\": \"white\", \"linecolor\": \"white\", \"minorgridcolor\": \"white\", \"startlinecolor\": \"#2a3f5f\"}, \"type\": \"carpet\"}], \"choropleth\": [{\"colorbar\": {\"outlinewidth\": 0, \"ticks\": \"\"}, \"type\": \"choropleth\"}], \"contour\": [{\"colorbar\": {\"outlinewidth\": 0, \"ticks\": \"\"}, \"colorscale\": [[0.0, \"#0d0887\"], [0.1111111111111111, \"#46039f\"], [0.2222222222222222, \"#7201a8\"], [0.3333333333333333, \"#9c179e\"], [0.4444444444444444, \"#bd3786\"], [0.5555555555555556, \"#d8576b\"], [0.6666666666666666, \"#ed7953\"], [0.7777777777777778, \"#fb9f3a\"], [0.8888888888888888, \"#fdca26\"], [1.0, \"#f0f921\"]], \"type\": \"contour\"}], \"contourcarpet\": [{\"colorbar\": {\"outlinewidth\": 0, \"ticks\": \"\"}, \"type\": \"contourcarpet\"}], \"heatmap\": [{\"colorbar\": {\"outlinewidth\": 0, \"ticks\": \"\"}, \"colorscale\": [[0.0, \"#0d0887\"], [0.1111111111111111, \"#46039f\"], [0.2222222222222222, \"#7201a8\"], [0.3333333333333333, \"#9c179e\"], [0.4444444444444444, \"#bd3786\"], [0.5555555555555556, \"#d8576b\"], [0.6666666666666666, \"#ed7953\"], [0.7777777777777778, \"#fb9f3a\"], [0.8888888888888888, \"#fdca26\"], [1.0, \"#f0f921\"]], \"type\": \"heatmap\"}], \"heatmapgl\": [{\"colorbar\": {\"outlinewidth\": 0, \"ticks\": \"\"}, \"colorscale\": [[0.0, \"#0d0887\"], [0.1111111111111111, \"#46039f\"], [0.2222222222222222, \"#7201a8\"], [0.3333333333333333, \"#9c179e\"], [0.4444444444444444, \"#bd3786\"], [0.5555555555555556, \"#d8576b\"], [0.6666666666666666, \"#ed7953\"], [0.7777777777777778, \"#fb9f3a\"], [0.8888888888888888, \"#fdca26\"], [1.0, \"#f0f921\"]], \"type\": \"heatmapgl\"}], \"histogram\": [{\"marker\": {\"colorbar\": {\"outlinewidth\": 0, \"ticks\": \"\"}}, \"type\": \"histogram\"}], \"histogram2d\": [{\"colorbar\": {\"outlinewidth\": 0, \"ticks\": \"\"}, \"colorscale\": [[0.0, \"#0d0887\"], [0.1111111111111111, \"#46039f\"], [0.2222222222222222, \"#7201a8\"], [0.3333333333333333, \"#9c179e\"], [0.4444444444444444, \"#bd3786\"], [0.5555555555555556, \"#d8576b\"], [0.6666666666666666, \"#ed7953\"], [0.7777777777777778, \"#fb9f3a\"], [0.8888888888888888, \"#fdca26\"], [1.0, \"#f0f921\"]], \"type\": \"histogram2d\"}], \"histogram2dcontour\": [{\"colorbar\": {\"outlinewidth\": 0, \"ticks\": \"\"}, \"colorscale\": [[0.0, \"#0d0887\"], [0.1111111111111111, \"#46039f\"], [0.2222222222222222, \"#7201a8\"], [0.3333333333333333, \"#9c179e\"], [0.4444444444444444, \"#bd3786\"], [0.5555555555555556, \"#d8576b\"], [0.6666666666666666, \"#ed7953\"], [0.7777777777777778, \"#fb9f3a\"], [0.8888888888888888, \"#fdca26\"], [1.0, \"#f0f921\"]], \"type\": \"histogram2dcontour\"}], \"mesh3d\": [{\"colorbar\": {\"outlinewidth\": 0, \"ticks\": \"\"}, \"type\": \"mesh3d\"}], \"parcoords\": [{\"line\": {\"colorbar\": {\"outlinewidth\": 0, \"ticks\": \"\"}}, \"type\": \"parcoords\"}], \"pie\": [{\"automargin\": true, \"type\": \"pie\"}], \"scatter\": [{\"marker\": {\"colorbar\": {\"outlinewidth\": 0, \"ticks\": \"\"}}, \"type\": \"scatter\"}], \"scatter3d\": [{\"line\": {\"colorbar\": {\"outlinewidth\": 0, \"ticks\": \"\"}}, \"marker\": {\"colorbar\": {\"outlinewidth\": 0, \"ticks\": \"\"}}, \"type\": \"scatter3d\"}], \"scattercarpet\": [{\"marker\": {\"colorbar\": {\"outlinewidth\": 0, \"ticks\": \"\"}}, \"type\": \"scattercarpet\"}], \"scattergeo\": [{\"marker\": {\"colorbar\": {\"outlinewidth\": 0, \"ticks\": \"\"}}, \"type\": \"scattergeo\"}], \"scattergl\": [{\"marker\": {\"colorbar\": {\"outlinewidth\": 0, \"ticks\": \"\"}}, \"type\": \"scattergl\"}], \"scattermapbox\": [{\"marker\": {\"colorbar\": {\"outlinewidth\": 0, \"ticks\": \"\"}}, \"type\": \"scattermapbox\"}], \"scatterpolar\": [{\"marker\": {\"colorbar\": {\"outlinewidth\": 0, \"ticks\": \"\"}}, \"type\": \"scatterpolar\"}], \"scatterpolargl\": [{\"marker\": {\"colorbar\": {\"outlinewidth\": 0, \"ticks\": \"\"}}, \"type\": \"scatterpolargl\"}], \"scatterternary\": [{\"marker\": {\"colorbar\": {\"outlinewidth\": 0, \"ticks\": \"\"}}, \"type\": \"scatterternary\"}], \"surface\": [{\"colorbar\": {\"outlinewidth\": 0, \"ticks\": \"\"}, \"colorscale\": [[0.0, \"#0d0887\"], [0.1111111111111111, \"#46039f\"], [0.2222222222222222, \"#7201a8\"], [0.3333333333333333, \"#9c179e\"], [0.4444444444444444, \"#bd3786\"], [0.5555555555555556, \"#d8576b\"], [0.6666666666666666, \"#ed7953\"], [0.7777777777777778, \"#fb9f3a\"], [0.8888888888888888, \"#fdca26\"], [1.0, \"#f0f921\"]], \"type\": \"surface\"}], \"table\": [{\"cells\": {\"fill\": {\"color\": \"#EBF0F8\"}, \"line\": {\"color\": \"white\"}}, \"header\": {\"fill\": {\"color\": \"#C8D4E3\"}, \"line\": {\"color\": \"white\"}}, \"type\": \"table\"}]}, \"layout\": {\"annotationdefaults\": {\"arrowcolor\": \"#2a3f5f\", \"arrowhead\": 0, \"arrowwidth\": 1}, \"coloraxis\": {\"colorbar\": {\"outlinewidth\": 0, \"ticks\": \"\"}}, \"colorscale\": {\"diverging\": [[0, \"#8e0152\"], [0.1, \"#c51b7d\"], [0.2, \"#de77ae\"], [0.3, \"#f1b6da\"], [0.4, \"#fde0ef\"], [0.5, \"#f7f7f7\"], [0.6, \"#e6f5d0\"], [0.7, \"#b8e186\"], [0.8, \"#7fbc41\"], [0.9, \"#4d9221\"], [1, \"#276419\"]], \"sequential\": [[0.0, \"#0d0887\"], [0.1111111111111111, \"#46039f\"], [0.2222222222222222, \"#7201a8\"], [0.3333333333333333, \"#9c179e\"], [0.4444444444444444, \"#bd3786\"], [0.5555555555555556, \"#d8576b\"], [0.6666666666666666, \"#ed7953\"], [0.7777777777777778, \"#fb9f3a\"], [0.8888888888888888, \"#fdca26\"], [1.0, \"#f0f921\"]], \"sequentialminus\": [[0.0, \"#0d0887\"], [0.1111111111111111, \"#46039f\"], [0.2222222222222222, \"#7201a8\"], [0.3333333333333333, \"#9c179e\"], [0.4444444444444444, \"#bd3786\"], [0.5555555555555556, \"#d8576b\"], [0.6666666666666666, \"#ed7953\"], [0.7777777777777778, \"#fb9f3a\"], [0.8888888888888888, \"#fdca26\"], [1.0, \"#f0f921\"]]}, \"colorway\": [\"#636efa\", \"#EF553B\", \"#00cc96\", \"#ab63fa\", \"#FFA15A\", \"#19d3f3\", \"#FF6692\", \"#B6E880\", \"#FF97FF\", \"#FECB52\"], \"font\": {\"color\": \"#2a3f5f\"}, \"geo\": {\"bgcolor\": \"white\", \"lakecolor\": \"white\", \"landcolor\": \"#E5ECF6\", \"showlakes\": true, \"showland\": true, \"subunitcolor\": \"white\"}, \"hoverlabel\": {\"align\": \"left\"}, \"hovermode\": \"closest\", \"mapbox\": {\"style\": \"light\"}, \"paper_bgcolor\": \"white\", \"plot_bgcolor\": \"#E5ECF6\", \"polar\": {\"angularaxis\": {\"gridcolor\": \"white\", \"linecolor\": \"white\", \"ticks\": \"\"}, \"bgcolor\": \"#E5ECF6\", \"radialaxis\": {\"gridcolor\": \"white\", \"linecolor\": \"white\", \"ticks\": \"\"}}, \"scene\": {\"xaxis\": {\"backgroundcolor\": \"#E5ECF6\", \"gridcolor\": \"white\", \"gridwidth\": 2, \"linecolor\": \"white\", \"showbackground\": true, \"ticks\": \"\", \"zerolinecolor\": \"white\"}, \"yaxis\": {\"backgroundcolor\": \"#E5ECF6\", \"gridcolor\": \"white\", \"gridwidth\": 2, \"linecolor\": \"white\", \"showbackground\": true, \"ticks\": \"\", \"zerolinecolor\": \"white\"}, \"zaxis\": {\"backgroundcolor\": \"#E5ECF6\", \"gridcolor\": \"white\", \"gridwidth\": 2, \"linecolor\": \"white\", \"showbackground\": true, \"ticks\": \"\", \"zerolinecolor\": \"white\"}}, \"shapedefaults\": {\"line\": {\"color\": \"#2a3f5f\"}}, \"ternary\": {\"aaxis\": {\"gridcolor\": \"white\", \"linecolor\": \"white\", \"ticks\": \"\"}, \"baxis\": {\"gridcolor\": \"white\", \"linecolor\": \"white\", \"ticks\": \"\"}, \"bgcolor\": \"#E5ECF6\", \"caxis\": {\"gridcolor\": \"white\", \"linecolor\": \"white\", \"ticks\": \"\"}}, \"title\": {\"x\": 0.05}, \"xaxis\": {\"automargin\": true, \"gridcolor\": \"white\", \"linecolor\": \"white\", \"ticks\": \"\", \"title\": {\"standoff\": 15}, \"zerolinecolor\": \"white\", \"zerolinewidth\": 2}, \"yaxis\": {\"automargin\": true, \"gridcolor\": \"white\", \"linecolor\": \"white\", \"ticks\": \"\", \"title\": {\"standoff\": 15}, \"zerolinecolor\": \"white\", \"zerolinewidth\": 2}}}, \"title\": {\"font\": {\"color\": \"#4D5663\"}}, \"xaxis\": {\"gridcolor\": \"#E1E5ED\", \"showgrid\": true, \"tickfont\": {\"color\": \"#4D5663\"}, \"title\": {\"font\": {\"color\": \"#4D5663\"}, \"text\": \"\"}, \"zerolinecolor\": \"#E1E5ED\"}, \"yaxis\": {\"gridcolor\": \"#E1E5ED\", \"showgrid\": true, \"tickfont\": {\"color\": \"#4D5663\"}, \"title\": {\"font\": {\"color\": \"#4D5663\"}, \"text\": \"\"}, \"zerolinecolor\": \"#E1E5ED\"}},\n",
       "                        {\"showLink\": true, \"linkText\": \"Export to plot.ly\", \"plotlyServerURL\": \"https://plot.ly\", \"responsive\": true}\n",
       "                    ).then(function(){\n",
       "                            \n",
       "var gd = document.getElementById('8d50708b-d986-408a-81c2-a9f7959d90bc');\n",
       "var x = new MutationObserver(function (mutations, observer) {{\n",
       "        var display = window.getComputedStyle(gd).display;\n",
       "        if (!display || display === 'none') {{\n",
       "            console.log([gd, 'removed!']);\n",
       "            Plotly.purge(gd);\n",
       "            observer.disconnect();\n",
       "        }}\n",
       "}});\n",
       "\n",
       "// Listen for the removal of the full notebook cells\n",
       "var notebookContainer = gd.closest('#notebook-container');\n",
       "if (notebookContainer) {{\n",
       "    x.observe(notebookContainer, {childList: true});\n",
       "}}\n",
       "\n",
       "// Listen for the clearing of the current output cell\n",
       "var outputEl = gd.closest('.output');\n",
       "if (outputEl) {{\n",
       "    x.observe(outputEl, {childList: true});\n",
       "}}\n",
       "\n",
       "                        })\n",
       "                };\n",
       "                });\n",
       "            </script>\n",
       "        </div>"
      ]
     },
     "metadata": {},
     "output_type": "display_data"
    }
   ],
   "source": [
    "df.iplot(kind='scatter',x='A',y='B',mode='markers',size=10)"
   ]
  },
  {
   "cell_type": "markdown",
   "metadata": {},
   "source": [
    "## Bar Plots"
   ]
  },
  {
   "cell_type": "code",
   "execution_count": 11,
   "metadata": {},
   "outputs": [
    {
     "data": {
      "application/vnd.plotly.v1+json": {
       "config": {
        "linkText": "Export to plot.ly",
        "plotlyServerURL": "https://plot.ly",
        "showLink": true
       },
       "data": [
        {
         "marker": {
          "color": "rgba(255, 153, 51, 0.6)",
          "line": {
           "color": "rgba(255, 153, 51, 1.0)",
           "width": 1
          }
         },
         "name": "Values",
         "orientation": "v",
         "text": "",
         "type": "bar",
         "x": [
          "A",
          "B",
          "C"
         ],
         "y": [
          32,
          43,
          50
         ]
        }
       ],
       "layout": {
        "legend": {
         "bgcolor": "#F5F6F9",
         "font": {
          "color": "#4D5663"
         }
        },
        "paper_bgcolor": "#F5F6F9",
        "plot_bgcolor": "#F5F6F9",
        "template": {
         "data": {
          "bar": [
           {
            "error_x": {
             "color": "#2a3f5f"
            },
            "error_y": {
             "color": "#2a3f5f"
            },
            "marker": {
             "line": {
              "color": "#E5ECF6",
              "width": 0.5
             }
            },
            "type": "bar"
           }
          ],
          "barpolar": [
           {
            "marker": {
             "line": {
              "color": "#E5ECF6",
              "width": 0.5
             }
            },
            "type": "barpolar"
           }
          ],
          "carpet": [
           {
            "aaxis": {
             "endlinecolor": "#2a3f5f",
             "gridcolor": "white",
             "linecolor": "white",
             "minorgridcolor": "white",
             "startlinecolor": "#2a3f5f"
            },
            "baxis": {
             "endlinecolor": "#2a3f5f",
             "gridcolor": "white",
             "linecolor": "white",
             "minorgridcolor": "white",
             "startlinecolor": "#2a3f5f"
            },
            "type": "carpet"
           }
          ],
          "choropleth": [
           {
            "colorbar": {
             "outlinewidth": 0,
             "ticks": ""
            },
            "type": "choropleth"
           }
          ],
          "contour": [
           {
            "colorbar": {
             "outlinewidth": 0,
             "ticks": ""
            },
            "colorscale": [
             [
              0,
              "#0d0887"
             ],
             [
              0.1111111111111111,
              "#46039f"
             ],
             [
              0.2222222222222222,
              "#7201a8"
             ],
             [
              0.3333333333333333,
              "#9c179e"
             ],
             [
              0.4444444444444444,
              "#bd3786"
             ],
             [
              0.5555555555555556,
              "#d8576b"
             ],
             [
              0.6666666666666666,
              "#ed7953"
             ],
             [
              0.7777777777777778,
              "#fb9f3a"
             ],
             [
              0.8888888888888888,
              "#fdca26"
             ],
             [
              1,
              "#f0f921"
             ]
            ],
            "type": "contour"
           }
          ],
          "contourcarpet": [
           {
            "colorbar": {
             "outlinewidth": 0,
             "ticks": ""
            },
            "type": "contourcarpet"
           }
          ],
          "heatmap": [
           {
            "colorbar": {
             "outlinewidth": 0,
             "ticks": ""
            },
            "colorscale": [
             [
              0,
              "#0d0887"
             ],
             [
              0.1111111111111111,
              "#46039f"
             ],
             [
              0.2222222222222222,
              "#7201a8"
             ],
             [
              0.3333333333333333,
              "#9c179e"
             ],
             [
              0.4444444444444444,
              "#bd3786"
             ],
             [
              0.5555555555555556,
              "#d8576b"
             ],
             [
              0.6666666666666666,
              "#ed7953"
             ],
             [
              0.7777777777777778,
              "#fb9f3a"
             ],
             [
              0.8888888888888888,
              "#fdca26"
             ],
             [
              1,
              "#f0f921"
             ]
            ],
            "type": "heatmap"
           }
          ],
          "heatmapgl": [
           {
            "colorbar": {
             "outlinewidth": 0,
             "ticks": ""
            },
            "colorscale": [
             [
              0,
              "#0d0887"
             ],
             [
              0.1111111111111111,
              "#46039f"
             ],
             [
              0.2222222222222222,
              "#7201a8"
             ],
             [
              0.3333333333333333,
              "#9c179e"
             ],
             [
              0.4444444444444444,
              "#bd3786"
             ],
             [
              0.5555555555555556,
              "#d8576b"
             ],
             [
              0.6666666666666666,
              "#ed7953"
             ],
             [
              0.7777777777777778,
              "#fb9f3a"
             ],
             [
              0.8888888888888888,
              "#fdca26"
             ],
             [
              1,
              "#f0f921"
             ]
            ],
            "type": "heatmapgl"
           }
          ],
          "histogram": [
           {
            "marker": {
             "colorbar": {
              "outlinewidth": 0,
              "ticks": ""
             }
            },
            "type": "histogram"
           }
          ],
          "histogram2d": [
           {
            "colorbar": {
             "outlinewidth": 0,
             "ticks": ""
            },
            "colorscale": [
             [
              0,
              "#0d0887"
             ],
             [
              0.1111111111111111,
              "#46039f"
             ],
             [
              0.2222222222222222,
              "#7201a8"
             ],
             [
              0.3333333333333333,
              "#9c179e"
             ],
             [
              0.4444444444444444,
              "#bd3786"
             ],
             [
              0.5555555555555556,
              "#d8576b"
             ],
             [
              0.6666666666666666,
              "#ed7953"
             ],
             [
              0.7777777777777778,
              "#fb9f3a"
             ],
             [
              0.8888888888888888,
              "#fdca26"
             ],
             [
              1,
              "#f0f921"
             ]
            ],
            "type": "histogram2d"
           }
          ],
          "histogram2dcontour": [
           {
            "colorbar": {
             "outlinewidth": 0,
             "ticks": ""
            },
            "colorscale": [
             [
              0,
              "#0d0887"
             ],
             [
              0.1111111111111111,
              "#46039f"
             ],
             [
              0.2222222222222222,
              "#7201a8"
             ],
             [
              0.3333333333333333,
              "#9c179e"
             ],
             [
              0.4444444444444444,
              "#bd3786"
             ],
             [
              0.5555555555555556,
              "#d8576b"
             ],
             [
              0.6666666666666666,
              "#ed7953"
             ],
             [
              0.7777777777777778,
              "#fb9f3a"
             ],
             [
              0.8888888888888888,
              "#fdca26"
             ],
             [
              1,
              "#f0f921"
             ]
            ],
            "type": "histogram2dcontour"
           }
          ],
          "mesh3d": [
           {
            "colorbar": {
             "outlinewidth": 0,
             "ticks": ""
            },
            "type": "mesh3d"
           }
          ],
          "parcoords": [
           {
            "line": {
             "colorbar": {
              "outlinewidth": 0,
              "ticks": ""
             }
            },
            "type": "parcoords"
           }
          ],
          "pie": [
           {
            "automargin": true,
            "type": "pie"
           }
          ],
          "scatter": [
           {
            "marker": {
             "colorbar": {
              "outlinewidth": 0,
              "ticks": ""
             }
            },
            "type": "scatter"
           }
          ],
          "scatter3d": [
           {
            "line": {
             "colorbar": {
              "outlinewidth": 0,
              "ticks": ""
             }
            },
            "marker": {
             "colorbar": {
              "outlinewidth": 0,
              "ticks": ""
             }
            },
            "type": "scatter3d"
           }
          ],
          "scattercarpet": [
           {
            "marker": {
             "colorbar": {
              "outlinewidth": 0,
              "ticks": ""
             }
            },
            "type": "scattercarpet"
           }
          ],
          "scattergeo": [
           {
            "marker": {
             "colorbar": {
              "outlinewidth": 0,
              "ticks": ""
             }
            },
            "type": "scattergeo"
           }
          ],
          "scattergl": [
           {
            "marker": {
             "colorbar": {
              "outlinewidth": 0,
              "ticks": ""
             }
            },
            "type": "scattergl"
           }
          ],
          "scattermapbox": [
           {
            "marker": {
             "colorbar": {
              "outlinewidth": 0,
              "ticks": ""
             }
            },
            "type": "scattermapbox"
           }
          ],
          "scatterpolar": [
           {
            "marker": {
             "colorbar": {
              "outlinewidth": 0,
              "ticks": ""
             }
            },
            "type": "scatterpolar"
           }
          ],
          "scatterpolargl": [
           {
            "marker": {
             "colorbar": {
              "outlinewidth": 0,
              "ticks": ""
             }
            },
            "type": "scatterpolargl"
           }
          ],
          "scatterternary": [
           {
            "marker": {
             "colorbar": {
              "outlinewidth": 0,
              "ticks": ""
             }
            },
            "type": "scatterternary"
           }
          ],
          "surface": [
           {
            "colorbar": {
             "outlinewidth": 0,
             "ticks": ""
            },
            "colorscale": [
             [
              0,
              "#0d0887"
             ],
             [
              0.1111111111111111,
              "#46039f"
             ],
             [
              0.2222222222222222,
              "#7201a8"
             ],
             [
              0.3333333333333333,
              "#9c179e"
             ],
             [
              0.4444444444444444,
              "#bd3786"
             ],
             [
              0.5555555555555556,
              "#d8576b"
             ],
             [
              0.6666666666666666,
              "#ed7953"
             ],
             [
              0.7777777777777778,
              "#fb9f3a"
             ],
             [
              0.8888888888888888,
              "#fdca26"
             ],
             [
              1,
              "#f0f921"
             ]
            ],
            "type": "surface"
           }
          ],
          "table": [
           {
            "cells": {
             "fill": {
              "color": "#EBF0F8"
             },
             "line": {
              "color": "white"
             }
            },
            "header": {
             "fill": {
              "color": "#C8D4E3"
             },
             "line": {
              "color": "white"
             }
            },
            "type": "table"
           }
          ]
         },
         "layout": {
          "annotationdefaults": {
           "arrowcolor": "#2a3f5f",
           "arrowhead": 0,
           "arrowwidth": 1
          },
          "coloraxis": {
           "colorbar": {
            "outlinewidth": 0,
            "ticks": ""
           }
          },
          "colorscale": {
           "diverging": [
            [
             0,
             "#8e0152"
            ],
            [
             0.1,
             "#c51b7d"
            ],
            [
             0.2,
             "#de77ae"
            ],
            [
             0.3,
             "#f1b6da"
            ],
            [
             0.4,
             "#fde0ef"
            ],
            [
             0.5,
             "#f7f7f7"
            ],
            [
             0.6,
             "#e6f5d0"
            ],
            [
             0.7,
             "#b8e186"
            ],
            [
             0.8,
             "#7fbc41"
            ],
            [
             0.9,
             "#4d9221"
            ],
            [
             1,
             "#276419"
            ]
           ],
           "sequential": [
            [
             0,
             "#0d0887"
            ],
            [
             0.1111111111111111,
             "#46039f"
            ],
            [
             0.2222222222222222,
             "#7201a8"
            ],
            [
             0.3333333333333333,
             "#9c179e"
            ],
            [
             0.4444444444444444,
             "#bd3786"
            ],
            [
             0.5555555555555556,
             "#d8576b"
            ],
            [
             0.6666666666666666,
             "#ed7953"
            ],
            [
             0.7777777777777778,
             "#fb9f3a"
            ],
            [
             0.8888888888888888,
             "#fdca26"
            ],
            [
             1,
             "#f0f921"
            ]
           ],
           "sequentialminus": [
            [
             0,
             "#0d0887"
            ],
            [
             0.1111111111111111,
             "#46039f"
            ],
            [
             0.2222222222222222,
             "#7201a8"
            ],
            [
             0.3333333333333333,
             "#9c179e"
            ],
            [
             0.4444444444444444,
             "#bd3786"
            ],
            [
             0.5555555555555556,
             "#d8576b"
            ],
            [
             0.6666666666666666,
             "#ed7953"
            ],
            [
             0.7777777777777778,
             "#fb9f3a"
            ],
            [
             0.8888888888888888,
             "#fdca26"
            ],
            [
             1,
             "#f0f921"
            ]
           ]
          },
          "colorway": [
           "#636efa",
           "#EF553B",
           "#00cc96",
           "#ab63fa",
           "#FFA15A",
           "#19d3f3",
           "#FF6692",
           "#B6E880",
           "#FF97FF",
           "#FECB52"
          ],
          "font": {
           "color": "#2a3f5f"
          },
          "geo": {
           "bgcolor": "white",
           "lakecolor": "white",
           "landcolor": "#E5ECF6",
           "showlakes": true,
           "showland": true,
           "subunitcolor": "white"
          },
          "hoverlabel": {
           "align": "left"
          },
          "hovermode": "closest",
          "mapbox": {
           "style": "light"
          },
          "paper_bgcolor": "white",
          "plot_bgcolor": "#E5ECF6",
          "polar": {
           "angularaxis": {
            "gridcolor": "white",
            "linecolor": "white",
            "ticks": ""
           },
           "bgcolor": "#E5ECF6",
           "radialaxis": {
            "gridcolor": "white",
            "linecolor": "white",
            "ticks": ""
           }
          },
          "scene": {
           "xaxis": {
            "backgroundcolor": "#E5ECF6",
            "gridcolor": "white",
            "gridwidth": 2,
            "linecolor": "white",
            "showbackground": true,
            "ticks": "",
            "zerolinecolor": "white"
           },
           "yaxis": {
            "backgroundcolor": "#E5ECF6",
            "gridcolor": "white",
            "gridwidth": 2,
            "linecolor": "white",
            "showbackground": true,
            "ticks": "",
            "zerolinecolor": "white"
           },
           "zaxis": {
            "backgroundcolor": "#E5ECF6",
            "gridcolor": "white",
            "gridwidth": 2,
            "linecolor": "white",
            "showbackground": true,
            "ticks": "",
            "zerolinecolor": "white"
           }
          },
          "shapedefaults": {
           "line": {
            "color": "#2a3f5f"
           }
          },
          "ternary": {
           "aaxis": {
            "gridcolor": "white",
            "linecolor": "white",
            "ticks": ""
           },
           "baxis": {
            "gridcolor": "white",
            "linecolor": "white",
            "ticks": ""
           },
           "bgcolor": "#E5ECF6",
           "caxis": {
            "gridcolor": "white",
            "linecolor": "white",
            "ticks": ""
           }
          },
          "title": {
           "x": 0.05
          },
          "xaxis": {
           "automargin": true,
           "gridcolor": "white",
           "linecolor": "white",
           "ticks": "",
           "title": {
            "standoff": 15
           },
           "zerolinecolor": "white",
           "zerolinewidth": 2
          },
          "yaxis": {
           "automargin": true,
           "gridcolor": "white",
           "linecolor": "white",
           "ticks": "",
           "title": {
            "standoff": 15
           },
           "zerolinecolor": "white",
           "zerolinewidth": 2
          }
         }
        },
        "title": {
         "font": {
          "color": "#4D5663"
         }
        },
        "xaxis": {
         "gridcolor": "#E1E5ED",
         "showgrid": true,
         "tickfont": {
          "color": "#4D5663"
         },
         "title": {
          "font": {
           "color": "#4D5663"
          },
          "text": ""
         },
         "zerolinecolor": "#E1E5ED"
        },
        "yaxis": {
         "gridcolor": "#E1E5ED",
         "showgrid": true,
         "tickfont": {
          "color": "#4D5663"
         },
         "title": {
          "font": {
           "color": "#4D5663"
          },
          "text": ""
         },
         "zerolinecolor": "#E1E5ED"
        }
       }
      },
      "text/html": [
       "<div>\n",
       "        \n",
       "        \n",
       "            <div id=\"2a2286ec-f6f8-4dd1-8ca3-db86204ff8ad\" class=\"plotly-graph-div\" style=\"height:525px; width:100%;\"></div>\n",
       "            <script type=\"text/javascript\">\n",
       "                require([\"plotly\"], function(Plotly) {\n",
       "                    window.PLOTLYENV=window.PLOTLYENV || {};\n",
       "                    window.PLOTLYENV.BASE_URL='https://plot.ly';\n",
       "                    \n",
       "                if (document.getElementById(\"2a2286ec-f6f8-4dd1-8ca3-db86204ff8ad\")) {\n",
       "                    Plotly.newPlot(\n",
       "                        '2a2286ec-f6f8-4dd1-8ca3-db86204ff8ad',\n",
       "                        [{\"marker\": {\"color\": \"rgba(255, 153, 51, 0.6)\", \"line\": {\"color\": \"rgba(255, 153, 51, 1.0)\", \"width\": 1}}, \"name\": \"Values\", \"orientation\": \"v\", \"text\": \"\", \"type\": \"bar\", \"x\": [\"A\", \"B\", \"C\"], \"y\": [32, 43, 50]}],\n",
       "                        {\"legend\": {\"bgcolor\": \"#F5F6F9\", \"font\": {\"color\": \"#4D5663\"}}, \"paper_bgcolor\": \"#F5F6F9\", \"plot_bgcolor\": \"#F5F6F9\", \"template\": {\"data\": {\"bar\": [{\"error_x\": {\"color\": \"#2a3f5f\"}, \"error_y\": {\"color\": \"#2a3f5f\"}, \"marker\": {\"line\": {\"color\": \"#E5ECF6\", \"width\": 0.5}}, \"type\": \"bar\"}], \"barpolar\": [{\"marker\": {\"line\": {\"color\": \"#E5ECF6\", \"width\": 0.5}}, \"type\": \"barpolar\"}], \"carpet\": [{\"aaxis\": {\"endlinecolor\": \"#2a3f5f\", \"gridcolor\": \"white\", \"linecolor\": \"white\", \"minorgridcolor\": \"white\", \"startlinecolor\": \"#2a3f5f\"}, \"baxis\": {\"endlinecolor\": \"#2a3f5f\", \"gridcolor\": \"white\", \"linecolor\": \"white\", \"minorgridcolor\": \"white\", \"startlinecolor\": \"#2a3f5f\"}, \"type\": \"carpet\"}], \"choropleth\": [{\"colorbar\": {\"outlinewidth\": 0, \"ticks\": \"\"}, \"type\": \"choropleth\"}], \"contour\": [{\"colorbar\": {\"outlinewidth\": 0, \"ticks\": \"\"}, \"colorscale\": [[0.0, \"#0d0887\"], [0.1111111111111111, \"#46039f\"], [0.2222222222222222, \"#7201a8\"], [0.3333333333333333, \"#9c179e\"], [0.4444444444444444, \"#bd3786\"], [0.5555555555555556, \"#d8576b\"], [0.6666666666666666, \"#ed7953\"], [0.7777777777777778, \"#fb9f3a\"], [0.8888888888888888, \"#fdca26\"], [1.0, \"#f0f921\"]], \"type\": \"contour\"}], \"contourcarpet\": [{\"colorbar\": {\"outlinewidth\": 0, \"ticks\": \"\"}, \"type\": \"contourcarpet\"}], \"heatmap\": [{\"colorbar\": {\"outlinewidth\": 0, \"ticks\": \"\"}, \"colorscale\": [[0.0, \"#0d0887\"], [0.1111111111111111, \"#46039f\"], [0.2222222222222222, \"#7201a8\"], [0.3333333333333333, \"#9c179e\"], [0.4444444444444444, \"#bd3786\"], [0.5555555555555556, \"#d8576b\"], [0.6666666666666666, \"#ed7953\"], [0.7777777777777778, \"#fb9f3a\"], [0.8888888888888888, \"#fdca26\"], [1.0, \"#f0f921\"]], \"type\": \"heatmap\"}], \"heatmapgl\": [{\"colorbar\": {\"outlinewidth\": 0, \"ticks\": \"\"}, \"colorscale\": [[0.0, \"#0d0887\"], [0.1111111111111111, \"#46039f\"], [0.2222222222222222, \"#7201a8\"], [0.3333333333333333, \"#9c179e\"], [0.4444444444444444, \"#bd3786\"], [0.5555555555555556, \"#d8576b\"], [0.6666666666666666, \"#ed7953\"], [0.7777777777777778, \"#fb9f3a\"], [0.8888888888888888, \"#fdca26\"], [1.0, \"#f0f921\"]], \"type\": \"heatmapgl\"}], \"histogram\": [{\"marker\": {\"colorbar\": {\"outlinewidth\": 0, \"ticks\": \"\"}}, \"type\": \"histogram\"}], \"histogram2d\": [{\"colorbar\": {\"outlinewidth\": 0, \"ticks\": \"\"}, \"colorscale\": [[0.0, \"#0d0887\"], [0.1111111111111111, \"#46039f\"], [0.2222222222222222, \"#7201a8\"], [0.3333333333333333, \"#9c179e\"], [0.4444444444444444, \"#bd3786\"], [0.5555555555555556, \"#d8576b\"], [0.6666666666666666, \"#ed7953\"], [0.7777777777777778, \"#fb9f3a\"], [0.8888888888888888, \"#fdca26\"], [1.0, \"#f0f921\"]], \"type\": \"histogram2d\"}], \"histogram2dcontour\": [{\"colorbar\": {\"outlinewidth\": 0, \"ticks\": \"\"}, \"colorscale\": [[0.0, \"#0d0887\"], [0.1111111111111111, \"#46039f\"], [0.2222222222222222, \"#7201a8\"], [0.3333333333333333, \"#9c179e\"], [0.4444444444444444, \"#bd3786\"], [0.5555555555555556, \"#d8576b\"], [0.6666666666666666, \"#ed7953\"], [0.7777777777777778, \"#fb9f3a\"], [0.8888888888888888, \"#fdca26\"], [1.0, \"#f0f921\"]], \"type\": \"histogram2dcontour\"}], \"mesh3d\": [{\"colorbar\": {\"outlinewidth\": 0, \"ticks\": \"\"}, \"type\": \"mesh3d\"}], \"parcoords\": [{\"line\": {\"colorbar\": {\"outlinewidth\": 0, \"ticks\": \"\"}}, \"type\": \"parcoords\"}], \"pie\": [{\"automargin\": true, \"type\": \"pie\"}], \"scatter\": [{\"marker\": {\"colorbar\": {\"outlinewidth\": 0, \"ticks\": \"\"}}, \"type\": \"scatter\"}], \"scatter3d\": [{\"line\": {\"colorbar\": {\"outlinewidth\": 0, \"ticks\": \"\"}}, \"marker\": {\"colorbar\": {\"outlinewidth\": 0, \"ticks\": \"\"}}, \"type\": \"scatter3d\"}], \"scattercarpet\": [{\"marker\": {\"colorbar\": {\"outlinewidth\": 0, \"ticks\": \"\"}}, \"type\": \"scattercarpet\"}], \"scattergeo\": [{\"marker\": {\"colorbar\": {\"outlinewidth\": 0, \"ticks\": \"\"}}, \"type\": \"scattergeo\"}], \"scattergl\": [{\"marker\": {\"colorbar\": {\"outlinewidth\": 0, \"ticks\": \"\"}}, \"type\": \"scattergl\"}], \"scattermapbox\": [{\"marker\": {\"colorbar\": {\"outlinewidth\": 0, \"ticks\": \"\"}}, \"type\": \"scattermapbox\"}], \"scatterpolar\": [{\"marker\": {\"colorbar\": {\"outlinewidth\": 0, \"ticks\": \"\"}}, \"type\": \"scatterpolar\"}], \"scatterpolargl\": [{\"marker\": {\"colorbar\": {\"outlinewidth\": 0, \"ticks\": \"\"}}, \"type\": \"scatterpolargl\"}], \"scatterternary\": [{\"marker\": {\"colorbar\": {\"outlinewidth\": 0, \"ticks\": \"\"}}, \"type\": \"scatterternary\"}], \"surface\": [{\"colorbar\": {\"outlinewidth\": 0, \"ticks\": \"\"}, \"colorscale\": [[0.0, \"#0d0887\"], [0.1111111111111111, \"#46039f\"], [0.2222222222222222, \"#7201a8\"], [0.3333333333333333, \"#9c179e\"], [0.4444444444444444, \"#bd3786\"], [0.5555555555555556, \"#d8576b\"], [0.6666666666666666, \"#ed7953\"], [0.7777777777777778, \"#fb9f3a\"], [0.8888888888888888, \"#fdca26\"], [1.0, \"#f0f921\"]], \"type\": \"surface\"}], \"table\": [{\"cells\": {\"fill\": {\"color\": \"#EBF0F8\"}, \"line\": {\"color\": \"white\"}}, \"header\": {\"fill\": {\"color\": \"#C8D4E3\"}, \"line\": {\"color\": \"white\"}}, \"type\": \"table\"}]}, \"layout\": {\"annotationdefaults\": {\"arrowcolor\": \"#2a3f5f\", \"arrowhead\": 0, \"arrowwidth\": 1}, \"coloraxis\": {\"colorbar\": {\"outlinewidth\": 0, \"ticks\": \"\"}}, \"colorscale\": {\"diverging\": [[0, \"#8e0152\"], [0.1, \"#c51b7d\"], [0.2, \"#de77ae\"], [0.3, \"#f1b6da\"], [0.4, \"#fde0ef\"], [0.5, \"#f7f7f7\"], [0.6, \"#e6f5d0\"], [0.7, \"#b8e186\"], [0.8, \"#7fbc41\"], [0.9, \"#4d9221\"], [1, \"#276419\"]], \"sequential\": [[0.0, \"#0d0887\"], [0.1111111111111111, \"#46039f\"], [0.2222222222222222, \"#7201a8\"], [0.3333333333333333, \"#9c179e\"], [0.4444444444444444, \"#bd3786\"], [0.5555555555555556, \"#d8576b\"], [0.6666666666666666, \"#ed7953\"], [0.7777777777777778, \"#fb9f3a\"], [0.8888888888888888, \"#fdca26\"], [1.0, \"#f0f921\"]], \"sequentialminus\": [[0.0, \"#0d0887\"], [0.1111111111111111, \"#46039f\"], [0.2222222222222222, \"#7201a8\"], [0.3333333333333333, \"#9c179e\"], [0.4444444444444444, \"#bd3786\"], [0.5555555555555556, \"#d8576b\"], [0.6666666666666666, \"#ed7953\"], [0.7777777777777778, \"#fb9f3a\"], [0.8888888888888888, \"#fdca26\"], [1.0, \"#f0f921\"]]}, \"colorway\": [\"#636efa\", \"#EF553B\", \"#00cc96\", \"#ab63fa\", \"#FFA15A\", \"#19d3f3\", \"#FF6692\", \"#B6E880\", \"#FF97FF\", \"#FECB52\"], \"font\": {\"color\": \"#2a3f5f\"}, \"geo\": {\"bgcolor\": \"white\", \"lakecolor\": \"white\", \"landcolor\": \"#E5ECF6\", \"showlakes\": true, \"showland\": true, \"subunitcolor\": \"white\"}, \"hoverlabel\": {\"align\": \"left\"}, \"hovermode\": \"closest\", \"mapbox\": {\"style\": \"light\"}, \"paper_bgcolor\": \"white\", \"plot_bgcolor\": \"#E5ECF6\", \"polar\": {\"angularaxis\": {\"gridcolor\": \"white\", \"linecolor\": \"white\", \"ticks\": \"\"}, \"bgcolor\": \"#E5ECF6\", \"radialaxis\": {\"gridcolor\": \"white\", \"linecolor\": \"white\", \"ticks\": \"\"}}, \"scene\": {\"xaxis\": {\"backgroundcolor\": \"#E5ECF6\", \"gridcolor\": \"white\", \"gridwidth\": 2, \"linecolor\": \"white\", \"showbackground\": true, \"ticks\": \"\", \"zerolinecolor\": \"white\"}, \"yaxis\": {\"backgroundcolor\": \"#E5ECF6\", \"gridcolor\": \"white\", \"gridwidth\": 2, \"linecolor\": \"white\", \"showbackground\": true, \"ticks\": \"\", \"zerolinecolor\": \"white\"}, \"zaxis\": {\"backgroundcolor\": \"#E5ECF6\", \"gridcolor\": \"white\", \"gridwidth\": 2, \"linecolor\": \"white\", \"showbackground\": true, \"ticks\": \"\", \"zerolinecolor\": \"white\"}}, \"shapedefaults\": {\"line\": {\"color\": \"#2a3f5f\"}}, \"ternary\": {\"aaxis\": {\"gridcolor\": \"white\", \"linecolor\": \"white\", \"ticks\": \"\"}, \"baxis\": {\"gridcolor\": \"white\", \"linecolor\": \"white\", \"ticks\": \"\"}, \"bgcolor\": \"#E5ECF6\", \"caxis\": {\"gridcolor\": \"white\", \"linecolor\": \"white\", \"ticks\": \"\"}}, \"title\": {\"x\": 0.05}, \"xaxis\": {\"automargin\": true, \"gridcolor\": \"white\", \"linecolor\": \"white\", \"ticks\": \"\", \"title\": {\"standoff\": 15}, \"zerolinecolor\": \"white\", \"zerolinewidth\": 2}, \"yaxis\": {\"automargin\": true, \"gridcolor\": \"white\", \"linecolor\": \"white\", \"ticks\": \"\", \"title\": {\"standoff\": 15}, \"zerolinecolor\": \"white\", \"zerolinewidth\": 2}}}, \"title\": {\"font\": {\"color\": \"#4D5663\"}}, \"xaxis\": {\"gridcolor\": \"#E1E5ED\", \"showgrid\": true, \"tickfont\": {\"color\": \"#4D5663\"}, \"title\": {\"font\": {\"color\": \"#4D5663\"}, \"text\": \"\"}, \"zerolinecolor\": \"#E1E5ED\"}, \"yaxis\": {\"gridcolor\": \"#E1E5ED\", \"showgrid\": true, \"tickfont\": {\"color\": \"#4D5663\"}, \"title\": {\"font\": {\"color\": \"#4D5663\"}, \"text\": \"\"}, \"zerolinecolor\": \"#E1E5ED\"}},\n",
       "                        {\"showLink\": true, \"linkText\": \"Export to plot.ly\", \"plotlyServerURL\": \"https://plot.ly\", \"responsive\": true}\n",
       "                    ).then(function(){\n",
       "                            \n",
       "var gd = document.getElementById('2a2286ec-f6f8-4dd1-8ca3-db86204ff8ad');\n",
       "var x = new MutationObserver(function (mutations, observer) {{\n",
       "        var display = window.getComputedStyle(gd).display;\n",
       "        if (!display || display === 'none') {{\n",
       "            console.log([gd, 'removed!']);\n",
       "            Plotly.purge(gd);\n",
       "            observer.disconnect();\n",
       "        }}\n",
       "}});\n",
       "\n",
       "// Listen for the removal of the full notebook cells\n",
       "var notebookContainer = gd.closest('#notebook-container');\n",
       "if (notebookContainer) {{\n",
       "    x.observe(notebookContainer, {childList: true});\n",
       "}}\n",
       "\n",
       "// Listen for the clearing of the current output cell\n",
       "var outputEl = gd.closest('.output');\n",
       "if (outputEl) {{\n",
       "    x.observe(outputEl, {childList: true});\n",
       "}}\n",
       "\n",
       "                        })\n",
       "                };\n",
       "                });\n",
       "            </script>\n",
       "        </div>"
      ]
     },
     "metadata": {},
     "output_type": "display_data"
    }
   ],
   "source": [
    "df2.iplot(kind='bar',x='Category',y='Values')"
   ]
  },
  {
   "cell_type": "code",
   "execution_count": 12,
   "metadata": {},
   "outputs": [
    {
     "data": {
      "application/vnd.plotly.v1+json": {
       "config": {
        "linkText": "Export to plot.ly",
        "plotlyServerURL": "https://plot.ly",
        "showLink": true
       },
       "data": [
        {
         "marker": {
          "color": "rgba(255, 153, 51, 0.6)",
          "line": {
           "color": "rgba(255, 153, 51, 1.0)",
           "width": 1
          }
         },
         "name": "None",
         "orientation": "v",
         "text": "",
         "type": "bar",
         "x": [
          "A",
          "B",
          "C",
          "D"
         ],
         "y": [
          100,
          100,
          100,
          100
         ]
        }
       ],
       "layout": {
        "legend": {
         "bgcolor": "#F5F6F9",
         "font": {
          "color": "#4D5663"
         }
        },
        "paper_bgcolor": "#F5F6F9",
        "plot_bgcolor": "#F5F6F9",
        "template": {
         "data": {
          "bar": [
           {
            "error_x": {
             "color": "#2a3f5f"
            },
            "error_y": {
             "color": "#2a3f5f"
            },
            "marker": {
             "line": {
              "color": "#E5ECF6",
              "width": 0.5
             }
            },
            "type": "bar"
           }
          ],
          "barpolar": [
           {
            "marker": {
             "line": {
              "color": "#E5ECF6",
              "width": 0.5
             }
            },
            "type": "barpolar"
           }
          ],
          "carpet": [
           {
            "aaxis": {
             "endlinecolor": "#2a3f5f",
             "gridcolor": "white",
             "linecolor": "white",
             "minorgridcolor": "white",
             "startlinecolor": "#2a3f5f"
            },
            "baxis": {
             "endlinecolor": "#2a3f5f",
             "gridcolor": "white",
             "linecolor": "white",
             "minorgridcolor": "white",
             "startlinecolor": "#2a3f5f"
            },
            "type": "carpet"
           }
          ],
          "choropleth": [
           {
            "colorbar": {
             "outlinewidth": 0,
             "ticks": ""
            },
            "type": "choropleth"
           }
          ],
          "contour": [
           {
            "colorbar": {
             "outlinewidth": 0,
             "ticks": ""
            },
            "colorscale": [
             [
              0,
              "#0d0887"
             ],
             [
              0.1111111111111111,
              "#46039f"
             ],
             [
              0.2222222222222222,
              "#7201a8"
             ],
             [
              0.3333333333333333,
              "#9c179e"
             ],
             [
              0.4444444444444444,
              "#bd3786"
             ],
             [
              0.5555555555555556,
              "#d8576b"
             ],
             [
              0.6666666666666666,
              "#ed7953"
             ],
             [
              0.7777777777777778,
              "#fb9f3a"
             ],
             [
              0.8888888888888888,
              "#fdca26"
             ],
             [
              1,
              "#f0f921"
             ]
            ],
            "type": "contour"
           }
          ],
          "contourcarpet": [
           {
            "colorbar": {
             "outlinewidth": 0,
             "ticks": ""
            },
            "type": "contourcarpet"
           }
          ],
          "heatmap": [
           {
            "colorbar": {
             "outlinewidth": 0,
             "ticks": ""
            },
            "colorscale": [
             [
              0,
              "#0d0887"
             ],
             [
              0.1111111111111111,
              "#46039f"
             ],
             [
              0.2222222222222222,
              "#7201a8"
             ],
             [
              0.3333333333333333,
              "#9c179e"
             ],
             [
              0.4444444444444444,
              "#bd3786"
             ],
             [
              0.5555555555555556,
              "#d8576b"
             ],
             [
              0.6666666666666666,
              "#ed7953"
             ],
             [
              0.7777777777777778,
              "#fb9f3a"
             ],
             [
              0.8888888888888888,
              "#fdca26"
             ],
             [
              1,
              "#f0f921"
             ]
            ],
            "type": "heatmap"
           }
          ],
          "heatmapgl": [
           {
            "colorbar": {
             "outlinewidth": 0,
             "ticks": ""
            },
            "colorscale": [
             [
              0,
              "#0d0887"
             ],
             [
              0.1111111111111111,
              "#46039f"
             ],
             [
              0.2222222222222222,
              "#7201a8"
             ],
             [
              0.3333333333333333,
              "#9c179e"
             ],
             [
              0.4444444444444444,
              "#bd3786"
             ],
             [
              0.5555555555555556,
              "#d8576b"
             ],
             [
              0.6666666666666666,
              "#ed7953"
             ],
             [
              0.7777777777777778,
              "#fb9f3a"
             ],
             [
              0.8888888888888888,
              "#fdca26"
             ],
             [
              1,
              "#f0f921"
             ]
            ],
            "type": "heatmapgl"
           }
          ],
          "histogram": [
           {
            "marker": {
             "colorbar": {
              "outlinewidth": 0,
              "ticks": ""
             }
            },
            "type": "histogram"
           }
          ],
          "histogram2d": [
           {
            "colorbar": {
             "outlinewidth": 0,
             "ticks": ""
            },
            "colorscale": [
             [
              0,
              "#0d0887"
             ],
             [
              0.1111111111111111,
              "#46039f"
             ],
             [
              0.2222222222222222,
              "#7201a8"
             ],
             [
              0.3333333333333333,
              "#9c179e"
             ],
             [
              0.4444444444444444,
              "#bd3786"
             ],
             [
              0.5555555555555556,
              "#d8576b"
             ],
             [
              0.6666666666666666,
              "#ed7953"
             ],
             [
              0.7777777777777778,
              "#fb9f3a"
             ],
             [
              0.8888888888888888,
              "#fdca26"
             ],
             [
              1,
              "#f0f921"
             ]
            ],
            "type": "histogram2d"
           }
          ],
          "histogram2dcontour": [
           {
            "colorbar": {
             "outlinewidth": 0,
             "ticks": ""
            },
            "colorscale": [
             [
              0,
              "#0d0887"
             ],
             [
              0.1111111111111111,
              "#46039f"
             ],
             [
              0.2222222222222222,
              "#7201a8"
             ],
             [
              0.3333333333333333,
              "#9c179e"
             ],
             [
              0.4444444444444444,
              "#bd3786"
             ],
             [
              0.5555555555555556,
              "#d8576b"
             ],
             [
              0.6666666666666666,
              "#ed7953"
             ],
             [
              0.7777777777777778,
              "#fb9f3a"
             ],
             [
              0.8888888888888888,
              "#fdca26"
             ],
             [
              1,
              "#f0f921"
             ]
            ],
            "type": "histogram2dcontour"
           }
          ],
          "mesh3d": [
           {
            "colorbar": {
             "outlinewidth": 0,
             "ticks": ""
            },
            "type": "mesh3d"
           }
          ],
          "parcoords": [
           {
            "line": {
             "colorbar": {
              "outlinewidth": 0,
              "ticks": ""
             }
            },
            "type": "parcoords"
           }
          ],
          "pie": [
           {
            "automargin": true,
            "type": "pie"
           }
          ],
          "scatter": [
           {
            "marker": {
             "colorbar": {
              "outlinewidth": 0,
              "ticks": ""
             }
            },
            "type": "scatter"
           }
          ],
          "scatter3d": [
           {
            "line": {
             "colorbar": {
              "outlinewidth": 0,
              "ticks": ""
             }
            },
            "marker": {
             "colorbar": {
              "outlinewidth": 0,
              "ticks": ""
             }
            },
            "type": "scatter3d"
           }
          ],
          "scattercarpet": [
           {
            "marker": {
             "colorbar": {
              "outlinewidth": 0,
              "ticks": ""
             }
            },
            "type": "scattercarpet"
           }
          ],
          "scattergeo": [
           {
            "marker": {
             "colorbar": {
              "outlinewidth": 0,
              "ticks": ""
             }
            },
            "type": "scattergeo"
           }
          ],
          "scattergl": [
           {
            "marker": {
             "colorbar": {
              "outlinewidth": 0,
              "ticks": ""
             }
            },
            "type": "scattergl"
           }
          ],
          "scattermapbox": [
           {
            "marker": {
             "colorbar": {
              "outlinewidth": 0,
              "ticks": ""
             }
            },
            "type": "scattermapbox"
           }
          ],
          "scatterpolar": [
           {
            "marker": {
             "colorbar": {
              "outlinewidth": 0,
              "ticks": ""
             }
            },
            "type": "scatterpolar"
           }
          ],
          "scatterpolargl": [
           {
            "marker": {
             "colorbar": {
              "outlinewidth": 0,
              "ticks": ""
             }
            },
            "type": "scatterpolargl"
           }
          ],
          "scatterternary": [
           {
            "marker": {
             "colorbar": {
              "outlinewidth": 0,
              "ticks": ""
             }
            },
            "type": "scatterternary"
           }
          ],
          "surface": [
           {
            "colorbar": {
             "outlinewidth": 0,
             "ticks": ""
            },
            "colorscale": [
             [
              0,
              "#0d0887"
             ],
             [
              0.1111111111111111,
              "#46039f"
             ],
             [
              0.2222222222222222,
              "#7201a8"
             ],
             [
              0.3333333333333333,
              "#9c179e"
             ],
             [
              0.4444444444444444,
              "#bd3786"
             ],
             [
              0.5555555555555556,
              "#d8576b"
             ],
             [
              0.6666666666666666,
              "#ed7953"
             ],
             [
              0.7777777777777778,
              "#fb9f3a"
             ],
             [
              0.8888888888888888,
              "#fdca26"
             ],
             [
              1,
              "#f0f921"
             ]
            ],
            "type": "surface"
           }
          ],
          "table": [
           {
            "cells": {
             "fill": {
              "color": "#EBF0F8"
             },
             "line": {
              "color": "white"
             }
            },
            "header": {
             "fill": {
              "color": "#C8D4E3"
             },
             "line": {
              "color": "white"
             }
            },
            "type": "table"
           }
          ]
         },
         "layout": {
          "annotationdefaults": {
           "arrowcolor": "#2a3f5f",
           "arrowhead": 0,
           "arrowwidth": 1
          },
          "coloraxis": {
           "colorbar": {
            "outlinewidth": 0,
            "ticks": ""
           }
          },
          "colorscale": {
           "diverging": [
            [
             0,
             "#8e0152"
            ],
            [
             0.1,
             "#c51b7d"
            ],
            [
             0.2,
             "#de77ae"
            ],
            [
             0.3,
             "#f1b6da"
            ],
            [
             0.4,
             "#fde0ef"
            ],
            [
             0.5,
             "#f7f7f7"
            ],
            [
             0.6,
             "#e6f5d0"
            ],
            [
             0.7,
             "#b8e186"
            ],
            [
             0.8,
             "#7fbc41"
            ],
            [
             0.9,
             "#4d9221"
            ],
            [
             1,
             "#276419"
            ]
           ],
           "sequential": [
            [
             0,
             "#0d0887"
            ],
            [
             0.1111111111111111,
             "#46039f"
            ],
            [
             0.2222222222222222,
             "#7201a8"
            ],
            [
             0.3333333333333333,
             "#9c179e"
            ],
            [
             0.4444444444444444,
             "#bd3786"
            ],
            [
             0.5555555555555556,
             "#d8576b"
            ],
            [
             0.6666666666666666,
             "#ed7953"
            ],
            [
             0.7777777777777778,
             "#fb9f3a"
            ],
            [
             0.8888888888888888,
             "#fdca26"
            ],
            [
             1,
             "#f0f921"
            ]
           ],
           "sequentialminus": [
            [
             0,
             "#0d0887"
            ],
            [
             0.1111111111111111,
             "#46039f"
            ],
            [
             0.2222222222222222,
             "#7201a8"
            ],
            [
             0.3333333333333333,
             "#9c179e"
            ],
            [
             0.4444444444444444,
             "#bd3786"
            ],
            [
             0.5555555555555556,
             "#d8576b"
            ],
            [
             0.6666666666666666,
             "#ed7953"
            ],
            [
             0.7777777777777778,
             "#fb9f3a"
            ],
            [
             0.8888888888888888,
             "#fdca26"
            ],
            [
             1,
             "#f0f921"
            ]
           ]
          },
          "colorway": [
           "#636efa",
           "#EF553B",
           "#00cc96",
           "#ab63fa",
           "#FFA15A",
           "#19d3f3",
           "#FF6692",
           "#B6E880",
           "#FF97FF",
           "#FECB52"
          ],
          "font": {
           "color": "#2a3f5f"
          },
          "geo": {
           "bgcolor": "white",
           "lakecolor": "white",
           "landcolor": "#E5ECF6",
           "showlakes": true,
           "showland": true,
           "subunitcolor": "white"
          },
          "hoverlabel": {
           "align": "left"
          },
          "hovermode": "closest",
          "mapbox": {
           "style": "light"
          },
          "paper_bgcolor": "white",
          "plot_bgcolor": "#E5ECF6",
          "polar": {
           "angularaxis": {
            "gridcolor": "white",
            "linecolor": "white",
            "ticks": ""
           },
           "bgcolor": "#E5ECF6",
           "radialaxis": {
            "gridcolor": "white",
            "linecolor": "white",
            "ticks": ""
           }
          },
          "scene": {
           "xaxis": {
            "backgroundcolor": "#E5ECF6",
            "gridcolor": "white",
            "gridwidth": 2,
            "linecolor": "white",
            "showbackground": true,
            "ticks": "",
            "zerolinecolor": "white"
           },
           "yaxis": {
            "backgroundcolor": "#E5ECF6",
            "gridcolor": "white",
            "gridwidth": 2,
            "linecolor": "white",
            "showbackground": true,
            "ticks": "",
            "zerolinecolor": "white"
           },
           "zaxis": {
            "backgroundcolor": "#E5ECF6",
            "gridcolor": "white",
            "gridwidth": 2,
            "linecolor": "white",
            "showbackground": true,
            "ticks": "",
            "zerolinecolor": "white"
           }
          },
          "shapedefaults": {
           "line": {
            "color": "#2a3f5f"
           }
          },
          "ternary": {
           "aaxis": {
            "gridcolor": "white",
            "linecolor": "white",
            "ticks": ""
           },
           "baxis": {
            "gridcolor": "white",
            "linecolor": "white",
            "ticks": ""
           },
           "bgcolor": "#E5ECF6",
           "caxis": {
            "gridcolor": "white",
            "linecolor": "white",
            "ticks": ""
           }
          },
          "title": {
           "x": 0.05
          },
          "xaxis": {
           "automargin": true,
           "gridcolor": "white",
           "linecolor": "white",
           "ticks": "",
           "title": {
            "standoff": 15
           },
           "zerolinecolor": "white",
           "zerolinewidth": 2
          },
          "yaxis": {
           "automargin": true,
           "gridcolor": "white",
           "linecolor": "white",
           "ticks": "",
           "title": {
            "standoff": 15
           },
           "zerolinecolor": "white",
           "zerolinewidth": 2
          }
         }
        },
        "title": {
         "font": {
          "color": "#4D5663"
         }
        },
        "xaxis": {
         "gridcolor": "#E1E5ED",
         "showgrid": true,
         "tickfont": {
          "color": "#4D5663"
         },
         "title": {
          "font": {
           "color": "#4D5663"
          },
          "text": ""
         },
         "zerolinecolor": "#E1E5ED"
        },
        "yaxis": {
         "gridcolor": "#E1E5ED",
         "showgrid": true,
         "tickfont": {
          "color": "#4D5663"
         },
         "title": {
          "font": {
           "color": "#4D5663"
          },
          "text": ""
         },
         "zerolinecolor": "#E1E5ED"
        }
       }
      },
      "text/html": [
       "<div>\n",
       "        \n",
       "        \n",
       "            <div id=\"0dc6c1ad-2454-498d-94f8-41f406dad5c2\" class=\"plotly-graph-div\" style=\"height:525px; width:100%;\"></div>\n",
       "            <script type=\"text/javascript\">\n",
       "                require([\"plotly\"], function(Plotly) {\n",
       "                    window.PLOTLYENV=window.PLOTLYENV || {};\n",
       "                    window.PLOTLYENV.BASE_URL='https://plot.ly';\n",
       "                    \n",
       "                if (document.getElementById(\"0dc6c1ad-2454-498d-94f8-41f406dad5c2\")) {\n",
       "                    Plotly.newPlot(\n",
       "                        '0dc6c1ad-2454-498d-94f8-41f406dad5c2',\n",
       "                        [{\"marker\": {\"color\": \"rgba(255, 153, 51, 0.6)\", \"line\": {\"color\": \"rgba(255, 153, 51, 1.0)\", \"width\": 1}}, \"name\": \"None\", \"orientation\": \"v\", \"text\": \"\", \"type\": \"bar\", \"x\": [\"A\", \"B\", \"C\", \"D\"], \"y\": [100, 100, 100, 100]}],\n",
       "                        {\"legend\": {\"bgcolor\": \"#F5F6F9\", \"font\": {\"color\": \"#4D5663\"}}, \"paper_bgcolor\": \"#F5F6F9\", \"plot_bgcolor\": \"#F5F6F9\", \"template\": {\"data\": {\"bar\": [{\"error_x\": {\"color\": \"#2a3f5f\"}, \"error_y\": {\"color\": \"#2a3f5f\"}, \"marker\": {\"line\": {\"color\": \"#E5ECF6\", \"width\": 0.5}}, \"type\": \"bar\"}], \"barpolar\": [{\"marker\": {\"line\": {\"color\": \"#E5ECF6\", \"width\": 0.5}}, \"type\": \"barpolar\"}], \"carpet\": [{\"aaxis\": {\"endlinecolor\": \"#2a3f5f\", \"gridcolor\": \"white\", \"linecolor\": \"white\", \"minorgridcolor\": \"white\", \"startlinecolor\": \"#2a3f5f\"}, \"baxis\": {\"endlinecolor\": \"#2a3f5f\", \"gridcolor\": \"white\", \"linecolor\": \"white\", \"minorgridcolor\": \"white\", \"startlinecolor\": \"#2a3f5f\"}, \"type\": \"carpet\"}], \"choropleth\": [{\"colorbar\": {\"outlinewidth\": 0, \"ticks\": \"\"}, \"type\": \"choropleth\"}], \"contour\": [{\"colorbar\": {\"outlinewidth\": 0, \"ticks\": \"\"}, \"colorscale\": [[0.0, \"#0d0887\"], [0.1111111111111111, \"#46039f\"], [0.2222222222222222, \"#7201a8\"], [0.3333333333333333, \"#9c179e\"], [0.4444444444444444, \"#bd3786\"], [0.5555555555555556, \"#d8576b\"], [0.6666666666666666, \"#ed7953\"], [0.7777777777777778, \"#fb9f3a\"], [0.8888888888888888, \"#fdca26\"], [1.0, \"#f0f921\"]], \"type\": \"contour\"}], \"contourcarpet\": [{\"colorbar\": {\"outlinewidth\": 0, \"ticks\": \"\"}, \"type\": \"contourcarpet\"}], \"heatmap\": [{\"colorbar\": {\"outlinewidth\": 0, \"ticks\": \"\"}, \"colorscale\": [[0.0, \"#0d0887\"], [0.1111111111111111, \"#46039f\"], [0.2222222222222222, \"#7201a8\"], [0.3333333333333333, \"#9c179e\"], [0.4444444444444444, \"#bd3786\"], [0.5555555555555556, \"#d8576b\"], [0.6666666666666666, \"#ed7953\"], [0.7777777777777778, \"#fb9f3a\"], [0.8888888888888888, \"#fdca26\"], [1.0, \"#f0f921\"]], \"type\": \"heatmap\"}], \"heatmapgl\": [{\"colorbar\": {\"outlinewidth\": 0, \"ticks\": \"\"}, \"colorscale\": [[0.0, \"#0d0887\"], [0.1111111111111111, \"#46039f\"], [0.2222222222222222, \"#7201a8\"], [0.3333333333333333, \"#9c179e\"], [0.4444444444444444, \"#bd3786\"], [0.5555555555555556, \"#d8576b\"], [0.6666666666666666, \"#ed7953\"], [0.7777777777777778, \"#fb9f3a\"], [0.8888888888888888, \"#fdca26\"], [1.0, \"#f0f921\"]], \"type\": \"heatmapgl\"}], \"histogram\": [{\"marker\": {\"colorbar\": {\"outlinewidth\": 0, \"ticks\": \"\"}}, \"type\": \"histogram\"}], \"histogram2d\": [{\"colorbar\": {\"outlinewidth\": 0, \"ticks\": \"\"}, \"colorscale\": [[0.0, \"#0d0887\"], [0.1111111111111111, \"#46039f\"], [0.2222222222222222, \"#7201a8\"], [0.3333333333333333, \"#9c179e\"], [0.4444444444444444, \"#bd3786\"], [0.5555555555555556, \"#d8576b\"], [0.6666666666666666, \"#ed7953\"], [0.7777777777777778, \"#fb9f3a\"], [0.8888888888888888, \"#fdca26\"], [1.0, \"#f0f921\"]], \"type\": \"histogram2d\"}], \"histogram2dcontour\": [{\"colorbar\": {\"outlinewidth\": 0, \"ticks\": \"\"}, \"colorscale\": [[0.0, \"#0d0887\"], [0.1111111111111111, \"#46039f\"], [0.2222222222222222, \"#7201a8\"], [0.3333333333333333, \"#9c179e\"], [0.4444444444444444, \"#bd3786\"], [0.5555555555555556, \"#d8576b\"], [0.6666666666666666, \"#ed7953\"], [0.7777777777777778, \"#fb9f3a\"], [0.8888888888888888, \"#fdca26\"], [1.0, \"#f0f921\"]], \"type\": \"histogram2dcontour\"}], \"mesh3d\": [{\"colorbar\": {\"outlinewidth\": 0, \"ticks\": \"\"}, \"type\": \"mesh3d\"}], \"parcoords\": [{\"line\": {\"colorbar\": {\"outlinewidth\": 0, \"ticks\": \"\"}}, \"type\": \"parcoords\"}], \"pie\": [{\"automargin\": true, \"type\": \"pie\"}], \"scatter\": [{\"marker\": {\"colorbar\": {\"outlinewidth\": 0, \"ticks\": \"\"}}, \"type\": \"scatter\"}], \"scatter3d\": [{\"line\": {\"colorbar\": {\"outlinewidth\": 0, \"ticks\": \"\"}}, \"marker\": {\"colorbar\": {\"outlinewidth\": 0, \"ticks\": \"\"}}, \"type\": \"scatter3d\"}], \"scattercarpet\": [{\"marker\": {\"colorbar\": {\"outlinewidth\": 0, \"ticks\": \"\"}}, \"type\": \"scattercarpet\"}], \"scattergeo\": [{\"marker\": {\"colorbar\": {\"outlinewidth\": 0, \"ticks\": \"\"}}, \"type\": \"scattergeo\"}], \"scattergl\": [{\"marker\": {\"colorbar\": {\"outlinewidth\": 0, \"ticks\": \"\"}}, \"type\": \"scattergl\"}], \"scattermapbox\": [{\"marker\": {\"colorbar\": {\"outlinewidth\": 0, \"ticks\": \"\"}}, \"type\": \"scattermapbox\"}], \"scatterpolar\": [{\"marker\": {\"colorbar\": {\"outlinewidth\": 0, \"ticks\": \"\"}}, \"type\": \"scatterpolar\"}], \"scatterpolargl\": [{\"marker\": {\"colorbar\": {\"outlinewidth\": 0, \"ticks\": \"\"}}, \"type\": \"scatterpolargl\"}], \"scatterternary\": [{\"marker\": {\"colorbar\": {\"outlinewidth\": 0, \"ticks\": \"\"}}, \"type\": \"scatterternary\"}], \"surface\": [{\"colorbar\": {\"outlinewidth\": 0, \"ticks\": \"\"}, \"colorscale\": [[0.0, \"#0d0887\"], [0.1111111111111111, \"#46039f\"], [0.2222222222222222, \"#7201a8\"], [0.3333333333333333, \"#9c179e\"], [0.4444444444444444, \"#bd3786\"], [0.5555555555555556, \"#d8576b\"], [0.6666666666666666, \"#ed7953\"], [0.7777777777777778, \"#fb9f3a\"], [0.8888888888888888, \"#fdca26\"], [1.0, \"#f0f921\"]], \"type\": \"surface\"}], \"table\": [{\"cells\": {\"fill\": {\"color\": \"#EBF0F8\"}, \"line\": {\"color\": \"white\"}}, \"header\": {\"fill\": {\"color\": \"#C8D4E3\"}, \"line\": {\"color\": \"white\"}}, \"type\": \"table\"}]}, \"layout\": {\"annotationdefaults\": {\"arrowcolor\": \"#2a3f5f\", \"arrowhead\": 0, \"arrowwidth\": 1}, \"coloraxis\": {\"colorbar\": {\"outlinewidth\": 0, \"ticks\": \"\"}}, \"colorscale\": {\"diverging\": [[0, \"#8e0152\"], [0.1, \"#c51b7d\"], [0.2, \"#de77ae\"], [0.3, \"#f1b6da\"], [0.4, \"#fde0ef\"], [0.5, \"#f7f7f7\"], [0.6, \"#e6f5d0\"], [0.7, \"#b8e186\"], [0.8, \"#7fbc41\"], [0.9, \"#4d9221\"], [1, \"#276419\"]], \"sequential\": [[0.0, \"#0d0887\"], [0.1111111111111111, \"#46039f\"], [0.2222222222222222, \"#7201a8\"], [0.3333333333333333, \"#9c179e\"], [0.4444444444444444, \"#bd3786\"], [0.5555555555555556, \"#d8576b\"], [0.6666666666666666, \"#ed7953\"], [0.7777777777777778, \"#fb9f3a\"], [0.8888888888888888, \"#fdca26\"], [1.0, \"#f0f921\"]], \"sequentialminus\": [[0.0, \"#0d0887\"], [0.1111111111111111, \"#46039f\"], [0.2222222222222222, \"#7201a8\"], [0.3333333333333333, \"#9c179e\"], [0.4444444444444444, \"#bd3786\"], [0.5555555555555556, \"#d8576b\"], [0.6666666666666666, \"#ed7953\"], [0.7777777777777778, \"#fb9f3a\"], [0.8888888888888888, \"#fdca26\"], [1.0, \"#f0f921\"]]}, \"colorway\": [\"#636efa\", \"#EF553B\", \"#00cc96\", \"#ab63fa\", \"#FFA15A\", \"#19d3f3\", \"#FF6692\", \"#B6E880\", \"#FF97FF\", \"#FECB52\"], \"font\": {\"color\": \"#2a3f5f\"}, \"geo\": {\"bgcolor\": \"white\", \"lakecolor\": \"white\", \"landcolor\": \"#E5ECF6\", \"showlakes\": true, \"showland\": true, \"subunitcolor\": \"white\"}, \"hoverlabel\": {\"align\": \"left\"}, \"hovermode\": \"closest\", \"mapbox\": {\"style\": \"light\"}, \"paper_bgcolor\": \"white\", \"plot_bgcolor\": \"#E5ECF6\", \"polar\": {\"angularaxis\": {\"gridcolor\": \"white\", \"linecolor\": \"white\", \"ticks\": \"\"}, \"bgcolor\": \"#E5ECF6\", \"radialaxis\": {\"gridcolor\": \"white\", \"linecolor\": \"white\", \"ticks\": \"\"}}, \"scene\": {\"xaxis\": {\"backgroundcolor\": \"#E5ECF6\", \"gridcolor\": \"white\", \"gridwidth\": 2, \"linecolor\": \"white\", \"showbackground\": true, \"ticks\": \"\", \"zerolinecolor\": \"white\"}, \"yaxis\": {\"backgroundcolor\": \"#E5ECF6\", \"gridcolor\": \"white\", \"gridwidth\": 2, \"linecolor\": \"white\", \"showbackground\": true, \"ticks\": \"\", \"zerolinecolor\": \"white\"}, \"zaxis\": {\"backgroundcolor\": \"#E5ECF6\", \"gridcolor\": \"white\", \"gridwidth\": 2, \"linecolor\": \"white\", \"showbackground\": true, \"ticks\": \"\", \"zerolinecolor\": \"white\"}}, \"shapedefaults\": {\"line\": {\"color\": \"#2a3f5f\"}}, \"ternary\": {\"aaxis\": {\"gridcolor\": \"white\", \"linecolor\": \"white\", \"ticks\": \"\"}, \"baxis\": {\"gridcolor\": \"white\", \"linecolor\": \"white\", \"ticks\": \"\"}, \"bgcolor\": \"#E5ECF6\", \"caxis\": {\"gridcolor\": \"white\", \"linecolor\": \"white\", \"ticks\": \"\"}}, \"title\": {\"x\": 0.05}, \"xaxis\": {\"automargin\": true, \"gridcolor\": \"white\", \"linecolor\": \"white\", \"ticks\": \"\", \"title\": {\"standoff\": 15}, \"zerolinecolor\": \"white\", \"zerolinewidth\": 2}, \"yaxis\": {\"automargin\": true, \"gridcolor\": \"white\", \"linecolor\": \"white\", \"ticks\": \"\", \"title\": {\"standoff\": 15}, \"zerolinecolor\": \"white\", \"zerolinewidth\": 2}}}, \"title\": {\"font\": {\"color\": \"#4D5663\"}}, \"xaxis\": {\"gridcolor\": \"#E1E5ED\", \"showgrid\": true, \"tickfont\": {\"color\": \"#4D5663\"}, \"title\": {\"font\": {\"color\": \"#4D5663\"}, \"text\": \"\"}, \"zerolinecolor\": \"#E1E5ED\"}, \"yaxis\": {\"gridcolor\": \"#E1E5ED\", \"showgrid\": true, \"tickfont\": {\"color\": \"#4D5663\"}, \"title\": {\"font\": {\"color\": \"#4D5663\"}, \"text\": \"\"}, \"zerolinecolor\": \"#E1E5ED\"}},\n",
       "                        {\"showLink\": true, \"linkText\": \"Export to plot.ly\", \"plotlyServerURL\": \"https://plot.ly\", \"responsive\": true}\n",
       "                    ).then(function(){\n",
       "                            \n",
       "var gd = document.getElementById('0dc6c1ad-2454-498d-94f8-41f406dad5c2');\n",
       "var x = new MutationObserver(function (mutations, observer) {{\n",
       "        var display = window.getComputedStyle(gd).display;\n",
       "        if (!display || display === 'none') {{\n",
       "            console.log([gd, 'removed!']);\n",
       "            Plotly.purge(gd);\n",
       "            observer.disconnect();\n",
       "        }}\n",
       "}});\n",
       "\n",
       "// Listen for the removal of the full notebook cells\n",
       "var notebookContainer = gd.closest('#notebook-container');\n",
       "if (notebookContainer) {{\n",
       "    x.observe(notebookContainer, {childList: true});\n",
       "}}\n",
       "\n",
       "// Listen for the clearing of the current output cell\n",
       "var outputEl = gd.closest('.output');\n",
       "if (outputEl) {{\n",
       "    x.observe(outputEl, {childList: true});\n",
       "}}\n",
       "\n",
       "                        })\n",
       "                };\n",
       "                });\n",
       "            </script>\n",
       "        </div>"
      ]
     },
     "metadata": {},
     "output_type": "display_data"
    }
   ],
   "source": [
    "df.count().iplot(kind='bar')"
   ]
  },
  {
   "cell_type": "markdown",
   "metadata": {},
   "source": [
    "## Boxplots"
   ]
  },
  {
   "cell_type": "code",
   "execution_count": 13,
   "metadata": {},
   "outputs": [
    {
     "data": {
      "application/vnd.plotly.v1+json": {
       "config": {
        "linkText": "Export to plot.ly",
        "plotlyServerURL": "https://plot.ly",
        "showLink": true
       },
       "data": [
        {
         "boxpoints": false,
         "line": {
          "width": 1.3
         },
         "marker": {
          "color": "rgba(255, 153, 51, 1.0)"
         },
         "name": "A",
         "orientation": "v",
         "type": "box",
         "y": [
          -1.139418730002032,
          0.6547989998648551,
          0.39084583433649694,
          0.9646681826571936,
          0.42119755974889467,
          -0.23873385414912676,
          -0.2218960966330283,
          0.5675391268184925,
          -0.14589675805068572,
          0.2983797328942242,
          0.2481277187050298,
          -0.959565662084963,
          0.8983589857556141,
          -0.9205451688459358,
          -0.9073710648065669,
          -0.515818083052144,
          0.3568982359524299,
          -0.05039881754988521,
          1.045422545573841,
          -1.028197584323138,
          1.8884199740984546,
          0.5149998983933638,
          -0.4612569621502,
          -2.044884484384707,
          -2.2642782146088707,
          -1.3689178453525237,
          -0.4933880894392799,
          -0.44892769824569806,
          0.7021651569997387,
          0.17312188407331758,
          0.8297254909813514,
          -1.209018772125511,
          -0.6643563939520879,
          -0.03970583699998416,
          -0.5617207661402005,
          -1.5631259578039896,
          0.515889523095962,
          -0.8125689245955071,
          0.8352380213053745,
          -0.4821209854676755,
          1.1041130497801088,
          1.0306206606074977,
          0.9855867620785455,
          2.0027569273403243,
          0.2638266457953439,
          0.04350891310129441,
          0.8762454129201205,
          -0.08759198143271017,
          0.8125231817138858,
          -0.9075513348000999,
          0.5607733054161146,
          -0.23865240636633556,
          1.1191716763190929,
          0.5388212292102299,
          0.27082148087794466,
          -0.1956758784434622,
          1.2547094140308235,
          0.302733734712402,
          -1.1695245267490626,
          0.5185335466102716,
          0.8190908979174077,
          1.5642856701289398,
          -0.1839684949396022,
          -0.10464377212627611,
          -0.3738902853185688,
          -1.0578193647424976,
          2.0398000529190385,
          -0.47861082085741863,
          -0.26066652323696304,
          0.9178630415695512,
          1.9169026133398048,
          0.7487388185319119,
          -2.30795387068723,
          -0.04512853989323989,
          0.679899641273138,
          -0.48688078490635245,
          -1.1505941647974545,
          0.3185331783207228,
          0.8562093507089286,
          -0.651604128474846,
          0.45198833264601274,
          1.3482242401288627,
          0.8353632247445613,
          -1.6635070300669133,
          1.166008542614696,
          -1.062260511565378,
          0.5730805504655455,
          -0.08993760847573472,
          -0.43617816768055856,
          -1.5656173028182858,
          1.165886988023119,
          0.6929846977776724,
          0.8990660463253227,
          0.8770676699379643,
          0.35505829390139904,
          -2.3865360599607173,
          -0.6196681063548992,
          0.09208226131825127,
          -1.0205102925440586,
          -0.06404273101740816
         ]
        },
        {
         "boxpoints": false,
         "line": {
          "width": 1.3
         },
         "marker": {
          "color": "rgba(55, 128, 191, 1.0)"
         },
         "name": "B",
         "orientation": "v",
         "type": "box",
         "y": [
          0.07185369046079401,
          0.29267616132149354,
          1.3359631098647982,
          0.545107252353979,
          0.023573072156253636,
          1.7806383033831787,
          -0.41920654167464244,
          0.004753334568482668,
          -2.7545563538357722,
          0.07041581324653917,
          -1.364304744464887,
          0.718262483781206,
          0.37671176544749074,
          -1.0847088557375442,
          1.6187844586389555,
          -0.41038939569643645,
          0.9022879204128095,
          0.07470444368018322,
          -0.7584331811688072,
          0.3479398247480616,
          0.8397792016531902,
          0.2845358694450361,
          0.19511201142922244,
          -0.010539222850371364,
          -0.14990513147805898,
          -0.37005534246633354,
          0.16154465308645954,
          -0.9630652851775763,
          0.579517364159973,
          -1.4035777230307875,
          -0.14667617489278087,
          0.429449098925077,
          1.440046259087059,
          2.779703254185213,
          -1.514950174241543,
          -0.38314255705606365,
          -0.28049090845899743,
          -1.6463839162523453,
          0.9295239384079738,
          0.7384350925009466,
          0.10959327433895386,
          -0.39257212731936186,
          0.23713498567784455,
          -1.7154102455070654,
          0.20760628052385752,
          -1.2702993648325682,
          0.07927160209414827,
          -0.4941781039881184,
          -0.5452131194133613,
          0.8346752200099381,
          0.21672730634365797,
          2.0009415803598136,
          -0.4925540797247069,
          0.290306402115402,
          -2.7768372967908723,
          -0.01243405416751847,
          -0.6796710071224988,
          -0.5173016212189284,
          0.011980851961724251,
          -0.4746822465762274,
          -0.5944376172789942,
          0.1581220435820472,
          1.26495408912878,
          -1.0696550732525592,
          0.013027485374751303,
          -0.4319955499309191,
          1.3510716342226594,
          0.47790259237997684,
          1.270129257323493,
          -0.7962319883857973,
          0.4221151806341645,
          1.2241360896242566,
          1.2238455887227986,
          0.5360442855369453,
          0.026539491263576968,
          0.16069619963252837,
          -0.11268005216683398,
          0.9944938623906966,
          0.4271947826458063,
          1.149959525055607,
          1.1635316140334477,
          -0.5986582879739627,
          -0.7622941206283473,
          0.23379827654993318,
          1.303149004453367,
          1.287826099022475,
          1.2714709343016026,
          -0.35790525271922513,
          -0.6941904164226653,
          -0.21990783839232766,
          0.4049388044447175,
          -0.7029717255640098,
          2.1418061547745078,
          -0.04272070937948088,
          0.00047843236067118583,
          0.40654832502335314,
          -0.9318105156963058,
          1.6492233784140895,
          -0.11745673997334564,
          0.1436187868780339
         ]
        },
        {
         "boxpoints": false,
         "line": {
          "width": 1.3
         },
         "marker": {
          "color": "rgba(50, 171, 96, 1.0)"
         },
         "name": "C",
         "orientation": "v",
         "type": "box",
         "y": [
          -0.37187648446881755,
          -0.6763426334321764,
          0.44254904544186424,
          0.043128429335627556,
          1.3218966083042718,
          -0.8689893255236225,
          -0.839423336646792,
          0.09534116283732383,
          0.7908300919783517,
          -0.003224382633578965,
          -1.611742154159054,
          0.30217033167470897,
          -0.457592516675857,
          1.0018171916238594,
          0.3080356581826416,
          -0.8842088012709165,
          0.6539070103086261,
          -0.7852458290296245,
          2.2834248251617093,
          0.6583106796492599,
          0.2818627313011538,
          -1.3995983056802286,
          0.738115191088348,
          -2.244443308711659,
          0.3268343994554045,
          0.6170152431305861,
          -1.144488918162176,
          -0.7276175094798126,
          0.9094425700212857,
          -0.634981675068958,
          0.6353637152292143,
          0.3714755522848729,
          1.1016368815752597,
          -1.0736541582562131,
          -0.5499263958601537,
          0.12825680039161888,
          -0.19422090452153448,
          0.6711847173472533,
          -0.5079720083360137,
          0.8794376618777473,
          0.7660839068399569,
          0.4469657505645519,
          0.1782288875422464,
          1.2572553261277692,
          0.012797089187213312,
          -1.315455101006535,
          0.9444140121501476,
          -1.699309603661943,
          1.5507327884698012,
          -2.263157926441218,
          -0.7640410787725485,
          0.16524522140828057,
          -0.1391152332793379,
          -0.30755171808980164,
          -1.9665223204572826,
          0.022182409925213985,
          0.042103650514074824,
          0.566141047628371,
          0.37353919623312437,
          -0.6033802410403714,
          -1.6834930966532138,
          -0.7609948802891601,
          -0.600547350368087,
          1.121037092850829,
          1.8694226769685849,
          -0.38346078410638423,
          -1.1283922985448451,
          1.4861840623283453,
          0.7425161967706508,
          0.2348162278991996,
          -0.736006720875728,
          1.299124119015103,
          -2.2967600855017936,
          -0.6611027621510719,
          0.09011037592488812,
          -0.8505606704256958,
          1.289789067009791,
          0.4470853129246212,
          0.31281684194385173,
          -1.9840149554041737,
          -1.5167922471062651,
          1.1444450814825367,
          0.9313695985489706,
          0.24504351281138553,
          0.5477182800240153,
          -0.5415496320942039,
          0.09391876463548578,
          0.35077022804760993,
          -0.44725758015311173,
          -0.40790677494983807,
          -1.91641511072492,
          0.7807166832884038,
          -1.5177837093068176,
          -0.07973952036839911,
          1.2356160848351003,
          -0.49352563378429737,
          -1.4454348009865599,
          -2.075119576417736,
          -1.8223545817177422,
          -0.011589663425400137
         ]
        },
        {
         "boxpoints": false,
         "line": {
          "width": 1.3
         },
         "marker": {
          "color": "rgba(128, 0, 128, 1.0)"
         },
         "name": "D",
         "orientation": "v",
         "type": "box",
         "y": [
          1.3047348576523032,
          0.3522854133635167,
          -0.11018101728661994,
          0.2663134248285946,
          -0.8820139616124586,
          -0.29582873262302045,
          0.610877477526127,
          -0.4021014760746017,
          0.7586739024738353,
          0.9924838356932888,
          0.0127559692876085,
          -1.6145738347932665,
          0.3526465359649648,
          -0.038412393262158145,
          1.6963814661509784,
          1.2063338613139851,
          1.5147780686008994,
          -0.015762633756935002,
          -0.09763432032843802,
          -1.0197923385180283,
          1.322555564316582,
          -1.5523748434890081,
          0.3847252513200086,
          -2.404479643278339,
          0.37583335029270026,
          -0.6805267240227657,
          1.140879087039691,
          -0.13286165094480124,
          0.5387632215140534,
          0.5774624821858806,
          -1.0866619941105529,
          -1.8913254109498334,
          -0.7142559243192667,
          -0.9781057274193367,
          0.2696396184969162,
          0.7470069064548276,
          -0.754363086434098,
          0.3183019202719849,
          -0.6902852771497229,
          -0.14019007812654616,
          0.24722884031532097,
          3.0602247282836035,
          -0.6169750899905723,
          -1.8203409884613124,
          -2.0218942661271386,
          0.5714514329583718,
          0.7746220544773167,
          1.0019448096437793,
          0.5930547903983026,
          0.58312660915772,
          1.80253463074248,
          -0.781343018728653,
          -0.5817764091318236,
          -0.32602081954393186,
          -2.3558055082279465,
          -1.278381209586953,
          -1.077896458424639,
          -0.40461249132144234,
          0.6197478560566623,
          -0.3541624271997475,
          0.09694251336396409,
          1.0607667054090593,
          0.4607660949371727,
          2.6608540891158885,
          0.5753055944897928,
          0.8670746614054494,
          0.09549931013497635,
          -0.3900968840396244,
          1.7303804491463284,
          0.5468344316265031,
          0.5442749395448334,
          -1.3469741930030925,
          -2.4392324000309293,
          0.44017350923609655,
          -1.1806725737388115,
          -0.683975295653359,
          -2.2033654746908327,
          -0.9084827475825425,
          -0.7085658234674517,
          -0.9853084295615194,
          1.0487734941633586,
          -0.3696460253466033,
          0.5890494116782784,
          1.6273023472449155,
          -0.26598068561695515,
          -0.1054810064965316,
          -1.0845950476614117,
          0.846017301947262,
          -0.2262893476297783,
          -0.6375006468385689,
          1.6079648863684999,
          0.17846153204623383,
          -3.576868174692061,
          0.02491286046082355,
          -0.19616430137984783,
          -1.5588803889449627,
          0.14645756294213907,
          -1.0132828206338977,
          0.5519082042584673,
          -1.2697352073814285
         ]
        }
       ],
       "layout": {
        "legend": {
         "bgcolor": "#F5F6F9",
         "font": {
          "color": "#4D5663"
         }
        },
        "paper_bgcolor": "#F5F6F9",
        "plot_bgcolor": "#F5F6F9",
        "template": {
         "data": {
          "bar": [
           {
            "error_x": {
             "color": "#2a3f5f"
            },
            "error_y": {
             "color": "#2a3f5f"
            },
            "marker": {
             "line": {
              "color": "#E5ECF6",
              "width": 0.5
             }
            },
            "type": "bar"
           }
          ],
          "barpolar": [
           {
            "marker": {
             "line": {
              "color": "#E5ECF6",
              "width": 0.5
             }
            },
            "type": "barpolar"
           }
          ],
          "carpet": [
           {
            "aaxis": {
             "endlinecolor": "#2a3f5f",
             "gridcolor": "white",
             "linecolor": "white",
             "minorgridcolor": "white",
             "startlinecolor": "#2a3f5f"
            },
            "baxis": {
             "endlinecolor": "#2a3f5f",
             "gridcolor": "white",
             "linecolor": "white",
             "minorgridcolor": "white",
             "startlinecolor": "#2a3f5f"
            },
            "type": "carpet"
           }
          ],
          "choropleth": [
           {
            "colorbar": {
             "outlinewidth": 0,
             "ticks": ""
            },
            "type": "choropleth"
           }
          ],
          "contour": [
           {
            "colorbar": {
             "outlinewidth": 0,
             "ticks": ""
            },
            "colorscale": [
             [
              0,
              "#0d0887"
             ],
             [
              0.1111111111111111,
              "#46039f"
             ],
             [
              0.2222222222222222,
              "#7201a8"
             ],
             [
              0.3333333333333333,
              "#9c179e"
             ],
             [
              0.4444444444444444,
              "#bd3786"
             ],
             [
              0.5555555555555556,
              "#d8576b"
             ],
             [
              0.6666666666666666,
              "#ed7953"
             ],
             [
              0.7777777777777778,
              "#fb9f3a"
             ],
             [
              0.8888888888888888,
              "#fdca26"
             ],
             [
              1,
              "#f0f921"
             ]
            ],
            "type": "contour"
           }
          ],
          "contourcarpet": [
           {
            "colorbar": {
             "outlinewidth": 0,
             "ticks": ""
            },
            "type": "contourcarpet"
           }
          ],
          "heatmap": [
           {
            "colorbar": {
             "outlinewidth": 0,
             "ticks": ""
            },
            "colorscale": [
             [
              0,
              "#0d0887"
             ],
             [
              0.1111111111111111,
              "#46039f"
             ],
             [
              0.2222222222222222,
              "#7201a8"
             ],
             [
              0.3333333333333333,
              "#9c179e"
             ],
             [
              0.4444444444444444,
              "#bd3786"
             ],
             [
              0.5555555555555556,
              "#d8576b"
             ],
             [
              0.6666666666666666,
              "#ed7953"
             ],
             [
              0.7777777777777778,
              "#fb9f3a"
             ],
             [
              0.8888888888888888,
              "#fdca26"
             ],
             [
              1,
              "#f0f921"
             ]
            ],
            "type": "heatmap"
           }
          ],
          "heatmapgl": [
           {
            "colorbar": {
             "outlinewidth": 0,
             "ticks": ""
            },
            "colorscale": [
             [
              0,
              "#0d0887"
             ],
             [
              0.1111111111111111,
              "#46039f"
             ],
             [
              0.2222222222222222,
              "#7201a8"
             ],
             [
              0.3333333333333333,
              "#9c179e"
             ],
             [
              0.4444444444444444,
              "#bd3786"
             ],
             [
              0.5555555555555556,
              "#d8576b"
             ],
             [
              0.6666666666666666,
              "#ed7953"
             ],
             [
              0.7777777777777778,
              "#fb9f3a"
             ],
             [
              0.8888888888888888,
              "#fdca26"
             ],
             [
              1,
              "#f0f921"
             ]
            ],
            "type": "heatmapgl"
           }
          ],
          "histogram": [
           {
            "marker": {
             "colorbar": {
              "outlinewidth": 0,
              "ticks": ""
             }
            },
            "type": "histogram"
           }
          ],
          "histogram2d": [
           {
            "colorbar": {
             "outlinewidth": 0,
             "ticks": ""
            },
            "colorscale": [
             [
              0,
              "#0d0887"
             ],
             [
              0.1111111111111111,
              "#46039f"
             ],
             [
              0.2222222222222222,
              "#7201a8"
             ],
             [
              0.3333333333333333,
              "#9c179e"
             ],
             [
              0.4444444444444444,
              "#bd3786"
             ],
             [
              0.5555555555555556,
              "#d8576b"
             ],
             [
              0.6666666666666666,
              "#ed7953"
             ],
             [
              0.7777777777777778,
              "#fb9f3a"
             ],
             [
              0.8888888888888888,
              "#fdca26"
             ],
             [
              1,
              "#f0f921"
             ]
            ],
            "type": "histogram2d"
           }
          ],
          "histogram2dcontour": [
           {
            "colorbar": {
             "outlinewidth": 0,
             "ticks": ""
            },
            "colorscale": [
             [
              0,
              "#0d0887"
             ],
             [
              0.1111111111111111,
              "#46039f"
             ],
             [
              0.2222222222222222,
              "#7201a8"
             ],
             [
              0.3333333333333333,
              "#9c179e"
             ],
             [
              0.4444444444444444,
              "#bd3786"
             ],
             [
              0.5555555555555556,
              "#d8576b"
             ],
             [
              0.6666666666666666,
              "#ed7953"
             ],
             [
              0.7777777777777778,
              "#fb9f3a"
             ],
             [
              0.8888888888888888,
              "#fdca26"
             ],
             [
              1,
              "#f0f921"
             ]
            ],
            "type": "histogram2dcontour"
           }
          ],
          "mesh3d": [
           {
            "colorbar": {
             "outlinewidth": 0,
             "ticks": ""
            },
            "type": "mesh3d"
           }
          ],
          "parcoords": [
           {
            "line": {
             "colorbar": {
              "outlinewidth": 0,
              "ticks": ""
             }
            },
            "type": "parcoords"
           }
          ],
          "pie": [
           {
            "automargin": true,
            "type": "pie"
           }
          ],
          "scatter": [
           {
            "marker": {
             "colorbar": {
              "outlinewidth": 0,
              "ticks": ""
             }
            },
            "type": "scatter"
           }
          ],
          "scatter3d": [
           {
            "line": {
             "colorbar": {
              "outlinewidth": 0,
              "ticks": ""
             }
            },
            "marker": {
             "colorbar": {
              "outlinewidth": 0,
              "ticks": ""
             }
            },
            "type": "scatter3d"
           }
          ],
          "scattercarpet": [
           {
            "marker": {
             "colorbar": {
              "outlinewidth": 0,
              "ticks": ""
             }
            },
            "type": "scattercarpet"
           }
          ],
          "scattergeo": [
           {
            "marker": {
             "colorbar": {
              "outlinewidth": 0,
              "ticks": ""
             }
            },
            "type": "scattergeo"
           }
          ],
          "scattergl": [
           {
            "marker": {
             "colorbar": {
              "outlinewidth": 0,
              "ticks": ""
             }
            },
            "type": "scattergl"
           }
          ],
          "scattermapbox": [
           {
            "marker": {
             "colorbar": {
              "outlinewidth": 0,
              "ticks": ""
             }
            },
            "type": "scattermapbox"
           }
          ],
          "scatterpolar": [
           {
            "marker": {
             "colorbar": {
              "outlinewidth": 0,
              "ticks": ""
             }
            },
            "type": "scatterpolar"
           }
          ],
          "scatterpolargl": [
           {
            "marker": {
             "colorbar": {
              "outlinewidth": 0,
              "ticks": ""
             }
            },
            "type": "scatterpolargl"
           }
          ],
          "scatterternary": [
           {
            "marker": {
             "colorbar": {
              "outlinewidth": 0,
              "ticks": ""
             }
            },
            "type": "scatterternary"
           }
          ],
          "surface": [
           {
            "colorbar": {
             "outlinewidth": 0,
             "ticks": ""
            },
            "colorscale": [
             [
              0,
              "#0d0887"
             ],
             [
              0.1111111111111111,
              "#46039f"
             ],
             [
              0.2222222222222222,
              "#7201a8"
             ],
             [
              0.3333333333333333,
              "#9c179e"
             ],
             [
              0.4444444444444444,
              "#bd3786"
             ],
             [
              0.5555555555555556,
              "#d8576b"
             ],
             [
              0.6666666666666666,
              "#ed7953"
             ],
             [
              0.7777777777777778,
              "#fb9f3a"
             ],
             [
              0.8888888888888888,
              "#fdca26"
             ],
             [
              1,
              "#f0f921"
             ]
            ],
            "type": "surface"
           }
          ],
          "table": [
           {
            "cells": {
             "fill": {
              "color": "#EBF0F8"
             },
             "line": {
              "color": "white"
             }
            },
            "header": {
             "fill": {
              "color": "#C8D4E3"
             },
             "line": {
              "color": "white"
             }
            },
            "type": "table"
           }
          ]
         },
         "layout": {
          "annotationdefaults": {
           "arrowcolor": "#2a3f5f",
           "arrowhead": 0,
           "arrowwidth": 1
          },
          "coloraxis": {
           "colorbar": {
            "outlinewidth": 0,
            "ticks": ""
           }
          },
          "colorscale": {
           "diverging": [
            [
             0,
             "#8e0152"
            ],
            [
             0.1,
             "#c51b7d"
            ],
            [
             0.2,
             "#de77ae"
            ],
            [
             0.3,
             "#f1b6da"
            ],
            [
             0.4,
             "#fde0ef"
            ],
            [
             0.5,
             "#f7f7f7"
            ],
            [
             0.6,
             "#e6f5d0"
            ],
            [
             0.7,
             "#b8e186"
            ],
            [
             0.8,
             "#7fbc41"
            ],
            [
             0.9,
             "#4d9221"
            ],
            [
             1,
             "#276419"
            ]
           ],
           "sequential": [
            [
             0,
             "#0d0887"
            ],
            [
             0.1111111111111111,
             "#46039f"
            ],
            [
             0.2222222222222222,
             "#7201a8"
            ],
            [
             0.3333333333333333,
             "#9c179e"
            ],
            [
             0.4444444444444444,
             "#bd3786"
            ],
            [
             0.5555555555555556,
             "#d8576b"
            ],
            [
             0.6666666666666666,
             "#ed7953"
            ],
            [
             0.7777777777777778,
             "#fb9f3a"
            ],
            [
             0.8888888888888888,
             "#fdca26"
            ],
            [
             1,
             "#f0f921"
            ]
           ],
           "sequentialminus": [
            [
             0,
             "#0d0887"
            ],
            [
             0.1111111111111111,
             "#46039f"
            ],
            [
             0.2222222222222222,
             "#7201a8"
            ],
            [
             0.3333333333333333,
             "#9c179e"
            ],
            [
             0.4444444444444444,
             "#bd3786"
            ],
            [
             0.5555555555555556,
             "#d8576b"
            ],
            [
             0.6666666666666666,
             "#ed7953"
            ],
            [
             0.7777777777777778,
             "#fb9f3a"
            ],
            [
             0.8888888888888888,
             "#fdca26"
            ],
            [
             1,
             "#f0f921"
            ]
           ]
          },
          "colorway": [
           "#636efa",
           "#EF553B",
           "#00cc96",
           "#ab63fa",
           "#FFA15A",
           "#19d3f3",
           "#FF6692",
           "#B6E880",
           "#FF97FF",
           "#FECB52"
          ],
          "font": {
           "color": "#2a3f5f"
          },
          "geo": {
           "bgcolor": "white",
           "lakecolor": "white",
           "landcolor": "#E5ECF6",
           "showlakes": true,
           "showland": true,
           "subunitcolor": "white"
          },
          "hoverlabel": {
           "align": "left"
          },
          "hovermode": "closest",
          "mapbox": {
           "style": "light"
          },
          "paper_bgcolor": "white",
          "plot_bgcolor": "#E5ECF6",
          "polar": {
           "angularaxis": {
            "gridcolor": "white",
            "linecolor": "white",
            "ticks": ""
           },
           "bgcolor": "#E5ECF6",
           "radialaxis": {
            "gridcolor": "white",
            "linecolor": "white",
            "ticks": ""
           }
          },
          "scene": {
           "xaxis": {
            "backgroundcolor": "#E5ECF6",
            "gridcolor": "white",
            "gridwidth": 2,
            "linecolor": "white",
            "showbackground": true,
            "ticks": "",
            "zerolinecolor": "white"
           },
           "yaxis": {
            "backgroundcolor": "#E5ECF6",
            "gridcolor": "white",
            "gridwidth": 2,
            "linecolor": "white",
            "showbackground": true,
            "ticks": "",
            "zerolinecolor": "white"
           },
           "zaxis": {
            "backgroundcolor": "#E5ECF6",
            "gridcolor": "white",
            "gridwidth": 2,
            "linecolor": "white",
            "showbackground": true,
            "ticks": "",
            "zerolinecolor": "white"
           }
          },
          "shapedefaults": {
           "line": {
            "color": "#2a3f5f"
           }
          },
          "ternary": {
           "aaxis": {
            "gridcolor": "white",
            "linecolor": "white",
            "ticks": ""
           },
           "baxis": {
            "gridcolor": "white",
            "linecolor": "white",
            "ticks": ""
           },
           "bgcolor": "#E5ECF6",
           "caxis": {
            "gridcolor": "white",
            "linecolor": "white",
            "ticks": ""
           }
          },
          "title": {
           "x": 0.05
          },
          "xaxis": {
           "automargin": true,
           "gridcolor": "white",
           "linecolor": "white",
           "ticks": "",
           "title": {
            "standoff": 15
           },
           "zerolinecolor": "white",
           "zerolinewidth": 2
          },
          "yaxis": {
           "automargin": true,
           "gridcolor": "white",
           "linecolor": "white",
           "ticks": "",
           "title": {
            "standoff": 15
           },
           "zerolinecolor": "white",
           "zerolinewidth": 2
          }
         }
        },
        "title": {
         "font": {
          "color": "#4D5663"
         }
        },
        "xaxis": {
         "gridcolor": "#E1E5ED",
         "showgrid": true,
         "tickfont": {
          "color": "#4D5663"
         },
         "title": {
          "font": {
           "color": "#4D5663"
          },
          "text": ""
         },
         "zerolinecolor": "#E1E5ED"
        },
        "yaxis": {
         "gridcolor": "#E1E5ED",
         "showgrid": true,
         "tickfont": {
          "color": "#4D5663"
         },
         "title": {
          "font": {
           "color": "#4D5663"
          },
          "text": ""
         },
         "zerolinecolor": "#E1E5ED"
        }
       }
      },
      "text/html": [
       "<div>\n",
       "        \n",
       "        \n",
       "            <div id=\"adbd39fe-115d-4f67-b1cb-febd93c25289\" class=\"plotly-graph-div\" style=\"height:525px; width:100%;\"></div>\n",
       "            <script type=\"text/javascript\">\n",
       "                require([\"plotly\"], function(Plotly) {\n",
       "                    window.PLOTLYENV=window.PLOTLYENV || {};\n",
       "                    window.PLOTLYENV.BASE_URL='https://plot.ly';\n",
       "                    \n",
       "                if (document.getElementById(\"adbd39fe-115d-4f67-b1cb-febd93c25289\")) {\n",
       "                    Plotly.newPlot(\n",
       "                        'adbd39fe-115d-4f67-b1cb-febd93c25289',\n",
       "                        [{\"boxpoints\": false, \"line\": {\"width\": 1.3}, \"marker\": {\"color\": \"rgba(255, 153, 51, 1.0)\"}, \"name\": \"A\", \"orientation\": \"v\", \"type\": \"box\", \"y\": [-1.139418730002032, 0.6547989998648551, 0.39084583433649694, 0.9646681826571936, 0.42119755974889467, -0.23873385414912676, -0.2218960966330283, 0.5675391268184925, -0.14589675805068572, 0.2983797328942242, 0.2481277187050298, -0.959565662084963, 0.8983589857556141, -0.9205451688459358, -0.9073710648065669, -0.515818083052144, 0.3568982359524299, -0.05039881754988521, 1.045422545573841, -1.028197584323138, 1.8884199740984546, 0.5149998983933638, -0.4612569621502, -2.044884484384707, -2.2642782146088707, -1.3689178453525237, -0.4933880894392799, -0.44892769824569806, 0.7021651569997387, 0.17312188407331758, 0.8297254909813514, -1.209018772125511, -0.6643563939520879, -0.03970583699998416, -0.5617207661402005, -1.5631259578039896, 0.515889523095962, -0.8125689245955071, 0.8352380213053745, -0.4821209854676755, 1.1041130497801088, 1.0306206606074977, 0.9855867620785455, 2.0027569273403243, 0.2638266457953439, 0.04350891310129441, 0.8762454129201205, -0.08759198143271017, 0.8125231817138858, -0.9075513348000999, 0.5607733054161146, -0.23865240636633556, 1.1191716763190929, 0.5388212292102299, 0.27082148087794466, -0.1956758784434622, 1.2547094140308235, 0.302733734712402, -1.1695245267490626, 0.5185335466102716, 0.8190908979174077, 1.5642856701289398, -0.1839684949396022, -0.10464377212627611, -0.3738902853185688, -1.0578193647424976, 2.0398000529190385, -0.47861082085741863, -0.26066652323696304, 0.9178630415695512, 1.9169026133398048, 0.7487388185319119, -2.30795387068723, -0.04512853989323989, 0.679899641273138, -0.48688078490635245, -1.1505941647974545, 0.3185331783207228, 0.8562093507089286, -0.651604128474846, 0.45198833264601274, 1.3482242401288627, 0.8353632247445613, -1.6635070300669133, 1.166008542614696, -1.062260511565378, 0.5730805504655455, -0.08993760847573472, -0.43617816768055856, -1.5656173028182858, 1.165886988023119, 0.6929846977776724, 0.8990660463253227, 0.8770676699379643, 0.35505829390139904, -2.3865360599607173, -0.6196681063548992, 0.09208226131825127, -1.0205102925440586, -0.06404273101740816]}, {\"boxpoints\": false, \"line\": {\"width\": 1.3}, \"marker\": {\"color\": \"rgba(55, 128, 191, 1.0)\"}, \"name\": \"B\", \"orientation\": \"v\", \"type\": \"box\", \"y\": [0.07185369046079401, 0.29267616132149354, 1.3359631098647982, 0.545107252353979, 0.023573072156253636, 1.7806383033831787, -0.41920654167464244, 0.004753334568482668, -2.7545563538357722, 0.07041581324653917, -1.364304744464887, 0.718262483781206, 0.37671176544749074, -1.0847088557375442, 1.6187844586389555, -0.41038939569643645, 0.9022879204128095, 0.07470444368018322, -0.7584331811688072, 0.3479398247480616, 0.8397792016531902, 0.2845358694450361, 0.19511201142922244, -0.010539222850371364, -0.14990513147805898, -0.37005534246633354, 0.16154465308645954, -0.9630652851775763, 0.579517364159973, -1.4035777230307875, -0.14667617489278087, 0.429449098925077, 1.440046259087059, 2.779703254185213, -1.514950174241543, -0.38314255705606365, -0.28049090845899743, -1.6463839162523453, 0.9295239384079738, 0.7384350925009466, 0.10959327433895386, -0.39257212731936186, 0.23713498567784455, -1.7154102455070654, 0.20760628052385752, -1.2702993648325682, 0.07927160209414827, -0.4941781039881184, -0.5452131194133613, 0.8346752200099381, 0.21672730634365797, 2.0009415803598136, -0.4925540797247069, 0.290306402115402, -2.7768372967908723, -0.01243405416751847, -0.6796710071224988, -0.5173016212189284, 0.011980851961724251, -0.4746822465762274, -0.5944376172789942, 0.1581220435820472, 1.26495408912878, -1.0696550732525592, 0.013027485374751303, -0.4319955499309191, 1.3510716342226594, 0.47790259237997684, 1.270129257323493, -0.7962319883857973, 0.4221151806341645, 1.2241360896242566, 1.2238455887227986, 0.5360442855369453, 0.026539491263576968, 0.16069619963252837, -0.11268005216683398, 0.9944938623906966, 0.4271947826458063, 1.149959525055607, 1.1635316140334477, -0.5986582879739627, -0.7622941206283473, 0.23379827654993318, 1.303149004453367, 1.287826099022475, 1.2714709343016026, -0.35790525271922513, -0.6941904164226653, -0.21990783839232766, 0.4049388044447175, -0.7029717255640098, 2.1418061547745078, -0.04272070937948088, 0.00047843236067118583, 0.40654832502335314, -0.9318105156963058, 1.6492233784140895, -0.11745673997334564, 0.1436187868780339]}, {\"boxpoints\": false, \"line\": {\"width\": 1.3}, \"marker\": {\"color\": \"rgba(50, 171, 96, 1.0)\"}, \"name\": \"C\", \"orientation\": \"v\", \"type\": \"box\", \"y\": [-0.37187648446881755, -0.6763426334321764, 0.44254904544186424, 0.043128429335627556, 1.3218966083042718, -0.8689893255236225, -0.839423336646792, 0.09534116283732383, 0.7908300919783517, -0.003224382633578965, -1.611742154159054, 0.30217033167470897, -0.457592516675857, 1.0018171916238594, 0.3080356581826416, -0.8842088012709165, 0.6539070103086261, -0.7852458290296245, 2.2834248251617093, 0.6583106796492599, 0.2818627313011538, -1.3995983056802286, 0.738115191088348, -2.244443308711659, 0.3268343994554045, 0.6170152431305861, -1.144488918162176, -0.7276175094798126, 0.9094425700212857, -0.634981675068958, 0.6353637152292143, 0.3714755522848729, 1.1016368815752597, -1.0736541582562131, -0.5499263958601537, 0.12825680039161888, -0.19422090452153448, 0.6711847173472533, -0.5079720083360137, 0.8794376618777473, 0.7660839068399569, 0.4469657505645519, 0.1782288875422464, 1.2572553261277692, 0.012797089187213312, -1.315455101006535, 0.9444140121501476, -1.699309603661943, 1.5507327884698012, -2.263157926441218, -0.7640410787725485, 0.16524522140828057, -0.1391152332793379, -0.30755171808980164, -1.9665223204572826, 0.022182409925213985, 0.042103650514074824, 0.566141047628371, 0.37353919623312437, -0.6033802410403714, -1.6834930966532138, -0.7609948802891601, -0.600547350368087, 1.121037092850829, 1.8694226769685849, -0.38346078410638423, -1.1283922985448451, 1.4861840623283453, 0.7425161967706508, 0.2348162278991996, -0.736006720875728, 1.299124119015103, -2.2967600855017936, -0.6611027621510719, 0.09011037592488812, -0.8505606704256958, 1.289789067009791, 0.4470853129246212, 0.31281684194385173, -1.9840149554041737, -1.5167922471062651, 1.1444450814825367, 0.9313695985489706, 0.24504351281138553, 0.5477182800240153, -0.5415496320942039, 0.09391876463548578, 0.35077022804760993, -0.44725758015311173, -0.40790677494983807, -1.91641511072492, 0.7807166832884038, -1.5177837093068176, -0.07973952036839911, 1.2356160848351003, -0.49352563378429737, -1.4454348009865599, -2.075119576417736, -1.8223545817177422, -0.011589663425400137]}, {\"boxpoints\": false, \"line\": {\"width\": 1.3}, \"marker\": {\"color\": \"rgba(128, 0, 128, 1.0)\"}, \"name\": \"D\", \"orientation\": \"v\", \"type\": \"box\", \"y\": [1.3047348576523032, 0.3522854133635167, -0.11018101728661994, 0.2663134248285946, -0.8820139616124586, -0.29582873262302045, 0.610877477526127, -0.4021014760746017, 0.7586739024738353, 0.9924838356932888, 0.0127559692876085, -1.6145738347932665, 0.3526465359649648, -0.038412393262158145, 1.6963814661509784, 1.2063338613139851, 1.5147780686008994, -0.015762633756935002, -0.09763432032843802, -1.0197923385180283, 1.322555564316582, -1.5523748434890081, 0.3847252513200086, -2.404479643278339, 0.37583335029270026, -0.6805267240227657, 1.140879087039691, -0.13286165094480124, 0.5387632215140534, 0.5774624821858806, -1.0866619941105529, -1.8913254109498334, -0.7142559243192667, -0.9781057274193367, 0.2696396184969162, 0.7470069064548276, -0.754363086434098, 0.3183019202719849, -0.6902852771497229, -0.14019007812654616, 0.24722884031532097, 3.0602247282836035, -0.6169750899905723, -1.8203409884613124, -2.0218942661271386, 0.5714514329583718, 0.7746220544773167, 1.0019448096437793, 0.5930547903983026, 0.58312660915772, 1.80253463074248, -0.781343018728653, -0.5817764091318236, -0.32602081954393186, -2.3558055082279465, -1.278381209586953, -1.077896458424639, -0.40461249132144234, 0.6197478560566623, -0.3541624271997475, 0.09694251336396409, 1.0607667054090593, 0.4607660949371727, 2.6608540891158885, 0.5753055944897928, 0.8670746614054494, 0.09549931013497635, -0.3900968840396244, 1.7303804491463284, 0.5468344316265031, 0.5442749395448334, -1.3469741930030925, -2.4392324000309293, 0.44017350923609655, -1.1806725737388115, -0.683975295653359, -2.2033654746908327, -0.9084827475825425, -0.7085658234674517, -0.9853084295615194, 1.0487734941633586, -0.3696460253466033, 0.5890494116782784, 1.6273023472449155, -0.26598068561695515, -0.1054810064965316, -1.0845950476614117, 0.846017301947262, -0.2262893476297783, -0.6375006468385689, 1.6079648863684999, 0.17846153204623383, -3.576868174692061, 0.02491286046082355, -0.19616430137984783, -1.5588803889449627, 0.14645756294213907, -1.0132828206338977, 0.5519082042584673, -1.2697352073814285]}],\n",
       "                        {\"legend\": {\"bgcolor\": \"#F5F6F9\", \"font\": {\"color\": \"#4D5663\"}}, \"paper_bgcolor\": \"#F5F6F9\", \"plot_bgcolor\": \"#F5F6F9\", \"template\": {\"data\": {\"bar\": [{\"error_x\": {\"color\": \"#2a3f5f\"}, \"error_y\": {\"color\": \"#2a3f5f\"}, \"marker\": {\"line\": {\"color\": \"#E5ECF6\", \"width\": 0.5}}, \"type\": \"bar\"}], \"barpolar\": [{\"marker\": {\"line\": {\"color\": \"#E5ECF6\", \"width\": 0.5}}, \"type\": \"barpolar\"}], \"carpet\": [{\"aaxis\": {\"endlinecolor\": \"#2a3f5f\", \"gridcolor\": \"white\", \"linecolor\": \"white\", \"minorgridcolor\": \"white\", \"startlinecolor\": \"#2a3f5f\"}, \"baxis\": {\"endlinecolor\": \"#2a3f5f\", \"gridcolor\": \"white\", \"linecolor\": \"white\", \"minorgridcolor\": \"white\", \"startlinecolor\": \"#2a3f5f\"}, \"type\": \"carpet\"}], \"choropleth\": [{\"colorbar\": {\"outlinewidth\": 0, \"ticks\": \"\"}, \"type\": \"choropleth\"}], \"contour\": [{\"colorbar\": {\"outlinewidth\": 0, \"ticks\": \"\"}, \"colorscale\": [[0.0, \"#0d0887\"], [0.1111111111111111, \"#46039f\"], [0.2222222222222222, \"#7201a8\"], [0.3333333333333333, \"#9c179e\"], [0.4444444444444444, \"#bd3786\"], [0.5555555555555556, \"#d8576b\"], [0.6666666666666666, \"#ed7953\"], [0.7777777777777778, \"#fb9f3a\"], [0.8888888888888888, \"#fdca26\"], [1.0, \"#f0f921\"]], \"type\": \"contour\"}], \"contourcarpet\": [{\"colorbar\": {\"outlinewidth\": 0, \"ticks\": \"\"}, \"type\": \"contourcarpet\"}], \"heatmap\": [{\"colorbar\": {\"outlinewidth\": 0, \"ticks\": \"\"}, \"colorscale\": [[0.0, \"#0d0887\"], [0.1111111111111111, \"#46039f\"], [0.2222222222222222, \"#7201a8\"], [0.3333333333333333, \"#9c179e\"], [0.4444444444444444, \"#bd3786\"], [0.5555555555555556, \"#d8576b\"], [0.6666666666666666, \"#ed7953\"], [0.7777777777777778, \"#fb9f3a\"], [0.8888888888888888, \"#fdca26\"], [1.0, \"#f0f921\"]], \"type\": \"heatmap\"}], \"heatmapgl\": [{\"colorbar\": {\"outlinewidth\": 0, \"ticks\": \"\"}, \"colorscale\": [[0.0, \"#0d0887\"], [0.1111111111111111, \"#46039f\"], [0.2222222222222222, \"#7201a8\"], [0.3333333333333333, \"#9c179e\"], [0.4444444444444444, \"#bd3786\"], [0.5555555555555556, \"#d8576b\"], [0.6666666666666666, \"#ed7953\"], [0.7777777777777778, \"#fb9f3a\"], [0.8888888888888888, \"#fdca26\"], [1.0, \"#f0f921\"]], \"type\": \"heatmapgl\"}], \"histogram\": [{\"marker\": {\"colorbar\": {\"outlinewidth\": 0, \"ticks\": \"\"}}, \"type\": \"histogram\"}], \"histogram2d\": [{\"colorbar\": {\"outlinewidth\": 0, \"ticks\": \"\"}, \"colorscale\": [[0.0, \"#0d0887\"], [0.1111111111111111, \"#46039f\"], [0.2222222222222222, \"#7201a8\"], [0.3333333333333333, \"#9c179e\"], [0.4444444444444444, \"#bd3786\"], [0.5555555555555556, \"#d8576b\"], [0.6666666666666666, \"#ed7953\"], [0.7777777777777778, \"#fb9f3a\"], [0.8888888888888888, \"#fdca26\"], [1.0, \"#f0f921\"]], \"type\": \"histogram2d\"}], \"histogram2dcontour\": [{\"colorbar\": {\"outlinewidth\": 0, \"ticks\": \"\"}, \"colorscale\": [[0.0, \"#0d0887\"], [0.1111111111111111, \"#46039f\"], [0.2222222222222222, \"#7201a8\"], [0.3333333333333333, \"#9c179e\"], [0.4444444444444444, \"#bd3786\"], [0.5555555555555556, \"#d8576b\"], [0.6666666666666666, \"#ed7953\"], [0.7777777777777778, \"#fb9f3a\"], [0.8888888888888888, \"#fdca26\"], [1.0, \"#f0f921\"]], \"type\": \"histogram2dcontour\"}], \"mesh3d\": [{\"colorbar\": {\"outlinewidth\": 0, \"ticks\": \"\"}, \"type\": \"mesh3d\"}], \"parcoords\": [{\"line\": {\"colorbar\": {\"outlinewidth\": 0, \"ticks\": \"\"}}, \"type\": \"parcoords\"}], \"pie\": [{\"automargin\": true, \"type\": \"pie\"}], \"scatter\": [{\"marker\": {\"colorbar\": {\"outlinewidth\": 0, \"ticks\": \"\"}}, \"type\": \"scatter\"}], \"scatter3d\": [{\"line\": {\"colorbar\": {\"outlinewidth\": 0, \"ticks\": \"\"}}, \"marker\": {\"colorbar\": {\"outlinewidth\": 0, \"ticks\": \"\"}}, \"type\": \"scatter3d\"}], \"scattercarpet\": [{\"marker\": {\"colorbar\": {\"outlinewidth\": 0, \"ticks\": \"\"}}, \"type\": \"scattercarpet\"}], \"scattergeo\": [{\"marker\": {\"colorbar\": {\"outlinewidth\": 0, \"ticks\": \"\"}}, \"type\": \"scattergeo\"}], \"scattergl\": [{\"marker\": {\"colorbar\": {\"outlinewidth\": 0, \"ticks\": \"\"}}, \"type\": \"scattergl\"}], \"scattermapbox\": [{\"marker\": {\"colorbar\": {\"outlinewidth\": 0, \"ticks\": \"\"}}, \"type\": \"scattermapbox\"}], \"scatterpolar\": [{\"marker\": {\"colorbar\": {\"outlinewidth\": 0, \"ticks\": \"\"}}, \"type\": \"scatterpolar\"}], \"scatterpolargl\": [{\"marker\": {\"colorbar\": {\"outlinewidth\": 0, \"ticks\": \"\"}}, \"type\": \"scatterpolargl\"}], \"scatterternary\": [{\"marker\": {\"colorbar\": {\"outlinewidth\": 0, \"ticks\": \"\"}}, \"type\": \"scatterternary\"}], \"surface\": [{\"colorbar\": {\"outlinewidth\": 0, \"ticks\": \"\"}, \"colorscale\": [[0.0, \"#0d0887\"], [0.1111111111111111, \"#46039f\"], [0.2222222222222222, \"#7201a8\"], [0.3333333333333333, \"#9c179e\"], [0.4444444444444444, \"#bd3786\"], [0.5555555555555556, \"#d8576b\"], [0.6666666666666666, \"#ed7953\"], [0.7777777777777778, \"#fb9f3a\"], [0.8888888888888888, \"#fdca26\"], [1.0, \"#f0f921\"]], \"type\": \"surface\"}], \"table\": [{\"cells\": {\"fill\": {\"color\": \"#EBF0F8\"}, \"line\": {\"color\": \"white\"}}, \"header\": {\"fill\": {\"color\": \"#C8D4E3\"}, \"line\": {\"color\": \"white\"}}, \"type\": \"table\"}]}, \"layout\": {\"annotationdefaults\": {\"arrowcolor\": \"#2a3f5f\", \"arrowhead\": 0, \"arrowwidth\": 1}, \"coloraxis\": {\"colorbar\": {\"outlinewidth\": 0, \"ticks\": \"\"}}, \"colorscale\": {\"diverging\": [[0, \"#8e0152\"], [0.1, \"#c51b7d\"], [0.2, \"#de77ae\"], [0.3, \"#f1b6da\"], [0.4, \"#fde0ef\"], [0.5, \"#f7f7f7\"], [0.6, \"#e6f5d0\"], [0.7, \"#b8e186\"], [0.8, \"#7fbc41\"], [0.9, \"#4d9221\"], [1, \"#276419\"]], \"sequential\": [[0.0, \"#0d0887\"], [0.1111111111111111, \"#46039f\"], [0.2222222222222222, \"#7201a8\"], [0.3333333333333333, \"#9c179e\"], [0.4444444444444444, \"#bd3786\"], [0.5555555555555556, \"#d8576b\"], [0.6666666666666666, \"#ed7953\"], [0.7777777777777778, \"#fb9f3a\"], [0.8888888888888888, \"#fdca26\"], [1.0, \"#f0f921\"]], \"sequentialminus\": [[0.0, \"#0d0887\"], [0.1111111111111111, \"#46039f\"], [0.2222222222222222, \"#7201a8\"], [0.3333333333333333, \"#9c179e\"], [0.4444444444444444, \"#bd3786\"], [0.5555555555555556, \"#d8576b\"], [0.6666666666666666, \"#ed7953\"], [0.7777777777777778, \"#fb9f3a\"], [0.8888888888888888, \"#fdca26\"], [1.0, \"#f0f921\"]]}, \"colorway\": [\"#636efa\", \"#EF553B\", \"#00cc96\", \"#ab63fa\", \"#FFA15A\", \"#19d3f3\", \"#FF6692\", \"#B6E880\", \"#FF97FF\", \"#FECB52\"], \"font\": {\"color\": \"#2a3f5f\"}, \"geo\": {\"bgcolor\": \"white\", \"lakecolor\": \"white\", \"landcolor\": \"#E5ECF6\", \"showlakes\": true, \"showland\": true, \"subunitcolor\": \"white\"}, \"hoverlabel\": {\"align\": \"left\"}, \"hovermode\": \"closest\", \"mapbox\": {\"style\": \"light\"}, \"paper_bgcolor\": \"white\", \"plot_bgcolor\": \"#E5ECF6\", \"polar\": {\"angularaxis\": {\"gridcolor\": \"white\", \"linecolor\": \"white\", \"ticks\": \"\"}, \"bgcolor\": \"#E5ECF6\", \"radialaxis\": {\"gridcolor\": \"white\", \"linecolor\": \"white\", \"ticks\": \"\"}}, \"scene\": {\"xaxis\": {\"backgroundcolor\": \"#E5ECF6\", \"gridcolor\": \"white\", \"gridwidth\": 2, \"linecolor\": \"white\", \"showbackground\": true, \"ticks\": \"\", \"zerolinecolor\": \"white\"}, \"yaxis\": {\"backgroundcolor\": \"#E5ECF6\", \"gridcolor\": \"white\", \"gridwidth\": 2, \"linecolor\": \"white\", \"showbackground\": true, \"ticks\": \"\", \"zerolinecolor\": \"white\"}, \"zaxis\": {\"backgroundcolor\": \"#E5ECF6\", \"gridcolor\": \"white\", \"gridwidth\": 2, \"linecolor\": \"white\", \"showbackground\": true, \"ticks\": \"\", \"zerolinecolor\": \"white\"}}, \"shapedefaults\": {\"line\": {\"color\": \"#2a3f5f\"}}, \"ternary\": {\"aaxis\": {\"gridcolor\": \"white\", \"linecolor\": \"white\", \"ticks\": \"\"}, \"baxis\": {\"gridcolor\": \"white\", \"linecolor\": \"white\", \"ticks\": \"\"}, \"bgcolor\": \"#E5ECF6\", \"caxis\": {\"gridcolor\": \"white\", \"linecolor\": \"white\", \"ticks\": \"\"}}, \"title\": {\"x\": 0.05}, \"xaxis\": {\"automargin\": true, \"gridcolor\": \"white\", \"linecolor\": \"white\", \"ticks\": \"\", \"title\": {\"standoff\": 15}, \"zerolinecolor\": \"white\", \"zerolinewidth\": 2}, \"yaxis\": {\"automargin\": true, \"gridcolor\": \"white\", \"linecolor\": \"white\", \"ticks\": \"\", \"title\": {\"standoff\": 15}, \"zerolinecolor\": \"white\", \"zerolinewidth\": 2}}}, \"title\": {\"font\": {\"color\": \"#4D5663\"}}, \"xaxis\": {\"gridcolor\": \"#E1E5ED\", \"showgrid\": true, \"tickfont\": {\"color\": \"#4D5663\"}, \"title\": {\"font\": {\"color\": \"#4D5663\"}, \"text\": \"\"}, \"zerolinecolor\": \"#E1E5ED\"}, \"yaxis\": {\"gridcolor\": \"#E1E5ED\", \"showgrid\": true, \"tickfont\": {\"color\": \"#4D5663\"}, \"title\": {\"font\": {\"color\": \"#4D5663\"}, \"text\": \"\"}, \"zerolinecolor\": \"#E1E5ED\"}},\n",
       "                        {\"showLink\": true, \"linkText\": \"Export to plot.ly\", \"plotlyServerURL\": \"https://plot.ly\", \"responsive\": true}\n",
       "                    ).then(function(){\n",
       "                            \n",
       "var gd = document.getElementById('adbd39fe-115d-4f67-b1cb-febd93c25289');\n",
       "var x = new MutationObserver(function (mutations, observer) {{\n",
       "        var display = window.getComputedStyle(gd).display;\n",
       "        if (!display || display === 'none') {{\n",
       "            console.log([gd, 'removed!']);\n",
       "            Plotly.purge(gd);\n",
       "            observer.disconnect();\n",
       "        }}\n",
       "}});\n",
       "\n",
       "// Listen for the removal of the full notebook cells\n",
       "var notebookContainer = gd.closest('#notebook-container');\n",
       "if (notebookContainer) {{\n",
       "    x.observe(notebookContainer, {childList: true});\n",
       "}}\n",
       "\n",
       "// Listen for the clearing of the current output cell\n",
       "var outputEl = gd.closest('.output');\n",
       "if (outputEl) {{\n",
       "    x.observe(outputEl, {childList: true});\n",
       "}}\n",
       "\n",
       "                        })\n",
       "                };\n",
       "                });\n",
       "            </script>\n",
       "        </div>"
      ]
     },
     "metadata": {},
     "output_type": "display_data"
    }
   ],
   "source": [
    "df.iplot(kind='box')"
   ]
  },
  {
   "cell_type": "markdown",
   "metadata": {},
   "source": [
    "## 3d Surface"
   ]
  },
  {
   "cell_type": "code",
   "execution_count": 14,
   "metadata": {},
   "outputs": [
    {
     "data": {
      "application/vnd.plotly.v1+json": {
       "config": {
        "linkText": "Export to plot.ly",
        "plotlyServerURL": "https://plot.ly",
        "showLink": true
       },
       "data": [
        {
         "colorscale": [
          [
           0,
           "rgb(165,0,38)"
          ],
          [
           0.1,
           "rgb(215,48,39)"
          ],
          [
           0.2,
           "rgb(244,109,67)"
          ],
          [
           0.3,
           "rgb(253,174,97)"
          ],
          [
           0.4,
           "rgb(254,224,144)"
          ],
          [
           0.5,
           "rgb(255,255,191)"
          ],
          [
           0.6,
           "rgb(224,243,248)"
          ],
          [
           0.7,
           "rgb(171,217,233)"
          ],
          [
           0.8,
           "rgb(116,173,209)"
          ],
          [
           0.9,
           "rgb(69,117,180)"
          ],
          [
           1,
           "rgb(49,54,149)"
          ]
         ],
         "type": "surface",
         "x": [
          0,
          1,
          2,
          3,
          4
         ],
         "y": [
          "x",
          "y",
          "z"
         ],
         "z": [
          [
           1,
           2,
           3,
           4,
           5
          ],
          [
           10,
           20,
           30,
           20,
           10
          ],
          [
           5,
           4,
           3,
           2,
           1
          ]
         ]
        }
       ],
       "layout": {
        "legend": {
         "bgcolor": "#F5F6F9",
         "font": {
          "color": "#4D5663"
         }
        },
        "paper_bgcolor": "#F5F6F9",
        "plot_bgcolor": "#F5F6F9",
        "template": {
         "data": {
          "bar": [
           {
            "error_x": {
             "color": "#2a3f5f"
            },
            "error_y": {
             "color": "#2a3f5f"
            },
            "marker": {
             "line": {
              "color": "#E5ECF6",
              "width": 0.5
             }
            },
            "type": "bar"
           }
          ],
          "barpolar": [
           {
            "marker": {
             "line": {
              "color": "#E5ECF6",
              "width": 0.5
             }
            },
            "type": "barpolar"
           }
          ],
          "carpet": [
           {
            "aaxis": {
             "endlinecolor": "#2a3f5f",
             "gridcolor": "white",
             "linecolor": "white",
             "minorgridcolor": "white",
             "startlinecolor": "#2a3f5f"
            },
            "baxis": {
             "endlinecolor": "#2a3f5f",
             "gridcolor": "white",
             "linecolor": "white",
             "minorgridcolor": "white",
             "startlinecolor": "#2a3f5f"
            },
            "type": "carpet"
           }
          ],
          "choropleth": [
           {
            "colorbar": {
             "outlinewidth": 0,
             "ticks": ""
            },
            "type": "choropleth"
           }
          ],
          "contour": [
           {
            "colorbar": {
             "outlinewidth": 0,
             "ticks": ""
            },
            "colorscale": [
             [
              0,
              "#0d0887"
             ],
             [
              0.1111111111111111,
              "#46039f"
             ],
             [
              0.2222222222222222,
              "#7201a8"
             ],
             [
              0.3333333333333333,
              "#9c179e"
             ],
             [
              0.4444444444444444,
              "#bd3786"
             ],
             [
              0.5555555555555556,
              "#d8576b"
             ],
             [
              0.6666666666666666,
              "#ed7953"
             ],
             [
              0.7777777777777778,
              "#fb9f3a"
             ],
             [
              0.8888888888888888,
              "#fdca26"
             ],
             [
              1,
              "#f0f921"
             ]
            ],
            "type": "contour"
           }
          ],
          "contourcarpet": [
           {
            "colorbar": {
             "outlinewidth": 0,
             "ticks": ""
            },
            "type": "contourcarpet"
           }
          ],
          "heatmap": [
           {
            "colorbar": {
             "outlinewidth": 0,
             "ticks": ""
            },
            "colorscale": [
             [
              0,
              "#0d0887"
             ],
             [
              0.1111111111111111,
              "#46039f"
             ],
             [
              0.2222222222222222,
              "#7201a8"
             ],
             [
              0.3333333333333333,
              "#9c179e"
             ],
             [
              0.4444444444444444,
              "#bd3786"
             ],
             [
              0.5555555555555556,
              "#d8576b"
             ],
             [
              0.6666666666666666,
              "#ed7953"
             ],
             [
              0.7777777777777778,
              "#fb9f3a"
             ],
             [
              0.8888888888888888,
              "#fdca26"
             ],
             [
              1,
              "#f0f921"
             ]
            ],
            "type": "heatmap"
           }
          ],
          "heatmapgl": [
           {
            "colorbar": {
             "outlinewidth": 0,
             "ticks": ""
            },
            "colorscale": [
             [
              0,
              "#0d0887"
             ],
             [
              0.1111111111111111,
              "#46039f"
             ],
             [
              0.2222222222222222,
              "#7201a8"
             ],
             [
              0.3333333333333333,
              "#9c179e"
             ],
             [
              0.4444444444444444,
              "#bd3786"
             ],
             [
              0.5555555555555556,
              "#d8576b"
             ],
             [
              0.6666666666666666,
              "#ed7953"
             ],
             [
              0.7777777777777778,
              "#fb9f3a"
             ],
             [
              0.8888888888888888,
              "#fdca26"
             ],
             [
              1,
              "#f0f921"
             ]
            ],
            "type": "heatmapgl"
           }
          ],
          "histogram": [
           {
            "marker": {
             "colorbar": {
              "outlinewidth": 0,
              "ticks": ""
             }
            },
            "type": "histogram"
           }
          ],
          "histogram2d": [
           {
            "colorbar": {
             "outlinewidth": 0,
             "ticks": ""
            },
            "colorscale": [
             [
              0,
              "#0d0887"
             ],
             [
              0.1111111111111111,
              "#46039f"
             ],
             [
              0.2222222222222222,
              "#7201a8"
             ],
             [
              0.3333333333333333,
              "#9c179e"
             ],
             [
              0.4444444444444444,
              "#bd3786"
             ],
             [
              0.5555555555555556,
              "#d8576b"
             ],
             [
              0.6666666666666666,
              "#ed7953"
             ],
             [
              0.7777777777777778,
              "#fb9f3a"
             ],
             [
              0.8888888888888888,
              "#fdca26"
             ],
             [
              1,
              "#f0f921"
             ]
            ],
            "type": "histogram2d"
           }
          ],
          "histogram2dcontour": [
           {
            "colorbar": {
             "outlinewidth": 0,
             "ticks": ""
            },
            "colorscale": [
             [
              0,
              "#0d0887"
             ],
             [
              0.1111111111111111,
              "#46039f"
             ],
             [
              0.2222222222222222,
              "#7201a8"
             ],
             [
              0.3333333333333333,
              "#9c179e"
             ],
             [
              0.4444444444444444,
              "#bd3786"
             ],
             [
              0.5555555555555556,
              "#d8576b"
             ],
             [
              0.6666666666666666,
              "#ed7953"
             ],
             [
              0.7777777777777778,
              "#fb9f3a"
             ],
             [
              0.8888888888888888,
              "#fdca26"
             ],
             [
              1,
              "#f0f921"
             ]
            ],
            "type": "histogram2dcontour"
           }
          ],
          "mesh3d": [
           {
            "colorbar": {
             "outlinewidth": 0,
             "ticks": ""
            },
            "type": "mesh3d"
           }
          ],
          "parcoords": [
           {
            "line": {
             "colorbar": {
              "outlinewidth": 0,
              "ticks": ""
             }
            },
            "type": "parcoords"
           }
          ],
          "pie": [
           {
            "automargin": true,
            "type": "pie"
           }
          ],
          "scatter": [
           {
            "marker": {
             "colorbar": {
              "outlinewidth": 0,
              "ticks": ""
             }
            },
            "type": "scatter"
           }
          ],
          "scatter3d": [
           {
            "line": {
             "colorbar": {
              "outlinewidth": 0,
              "ticks": ""
             }
            },
            "marker": {
             "colorbar": {
              "outlinewidth": 0,
              "ticks": ""
             }
            },
            "type": "scatter3d"
           }
          ],
          "scattercarpet": [
           {
            "marker": {
             "colorbar": {
              "outlinewidth": 0,
              "ticks": ""
             }
            },
            "type": "scattercarpet"
           }
          ],
          "scattergeo": [
           {
            "marker": {
             "colorbar": {
              "outlinewidth": 0,
              "ticks": ""
             }
            },
            "type": "scattergeo"
           }
          ],
          "scattergl": [
           {
            "marker": {
             "colorbar": {
              "outlinewidth": 0,
              "ticks": ""
             }
            },
            "type": "scattergl"
           }
          ],
          "scattermapbox": [
           {
            "marker": {
             "colorbar": {
              "outlinewidth": 0,
              "ticks": ""
             }
            },
            "type": "scattermapbox"
           }
          ],
          "scatterpolar": [
           {
            "marker": {
             "colorbar": {
              "outlinewidth": 0,
              "ticks": ""
             }
            },
            "type": "scatterpolar"
           }
          ],
          "scatterpolargl": [
           {
            "marker": {
             "colorbar": {
              "outlinewidth": 0,
              "ticks": ""
             }
            },
            "type": "scatterpolargl"
           }
          ],
          "scatterternary": [
           {
            "marker": {
             "colorbar": {
              "outlinewidth": 0,
              "ticks": ""
             }
            },
            "type": "scatterternary"
           }
          ],
          "surface": [
           {
            "colorbar": {
             "outlinewidth": 0,
             "ticks": ""
            },
            "colorscale": [
             [
              0,
              "#0d0887"
             ],
             [
              0.1111111111111111,
              "#46039f"
             ],
             [
              0.2222222222222222,
              "#7201a8"
             ],
             [
              0.3333333333333333,
              "#9c179e"
             ],
             [
              0.4444444444444444,
              "#bd3786"
             ],
             [
              0.5555555555555556,
              "#d8576b"
             ],
             [
              0.6666666666666666,
              "#ed7953"
             ],
             [
              0.7777777777777778,
              "#fb9f3a"
             ],
             [
              0.8888888888888888,
              "#fdca26"
             ],
             [
              1,
              "#f0f921"
             ]
            ],
            "type": "surface"
           }
          ],
          "table": [
           {
            "cells": {
             "fill": {
              "color": "#EBF0F8"
             },
             "line": {
              "color": "white"
             }
            },
            "header": {
             "fill": {
              "color": "#C8D4E3"
             },
             "line": {
              "color": "white"
             }
            },
            "type": "table"
           }
          ]
         },
         "layout": {
          "annotationdefaults": {
           "arrowcolor": "#2a3f5f",
           "arrowhead": 0,
           "arrowwidth": 1
          },
          "coloraxis": {
           "colorbar": {
            "outlinewidth": 0,
            "ticks": ""
           }
          },
          "colorscale": {
           "diverging": [
            [
             0,
             "#8e0152"
            ],
            [
             0.1,
             "#c51b7d"
            ],
            [
             0.2,
             "#de77ae"
            ],
            [
             0.3,
             "#f1b6da"
            ],
            [
             0.4,
             "#fde0ef"
            ],
            [
             0.5,
             "#f7f7f7"
            ],
            [
             0.6,
             "#e6f5d0"
            ],
            [
             0.7,
             "#b8e186"
            ],
            [
             0.8,
             "#7fbc41"
            ],
            [
             0.9,
             "#4d9221"
            ],
            [
             1,
             "#276419"
            ]
           ],
           "sequential": [
            [
             0,
             "#0d0887"
            ],
            [
             0.1111111111111111,
             "#46039f"
            ],
            [
             0.2222222222222222,
             "#7201a8"
            ],
            [
             0.3333333333333333,
             "#9c179e"
            ],
            [
             0.4444444444444444,
             "#bd3786"
            ],
            [
             0.5555555555555556,
             "#d8576b"
            ],
            [
             0.6666666666666666,
             "#ed7953"
            ],
            [
             0.7777777777777778,
             "#fb9f3a"
            ],
            [
             0.8888888888888888,
             "#fdca26"
            ],
            [
             1,
             "#f0f921"
            ]
           ],
           "sequentialminus": [
            [
             0,
             "#0d0887"
            ],
            [
             0.1111111111111111,
             "#46039f"
            ],
            [
             0.2222222222222222,
             "#7201a8"
            ],
            [
             0.3333333333333333,
             "#9c179e"
            ],
            [
             0.4444444444444444,
             "#bd3786"
            ],
            [
             0.5555555555555556,
             "#d8576b"
            ],
            [
             0.6666666666666666,
             "#ed7953"
            ],
            [
             0.7777777777777778,
             "#fb9f3a"
            ],
            [
             0.8888888888888888,
             "#fdca26"
            ],
            [
             1,
             "#f0f921"
            ]
           ]
          },
          "colorway": [
           "#636efa",
           "#EF553B",
           "#00cc96",
           "#ab63fa",
           "#FFA15A",
           "#19d3f3",
           "#FF6692",
           "#B6E880",
           "#FF97FF",
           "#FECB52"
          ],
          "font": {
           "color": "#2a3f5f"
          },
          "geo": {
           "bgcolor": "white",
           "lakecolor": "white",
           "landcolor": "#E5ECF6",
           "showlakes": true,
           "showland": true,
           "subunitcolor": "white"
          },
          "hoverlabel": {
           "align": "left"
          },
          "hovermode": "closest",
          "mapbox": {
           "style": "light"
          },
          "paper_bgcolor": "white",
          "plot_bgcolor": "#E5ECF6",
          "polar": {
           "angularaxis": {
            "gridcolor": "white",
            "linecolor": "white",
            "ticks": ""
           },
           "bgcolor": "#E5ECF6",
           "radialaxis": {
            "gridcolor": "white",
            "linecolor": "white",
            "ticks": ""
           }
          },
          "scene": {
           "xaxis": {
            "backgroundcolor": "#E5ECF6",
            "gridcolor": "white",
            "gridwidth": 2,
            "linecolor": "white",
            "showbackground": true,
            "ticks": "",
            "zerolinecolor": "white"
           },
           "yaxis": {
            "backgroundcolor": "#E5ECF6",
            "gridcolor": "white",
            "gridwidth": 2,
            "linecolor": "white",
            "showbackground": true,
            "ticks": "",
            "zerolinecolor": "white"
           },
           "zaxis": {
            "backgroundcolor": "#E5ECF6",
            "gridcolor": "white",
            "gridwidth": 2,
            "linecolor": "white",
            "showbackground": true,
            "ticks": "",
            "zerolinecolor": "white"
           }
          },
          "shapedefaults": {
           "line": {
            "color": "#2a3f5f"
           }
          },
          "ternary": {
           "aaxis": {
            "gridcolor": "white",
            "linecolor": "white",
            "ticks": ""
           },
           "baxis": {
            "gridcolor": "white",
            "linecolor": "white",
            "ticks": ""
           },
           "bgcolor": "#E5ECF6",
           "caxis": {
            "gridcolor": "white",
            "linecolor": "white",
            "ticks": ""
           }
          },
          "title": {
           "x": 0.05
          },
          "xaxis": {
           "automargin": true,
           "gridcolor": "white",
           "linecolor": "white",
           "ticks": "",
           "title": {
            "standoff": 15
           },
           "zerolinecolor": "white",
           "zerolinewidth": 2
          },
          "yaxis": {
           "automargin": true,
           "gridcolor": "white",
           "linecolor": "white",
           "ticks": "",
           "title": {
            "standoff": 15
           },
           "zerolinecolor": "white",
           "zerolinewidth": 2
          }
         }
        },
        "title": {
         "font": {
          "color": "#4D5663"
         }
        },
        "xaxis": {
         "gridcolor": "#E1E5ED",
         "showgrid": true,
         "tickfont": {
          "color": "#4D5663"
         },
         "title": {
          "font": {
           "color": "#4D5663"
          },
          "text": ""
         },
         "zerolinecolor": "#E1E5ED"
        },
        "yaxis": {
         "gridcolor": "#E1E5ED",
         "showgrid": true,
         "tickfont": {
          "color": "#4D5663"
         },
         "title": {
          "font": {
           "color": "#4D5663"
          },
          "text": ""
         },
         "zerolinecolor": "#E1E5ED"
        }
       }
      },
      "text/html": [
       "<div>\n",
       "        \n",
       "        \n",
       "            <div id=\"6a6b1074-c43d-405e-a763-c9c965b95679\" class=\"plotly-graph-div\" style=\"height:525px; width:100%;\"></div>\n",
       "            <script type=\"text/javascript\">\n",
       "                require([\"plotly\"], function(Plotly) {\n",
       "                    window.PLOTLYENV=window.PLOTLYENV || {};\n",
       "                    window.PLOTLYENV.BASE_URL='https://plot.ly';\n",
       "                    \n",
       "                if (document.getElementById(\"6a6b1074-c43d-405e-a763-c9c965b95679\")) {\n",
       "                    Plotly.newPlot(\n",
       "                        '6a6b1074-c43d-405e-a763-c9c965b95679',\n",
       "                        [{\"colorscale\": [[0.0, \"rgb(165,0,38)\"], [0.1, \"rgb(215,48,39)\"], [0.2, \"rgb(244,109,67)\"], [0.3, \"rgb(253,174,97)\"], [0.4, \"rgb(254,224,144)\"], [0.5, \"rgb(255,255,191)\"], [0.6, \"rgb(224,243,248)\"], [0.7, \"rgb(171,217,233)\"], [0.8, \"rgb(116,173,209)\"], [0.9, \"rgb(69,117,180)\"], [1.0, \"rgb(49,54,149)\"]], \"type\": \"surface\", \"x\": [0, 1, 2, 3, 4], \"y\": [\"x\", \"y\", \"z\"], \"z\": [[1, 2, 3, 4, 5], [10, 20, 30, 20, 10], [5, 4, 3, 2, 1]]}],\n",
       "                        {\"legend\": {\"bgcolor\": \"#F5F6F9\", \"font\": {\"color\": \"#4D5663\"}}, \"paper_bgcolor\": \"#F5F6F9\", \"plot_bgcolor\": \"#F5F6F9\", \"template\": {\"data\": {\"bar\": [{\"error_x\": {\"color\": \"#2a3f5f\"}, \"error_y\": {\"color\": \"#2a3f5f\"}, \"marker\": {\"line\": {\"color\": \"#E5ECF6\", \"width\": 0.5}}, \"type\": \"bar\"}], \"barpolar\": [{\"marker\": {\"line\": {\"color\": \"#E5ECF6\", \"width\": 0.5}}, \"type\": \"barpolar\"}], \"carpet\": [{\"aaxis\": {\"endlinecolor\": \"#2a3f5f\", \"gridcolor\": \"white\", \"linecolor\": \"white\", \"minorgridcolor\": \"white\", \"startlinecolor\": \"#2a3f5f\"}, \"baxis\": {\"endlinecolor\": \"#2a3f5f\", \"gridcolor\": \"white\", \"linecolor\": \"white\", \"minorgridcolor\": \"white\", \"startlinecolor\": \"#2a3f5f\"}, \"type\": \"carpet\"}], \"choropleth\": [{\"colorbar\": {\"outlinewidth\": 0, \"ticks\": \"\"}, \"type\": \"choropleth\"}], \"contour\": [{\"colorbar\": {\"outlinewidth\": 0, \"ticks\": \"\"}, \"colorscale\": [[0.0, \"#0d0887\"], [0.1111111111111111, \"#46039f\"], [0.2222222222222222, \"#7201a8\"], [0.3333333333333333, \"#9c179e\"], [0.4444444444444444, \"#bd3786\"], [0.5555555555555556, \"#d8576b\"], [0.6666666666666666, \"#ed7953\"], [0.7777777777777778, \"#fb9f3a\"], [0.8888888888888888, \"#fdca26\"], [1.0, \"#f0f921\"]], \"type\": \"contour\"}], \"contourcarpet\": [{\"colorbar\": {\"outlinewidth\": 0, \"ticks\": \"\"}, \"type\": \"contourcarpet\"}], \"heatmap\": [{\"colorbar\": {\"outlinewidth\": 0, \"ticks\": \"\"}, \"colorscale\": [[0.0, \"#0d0887\"], [0.1111111111111111, \"#46039f\"], [0.2222222222222222, \"#7201a8\"], [0.3333333333333333, \"#9c179e\"], [0.4444444444444444, \"#bd3786\"], [0.5555555555555556, \"#d8576b\"], [0.6666666666666666, \"#ed7953\"], [0.7777777777777778, \"#fb9f3a\"], [0.8888888888888888, \"#fdca26\"], [1.0, \"#f0f921\"]], \"type\": \"heatmap\"}], \"heatmapgl\": [{\"colorbar\": {\"outlinewidth\": 0, \"ticks\": \"\"}, \"colorscale\": [[0.0, \"#0d0887\"], [0.1111111111111111, \"#46039f\"], [0.2222222222222222, \"#7201a8\"], [0.3333333333333333, \"#9c179e\"], [0.4444444444444444, \"#bd3786\"], [0.5555555555555556, \"#d8576b\"], [0.6666666666666666, \"#ed7953\"], [0.7777777777777778, \"#fb9f3a\"], [0.8888888888888888, \"#fdca26\"], [1.0, \"#f0f921\"]], \"type\": \"heatmapgl\"}], \"histogram\": [{\"marker\": {\"colorbar\": {\"outlinewidth\": 0, \"ticks\": \"\"}}, \"type\": \"histogram\"}], \"histogram2d\": [{\"colorbar\": {\"outlinewidth\": 0, \"ticks\": \"\"}, \"colorscale\": [[0.0, \"#0d0887\"], [0.1111111111111111, \"#46039f\"], [0.2222222222222222, \"#7201a8\"], [0.3333333333333333, \"#9c179e\"], [0.4444444444444444, \"#bd3786\"], [0.5555555555555556, \"#d8576b\"], [0.6666666666666666, \"#ed7953\"], [0.7777777777777778, \"#fb9f3a\"], [0.8888888888888888, \"#fdca26\"], [1.0, \"#f0f921\"]], \"type\": \"histogram2d\"}], \"histogram2dcontour\": [{\"colorbar\": {\"outlinewidth\": 0, \"ticks\": \"\"}, \"colorscale\": [[0.0, \"#0d0887\"], [0.1111111111111111, \"#46039f\"], [0.2222222222222222, \"#7201a8\"], [0.3333333333333333, \"#9c179e\"], [0.4444444444444444, \"#bd3786\"], [0.5555555555555556, \"#d8576b\"], [0.6666666666666666, \"#ed7953\"], [0.7777777777777778, \"#fb9f3a\"], [0.8888888888888888, \"#fdca26\"], [1.0, \"#f0f921\"]], \"type\": \"histogram2dcontour\"}], \"mesh3d\": [{\"colorbar\": {\"outlinewidth\": 0, \"ticks\": \"\"}, \"type\": \"mesh3d\"}], \"parcoords\": [{\"line\": {\"colorbar\": {\"outlinewidth\": 0, \"ticks\": \"\"}}, \"type\": \"parcoords\"}], \"pie\": [{\"automargin\": true, \"type\": \"pie\"}], \"scatter\": [{\"marker\": {\"colorbar\": {\"outlinewidth\": 0, \"ticks\": \"\"}}, \"type\": \"scatter\"}], \"scatter3d\": [{\"line\": {\"colorbar\": {\"outlinewidth\": 0, \"ticks\": \"\"}}, \"marker\": {\"colorbar\": {\"outlinewidth\": 0, \"ticks\": \"\"}}, \"type\": \"scatter3d\"}], \"scattercarpet\": [{\"marker\": {\"colorbar\": {\"outlinewidth\": 0, \"ticks\": \"\"}}, \"type\": \"scattercarpet\"}], \"scattergeo\": [{\"marker\": {\"colorbar\": {\"outlinewidth\": 0, \"ticks\": \"\"}}, \"type\": \"scattergeo\"}], \"scattergl\": [{\"marker\": {\"colorbar\": {\"outlinewidth\": 0, \"ticks\": \"\"}}, \"type\": \"scattergl\"}], \"scattermapbox\": [{\"marker\": {\"colorbar\": {\"outlinewidth\": 0, \"ticks\": \"\"}}, \"type\": \"scattermapbox\"}], \"scatterpolar\": [{\"marker\": {\"colorbar\": {\"outlinewidth\": 0, \"ticks\": \"\"}}, \"type\": \"scatterpolar\"}], \"scatterpolargl\": [{\"marker\": {\"colorbar\": {\"outlinewidth\": 0, \"ticks\": \"\"}}, \"type\": \"scatterpolargl\"}], \"scatterternary\": [{\"marker\": {\"colorbar\": {\"outlinewidth\": 0, \"ticks\": \"\"}}, \"type\": \"scatterternary\"}], \"surface\": [{\"colorbar\": {\"outlinewidth\": 0, \"ticks\": \"\"}, \"colorscale\": [[0.0, \"#0d0887\"], [0.1111111111111111, \"#46039f\"], [0.2222222222222222, \"#7201a8\"], [0.3333333333333333, \"#9c179e\"], [0.4444444444444444, \"#bd3786\"], [0.5555555555555556, \"#d8576b\"], [0.6666666666666666, \"#ed7953\"], [0.7777777777777778, \"#fb9f3a\"], [0.8888888888888888, \"#fdca26\"], [1.0, \"#f0f921\"]], \"type\": \"surface\"}], \"table\": [{\"cells\": {\"fill\": {\"color\": \"#EBF0F8\"}, \"line\": {\"color\": \"white\"}}, \"header\": {\"fill\": {\"color\": \"#C8D4E3\"}, \"line\": {\"color\": \"white\"}}, \"type\": \"table\"}]}, \"layout\": {\"annotationdefaults\": {\"arrowcolor\": \"#2a3f5f\", \"arrowhead\": 0, \"arrowwidth\": 1}, \"coloraxis\": {\"colorbar\": {\"outlinewidth\": 0, \"ticks\": \"\"}}, \"colorscale\": {\"diverging\": [[0, \"#8e0152\"], [0.1, \"#c51b7d\"], [0.2, \"#de77ae\"], [0.3, \"#f1b6da\"], [0.4, \"#fde0ef\"], [0.5, \"#f7f7f7\"], [0.6, \"#e6f5d0\"], [0.7, \"#b8e186\"], [0.8, \"#7fbc41\"], [0.9, \"#4d9221\"], [1, \"#276419\"]], \"sequential\": [[0.0, \"#0d0887\"], [0.1111111111111111, \"#46039f\"], [0.2222222222222222, \"#7201a8\"], [0.3333333333333333, \"#9c179e\"], [0.4444444444444444, \"#bd3786\"], [0.5555555555555556, \"#d8576b\"], [0.6666666666666666, \"#ed7953\"], [0.7777777777777778, \"#fb9f3a\"], [0.8888888888888888, \"#fdca26\"], [1.0, \"#f0f921\"]], \"sequentialminus\": [[0.0, \"#0d0887\"], [0.1111111111111111, \"#46039f\"], [0.2222222222222222, \"#7201a8\"], [0.3333333333333333, \"#9c179e\"], [0.4444444444444444, \"#bd3786\"], [0.5555555555555556, \"#d8576b\"], [0.6666666666666666, \"#ed7953\"], [0.7777777777777778, \"#fb9f3a\"], [0.8888888888888888, \"#fdca26\"], [1.0, \"#f0f921\"]]}, \"colorway\": [\"#636efa\", \"#EF553B\", \"#00cc96\", \"#ab63fa\", \"#FFA15A\", \"#19d3f3\", \"#FF6692\", \"#B6E880\", \"#FF97FF\", \"#FECB52\"], \"font\": {\"color\": \"#2a3f5f\"}, \"geo\": {\"bgcolor\": \"white\", \"lakecolor\": \"white\", \"landcolor\": \"#E5ECF6\", \"showlakes\": true, \"showland\": true, \"subunitcolor\": \"white\"}, \"hoverlabel\": {\"align\": \"left\"}, \"hovermode\": \"closest\", \"mapbox\": {\"style\": \"light\"}, \"paper_bgcolor\": \"white\", \"plot_bgcolor\": \"#E5ECF6\", \"polar\": {\"angularaxis\": {\"gridcolor\": \"white\", \"linecolor\": \"white\", \"ticks\": \"\"}, \"bgcolor\": \"#E5ECF6\", \"radialaxis\": {\"gridcolor\": \"white\", \"linecolor\": \"white\", \"ticks\": \"\"}}, \"scene\": {\"xaxis\": {\"backgroundcolor\": \"#E5ECF6\", \"gridcolor\": \"white\", \"gridwidth\": 2, \"linecolor\": \"white\", \"showbackground\": true, \"ticks\": \"\", \"zerolinecolor\": \"white\"}, \"yaxis\": {\"backgroundcolor\": \"#E5ECF6\", \"gridcolor\": \"white\", \"gridwidth\": 2, \"linecolor\": \"white\", \"showbackground\": true, \"ticks\": \"\", \"zerolinecolor\": \"white\"}, \"zaxis\": {\"backgroundcolor\": \"#E5ECF6\", \"gridcolor\": \"white\", \"gridwidth\": 2, \"linecolor\": \"white\", \"showbackground\": true, \"ticks\": \"\", \"zerolinecolor\": \"white\"}}, \"shapedefaults\": {\"line\": {\"color\": \"#2a3f5f\"}}, \"ternary\": {\"aaxis\": {\"gridcolor\": \"white\", \"linecolor\": \"white\", \"ticks\": \"\"}, \"baxis\": {\"gridcolor\": \"white\", \"linecolor\": \"white\", \"ticks\": \"\"}, \"bgcolor\": \"#E5ECF6\", \"caxis\": {\"gridcolor\": \"white\", \"linecolor\": \"white\", \"ticks\": \"\"}}, \"title\": {\"x\": 0.05}, \"xaxis\": {\"automargin\": true, \"gridcolor\": \"white\", \"linecolor\": \"white\", \"ticks\": \"\", \"title\": {\"standoff\": 15}, \"zerolinecolor\": \"white\", \"zerolinewidth\": 2}, \"yaxis\": {\"automargin\": true, \"gridcolor\": \"white\", \"linecolor\": \"white\", \"ticks\": \"\", \"title\": {\"standoff\": 15}, \"zerolinecolor\": \"white\", \"zerolinewidth\": 2}}}, \"title\": {\"font\": {\"color\": \"#4D5663\"}}, \"xaxis\": {\"gridcolor\": \"#E1E5ED\", \"showgrid\": true, \"tickfont\": {\"color\": \"#4D5663\"}, \"title\": {\"font\": {\"color\": \"#4D5663\"}, \"text\": \"\"}, \"zerolinecolor\": \"#E1E5ED\"}, \"yaxis\": {\"gridcolor\": \"#E1E5ED\", \"showgrid\": true, \"tickfont\": {\"color\": \"#4D5663\"}, \"title\": {\"font\": {\"color\": \"#4D5663\"}, \"text\": \"\"}, \"zerolinecolor\": \"#E1E5ED\"}},\n",
       "                        {\"showLink\": true, \"linkText\": \"Export to plot.ly\", \"plotlyServerURL\": \"https://plot.ly\", \"responsive\": true}\n",
       "                    ).then(function(){\n",
       "                            \n",
       "var gd = document.getElementById('6a6b1074-c43d-405e-a763-c9c965b95679');\n",
       "var x = new MutationObserver(function (mutations, observer) {{\n",
       "        var display = window.getComputedStyle(gd).display;\n",
       "        if (!display || display === 'none') {{\n",
       "            console.log([gd, 'removed!']);\n",
       "            Plotly.purge(gd);\n",
       "            observer.disconnect();\n",
       "        }}\n",
       "}});\n",
       "\n",
       "// Listen for the removal of the full notebook cells\n",
       "var notebookContainer = gd.closest('#notebook-container');\n",
       "if (notebookContainer) {{\n",
       "    x.observe(notebookContainer, {childList: true});\n",
       "}}\n",
       "\n",
       "// Listen for the clearing of the current output cell\n",
       "var outputEl = gd.closest('.output');\n",
       "if (outputEl) {{\n",
       "    x.observe(outputEl, {childList: true});\n",
       "}}\n",
       "\n",
       "                        })\n",
       "                };\n",
       "                });\n",
       "            </script>\n",
       "        </div>"
      ]
     },
     "metadata": {},
     "output_type": "display_data"
    }
   ],
   "source": [
    "df3 = pd.DataFrame({'x':[1,2,3,4,5],'y':[10,20,30,20,10],'z':[5,4,3,2,1]})\n",
    "df3.iplot(kind='surface',colorscale='rdylbu')"
   ]
  },
  {
   "cell_type": "markdown",
   "metadata": {},
   "source": [
    "## Spread"
   ]
  },
  {
   "cell_type": "code",
   "execution_count": 15,
   "metadata": {},
   "outputs": [
    {
     "name": "stderr",
     "output_type": "stream",
     "text": [
      "/Users/blanchardnicolas/.pyenv/versions/3.7.7/envs/lewagon/lib/python3.7/site-packages/cufflinks/plotlytools.py:849: FutureWarning:\n",
      "\n",
      "The pandas.np module is deprecated and will be removed from pandas in a future version. Import numpy directly instead\n",
      "\n",
      "/Users/blanchardnicolas/.pyenv/versions/3.7.7/envs/lewagon/lib/python3.7/site-packages/cufflinks/plotlytools.py:850: FutureWarning:\n",
      "\n",
      "The pandas.np module is deprecated and will be removed from pandas in a future version. Import numpy directly instead\n",
      "\n"
     ]
    },
    {
     "data": {
      "application/vnd.plotly.v1+json": {
       "config": {
        "linkText": "Export to plot.ly",
        "plotlyServerURL": "https://plot.ly",
        "showLink": true
       },
       "data": [
        {
         "line": {
          "color": "rgba(255, 153, 51, 1.0)",
          "dash": "solid",
          "shape": "linear",
          "width": 1.3
         },
         "mode": "lines",
         "name": "A",
         "text": "",
         "type": "scatter",
         "x": [
          0,
          1,
          2,
          3,
          4,
          5,
          6,
          7,
          8,
          9,
          10,
          11,
          12,
          13,
          14,
          15,
          16,
          17,
          18,
          19,
          20,
          21,
          22,
          23,
          24,
          25,
          26,
          27,
          28,
          29,
          30,
          31,
          32,
          33,
          34,
          35,
          36,
          37,
          38,
          39,
          40,
          41,
          42,
          43,
          44,
          45,
          46,
          47,
          48,
          49,
          50,
          51,
          52,
          53,
          54,
          55,
          56,
          57,
          58,
          59,
          60,
          61,
          62,
          63,
          64,
          65,
          66,
          67,
          68,
          69,
          70,
          71,
          72,
          73,
          74,
          75,
          76,
          77,
          78,
          79,
          80,
          81,
          82,
          83,
          84,
          85,
          86,
          87,
          88,
          89,
          90,
          91,
          92,
          93,
          94,
          95,
          96,
          97,
          98,
          99
         ],
         "y": [
          -1.139418730002032,
          0.6547989998648551,
          0.39084583433649694,
          0.9646681826571936,
          0.42119755974889467,
          -0.23873385414912676,
          -0.2218960966330283,
          0.5675391268184925,
          -0.14589675805068572,
          0.2983797328942242,
          0.2481277187050298,
          -0.959565662084963,
          0.8983589857556141,
          -0.9205451688459358,
          -0.9073710648065669,
          -0.515818083052144,
          0.3568982359524299,
          -0.05039881754988521,
          1.045422545573841,
          -1.028197584323138,
          1.8884199740984546,
          0.5149998983933638,
          -0.4612569621502,
          -2.044884484384707,
          -2.2642782146088707,
          -1.3689178453525237,
          -0.4933880894392799,
          -0.44892769824569806,
          0.7021651569997387,
          0.17312188407331758,
          0.8297254909813514,
          -1.209018772125511,
          -0.6643563939520879,
          -0.03970583699998416,
          -0.5617207661402005,
          -1.5631259578039896,
          0.515889523095962,
          -0.8125689245955071,
          0.8352380213053745,
          -0.4821209854676755,
          1.1041130497801088,
          1.0306206606074977,
          0.9855867620785455,
          2.0027569273403243,
          0.2638266457953439,
          0.04350891310129441,
          0.8762454129201205,
          -0.08759198143271017,
          0.8125231817138858,
          -0.9075513348000999,
          0.5607733054161146,
          -0.23865240636633556,
          1.1191716763190929,
          0.5388212292102299,
          0.27082148087794466,
          -0.1956758784434622,
          1.2547094140308235,
          0.302733734712402,
          -1.1695245267490626,
          0.5185335466102716,
          0.8190908979174077,
          1.5642856701289398,
          -0.1839684949396022,
          -0.10464377212627611,
          -0.3738902853185688,
          -1.0578193647424976,
          2.0398000529190385,
          -0.47861082085741863,
          -0.26066652323696304,
          0.9178630415695512,
          1.9169026133398048,
          0.7487388185319119,
          -2.30795387068723,
          -0.04512853989323989,
          0.679899641273138,
          -0.48688078490635245,
          -1.1505941647974545,
          0.3185331783207228,
          0.8562093507089286,
          -0.651604128474846,
          0.45198833264601274,
          1.3482242401288627,
          0.8353632247445613,
          -1.6635070300669133,
          1.166008542614696,
          -1.062260511565378,
          0.5730805504655455,
          -0.08993760847573472,
          -0.43617816768055856,
          -1.5656173028182858,
          1.165886988023119,
          0.6929846977776724,
          0.8990660463253227,
          0.8770676699379643,
          0.35505829390139904,
          -2.3865360599607173,
          -0.6196681063548992,
          0.09208226131825127,
          -1.0205102925440586,
          -0.06404273101740816
         ]
        },
        {
         "line": {
          "color": "rgba(55, 128, 191, 1.0)",
          "dash": "solid",
          "shape": "linear",
          "width": 1.3
         },
         "mode": "lines",
         "name": "B",
         "text": "",
         "type": "scatter",
         "x": [
          0,
          1,
          2,
          3,
          4,
          5,
          6,
          7,
          8,
          9,
          10,
          11,
          12,
          13,
          14,
          15,
          16,
          17,
          18,
          19,
          20,
          21,
          22,
          23,
          24,
          25,
          26,
          27,
          28,
          29,
          30,
          31,
          32,
          33,
          34,
          35,
          36,
          37,
          38,
          39,
          40,
          41,
          42,
          43,
          44,
          45,
          46,
          47,
          48,
          49,
          50,
          51,
          52,
          53,
          54,
          55,
          56,
          57,
          58,
          59,
          60,
          61,
          62,
          63,
          64,
          65,
          66,
          67,
          68,
          69,
          70,
          71,
          72,
          73,
          74,
          75,
          76,
          77,
          78,
          79,
          80,
          81,
          82,
          83,
          84,
          85,
          86,
          87,
          88,
          89,
          90,
          91,
          92,
          93,
          94,
          95,
          96,
          97,
          98,
          99
         ],
         "y": [
          0.07185369046079401,
          0.29267616132149354,
          1.3359631098647982,
          0.545107252353979,
          0.023573072156253636,
          1.7806383033831787,
          -0.41920654167464244,
          0.004753334568482668,
          -2.7545563538357722,
          0.07041581324653917,
          -1.364304744464887,
          0.718262483781206,
          0.37671176544749074,
          -1.0847088557375442,
          1.6187844586389555,
          -0.41038939569643645,
          0.9022879204128095,
          0.07470444368018322,
          -0.7584331811688072,
          0.3479398247480616,
          0.8397792016531902,
          0.2845358694450361,
          0.19511201142922244,
          -0.010539222850371364,
          -0.14990513147805898,
          -0.37005534246633354,
          0.16154465308645954,
          -0.9630652851775763,
          0.579517364159973,
          -1.4035777230307875,
          -0.14667617489278087,
          0.429449098925077,
          1.440046259087059,
          2.779703254185213,
          -1.514950174241543,
          -0.38314255705606365,
          -0.28049090845899743,
          -1.6463839162523453,
          0.9295239384079738,
          0.7384350925009466,
          0.10959327433895386,
          -0.39257212731936186,
          0.23713498567784455,
          -1.7154102455070654,
          0.20760628052385752,
          -1.2702993648325682,
          0.07927160209414827,
          -0.4941781039881184,
          -0.5452131194133613,
          0.8346752200099381,
          0.21672730634365797,
          2.0009415803598136,
          -0.4925540797247069,
          0.290306402115402,
          -2.7768372967908723,
          -0.01243405416751847,
          -0.6796710071224988,
          -0.5173016212189284,
          0.011980851961724251,
          -0.4746822465762274,
          -0.5944376172789942,
          0.1581220435820472,
          1.26495408912878,
          -1.0696550732525592,
          0.013027485374751303,
          -0.4319955499309191,
          1.3510716342226594,
          0.47790259237997684,
          1.270129257323493,
          -0.7962319883857973,
          0.4221151806341645,
          1.2241360896242566,
          1.2238455887227986,
          0.5360442855369453,
          0.026539491263576968,
          0.16069619963252837,
          -0.11268005216683398,
          0.9944938623906966,
          0.4271947826458063,
          1.149959525055607,
          1.1635316140334477,
          -0.5986582879739627,
          -0.7622941206283473,
          0.23379827654993318,
          1.303149004453367,
          1.287826099022475,
          1.2714709343016026,
          -0.35790525271922513,
          -0.6941904164226653,
          -0.21990783839232766,
          0.4049388044447175,
          -0.7029717255640098,
          2.1418061547745078,
          -0.04272070937948088,
          0.00047843236067118583,
          0.40654832502335314,
          -0.9318105156963058,
          1.6492233784140895,
          -0.11745673997334564,
          0.1436187868780339
         ]
        },
        {
         "connectgaps": false,
         "fill": "tozeroy",
         "line": {
          "color": "green",
          "dash": "solid",
          "shape": "linear",
          "width": 0.5
         },
         "mode": "lines",
         "name": "Spread",
         "showlegend": false,
         "type": "scatter",
         "x": [
          0,
          1,
          2,
          3,
          4,
          5,
          6,
          7,
          8,
          9,
          10,
          11,
          12,
          13,
          14,
          15,
          16,
          17,
          18,
          19,
          20,
          21,
          22,
          23,
          24,
          25,
          26,
          27,
          28,
          29,
          30,
          31,
          32,
          33,
          34,
          35,
          36,
          37,
          38,
          39,
          40,
          41,
          42,
          43,
          44,
          45,
          46,
          47,
          48,
          49,
          50,
          51,
          52,
          53,
          54,
          55,
          56,
          57,
          58,
          59,
          60,
          61,
          62,
          63,
          64,
          65,
          66,
          67,
          68,
          69,
          70,
          71,
          72,
          73,
          74,
          75,
          76,
          77,
          78,
          79,
          80,
          81,
          82,
          83,
          84,
          85,
          86,
          87,
          88,
          89,
          90,
          91,
          92,
          93,
          94,
          95,
          96,
          97,
          98,
          99
         ],
         "xaxis": "x2",
         "y": [
          "",
          0.3621228385433616,
          "",
          0.4195609303032145,
          0.397624487592641,
          "",
          0.19731044504161413,
          0.5627857922500098,
          2.6086595957850864,
          0.22796391964768503,
          1.6124324631699167,
          "",
          0.5216472203081234,
          0.16416368689160832,
          "",
          "",
          "",
          "",
          1.8038557267426483,
          "",
          1.0486407724452644,
          0.23046402894832768,
          "",
          "",
          "",
          "",
          "",
          0.5141375869318783,
          0.12264779283976568,
          1.576699607104105,
          0.9764016658741322,
          "",
          "",
          "",
          0.9532294081013425,
          "",
          0.7963804315549594,
          0.8338149916568381,
          "",
          "",
          0.994519775441155,
          1.4231927879268595,
          0.7484517764007009,
          3.71816717284739,
          0.056220365271486356,
          1.3138082779338627,
          0.7969738108259722,
          0.4065861225554082,
          1.3577363011272472,
          "",
          0.3440459990724566,
          "",
          1.6117257560437999,
          0.24851482709482792,
          3.047658777668817,
          "",
          1.9343804211533224,
          0.8200353559313305,
          "",
          0.993215793186499,
          1.4135285151964019,
          1.4061636265468926,
          "",
          0.9650113011262831,
          "",
          "",
          0.6887284186963791,
          "",
          "",
          1.7140950299553486,
          1.4947874327056403,
          "",
          "",
          "",
          0.6533601500095609,
          "",
          "",
          "",
          0.42901456806312227,
          "",
          "",
          1.9468825281028255,
          1.5976573453729086,
          "",
          "",
          "",
          "",
          0.2679676442434904,
          0.25801224874210676,
          "",
          0.7609481835784015,
          1.3959564233416821,
          "",
          0.9197883793174452,
          0.35457986154072785,
          "",
          0.3121424093414066,
          "",
          "",
          ""
         ],
         "yaxis": "y2"
        },
        {
         "connectgaps": false,
         "fill": "tozeroy",
         "line": {
          "color": "red",
          "dash": "solid",
          "shape": "linear",
          "width": 0.5
         },
         "mode": "lines",
         "name": "Spread",
         "showlegend": false,
         "type": "scatter",
         "x": [
          0,
          1,
          2,
          3,
          4,
          5,
          6,
          7,
          8,
          9,
          10,
          11,
          12,
          13,
          14,
          15,
          16,
          17,
          18,
          19,
          20,
          21,
          22,
          23,
          24,
          25,
          26,
          27,
          28,
          29,
          30,
          31,
          32,
          33,
          34,
          35,
          36,
          37,
          38,
          39,
          40,
          41,
          42,
          43,
          44,
          45,
          46,
          47,
          48,
          49,
          50,
          51,
          52,
          53,
          54,
          55,
          56,
          57,
          58,
          59,
          60,
          61,
          62,
          63,
          64,
          65,
          66,
          67,
          68,
          69,
          70,
          71,
          72,
          73,
          74,
          75,
          76,
          77,
          78,
          79,
          80,
          81,
          82,
          83,
          84,
          85,
          86,
          87,
          88,
          89,
          90,
          91,
          92,
          93,
          94,
          95,
          96,
          97,
          98,
          99
         ],
         "xaxis": "x2",
         "y": [
          -1.211272420462826,
          "",
          -0.9451172755283013,
          "",
          "",
          -2.0193721575323056,
          "",
          "",
          "",
          "",
          "",
          -1.677828145866169,
          "",
          "",
          -2.5261555234455226,
          -0.1054286873557076,
          -0.5453896844603796,
          -0.12510326123006843,
          "",
          -1.3761374090711995,
          "",
          "",
          -0.6563689735794225,
          -2.0343452615343356,
          -2.1143730831308116,
          -0.9988625028861902,
          -0.6549327425257394,
          "",
          "",
          "",
          "",
          -1.638467871050588,
          -2.104402653039147,
          -2.819409091185197,
          "",
          -1.179983400747926,
          "",
          "",
          -0.09428591710259926,
          -1.2205560779686222,
          "",
          "",
          "",
          "",
          "",
          "",
          "",
          "",
          "",
          -1.742226554810038,
          "",
          -2.239593986726149,
          "",
          "",
          "",
          -0.18324182427594374,
          "",
          "",
          -1.1815053787107868,
          "",
          "",
          "",
          -1.4489225840683821,
          "",
          -0.3869177706933201,
          -0.6258238148115784,
          "",
          -0.9565134132373955,
          -1.5307957805604562,
          "",
          "",
          -0.47539727109234464,
          -3.5317994594100286,
          -0.5811728254301851,
          "",
          -0.6475769845388808,
          -1.0379141126306204,
          -0.6759606840699738,
          "",
          -1.801563653530453,
          -0.711543281387435,
          "",
          "",
          -1.8973053066168464,
          -0.1371404618386709,
          -2.3500866105878533,
          -0.6983903838360571,
          "",
          "",
          -1.3457094644259582,
          "",
          "",
          -1.2427401084491851,
          "",
          "",
          -2.7930843849840703,
          "",
          -1.5571411170958382,
          -0.903053552570713,
          -0.20766151789544207
         ],
         "yaxis": "y2"
        }
       ],
       "layout": {
        "hovermode": "x",
        "legend": {
         "bgcolor": "#F5F6F9",
         "font": {
          "color": "#4D5663"
         }
        },
        "paper_bgcolor": "#F5F6F9",
        "plot_bgcolor": "#F5F6F9",
        "template": {
         "data": {
          "bar": [
           {
            "error_x": {
             "color": "#2a3f5f"
            },
            "error_y": {
             "color": "#2a3f5f"
            },
            "marker": {
             "line": {
              "color": "#E5ECF6",
              "width": 0.5
             }
            },
            "type": "bar"
           }
          ],
          "barpolar": [
           {
            "marker": {
             "line": {
              "color": "#E5ECF6",
              "width": 0.5
             }
            },
            "type": "barpolar"
           }
          ],
          "carpet": [
           {
            "aaxis": {
             "endlinecolor": "#2a3f5f",
             "gridcolor": "white",
             "linecolor": "white",
             "minorgridcolor": "white",
             "startlinecolor": "#2a3f5f"
            },
            "baxis": {
             "endlinecolor": "#2a3f5f",
             "gridcolor": "white",
             "linecolor": "white",
             "minorgridcolor": "white",
             "startlinecolor": "#2a3f5f"
            },
            "type": "carpet"
           }
          ],
          "choropleth": [
           {
            "colorbar": {
             "outlinewidth": 0,
             "ticks": ""
            },
            "type": "choropleth"
           }
          ],
          "contour": [
           {
            "colorbar": {
             "outlinewidth": 0,
             "ticks": ""
            },
            "colorscale": [
             [
              0,
              "#0d0887"
             ],
             [
              0.1111111111111111,
              "#46039f"
             ],
             [
              0.2222222222222222,
              "#7201a8"
             ],
             [
              0.3333333333333333,
              "#9c179e"
             ],
             [
              0.4444444444444444,
              "#bd3786"
             ],
             [
              0.5555555555555556,
              "#d8576b"
             ],
             [
              0.6666666666666666,
              "#ed7953"
             ],
             [
              0.7777777777777778,
              "#fb9f3a"
             ],
             [
              0.8888888888888888,
              "#fdca26"
             ],
             [
              1,
              "#f0f921"
             ]
            ],
            "type": "contour"
           }
          ],
          "contourcarpet": [
           {
            "colorbar": {
             "outlinewidth": 0,
             "ticks": ""
            },
            "type": "contourcarpet"
           }
          ],
          "heatmap": [
           {
            "colorbar": {
             "outlinewidth": 0,
             "ticks": ""
            },
            "colorscale": [
             [
              0,
              "#0d0887"
             ],
             [
              0.1111111111111111,
              "#46039f"
             ],
             [
              0.2222222222222222,
              "#7201a8"
             ],
             [
              0.3333333333333333,
              "#9c179e"
             ],
             [
              0.4444444444444444,
              "#bd3786"
             ],
             [
              0.5555555555555556,
              "#d8576b"
             ],
             [
              0.6666666666666666,
              "#ed7953"
             ],
             [
              0.7777777777777778,
              "#fb9f3a"
             ],
             [
              0.8888888888888888,
              "#fdca26"
             ],
             [
              1,
              "#f0f921"
             ]
            ],
            "type": "heatmap"
           }
          ],
          "heatmapgl": [
           {
            "colorbar": {
             "outlinewidth": 0,
             "ticks": ""
            },
            "colorscale": [
             [
              0,
              "#0d0887"
             ],
             [
              0.1111111111111111,
              "#46039f"
             ],
             [
              0.2222222222222222,
              "#7201a8"
             ],
             [
              0.3333333333333333,
              "#9c179e"
             ],
             [
              0.4444444444444444,
              "#bd3786"
             ],
             [
              0.5555555555555556,
              "#d8576b"
             ],
             [
              0.6666666666666666,
              "#ed7953"
             ],
             [
              0.7777777777777778,
              "#fb9f3a"
             ],
             [
              0.8888888888888888,
              "#fdca26"
             ],
             [
              1,
              "#f0f921"
             ]
            ],
            "type": "heatmapgl"
           }
          ],
          "histogram": [
           {
            "marker": {
             "colorbar": {
              "outlinewidth": 0,
              "ticks": ""
             }
            },
            "type": "histogram"
           }
          ],
          "histogram2d": [
           {
            "colorbar": {
             "outlinewidth": 0,
             "ticks": ""
            },
            "colorscale": [
             [
              0,
              "#0d0887"
             ],
             [
              0.1111111111111111,
              "#46039f"
             ],
             [
              0.2222222222222222,
              "#7201a8"
             ],
             [
              0.3333333333333333,
              "#9c179e"
             ],
             [
              0.4444444444444444,
              "#bd3786"
             ],
             [
              0.5555555555555556,
              "#d8576b"
             ],
             [
              0.6666666666666666,
              "#ed7953"
             ],
             [
              0.7777777777777778,
              "#fb9f3a"
             ],
             [
              0.8888888888888888,
              "#fdca26"
             ],
             [
              1,
              "#f0f921"
             ]
            ],
            "type": "histogram2d"
           }
          ],
          "histogram2dcontour": [
           {
            "colorbar": {
             "outlinewidth": 0,
             "ticks": ""
            },
            "colorscale": [
             [
              0,
              "#0d0887"
             ],
             [
              0.1111111111111111,
              "#46039f"
             ],
             [
              0.2222222222222222,
              "#7201a8"
             ],
             [
              0.3333333333333333,
              "#9c179e"
             ],
             [
              0.4444444444444444,
              "#bd3786"
             ],
             [
              0.5555555555555556,
              "#d8576b"
             ],
             [
              0.6666666666666666,
              "#ed7953"
             ],
             [
              0.7777777777777778,
              "#fb9f3a"
             ],
             [
              0.8888888888888888,
              "#fdca26"
             ],
             [
              1,
              "#f0f921"
             ]
            ],
            "type": "histogram2dcontour"
           }
          ],
          "mesh3d": [
           {
            "colorbar": {
             "outlinewidth": 0,
             "ticks": ""
            },
            "type": "mesh3d"
           }
          ],
          "parcoords": [
           {
            "line": {
             "colorbar": {
              "outlinewidth": 0,
              "ticks": ""
             }
            },
            "type": "parcoords"
           }
          ],
          "pie": [
           {
            "automargin": true,
            "type": "pie"
           }
          ],
          "scatter": [
           {
            "marker": {
             "colorbar": {
              "outlinewidth": 0,
              "ticks": ""
             }
            },
            "type": "scatter"
           }
          ],
          "scatter3d": [
           {
            "line": {
             "colorbar": {
              "outlinewidth": 0,
              "ticks": ""
             }
            },
            "marker": {
             "colorbar": {
              "outlinewidth": 0,
              "ticks": ""
             }
            },
            "type": "scatter3d"
           }
          ],
          "scattercarpet": [
           {
            "marker": {
             "colorbar": {
              "outlinewidth": 0,
              "ticks": ""
             }
            },
            "type": "scattercarpet"
           }
          ],
          "scattergeo": [
           {
            "marker": {
             "colorbar": {
              "outlinewidth": 0,
              "ticks": ""
             }
            },
            "type": "scattergeo"
           }
          ],
          "scattergl": [
           {
            "marker": {
             "colorbar": {
              "outlinewidth": 0,
              "ticks": ""
             }
            },
            "type": "scattergl"
           }
          ],
          "scattermapbox": [
           {
            "marker": {
             "colorbar": {
              "outlinewidth": 0,
              "ticks": ""
             }
            },
            "type": "scattermapbox"
           }
          ],
          "scatterpolar": [
           {
            "marker": {
             "colorbar": {
              "outlinewidth": 0,
              "ticks": ""
             }
            },
            "type": "scatterpolar"
           }
          ],
          "scatterpolargl": [
           {
            "marker": {
             "colorbar": {
              "outlinewidth": 0,
              "ticks": ""
             }
            },
            "type": "scatterpolargl"
           }
          ],
          "scatterternary": [
           {
            "marker": {
             "colorbar": {
              "outlinewidth": 0,
              "ticks": ""
             }
            },
            "type": "scatterternary"
           }
          ],
          "surface": [
           {
            "colorbar": {
             "outlinewidth": 0,
             "ticks": ""
            },
            "colorscale": [
             [
              0,
              "#0d0887"
             ],
             [
              0.1111111111111111,
              "#46039f"
             ],
             [
              0.2222222222222222,
              "#7201a8"
             ],
             [
              0.3333333333333333,
              "#9c179e"
             ],
             [
              0.4444444444444444,
              "#bd3786"
             ],
             [
              0.5555555555555556,
              "#d8576b"
             ],
             [
              0.6666666666666666,
              "#ed7953"
             ],
             [
              0.7777777777777778,
              "#fb9f3a"
             ],
             [
              0.8888888888888888,
              "#fdca26"
             ],
             [
              1,
              "#f0f921"
             ]
            ],
            "type": "surface"
           }
          ],
          "table": [
           {
            "cells": {
             "fill": {
              "color": "#EBF0F8"
             },
             "line": {
              "color": "white"
             }
            },
            "header": {
             "fill": {
              "color": "#C8D4E3"
             },
             "line": {
              "color": "white"
             }
            },
            "type": "table"
           }
          ]
         },
         "layout": {
          "annotationdefaults": {
           "arrowcolor": "#2a3f5f",
           "arrowhead": 0,
           "arrowwidth": 1
          },
          "coloraxis": {
           "colorbar": {
            "outlinewidth": 0,
            "ticks": ""
           }
          },
          "colorscale": {
           "diverging": [
            [
             0,
             "#8e0152"
            ],
            [
             0.1,
             "#c51b7d"
            ],
            [
             0.2,
             "#de77ae"
            ],
            [
             0.3,
             "#f1b6da"
            ],
            [
             0.4,
             "#fde0ef"
            ],
            [
             0.5,
             "#f7f7f7"
            ],
            [
             0.6,
             "#e6f5d0"
            ],
            [
             0.7,
             "#b8e186"
            ],
            [
             0.8,
             "#7fbc41"
            ],
            [
             0.9,
             "#4d9221"
            ],
            [
             1,
             "#276419"
            ]
           ],
           "sequential": [
            [
             0,
             "#0d0887"
            ],
            [
             0.1111111111111111,
             "#46039f"
            ],
            [
             0.2222222222222222,
             "#7201a8"
            ],
            [
             0.3333333333333333,
             "#9c179e"
            ],
            [
             0.4444444444444444,
             "#bd3786"
            ],
            [
             0.5555555555555556,
             "#d8576b"
            ],
            [
             0.6666666666666666,
             "#ed7953"
            ],
            [
             0.7777777777777778,
             "#fb9f3a"
            ],
            [
             0.8888888888888888,
             "#fdca26"
            ],
            [
             1,
             "#f0f921"
            ]
           ],
           "sequentialminus": [
            [
             0,
             "#0d0887"
            ],
            [
             0.1111111111111111,
             "#46039f"
            ],
            [
             0.2222222222222222,
             "#7201a8"
            ],
            [
             0.3333333333333333,
             "#9c179e"
            ],
            [
             0.4444444444444444,
             "#bd3786"
            ],
            [
             0.5555555555555556,
             "#d8576b"
            ],
            [
             0.6666666666666666,
             "#ed7953"
            ],
            [
             0.7777777777777778,
             "#fb9f3a"
            ],
            [
             0.8888888888888888,
             "#fdca26"
            ],
            [
             1,
             "#f0f921"
            ]
           ]
          },
          "colorway": [
           "#636efa",
           "#EF553B",
           "#00cc96",
           "#ab63fa",
           "#FFA15A",
           "#19d3f3",
           "#FF6692",
           "#B6E880",
           "#FF97FF",
           "#FECB52"
          ],
          "font": {
           "color": "#2a3f5f"
          },
          "geo": {
           "bgcolor": "white",
           "lakecolor": "white",
           "landcolor": "#E5ECF6",
           "showlakes": true,
           "showland": true,
           "subunitcolor": "white"
          },
          "hoverlabel": {
           "align": "left"
          },
          "hovermode": "closest",
          "mapbox": {
           "style": "light"
          },
          "paper_bgcolor": "white",
          "plot_bgcolor": "#E5ECF6",
          "polar": {
           "angularaxis": {
            "gridcolor": "white",
            "linecolor": "white",
            "ticks": ""
           },
           "bgcolor": "#E5ECF6",
           "radialaxis": {
            "gridcolor": "white",
            "linecolor": "white",
            "ticks": ""
           }
          },
          "scene": {
           "xaxis": {
            "backgroundcolor": "#E5ECF6",
            "gridcolor": "white",
            "gridwidth": 2,
            "linecolor": "white",
            "showbackground": true,
            "ticks": "",
            "zerolinecolor": "white"
           },
           "yaxis": {
            "backgroundcolor": "#E5ECF6",
            "gridcolor": "white",
            "gridwidth": 2,
            "linecolor": "white",
            "showbackground": true,
            "ticks": "",
            "zerolinecolor": "white"
           },
           "zaxis": {
            "backgroundcolor": "#E5ECF6",
            "gridcolor": "white",
            "gridwidth": 2,
            "linecolor": "white",
            "showbackground": true,
            "ticks": "",
            "zerolinecolor": "white"
           }
          },
          "shapedefaults": {
           "line": {
            "color": "#2a3f5f"
           }
          },
          "ternary": {
           "aaxis": {
            "gridcolor": "white",
            "linecolor": "white",
            "ticks": ""
           },
           "baxis": {
            "gridcolor": "white",
            "linecolor": "white",
            "ticks": ""
           },
           "bgcolor": "#E5ECF6",
           "caxis": {
            "gridcolor": "white",
            "linecolor": "white",
            "ticks": ""
           }
          },
          "title": {
           "x": 0.05
          },
          "xaxis": {
           "automargin": true,
           "gridcolor": "white",
           "linecolor": "white",
           "ticks": "",
           "title": {
            "standoff": 15
           },
           "zerolinecolor": "white",
           "zerolinewidth": 2
          },
          "yaxis": {
           "automargin": true,
           "gridcolor": "white",
           "linecolor": "white",
           "ticks": "",
           "title": {
            "standoff": 15
           },
           "zerolinecolor": "white",
           "zerolinewidth": 2
          }
         }
        },
        "title": {
         "font": {
          "color": "#4D5663"
         }
        },
        "xaxis": {
         "gridcolor": "#E1E5ED",
         "showgrid": true,
         "tickfont": {
          "color": "#4D5663"
         },
         "title": {
          "font": {
           "color": "#4D5663"
          },
          "text": ""
         },
         "zerolinecolor": "#E1E5ED"
        },
        "xaxis2": {
         "anchor": "y2",
         "gridcolor": "#E1E5ED",
         "showgrid": true,
         "showticklabels": false,
         "tickfont": {
          "color": "#4D5663"
         },
         "title": {
          "font": {
           "color": "#4D5663"
          },
          "text": ""
         },
         "zerolinecolor": "#E1E5ED"
        },
        "yaxis": {
         "domain": [
          0.3,
          1
         ],
         "gridcolor": "#E1E5ED",
         "showgrid": true,
         "tickfont": {
          "color": "#4D5663"
         },
         "title": {
          "font": {
           "color": "#4D5663"
          },
          "text": ""
         },
         "zerolinecolor": "#E1E5ED"
        },
        "yaxis2": {
         "domain": [
          0,
          0.25
         ],
         "gridcolor": "#E1E5ED",
         "showgrid": true,
         "tickfont": {
          "color": "#4D5663"
         },
         "title": {
          "font": {
           "color": "#4D5663"
          },
          "text": "Spread"
         },
         "zerolinecolor": "#E1E5ED"
        }
       }
      },
      "text/html": [
       "<div>\n",
       "        \n",
       "        \n",
       "            <div id=\"7b869c45-a4f0-417c-a9f2-b83b94ca3dc3\" class=\"plotly-graph-div\" style=\"height:525px; width:100%;\"></div>\n",
       "            <script type=\"text/javascript\">\n",
       "                require([\"plotly\"], function(Plotly) {\n",
       "                    window.PLOTLYENV=window.PLOTLYENV || {};\n",
       "                    window.PLOTLYENV.BASE_URL='https://plot.ly';\n",
       "                    \n",
       "                if (document.getElementById(\"7b869c45-a4f0-417c-a9f2-b83b94ca3dc3\")) {\n",
       "                    Plotly.newPlot(\n",
       "                        '7b869c45-a4f0-417c-a9f2-b83b94ca3dc3',\n",
       "                        [{\"line\": {\"color\": \"rgba(255, 153, 51, 1.0)\", \"dash\": \"solid\", \"shape\": \"linear\", \"width\": 1.3}, \"mode\": \"lines\", \"name\": \"A\", \"text\": \"\", \"type\": \"scatter\", \"x\": [0, 1, 2, 3, 4, 5, 6, 7, 8, 9, 10, 11, 12, 13, 14, 15, 16, 17, 18, 19, 20, 21, 22, 23, 24, 25, 26, 27, 28, 29, 30, 31, 32, 33, 34, 35, 36, 37, 38, 39, 40, 41, 42, 43, 44, 45, 46, 47, 48, 49, 50, 51, 52, 53, 54, 55, 56, 57, 58, 59, 60, 61, 62, 63, 64, 65, 66, 67, 68, 69, 70, 71, 72, 73, 74, 75, 76, 77, 78, 79, 80, 81, 82, 83, 84, 85, 86, 87, 88, 89, 90, 91, 92, 93, 94, 95, 96, 97, 98, 99], \"y\": [-1.139418730002032, 0.6547989998648551, 0.39084583433649694, 0.9646681826571936, 0.42119755974889467, -0.23873385414912676, -0.2218960966330283, 0.5675391268184925, -0.14589675805068572, 0.2983797328942242, 0.2481277187050298, -0.959565662084963, 0.8983589857556141, -0.9205451688459358, -0.9073710648065669, -0.515818083052144, 0.3568982359524299, -0.05039881754988521, 1.045422545573841, -1.028197584323138, 1.8884199740984546, 0.5149998983933638, -0.4612569621502, -2.044884484384707, -2.2642782146088707, -1.3689178453525237, -0.4933880894392799, -0.44892769824569806, 0.7021651569997387, 0.17312188407331758, 0.8297254909813514, -1.209018772125511, -0.6643563939520879, -0.03970583699998416, -0.5617207661402005, -1.5631259578039896, 0.515889523095962, -0.8125689245955071, 0.8352380213053745, -0.4821209854676755, 1.1041130497801088, 1.0306206606074977, 0.9855867620785455, 2.0027569273403243, 0.2638266457953439, 0.04350891310129441, 0.8762454129201205, -0.08759198143271017, 0.8125231817138858, -0.9075513348000999, 0.5607733054161146, -0.23865240636633556, 1.1191716763190929, 0.5388212292102299, 0.27082148087794466, -0.1956758784434622, 1.2547094140308235, 0.302733734712402, -1.1695245267490626, 0.5185335466102716, 0.8190908979174077, 1.5642856701289398, -0.1839684949396022, -0.10464377212627611, -0.3738902853185688, -1.0578193647424976, 2.0398000529190385, -0.47861082085741863, -0.26066652323696304, 0.9178630415695512, 1.9169026133398048, 0.7487388185319119, -2.30795387068723, -0.04512853989323989, 0.679899641273138, -0.48688078490635245, -1.1505941647974545, 0.3185331783207228, 0.8562093507089286, -0.651604128474846, 0.45198833264601274, 1.3482242401288627, 0.8353632247445613, -1.6635070300669133, 1.166008542614696, -1.062260511565378, 0.5730805504655455, -0.08993760847573472, -0.43617816768055856, -1.5656173028182858, 1.165886988023119, 0.6929846977776724, 0.8990660463253227, 0.8770676699379643, 0.35505829390139904, -2.3865360599607173, -0.6196681063548992, 0.09208226131825127, -1.0205102925440586, -0.06404273101740816]}, {\"line\": {\"color\": \"rgba(55, 128, 191, 1.0)\", \"dash\": \"solid\", \"shape\": \"linear\", \"width\": 1.3}, \"mode\": \"lines\", \"name\": \"B\", \"text\": \"\", \"type\": \"scatter\", \"x\": [0, 1, 2, 3, 4, 5, 6, 7, 8, 9, 10, 11, 12, 13, 14, 15, 16, 17, 18, 19, 20, 21, 22, 23, 24, 25, 26, 27, 28, 29, 30, 31, 32, 33, 34, 35, 36, 37, 38, 39, 40, 41, 42, 43, 44, 45, 46, 47, 48, 49, 50, 51, 52, 53, 54, 55, 56, 57, 58, 59, 60, 61, 62, 63, 64, 65, 66, 67, 68, 69, 70, 71, 72, 73, 74, 75, 76, 77, 78, 79, 80, 81, 82, 83, 84, 85, 86, 87, 88, 89, 90, 91, 92, 93, 94, 95, 96, 97, 98, 99], \"y\": [0.07185369046079401, 0.29267616132149354, 1.3359631098647982, 0.545107252353979, 0.023573072156253636, 1.7806383033831787, -0.41920654167464244, 0.004753334568482668, -2.7545563538357722, 0.07041581324653917, -1.364304744464887, 0.718262483781206, 0.37671176544749074, -1.0847088557375442, 1.6187844586389555, -0.41038939569643645, 0.9022879204128095, 0.07470444368018322, -0.7584331811688072, 0.3479398247480616, 0.8397792016531902, 0.2845358694450361, 0.19511201142922244, -0.010539222850371364, -0.14990513147805898, -0.37005534246633354, 0.16154465308645954, -0.9630652851775763, 0.579517364159973, -1.4035777230307875, -0.14667617489278087, 0.429449098925077, 1.440046259087059, 2.779703254185213, -1.514950174241543, -0.38314255705606365, -0.28049090845899743, -1.6463839162523453, 0.9295239384079738, 0.7384350925009466, 0.10959327433895386, -0.39257212731936186, 0.23713498567784455, -1.7154102455070654, 0.20760628052385752, -1.2702993648325682, 0.07927160209414827, -0.4941781039881184, -0.5452131194133613, 0.8346752200099381, 0.21672730634365797, 2.0009415803598136, -0.4925540797247069, 0.290306402115402, -2.7768372967908723, -0.01243405416751847, -0.6796710071224988, -0.5173016212189284, 0.011980851961724251, -0.4746822465762274, -0.5944376172789942, 0.1581220435820472, 1.26495408912878, -1.0696550732525592, 0.013027485374751303, -0.4319955499309191, 1.3510716342226594, 0.47790259237997684, 1.270129257323493, -0.7962319883857973, 0.4221151806341645, 1.2241360896242566, 1.2238455887227986, 0.5360442855369453, 0.026539491263576968, 0.16069619963252837, -0.11268005216683398, 0.9944938623906966, 0.4271947826458063, 1.149959525055607, 1.1635316140334477, -0.5986582879739627, -0.7622941206283473, 0.23379827654993318, 1.303149004453367, 1.287826099022475, 1.2714709343016026, -0.35790525271922513, -0.6941904164226653, -0.21990783839232766, 0.4049388044447175, -0.7029717255640098, 2.1418061547745078, -0.04272070937948088, 0.00047843236067118583, 0.40654832502335314, -0.9318105156963058, 1.6492233784140895, -0.11745673997334564, 0.1436187868780339]}, {\"connectgaps\": false, \"fill\": \"tozeroy\", \"line\": {\"color\": \"green\", \"dash\": \"solid\", \"shape\": \"linear\", \"width\": 0.5}, \"mode\": \"lines\", \"name\": \"Spread\", \"showlegend\": false, \"type\": \"scatter\", \"x\": [0, 1, 2, 3, 4, 5, 6, 7, 8, 9, 10, 11, 12, 13, 14, 15, 16, 17, 18, 19, 20, 21, 22, 23, 24, 25, 26, 27, 28, 29, 30, 31, 32, 33, 34, 35, 36, 37, 38, 39, 40, 41, 42, 43, 44, 45, 46, 47, 48, 49, 50, 51, 52, 53, 54, 55, 56, 57, 58, 59, 60, 61, 62, 63, 64, 65, 66, 67, 68, 69, 70, 71, 72, 73, 74, 75, 76, 77, 78, 79, 80, 81, 82, 83, 84, 85, 86, 87, 88, 89, 90, 91, 92, 93, 94, 95, 96, 97, 98, 99], \"xaxis\": \"x2\", \"y\": [\"\", 0.3621228385433616, \"\", 0.4195609303032145, 0.397624487592641, \"\", 0.19731044504161413, 0.5627857922500098, 2.6086595957850864, 0.22796391964768503, 1.6124324631699167, \"\", 0.5216472203081234, 0.16416368689160832, \"\", \"\", \"\", \"\", 1.8038557267426483, \"\", 1.0486407724452644, 0.23046402894832768, \"\", \"\", \"\", \"\", \"\", 0.5141375869318783, 0.12264779283976568, 1.576699607104105, 0.9764016658741322, \"\", \"\", \"\", 0.9532294081013425, \"\", 0.7963804315549594, 0.8338149916568381, \"\", \"\", 0.994519775441155, 1.4231927879268595, 0.7484517764007009, 3.71816717284739, 0.056220365271486356, 1.3138082779338627, 0.7969738108259722, 0.4065861225554082, 1.3577363011272472, \"\", 0.3440459990724566, \"\", 1.6117257560437999, 0.24851482709482792, 3.047658777668817, \"\", 1.9343804211533224, 0.8200353559313305, \"\", 0.993215793186499, 1.4135285151964019, 1.4061636265468926, \"\", 0.9650113011262831, \"\", \"\", 0.6887284186963791, \"\", \"\", 1.7140950299553486, 1.4947874327056403, \"\", \"\", \"\", 0.6533601500095609, \"\", \"\", \"\", 0.42901456806312227, \"\", \"\", 1.9468825281028255, 1.5976573453729086, \"\", \"\", \"\", \"\", 0.2679676442434904, 0.25801224874210676, \"\", 0.7609481835784015, 1.3959564233416821, \"\", 0.9197883793174452, 0.35457986154072785, \"\", 0.3121424093414066, \"\", \"\", \"\"], \"yaxis\": \"y2\"}, {\"connectgaps\": false, \"fill\": \"tozeroy\", \"line\": {\"color\": \"red\", \"dash\": \"solid\", \"shape\": \"linear\", \"width\": 0.5}, \"mode\": \"lines\", \"name\": \"Spread\", \"showlegend\": false, \"type\": \"scatter\", \"x\": [0, 1, 2, 3, 4, 5, 6, 7, 8, 9, 10, 11, 12, 13, 14, 15, 16, 17, 18, 19, 20, 21, 22, 23, 24, 25, 26, 27, 28, 29, 30, 31, 32, 33, 34, 35, 36, 37, 38, 39, 40, 41, 42, 43, 44, 45, 46, 47, 48, 49, 50, 51, 52, 53, 54, 55, 56, 57, 58, 59, 60, 61, 62, 63, 64, 65, 66, 67, 68, 69, 70, 71, 72, 73, 74, 75, 76, 77, 78, 79, 80, 81, 82, 83, 84, 85, 86, 87, 88, 89, 90, 91, 92, 93, 94, 95, 96, 97, 98, 99], \"xaxis\": \"x2\", \"y\": [-1.211272420462826, \"\", -0.9451172755283013, \"\", \"\", -2.0193721575323056, \"\", \"\", \"\", \"\", \"\", -1.677828145866169, \"\", \"\", -2.5261555234455226, -0.1054286873557076, -0.5453896844603796, -0.12510326123006843, \"\", -1.3761374090711995, \"\", \"\", -0.6563689735794225, -2.0343452615343356, -2.1143730831308116, -0.9988625028861902, -0.6549327425257394, \"\", \"\", \"\", \"\", -1.638467871050588, -2.104402653039147, -2.819409091185197, \"\", -1.179983400747926, \"\", \"\", -0.09428591710259926, -1.2205560779686222, \"\", \"\", \"\", \"\", \"\", \"\", \"\", \"\", \"\", -1.742226554810038, \"\", -2.239593986726149, \"\", \"\", \"\", -0.18324182427594374, \"\", \"\", -1.1815053787107868, \"\", \"\", \"\", -1.4489225840683821, \"\", -0.3869177706933201, -0.6258238148115784, \"\", -0.9565134132373955, -1.5307957805604562, \"\", \"\", -0.47539727109234464, -3.5317994594100286, -0.5811728254301851, \"\", -0.6475769845388808, -1.0379141126306204, -0.6759606840699738, \"\", -1.801563653530453, -0.711543281387435, \"\", \"\", -1.8973053066168464, -0.1371404618386709, -2.3500866105878533, -0.6983903838360571, \"\", \"\", -1.3457094644259582, \"\", \"\", -1.2427401084491851, \"\", \"\", -2.7930843849840703, \"\", -1.5571411170958382, -0.903053552570713, -0.20766151789544207], \"yaxis\": \"y2\"}],\n",
       "                        {\"hovermode\": \"x\", \"legend\": {\"bgcolor\": \"#F5F6F9\", \"font\": {\"color\": \"#4D5663\"}}, \"paper_bgcolor\": \"#F5F6F9\", \"plot_bgcolor\": \"#F5F6F9\", \"template\": {\"data\": {\"bar\": [{\"error_x\": {\"color\": \"#2a3f5f\"}, \"error_y\": {\"color\": \"#2a3f5f\"}, \"marker\": {\"line\": {\"color\": \"#E5ECF6\", \"width\": 0.5}}, \"type\": \"bar\"}], \"barpolar\": [{\"marker\": {\"line\": {\"color\": \"#E5ECF6\", \"width\": 0.5}}, \"type\": \"barpolar\"}], \"carpet\": [{\"aaxis\": {\"endlinecolor\": \"#2a3f5f\", \"gridcolor\": \"white\", \"linecolor\": \"white\", \"minorgridcolor\": \"white\", \"startlinecolor\": \"#2a3f5f\"}, \"baxis\": {\"endlinecolor\": \"#2a3f5f\", \"gridcolor\": \"white\", \"linecolor\": \"white\", \"minorgridcolor\": \"white\", \"startlinecolor\": \"#2a3f5f\"}, \"type\": \"carpet\"}], \"choropleth\": [{\"colorbar\": {\"outlinewidth\": 0, \"ticks\": \"\"}, \"type\": \"choropleth\"}], \"contour\": [{\"colorbar\": {\"outlinewidth\": 0, \"ticks\": \"\"}, \"colorscale\": [[0.0, \"#0d0887\"], [0.1111111111111111, \"#46039f\"], [0.2222222222222222, \"#7201a8\"], [0.3333333333333333, \"#9c179e\"], [0.4444444444444444, \"#bd3786\"], [0.5555555555555556, \"#d8576b\"], [0.6666666666666666, \"#ed7953\"], [0.7777777777777778, \"#fb9f3a\"], [0.8888888888888888, \"#fdca26\"], [1.0, \"#f0f921\"]], \"type\": \"contour\"}], \"contourcarpet\": [{\"colorbar\": {\"outlinewidth\": 0, \"ticks\": \"\"}, \"type\": \"contourcarpet\"}], \"heatmap\": [{\"colorbar\": {\"outlinewidth\": 0, \"ticks\": \"\"}, \"colorscale\": [[0.0, \"#0d0887\"], [0.1111111111111111, \"#46039f\"], [0.2222222222222222, \"#7201a8\"], [0.3333333333333333, \"#9c179e\"], [0.4444444444444444, \"#bd3786\"], [0.5555555555555556, \"#d8576b\"], [0.6666666666666666, \"#ed7953\"], [0.7777777777777778, \"#fb9f3a\"], [0.8888888888888888, \"#fdca26\"], [1.0, \"#f0f921\"]], \"type\": \"heatmap\"}], \"heatmapgl\": [{\"colorbar\": {\"outlinewidth\": 0, \"ticks\": \"\"}, \"colorscale\": [[0.0, \"#0d0887\"], [0.1111111111111111, \"#46039f\"], [0.2222222222222222, \"#7201a8\"], [0.3333333333333333, \"#9c179e\"], [0.4444444444444444, \"#bd3786\"], [0.5555555555555556, \"#d8576b\"], [0.6666666666666666, \"#ed7953\"], [0.7777777777777778, \"#fb9f3a\"], [0.8888888888888888, \"#fdca26\"], [1.0, \"#f0f921\"]], \"type\": \"heatmapgl\"}], \"histogram\": [{\"marker\": {\"colorbar\": {\"outlinewidth\": 0, \"ticks\": \"\"}}, \"type\": \"histogram\"}], \"histogram2d\": [{\"colorbar\": {\"outlinewidth\": 0, \"ticks\": \"\"}, \"colorscale\": [[0.0, \"#0d0887\"], [0.1111111111111111, \"#46039f\"], [0.2222222222222222, \"#7201a8\"], [0.3333333333333333, \"#9c179e\"], [0.4444444444444444, \"#bd3786\"], [0.5555555555555556, \"#d8576b\"], [0.6666666666666666, \"#ed7953\"], [0.7777777777777778, \"#fb9f3a\"], [0.8888888888888888, \"#fdca26\"], [1.0, \"#f0f921\"]], \"type\": \"histogram2d\"}], \"histogram2dcontour\": [{\"colorbar\": {\"outlinewidth\": 0, \"ticks\": \"\"}, \"colorscale\": [[0.0, \"#0d0887\"], [0.1111111111111111, \"#46039f\"], [0.2222222222222222, \"#7201a8\"], [0.3333333333333333, \"#9c179e\"], [0.4444444444444444, \"#bd3786\"], [0.5555555555555556, \"#d8576b\"], [0.6666666666666666, \"#ed7953\"], [0.7777777777777778, \"#fb9f3a\"], [0.8888888888888888, \"#fdca26\"], [1.0, \"#f0f921\"]], \"type\": \"histogram2dcontour\"}], \"mesh3d\": [{\"colorbar\": {\"outlinewidth\": 0, \"ticks\": \"\"}, \"type\": \"mesh3d\"}], \"parcoords\": [{\"line\": {\"colorbar\": {\"outlinewidth\": 0, \"ticks\": \"\"}}, \"type\": \"parcoords\"}], \"pie\": [{\"automargin\": true, \"type\": \"pie\"}], \"scatter\": [{\"marker\": {\"colorbar\": {\"outlinewidth\": 0, \"ticks\": \"\"}}, \"type\": \"scatter\"}], \"scatter3d\": [{\"line\": {\"colorbar\": {\"outlinewidth\": 0, \"ticks\": \"\"}}, \"marker\": {\"colorbar\": {\"outlinewidth\": 0, \"ticks\": \"\"}}, \"type\": \"scatter3d\"}], \"scattercarpet\": [{\"marker\": {\"colorbar\": {\"outlinewidth\": 0, \"ticks\": \"\"}}, \"type\": \"scattercarpet\"}], \"scattergeo\": [{\"marker\": {\"colorbar\": {\"outlinewidth\": 0, \"ticks\": \"\"}}, \"type\": \"scattergeo\"}], \"scattergl\": [{\"marker\": {\"colorbar\": {\"outlinewidth\": 0, \"ticks\": \"\"}}, \"type\": \"scattergl\"}], \"scattermapbox\": [{\"marker\": {\"colorbar\": {\"outlinewidth\": 0, \"ticks\": \"\"}}, \"type\": \"scattermapbox\"}], \"scatterpolar\": [{\"marker\": {\"colorbar\": {\"outlinewidth\": 0, \"ticks\": \"\"}}, \"type\": \"scatterpolar\"}], \"scatterpolargl\": [{\"marker\": {\"colorbar\": {\"outlinewidth\": 0, \"ticks\": \"\"}}, \"type\": \"scatterpolargl\"}], \"scatterternary\": [{\"marker\": {\"colorbar\": {\"outlinewidth\": 0, \"ticks\": \"\"}}, \"type\": \"scatterternary\"}], \"surface\": [{\"colorbar\": {\"outlinewidth\": 0, \"ticks\": \"\"}, \"colorscale\": [[0.0, \"#0d0887\"], [0.1111111111111111, \"#46039f\"], [0.2222222222222222, \"#7201a8\"], [0.3333333333333333, \"#9c179e\"], [0.4444444444444444, \"#bd3786\"], [0.5555555555555556, \"#d8576b\"], [0.6666666666666666, \"#ed7953\"], [0.7777777777777778, \"#fb9f3a\"], [0.8888888888888888, \"#fdca26\"], [1.0, \"#f0f921\"]], \"type\": \"surface\"}], \"table\": [{\"cells\": {\"fill\": {\"color\": \"#EBF0F8\"}, \"line\": {\"color\": \"white\"}}, \"header\": {\"fill\": {\"color\": \"#C8D4E3\"}, \"line\": {\"color\": \"white\"}}, \"type\": \"table\"}]}, \"layout\": {\"annotationdefaults\": {\"arrowcolor\": \"#2a3f5f\", \"arrowhead\": 0, \"arrowwidth\": 1}, \"coloraxis\": {\"colorbar\": {\"outlinewidth\": 0, \"ticks\": \"\"}}, \"colorscale\": {\"diverging\": [[0, \"#8e0152\"], [0.1, \"#c51b7d\"], [0.2, \"#de77ae\"], [0.3, \"#f1b6da\"], [0.4, \"#fde0ef\"], [0.5, \"#f7f7f7\"], [0.6, \"#e6f5d0\"], [0.7, \"#b8e186\"], [0.8, \"#7fbc41\"], [0.9, \"#4d9221\"], [1, \"#276419\"]], \"sequential\": [[0.0, \"#0d0887\"], [0.1111111111111111, \"#46039f\"], [0.2222222222222222, \"#7201a8\"], [0.3333333333333333, \"#9c179e\"], [0.4444444444444444, \"#bd3786\"], [0.5555555555555556, \"#d8576b\"], [0.6666666666666666, \"#ed7953\"], [0.7777777777777778, \"#fb9f3a\"], [0.8888888888888888, \"#fdca26\"], [1.0, \"#f0f921\"]], \"sequentialminus\": [[0.0, \"#0d0887\"], [0.1111111111111111, \"#46039f\"], [0.2222222222222222, \"#7201a8\"], [0.3333333333333333, \"#9c179e\"], [0.4444444444444444, \"#bd3786\"], [0.5555555555555556, \"#d8576b\"], [0.6666666666666666, \"#ed7953\"], [0.7777777777777778, \"#fb9f3a\"], [0.8888888888888888, \"#fdca26\"], [1.0, \"#f0f921\"]]}, \"colorway\": [\"#636efa\", \"#EF553B\", \"#00cc96\", \"#ab63fa\", \"#FFA15A\", \"#19d3f3\", \"#FF6692\", \"#B6E880\", \"#FF97FF\", \"#FECB52\"], \"font\": {\"color\": \"#2a3f5f\"}, \"geo\": {\"bgcolor\": \"white\", \"lakecolor\": \"white\", \"landcolor\": \"#E5ECF6\", \"showlakes\": true, \"showland\": true, \"subunitcolor\": \"white\"}, \"hoverlabel\": {\"align\": \"left\"}, \"hovermode\": \"closest\", \"mapbox\": {\"style\": \"light\"}, \"paper_bgcolor\": \"white\", \"plot_bgcolor\": \"#E5ECF6\", \"polar\": {\"angularaxis\": {\"gridcolor\": \"white\", \"linecolor\": \"white\", \"ticks\": \"\"}, \"bgcolor\": \"#E5ECF6\", \"radialaxis\": {\"gridcolor\": \"white\", \"linecolor\": \"white\", \"ticks\": \"\"}}, \"scene\": {\"xaxis\": {\"backgroundcolor\": \"#E5ECF6\", \"gridcolor\": \"white\", \"gridwidth\": 2, \"linecolor\": \"white\", \"showbackground\": true, \"ticks\": \"\", \"zerolinecolor\": \"white\"}, \"yaxis\": {\"backgroundcolor\": \"#E5ECF6\", \"gridcolor\": \"white\", \"gridwidth\": 2, \"linecolor\": \"white\", \"showbackground\": true, \"ticks\": \"\", \"zerolinecolor\": \"white\"}, \"zaxis\": {\"backgroundcolor\": \"#E5ECF6\", \"gridcolor\": \"white\", \"gridwidth\": 2, \"linecolor\": \"white\", \"showbackground\": true, \"ticks\": \"\", \"zerolinecolor\": \"white\"}}, \"shapedefaults\": {\"line\": {\"color\": \"#2a3f5f\"}}, \"ternary\": {\"aaxis\": {\"gridcolor\": \"white\", \"linecolor\": \"white\", \"ticks\": \"\"}, \"baxis\": {\"gridcolor\": \"white\", \"linecolor\": \"white\", \"ticks\": \"\"}, \"bgcolor\": \"#E5ECF6\", \"caxis\": {\"gridcolor\": \"white\", \"linecolor\": \"white\", \"ticks\": \"\"}}, \"title\": {\"x\": 0.05}, \"xaxis\": {\"automargin\": true, \"gridcolor\": \"white\", \"linecolor\": \"white\", \"ticks\": \"\", \"title\": {\"standoff\": 15}, \"zerolinecolor\": \"white\", \"zerolinewidth\": 2}, \"yaxis\": {\"automargin\": true, \"gridcolor\": \"white\", \"linecolor\": \"white\", \"ticks\": \"\", \"title\": {\"standoff\": 15}, \"zerolinecolor\": \"white\", \"zerolinewidth\": 2}}}, \"title\": {\"font\": {\"color\": \"#4D5663\"}}, \"xaxis\": {\"gridcolor\": \"#E1E5ED\", \"showgrid\": true, \"tickfont\": {\"color\": \"#4D5663\"}, \"title\": {\"font\": {\"color\": \"#4D5663\"}, \"text\": \"\"}, \"zerolinecolor\": \"#E1E5ED\"}, \"xaxis2\": {\"anchor\": \"y2\", \"gridcolor\": \"#E1E5ED\", \"showgrid\": true, \"showticklabels\": false, \"tickfont\": {\"color\": \"#4D5663\"}, \"title\": {\"font\": {\"color\": \"#4D5663\"}, \"text\": \"\"}, \"zerolinecolor\": \"#E1E5ED\"}, \"yaxis\": {\"domain\": [0.3, 1], \"gridcolor\": \"#E1E5ED\", \"showgrid\": true, \"tickfont\": {\"color\": \"#4D5663\"}, \"title\": {\"font\": {\"color\": \"#4D5663\"}, \"text\": \"\"}, \"zerolinecolor\": \"#E1E5ED\"}, \"yaxis2\": {\"domain\": [0, 0.25], \"gridcolor\": \"#E1E5ED\", \"showgrid\": true, \"tickfont\": {\"color\": \"#4D5663\"}, \"title\": {\"font\": {\"color\": \"#4D5663\"}, \"text\": \"Spread\"}, \"zerolinecolor\": \"#E1E5ED\"}},\n",
       "                        {\"showLink\": true, \"linkText\": \"Export to plot.ly\", \"plotlyServerURL\": \"https://plot.ly\", \"responsive\": true}\n",
       "                    ).then(function(){\n",
       "                            \n",
       "var gd = document.getElementById('7b869c45-a4f0-417c-a9f2-b83b94ca3dc3');\n",
       "var x = new MutationObserver(function (mutations, observer) {{\n",
       "        var display = window.getComputedStyle(gd).display;\n",
       "        if (!display || display === 'none') {{\n",
       "            console.log([gd, 'removed!']);\n",
       "            Plotly.purge(gd);\n",
       "            observer.disconnect();\n",
       "        }}\n",
       "}});\n",
       "\n",
       "// Listen for the removal of the full notebook cells\n",
       "var notebookContainer = gd.closest('#notebook-container');\n",
       "if (notebookContainer) {{\n",
       "    x.observe(notebookContainer, {childList: true});\n",
       "}}\n",
       "\n",
       "// Listen for the clearing of the current output cell\n",
       "var outputEl = gd.closest('.output');\n",
       "if (outputEl) {{\n",
       "    x.observe(outputEl, {childList: true});\n",
       "}}\n",
       "\n",
       "                        })\n",
       "                };\n",
       "                });\n",
       "            </script>\n",
       "        </div>"
      ]
     },
     "metadata": {},
     "output_type": "display_data"
    }
   ],
   "source": [
    "df[['A','B']].iplot(kind='spread')"
   ]
  },
  {
   "cell_type": "markdown",
   "metadata": {},
   "source": [
    "## histogram"
   ]
  },
  {
   "cell_type": "code",
   "execution_count": 16,
   "metadata": {},
   "outputs": [
    {
     "data": {
      "application/vnd.plotly.v1+json": {
       "config": {
        "linkText": "Export to plot.ly",
        "plotlyServerURL": "https://plot.ly",
        "showLink": true
       },
       "data": [
        {
         "histfunc": "count",
         "histnorm": "",
         "marker": {
          "color": "rgba(255, 153, 51, 1.0)",
          "line": {
           "color": "#4D5663",
           "width": 1.3
          }
         },
         "name": "A",
         "nbinsx": 25,
         "opacity": 0.8,
         "orientation": "v",
         "type": "histogram",
         "x": [
          -1.139418730002032,
          0.6547989998648551,
          0.39084583433649694,
          0.9646681826571936,
          0.42119755974889467,
          -0.23873385414912676,
          -0.2218960966330283,
          0.5675391268184925,
          -0.14589675805068572,
          0.2983797328942242,
          0.2481277187050298,
          -0.959565662084963,
          0.8983589857556141,
          -0.9205451688459358,
          -0.9073710648065669,
          -0.515818083052144,
          0.3568982359524299,
          -0.05039881754988521,
          1.045422545573841,
          -1.028197584323138,
          1.8884199740984546,
          0.5149998983933638,
          -0.4612569621502,
          -2.044884484384707,
          -2.2642782146088707,
          -1.3689178453525237,
          -0.4933880894392799,
          -0.44892769824569806,
          0.7021651569997387,
          0.17312188407331758,
          0.8297254909813514,
          -1.209018772125511,
          -0.6643563939520879,
          -0.03970583699998416,
          -0.5617207661402005,
          -1.5631259578039896,
          0.515889523095962,
          -0.8125689245955071,
          0.8352380213053745,
          -0.4821209854676755,
          1.1041130497801088,
          1.0306206606074977,
          0.9855867620785455,
          2.0027569273403243,
          0.2638266457953439,
          0.04350891310129441,
          0.8762454129201205,
          -0.08759198143271017,
          0.8125231817138858,
          -0.9075513348000999,
          0.5607733054161146,
          -0.23865240636633556,
          1.1191716763190929,
          0.5388212292102299,
          0.27082148087794466,
          -0.1956758784434622,
          1.2547094140308235,
          0.302733734712402,
          -1.1695245267490626,
          0.5185335466102716,
          0.8190908979174077,
          1.5642856701289398,
          -0.1839684949396022,
          -0.10464377212627611,
          -0.3738902853185688,
          -1.0578193647424976,
          2.0398000529190385,
          -0.47861082085741863,
          -0.26066652323696304,
          0.9178630415695512,
          1.9169026133398048,
          0.7487388185319119,
          -2.30795387068723,
          -0.04512853989323989,
          0.679899641273138,
          -0.48688078490635245,
          -1.1505941647974545,
          0.3185331783207228,
          0.8562093507089286,
          -0.651604128474846,
          0.45198833264601274,
          1.3482242401288627,
          0.8353632247445613,
          -1.6635070300669133,
          1.166008542614696,
          -1.062260511565378,
          0.5730805504655455,
          -0.08993760847573472,
          -0.43617816768055856,
          -1.5656173028182858,
          1.165886988023119,
          0.6929846977776724,
          0.8990660463253227,
          0.8770676699379643,
          0.35505829390139904,
          -2.3865360599607173,
          -0.6196681063548992,
          0.09208226131825127,
          -1.0205102925440586,
          -0.06404273101740816
         ]
        }
       ],
       "layout": {
        "barmode": "overlay",
        "legend": {
         "bgcolor": "#F5F6F9",
         "font": {
          "color": "#4D5663"
         }
        },
        "paper_bgcolor": "#F5F6F9",
        "plot_bgcolor": "#F5F6F9",
        "template": {
         "data": {
          "bar": [
           {
            "error_x": {
             "color": "#2a3f5f"
            },
            "error_y": {
             "color": "#2a3f5f"
            },
            "marker": {
             "line": {
              "color": "#E5ECF6",
              "width": 0.5
             }
            },
            "type": "bar"
           }
          ],
          "barpolar": [
           {
            "marker": {
             "line": {
              "color": "#E5ECF6",
              "width": 0.5
             }
            },
            "type": "barpolar"
           }
          ],
          "carpet": [
           {
            "aaxis": {
             "endlinecolor": "#2a3f5f",
             "gridcolor": "white",
             "linecolor": "white",
             "minorgridcolor": "white",
             "startlinecolor": "#2a3f5f"
            },
            "baxis": {
             "endlinecolor": "#2a3f5f",
             "gridcolor": "white",
             "linecolor": "white",
             "minorgridcolor": "white",
             "startlinecolor": "#2a3f5f"
            },
            "type": "carpet"
           }
          ],
          "choropleth": [
           {
            "colorbar": {
             "outlinewidth": 0,
             "ticks": ""
            },
            "type": "choropleth"
           }
          ],
          "contour": [
           {
            "colorbar": {
             "outlinewidth": 0,
             "ticks": ""
            },
            "colorscale": [
             [
              0,
              "#0d0887"
             ],
             [
              0.1111111111111111,
              "#46039f"
             ],
             [
              0.2222222222222222,
              "#7201a8"
             ],
             [
              0.3333333333333333,
              "#9c179e"
             ],
             [
              0.4444444444444444,
              "#bd3786"
             ],
             [
              0.5555555555555556,
              "#d8576b"
             ],
             [
              0.6666666666666666,
              "#ed7953"
             ],
             [
              0.7777777777777778,
              "#fb9f3a"
             ],
             [
              0.8888888888888888,
              "#fdca26"
             ],
             [
              1,
              "#f0f921"
             ]
            ],
            "type": "contour"
           }
          ],
          "contourcarpet": [
           {
            "colorbar": {
             "outlinewidth": 0,
             "ticks": ""
            },
            "type": "contourcarpet"
           }
          ],
          "heatmap": [
           {
            "colorbar": {
             "outlinewidth": 0,
             "ticks": ""
            },
            "colorscale": [
             [
              0,
              "#0d0887"
             ],
             [
              0.1111111111111111,
              "#46039f"
             ],
             [
              0.2222222222222222,
              "#7201a8"
             ],
             [
              0.3333333333333333,
              "#9c179e"
             ],
             [
              0.4444444444444444,
              "#bd3786"
             ],
             [
              0.5555555555555556,
              "#d8576b"
             ],
             [
              0.6666666666666666,
              "#ed7953"
             ],
             [
              0.7777777777777778,
              "#fb9f3a"
             ],
             [
              0.8888888888888888,
              "#fdca26"
             ],
             [
              1,
              "#f0f921"
             ]
            ],
            "type": "heatmap"
           }
          ],
          "heatmapgl": [
           {
            "colorbar": {
             "outlinewidth": 0,
             "ticks": ""
            },
            "colorscale": [
             [
              0,
              "#0d0887"
             ],
             [
              0.1111111111111111,
              "#46039f"
             ],
             [
              0.2222222222222222,
              "#7201a8"
             ],
             [
              0.3333333333333333,
              "#9c179e"
             ],
             [
              0.4444444444444444,
              "#bd3786"
             ],
             [
              0.5555555555555556,
              "#d8576b"
             ],
             [
              0.6666666666666666,
              "#ed7953"
             ],
             [
              0.7777777777777778,
              "#fb9f3a"
             ],
             [
              0.8888888888888888,
              "#fdca26"
             ],
             [
              1,
              "#f0f921"
             ]
            ],
            "type": "heatmapgl"
           }
          ],
          "histogram": [
           {
            "marker": {
             "colorbar": {
              "outlinewidth": 0,
              "ticks": ""
             }
            },
            "type": "histogram"
           }
          ],
          "histogram2d": [
           {
            "colorbar": {
             "outlinewidth": 0,
             "ticks": ""
            },
            "colorscale": [
             [
              0,
              "#0d0887"
             ],
             [
              0.1111111111111111,
              "#46039f"
             ],
             [
              0.2222222222222222,
              "#7201a8"
             ],
             [
              0.3333333333333333,
              "#9c179e"
             ],
             [
              0.4444444444444444,
              "#bd3786"
             ],
             [
              0.5555555555555556,
              "#d8576b"
             ],
             [
              0.6666666666666666,
              "#ed7953"
             ],
             [
              0.7777777777777778,
              "#fb9f3a"
             ],
             [
              0.8888888888888888,
              "#fdca26"
             ],
             [
              1,
              "#f0f921"
             ]
            ],
            "type": "histogram2d"
           }
          ],
          "histogram2dcontour": [
           {
            "colorbar": {
             "outlinewidth": 0,
             "ticks": ""
            },
            "colorscale": [
             [
              0,
              "#0d0887"
             ],
             [
              0.1111111111111111,
              "#46039f"
             ],
             [
              0.2222222222222222,
              "#7201a8"
             ],
             [
              0.3333333333333333,
              "#9c179e"
             ],
             [
              0.4444444444444444,
              "#bd3786"
             ],
             [
              0.5555555555555556,
              "#d8576b"
             ],
             [
              0.6666666666666666,
              "#ed7953"
             ],
             [
              0.7777777777777778,
              "#fb9f3a"
             ],
             [
              0.8888888888888888,
              "#fdca26"
             ],
             [
              1,
              "#f0f921"
             ]
            ],
            "type": "histogram2dcontour"
           }
          ],
          "mesh3d": [
           {
            "colorbar": {
             "outlinewidth": 0,
             "ticks": ""
            },
            "type": "mesh3d"
           }
          ],
          "parcoords": [
           {
            "line": {
             "colorbar": {
              "outlinewidth": 0,
              "ticks": ""
             }
            },
            "type": "parcoords"
           }
          ],
          "pie": [
           {
            "automargin": true,
            "type": "pie"
           }
          ],
          "scatter": [
           {
            "marker": {
             "colorbar": {
              "outlinewidth": 0,
              "ticks": ""
             }
            },
            "type": "scatter"
           }
          ],
          "scatter3d": [
           {
            "line": {
             "colorbar": {
              "outlinewidth": 0,
              "ticks": ""
             }
            },
            "marker": {
             "colorbar": {
              "outlinewidth": 0,
              "ticks": ""
             }
            },
            "type": "scatter3d"
           }
          ],
          "scattercarpet": [
           {
            "marker": {
             "colorbar": {
              "outlinewidth": 0,
              "ticks": ""
             }
            },
            "type": "scattercarpet"
           }
          ],
          "scattergeo": [
           {
            "marker": {
             "colorbar": {
              "outlinewidth": 0,
              "ticks": ""
             }
            },
            "type": "scattergeo"
           }
          ],
          "scattergl": [
           {
            "marker": {
             "colorbar": {
              "outlinewidth": 0,
              "ticks": ""
             }
            },
            "type": "scattergl"
           }
          ],
          "scattermapbox": [
           {
            "marker": {
             "colorbar": {
              "outlinewidth": 0,
              "ticks": ""
             }
            },
            "type": "scattermapbox"
           }
          ],
          "scatterpolar": [
           {
            "marker": {
             "colorbar": {
              "outlinewidth": 0,
              "ticks": ""
             }
            },
            "type": "scatterpolar"
           }
          ],
          "scatterpolargl": [
           {
            "marker": {
             "colorbar": {
              "outlinewidth": 0,
              "ticks": ""
             }
            },
            "type": "scatterpolargl"
           }
          ],
          "scatterternary": [
           {
            "marker": {
             "colorbar": {
              "outlinewidth": 0,
              "ticks": ""
             }
            },
            "type": "scatterternary"
           }
          ],
          "surface": [
           {
            "colorbar": {
             "outlinewidth": 0,
             "ticks": ""
            },
            "colorscale": [
             [
              0,
              "#0d0887"
             ],
             [
              0.1111111111111111,
              "#46039f"
             ],
             [
              0.2222222222222222,
              "#7201a8"
             ],
             [
              0.3333333333333333,
              "#9c179e"
             ],
             [
              0.4444444444444444,
              "#bd3786"
             ],
             [
              0.5555555555555556,
              "#d8576b"
             ],
             [
              0.6666666666666666,
              "#ed7953"
             ],
             [
              0.7777777777777778,
              "#fb9f3a"
             ],
             [
              0.8888888888888888,
              "#fdca26"
             ],
             [
              1,
              "#f0f921"
             ]
            ],
            "type": "surface"
           }
          ],
          "table": [
           {
            "cells": {
             "fill": {
              "color": "#EBF0F8"
             },
             "line": {
              "color": "white"
             }
            },
            "header": {
             "fill": {
              "color": "#C8D4E3"
             },
             "line": {
              "color": "white"
             }
            },
            "type": "table"
           }
          ]
         },
         "layout": {
          "annotationdefaults": {
           "arrowcolor": "#2a3f5f",
           "arrowhead": 0,
           "arrowwidth": 1
          },
          "coloraxis": {
           "colorbar": {
            "outlinewidth": 0,
            "ticks": ""
           }
          },
          "colorscale": {
           "diverging": [
            [
             0,
             "#8e0152"
            ],
            [
             0.1,
             "#c51b7d"
            ],
            [
             0.2,
             "#de77ae"
            ],
            [
             0.3,
             "#f1b6da"
            ],
            [
             0.4,
             "#fde0ef"
            ],
            [
             0.5,
             "#f7f7f7"
            ],
            [
             0.6,
             "#e6f5d0"
            ],
            [
             0.7,
             "#b8e186"
            ],
            [
             0.8,
             "#7fbc41"
            ],
            [
             0.9,
             "#4d9221"
            ],
            [
             1,
             "#276419"
            ]
           ],
           "sequential": [
            [
             0,
             "#0d0887"
            ],
            [
             0.1111111111111111,
             "#46039f"
            ],
            [
             0.2222222222222222,
             "#7201a8"
            ],
            [
             0.3333333333333333,
             "#9c179e"
            ],
            [
             0.4444444444444444,
             "#bd3786"
            ],
            [
             0.5555555555555556,
             "#d8576b"
            ],
            [
             0.6666666666666666,
             "#ed7953"
            ],
            [
             0.7777777777777778,
             "#fb9f3a"
            ],
            [
             0.8888888888888888,
             "#fdca26"
            ],
            [
             1,
             "#f0f921"
            ]
           ],
           "sequentialminus": [
            [
             0,
             "#0d0887"
            ],
            [
             0.1111111111111111,
             "#46039f"
            ],
            [
             0.2222222222222222,
             "#7201a8"
            ],
            [
             0.3333333333333333,
             "#9c179e"
            ],
            [
             0.4444444444444444,
             "#bd3786"
            ],
            [
             0.5555555555555556,
             "#d8576b"
            ],
            [
             0.6666666666666666,
             "#ed7953"
            ],
            [
             0.7777777777777778,
             "#fb9f3a"
            ],
            [
             0.8888888888888888,
             "#fdca26"
            ],
            [
             1,
             "#f0f921"
            ]
           ]
          },
          "colorway": [
           "#636efa",
           "#EF553B",
           "#00cc96",
           "#ab63fa",
           "#FFA15A",
           "#19d3f3",
           "#FF6692",
           "#B6E880",
           "#FF97FF",
           "#FECB52"
          ],
          "font": {
           "color": "#2a3f5f"
          },
          "geo": {
           "bgcolor": "white",
           "lakecolor": "white",
           "landcolor": "#E5ECF6",
           "showlakes": true,
           "showland": true,
           "subunitcolor": "white"
          },
          "hoverlabel": {
           "align": "left"
          },
          "hovermode": "closest",
          "mapbox": {
           "style": "light"
          },
          "paper_bgcolor": "white",
          "plot_bgcolor": "#E5ECF6",
          "polar": {
           "angularaxis": {
            "gridcolor": "white",
            "linecolor": "white",
            "ticks": ""
           },
           "bgcolor": "#E5ECF6",
           "radialaxis": {
            "gridcolor": "white",
            "linecolor": "white",
            "ticks": ""
           }
          },
          "scene": {
           "xaxis": {
            "backgroundcolor": "#E5ECF6",
            "gridcolor": "white",
            "gridwidth": 2,
            "linecolor": "white",
            "showbackground": true,
            "ticks": "",
            "zerolinecolor": "white"
           },
           "yaxis": {
            "backgroundcolor": "#E5ECF6",
            "gridcolor": "white",
            "gridwidth": 2,
            "linecolor": "white",
            "showbackground": true,
            "ticks": "",
            "zerolinecolor": "white"
           },
           "zaxis": {
            "backgroundcolor": "#E5ECF6",
            "gridcolor": "white",
            "gridwidth": 2,
            "linecolor": "white",
            "showbackground": true,
            "ticks": "",
            "zerolinecolor": "white"
           }
          },
          "shapedefaults": {
           "line": {
            "color": "#2a3f5f"
           }
          },
          "ternary": {
           "aaxis": {
            "gridcolor": "white",
            "linecolor": "white",
            "ticks": ""
           },
           "baxis": {
            "gridcolor": "white",
            "linecolor": "white",
            "ticks": ""
           },
           "bgcolor": "#E5ECF6",
           "caxis": {
            "gridcolor": "white",
            "linecolor": "white",
            "ticks": ""
           }
          },
          "title": {
           "x": 0.05
          },
          "xaxis": {
           "automargin": true,
           "gridcolor": "white",
           "linecolor": "white",
           "ticks": "",
           "title": {
            "standoff": 15
           },
           "zerolinecolor": "white",
           "zerolinewidth": 2
          },
          "yaxis": {
           "automargin": true,
           "gridcolor": "white",
           "linecolor": "white",
           "ticks": "",
           "title": {
            "standoff": 15
           },
           "zerolinecolor": "white",
           "zerolinewidth": 2
          }
         }
        },
        "title": {
         "font": {
          "color": "#4D5663"
         }
        },
        "xaxis": {
         "gridcolor": "#E1E5ED",
         "showgrid": true,
         "tickfont": {
          "color": "#4D5663"
         },
         "title": {
          "font": {
           "color": "#4D5663"
          },
          "text": ""
         },
         "zerolinecolor": "#E1E5ED"
        },
        "yaxis": {
         "gridcolor": "#E1E5ED",
         "showgrid": true,
         "tickfont": {
          "color": "#4D5663"
         },
         "title": {
          "font": {
           "color": "#4D5663"
          },
          "text": ""
         },
         "zerolinecolor": "#E1E5ED"
        }
       }
      },
      "text/html": [
       "<div>\n",
       "        \n",
       "        \n",
       "            <div id=\"4ac85091-723e-49b8-9781-ee88f6aac92f\" class=\"plotly-graph-div\" style=\"height:525px; width:100%;\"></div>\n",
       "            <script type=\"text/javascript\">\n",
       "                require([\"plotly\"], function(Plotly) {\n",
       "                    window.PLOTLYENV=window.PLOTLYENV || {};\n",
       "                    window.PLOTLYENV.BASE_URL='https://plot.ly';\n",
       "                    \n",
       "                if (document.getElementById(\"4ac85091-723e-49b8-9781-ee88f6aac92f\")) {\n",
       "                    Plotly.newPlot(\n",
       "                        '4ac85091-723e-49b8-9781-ee88f6aac92f',\n",
       "                        [{\"histfunc\": \"count\", \"histnorm\": \"\", \"marker\": {\"color\": \"rgba(255, 153, 51, 1.0)\", \"line\": {\"color\": \"#4D5663\", \"width\": 1.3}}, \"name\": \"A\", \"nbinsx\": 25, \"opacity\": 0.8, \"orientation\": \"v\", \"type\": \"histogram\", \"x\": [-1.139418730002032, 0.6547989998648551, 0.39084583433649694, 0.9646681826571936, 0.42119755974889467, -0.23873385414912676, -0.2218960966330283, 0.5675391268184925, -0.14589675805068572, 0.2983797328942242, 0.2481277187050298, -0.959565662084963, 0.8983589857556141, -0.9205451688459358, -0.9073710648065669, -0.515818083052144, 0.3568982359524299, -0.05039881754988521, 1.045422545573841, -1.028197584323138, 1.8884199740984546, 0.5149998983933638, -0.4612569621502, -2.044884484384707, -2.2642782146088707, -1.3689178453525237, -0.4933880894392799, -0.44892769824569806, 0.7021651569997387, 0.17312188407331758, 0.8297254909813514, -1.209018772125511, -0.6643563939520879, -0.03970583699998416, -0.5617207661402005, -1.5631259578039896, 0.515889523095962, -0.8125689245955071, 0.8352380213053745, -0.4821209854676755, 1.1041130497801088, 1.0306206606074977, 0.9855867620785455, 2.0027569273403243, 0.2638266457953439, 0.04350891310129441, 0.8762454129201205, -0.08759198143271017, 0.8125231817138858, -0.9075513348000999, 0.5607733054161146, -0.23865240636633556, 1.1191716763190929, 0.5388212292102299, 0.27082148087794466, -0.1956758784434622, 1.2547094140308235, 0.302733734712402, -1.1695245267490626, 0.5185335466102716, 0.8190908979174077, 1.5642856701289398, -0.1839684949396022, -0.10464377212627611, -0.3738902853185688, -1.0578193647424976, 2.0398000529190385, -0.47861082085741863, -0.26066652323696304, 0.9178630415695512, 1.9169026133398048, 0.7487388185319119, -2.30795387068723, -0.04512853989323989, 0.679899641273138, -0.48688078490635245, -1.1505941647974545, 0.3185331783207228, 0.8562093507089286, -0.651604128474846, 0.45198833264601274, 1.3482242401288627, 0.8353632247445613, -1.6635070300669133, 1.166008542614696, -1.062260511565378, 0.5730805504655455, -0.08993760847573472, -0.43617816768055856, -1.5656173028182858, 1.165886988023119, 0.6929846977776724, 0.8990660463253227, 0.8770676699379643, 0.35505829390139904, -2.3865360599607173, -0.6196681063548992, 0.09208226131825127, -1.0205102925440586, -0.06404273101740816]}],\n",
       "                        {\"barmode\": \"overlay\", \"legend\": {\"bgcolor\": \"#F5F6F9\", \"font\": {\"color\": \"#4D5663\"}}, \"paper_bgcolor\": \"#F5F6F9\", \"plot_bgcolor\": \"#F5F6F9\", \"template\": {\"data\": {\"bar\": [{\"error_x\": {\"color\": \"#2a3f5f\"}, \"error_y\": {\"color\": \"#2a3f5f\"}, \"marker\": {\"line\": {\"color\": \"#E5ECF6\", \"width\": 0.5}}, \"type\": \"bar\"}], \"barpolar\": [{\"marker\": {\"line\": {\"color\": \"#E5ECF6\", \"width\": 0.5}}, \"type\": \"barpolar\"}], \"carpet\": [{\"aaxis\": {\"endlinecolor\": \"#2a3f5f\", \"gridcolor\": \"white\", \"linecolor\": \"white\", \"minorgridcolor\": \"white\", \"startlinecolor\": \"#2a3f5f\"}, \"baxis\": {\"endlinecolor\": \"#2a3f5f\", \"gridcolor\": \"white\", \"linecolor\": \"white\", \"minorgridcolor\": \"white\", \"startlinecolor\": \"#2a3f5f\"}, \"type\": \"carpet\"}], \"choropleth\": [{\"colorbar\": {\"outlinewidth\": 0, \"ticks\": \"\"}, \"type\": \"choropleth\"}], \"contour\": [{\"colorbar\": {\"outlinewidth\": 0, \"ticks\": \"\"}, \"colorscale\": [[0.0, \"#0d0887\"], [0.1111111111111111, \"#46039f\"], [0.2222222222222222, \"#7201a8\"], [0.3333333333333333, \"#9c179e\"], [0.4444444444444444, \"#bd3786\"], [0.5555555555555556, \"#d8576b\"], [0.6666666666666666, \"#ed7953\"], [0.7777777777777778, \"#fb9f3a\"], [0.8888888888888888, \"#fdca26\"], [1.0, \"#f0f921\"]], \"type\": \"contour\"}], \"contourcarpet\": [{\"colorbar\": {\"outlinewidth\": 0, \"ticks\": \"\"}, \"type\": \"contourcarpet\"}], \"heatmap\": [{\"colorbar\": {\"outlinewidth\": 0, \"ticks\": \"\"}, \"colorscale\": [[0.0, \"#0d0887\"], [0.1111111111111111, \"#46039f\"], [0.2222222222222222, \"#7201a8\"], [0.3333333333333333, \"#9c179e\"], [0.4444444444444444, \"#bd3786\"], [0.5555555555555556, \"#d8576b\"], [0.6666666666666666, \"#ed7953\"], [0.7777777777777778, \"#fb9f3a\"], [0.8888888888888888, \"#fdca26\"], [1.0, \"#f0f921\"]], \"type\": \"heatmap\"}], \"heatmapgl\": [{\"colorbar\": {\"outlinewidth\": 0, \"ticks\": \"\"}, \"colorscale\": [[0.0, \"#0d0887\"], [0.1111111111111111, \"#46039f\"], [0.2222222222222222, \"#7201a8\"], [0.3333333333333333, \"#9c179e\"], [0.4444444444444444, \"#bd3786\"], [0.5555555555555556, \"#d8576b\"], [0.6666666666666666, \"#ed7953\"], [0.7777777777777778, \"#fb9f3a\"], [0.8888888888888888, \"#fdca26\"], [1.0, \"#f0f921\"]], \"type\": \"heatmapgl\"}], \"histogram\": [{\"marker\": {\"colorbar\": {\"outlinewidth\": 0, \"ticks\": \"\"}}, \"type\": \"histogram\"}], \"histogram2d\": [{\"colorbar\": {\"outlinewidth\": 0, \"ticks\": \"\"}, \"colorscale\": [[0.0, \"#0d0887\"], [0.1111111111111111, \"#46039f\"], [0.2222222222222222, \"#7201a8\"], [0.3333333333333333, \"#9c179e\"], [0.4444444444444444, \"#bd3786\"], [0.5555555555555556, \"#d8576b\"], [0.6666666666666666, \"#ed7953\"], [0.7777777777777778, \"#fb9f3a\"], [0.8888888888888888, \"#fdca26\"], [1.0, \"#f0f921\"]], \"type\": \"histogram2d\"}], \"histogram2dcontour\": [{\"colorbar\": {\"outlinewidth\": 0, \"ticks\": \"\"}, \"colorscale\": [[0.0, \"#0d0887\"], [0.1111111111111111, \"#46039f\"], [0.2222222222222222, \"#7201a8\"], [0.3333333333333333, \"#9c179e\"], [0.4444444444444444, \"#bd3786\"], [0.5555555555555556, \"#d8576b\"], [0.6666666666666666, \"#ed7953\"], [0.7777777777777778, \"#fb9f3a\"], [0.8888888888888888, \"#fdca26\"], [1.0, \"#f0f921\"]], \"type\": \"histogram2dcontour\"}], \"mesh3d\": [{\"colorbar\": {\"outlinewidth\": 0, \"ticks\": \"\"}, \"type\": \"mesh3d\"}], \"parcoords\": [{\"line\": {\"colorbar\": {\"outlinewidth\": 0, \"ticks\": \"\"}}, \"type\": \"parcoords\"}], \"pie\": [{\"automargin\": true, \"type\": \"pie\"}], \"scatter\": [{\"marker\": {\"colorbar\": {\"outlinewidth\": 0, \"ticks\": \"\"}}, \"type\": \"scatter\"}], \"scatter3d\": [{\"line\": {\"colorbar\": {\"outlinewidth\": 0, \"ticks\": \"\"}}, \"marker\": {\"colorbar\": {\"outlinewidth\": 0, \"ticks\": \"\"}}, \"type\": \"scatter3d\"}], \"scattercarpet\": [{\"marker\": {\"colorbar\": {\"outlinewidth\": 0, \"ticks\": \"\"}}, \"type\": \"scattercarpet\"}], \"scattergeo\": [{\"marker\": {\"colorbar\": {\"outlinewidth\": 0, \"ticks\": \"\"}}, \"type\": \"scattergeo\"}], \"scattergl\": [{\"marker\": {\"colorbar\": {\"outlinewidth\": 0, \"ticks\": \"\"}}, \"type\": \"scattergl\"}], \"scattermapbox\": [{\"marker\": {\"colorbar\": {\"outlinewidth\": 0, \"ticks\": \"\"}}, \"type\": \"scattermapbox\"}], \"scatterpolar\": [{\"marker\": {\"colorbar\": {\"outlinewidth\": 0, \"ticks\": \"\"}}, \"type\": \"scatterpolar\"}], \"scatterpolargl\": [{\"marker\": {\"colorbar\": {\"outlinewidth\": 0, \"ticks\": \"\"}}, \"type\": \"scatterpolargl\"}], \"scatterternary\": [{\"marker\": {\"colorbar\": {\"outlinewidth\": 0, \"ticks\": \"\"}}, \"type\": \"scatterternary\"}], \"surface\": [{\"colorbar\": {\"outlinewidth\": 0, \"ticks\": \"\"}, \"colorscale\": [[0.0, \"#0d0887\"], [0.1111111111111111, \"#46039f\"], [0.2222222222222222, \"#7201a8\"], [0.3333333333333333, \"#9c179e\"], [0.4444444444444444, \"#bd3786\"], [0.5555555555555556, \"#d8576b\"], [0.6666666666666666, \"#ed7953\"], [0.7777777777777778, \"#fb9f3a\"], [0.8888888888888888, \"#fdca26\"], [1.0, \"#f0f921\"]], \"type\": \"surface\"}], \"table\": [{\"cells\": {\"fill\": {\"color\": \"#EBF0F8\"}, \"line\": {\"color\": \"white\"}}, \"header\": {\"fill\": {\"color\": \"#C8D4E3\"}, \"line\": {\"color\": \"white\"}}, \"type\": \"table\"}]}, \"layout\": {\"annotationdefaults\": {\"arrowcolor\": \"#2a3f5f\", \"arrowhead\": 0, \"arrowwidth\": 1}, \"coloraxis\": {\"colorbar\": {\"outlinewidth\": 0, \"ticks\": \"\"}}, \"colorscale\": {\"diverging\": [[0, \"#8e0152\"], [0.1, \"#c51b7d\"], [0.2, \"#de77ae\"], [0.3, \"#f1b6da\"], [0.4, \"#fde0ef\"], [0.5, \"#f7f7f7\"], [0.6, \"#e6f5d0\"], [0.7, \"#b8e186\"], [0.8, \"#7fbc41\"], [0.9, \"#4d9221\"], [1, \"#276419\"]], \"sequential\": [[0.0, \"#0d0887\"], [0.1111111111111111, \"#46039f\"], [0.2222222222222222, \"#7201a8\"], [0.3333333333333333, \"#9c179e\"], [0.4444444444444444, \"#bd3786\"], [0.5555555555555556, \"#d8576b\"], [0.6666666666666666, \"#ed7953\"], [0.7777777777777778, \"#fb9f3a\"], [0.8888888888888888, \"#fdca26\"], [1.0, \"#f0f921\"]], \"sequentialminus\": [[0.0, \"#0d0887\"], [0.1111111111111111, \"#46039f\"], [0.2222222222222222, \"#7201a8\"], [0.3333333333333333, \"#9c179e\"], [0.4444444444444444, \"#bd3786\"], [0.5555555555555556, \"#d8576b\"], [0.6666666666666666, \"#ed7953\"], [0.7777777777777778, \"#fb9f3a\"], [0.8888888888888888, \"#fdca26\"], [1.0, \"#f0f921\"]]}, \"colorway\": [\"#636efa\", \"#EF553B\", \"#00cc96\", \"#ab63fa\", \"#FFA15A\", \"#19d3f3\", \"#FF6692\", \"#B6E880\", \"#FF97FF\", \"#FECB52\"], \"font\": {\"color\": \"#2a3f5f\"}, \"geo\": {\"bgcolor\": \"white\", \"lakecolor\": \"white\", \"landcolor\": \"#E5ECF6\", \"showlakes\": true, \"showland\": true, \"subunitcolor\": \"white\"}, \"hoverlabel\": {\"align\": \"left\"}, \"hovermode\": \"closest\", \"mapbox\": {\"style\": \"light\"}, \"paper_bgcolor\": \"white\", \"plot_bgcolor\": \"#E5ECF6\", \"polar\": {\"angularaxis\": {\"gridcolor\": \"white\", \"linecolor\": \"white\", \"ticks\": \"\"}, \"bgcolor\": \"#E5ECF6\", \"radialaxis\": {\"gridcolor\": \"white\", \"linecolor\": \"white\", \"ticks\": \"\"}}, \"scene\": {\"xaxis\": {\"backgroundcolor\": \"#E5ECF6\", \"gridcolor\": \"white\", \"gridwidth\": 2, \"linecolor\": \"white\", \"showbackground\": true, \"ticks\": \"\", \"zerolinecolor\": \"white\"}, \"yaxis\": {\"backgroundcolor\": \"#E5ECF6\", \"gridcolor\": \"white\", \"gridwidth\": 2, \"linecolor\": \"white\", \"showbackground\": true, \"ticks\": \"\", \"zerolinecolor\": \"white\"}, \"zaxis\": {\"backgroundcolor\": \"#E5ECF6\", \"gridcolor\": \"white\", \"gridwidth\": 2, \"linecolor\": \"white\", \"showbackground\": true, \"ticks\": \"\", \"zerolinecolor\": \"white\"}}, \"shapedefaults\": {\"line\": {\"color\": \"#2a3f5f\"}}, \"ternary\": {\"aaxis\": {\"gridcolor\": \"white\", \"linecolor\": \"white\", \"ticks\": \"\"}, \"baxis\": {\"gridcolor\": \"white\", \"linecolor\": \"white\", \"ticks\": \"\"}, \"bgcolor\": \"#E5ECF6\", \"caxis\": {\"gridcolor\": \"white\", \"linecolor\": \"white\", \"ticks\": \"\"}}, \"title\": {\"x\": 0.05}, \"xaxis\": {\"automargin\": true, \"gridcolor\": \"white\", \"linecolor\": \"white\", \"ticks\": \"\", \"title\": {\"standoff\": 15}, \"zerolinecolor\": \"white\", \"zerolinewidth\": 2}, \"yaxis\": {\"automargin\": true, \"gridcolor\": \"white\", \"linecolor\": \"white\", \"ticks\": \"\", \"title\": {\"standoff\": 15}, \"zerolinecolor\": \"white\", \"zerolinewidth\": 2}}}, \"title\": {\"font\": {\"color\": \"#4D5663\"}}, \"xaxis\": {\"gridcolor\": \"#E1E5ED\", \"showgrid\": true, \"tickfont\": {\"color\": \"#4D5663\"}, \"title\": {\"font\": {\"color\": \"#4D5663\"}, \"text\": \"\"}, \"zerolinecolor\": \"#E1E5ED\"}, \"yaxis\": {\"gridcolor\": \"#E1E5ED\", \"showgrid\": true, \"tickfont\": {\"color\": \"#4D5663\"}, \"title\": {\"font\": {\"color\": \"#4D5663\"}, \"text\": \"\"}, \"zerolinecolor\": \"#E1E5ED\"}},\n",
       "                        {\"showLink\": true, \"linkText\": \"Export to plot.ly\", \"plotlyServerURL\": \"https://plot.ly\", \"responsive\": true}\n",
       "                    ).then(function(){\n",
       "                            \n",
       "var gd = document.getElementById('4ac85091-723e-49b8-9781-ee88f6aac92f');\n",
       "var x = new MutationObserver(function (mutations, observer) {{\n",
       "        var display = window.getComputedStyle(gd).display;\n",
       "        if (!display || display === 'none') {{\n",
       "            console.log([gd, 'removed!']);\n",
       "            Plotly.purge(gd);\n",
       "            observer.disconnect();\n",
       "        }}\n",
       "}});\n",
       "\n",
       "// Listen for the removal of the full notebook cells\n",
       "var notebookContainer = gd.closest('#notebook-container');\n",
       "if (notebookContainer) {{\n",
       "    x.observe(notebookContainer, {childList: true});\n",
       "}}\n",
       "\n",
       "// Listen for the clearing of the current output cell\n",
       "var outputEl = gd.closest('.output');\n",
       "if (outputEl) {{\n",
       "    x.observe(outputEl, {childList: true});\n",
       "}}\n",
       "\n",
       "                        })\n",
       "                };\n",
       "                });\n",
       "            </script>\n",
       "        </div>"
      ]
     },
     "metadata": {},
     "output_type": "display_data"
    }
   ],
   "source": [
    "df['A'].iplot(kind='hist',bins=25)"
   ]
  },
  {
   "cell_type": "code",
   "execution_count": 17,
   "metadata": {},
   "outputs": [
    {
     "data": {
      "application/vnd.plotly.v1+json": {
       "config": {
        "linkText": "Export to plot.ly",
        "plotlyServerURL": "https://plot.ly",
        "showLink": true
       },
       "data": [
        {
         "marker": {
          "color": [
           "rgb(255, 153, 51)",
           "rgb(55, 128, 191)",
           "rgb(50, 171, 96)",
           "rgb(128, 0, 128)",
           "rgb(219, 64, 82)",
           "rgb(0, 128, 128)",
           "rgb(255, 255, 51)",
           "rgb(128, 128, 0)",
           "rgb(251, 128, 114)",
           "rgb(128, 177, 211)"
          ],
          "line": {
           "width": 1.3
          },
          "size": [
           54,
           47,
           71,
           63,
           91,
           43,
           43,
           64,
           79,
           62,
           26,
           68,
           52,
           84,
           68,
           42,
           76,
           45,
           112,
           76,
           68,
           31,
           78,
           13,
           69,
           75,
           37,
           46,
           82,
           48,
           76,
           70,
           86,
           38,
           50,
           64,
           57,
           76,
           51,
           81,
           78,
           71,
           66,
           89,
           62,
           33,
           82,
           25,
           96,
           12,
           45,
           65,
           59,
           55,
           19,
           62,
           63,
           74,
           70,
           48,
           25,
           45,
           49,
           86,
           102,
           53,
           37,
           94,
           78,
           67,
           46,
           90,
           12,
           47,
           64,
           43,
           90,
           71,
           68,
           18,
           29,
           87,
           82,
           67,
           74,
           50,
           64,
           69,
           52,
           53,
           20,
           79,
           29,
           60,
           89,
           51,
           30,
           16,
           22,
           61
          ],
          "symbol": "circle"
         },
         "mode": "markers",
         "text": "",
         "type": "scatter",
         "x": [
          -1.139418730002032,
          0.6547989998648551,
          0.39084583433649694,
          0.9646681826571936,
          0.42119755974889467,
          -0.23873385414912676,
          -0.2218960966330283,
          0.5675391268184925,
          -0.14589675805068572,
          0.2983797328942242,
          0.2481277187050298,
          -0.959565662084963,
          0.8983589857556141,
          -0.9205451688459358,
          -0.9073710648065669,
          -0.515818083052144,
          0.3568982359524299,
          -0.05039881754988521,
          1.045422545573841,
          -1.028197584323138,
          1.8884199740984546,
          0.5149998983933638,
          -0.4612569621502,
          -2.044884484384707,
          -2.2642782146088707,
          -1.3689178453525237,
          -0.4933880894392799,
          -0.44892769824569806,
          0.7021651569997387,
          0.17312188407331758,
          0.8297254909813514,
          -1.209018772125511,
          -0.6643563939520879,
          -0.03970583699998416,
          -0.5617207661402005,
          -1.5631259578039896,
          0.515889523095962,
          -0.8125689245955071,
          0.8352380213053745,
          -0.4821209854676755,
          1.1041130497801088,
          1.0306206606074977,
          0.9855867620785455,
          2.0027569273403243,
          0.2638266457953439,
          0.04350891310129441,
          0.8762454129201205,
          -0.08759198143271017,
          0.8125231817138858,
          -0.9075513348000999,
          0.5607733054161146,
          -0.23865240636633556,
          1.1191716763190929,
          0.5388212292102299,
          0.27082148087794466,
          -0.1956758784434622,
          1.2547094140308235,
          0.302733734712402,
          -1.1695245267490626,
          0.5185335466102716,
          0.8190908979174077,
          1.5642856701289398,
          -0.1839684949396022,
          -0.10464377212627611,
          -0.3738902853185688,
          -1.0578193647424976,
          2.0398000529190385,
          -0.47861082085741863,
          -0.26066652323696304,
          0.9178630415695512,
          1.9169026133398048,
          0.7487388185319119,
          -2.30795387068723,
          -0.04512853989323989,
          0.679899641273138,
          -0.48688078490635245,
          -1.1505941647974545,
          0.3185331783207228,
          0.8562093507089286,
          -0.651604128474846,
          0.45198833264601274,
          1.3482242401288627,
          0.8353632247445613,
          -1.6635070300669133,
          1.166008542614696,
          -1.062260511565378,
          0.5730805504655455,
          -0.08993760847573472,
          -0.43617816768055856,
          -1.5656173028182858,
          1.165886988023119,
          0.6929846977776724,
          0.8990660463253227,
          0.8770676699379643,
          0.35505829390139904,
          -2.3865360599607173,
          -0.6196681063548992,
          0.09208226131825127,
          -1.0205102925440586,
          -0.06404273101740816
         ],
         "y": [
          0.07185369046079401,
          0.29267616132149354,
          1.3359631098647982,
          0.545107252353979,
          0.023573072156253636,
          1.7806383033831787,
          -0.41920654167464244,
          0.004753334568482668,
          -2.7545563538357722,
          0.07041581324653917,
          -1.364304744464887,
          0.718262483781206,
          0.37671176544749074,
          -1.0847088557375442,
          1.6187844586389555,
          -0.41038939569643645,
          0.9022879204128095,
          0.07470444368018322,
          -0.7584331811688072,
          0.3479398247480616,
          0.8397792016531902,
          0.2845358694450361,
          0.19511201142922244,
          -0.010539222850371364,
          -0.14990513147805898,
          -0.37005534246633354,
          0.16154465308645954,
          -0.9630652851775763,
          0.579517364159973,
          -1.4035777230307875,
          -0.14667617489278087,
          0.429449098925077,
          1.440046259087059,
          2.779703254185213,
          -1.514950174241543,
          -0.38314255705606365,
          -0.28049090845899743,
          -1.6463839162523453,
          0.9295239384079738,
          0.7384350925009466,
          0.10959327433895386,
          -0.39257212731936186,
          0.23713498567784455,
          -1.7154102455070654,
          0.20760628052385752,
          -1.2702993648325682,
          0.07927160209414827,
          -0.4941781039881184,
          -0.5452131194133613,
          0.8346752200099381,
          0.21672730634365797,
          2.0009415803598136,
          -0.4925540797247069,
          0.290306402115402,
          -2.7768372967908723,
          -0.01243405416751847,
          -0.6796710071224988,
          -0.5173016212189284,
          0.011980851961724251,
          -0.4746822465762274,
          -0.5944376172789942,
          0.1581220435820472,
          1.26495408912878,
          -1.0696550732525592,
          0.013027485374751303,
          -0.4319955499309191,
          1.3510716342226594,
          0.47790259237997684,
          1.270129257323493,
          -0.7962319883857973,
          0.4221151806341645,
          1.2241360896242566,
          1.2238455887227986,
          0.5360442855369453,
          0.026539491263576968,
          0.16069619963252837,
          -0.11268005216683398,
          0.9944938623906966,
          0.4271947826458063,
          1.149959525055607,
          1.1635316140334477,
          -0.5986582879739627,
          -0.7622941206283473,
          0.23379827654993318,
          1.303149004453367,
          1.287826099022475,
          1.2714709343016026,
          -0.35790525271922513,
          -0.6941904164226653,
          -0.21990783839232766,
          0.4049388044447175,
          -0.7029717255640098,
          2.1418061547745078,
          -0.04272070937948088,
          0.00047843236067118583,
          0.40654832502335314,
          -0.9318105156963058,
          1.6492233784140895,
          -0.11745673997334564,
          0.1436187868780339
         ]
        }
       ],
       "layout": {
        "legend": {
         "bgcolor": "#F5F6F9",
         "font": {
          "color": "#4D5663"
         }
        },
        "paper_bgcolor": "#F5F6F9",
        "plot_bgcolor": "#F5F6F9",
        "template": {
         "data": {
          "bar": [
           {
            "error_x": {
             "color": "#2a3f5f"
            },
            "error_y": {
             "color": "#2a3f5f"
            },
            "marker": {
             "line": {
              "color": "#E5ECF6",
              "width": 0.5
             }
            },
            "type": "bar"
           }
          ],
          "barpolar": [
           {
            "marker": {
             "line": {
              "color": "#E5ECF6",
              "width": 0.5
             }
            },
            "type": "barpolar"
           }
          ],
          "carpet": [
           {
            "aaxis": {
             "endlinecolor": "#2a3f5f",
             "gridcolor": "white",
             "linecolor": "white",
             "minorgridcolor": "white",
             "startlinecolor": "#2a3f5f"
            },
            "baxis": {
             "endlinecolor": "#2a3f5f",
             "gridcolor": "white",
             "linecolor": "white",
             "minorgridcolor": "white",
             "startlinecolor": "#2a3f5f"
            },
            "type": "carpet"
           }
          ],
          "choropleth": [
           {
            "colorbar": {
             "outlinewidth": 0,
             "ticks": ""
            },
            "type": "choropleth"
           }
          ],
          "contour": [
           {
            "colorbar": {
             "outlinewidth": 0,
             "ticks": ""
            },
            "colorscale": [
             [
              0,
              "#0d0887"
             ],
             [
              0.1111111111111111,
              "#46039f"
             ],
             [
              0.2222222222222222,
              "#7201a8"
             ],
             [
              0.3333333333333333,
              "#9c179e"
             ],
             [
              0.4444444444444444,
              "#bd3786"
             ],
             [
              0.5555555555555556,
              "#d8576b"
             ],
             [
              0.6666666666666666,
              "#ed7953"
             ],
             [
              0.7777777777777778,
              "#fb9f3a"
             ],
             [
              0.8888888888888888,
              "#fdca26"
             ],
             [
              1,
              "#f0f921"
             ]
            ],
            "type": "contour"
           }
          ],
          "contourcarpet": [
           {
            "colorbar": {
             "outlinewidth": 0,
             "ticks": ""
            },
            "type": "contourcarpet"
           }
          ],
          "heatmap": [
           {
            "colorbar": {
             "outlinewidth": 0,
             "ticks": ""
            },
            "colorscale": [
             [
              0,
              "#0d0887"
             ],
             [
              0.1111111111111111,
              "#46039f"
             ],
             [
              0.2222222222222222,
              "#7201a8"
             ],
             [
              0.3333333333333333,
              "#9c179e"
             ],
             [
              0.4444444444444444,
              "#bd3786"
             ],
             [
              0.5555555555555556,
              "#d8576b"
             ],
             [
              0.6666666666666666,
              "#ed7953"
             ],
             [
              0.7777777777777778,
              "#fb9f3a"
             ],
             [
              0.8888888888888888,
              "#fdca26"
             ],
             [
              1,
              "#f0f921"
             ]
            ],
            "type": "heatmap"
           }
          ],
          "heatmapgl": [
           {
            "colorbar": {
             "outlinewidth": 0,
             "ticks": ""
            },
            "colorscale": [
             [
              0,
              "#0d0887"
             ],
             [
              0.1111111111111111,
              "#46039f"
             ],
             [
              0.2222222222222222,
              "#7201a8"
             ],
             [
              0.3333333333333333,
              "#9c179e"
             ],
             [
              0.4444444444444444,
              "#bd3786"
             ],
             [
              0.5555555555555556,
              "#d8576b"
             ],
             [
              0.6666666666666666,
              "#ed7953"
             ],
             [
              0.7777777777777778,
              "#fb9f3a"
             ],
             [
              0.8888888888888888,
              "#fdca26"
             ],
             [
              1,
              "#f0f921"
             ]
            ],
            "type": "heatmapgl"
           }
          ],
          "histogram": [
           {
            "marker": {
             "colorbar": {
              "outlinewidth": 0,
              "ticks": ""
             }
            },
            "type": "histogram"
           }
          ],
          "histogram2d": [
           {
            "colorbar": {
             "outlinewidth": 0,
             "ticks": ""
            },
            "colorscale": [
             [
              0,
              "#0d0887"
             ],
             [
              0.1111111111111111,
              "#46039f"
             ],
             [
              0.2222222222222222,
              "#7201a8"
             ],
             [
              0.3333333333333333,
              "#9c179e"
             ],
             [
              0.4444444444444444,
              "#bd3786"
             ],
             [
              0.5555555555555556,
              "#d8576b"
             ],
             [
              0.6666666666666666,
              "#ed7953"
             ],
             [
              0.7777777777777778,
              "#fb9f3a"
             ],
             [
              0.8888888888888888,
              "#fdca26"
             ],
             [
              1,
              "#f0f921"
             ]
            ],
            "type": "histogram2d"
           }
          ],
          "histogram2dcontour": [
           {
            "colorbar": {
             "outlinewidth": 0,
             "ticks": ""
            },
            "colorscale": [
             [
              0,
              "#0d0887"
             ],
             [
              0.1111111111111111,
              "#46039f"
             ],
             [
              0.2222222222222222,
              "#7201a8"
             ],
             [
              0.3333333333333333,
              "#9c179e"
             ],
             [
              0.4444444444444444,
              "#bd3786"
             ],
             [
              0.5555555555555556,
              "#d8576b"
             ],
             [
              0.6666666666666666,
              "#ed7953"
             ],
             [
              0.7777777777777778,
              "#fb9f3a"
             ],
             [
              0.8888888888888888,
              "#fdca26"
             ],
             [
              1,
              "#f0f921"
             ]
            ],
            "type": "histogram2dcontour"
           }
          ],
          "mesh3d": [
           {
            "colorbar": {
             "outlinewidth": 0,
             "ticks": ""
            },
            "type": "mesh3d"
           }
          ],
          "parcoords": [
           {
            "line": {
             "colorbar": {
              "outlinewidth": 0,
              "ticks": ""
             }
            },
            "type": "parcoords"
           }
          ],
          "pie": [
           {
            "automargin": true,
            "type": "pie"
           }
          ],
          "scatter": [
           {
            "marker": {
             "colorbar": {
              "outlinewidth": 0,
              "ticks": ""
             }
            },
            "type": "scatter"
           }
          ],
          "scatter3d": [
           {
            "line": {
             "colorbar": {
              "outlinewidth": 0,
              "ticks": ""
             }
            },
            "marker": {
             "colorbar": {
              "outlinewidth": 0,
              "ticks": ""
             }
            },
            "type": "scatter3d"
           }
          ],
          "scattercarpet": [
           {
            "marker": {
             "colorbar": {
              "outlinewidth": 0,
              "ticks": ""
             }
            },
            "type": "scattercarpet"
           }
          ],
          "scattergeo": [
           {
            "marker": {
             "colorbar": {
              "outlinewidth": 0,
              "ticks": ""
             }
            },
            "type": "scattergeo"
           }
          ],
          "scattergl": [
           {
            "marker": {
             "colorbar": {
              "outlinewidth": 0,
              "ticks": ""
             }
            },
            "type": "scattergl"
           }
          ],
          "scattermapbox": [
           {
            "marker": {
             "colorbar": {
              "outlinewidth": 0,
              "ticks": ""
             }
            },
            "type": "scattermapbox"
           }
          ],
          "scatterpolar": [
           {
            "marker": {
             "colorbar": {
              "outlinewidth": 0,
              "ticks": ""
             }
            },
            "type": "scatterpolar"
           }
          ],
          "scatterpolargl": [
           {
            "marker": {
             "colorbar": {
              "outlinewidth": 0,
              "ticks": ""
             }
            },
            "type": "scatterpolargl"
           }
          ],
          "scatterternary": [
           {
            "marker": {
             "colorbar": {
              "outlinewidth": 0,
              "ticks": ""
             }
            },
            "type": "scatterternary"
           }
          ],
          "surface": [
           {
            "colorbar": {
             "outlinewidth": 0,
             "ticks": ""
            },
            "colorscale": [
             [
              0,
              "#0d0887"
             ],
             [
              0.1111111111111111,
              "#46039f"
             ],
             [
              0.2222222222222222,
              "#7201a8"
             ],
             [
              0.3333333333333333,
              "#9c179e"
             ],
             [
              0.4444444444444444,
              "#bd3786"
             ],
             [
              0.5555555555555556,
              "#d8576b"
             ],
             [
              0.6666666666666666,
              "#ed7953"
             ],
             [
              0.7777777777777778,
              "#fb9f3a"
             ],
             [
              0.8888888888888888,
              "#fdca26"
             ],
             [
              1,
              "#f0f921"
             ]
            ],
            "type": "surface"
           }
          ],
          "table": [
           {
            "cells": {
             "fill": {
              "color": "#EBF0F8"
             },
             "line": {
              "color": "white"
             }
            },
            "header": {
             "fill": {
              "color": "#C8D4E3"
             },
             "line": {
              "color": "white"
             }
            },
            "type": "table"
           }
          ]
         },
         "layout": {
          "annotationdefaults": {
           "arrowcolor": "#2a3f5f",
           "arrowhead": 0,
           "arrowwidth": 1
          },
          "coloraxis": {
           "colorbar": {
            "outlinewidth": 0,
            "ticks": ""
           }
          },
          "colorscale": {
           "diverging": [
            [
             0,
             "#8e0152"
            ],
            [
             0.1,
             "#c51b7d"
            ],
            [
             0.2,
             "#de77ae"
            ],
            [
             0.3,
             "#f1b6da"
            ],
            [
             0.4,
             "#fde0ef"
            ],
            [
             0.5,
             "#f7f7f7"
            ],
            [
             0.6,
             "#e6f5d0"
            ],
            [
             0.7,
             "#b8e186"
            ],
            [
             0.8,
             "#7fbc41"
            ],
            [
             0.9,
             "#4d9221"
            ],
            [
             1,
             "#276419"
            ]
           ],
           "sequential": [
            [
             0,
             "#0d0887"
            ],
            [
             0.1111111111111111,
             "#46039f"
            ],
            [
             0.2222222222222222,
             "#7201a8"
            ],
            [
             0.3333333333333333,
             "#9c179e"
            ],
            [
             0.4444444444444444,
             "#bd3786"
            ],
            [
             0.5555555555555556,
             "#d8576b"
            ],
            [
             0.6666666666666666,
             "#ed7953"
            ],
            [
             0.7777777777777778,
             "#fb9f3a"
            ],
            [
             0.8888888888888888,
             "#fdca26"
            ],
            [
             1,
             "#f0f921"
            ]
           ],
           "sequentialminus": [
            [
             0,
             "#0d0887"
            ],
            [
             0.1111111111111111,
             "#46039f"
            ],
            [
             0.2222222222222222,
             "#7201a8"
            ],
            [
             0.3333333333333333,
             "#9c179e"
            ],
            [
             0.4444444444444444,
             "#bd3786"
            ],
            [
             0.5555555555555556,
             "#d8576b"
            ],
            [
             0.6666666666666666,
             "#ed7953"
            ],
            [
             0.7777777777777778,
             "#fb9f3a"
            ],
            [
             0.8888888888888888,
             "#fdca26"
            ],
            [
             1,
             "#f0f921"
            ]
           ]
          },
          "colorway": [
           "#636efa",
           "#EF553B",
           "#00cc96",
           "#ab63fa",
           "#FFA15A",
           "#19d3f3",
           "#FF6692",
           "#B6E880",
           "#FF97FF",
           "#FECB52"
          ],
          "font": {
           "color": "#2a3f5f"
          },
          "geo": {
           "bgcolor": "white",
           "lakecolor": "white",
           "landcolor": "#E5ECF6",
           "showlakes": true,
           "showland": true,
           "subunitcolor": "white"
          },
          "hoverlabel": {
           "align": "left"
          },
          "hovermode": "closest",
          "mapbox": {
           "style": "light"
          },
          "paper_bgcolor": "white",
          "plot_bgcolor": "#E5ECF6",
          "polar": {
           "angularaxis": {
            "gridcolor": "white",
            "linecolor": "white",
            "ticks": ""
           },
           "bgcolor": "#E5ECF6",
           "radialaxis": {
            "gridcolor": "white",
            "linecolor": "white",
            "ticks": ""
           }
          },
          "scene": {
           "xaxis": {
            "backgroundcolor": "#E5ECF6",
            "gridcolor": "white",
            "gridwidth": 2,
            "linecolor": "white",
            "showbackground": true,
            "ticks": "",
            "zerolinecolor": "white"
           },
           "yaxis": {
            "backgroundcolor": "#E5ECF6",
            "gridcolor": "white",
            "gridwidth": 2,
            "linecolor": "white",
            "showbackground": true,
            "ticks": "",
            "zerolinecolor": "white"
           },
           "zaxis": {
            "backgroundcolor": "#E5ECF6",
            "gridcolor": "white",
            "gridwidth": 2,
            "linecolor": "white",
            "showbackground": true,
            "ticks": "",
            "zerolinecolor": "white"
           }
          },
          "shapedefaults": {
           "line": {
            "color": "#2a3f5f"
           }
          },
          "ternary": {
           "aaxis": {
            "gridcolor": "white",
            "linecolor": "white",
            "ticks": ""
           },
           "baxis": {
            "gridcolor": "white",
            "linecolor": "white",
            "ticks": ""
           },
           "bgcolor": "#E5ECF6",
           "caxis": {
            "gridcolor": "white",
            "linecolor": "white",
            "ticks": ""
           }
          },
          "title": {
           "x": 0.05
          },
          "xaxis": {
           "automargin": true,
           "gridcolor": "white",
           "linecolor": "white",
           "ticks": "",
           "title": {
            "standoff": 15
           },
           "zerolinecolor": "white",
           "zerolinewidth": 2
          },
          "yaxis": {
           "automargin": true,
           "gridcolor": "white",
           "linecolor": "white",
           "ticks": "",
           "title": {
            "standoff": 15
           },
           "zerolinecolor": "white",
           "zerolinewidth": 2
          }
         }
        },
        "title": {
         "font": {
          "color": "#4D5663"
         }
        },
        "xaxis": {
         "gridcolor": "#E1E5ED",
         "showgrid": true,
         "tickfont": {
          "color": "#4D5663"
         },
         "title": {
          "font": {
           "color": "#4D5663"
          },
          "text": ""
         },
         "zerolinecolor": "#E1E5ED"
        },
        "yaxis": {
         "gridcolor": "#E1E5ED",
         "showgrid": true,
         "tickfont": {
          "color": "#4D5663"
         },
         "title": {
          "font": {
           "color": "#4D5663"
          },
          "text": ""
         },
         "zerolinecolor": "#E1E5ED"
        }
       }
      },
      "text/html": [
       "<div>\n",
       "        \n",
       "        \n",
       "            <div id=\"f48a311a-4faa-466d-9285-8f05549737ea\" class=\"plotly-graph-div\" style=\"height:525px; width:100%;\"></div>\n",
       "            <script type=\"text/javascript\">\n",
       "                require([\"plotly\"], function(Plotly) {\n",
       "                    window.PLOTLYENV=window.PLOTLYENV || {};\n",
       "                    window.PLOTLYENV.BASE_URL='https://plot.ly';\n",
       "                    \n",
       "                if (document.getElementById(\"f48a311a-4faa-466d-9285-8f05549737ea\")) {\n",
       "                    Plotly.newPlot(\n",
       "                        'f48a311a-4faa-466d-9285-8f05549737ea',\n",
       "                        [{\"marker\": {\"color\": [\"rgb(255, 153, 51)\", \"rgb(55, 128, 191)\", \"rgb(50, 171, 96)\", \"rgb(128, 0, 128)\", \"rgb(219, 64, 82)\", \"rgb(0, 128, 128)\", \"rgb(255, 255, 51)\", \"rgb(128, 128, 0)\", \"rgb(251, 128, 114)\", \"rgb(128, 177, 211)\"], \"line\": {\"width\": 1.3}, \"size\": [54, 47, 71, 63, 91, 43, 43, 64, 79, 62, 26, 68, 52, 84, 68, 42, 76, 45, 112, 76, 68, 31, 78, 13, 69, 75, 37, 46, 82, 48, 76, 70, 86, 38, 50, 64, 57, 76, 51, 81, 78, 71, 66, 89, 62, 33, 82, 25, 96, 12, 45, 65, 59, 55, 19, 62, 63, 74, 70, 48, 25, 45, 49, 86, 102, 53, 37, 94, 78, 67, 46, 90, 12, 47, 64, 43, 90, 71, 68, 18, 29, 87, 82, 67, 74, 50, 64, 69, 52, 53, 20, 79, 29, 60, 89, 51, 30, 16, 22, 61], \"symbol\": \"circle\"}, \"mode\": \"markers\", \"text\": \"\", \"type\": \"scatter\", \"x\": [-1.139418730002032, 0.6547989998648551, 0.39084583433649694, 0.9646681826571936, 0.42119755974889467, -0.23873385414912676, -0.2218960966330283, 0.5675391268184925, -0.14589675805068572, 0.2983797328942242, 0.2481277187050298, -0.959565662084963, 0.8983589857556141, -0.9205451688459358, -0.9073710648065669, -0.515818083052144, 0.3568982359524299, -0.05039881754988521, 1.045422545573841, -1.028197584323138, 1.8884199740984546, 0.5149998983933638, -0.4612569621502, -2.044884484384707, -2.2642782146088707, -1.3689178453525237, -0.4933880894392799, -0.44892769824569806, 0.7021651569997387, 0.17312188407331758, 0.8297254909813514, -1.209018772125511, -0.6643563939520879, -0.03970583699998416, -0.5617207661402005, -1.5631259578039896, 0.515889523095962, -0.8125689245955071, 0.8352380213053745, -0.4821209854676755, 1.1041130497801088, 1.0306206606074977, 0.9855867620785455, 2.0027569273403243, 0.2638266457953439, 0.04350891310129441, 0.8762454129201205, -0.08759198143271017, 0.8125231817138858, -0.9075513348000999, 0.5607733054161146, -0.23865240636633556, 1.1191716763190929, 0.5388212292102299, 0.27082148087794466, -0.1956758784434622, 1.2547094140308235, 0.302733734712402, -1.1695245267490626, 0.5185335466102716, 0.8190908979174077, 1.5642856701289398, -0.1839684949396022, -0.10464377212627611, -0.3738902853185688, -1.0578193647424976, 2.0398000529190385, -0.47861082085741863, -0.26066652323696304, 0.9178630415695512, 1.9169026133398048, 0.7487388185319119, -2.30795387068723, -0.04512853989323989, 0.679899641273138, -0.48688078490635245, -1.1505941647974545, 0.3185331783207228, 0.8562093507089286, -0.651604128474846, 0.45198833264601274, 1.3482242401288627, 0.8353632247445613, -1.6635070300669133, 1.166008542614696, -1.062260511565378, 0.5730805504655455, -0.08993760847573472, -0.43617816768055856, -1.5656173028182858, 1.165886988023119, 0.6929846977776724, 0.8990660463253227, 0.8770676699379643, 0.35505829390139904, -2.3865360599607173, -0.6196681063548992, 0.09208226131825127, -1.0205102925440586, -0.06404273101740816], \"y\": [0.07185369046079401, 0.29267616132149354, 1.3359631098647982, 0.545107252353979, 0.023573072156253636, 1.7806383033831787, -0.41920654167464244, 0.004753334568482668, -2.7545563538357722, 0.07041581324653917, -1.364304744464887, 0.718262483781206, 0.37671176544749074, -1.0847088557375442, 1.6187844586389555, -0.41038939569643645, 0.9022879204128095, 0.07470444368018322, -0.7584331811688072, 0.3479398247480616, 0.8397792016531902, 0.2845358694450361, 0.19511201142922244, -0.010539222850371364, -0.14990513147805898, -0.37005534246633354, 0.16154465308645954, -0.9630652851775763, 0.579517364159973, -1.4035777230307875, -0.14667617489278087, 0.429449098925077, 1.440046259087059, 2.779703254185213, -1.514950174241543, -0.38314255705606365, -0.28049090845899743, -1.6463839162523453, 0.9295239384079738, 0.7384350925009466, 0.10959327433895386, -0.39257212731936186, 0.23713498567784455, -1.7154102455070654, 0.20760628052385752, -1.2702993648325682, 0.07927160209414827, -0.4941781039881184, -0.5452131194133613, 0.8346752200099381, 0.21672730634365797, 2.0009415803598136, -0.4925540797247069, 0.290306402115402, -2.7768372967908723, -0.01243405416751847, -0.6796710071224988, -0.5173016212189284, 0.011980851961724251, -0.4746822465762274, -0.5944376172789942, 0.1581220435820472, 1.26495408912878, -1.0696550732525592, 0.013027485374751303, -0.4319955499309191, 1.3510716342226594, 0.47790259237997684, 1.270129257323493, -0.7962319883857973, 0.4221151806341645, 1.2241360896242566, 1.2238455887227986, 0.5360442855369453, 0.026539491263576968, 0.16069619963252837, -0.11268005216683398, 0.9944938623906966, 0.4271947826458063, 1.149959525055607, 1.1635316140334477, -0.5986582879739627, -0.7622941206283473, 0.23379827654993318, 1.303149004453367, 1.287826099022475, 1.2714709343016026, -0.35790525271922513, -0.6941904164226653, -0.21990783839232766, 0.4049388044447175, -0.7029717255640098, 2.1418061547745078, -0.04272070937948088, 0.00047843236067118583, 0.40654832502335314, -0.9318105156963058, 1.6492233784140895, -0.11745673997334564, 0.1436187868780339]}],\n",
       "                        {\"legend\": {\"bgcolor\": \"#F5F6F9\", \"font\": {\"color\": \"#4D5663\"}}, \"paper_bgcolor\": \"#F5F6F9\", \"plot_bgcolor\": \"#F5F6F9\", \"template\": {\"data\": {\"bar\": [{\"error_x\": {\"color\": \"#2a3f5f\"}, \"error_y\": {\"color\": \"#2a3f5f\"}, \"marker\": {\"line\": {\"color\": \"#E5ECF6\", \"width\": 0.5}}, \"type\": \"bar\"}], \"barpolar\": [{\"marker\": {\"line\": {\"color\": \"#E5ECF6\", \"width\": 0.5}}, \"type\": \"barpolar\"}], \"carpet\": [{\"aaxis\": {\"endlinecolor\": \"#2a3f5f\", \"gridcolor\": \"white\", \"linecolor\": \"white\", \"minorgridcolor\": \"white\", \"startlinecolor\": \"#2a3f5f\"}, \"baxis\": {\"endlinecolor\": \"#2a3f5f\", \"gridcolor\": \"white\", \"linecolor\": \"white\", \"minorgridcolor\": \"white\", \"startlinecolor\": \"#2a3f5f\"}, \"type\": \"carpet\"}], \"choropleth\": [{\"colorbar\": {\"outlinewidth\": 0, \"ticks\": \"\"}, \"type\": \"choropleth\"}], \"contour\": [{\"colorbar\": {\"outlinewidth\": 0, \"ticks\": \"\"}, \"colorscale\": [[0.0, \"#0d0887\"], [0.1111111111111111, \"#46039f\"], [0.2222222222222222, \"#7201a8\"], [0.3333333333333333, \"#9c179e\"], [0.4444444444444444, \"#bd3786\"], [0.5555555555555556, \"#d8576b\"], [0.6666666666666666, \"#ed7953\"], [0.7777777777777778, \"#fb9f3a\"], [0.8888888888888888, \"#fdca26\"], [1.0, \"#f0f921\"]], \"type\": \"contour\"}], \"contourcarpet\": [{\"colorbar\": {\"outlinewidth\": 0, \"ticks\": \"\"}, \"type\": \"contourcarpet\"}], \"heatmap\": [{\"colorbar\": {\"outlinewidth\": 0, \"ticks\": \"\"}, \"colorscale\": [[0.0, \"#0d0887\"], [0.1111111111111111, \"#46039f\"], [0.2222222222222222, \"#7201a8\"], [0.3333333333333333, \"#9c179e\"], [0.4444444444444444, \"#bd3786\"], [0.5555555555555556, \"#d8576b\"], [0.6666666666666666, \"#ed7953\"], [0.7777777777777778, \"#fb9f3a\"], [0.8888888888888888, \"#fdca26\"], [1.0, \"#f0f921\"]], \"type\": \"heatmap\"}], \"heatmapgl\": [{\"colorbar\": {\"outlinewidth\": 0, \"ticks\": \"\"}, \"colorscale\": [[0.0, \"#0d0887\"], [0.1111111111111111, \"#46039f\"], [0.2222222222222222, \"#7201a8\"], [0.3333333333333333, \"#9c179e\"], [0.4444444444444444, \"#bd3786\"], [0.5555555555555556, \"#d8576b\"], [0.6666666666666666, \"#ed7953\"], [0.7777777777777778, \"#fb9f3a\"], [0.8888888888888888, \"#fdca26\"], [1.0, \"#f0f921\"]], \"type\": \"heatmapgl\"}], \"histogram\": [{\"marker\": {\"colorbar\": {\"outlinewidth\": 0, \"ticks\": \"\"}}, \"type\": \"histogram\"}], \"histogram2d\": [{\"colorbar\": {\"outlinewidth\": 0, \"ticks\": \"\"}, \"colorscale\": [[0.0, \"#0d0887\"], [0.1111111111111111, \"#46039f\"], [0.2222222222222222, \"#7201a8\"], [0.3333333333333333, \"#9c179e\"], [0.4444444444444444, \"#bd3786\"], [0.5555555555555556, \"#d8576b\"], [0.6666666666666666, \"#ed7953\"], [0.7777777777777778, \"#fb9f3a\"], [0.8888888888888888, \"#fdca26\"], [1.0, \"#f0f921\"]], \"type\": \"histogram2d\"}], \"histogram2dcontour\": [{\"colorbar\": {\"outlinewidth\": 0, \"ticks\": \"\"}, \"colorscale\": [[0.0, \"#0d0887\"], [0.1111111111111111, \"#46039f\"], [0.2222222222222222, \"#7201a8\"], [0.3333333333333333, \"#9c179e\"], [0.4444444444444444, \"#bd3786\"], [0.5555555555555556, \"#d8576b\"], [0.6666666666666666, \"#ed7953\"], [0.7777777777777778, \"#fb9f3a\"], [0.8888888888888888, \"#fdca26\"], [1.0, \"#f0f921\"]], \"type\": \"histogram2dcontour\"}], \"mesh3d\": [{\"colorbar\": {\"outlinewidth\": 0, \"ticks\": \"\"}, \"type\": \"mesh3d\"}], \"parcoords\": [{\"line\": {\"colorbar\": {\"outlinewidth\": 0, \"ticks\": \"\"}}, \"type\": \"parcoords\"}], \"pie\": [{\"automargin\": true, \"type\": \"pie\"}], \"scatter\": [{\"marker\": {\"colorbar\": {\"outlinewidth\": 0, \"ticks\": \"\"}}, \"type\": \"scatter\"}], \"scatter3d\": [{\"line\": {\"colorbar\": {\"outlinewidth\": 0, \"ticks\": \"\"}}, \"marker\": {\"colorbar\": {\"outlinewidth\": 0, \"ticks\": \"\"}}, \"type\": \"scatter3d\"}], \"scattercarpet\": [{\"marker\": {\"colorbar\": {\"outlinewidth\": 0, \"ticks\": \"\"}}, \"type\": \"scattercarpet\"}], \"scattergeo\": [{\"marker\": {\"colorbar\": {\"outlinewidth\": 0, \"ticks\": \"\"}}, \"type\": \"scattergeo\"}], \"scattergl\": [{\"marker\": {\"colorbar\": {\"outlinewidth\": 0, \"ticks\": \"\"}}, \"type\": \"scattergl\"}], \"scattermapbox\": [{\"marker\": {\"colorbar\": {\"outlinewidth\": 0, \"ticks\": \"\"}}, \"type\": \"scattermapbox\"}], \"scatterpolar\": [{\"marker\": {\"colorbar\": {\"outlinewidth\": 0, \"ticks\": \"\"}}, \"type\": \"scatterpolar\"}], \"scatterpolargl\": [{\"marker\": {\"colorbar\": {\"outlinewidth\": 0, \"ticks\": \"\"}}, \"type\": \"scatterpolargl\"}], \"scatterternary\": [{\"marker\": {\"colorbar\": {\"outlinewidth\": 0, \"ticks\": \"\"}}, \"type\": \"scatterternary\"}], \"surface\": [{\"colorbar\": {\"outlinewidth\": 0, \"ticks\": \"\"}, \"colorscale\": [[0.0, \"#0d0887\"], [0.1111111111111111, \"#46039f\"], [0.2222222222222222, \"#7201a8\"], [0.3333333333333333, \"#9c179e\"], [0.4444444444444444, \"#bd3786\"], [0.5555555555555556, \"#d8576b\"], [0.6666666666666666, \"#ed7953\"], [0.7777777777777778, \"#fb9f3a\"], [0.8888888888888888, \"#fdca26\"], [1.0, \"#f0f921\"]], \"type\": \"surface\"}], \"table\": [{\"cells\": {\"fill\": {\"color\": \"#EBF0F8\"}, \"line\": {\"color\": \"white\"}}, \"header\": {\"fill\": {\"color\": \"#C8D4E3\"}, \"line\": {\"color\": \"white\"}}, \"type\": \"table\"}]}, \"layout\": {\"annotationdefaults\": {\"arrowcolor\": \"#2a3f5f\", \"arrowhead\": 0, \"arrowwidth\": 1}, \"coloraxis\": {\"colorbar\": {\"outlinewidth\": 0, \"ticks\": \"\"}}, \"colorscale\": {\"diverging\": [[0, \"#8e0152\"], [0.1, \"#c51b7d\"], [0.2, \"#de77ae\"], [0.3, \"#f1b6da\"], [0.4, \"#fde0ef\"], [0.5, \"#f7f7f7\"], [0.6, \"#e6f5d0\"], [0.7, \"#b8e186\"], [0.8, \"#7fbc41\"], [0.9, \"#4d9221\"], [1, \"#276419\"]], \"sequential\": [[0.0, \"#0d0887\"], [0.1111111111111111, \"#46039f\"], [0.2222222222222222, \"#7201a8\"], [0.3333333333333333, \"#9c179e\"], [0.4444444444444444, \"#bd3786\"], [0.5555555555555556, \"#d8576b\"], [0.6666666666666666, \"#ed7953\"], [0.7777777777777778, \"#fb9f3a\"], [0.8888888888888888, \"#fdca26\"], [1.0, \"#f0f921\"]], \"sequentialminus\": [[0.0, \"#0d0887\"], [0.1111111111111111, \"#46039f\"], [0.2222222222222222, \"#7201a8\"], [0.3333333333333333, \"#9c179e\"], [0.4444444444444444, \"#bd3786\"], [0.5555555555555556, \"#d8576b\"], [0.6666666666666666, \"#ed7953\"], [0.7777777777777778, \"#fb9f3a\"], [0.8888888888888888, \"#fdca26\"], [1.0, \"#f0f921\"]]}, \"colorway\": [\"#636efa\", \"#EF553B\", \"#00cc96\", \"#ab63fa\", \"#FFA15A\", \"#19d3f3\", \"#FF6692\", \"#B6E880\", \"#FF97FF\", \"#FECB52\"], \"font\": {\"color\": \"#2a3f5f\"}, \"geo\": {\"bgcolor\": \"white\", \"lakecolor\": \"white\", \"landcolor\": \"#E5ECF6\", \"showlakes\": true, \"showland\": true, \"subunitcolor\": \"white\"}, \"hoverlabel\": {\"align\": \"left\"}, \"hovermode\": \"closest\", \"mapbox\": {\"style\": \"light\"}, \"paper_bgcolor\": \"white\", \"plot_bgcolor\": \"#E5ECF6\", \"polar\": {\"angularaxis\": {\"gridcolor\": \"white\", \"linecolor\": \"white\", \"ticks\": \"\"}, \"bgcolor\": \"#E5ECF6\", \"radialaxis\": {\"gridcolor\": \"white\", \"linecolor\": \"white\", \"ticks\": \"\"}}, \"scene\": {\"xaxis\": {\"backgroundcolor\": \"#E5ECF6\", \"gridcolor\": \"white\", \"gridwidth\": 2, \"linecolor\": \"white\", \"showbackground\": true, \"ticks\": \"\", \"zerolinecolor\": \"white\"}, \"yaxis\": {\"backgroundcolor\": \"#E5ECF6\", \"gridcolor\": \"white\", \"gridwidth\": 2, \"linecolor\": \"white\", \"showbackground\": true, \"ticks\": \"\", \"zerolinecolor\": \"white\"}, \"zaxis\": {\"backgroundcolor\": \"#E5ECF6\", \"gridcolor\": \"white\", \"gridwidth\": 2, \"linecolor\": \"white\", \"showbackground\": true, \"ticks\": \"\", \"zerolinecolor\": \"white\"}}, \"shapedefaults\": {\"line\": {\"color\": \"#2a3f5f\"}}, \"ternary\": {\"aaxis\": {\"gridcolor\": \"white\", \"linecolor\": \"white\", \"ticks\": \"\"}, \"baxis\": {\"gridcolor\": \"white\", \"linecolor\": \"white\", \"ticks\": \"\"}, \"bgcolor\": \"#E5ECF6\", \"caxis\": {\"gridcolor\": \"white\", \"linecolor\": \"white\", \"ticks\": \"\"}}, \"title\": {\"x\": 0.05}, \"xaxis\": {\"automargin\": true, \"gridcolor\": \"white\", \"linecolor\": \"white\", \"ticks\": \"\", \"title\": {\"standoff\": 15}, \"zerolinecolor\": \"white\", \"zerolinewidth\": 2}, \"yaxis\": {\"automargin\": true, \"gridcolor\": \"white\", \"linecolor\": \"white\", \"ticks\": \"\", \"title\": {\"standoff\": 15}, \"zerolinecolor\": \"white\", \"zerolinewidth\": 2}}}, \"title\": {\"font\": {\"color\": \"#4D5663\"}}, \"xaxis\": {\"gridcolor\": \"#E1E5ED\", \"showgrid\": true, \"tickfont\": {\"color\": \"#4D5663\"}, \"title\": {\"font\": {\"color\": \"#4D5663\"}, \"text\": \"\"}, \"zerolinecolor\": \"#E1E5ED\"}, \"yaxis\": {\"gridcolor\": \"#E1E5ED\", \"showgrid\": true, \"tickfont\": {\"color\": \"#4D5663\"}, \"title\": {\"font\": {\"color\": \"#4D5663\"}, \"text\": \"\"}, \"zerolinecolor\": \"#E1E5ED\"}},\n",
       "                        {\"showLink\": true, \"linkText\": \"Export to plot.ly\", \"plotlyServerURL\": \"https://plot.ly\", \"responsive\": true}\n",
       "                    ).then(function(){\n",
       "                            \n",
       "var gd = document.getElementById('f48a311a-4faa-466d-9285-8f05549737ea');\n",
       "var x = new MutationObserver(function (mutations, observer) {{\n",
       "        var display = window.getComputedStyle(gd).display;\n",
       "        if (!display || display === 'none') {{\n",
       "            console.log([gd, 'removed!']);\n",
       "            Plotly.purge(gd);\n",
       "            observer.disconnect();\n",
       "        }}\n",
       "}});\n",
       "\n",
       "// Listen for the removal of the full notebook cells\n",
       "var notebookContainer = gd.closest('#notebook-container');\n",
       "if (notebookContainer) {{\n",
       "    x.observe(notebookContainer, {childList: true});\n",
       "}}\n",
       "\n",
       "// Listen for the clearing of the current output cell\n",
       "var outputEl = gd.closest('.output');\n",
       "if (outputEl) {{\n",
       "    x.observe(outputEl, {childList: true});\n",
       "}}\n",
       "\n",
       "                        })\n",
       "                };\n",
       "                });\n",
       "            </script>\n",
       "        </div>"
      ]
     },
     "metadata": {},
     "output_type": "display_data"
    }
   ],
   "source": [
    "df.iplot(kind='bubble',x='A',y='B',size='C')"
   ]
  },
  {
   "cell_type": "markdown",
   "metadata": {},
   "source": [
    "## scatter_matrix()\n",
    "\n",
    "Similar to sns.pairplot()"
   ]
  },
  {
   "cell_type": "code",
   "execution_count": 18,
   "metadata": {},
   "outputs": [
    {
     "data": {
      "application/vnd.plotly.v1+json": {
       "config": {
        "linkText": "Export to plot.ly",
        "plotlyServerURL": "https://plot.ly",
        "showLink": true
       },
       "data": [
        {
         "histfunc": "count",
         "histnorm": "",
         "marker": {
          "color": "rgba(255, 153, 51, 1.0)",
          "line": {
           "color": "#4D5663",
           "width": 1.3
          }
         },
         "name": "A",
         "nbinsx": 10,
         "opacity": 0.8,
         "orientation": "v",
         "type": "histogram",
         "x": [
          -1.139418730002032,
          0.6547989998648551,
          0.39084583433649694,
          0.9646681826571936,
          0.42119755974889467,
          -0.23873385414912676,
          -0.2218960966330283,
          0.5675391268184925,
          -0.14589675805068572,
          0.2983797328942242,
          0.2481277187050298,
          -0.959565662084963,
          0.8983589857556141,
          -0.9205451688459358,
          -0.9073710648065669,
          -0.515818083052144,
          0.3568982359524299,
          -0.05039881754988521,
          1.045422545573841,
          -1.028197584323138,
          1.8884199740984546,
          0.5149998983933638,
          -0.4612569621502,
          -2.044884484384707,
          -2.2642782146088707,
          -1.3689178453525237,
          -0.4933880894392799,
          -0.44892769824569806,
          0.7021651569997387,
          0.17312188407331758,
          0.8297254909813514,
          -1.209018772125511,
          -0.6643563939520879,
          -0.03970583699998416,
          -0.5617207661402005,
          -1.5631259578039896,
          0.515889523095962,
          -0.8125689245955071,
          0.8352380213053745,
          -0.4821209854676755,
          1.1041130497801088,
          1.0306206606074977,
          0.9855867620785455,
          2.0027569273403243,
          0.2638266457953439,
          0.04350891310129441,
          0.8762454129201205,
          -0.08759198143271017,
          0.8125231817138858,
          -0.9075513348000999,
          0.5607733054161146,
          -0.23865240636633556,
          1.1191716763190929,
          0.5388212292102299,
          0.27082148087794466,
          -0.1956758784434622,
          1.2547094140308235,
          0.302733734712402,
          -1.1695245267490626,
          0.5185335466102716,
          0.8190908979174077,
          1.5642856701289398,
          -0.1839684949396022,
          -0.10464377212627611,
          -0.3738902853185688,
          -1.0578193647424976,
          2.0398000529190385,
          -0.47861082085741863,
          -0.26066652323696304,
          0.9178630415695512,
          1.9169026133398048,
          0.7487388185319119,
          -2.30795387068723,
          -0.04512853989323989,
          0.679899641273138,
          -0.48688078490635245,
          -1.1505941647974545,
          0.3185331783207228,
          0.8562093507089286,
          -0.651604128474846,
          0.45198833264601274,
          1.3482242401288627,
          0.8353632247445613,
          -1.6635070300669133,
          1.166008542614696,
          -1.062260511565378,
          0.5730805504655455,
          -0.08993760847573472,
          -0.43617816768055856,
          -1.5656173028182858,
          1.165886988023119,
          0.6929846977776724,
          0.8990660463253227,
          0.8770676699379643,
          0.35505829390139904,
          -2.3865360599607173,
          -0.6196681063548992,
          0.09208226131825127,
          -1.0205102925440586,
          -0.06404273101740816
         ],
         "xaxis": "x",
         "yaxis": "y"
        },
        {
         "line": {
          "color": "rgba(128, 128, 128, 1.0)",
          "dash": "solid",
          "shape": "linear",
          "width": 1.3
         },
         "marker": {
          "size": 2,
          "symbol": "circle"
         },
         "mode": "markers",
         "name": "A",
         "text": "",
         "type": "scatter",
         "x": [
          0.07185369046079401,
          0.29267616132149354,
          1.3359631098647982,
          0.545107252353979,
          0.023573072156253636,
          1.7806383033831787,
          -0.41920654167464244,
          0.004753334568482668,
          -2.7545563538357722,
          0.07041581324653917,
          -1.364304744464887,
          0.718262483781206,
          0.37671176544749074,
          -1.0847088557375442,
          1.6187844586389555,
          -0.41038939569643645,
          0.9022879204128095,
          0.07470444368018322,
          -0.7584331811688072,
          0.3479398247480616,
          0.8397792016531902,
          0.2845358694450361,
          0.19511201142922244,
          -0.010539222850371364,
          -0.14990513147805898,
          -0.37005534246633354,
          0.16154465308645954,
          -0.9630652851775763,
          0.579517364159973,
          -1.4035777230307875,
          -0.14667617489278087,
          0.429449098925077,
          1.440046259087059,
          2.779703254185213,
          -1.514950174241543,
          -0.38314255705606365,
          -0.28049090845899743,
          -1.6463839162523453,
          0.9295239384079738,
          0.7384350925009466,
          0.10959327433895386,
          -0.39257212731936186,
          0.23713498567784455,
          -1.7154102455070654,
          0.20760628052385752,
          -1.2702993648325682,
          0.07927160209414827,
          -0.4941781039881184,
          -0.5452131194133613,
          0.8346752200099381,
          0.21672730634365797,
          2.0009415803598136,
          -0.4925540797247069,
          0.290306402115402,
          -2.7768372967908723,
          -0.01243405416751847,
          -0.6796710071224988,
          -0.5173016212189284,
          0.011980851961724251,
          -0.4746822465762274,
          -0.5944376172789942,
          0.1581220435820472,
          1.26495408912878,
          -1.0696550732525592,
          0.013027485374751303,
          -0.4319955499309191,
          1.3510716342226594,
          0.47790259237997684,
          1.270129257323493,
          -0.7962319883857973,
          0.4221151806341645,
          1.2241360896242566,
          1.2238455887227986,
          0.5360442855369453,
          0.026539491263576968,
          0.16069619963252837,
          -0.11268005216683398,
          0.9944938623906966,
          0.4271947826458063,
          1.149959525055607,
          1.1635316140334477,
          -0.5986582879739627,
          -0.7622941206283473,
          0.23379827654993318,
          1.303149004453367,
          1.287826099022475,
          1.2714709343016026,
          -0.35790525271922513,
          -0.6941904164226653,
          -0.21990783839232766,
          0.4049388044447175,
          -0.7029717255640098,
          2.1418061547745078,
          -0.04272070937948088,
          0.00047843236067118583,
          0.40654832502335314,
          -0.9318105156963058,
          1.6492233784140895,
          -0.11745673997334564,
          0.1436187868780339
         ],
         "xaxis": "x2",
         "y": [
          -1.139418730002032,
          0.6547989998648551,
          0.39084583433649694,
          0.9646681826571936,
          0.42119755974889467,
          -0.23873385414912676,
          -0.2218960966330283,
          0.5675391268184925,
          -0.14589675805068572,
          0.2983797328942242,
          0.2481277187050298,
          -0.959565662084963,
          0.8983589857556141,
          -0.9205451688459358,
          -0.9073710648065669,
          -0.515818083052144,
          0.3568982359524299,
          -0.05039881754988521,
          1.045422545573841,
          -1.028197584323138,
          1.8884199740984546,
          0.5149998983933638,
          -0.4612569621502,
          -2.044884484384707,
          -2.2642782146088707,
          -1.3689178453525237,
          -0.4933880894392799,
          -0.44892769824569806,
          0.7021651569997387,
          0.17312188407331758,
          0.8297254909813514,
          -1.209018772125511,
          -0.6643563939520879,
          -0.03970583699998416,
          -0.5617207661402005,
          -1.5631259578039896,
          0.515889523095962,
          -0.8125689245955071,
          0.8352380213053745,
          -0.4821209854676755,
          1.1041130497801088,
          1.0306206606074977,
          0.9855867620785455,
          2.0027569273403243,
          0.2638266457953439,
          0.04350891310129441,
          0.8762454129201205,
          -0.08759198143271017,
          0.8125231817138858,
          -0.9075513348000999,
          0.5607733054161146,
          -0.23865240636633556,
          1.1191716763190929,
          0.5388212292102299,
          0.27082148087794466,
          -0.1956758784434622,
          1.2547094140308235,
          0.302733734712402,
          -1.1695245267490626,
          0.5185335466102716,
          0.8190908979174077,
          1.5642856701289398,
          -0.1839684949396022,
          -0.10464377212627611,
          -0.3738902853185688,
          -1.0578193647424976,
          2.0398000529190385,
          -0.47861082085741863,
          -0.26066652323696304,
          0.9178630415695512,
          1.9169026133398048,
          0.7487388185319119,
          -2.30795387068723,
          -0.04512853989323989,
          0.679899641273138,
          -0.48688078490635245,
          -1.1505941647974545,
          0.3185331783207228,
          0.8562093507089286,
          -0.651604128474846,
          0.45198833264601274,
          1.3482242401288627,
          0.8353632247445613,
          -1.6635070300669133,
          1.166008542614696,
          -1.062260511565378,
          0.5730805504655455,
          -0.08993760847573472,
          -0.43617816768055856,
          -1.5656173028182858,
          1.165886988023119,
          0.6929846977776724,
          0.8990660463253227,
          0.8770676699379643,
          0.35505829390139904,
          -2.3865360599607173,
          -0.6196681063548992,
          0.09208226131825127,
          -1.0205102925440586,
          -0.06404273101740816
         ],
         "yaxis": "y2"
        },
        {
         "line": {
          "color": "rgba(128, 128, 128, 1.0)",
          "dash": "solid",
          "shape": "linear",
          "width": 1.3
         },
         "marker": {
          "size": 2,
          "symbol": "circle"
         },
         "mode": "markers",
         "name": "A",
         "text": "",
         "type": "scatter",
         "x": [
          -0.37187648446881755,
          -0.6763426334321764,
          0.44254904544186424,
          0.043128429335627556,
          1.3218966083042718,
          -0.8689893255236225,
          -0.839423336646792,
          0.09534116283732383,
          0.7908300919783517,
          -0.003224382633578965,
          -1.611742154159054,
          0.30217033167470897,
          -0.457592516675857,
          1.0018171916238594,
          0.3080356581826416,
          -0.8842088012709165,
          0.6539070103086261,
          -0.7852458290296245,
          2.2834248251617093,
          0.6583106796492599,
          0.2818627313011538,
          -1.3995983056802286,
          0.738115191088348,
          -2.244443308711659,
          0.3268343994554045,
          0.6170152431305861,
          -1.144488918162176,
          -0.7276175094798126,
          0.9094425700212857,
          -0.634981675068958,
          0.6353637152292143,
          0.3714755522848729,
          1.1016368815752597,
          -1.0736541582562131,
          -0.5499263958601537,
          0.12825680039161888,
          -0.19422090452153448,
          0.6711847173472533,
          -0.5079720083360137,
          0.8794376618777473,
          0.7660839068399569,
          0.4469657505645519,
          0.1782288875422464,
          1.2572553261277692,
          0.012797089187213312,
          -1.315455101006535,
          0.9444140121501476,
          -1.699309603661943,
          1.5507327884698012,
          -2.263157926441218,
          -0.7640410787725485,
          0.16524522140828057,
          -0.1391152332793379,
          -0.30755171808980164,
          -1.9665223204572826,
          0.022182409925213985,
          0.042103650514074824,
          0.566141047628371,
          0.37353919623312437,
          -0.6033802410403714,
          -1.6834930966532138,
          -0.7609948802891601,
          -0.600547350368087,
          1.121037092850829,
          1.8694226769685849,
          -0.38346078410638423,
          -1.1283922985448451,
          1.4861840623283453,
          0.7425161967706508,
          0.2348162278991996,
          -0.736006720875728,
          1.299124119015103,
          -2.2967600855017936,
          -0.6611027621510719,
          0.09011037592488812,
          -0.8505606704256958,
          1.289789067009791,
          0.4470853129246212,
          0.31281684194385173,
          -1.9840149554041737,
          -1.5167922471062651,
          1.1444450814825367,
          0.9313695985489706,
          0.24504351281138553,
          0.5477182800240153,
          -0.5415496320942039,
          0.09391876463548578,
          0.35077022804760993,
          -0.44725758015311173,
          -0.40790677494983807,
          -1.91641511072492,
          0.7807166832884038,
          -1.5177837093068176,
          -0.07973952036839911,
          1.2356160848351003,
          -0.49352563378429737,
          -1.4454348009865599,
          -2.075119576417736,
          -1.8223545817177422,
          -0.011589663425400137
         ],
         "xaxis": "x3",
         "y": [
          -1.139418730002032,
          0.6547989998648551,
          0.39084583433649694,
          0.9646681826571936,
          0.42119755974889467,
          -0.23873385414912676,
          -0.2218960966330283,
          0.5675391268184925,
          -0.14589675805068572,
          0.2983797328942242,
          0.2481277187050298,
          -0.959565662084963,
          0.8983589857556141,
          -0.9205451688459358,
          -0.9073710648065669,
          -0.515818083052144,
          0.3568982359524299,
          -0.05039881754988521,
          1.045422545573841,
          -1.028197584323138,
          1.8884199740984546,
          0.5149998983933638,
          -0.4612569621502,
          -2.044884484384707,
          -2.2642782146088707,
          -1.3689178453525237,
          -0.4933880894392799,
          -0.44892769824569806,
          0.7021651569997387,
          0.17312188407331758,
          0.8297254909813514,
          -1.209018772125511,
          -0.6643563939520879,
          -0.03970583699998416,
          -0.5617207661402005,
          -1.5631259578039896,
          0.515889523095962,
          -0.8125689245955071,
          0.8352380213053745,
          -0.4821209854676755,
          1.1041130497801088,
          1.0306206606074977,
          0.9855867620785455,
          2.0027569273403243,
          0.2638266457953439,
          0.04350891310129441,
          0.8762454129201205,
          -0.08759198143271017,
          0.8125231817138858,
          -0.9075513348000999,
          0.5607733054161146,
          -0.23865240636633556,
          1.1191716763190929,
          0.5388212292102299,
          0.27082148087794466,
          -0.1956758784434622,
          1.2547094140308235,
          0.302733734712402,
          -1.1695245267490626,
          0.5185335466102716,
          0.8190908979174077,
          1.5642856701289398,
          -0.1839684949396022,
          -0.10464377212627611,
          -0.3738902853185688,
          -1.0578193647424976,
          2.0398000529190385,
          -0.47861082085741863,
          -0.26066652323696304,
          0.9178630415695512,
          1.9169026133398048,
          0.7487388185319119,
          -2.30795387068723,
          -0.04512853989323989,
          0.679899641273138,
          -0.48688078490635245,
          -1.1505941647974545,
          0.3185331783207228,
          0.8562093507089286,
          -0.651604128474846,
          0.45198833264601274,
          1.3482242401288627,
          0.8353632247445613,
          -1.6635070300669133,
          1.166008542614696,
          -1.062260511565378,
          0.5730805504655455,
          -0.08993760847573472,
          -0.43617816768055856,
          -1.5656173028182858,
          1.165886988023119,
          0.6929846977776724,
          0.8990660463253227,
          0.8770676699379643,
          0.35505829390139904,
          -2.3865360599607173,
          -0.6196681063548992,
          0.09208226131825127,
          -1.0205102925440586,
          -0.06404273101740816
         ],
         "yaxis": "y3"
        },
        {
         "line": {
          "color": "rgba(128, 128, 128, 1.0)",
          "dash": "solid",
          "shape": "linear",
          "width": 1.3
         },
         "marker": {
          "size": 2,
          "symbol": "circle"
         },
         "mode": "markers",
         "name": "A",
         "text": "",
         "type": "scatter",
         "x": [
          1.3047348576523032,
          0.3522854133635167,
          -0.11018101728661994,
          0.2663134248285946,
          -0.8820139616124586,
          -0.29582873262302045,
          0.610877477526127,
          -0.4021014760746017,
          0.7586739024738353,
          0.9924838356932888,
          0.0127559692876085,
          -1.6145738347932665,
          0.3526465359649648,
          -0.038412393262158145,
          1.6963814661509784,
          1.2063338613139851,
          1.5147780686008994,
          -0.015762633756935002,
          -0.09763432032843802,
          -1.0197923385180283,
          1.322555564316582,
          -1.5523748434890081,
          0.3847252513200086,
          -2.404479643278339,
          0.37583335029270026,
          -0.6805267240227657,
          1.140879087039691,
          -0.13286165094480124,
          0.5387632215140534,
          0.5774624821858806,
          -1.0866619941105529,
          -1.8913254109498334,
          -0.7142559243192667,
          -0.9781057274193367,
          0.2696396184969162,
          0.7470069064548276,
          -0.754363086434098,
          0.3183019202719849,
          -0.6902852771497229,
          -0.14019007812654616,
          0.24722884031532097,
          3.0602247282836035,
          -0.6169750899905723,
          -1.8203409884613124,
          -2.0218942661271386,
          0.5714514329583718,
          0.7746220544773167,
          1.0019448096437793,
          0.5930547903983026,
          0.58312660915772,
          1.80253463074248,
          -0.781343018728653,
          -0.5817764091318236,
          -0.32602081954393186,
          -2.3558055082279465,
          -1.278381209586953,
          -1.077896458424639,
          -0.40461249132144234,
          0.6197478560566623,
          -0.3541624271997475,
          0.09694251336396409,
          1.0607667054090593,
          0.4607660949371727,
          2.6608540891158885,
          0.5753055944897928,
          0.8670746614054494,
          0.09549931013497635,
          -0.3900968840396244,
          1.7303804491463284,
          0.5468344316265031,
          0.5442749395448334,
          -1.3469741930030925,
          -2.4392324000309293,
          0.44017350923609655,
          -1.1806725737388115,
          -0.683975295653359,
          -2.2033654746908327,
          -0.9084827475825425,
          -0.7085658234674517,
          -0.9853084295615194,
          1.0487734941633586,
          -0.3696460253466033,
          0.5890494116782784,
          1.6273023472449155,
          -0.26598068561695515,
          -0.1054810064965316,
          -1.0845950476614117,
          0.846017301947262,
          -0.2262893476297783,
          -0.6375006468385689,
          1.6079648863684999,
          0.17846153204623383,
          -3.576868174692061,
          0.02491286046082355,
          -0.19616430137984783,
          -1.5588803889449627,
          0.14645756294213907,
          -1.0132828206338977,
          0.5519082042584673,
          -1.2697352073814285
         ],
         "xaxis": "x4",
         "y": [
          -1.139418730002032,
          0.6547989998648551,
          0.39084583433649694,
          0.9646681826571936,
          0.42119755974889467,
          -0.23873385414912676,
          -0.2218960966330283,
          0.5675391268184925,
          -0.14589675805068572,
          0.2983797328942242,
          0.2481277187050298,
          -0.959565662084963,
          0.8983589857556141,
          -0.9205451688459358,
          -0.9073710648065669,
          -0.515818083052144,
          0.3568982359524299,
          -0.05039881754988521,
          1.045422545573841,
          -1.028197584323138,
          1.8884199740984546,
          0.5149998983933638,
          -0.4612569621502,
          -2.044884484384707,
          -2.2642782146088707,
          -1.3689178453525237,
          -0.4933880894392799,
          -0.44892769824569806,
          0.7021651569997387,
          0.17312188407331758,
          0.8297254909813514,
          -1.209018772125511,
          -0.6643563939520879,
          -0.03970583699998416,
          -0.5617207661402005,
          -1.5631259578039896,
          0.515889523095962,
          -0.8125689245955071,
          0.8352380213053745,
          -0.4821209854676755,
          1.1041130497801088,
          1.0306206606074977,
          0.9855867620785455,
          2.0027569273403243,
          0.2638266457953439,
          0.04350891310129441,
          0.8762454129201205,
          -0.08759198143271017,
          0.8125231817138858,
          -0.9075513348000999,
          0.5607733054161146,
          -0.23865240636633556,
          1.1191716763190929,
          0.5388212292102299,
          0.27082148087794466,
          -0.1956758784434622,
          1.2547094140308235,
          0.302733734712402,
          -1.1695245267490626,
          0.5185335466102716,
          0.8190908979174077,
          1.5642856701289398,
          -0.1839684949396022,
          -0.10464377212627611,
          -0.3738902853185688,
          -1.0578193647424976,
          2.0398000529190385,
          -0.47861082085741863,
          -0.26066652323696304,
          0.9178630415695512,
          1.9169026133398048,
          0.7487388185319119,
          -2.30795387068723,
          -0.04512853989323989,
          0.679899641273138,
          -0.48688078490635245,
          -1.1505941647974545,
          0.3185331783207228,
          0.8562093507089286,
          -0.651604128474846,
          0.45198833264601274,
          1.3482242401288627,
          0.8353632247445613,
          -1.6635070300669133,
          1.166008542614696,
          -1.062260511565378,
          0.5730805504655455,
          -0.08993760847573472,
          -0.43617816768055856,
          -1.5656173028182858,
          1.165886988023119,
          0.6929846977776724,
          0.8990660463253227,
          0.8770676699379643,
          0.35505829390139904,
          -2.3865360599607173,
          -0.6196681063548992,
          0.09208226131825127,
          -1.0205102925440586,
          -0.06404273101740816
         ],
         "yaxis": "y4"
        },
        {
         "line": {
          "color": "rgba(128, 128, 128, 1.0)",
          "dash": "solid",
          "shape": "linear",
          "width": 1.3
         },
         "marker": {
          "size": 2,
          "symbol": "circle"
         },
         "mode": "markers",
         "name": "B",
         "text": "",
         "type": "scatter",
         "x": [
          -1.139418730002032,
          0.6547989998648551,
          0.39084583433649694,
          0.9646681826571936,
          0.42119755974889467,
          -0.23873385414912676,
          -0.2218960966330283,
          0.5675391268184925,
          -0.14589675805068572,
          0.2983797328942242,
          0.2481277187050298,
          -0.959565662084963,
          0.8983589857556141,
          -0.9205451688459358,
          -0.9073710648065669,
          -0.515818083052144,
          0.3568982359524299,
          -0.05039881754988521,
          1.045422545573841,
          -1.028197584323138,
          1.8884199740984546,
          0.5149998983933638,
          -0.4612569621502,
          -2.044884484384707,
          -2.2642782146088707,
          -1.3689178453525237,
          -0.4933880894392799,
          -0.44892769824569806,
          0.7021651569997387,
          0.17312188407331758,
          0.8297254909813514,
          -1.209018772125511,
          -0.6643563939520879,
          -0.03970583699998416,
          -0.5617207661402005,
          -1.5631259578039896,
          0.515889523095962,
          -0.8125689245955071,
          0.8352380213053745,
          -0.4821209854676755,
          1.1041130497801088,
          1.0306206606074977,
          0.9855867620785455,
          2.0027569273403243,
          0.2638266457953439,
          0.04350891310129441,
          0.8762454129201205,
          -0.08759198143271017,
          0.8125231817138858,
          -0.9075513348000999,
          0.5607733054161146,
          -0.23865240636633556,
          1.1191716763190929,
          0.5388212292102299,
          0.27082148087794466,
          -0.1956758784434622,
          1.2547094140308235,
          0.302733734712402,
          -1.1695245267490626,
          0.5185335466102716,
          0.8190908979174077,
          1.5642856701289398,
          -0.1839684949396022,
          -0.10464377212627611,
          -0.3738902853185688,
          -1.0578193647424976,
          2.0398000529190385,
          -0.47861082085741863,
          -0.26066652323696304,
          0.9178630415695512,
          1.9169026133398048,
          0.7487388185319119,
          -2.30795387068723,
          -0.04512853989323989,
          0.679899641273138,
          -0.48688078490635245,
          -1.1505941647974545,
          0.3185331783207228,
          0.8562093507089286,
          -0.651604128474846,
          0.45198833264601274,
          1.3482242401288627,
          0.8353632247445613,
          -1.6635070300669133,
          1.166008542614696,
          -1.062260511565378,
          0.5730805504655455,
          -0.08993760847573472,
          -0.43617816768055856,
          -1.5656173028182858,
          1.165886988023119,
          0.6929846977776724,
          0.8990660463253227,
          0.8770676699379643,
          0.35505829390139904,
          -2.3865360599607173,
          -0.6196681063548992,
          0.09208226131825127,
          -1.0205102925440586,
          -0.06404273101740816
         ],
         "xaxis": "x5",
         "y": [
          0.07185369046079401,
          0.29267616132149354,
          1.3359631098647982,
          0.545107252353979,
          0.023573072156253636,
          1.7806383033831787,
          -0.41920654167464244,
          0.004753334568482668,
          -2.7545563538357722,
          0.07041581324653917,
          -1.364304744464887,
          0.718262483781206,
          0.37671176544749074,
          -1.0847088557375442,
          1.6187844586389555,
          -0.41038939569643645,
          0.9022879204128095,
          0.07470444368018322,
          -0.7584331811688072,
          0.3479398247480616,
          0.8397792016531902,
          0.2845358694450361,
          0.19511201142922244,
          -0.010539222850371364,
          -0.14990513147805898,
          -0.37005534246633354,
          0.16154465308645954,
          -0.9630652851775763,
          0.579517364159973,
          -1.4035777230307875,
          -0.14667617489278087,
          0.429449098925077,
          1.440046259087059,
          2.779703254185213,
          -1.514950174241543,
          -0.38314255705606365,
          -0.28049090845899743,
          -1.6463839162523453,
          0.9295239384079738,
          0.7384350925009466,
          0.10959327433895386,
          -0.39257212731936186,
          0.23713498567784455,
          -1.7154102455070654,
          0.20760628052385752,
          -1.2702993648325682,
          0.07927160209414827,
          -0.4941781039881184,
          -0.5452131194133613,
          0.8346752200099381,
          0.21672730634365797,
          2.0009415803598136,
          -0.4925540797247069,
          0.290306402115402,
          -2.7768372967908723,
          -0.01243405416751847,
          -0.6796710071224988,
          -0.5173016212189284,
          0.011980851961724251,
          -0.4746822465762274,
          -0.5944376172789942,
          0.1581220435820472,
          1.26495408912878,
          -1.0696550732525592,
          0.013027485374751303,
          -0.4319955499309191,
          1.3510716342226594,
          0.47790259237997684,
          1.270129257323493,
          -0.7962319883857973,
          0.4221151806341645,
          1.2241360896242566,
          1.2238455887227986,
          0.5360442855369453,
          0.026539491263576968,
          0.16069619963252837,
          -0.11268005216683398,
          0.9944938623906966,
          0.4271947826458063,
          1.149959525055607,
          1.1635316140334477,
          -0.5986582879739627,
          -0.7622941206283473,
          0.23379827654993318,
          1.303149004453367,
          1.287826099022475,
          1.2714709343016026,
          -0.35790525271922513,
          -0.6941904164226653,
          -0.21990783839232766,
          0.4049388044447175,
          -0.7029717255640098,
          2.1418061547745078,
          -0.04272070937948088,
          0.00047843236067118583,
          0.40654832502335314,
          -0.9318105156963058,
          1.6492233784140895,
          -0.11745673997334564,
          0.1436187868780339
         ],
         "yaxis": "y5"
        },
        {
         "histfunc": "count",
         "histnorm": "",
         "marker": {
          "color": "rgba(55, 128, 191, 1.0)",
          "line": {
           "color": "#4D5663",
           "width": 1.3
          }
         },
         "name": "B",
         "nbinsx": 10,
         "opacity": 0.8,
         "orientation": "v",
         "type": "histogram",
         "x": [
          0.07185369046079401,
          0.29267616132149354,
          1.3359631098647982,
          0.545107252353979,
          0.023573072156253636,
          1.7806383033831787,
          -0.41920654167464244,
          0.004753334568482668,
          -2.7545563538357722,
          0.07041581324653917,
          -1.364304744464887,
          0.718262483781206,
          0.37671176544749074,
          -1.0847088557375442,
          1.6187844586389555,
          -0.41038939569643645,
          0.9022879204128095,
          0.07470444368018322,
          -0.7584331811688072,
          0.3479398247480616,
          0.8397792016531902,
          0.2845358694450361,
          0.19511201142922244,
          -0.010539222850371364,
          -0.14990513147805898,
          -0.37005534246633354,
          0.16154465308645954,
          -0.9630652851775763,
          0.579517364159973,
          -1.4035777230307875,
          -0.14667617489278087,
          0.429449098925077,
          1.440046259087059,
          2.779703254185213,
          -1.514950174241543,
          -0.38314255705606365,
          -0.28049090845899743,
          -1.6463839162523453,
          0.9295239384079738,
          0.7384350925009466,
          0.10959327433895386,
          -0.39257212731936186,
          0.23713498567784455,
          -1.7154102455070654,
          0.20760628052385752,
          -1.2702993648325682,
          0.07927160209414827,
          -0.4941781039881184,
          -0.5452131194133613,
          0.8346752200099381,
          0.21672730634365797,
          2.0009415803598136,
          -0.4925540797247069,
          0.290306402115402,
          -2.7768372967908723,
          -0.01243405416751847,
          -0.6796710071224988,
          -0.5173016212189284,
          0.011980851961724251,
          -0.4746822465762274,
          -0.5944376172789942,
          0.1581220435820472,
          1.26495408912878,
          -1.0696550732525592,
          0.013027485374751303,
          -0.4319955499309191,
          1.3510716342226594,
          0.47790259237997684,
          1.270129257323493,
          -0.7962319883857973,
          0.4221151806341645,
          1.2241360896242566,
          1.2238455887227986,
          0.5360442855369453,
          0.026539491263576968,
          0.16069619963252837,
          -0.11268005216683398,
          0.9944938623906966,
          0.4271947826458063,
          1.149959525055607,
          1.1635316140334477,
          -0.5986582879739627,
          -0.7622941206283473,
          0.23379827654993318,
          1.303149004453367,
          1.287826099022475,
          1.2714709343016026,
          -0.35790525271922513,
          -0.6941904164226653,
          -0.21990783839232766,
          0.4049388044447175,
          -0.7029717255640098,
          2.1418061547745078,
          -0.04272070937948088,
          0.00047843236067118583,
          0.40654832502335314,
          -0.9318105156963058,
          1.6492233784140895,
          -0.11745673997334564,
          0.1436187868780339
         ],
         "xaxis": "x6",
         "yaxis": "y6"
        },
        {
         "line": {
          "color": "rgba(128, 128, 128, 1.0)",
          "dash": "solid",
          "shape": "linear",
          "width": 1.3
         },
         "marker": {
          "size": 2,
          "symbol": "circle"
         },
         "mode": "markers",
         "name": "B",
         "text": "",
         "type": "scatter",
         "x": [
          -0.37187648446881755,
          -0.6763426334321764,
          0.44254904544186424,
          0.043128429335627556,
          1.3218966083042718,
          -0.8689893255236225,
          -0.839423336646792,
          0.09534116283732383,
          0.7908300919783517,
          -0.003224382633578965,
          -1.611742154159054,
          0.30217033167470897,
          -0.457592516675857,
          1.0018171916238594,
          0.3080356581826416,
          -0.8842088012709165,
          0.6539070103086261,
          -0.7852458290296245,
          2.2834248251617093,
          0.6583106796492599,
          0.2818627313011538,
          -1.3995983056802286,
          0.738115191088348,
          -2.244443308711659,
          0.3268343994554045,
          0.6170152431305861,
          -1.144488918162176,
          -0.7276175094798126,
          0.9094425700212857,
          -0.634981675068958,
          0.6353637152292143,
          0.3714755522848729,
          1.1016368815752597,
          -1.0736541582562131,
          -0.5499263958601537,
          0.12825680039161888,
          -0.19422090452153448,
          0.6711847173472533,
          -0.5079720083360137,
          0.8794376618777473,
          0.7660839068399569,
          0.4469657505645519,
          0.1782288875422464,
          1.2572553261277692,
          0.012797089187213312,
          -1.315455101006535,
          0.9444140121501476,
          -1.699309603661943,
          1.5507327884698012,
          -2.263157926441218,
          -0.7640410787725485,
          0.16524522140828057,
          -0.1391152332793379,
          -0.30755171808980164,
          -1.9665223204572826,
          0.022182409925213985,
          0.042103650514074824,
          0.566141047628371,
          0.37353919623312437,
          -0.6033802410403714,
          -1.6834930966532138,
          -0.7609948802891601,
          -0.600547350368087,
          1.121037092850829,
          1.8694226769685849,
          -0.38346078410638423,
          -1.1283922985448451,
          1.4861840623283453,
          0.7425161967706508,
          0.2348162278991996,
          -0.736006720875728,
          1.299124119015103,
          -2.2967600855017936,
          -0.6611027621510719,
          0.09011037592488812,
          -0.8505606704256958,
          1.289789067009791,
          0.4470853129246212,
          0.31281684194385173,
          -1.9840149554041737,
          -1.5167922471062651,
          1.1444450814825367,
          0.9313695985489706,
          0.24504351281138553,
          0.5477182800240153,
          -0.5415496320942039,
          0.09391876463548578,
          0.35077022804760993,
          -0.44725758015311173,
          -0.40790677494983807,
          -1.91641511072492,
          0.7807166832884038,
          -1.5177837093068176,
          -0.07973952036839911,
          1.2356160848351003,
          -0.49352563378429737,
          -1.4454348009865599,
          -2.075119576417736,
          -1.8223545817177422,
          -0.011589663425400137
         ],
         "xaxis": "x7",
         "y": [
          0.07185369046079401,
          0.29267616132149354,
          1.3359631098647982,
          0.545107252353979,
          0.023573072156253636,
          1.7806383033831787,
          -0.41920654167464244,
          0.004753334568482668,
          -2.7545563538357722,
          0.07041581324653917,
          -1.364304744464887,
          0.718262483781206,
          0.37671176544749074,
          -1.0847088557375442,
          1.6187844586389555,
          -0.41038939569643645,
          0.9022879204128095,
          0.07470444368018322,
          -0.7584331811688072,
          0.3479398247480616,
          0.8397792016531902,
          0.2845358694450361,
          0.19511201142922244,
          -0.010539222850371364,
          -0.14990513147805898,
          -0.37005534246633354,
          0.16154465308645954,
          -0.9630652851775763,
          0.579517364159973,
          -1.4035777230307875,
          -0.14667617489278087,
          0.429449098925077,
          1.440046259087059,
          2.779703254185213,
          -1.514950174241543,
          -0.38314255705606365,
          -0.28049090845899743,
          -1.6463839162523453,
          0.9295239384079738,
          0.7384350925009466,
          0.10959327433895386,
          -0.39257212731936186,
          0.23713498567784455,
          -1.7154102455070654,
          0.20760628052385752,
          -1.2702993648325682,
          0.07927160209414827,
          -0.4941781039881184,
          -0.5452131194133613,
          0.8346752200099381,
          0.21672730634365797,
          2.0009415803598136,
          -0.4925540797247069,
          0.290306402115402,
          -2.7768372967908723,
          -0.01243405416751847,
          -0.6796710071224988,
          -0.5173016212189284,
          0.011980851961724251,
          -0.4746822465762274,
          -0.5944376172789942,
          0.1581220435820472,
          1.26495408912878,
          -1.0696550732525592,
          0.013027485374751303,
          -0.4319955499309191,
          1.3510716342226594,
          0.47790259237997684,
          1.270129257323493,
          -0.7962319883857973,
          0.4221151806341645,
          1.2241360896242566,
          1.2238455887227986,
          0.5360442855369453,
          0.026539491263576968,
          0.16069619963252837,
          -0.11268005216683398,
          0.9944938623906966,
          0.4271947826458063,
          1.149959525055607,
          1.1635316140334477,
          -0.5986582879739627,
          -0.7622941206283473,
          0.23379827654993318,
          1.303149004453367,
          1.287826099022475,
          1.2714709343016026,
          -0.35790525271922513,
          -0.6941904164226653,
          -0.21990783839232766,
          0.4049388044447175,
          -0.7029717255640098,
          2.1418061547745078,
          -0.04272070937948088,
          0.00047843236067118583,
          0.40654832502335314,
          -0.9318105156963058,
          1.6492233784140895,
          -0.11745673997334564,
          0.1436187868780339
         ],
         "yaxis": "y7"
        },
        {
         "line": {
          "color": "rgba(128, 128, 128, 1.0)",
          "dash": "solid",
          "shape": "linear",
          "width": 1.3
         },
         "marker": {
          "size": 2,
          "symbol": "circle"
         },
         "mode": "markers",
         "name": "B",
         "text": "",
         "type": "scatter",
         "x": [
          1.3047348576523032,
          0.3522854133635167,
          -0.11018101728661994,
          0.2663134248285946,
          -0.8820139616124586,
          -0.29582873262302045,
          0.610877477526127,
          -0.4021014760746017,
          0.7586739024738353,
          0.9924838356932888,
          0.0127559692876085,
          -1.6145738347932665,
          0.3526465359649648,
          -0.038412393262158145,
          1.6963814661509784,
          1.2063338613139851,
          1.5147780686008994,
          -0.015762633756935002,
          -0.09763432032843802,
          -1.0197923385180283,
          1.322555564316582,
          -1.5523748434890081,
          0.3847252513200086,
          -2.404479643278339,
          0.37583335029270026,
          -0.6805267240227657,
          1.140879087039691,
          -0.13286165094480124,
          0.5387632215140534,
          0.5774624821858806,
          -1.0866619941105529,
          -1.8913254109498334,
          -0.7142559243192667,
          -0.9781057274193367,
          0.2696396184969162,
          0.7470069064548276,
          -0.754363086434098,
          0.3183019202719849,
          -0.6902852771497229,
          -0.14019007812654616,
          0.24722884031532097,
          3.0602247282836035,
          -0.6169750899905723,
          -1.8203409884613124,
          -2.0218942661271386,
          0.5714514329583718,
          0.7746220544773167,
          1.0019448096437793,
          0.5930547903983026,
          0.58312660915772,
          1.80253463074248,
          -0.781343018728653,
          -0.5817764091318236,
          -0.32602081954393186,
          -2.3558055082279465,
          -1.278381209586953,
          -1.077896458424639,
          -0.40461249132144234,
          0.6197478560566623,
          -0.3541624271997475,
          0.09694251336396409,
          1.0607667054090593,
          0.4607660949371727,
          2.6608540891158885,
          0.5753055944897928,
          0.8670746614054494,
          0.09549931013497635,
          -0.3900968840396244,
          1.7303804491463284,
          0.5468344316265031,
          0.5442749395448334,
          -1.3469741930030925,
          -2.4392324000309293,
          0.44017350923609655,
          -1.1806725737388115,
          -0.683975295653359,
          -2.2033654746908327,
          -0.9084827475825425,
          -0.7085658234674517,
          -0.9853084295615194,
          1.0487734941633586,
          -0.3696460253466033,
          0.5890494116782784,
          1.6273023472449155,
          -0.26598068561695515,
          -0.1054810064965316,
          -1.0845950476614117,
          0.846017301947262,
          -0.2262893476297783,
          -0.6375006468385689,
          1.6079648863684999,
          0.17846153204623383,
          -3.576868174692061,
          0.02491286046082355,
          -0.19616430137984783,
          -1.5588803889449627,
          0.14645756294213907,
          -1.0132828206338977,
          0.5519082042584673,
          -1.2697352073814285
         ],
         "xaxis": "x8",
         "y": [
          0.07185369046079401,
          0.29267616132149354,
          1.3359631098647982,
          0.545107252353979,
          0.023573072156253636,
          1.7806383033831787,
          -0.41920654167464244,
          0.004753334568482668,
          -2.7545563538357722,
          0.07041581324653917,
          -1.364304744464887,
          0.718262483781206,
          0.37671176544749074,
          -1.0847088557375442,
          1.6187844586389555,
          -0.41038939569643645,
          0.9022879204128095,
          0.07470444368018322,
          -0.7584331811688072,
          0.3479398247480616,
          0.8397792016531902,
          0.2845358694450361,
          0.19511201142922244,
          -0.010539222850371364,
          -0.14990513147805898,
          -0.37005534246633354,
          0.16154465308645954,
          -0.9630652851775763,
          0.579517364159973,
          -1.4035777230307875,
          -0.14667617489278087,
          0.429449098925077,
          1.440046259087059,
          2.779703254185213,
          -1.514950174241543,
          -0.38314255705606365,
          -0.28049090845899743,
          -1.6463839162523453,
          0.9295239384079738,
          0.7384350925009466,
          0.10959327433895386,
          -0.39257212731936186,
          0.23713498567784455,
          -1.7154102455070654,
          0.20760628052385752,
          -1.2702993648325682,
          0.07927160209414827,
          -0.4941781039881184,
          -0.5452131194133613,
          0.8346752200099381,
          0.21672730634365797,
          2.0009415803598136,
          -0.4925540797247069,
          0.290306402115402,
          -2.7768372967908723,
          -0.01243405416751847,
          -0.6796710071224988,
          -0.5173016212189284,
          0.011980851961724251,
          -0.4746822465762274,
          -0.5944376172789942,
          0.1581220435820472,
          1.26495408912878,
          -1.0696550732525592,
          0.013027485374751303,
          -0.4319955499309191,
          1.3510716342226594,
          0.47790259237997684,
          1.270129257323493,
          -0.7962319883857973,
          0.4221151806341645,
          1.2241360896242566,
          1.2238455887227986,
          0.5360442855369453,
          0.026539491263576968,
          0.16069619963252837,
          -0.11268005216683398,
          0.9944938623906966,
          0.4271947826458063,
          1.149959525055607,
          1.1635316140334477,
          -0.5986582879739627,
          -0.7622941206283473,
          0.23379827654993318,
          1.303149004453367,
          1.287826099022475,
          1.2714709343016026,
          -0.35790525271922513,
          -0.6941904164226653,
          -0.21990783839232766,
          0.4049388044447175,
          -0.7029717255640098,
          2.1418061547745078,
          -0.04272070937948088,
          0.00047843236067118583,
          0.40654832502335314,
          -0.9318105156963058,
          1.6492233784140895,
          -0.11745673997334564,
          0.1436187868780339
         ],
         "yaxis": "y8"
        },
        {
         "line": {
          "color": "rgba(128, 128, 128, 1.0)",
          "dash": "solid",
          "shape": "linear",
          "width": 1.3
         },
         "marker": {
          "size": 2,
          "symbol": "circle"
         },
         "mode": "markers",
         "name": "C",
         "text": "",
         "type": "scatter",
         "x": [
          -1.139418730002032,
          0.6547989998648551,
          0.39084583433649694,
          0.9646681826571936,
          0.42119755974889467,
          -0.23873385414912676,
          -0.2218960966330283,
          0.5675391268184925,
          -0.14589675805068572,
          0.2983797328942242,
          0.2481277187050298,
          -0.959565662084963,
          0.8983589857556141,
          -0.9205451688459358,
          -0.9073710648065669,
          -0.515818083052144,
          0.3568982359524299,
          -0.05039881754988521,
          1.045422545573841,
          -1.028197584323138,
          1.8884199740984546,
          0.5149998983933638,
          -0.4612569621502,
          -2.044884484384707,
          -2.2642782146088707,
          -1.3689178453525237,
          -0.4933880894392799,
          -0.44892769824569806,
          0.7021651569997387,
          0.17312188407331758,
          0.8297254909813514,
          -1.209018772125511,
          -0.6643563939520879,
          -0.03970583699998416,
          -0.5617207661402005,
          -1.5631259578039896,
          0.515889523095962,
          -0.8125689245955071,
          0.8352380213053745,
          -0.4821209854676755,
          1.1041130497801088,
          1.0306206606074977,
          0.9855867620785455,
          2.0027569273403243,
          0.2638266457953439,
          0.04350891310129441,
          0.8762454129201205,
          -0.08759198143271017,
          0.8125231817138858,
          -0.9075513348000999,
          0.5607733054161146,
          -0.23865240636633556,
          1.1191716763190929,
          0.5388212292102299,
          0.27082148087794466,
          -0.1956758784434622,
          1.2547094140308235,
          0.302733734712402,
          -1.1695245267490626,
          0.5185335466102716,
          0.8190908979174077,
          1.5642856701289398,
          -0.1839684949396022,
          -0.10464377212627611,
          -0.3738902853185688,
          -1.0578193647424976,
          2.0398000529190385,
          -0.47861082085741863,
          -0.26066652323696304,
          0.9178630415695512,
          1.9169026133398048,
          0.7487388185319119,
          -2.30795387068723,
          -0.04512853989323989,
          0.679899641273138,
          -0.48688078490635245,
          -1.1505941647974545,
          0.3185331783207228,
          0.8562093507089286,
          -0.651604128474846,
          0.45198833264601274,
          1.3482242401288627,
          0.8353632247445613,
          -1.6635070300669133,
          1.166008542614696,
          -1.062260511565378,
          0.5730805504655455,
          -0.08993760847573472,
          -0.43617816768055856,
          -1.5656173028182858,
          1.165886988023119,
          0.6929846977776724,
          0.8990660463253227,
          0.8770676699379643,
          0.35505829390139904,
          -2.3865360599607173,
          -0.6196681063548992,
          0.09208226131825127,
          -1.0205102925440586,
          -0.06404273101740816
         ],
         "xaxis": "x9",
         "y": [
          -0.37187648446881755,
          -0.6763426334321764,
          0.44254904544186424,
          0.043128429335627556,
          1.3218966083042718,
          -0.8689893255236225,
          -0.839423336646792,
          0.09534116283732383,
          0.7908300919783517,
          -0.003224382633578965,
          -1.611742154159054,
          0.30217033167470897,
          -0.457592516675857,
          1.0018171916238594,
          0.3080356581826416,
          -0.8842088012709165,
          0.6539070103086261,
          -0.7852458290296245,
          2.2834248251617093,
          0.6583106796492599,
          0.2818627313011538,
          -1.3995983056802286,
          0.738115191088348,
          -2.244443308711659,
          0.3268343994554045,
          0.6170152431305861,
          -1.144488918162176,
          -0.7276175094798126,
          0.9094425700212857,
          -0.634981675068958,
          0.6353637152292143,
          0.3714755522848729,
          1.1016368815752597,
          -1.0736541582562131,
          -0.5499263958601537,
          0.12825680039161888,
          -0.19422090452153448,
          0.6711847173472533,
          -0.5079720083360137,
          0.8794376618777473,
          0.7660839068399569,
          0.4469657505645519,
          0.1782288875422464,
          1.2572553261277692,
          0.012797089187213312,
          -1.315455101006535,
          0.9444140121501476,
          -1.699309603661943,
          1.5507327884698012,
          -2.263157926441218,
          -0.7640410787725485,
          0.16524522140828057,
          -0.1391152332793379,
          -0.30755171808980164,
          -1.9665223204572826,
          0.022182409925213985,
          0.042103650514074824,
          0.566141047628371,
          0.37353919623312437,
          -0.6033802410403714,
          -1.6834930966532138,
          -0.7609948802891601,
          -0.600547350368087,
          1.121037092850829,
          1.8694226769685849,
          -0.38346078410638423,
          -1.1283922985448451,
          1.4861840623283453,
          0.7425161967706508,
          0.2348162278991996,
          -0.736006720875728,
          1.299124119015103,
          -2.2967600855017936,
          -0.6611027621510719,
          0.09011037592488812,
          -0.8505606704256958,
          1.289789067009791,
          0.4470853129246212,
          0.31281684194385173,
          -1.9840149554041737,
          -1.5167922471062651,
          1.1444450814825367,
          0.9313695985489706,
          0.24504351281138553,
          0.5477182800240153,
          -0.5415496320942039,
          0.09391876463548578,
          0.35077022804760993,
          -0.44725758015311173,
          -0.40790677494983807,
          -1.91641511072492,
          0.7807166832884038,
          -1.5177837093068176,
          -0.07973952036839911,
          1.2356160848351003,
          -0.49352563378429737,
          -1.4454348009865599,
          -2.075119576417736,
          -1.8223545817177422,
          -0.011589663425400137
         ],
         "yaxis": "y9"
        },
        {
         "line": {
          "color": "rgba(128, 128, 128, 1.0)",
          "dash": "solid",
          "shape": "linear",
          "width": 1.3
         },
         "marker": {
          "size": 2,
          "symbol": "circle"
         },
         "mode": "markers",
         "name": "C",
         "text": "",
         "type": "scatter",
         "x": [
          0.07185369046079401,
          0.29267616132149354,
          1.3359631098647982,
          0.545107252353979,
          0.023573072156253636,
          1.7806383033831787,
          -0.41920654167464244,
          0.004753334568482668,
          -2.7545563538357722,
          0.07041581324653917,
          -1.364304744464887,
          0.718262483781206,
          0.37671176544749074,
          -1.0847088557375442,
          1.6187844586389555,
          -0.41038939569643645,
          0.9022879204128095,
          0.07470444368018322,
          -0.7584331811688072,
          0.3479398247480616,
          0.8397792016531902,
          0.2845358694450361,
          0.19511201142922244,
          -0.010539222850371364,
          -0.14990513147805898,
          -0.37005534246633354,
          0.16154465308645954,
          -0.9630652851775763,
          0.579517364159973,
          -1.4035777230307875,
          -0.14667617489278087,
          0.429449098925077,
          1.440046259087059,
          2.779703254185213,
          -1.514950174241543,
          -0.38314255705606365,
          -0.28049090845899743,
          -1.6463839162523453,
          0.9295239384079738,
          0.7384350925009466,
          0.10959327433895386,
          -0.39257212731936186,
          0.23713498567784455,
          -1.7154102455070654,
          0.20760628052385752,
          -1.2702993648325682,
          0.07927160209414827,
          -0.4941781039881184,
          -0.5452131194133613,
          0.8346752200099381,
          0.21672730634365797,
          2.0009415803598136,
          -0.4925540797247069,
          0.290306402115402,
          -2.7768372967908723,
          -0.01243405416751847,
          -0.6796710071224988,
          -0.5173016212189284,
          0.011980851961724251,
          -0.4746822465762274,
          -0.5944376172789942,
          0.1581220435820472,
          1.26495408912878,
          -1.0696550732525592,
          0.013027485374751303,
          -0.4319955499309191,
          1.3510716342226594,
          0.47790259237997684,
          1.270129257323493,
          -0.7962319883857973,
          0.4221151806341645,
          1.2241360896242566,
          1.2238455887227986,
          0.5360442855369453,
          0.026539491263576968,
          0.16069619963252837,
          -0.11268005216683398,
          0.9944938623906966,
          0.4271947826458063,
          1.149959525055607,
          1.1635316140334477,
          -0.5986582879739627,
          -0.7622941206283473,
          0.23379827654993318,
          1.303149004453367,
          1.287826099022475,
          1.2714709343016026,
          -0.35790525271922513,
          -0.6941904164226653,
          -0.21990783839232766,
          0.4049388044447175,
          -0.7029717255640098,
          2.1418061547745078,
          -0.04272070937948088,
          0.00047843236067118583,
          0.40654832502335314,
          -0.9318105156963058,
          1.6492233784140895,
          -0.11745673997334564,
          0.1436187868780339
         ],
         "xaxis": "x10",
         "y": [
          -0.37187648446881755,
          -0.6763426334321764,
          0.44254904544186424,
          0.043128429335627556,
          1.3218966083042718,
          -0.8689893255236225,
          -0.839423336646792,
          0.09534116283732383,
          0.7908300919783517,
          -0.003224382633578965,
          -1.611742154159054,
          0.30217033167470897,
          -0.457592516675857,
          1.0018171916238594,
          0.3080356581826416,
          -0.8842088012709165,
          0.6539070103086261,
          -0.7852458290296245,
          2.2834248251617093,
          0.6583106796492599,
          0.2818627313011538,
          -1.3995983056802286,
          0.738115191088348,
          -2.244443308711659,
          0.3268343994554045,
          0.6170152431305861,
          -1.144488918162176,
          -0.7276175094798126,
          0.9094425700212857,
          -0.634981675068958,
          0.6353637152292143,
          0.3714755522848729,
          1.1016368815752597,
          -1.0736541582562131,
          -0.5499263958601537,
          0.12825680039161888,
          -0.19422090452153448,
          0.6711847173472533,
          -0.5079720083360137,
          0.8794376618777473,
          0.7660839068399569,
          0.4469657505645519,
          0.1782288875422464,
          1.2572553261277692,
          0.012797089187213312,
          -1.315455101006535,
          0.9444140121501476,
          -1.699309603661943,
          1.5507327884698012,
          -2.263157926441218,
          -0.7640410787725485,
          0.16524522140828057,
          -0.1391152332793379,
          -0.30755171808980164,
          -1.9665223204572826,
          0.022182409925213985,
          0.042103650514074824,
          0.566141047628371,
          0.37353919623312437,
          -0.6033802410403714,
          -1.6834930966532138,
          -0.7609948802891601,
          -0.600547350368087,
          1.121037092850829,
          1.8694226769685849,
          -0.38346078410638423,
          -1.1283922985448451,
          1.4861840623283453,
          0.7425161967706508,
          0.2348162278991996,
          -0.736006720875728,
          1.299124119015103,
          -2.2967600855017936,
          -0.6611027621510719,
          0.09011037592488812,
          -0.8505606704256958,
          1.289789067009791,
          0.4470853129246212,
          0.31281684194385173,
          -1.9840149554041737,
          -1.5167922471062651,
          1.1444450814825367,
          0.9313695985489706,
          0.24504351281138553,
          0.5477182800240153,
          -0.5415496320942039,
          0.09391876463548578,
          0.35077022804760993,
          -0.44725758015311173,
          -0.40790677494983807,
          -1.91641511072492,
          0.7807166832884038,
          -1.5177837093068176,
          -0.07973952036839911,
          1.2356160848351003,
          -0.49352563378429737,
          -1.4454348009865599,
          -2.075119576417736,
          -1.8223545817177422,
          -0.011589663425400137
         ],
         "yaxis": "y10"
        },
        {
         "histfunc": "count",
         "histnorm": "",
         "marker": {
          "color": "rgba(50, 171, 96, 1.0)",
          "line": {
           "color": "#4D5663",
           "width": 1.3
          }
         },
         "name": "C",
         "nbinsx": 10,
         "opacity": 0.8,
         "orientation": "v",
         "type": "histogram",
         "x": [
          -0.37187648446881755,
          -0.6763426334321764,
          0.44254904544186424,
          0.043128429335627556,
          1.3218966083042718,
          -0.8689893255236225,
          -0.839423336646792,
          0.09534116283732383,
          0.7908300919783517,
          -0.003224382633578965,
          -1.611742154159054,
          0.30217033167470897,
          -0.457592516675857,
          1.0018171916238594,
          0.3080356581826416,
          -0.8842088012709165,
          0.6539070103086261,
          -0.7852458290296245,
          2.2834248251617093,
          0.6583106796492599,
          0.2818627313011538,
          -1.3995983056802286,
          0.738115191088348,
          -2.244443308711659,
          0.3268343994554045,
          0.6170152431305861,
          -1.144488918162176,
          -0.7276175094798126,
          0.9094425700212857,
          -0.634981675068958,
          0.6353637152292143,
          0.3714755522848729,
          1.1016368815752597,
          -1.0736541582562131,
          -0.5499263958601537,
          0.12825680039161888,
          -0.19422090452153448,
          0.6711847173472533,
          -0.5079720083360137,
          0.8794376618777473,
          0.7660839068399569,
          0.4469657505645519,
          0.1782288875422464,
          1.2572553261277692,
          0.012797089187213312,
          -1.315455101006535,
          0.9444140121501476,
          -1.699309603661943,
          1.5507327884698012,
          -2.263157926441218,
          -0.7640410787725485,
          0.16524522140828057,
          -0.1391152332793379,
          -0.30755171808980164,
          -1.9665223204572826,
          0.022182409925213985,
          0.042103650514074824,
          0.566141047628371,
          0.37353919623312437,
          -0.6033802410403714,
          -1.6834930966532138,
          -0.7609948802891601,
          -0.600547350368087,
          1.121037092850829,
          1.8694226769685849,
          -0.38346078410638423,
          -1.1283922985448451,
          1.4861840623283453,
          0.7425161967706508,
          0.2348162278991996,
          -0.736006720875728,
          1.299124119015103,
          -2.2967600855017936,
          -0.6611027621510719,
          0.09011037592488812,
          -0.8505606704256958,
          1.289789067009791,
          0.4470853129246212,
          0.31281684194385173,
          -1.9840149554041737,
          -1.5167922471062651,
          1.1444450814825367,
          0.9313695985489706,
          0.24504351281138553,
          0.5477182800240153,
          -0.5415496320942039,
          0.09391876463548578,
          0.35077022804760993,
          -0.44725758015311173,
          -0.40790677494983807,
          -1.91641511072492,
          0.7807166832884038,
          -1.5177837093068176,
          -0.07973952036839911,
          1.2356160848351003,
          -0.49352563378429737,
          -1.4454348009865599,
          -2.075119576417736,
          -1.8223545817177422,
          -0.011589663425400137
         ],
         "xaxis": "x11",
         "yaxis": "y11"
        },
        {
         "line": {
          "color": "rgba(128, 128, 128, 1.0)",
          "dash": "solid",
          "shape": "linear",
          "width": 1.3
         },
         "marker": {
          "size": 2,
          "symbol": "circle"
         },
         "mode": "markers",
         "name": "C",
         "text": "",
         "type": "scatter",
         "x": [
          1.3047348576523032,
          0.3522854133635167,
          -0.11018101728661994,
          0.2663134248285946,
          -0.8820139616124586,
          -0.29582873262302045,
          0.610877477526127,
          -0.4021014760746017,
          0.7586739024738353,
          0.9924838356932888,
          0.0127559692876085,
          -1.6145738347932665,
          0.3526465359649648,
          -0.038412393262158145,
          1.6963814661509784,
          1.2063338613139851,
          1.5147780686008994,
          -0.015762633756935002,
          -0.09763432032843802,
          -1.0197923385180283,
          1.322555564316582,
          -1.5523748434890081,
          0.3847252513200086,
          -2.404479643278339,
          0.37583335029270026,
          -0.6805267240227657,
          1.140879087039691,
          -0.13286165094480124,
          0.5387632215140534,
          0.5774624821858806,
          -1.0866619941105529,
          -1.8913254109498334,
          -0.7142559243192667,
          -0.9781057274193367,
          0.2696396184969162,
          0.7470069064548276,
          -0.754363086434098,
          0.3183019202719849,
          -0.6902852771497229,
          -0.14019007812654616,
          0.24722884031532097,
          3.0602247282836035,
          -0.6169750899905723,
          -1.8203409884613124,
          -2.0218942661271386,
          0.5714514329583718,
          0.7746220544773167,
          1.0019448096437793,
          0.5930547903983026,
          0.58312660915772,
          1.80253463074248,
          -0.781343018728653,
          -0.5817764091318236,
          -0.32602081954393186,
          -2.3558055082279465,
          -1.278381209586953,
          -1.077896458424639,
          -0.40461249132144234,
          0.6197478560566623,
          -0.3541624271997475,
          0.09694251336396409,
          1.0607667054090593,
          0.4607660949371727,
          2.6608540891158885,
          0.5753055944897928,
          0.8670746614054494,
          0.09549931013497635,
          -0.3900968840396244,
          1.7303804491463284,
          0.5468344316265031,
          0.5442749395448334,
          -1.3469741930030925,
          -2.4392324000309293,
          0.44017350923609655,
          -1.1806725737388115,
          -0.683975295653359,
          -2.2033654746908327,
          -0.9084827475825425,
          -0.7085658234674517,
          -0.9853084295615194,
          1.0487734941633586,
          -0.3696460253466033,
          0.5890494116782784,
          1.6273023472449155,
          -0.26598068561695515,
          -0.1054810064965316,
          -1.0845950476614117,
          0.846017301947262,
          -0.2262893476297783,
          -0.6375006468385689,
          1.6079648863684999,
          0.17846153204623383,
          -3.576868174692061,
          0.02491286046082355,
          -0.19616430137984783,
          -1.5588803889449627,
          0.14645756294213907,
          -1.0132828206338977,
          0.5519082042584673,
          -1.2697352073814285
         ],
         "xaxis": "x12",
         "y": [
          -0.37187648446881755,
          -0.6763426334321764,
          0.44254904544186424,
          0.043128429335627556,
          1.3218966083042718,
          -0.8689893255236225,
          -0.839423336646792,
          0.09534116283732383,
          0.7908300919783517,
          -0.003224382633578965,
          -1.611742154159054,
          0.30217033167470897,
          -0.457592516675857,
          1.0018171916238594,
          0.3080356581826416,
          -0.8842088012709165,
          0.6539070103086261,
          -0.7852458290296245,
          2.2834248251617093,
          0.6583106796492599,
          0.2818627313011538,
          -1.3995983056802286,
          0.738115191088348,
          -2.244443308711659,
          0.3268343994554045,
          0.6170152431305861,
          -1.144488918162176,
          -0.7276175094798126,
          0.9094425700212857,
          -0.634981675068958,
          0.6353637152292143,
          0.3714755522848729,
          1.1016368815752597,
          -1.0736541582562131,
          -0.5499263958601537,
          0.12825680039161888,
          -0.19422090452153448,
          0.6711847173472533,
          -0.5079720083360137,
          0.8794376618777473,
          0.7660839068399569,
          0.4469657505645519,
          0.1782288875422464,
          1.2572553261277692,
          0.012797089187213312,
          -1.315455101006535,
          0.9444140121501476,
          -1.699309603661943,
          1.5507327884698012,
          -2.263157926441218,
          -0.7640410787725485,
          0.16524522140828057,
          -0.1391152332793379,
          -0.30755171808980164,
          -1.9665223204572826,
          0.022182409925213985,
          0.042103650514074824,
          0.566141047628371,
          0.37353919623312437,
          -0.6033802410403714,
          -1.6834930966532138,
          -0.7609948802891601,
          -0.600547350368087,
          1.121037092850829,
          1.8694226769685849,
          -0.38346078410638423,
          -1.1283922985448451,
          1.4861840623283453,
          0.7425161967706508,
          0.2348162278991996,
          -0.736006720875728,
          1.299124119015103,
          -2.2967600855017936,
          -0.6611027621510719,
          0.09011037592488812,
          -0.8505606704256958,
          1.289789067009791,
          0.4470853129246212,
          0.31281684194385173,
          -1.9840149554041737,
          -1.5167922471062651,
          1.1444450814825367,
          0.9313695985489706,
          0.24504351281138553,
          0.5477182800240153,
          -0.5415496320942039,
          0.09391876463548578,
          0.35077022804760993,
          -0.44725758015311173,
          -0.40790677494983807,
          -1.91641511072492,
          0.7807166832884038,
          -1.5177837093068176,
          -0.07973952036839911,
          1.2356160848351003,
          -0.49352563378429737,
          -1.4454348009865599,
          -2.075119576417736,
          -1.8223545817177422,
          -0.011589663425400137
         ],
         "yaxis": "y12"
        },
        {
         "line": {
          "color": "rgba(128, 128, 128, 1.0)",
          "dash": "solid",
          "shape": "linear",
          "width": 1.3
         },
         "marker": {
          "size": 2,
          "symbol": "circle"
         },
         "mode": "markers",
         "name": "D",
         "text": "",
         "type": "scatter",
         "x": [
          -1.139418730002032,
          0.6547989998648551,
          0.39084583433649694,
          0.9646681826571936,
          0.42119755974889467,
          -0.23873385414912676,
          -0.2218960966330283,
          0.5675391268184925,
          -0.14589675805068572,
          0.2983797328942242,
          0.2481277187050298,
          -0.959565662084963,
          0.8983589857556141,
          -0.9205451688459358,
          -0.9073710648065669,
          -0.515818083052144,
          0.3568982359524299,
          -0.05039881754988521,
          1.045422545573841,
          -1.028197584323138,
          1.8884199740984546,
          0.5149998983933638,
          -0.4612569621502,
          -2.044884484384707,
          -2.2642782146088707,
          -1.3689178453525237,
          -0.4933880894392799,
          -0.44892769824569806,
          0.7021651569997387,
          0.17312188407331758,
          0.8297254909813514,
          -1.209018772125511,
          -0.6643563939520879,
          -0.03970583699998416,
          -0.5617207661402005,
          -1.5631259578039896,
          0.515889523095962,
          -0.8125689245955071,
          0.8352380213053745,
          -0.4821209854676755,
          1.1041130497801088,
          1.0306206606074977,
          0.9855867620785455,
          2.0027569273403243,
          0.2638266457953439,
          0.04350891310129441,
          0.8762454129201205,
          -0.08759198143271017,
          0.8125231817138858,
          -0.9075513348000999,
          0.5607733054161146,
          -0.23865240636633556,
          1.1191716763190929,
          0.5388212292102299,
          0.27082148087794466,
          -0.1956758784434622,
          1.2547094140308235,
          0.302733734712402,
          -1.1695245267490626,
          0.5185335466102716,
          0.8190908979174077,
          1.5642856701289398,
          -0.1839684949396022,
          -0.10464377212627611,
          -0.3738902853185688,
          -1.0578193647424976,
          2.0398000529190385,
          -0.47861082085741863,
          -0.26066652323696304,
          0.9178630415695512,
          1.9169026133398048,
          0.7487388185319119,
          -2.30795387068723,
          -0.04512853989323989,
          0.679899641273138,
          -0.48688078490635245,
          -1.1505941647974545,
          0.3185331783207228,
          0.8562093507089286,
          -0.651604128474846,
          0.45198833264601274,
          1.3482242401288627,
          0.8353632247445613,
          -1.6635070300669133,
          1.166008542614696,
          -1.062260511565378,
          0.5730805504655455,
          -0.08993760847573472,
          -0.43617816768055856,
          -1.5656173028182858,
          1.165886988023119,
          0.6929846977776724,
          0.8990660463253227,
          0.8770676699379643,
          0.35505829390139904,
          -2.3865360599607173,
          -0.6196681063548992,
          0.09208226131825127,
          -1.0205102925440586,
          -0.06404273101740816
         ],
         "xaxis": "x13",
         "y": [
          1.3047348576523032,
          0.3522854133635167,
          -0.11018101728661994,
          0.2663134248285946,
          -0.8820139616124586,
          -0.29582873262302045,
          0.610877477526127,
          -0.4021014760746017,
          0.7586739024738353,
          0.9924838356932888,
          0.0127559692876085,
          -1.6145738347932665,
          0.3526465359649648,
          -0.038412393262158145,
          1.6963814661509784,
          1.2063338613139851,
          1.5147780686008994,
          -0.015762633756935002,
          -0.09763432032843802,
          -1.0197923385180283,
          1.322555564316582,
          -1.5523748434890081,
          0.3847252513200086,
          -2.404479643278339,
          0.37583335029270026,
          -0.6805267240227657,
          1.140879087039691,
          -0.13286165094480124,
          0.5387632215140534,
          0.5774624821858806,
          -1.0866619941105529,
          -1.8913254109498334,
          -0.7142559243192667,
          -0.9781057274193367,
          0.2696396184969162,
          0.7470069064548276,
          -0.754363086434098,
          0.3183019202719849,
          -0.6902852771497229,
          -0.14019007812654616,
          0.24722884031532097,
          3.0602247282836035,
          -0.6169750899905723,
          -1.8203409884613124,
          -2.0218942661271386,
          0.5714514329583718,
          0.7746220544773167,
          1.0019448096437793,
          0.5930547903983026,
          0.58312660915772,
          1.80253463074248,
          -0.781343018728653,
          -0.5817764091318236,
          -0.32602081954393186,
          -2.3558055082279465,
          -1.278381209586953,
          -1.077896458424639,
          -0.40461249132144234,
          0.6197478560566623,
          -0.3541624271997475,
          0.09694251336396409,
          1.0607667054090593,
          0.4607660949371727,
          2.6608540891158885,
          0.5753055944897928,
          0.8670746614054494,
          0.09549931013497635,
          -0.3900968840396244,
          1.7303804491463284,
          0.5468344316265031,
          0.5442749395448334,
          -1.3469741930030925,
          -2.4392324000309293,
          0.44017350923609655,
          -1.1806725737388115,
          -0.683975295653359,
          -2.2033654746908327,
          -0.9084827475825425,
          -0.7085658234674517,
          -0.9853084295615194,
          1.0487734941633586,
          -0.3696460253466033,
          0.5890494116782784,
          1.6273023472449155,
          -0.26598068561695515,
          -0.1054810064965316,
          -1.0845950476614117,
          0.846017301947262,
          -0.2262893476297783,
          -0.6375006468385689,
          1.6079648863684999,
          0.17846153204623383,
          -3.576868174692061,
          0.02491286046082355,
          -0.19616430137984783,
          -1.5588803889449627,
          0.14645756294213907,
          -1.0132828206338977,
          0.5519082042584673,
          -1.2697352073814285
         ],
         "yaxis": "y13"
        },
        {
         "line": {
          "color": "rgba(128, 128, 128, 1.0)",
          "dash": "solid",
          "shape": "linear",
          "width": 1.3
         },
         "marker": {
          "size": 2,
          "symbol": "circle"
         },
         "mode": "markers",
         "name": "D",
         "text": "",
         "type": "scatter",
         "x": [
          0.07185369046079401,
          0.29267616132149354,
          1.3359631098647982,
          0.545107252353979,
          0.023573072156253636,
          1.7806383033831787,
          -0.41920654167464244,
          0.004753334568482668,
          -2.7545563538357722,
          0.07041581324653917,
          -1.364304744464887,
          0.718262483781206,
          0.37671176544749074,
          -1.0847088557375442,
          1.6187844586389555,
          -0.41038939569643645,
          0.9022879204128095,
          0.07470444368018322,
          -0.7584331811688072,
          0.3479398247480616,
          0.8397792016531902,
          0.2845358694450361,
          0.19511201142922244,
          -0.010539222850371364,
          -0.14990513147805898,
          -0.37005534246633354,
          0.16154465308645954,
          -0.9630652851775763,
          0.579517364159973,
          -1.4035777230307875,
          -0.14667617489278087,
          0.429449098925077,
          1.440046259087059,
          2.779703254185213,
          -1.514950174241543,
          -0.38314255705606365,
          -0.28049090845899743,
          -1.6463839162523453,
          0.9295239384079738,
          0.7384350925009466,
          0.10959327433895386,
          -0.39257212731936186,
          0.23713498567784455,
          -1.7154102455070654,
          0.20760628052385752,
          -1.2702993648325682,
          0.07927160209414827,
          -0.4941781039881184,
          -0.5452131194133613,
          0.8346752200099381,
          0.21672730634365797,
          2.0009415803598136,
          -0.4925540797247069,
          0.290306402115402,
          -2.7768372967908723,
          -0.01243405416751847,
          -0.6796710071224988,
          -0.5173016212189284,
          0.011980851961724251,
          -0.4746822465762274,
          -0.5944376172789942,
          0.1581220435820472,
          1.26495408912878,
          -1.0696550732525592,
          0.013027485374751303,
          -0.4319955499309191,
          1.3510716342226594,
          0.47790259237997684,
          1.270129257323493,
          -0.7962319883857973,
          0.4221151806341645,
          1.2241360896242566,
          1.2238455887227986,
          0.5360442855369453,
          0.026539491263576968,
          0.16069619963252837,
          -0.11268005216683398,
          0.9944938623906966,
          0.4271947826458063,
          1.149959525055607,
          1.1635316140334477,
          -0.5986582879739627,
          -0.7622941206283473,
          0.23379827654993318,
          1.303149004453367,
          1.287826099022475,
          1.2714709343016026,
          -0.35790525271922513,
          -0.6941904164226653,
          -0.21990783839232766,
          0.4049388044447175,
          -0.7029717255640098,
          2.1418061547745078,
          -0.04272070937948088,
          0.00047843236067118583,
          0.40654832502335314,
          -0.9318105156963058,
          1.6492233784140895,
          -0.11745673997334564,
          0.1436187868780339
         ],
         "xaxis": "x14",
         "y": [
          1.3047348576523032,
          0.3522854133635167,
          -0.11018101728661994,
          0.2663134248285946,
          -0.8820139616124586,
          -0.29582873262302045,
          0.610877477526127,
          -0.4021014760746017,
          0.7586739024738353,
          0.9924838356932888,
          0.0127559692876085,
          -1.6145738347932665,
          0.3526465359649648,
          -0.038412393262158145,
          1.6963814661509784,
          1.2063338613139851,
          1.5147780686008994,
          -0.015762633756935002,
          -0.09763432032843802,
          -1.0197923385180283,
          1.322555564316582,
          -1.5523748434890081,
          0.3847252513200086,
          -2.404479643278339,
          0.37583335029270026,
          -0.6805267240227657,
          1.140879087039691,
          -0.13286165094480124,
          0.5387632215140534,
          0.5774624821858806,
          -1.0866619941105529,
          -1.8913254109498334,
          -0.7142559243192667,
          -0.9781057274193367,
          0.2696396184969162,
          0.7470069064548276,
          -0.754363086434098,
          0.3183019202719849,
          -0.6902852771497229,
          -0.14019007812654616,
          0.24722884031532097,
          3.0602247282836035,
          -0.6169750899905723,
          -1.8203409884613124,
          -2.0218942661271386,
          0.5714514329583718,
          0.7746220544773167,
          1.0019448096437793,
          0.5930547903983026,
          0.58312660915772,
          1.80253463074248,
          -0.781343018728653,
          -0.5817764091318236,
          -0.32602081954393186,
          -2.3558055082279465,
          -1.278381209586953,
          -1.077896458424639,
          -0.40461249132144234,
          0.6197478560566623,
          -0.3541624271997475,
          0.09694251336396409,
          1.0607667054090593,
          0.4607660949371727,
          2.6608540891158885,
          0.5753055944897928,
          0.8670746614054494,
          0.09549931013497635,
          -0.3900968840396244,
          1.7303804491463284,
          0.5468344316265031,
          0.5442749395448334,
          -1.3469741930030925,
          -2.4392324000309293,
          0.44017350923609655,
          -1.1806725737388115,
          -0.683975295653359,
          -2.2033654746908327,
          -0.9084827475825425,
          -0.7085658234674517,
          -0.9853084295615194,
          1.0487734941633586,
          -0.3696460253466033,
          0.5890494116782784,
          1.6273023472449155,
          -0.26598068561695515,
          -0.1054810064965316,
          -1.0845950476614117,
          0.846017301947262,
          -0.2262893476297783,
          -0.6375006468385689,
          1.6079648863684999,
          0.17846153204623383,
          -3.576868174692061,
          0.02491286046082355,
          -0.19616430137984783,
          -1.5588803889449627,
          0.14645756294213907,
          -1.0132828206338977,
          0.5519082042584673,
          -1.2697352073814285
         ],
         "yaxis": "y14"
        },
        {
         "line": {
          "color": "rgba(128, 128, 128, 1.0)",
          "dash": "solid",
          "shape": "linear",
          "width": 1.3
         },
         "marker": {
          "size": 2,
          "symbol": "circle"
         },
         "mode": "markers",
         "name": "D",
         "text": "",
         "type": "scatter",
         "x": [
          -0.37187648446881755,
          -0.6763426334321764,
          0.44254904544186424,
          0.043128429335627556,
          1.3218966083042718,
          -0.8689893255236225,
          -0.839423336646792,
          0.09534116283732383,
          0.7908300919783517,
          -0.003224382633578965,
          -1.611742154159054,
          0.30217033167470897,
          -0.457592516675857,
          1.0018171916238594,
          0.3080356581826416,
          -0.8842088012709165,
          0.6539070103086261,
          -0.7852458290296245,
          2.2834248251617093,
          0.6583106796492599,
          0.2818627313011538,
          -1.3995983056802286,
          0.738115191088348,
          -2.244443308711659,
          0.3268343994554045,
          0.6170152431305861,
          -1.144488918162176,
          -0.7276175094798126,
          0.9094425700212857,
          -0.634981675068958,
          0.6353637152292143,
          0.3714755522848729,
          1.1016368815752597,
          -1.0736541582562131,
          -0.5499263958601537,
          0.12825680039161888,
          -0.19422090452153448,
          0.6711847173472533,
          -0.5079720083360137,
          0.8794376618777473,
          0.7660839068399569,
          0.4469657505645519,
          0.1782288875422464,
          1.2572553261277692,
          0.012797089187213312,
          -1.315455101006535,
          0.9444140121501476,
          -1.699309603661943,
          1.5507327884698012,
          -2.263157926441218,
          -0.7640410787725485,
          0.16524522140828057,
          -0.1391152332793379,
          -0.30755171808980164,
          -1.9665223204572826,
          0.022182409925213985,
          0.042103650514074824,
          0.566141047628371,
          0.37353919623312437,
          -0.6033802410403714,
          -1.6834930966532138,
          -0.7609948802891601,
          -0.600547350368087,
          1.121037092850829,
          1.8694226769685849,
          -0.38346078410638423,
          -1.1283922985448451,
          1.4861840623283453,
          0.7425161967706508,
          0.2348162278991996,
          -0.736006720875728,
          1.299124119015103,
          -2.2967600855017936,
          -0.6611027621510719,
          0.09011037592488812,
          -0.8505606704256958,
          1.289789067009791,
          0.4470853129246212,
          0.31281684194385173,
          -1.9840149554041737,
          -1.5167922471062651,
          1.1444450814825367,
          0.9313695985489706,
          0.24504351281138553,
          0.5477182800240153,
          -0.5415496320942039,
          0.09391876463548578,
          0.35077022804760993,
          -0.44725758015311173,
          -0.40790677494983807,
          -1.91641511072492,
          0.7807166832884038,
          -1.5177837093068176,
          -0.07973952036839911,
          1.2356160848351003,
          -0.49352563378429737,
          -1.4454348009865599,
          -2.075119576417736,
          -1.8223545817177422,
          -0.011589663425400137
         ],
         "xaxis": "x15",
         "y": [
          1.3047348576523032,
          0.3522854133635167,
          -0.11018101728661994,
          0.2663134248285946,
          -0.8820139616124586,
          -0.29582873262302045,
          0.610877477526127,
          -0.4021014760746017,
          0.7586739024738353,
          0.9924838356932888,
          0.0127559692876085,
          -1.6145738347932665,
          0.3526465359649648,
          -0.038412393262158145,
          1.6963814661509784,
          1.2063338613139851,
          1.5147780686008994,
          -0.015762633756935002,
          -0.09763432032843802,
          -1.0197923385180283,
          1.322555564316582,
          -1.5523748434890081,
          0.3847252513200086,
          -2.404479643278339,
          0.37583335029270026,
          -0.6805267240227657,
          1.140879087039691,
          -0.13286165094480124,
          0.5387632215140534,
          0.5774624821858806,
          -1.0866619941105529,
          -1.8913254109498334,
          -0.7142559243192667,
          -0.9781057274193367,
          0.2696396184969162,
          0.7470069064548276,
          -0.754363086434098,
          0.3183019202719849,
          -0.6902852771497229,
          -0.14019007812654616,
          0.24722884031532097,
          3.0602247282836035,
          -0.6169750899905723,
          -1.8203409884613124,
          -2.0218942661271386,
          0.5714514329583718,
          0.7746220544773167,
          1.0019448096437793,
          0.5930547903983026,
          0.58312660915772,
          1.80253463074248,
          -0.781343018728653,
          -0.5817764091318236,
          -0.32602081954393186,
          -2.3558055082279465,
          -1.278381209586953,
          -1.077896458424639,
          -0.40461249132144234,
          0.6197478560566623,
          -0.3541624271997475,
          0.09694251336396409,
          1.0607667054090593,
          0.4607660949371727,
          2.6608540891158885,
          0.5753055944897928,
          0.8670746614054494,
          0.09549931013497635,
          -0.3900968840396244,
          1.7303804491463284,
          0.5468344316265031,
          0.5442749395448334,
          -1.3469741930030925,
          -2.4392324000309293,
          0.44017350923609655,
          -1.1806725737388115,
          -0.683975295653359,
          -2.2033654746908327,
          -0.9084827475825425,
          -0.7085658234674517,
          -0.9853084295615194,
          1.0487734941633586,
          -0.3696460253466033,
          0.5890494116782784,
          1.6273023472449155,
          -0.26598068561695515,
          -0.1054810064965316,
          -1.0845950476614117,
          0.846017301947262,
          -0.2262893476297783,
          -0.6375006468385689,
          1.6079648863684999,
          0.17846153204623383,
          -3.576868174692061,
          0.02491286046082355,
          -0.19616430137984783,
          -1.5588803889449627,
          0.14645756294213907,
          -1.0132828206338977,
          0.5519082042584673,
          -1.2697352073814285
         ],
         "yaxis": "y15"
        },
        {
         "histfunc": "count",
         "histnorm": "",
         "marker": {
          "color": "rgba(128, 0, 128, 1.0)",
          "line": {
           "color": "#4D5663",
           "width": 1.3
          }
         },
         "name": "D",
         "nbinsx": 10,
         "opacity": 0.8,
         "orientation": "v",
         "type": "histogram",
         "x": [
          1.3047348576523032,
          0.3522854133635167,
          -0.11018101728661994,
          0.2663134248285946,
          -0.8820139616124586,
          -0.29582873262302045,
          0.610877477526127,
          -0.4021014760746017,
          0.7586739024738353,
          0.9924838356932888,
          0.0127559692876085,
          -1.6145738347932665,
          0.3526465359649648,
          -0.038412393262158145,
          1.6963814661509784,
          1.2063338613139851,
          1.5147780686008994,
          -0.015762633756935002,
          -0.09763432032843802,
          -1.0197923385180283,
          1.322555564316582,
          -1.5523748434890081,
          0.3847252513200086,
          -2.404479643278339,
          0.37583335029270026,
          -0.6805267240227657,
          1.140879087039691,
          -0.13286165094480124,
          0.5387632215140534,
          0.5774624821858806,
          -1.0866619941105529,
          -1.8913254109498334,
          -0.7142559243192667,
          -0.9781057274193367,
          0.2696396184969162,
          0.7470069064548276,
          -0.754363086434098,
          0.3183019202719849,
          -0.6902852771497229,
          -0.14019007812654616,
          0.24722884031532097,
          3.0602247282836035,
          -0.6169750899905723,
          -1.8203409884613124,
          -2.0218942661271386,
          0.5714514329583718,
          0.7746220544773167,
          1.0019448096437793,
          0.5930547903983026,
          0.58312660915772,
          1.80253463074248,
          -0.781343018728653,
          -0.5817764091318236,
          -0.32602081954393186,
          -2.3558055082279465,
          -1.278381209586953,
          -1.077896458424639,
          -0.40461249132144234,
          0.6197478560566623,
          -0.3541624271997475,
          0.09694251336396409,
          1.0607667054090593,
          0.4607660949371727,
          2.6608540891158885,
          0.5753055944897928,
          0.8670746614054494,
          0.09549931013497635,
          -0.3900968840396244,
          1.7303804491463284,
          0.5468344316265031,
          0.5442749395448334,
          -1.3469741930030925,
          -2.4392324000309293,
          0.44017350923609655,
          -1.1806725737388115,
          -0.683975295653359,
          -2.2033654746908327,
          -0.9084827475825425,
          -0.7085658234674517,
          -0.9853084295615194,
          1.0487734941633586,
          -0.3696460253466033,
          0.5890494116782784,
          1.6273023472449155,
          -0.26598068561695515,
          -0.1054810064965316,
          -1.0845950476614117,
          0.846017301947262,
          -0.2262893476297783,
          -0.6375006468385689,
          1.6079648863684999,
          0.17846153204623383,
          -3.576868174692061,
          0.02491286046082355,
          -0.19616430137984783,
          -1.5588803889449627,
          0.14645756294213907,
          -1.0132828206338977,
          0.5519082042584673,
          -1.2697352073814285
         ],
         "xaxis": "x16",
         "yaxis": "y16"
        }
       ],
       "layout": {
        "bargap": 0.02,
        "legend": {
         "bgcolor": "#F5F6F9",
         "font": {
          "color": "#4D5663"
         }
        },
        "paper_bgcolor": "#F5F6F9",
        "plot_bgcolor": "#F5F6F9",
        "showlegend": false,
        "template": {
         "data": {
          "bar": [
           {
            "error_x": {
             "color": "#2a3f5f"
            },
            "error_y": {
             "color": "#2a3f5f"
            },
            "marker": {
             "line": {
              "color": "#E5ECF6",
              "width": 0.5
             }
            },
            "type": "bar"
           }
          ],
          "barpolar": [
           {
            "marker": {
             "line": {
              "color": "#E5ECF6",
              "width": 0.5
             }
            },
            "type": "barpolar"
           }
          ],
          "carpet": [
           {
            "aaxis": {
             "endlinecolor": "#2a3f5f",
             "gridcolor": "white",
             "linecolor": "white",
             "minorgridcolor": "white",
             "startlinecolor": "#2a3f5f"
            },
            "baxis": {
             "endlinecolor": "#2a3f5f",
             "gridcolor": "white",
             "linecolor": "white",
             "minorgridcolor": "white",
             "startlinecolor": "#2a3f5f"
            },
            "type": "carpet"
           }
          ],
          "choropleth": [
           {
            "colorbar": {
             "outlinewidth": 0,
             "ticks": ""
            },
            "type": "choropleth"
           }
          ],
          "contour": [
           {
            "colorbar": {
             "outlinewidth": 0,
             "ticks": ""
            },
            "colorscale": [
             [
              0,
              "#0d0887"
             ],
             [
              0.1111111111111111,
              "#46039f"
             ],
             [
              0.2222222222222222,
              "#7201a8"
             ],
             [
              0.3333333333333333,
              "#9c179e"
             ],
             [
              0.4444444444444444,
              "#bd3786"
             ],
             [
              0.5555555555555556,
              "#d8576b"
             ],
             [
              0.6666666666666666,
              "#ed7953"
             ],
             [
              0.7777777777777778,
              "#fb9f3a"
             ],
             [
              0.8888888888888888,
              "#fdca26"
             ],
             [
              1,
              "#f0f921"
             ]
            ],
            "type": "contour"
           }
          ],
          "contourcarpet": [
           {
            "colorbar": {
             "outlinewidth": 0,
             "ticks": ""
            },
            "type": "contourcarpet"
           }
          ],
          "heatmap": [
           {
            "colorbar": {
             "outlinewidth": 0,
             "ticks": ""
            },
            "colorscale": [
             [
              0,
              "#0d0887"
             ],
             [
              0.1111111111111111,
              "#46039f"
             ],
             [
              0.2222222222222222,
              "#7201a8"
             ],
             [
              0.3333333333333333,
              "#9c179e"
             ],
             [
              0.4444444444444444,
              "#bd3786"
             ],
             [
              0.5555555555555556,
              "#d8576b"
             ],
             [
              0.6666666666666666,
              "#ed7953"
             ],
             [
              0.7777777777777778,
              "#fb9f3a"
             ],
             [
              0.8888888888888888,
              "#fdca26"
             ],
             [
              1,
              "#f0f921"
             ]
            ],
            "type": "heatmap"
           }
          ],
          "heatmapgl": [
           {
            "colorbar": {
             "outlinewidth": 0,
             "ticks": ""
            },
            "colorscale": [
             [
              0,
              "#0d0887"
             ],
             [
              0.1111111111111111,
              "#46039f"
             ],
             [
              0.2222222222222222,
              "#7201a8"
             ],
             [
              0.3333333333333333,
              "#9c179e"
             ],
             [
              0.4444444444444444,
              "#bd3786"
             ],
             [
              0.5555555555555556,
              "#d8576b"
             ],
             [
              0.6666666666666666,
              "#ed7953"
             ],
             [
              0.7777777777777778,
              "#fb9f3a"
             ],
             [
              0.8888888888888888,
              "#fdca26"
             ],
             [
              1,
              "#f0f921"
             ]
            ],
            "type": "heatmapgl"
           }
          ],
          "histogram": [
           {
            "marker": {
             "colorbar": {
              "outlinewidth": 0,
              "ticks": ""
             }
            },
            "type": "histogram"
           }
          ],
          "histogram2d": [
           {
            "colorbar": {
             "outlinewidth": 0,
             "ticks": ""
            },
            "colorscale": [
             [
              0,
              "#0d0887"
             ],
             [
              0.1111111111111111,
              "#46039f"
             ],
             [
              0.2222222222222222,
              "#7201a8"
             ],
             [
              0.3333333333333333,
              "#9c179e"
             ],
             [
              0.4444444444444444,
              "#bd3786"
             ],
             [
              0.5555555555555556,
              "#d8576b"
             ],
             [
              0.6666666666666666,
              "#ed7953"
             ],
             [
              0.7777777777777778,
              "#fb9f3a"
             ],
             [
              0.8888888888888888,
              "#fdca26"
             ],
             [
              1,
              "#f0f921"
             ]
            ],
            "type": "histogram2d"
           }
          ],
          "histogram2dcontour": [
           {
            "colorbar": {
             "outlinewidth": 0,
             "ticks": ""
            },
            "colorscale": [
             [
              0,
              "#0d0887"
             ],
             [
              0.1111111111111111,
              "#46039f"
             ],
             [
              0.2222222222222222,
              "#7201a8"
             ],
             [
              0.3333333333333333,
              "#9c179e"
             ],
             [
              0.4444444444444444,
              "#bd3786"
             ],
             [
              0.5555555555555556,
              "#d8576b"
             ],
             [
              0.6666666666666666,
              "#ed7953"
             ],
             [
              0.7777777777777778,
              "#fb9f3a"
             ],
             [
              0.8888888888888888,
              "#fdca26"
             ],
             [
              1,
              "#f0f921"
             ]
            ],
            "type": "histogram2dcontour"
           }
          ],
          "mesh3d": [
           {
            "colorbar": {
             "outlinewidth": 0,
             "ticks": ""
            },
            "type": "mesh3d"
           }
          ],
          "parcoords": [
           {
            "line": {
             "colorbar": {
              "outlinewidth": 0,
              "ticks": ""
             }
            },
            "type": "parcoords"
           }
          ],
          "pie": [
           {
            "automargin": true,
            "type": "pie"
           }
          ],
          "scatter": [
           {
            "marker": {
             "colorbar": {
              "outlinewidth": 0,
              "ticks": ""
             }
            },
            "type": "scatter"
           }
          ],
          "scatter3d": [
           {
            "line": {
             "colorbar": {
              "outlinewidth": 0,
              "ticks": ""
             }
            },
            "marker": {
             "colorbar": {
              "outlinewidth": 0,
              "ticks": ""
             }
            },
            "type": "scatter3d"
           }
          ],
          "scattercarpet": [
           {
            "marker": {
             "colorbar": {
              "outlinewidth": 0,
              "ticks": ""
             }
            },
            "type": "scattercarpet"
           }
          ],
          "scattergeo": [
           {
            "marker": {
             "colorbar": {
              "outlinewidth": 0,
              "ticks": ""
             }
            },
            "type": "scattergeo"
           }
          ],
          "scattergl": [
           {
            "marker": {
             "colorbar": {
              "outlinewidth": 0,
              "ticks": ""
             }
            },
            "type": "scattergl"
           }
          ],
          "scattermapbox": [
           {
            "marker": {
             "colorbar": {
              "outlinewidth": 0,
              "ticks": ""
             }
            },
            "type": "scattermapbox"
           }
          ],
          "scatterpolar": [
           {
            "marker": {
             "colorbar": {
              "outlinewidth": 0,
              "ticks": ""
             }
            },
            "type": "scatterpolar"
           }
          ],
          "scatterpolargl": [
           {
            "marker": {
             "colorbar": {
              "outlinewidth": 0,
              "ticks": ""
             }
            },
            "type": "scatterpolargl"
           }
          ],
          "scatterternary": [
           {
            "marker": {
             "colorbar": {
              "outlinewidth": 0,
              "ticks": ""
             }
            },
            "type": "scatterternary"
           }
          ],
          "surface": [
           {
            "colorbar": {
             "outlinewidth": 0,
             "ticks": ""
            },
            "colorscale": [
             [
              0,
              "#0d0887"
             ],
             [
              0.1111111111111111,
              "#46039f"
             ],
             [
              0.2222222222222222,
              "#7201a8"
             ],
             [
              0.3333333333333333,
              "#9c179e"
             ],
             [
              0.4444444444444444,
              "#bd3786"
             ],
             [
              0.5555555555555556,
              "#d8576b"
             ],
             [
              0.6666666666666666,
              "#ed7953"
             ],
             [
              0.7777777777777778,
              "#fb9f3a"
             ],
             [
              0.8888888888888888,
              "#fdca26"
             ],
             [
              1,
              "#f0f921"
             ]
            ],
            "type": "surface"
           }
          ],
          "table": [
           {
            "cells": {
             "fill": {
              "color": "#EBF0F8"
             },
             "line": {
              "color": "white"
             }
            },
            "header": {
             "fill": {
              "color": "#C8D4E3"
             },
             "line": {
              "color": "white"
             }
            },
            "type": "table"
           }
          ]
         },
         "layout": {
          "annotationdefaults": {
           "arrowcolor": "#2a3f5f",
           "arrowhead": 0,
           "arrowwidth": 1
          },
          "coloraxis": {
           "colorbar": {
            "outlinewidth": 0,
            "ticks": ""
           }
          },
          "colorscale": {
           "diverging": [
            [
             0,
             "#8e0152"
            ],
            [
             0.1,
             "#c51b7d"
            ],
            [
             0.2,
             "#de77ae"
            ],
            [
             0.3,
             "#f1b6da"
            ],
            [
             0.4,
             "#fde0ef"
            ],
            [
             0.5,
             "#f7f7f7"
            ],
            [
             0.6,
             "#e6f5d0"
            ],
            [
             0.7,
             "#b8e186"
            ],
            [
             0.8,
             "#7fbc41"
            ],
            [
             0.9,
             "#4d9221"
            ],
            [
             1,
             "#276419"
            ]
           ],
           "sequential": [
            [
             0,
             "#0d0887"
            ],
            [
             0.1111111111111111,
             "#46039f"
            ],
            [
             0.2222222222222222,
             "#7201a8"
            ],
            [
             0.3333333333333333,
             "#9c179e"
            ],
            [
             0.4444444444444444,
             "#bd3786"
            ],
            [
             0.5555555555555556,
             "#d8576b"
            ],
            [
             0.6666666666666666,
             "#ed7953"
            ],
            [
             0.7777777777777778,
             "#fb9f3a"
            ],
            [
             0.8888888888888888,
             "#fdca26"
            ],
            [
             1,
             "#f0f921"
            ]
           ],
           "sequentialminus": [
            [
             0,
             "#0d0887"
            ],
            [
             0.1111111111111111,
             "#46039f"
            ],
            [
             0.2222222222222222,
             "#7201a8"
            ],
            [
             0.3333333333333333,
             "#9c179e"
            ],
            [
             0.4444444444444444,
             "#bd3786"
            ],
            [
             0.5555555555555556,
             "#d8576b"
            ],
            [
             0.6666666666666666,
             "#ed7953"
            ],
            [
             0.7777777777777778,
             "#fb9f3a"
            ],
            [
             0.8888888888888888,
             "#fdca26"
            ],
            [
             1,
             "#f0f921"
            ]
           ]
          },
          "colorway": [
           "#636efa",
           "#EF553B",
           "#00cc96",
           "#ab63fa",
           "#FFA15A",
           "#19d3f3",
           "#FF6692",
           "#B6E880",
           "#FF97FF",
           "#FECB52"
          ],
          "font": {
           "color": "#2a3f5f"
          },
          "geo": {
           "bgcolor": "white",
           "lakecolor": "white",
           "landcolor": "#E5ECF6",
           "showlakes": true,
           "showland": true,
           "subunitcolor": "white"
          },
          "hoverlabel": {
           "align": "left"
          },
          "hovermode": "closest",
          "mapbox": {
           "style": "light"
          },
          "paper_bgcolor": "white",
          "plot_bgcolor": "#E5ECF6",
          "polar": {
           "angularaxis": {
            "gridcolor": "white",
            "linecolor": "white",
            "ticks": ""
           },
           "bgcolor": "#E5ECF6",
           "radialaxis": {
            "gridcolor": "white",
            "linecolor": "white",
            "ticks": ""
           }
          },
          "scene": {
           "xaxis": {
            "backgroundcolor": "#E5ECF6",
            "gridcolor": "white",
            "gridwidth": 2,
            "linecolor": "white",
            "showbackground": true,
            "ticks": "",
            "zerolinecolor": "white"
           },
           "yaxis": {
            "backgroundcolor": "#E5ECF6",
            "gridcolor": "white",
            "gridwidth": 2,
            "linecolor": "white",
            "showbackground": true,
            "ticks": "",
            "zerolinecolor": "white"
           },
           "zaxis": {
            "backgroundcolor": "#E5ECF6",
            "gridcolor": "white",
            "gridwidth": 2,
            "linecolor": "white",
            "showbackground": true,
            "ticks": "",
            "zerolinecolor": "white"
           }
          },
          "shapedefaults": {
           "line": {
            "color": "#2a3f5f"
           }
          },
          "ternary": {
           "aaxis": {
            "gridcolor": "white",
            "linecolor": "white",
            "ticks": ""
           },
           "baxis": {
            "gridcolor": "white",
            "linecolor": "white",
            "ticks": ""
           },
           "bgcolor": "#E5ECF6",
           "caxis": {
            "gridcolor": "white",
            "linecolor": "white",
            "ticks": ""
           }
          },
          "title": {
           "x": 0.05
          },
          "xaxis": {
           "automargin": true,
           "gridcolor": "white",
           "linecolor": "white",
           "ticks": "",
           "title": {
            "standoff": 15
           },
           "zerolinecolor": "white",
           "zerolinewidth": 2
          },
          "yaxis": {
           "automargin": true,
           "gridcolor": "white",
           "linecolor": "white",
           "ticks": "",
           "title": {
            "standoff": 15
           },
           "zerolinecolor": "white",
           "zerolinewidth": 2
          }
         }
        },
        "title": {
         "font": {
          "color": "#4D5663"
         }
        },
        "xaxis": {
         "anchor": "y",
         "domain": [
          0,
          0.2125
         ],
         "gridcolor": "#E1E5ED",
         "showgrid": false,
         "tickfont": {
          "color": "#4D5663"
         },
         "title": {
          "font": {
           "color": "#4D5663"
          },
          "text": ""
         },
         "zerolinecolor": "#E1E5ED"
        },
        "xaxis10": {
         "anchor": "y10",
         "domain": [
          0.2625,
          0.475
         ],
         "gridcolor": "#E1E5ED",
         "showgrid": false,
         "tickfont": {
          "color": "#4D5663"
         },
         "title": {
          "font": {
           "color": "#4D5663"
          },
          "text": ""
         },
         "zerolinecolor": "#E1E5ED"
        },
        "xaxis11": {
         "anchor": "y11",
         "domain": [
          0.525,
          0.7375
         ],
         "gridcolor": "#E1E5ED",
         "showgrid": false,
         "tickfont": {
          "color": "#4D5663"
         },
         "title": {
          "font": {
           "color": "#4D5663"
          },
          "text": ""
         },
         "zerolinecolor": "#E1E5ED"
        },
        "xaxis12": {
         "anchor": "y12",
         "domain": [
          0.7875,
          1
         ],
         "gridcolor": "#E1E5ED",
         "showgrid": false,
         "tickfont": {
          "color": "#4D5663"
         },
         "title": {
          "font": {
           "color": "#4D5663"
          },
          "text": ""
         },
         "zerolinecolor": "#E1E5ED"
        },
        "xaxis13": {
         "anchor": "y13",
         "domain": [
          0,
          0.2125
         ],
         "gridcolor": "#E1E5ED",
         "showgrid": false,
         "tickfont": {
          "color": "#4D5663"
         },
         "title": {
          "font": {
           "color": "#4D5663"
          },
          "text": ""
         },
         "zerolinecolor": "#E1E5ED"
        },
        "xaxis14": {
         "anchor": "y14",
         "domain": [
          0.2625,
          0.475
         ],
         "gridcolor": "#E1E5ED",
         "showgrid": false,
         "tickfont": {
          "color": "#4D5663"
         },
         "title": {
          "font": {
           "color": "#4D5663"
          },
          "text": ""
         },
         "zerolinecolor": "#E1E5ED"
        },
        "xaxis15": {
         "anchor": "y15",
         "domain": [
          0.525,
          0.7375
         ],
         "gridcolor": "#E1E5ED",
         "showgrid": false,
         "tickfont": {
          "color": "#4D5663"
         },
         "title": {
          "font": {
           "color": "#4D5663"
          },
          "text": ""
         },
         "zerolinecolor": "#E1E5ED"
        },
        "xaxis16": {
         "anchor": "y16",
         "domain": [
          0.7875,
          1
         ],
         "gridcolor": "#E1E5ED",
         "showgrid": false,
         "tickfont": {
          "color": "#4D5663"
         },
         "title": {
          "font": {
           "color": "#4D5663"
          },
          "text": ""
         },
         "zerolinecolor": "#E1E5ED"
        },
        "xaxis2": {
         "anchor": "y2",
         "domain": [
          0.2625,
          0.475
         ],
         "gridcolor": "#E1E5ED",
         "showgrid": false,
         "tickfont": {
          "color": "#4D5663"
         },
         "title": {
          "font": {
           "color": "#4D5663"
          },
          "text": ""
         },
         "zerolinecolor": "#E1E5ED"
        },
        "xaxis3": {
         "anchor": "y3",
         "domain": [
          0.525,
          0.7375
         ],
         "gridcolor": "#E1E5ED",
         "showgrid": false,
         "tickfont": {
          "color": "#4D5663"
         },
         "title": {
          "font": {
           "color": "#4D5663"
          },
          "text": ""
         },
         "zerolinecolor": "#E1E5ED"
        },
        "xaxis4": {
         "anchor": "y4",
         "domain": [
          0.7875,
          1
         ],
         "gridcolor": "#E1E5ED",
         "showgrid": false,
         "tickfont": {
          "color": "#4D5663"
         },
         "title": {
          "font": {
           "color": "#4D5663"
          },
          "text": ""
         },
         "zerolinecolor": "#E1E5ED"
        },
        "xaxis5": {
         "anchor": "y5",
         "domain": [
          0,
          0.2125
         ],
         "gridcolor": "#E1E5ED",
         "showgrid": false,
         "tickfont": {
          "color": "#4D5663"
         },
         "title": {
          "font": {
           "color": "#4D5663"
          },
          "text": ""
         },
         "zerolinecolor": "#E1E5ED"
        },
        "xaxis6": {
         "anchor": "y6",
         "domain": [
          0.2625,
          0.475
         ],
         "gridcolor": "#E1E5ED",
         "showgrid": false,
         "tickfont": {
          "color": "#4D5663"
         },
         "title": {
          "font": {
           "color": "#4D5663"
          },
          "text": ""
         },
         "zerolinecolor": "#E1E5ED"
        },
        "xaxis7": {
         "anchor": "y7",
         "domain": [
          0.525,
          0.7375
         ],
         "gridcolor": "#E1E5ED",
         "showgrid": false,
         "tickfont": {
          "color": "#4D5663"
         },
         "title": {
          "font": {
           "color": "#4D5663"
          },
          "text": ""
         },
         "zerolinecolor": "#E1E5ED"
        },
        "xaxis8": {
         "anchor": "y8",
         "domain": [
          0.7875,
          1
         ],
         "gridcolor": "#E1E5ED",
         "showgrid": false,
         "tickfont": {
          "color": "#4D5663"
         },
         "title": {
          "font": {
           "color": "#4D5663"
          },
          "text": ""
         },
         "zerolinecolor": "#E1E5ED"
        },
        "xaxis9": {
         "anchor": "y9",
         "domain": [
          0,
          0.2125
         ],
         "gridcolor": "#E1E5ED",
         "showgrid": false,
         "tickfont": {
          "color": "#4D5663"
         },
         "title": {
          "font": {
           "color": "#4D5663"
          },
          "text": ""
         },
         "zerolinecolor": "#E1E5ED"
        },
        "yaxis": {
         "anchor": "x",
         "domain": [
          0.8025,
          1
         ],
         "gridcolor": "#E1E5ED",
         "showgrid": false,
         "tickfont": {
          "color": "#4D5663"
         },
         "title": {
          "font": {
           "color": "#4D5663"
          },
          "text": ""
         },
         "zerolinecolor": "#E1E5ED"
        },
        "yaxis10": {
         "anchor": "x10",
         "domain": [
          0.2675,
          0.465
         ],
         "gridcolor": "#E1E5ED",
         "showgrid": false,
         "tickfont": {
          "color": "#4D5663"
         },
         "title": {
          "font": {
           "color": "#4D5663"
          },
          "text": ""
         },
         "zerolinecolor": "#E1E5ED"
        },
        "yaxis11": {
         "anchor": "x11",
         "domain": [
          0.2675,
          0.465
         ],
         "gridcolor": "#E1E5ED",
         "showgrid": false,
         "tickfont": {
          "color": "#4D5663"
         },
         "title": {
          "font": {
           "color": "#4D5663"
          },
          "text": ""
         },
         "zerolinecolor": "#E1E5ED"
        },
        "yaxis12": {
         "anchor": "x12",
         "domain": [
          0.2675,
          0.465
         ],
         "gridcolor": "#E1E5ED",
         "showgrid": false,
         "tickfont": {
          "color": "#4D5663"
         },
         "title": {
          "font": {
           "color": "#4D5663"
          },
          "text": ""
         },
         "zerolinecolor": "#E1E5ED"
        },
        "yaxis13": {
         "anchor": "x13",
         "domain": [
          0,
          0.1975
         ],
         "gridcolor": "#E1E5ED",
         "showgrid": false,
         "tickfont": {
          "color": "#4D5663"
         },
         "title": {
          "font": {
           "color": "#4D5663"
          },
          "text": ""
         },
         "zerolinecolor": "#E1E5ED"
        },
        "yaxis14": {
         "anchor": "x14",
         "domain": [
          0,
          0.1975
         ],
         "gridcolor": "#E1E5ED",
         "showgrid": false,
         "tickfont": {
          "color": "#4D5663"
         },
         "title": {
          "font": {
           "color": "#4D5663"
          },
          "text": ""
         },
         "zerolinecolor": "#E1E5ED"
        },
        "yaxis15": {
         "anchor": "x15",
         "domain": [
          0,
          0.1975
         ],
         "gridcolor": "#E1E5ED",
         "showgrid": false,
         "tickfont": {
          "color": "#4D5663"
         },
         "title": {
          "font": {
           "color": "#4D5663"
          },
          "text": ""
         },
         "zerolinecolor": "#E1E5ED"
        },
        "yaxis16": {
         "anchor": "x16",
         "domain": [
          0,
          0.1975
         ],
         "gridcolor": "#E1E5ED",
         "showgrid": false,
         "tickfont": {
          "color": "#4D5663"
         },
         "title": {
          "font": {
           "color": "#4D5663"
          },
          "text": ""
         },
         "zerolinecolor": "#E1E5ED"
        },
        "yaxis2": {
         "anchor": "x2",
         "domain": [
          0.8025,
          1
         ],
         "gridcolor": "#E1E5ED",
         "showgrid": false,
         "tickfont": {
          "color": "#4D5663"
         },
         "title": {
          "font": {
           "color": "#4D5663"
          },
          "text": ""
         },
         "zerolinecolor": "#E1E5ED"
        },
        "yaxis3": {
         "anchor": "x3",
         "domain": [
          0.8025,
          1
         ],
         "gridcolor": "#E1E5ED",
         "showgrid": false,
         "tickfont": {
          "color": "#4D5663"
         },
         "title": {
          "font": {
           "color": "#4D5663"
          },
          "text": ""
         },
         "zerolinecolor": "#E1E5ED"
        },
        "yaxis4": {
         "anchor": "x4",
         "domain": [
          0.8025,
          1
         ],
         "gridcolor": "#E1E5ED",
         "showgrid": false,
         "tickfont": {
          "color": "#4D5663"
         },
         "title": {
          "font": {
           "color": "#4D5663"
          },
          "text": ""
         },
         "zerolinecolor": "#E1E5ED"
        },
        "yaxis5": {
         "anchor": "x5",
         "domain": [
          0.535,
          0.7325
         ],
         "gridcolor": "#E1E5ED",
         "showgrid": false,
         "tickfont": {
          "color": "#4D5663"
         },
         "title": {
          "font": {
           "color": "#4D5663"
          },
          "text": ""
         },
         "zerolinecolor": "#E1E5ED"
        },
        "yaxis6": {
         "anchor": "x6",
         "domain": [
          0.535,
          0.7325
         ],
         "gridcolor": "#E1E5ED",
         "showgrid": false,
         "tickfont": {
          "color": "#4D5663"
         },
         "title": {
          "font": {
           "color": "#4D5663"
          },
          "text": ""
         },
         "zerolinecolor": "#E1E5ED"
        },
        "yaxis7": {
         "anchor": "x7",
         "domain": [
          0.535,
          0.7325
         ],
         "gridcolor": "#E1E5ED",
         "showgrid": false,
         "tickfont": {
          "color": "#4D5663"
         },
         "title": {
          "font": {
           "color": "#4D5663"
          },
          "text": ""
         },
         "zerolinecolor": "#E1E5ED"
        },
        "yaxis8": {
         "anchor": "x8",
         "domain": [
          0.535,
          0.7325
         ],
         "gridcolor": "#E1E5ED",
         "showgrid": false,
         "tickfont": {
          "color": "#4D5663"
         },
         "title": {
          "font": {
           "color": "#4D5663"
          },
          "text": ""
         },
         "zerolinecolor": "#E1E5ED"
        },
        "yaxis9": {
         "anchor": "x9",
         "domain": [
          0.2675,
          0.465
         ],
         "gridcolor": "#E1E5ED",
         "showgrid": false,
         "tickfont": {
          "color": "#4D5663"
         },
         "title": {
          "font": {
           "color": "#4D5663"
          },
          "text": ""
         },
         "zerolinecolor": "#E1E5ED"
        }
       }
      },
      "text/html": [
       "<div>\n",
       "        \n",
       "        \n",
       "            <div id=\"289e23e7-37e0-4053-8aaf-d42edec925c4\" class=\"plotly-graph-div\" style=\"height:525px; width:100%;\"></div>\n",
       "            <script type=\"text/javascript\">\n",
       "                require([\"plotly\"], function(Plotly) {\n",
       "                    window.PLOTLYENV=window.PLOTLYENV || {};\n",
       "                    window.PLOTLYENV.BASE_URL='https://plot.ly';\n",
       "                    \n",
       "                if (document.getElementById(\"289e23e7-37e0-4053-8aaf-d42edec925c4\")) {\n",
       "                    Plotly.newPlot(\n",
       "                        '289e23e7-37e0-4053-8aaf-d42edec925c4',\n",
       "                        [{\"histfunc\": \"count\", \"histnorm\": \"\", \"marker\": {\"color\": \"rgba(255, 153, 51, 1.0)\", \"line\": {\"color\": \"#4D5663\", \"width\": 1.3}}, \"name\": \"A\", \"nbinsx\": 10, \"opacity\": 0.8, \"orientation\": \"v\", \"type\": \"histogram\", \"x\": [-1.139418730002032, 0.6547989998648551, 0.39084583433649694, 0.9646681826571936, 0.42119755974889467, -0.23873385414912676, -0.2218960966330283, 0.5675391268184925, -0.14589675805068572, 0.2983797328942242, 0.2481277187050298, -0.959565662084963, 0.8983589857556141, -0.9205451688459358, -0.9073710648065669, -0.515818083052144, 0.3568982359524299, -0.05039881754988521, 1.045422545573841, -1.028197584323138, 1.8884199740984546, 0.5149998983933638, -0.4612569621502, -2.044884484384707, -2.2642782146088707, -1.3689178453525237, -0.4933880894392799, -0.44892769824569806, 0.7021651569997387, 0.17312188407331758, 0.8297254909813514, -1.209018772125511, -0.6643563939520879, -0.03970583699998416, -0.5617207661402005, -1.5631259578039896, 0.515889523095962, -0.8125689245955071, 0.8352380213053745, -0.4821209854676755, 1.1041130497801088, 1.0306206606074977, 0.9855867620785455, 2.0027569273403243, 0.2638266457953439, 0.04350891310129441, 0.8762454129201205, -0.08759198143271017, 0.8125231817138858, -0.9075513348000999, 0.5607733054161146, -0.23865240636633556, 1.1191716763190929, 0.5388212292102299, 0.27082148087794466, -0.1956758784434622, 1.2547094140308235, 0.302733734712402, -1.1695245267490626, 0.5185335466102716, 0.8190908979174077, 1.5642856701289398, -0.1839684949396022, -0.10464377212627611, -0.3738902853185688, -1.0578193647424976, 2.0398000529190385, -0.47861082085741863, -0.26066652323696304, 0.9178630415695512, 1.9169026133398048, 0.7487388185319119, -2.30795387068723, -0.04512853989323989, 0.679899641273138, -0.48688078490635245, -1.1505941647974545, 0.3185331783207228, 0.8562093507089286, -0.651604128474846, 0.45198833264601274, 1.3482242401288627, 0.8353632247445613, -1.6635070300669133, 1.166008542614696, -1.062260511565378, 0.5730805504655455, -0.08993760847573472, -0.43617816768055856, -1.5656173028182858, 1.165886988023119, 0.6929846977776724, 0.8990660463253227, 0.8770676699379643, 0.35505829390139904, -2.3865360599607173, -0.6196681063548992, 0.09208226131825127, -1.0205102925440586, -0.06404273101740816], \"xaxis\": \"x\", \"yaxis\": \"y\"}, {\"line\": {\"color\": \"rgba(128, 128, 128, 1.0)\", \"dash\": \"solid\", \"shape\": \"linear\", \"width\": 1.3}, \"marker\": {\"size\": 2, \"symbol\": \"circle\"}, \"mode\": \"markers\", \"name\": \"A\", \"text\": \"\", \"type\": \"scatter\", \"x\": [0.07185369046079401, 0.29267616132149354, 1.3359631098647982, 0.545107252353979, 0.023573072156253636, 1.7806383033831787, -0.41920654167464244, 0.004753334568482668, -2.7545563538357722, 0.07041581324653917, -1.364304744464887, 0.718262483781206, 0.37671176544749074, -1.0847088557375442, 1.6187844586389555, -0.41038939569643645, 0.9022879204128095, 0.07470444368018322, -0.7584331811688072, 0.3479398247480616, 0.8397792016531902, 0.2845358694450361, 0.19511201142922244, -0.010539222850371364, -0.14990513147805898, -0.37005534246633354, 0.16154465308645954, -0.9630652851775763, 0.579517364159973, -1.4035777230307875, -0.14667617489278087, 0.429449098925077, 1.440046259087059, 2.779703254185213, -1.514950174241543, -0.38314255705606365, -0.28049090845899743, -1.6463839162523453, 0.9295239384079738, 0.7384350925009466, 0.10959327433895386, -0.39257212731936186, 0.23713498567784455, -1.7154102455070654, 0.20760628052385752, -1.2702993648325682, 0.07927160209414827, -0.4941781039881184, -0.5452131194133613, 0.8346752200099381, 0.21672730634365797, 2.0009415803598136, -0.4925540797247069, 0.290306402115402, -2.7768372967908723, -0.01243405416751847, -0.6796710071224988, -0.5173016212189284, 0.011980851961724251, -0.4746822465762274, -0.5944376172789942, 0.1581220435820472, 1.26495408912878, -1.0696550732525592, 0.013027485374751303, -0.4319955499309191, 1.3510716342226594, 0.47790259237997684, 1.270129257323493, -0.7962319883857973, 0.4221151806341645, 1.2241360896242566, 1.2238455887227986, 0.5360442855369453, 0.026539491263576968, 0.16069619963252837, -0.11268005216683398, 0.9944938623906966, 0.4271947826458063, 1.149959525055607, 1.1635316140334477, -0.5986582879739627, -0.7622941206283473, 0.23379827654993318, 1.303149004453367, 1.287826099022475, 1.2714709343016026, -0.35790525271922513, -0.6941904164226653, -0.21990783839232766, 0.4049388044447175, -0.7029717255640098, 2.1418061547745078, -0.04272070937948088, 0.00047843236067118583, 0.40654832502335314, -0.9318105156963058, 1.6492233784140895, -0.11745673997334564, 0.1436187868780339], \"xaxis\": \"x2\", \"y\": [-1.139418730002032, 0.6547989998648551, 0.39084583433649694, 0.9646681826571936, 0.42119755974889467, -0.23873385414912676, -0.2218960966330283, 0.5675391268184925, -0.14589675805068572, 0.2983797328942242, 0.2481277187050298, -0.959565662084963, 0.8983589857556141, -0.9205451688459358, -0.9073710648065669, -0.515818083052144, 0.3568982359524299, -0.05039881754988521, 1.045422545573841, -1.028197584323138, 1.8884199740984546, 0.5149998983933638, -0.4612569621502, -2.044884484384707, -2.2642782146088707, -1.3689178453525237, -0.4933880894392799, -0.44892769824569806, 0.7021651569997387, 0.17312188407331758, 0.8297254909813514, -1.209018772125511, -0.6643563939520879, -0.03970583699998416, -0.5617207661402005, -1.5631259578039896, 0.515889523095962, -0.8125689245955071, 0.8352380213053745, -0.4821209854676755, 1.1041130497801088, 1.0306206606074977, 0.9855867620785455, 2.0027569273403243, 0.2638266457953439, 0.04350891310129441, 0.8762454129201205, -0.08759198143271017, 0.8125231817138858, -0.9075513348000999, 0.5607733054161146, -0.23865240636633556, 1.1191716763190929, 0.5388212292102299, 0.27082148087794466, -0.1956758784434622, 1.2547094140308235, 0.302733734712402, -1.1695245267490626, 0.5185335466102716, 0.8190908979174077, 1.5642856701289398, -0.1839684949396022, -0.10464377212627611, -0.3738902853185688, -1.0578193647424976, 2.0398000529190385, -0.47861082085741863, -0.26066652323696304, 0.9178630415695512, 1.9169026133398048, 0.7487388185319119, -2.30795387068723, -0.04512853989323989, 0.679899641273138, -0.48688078490635245, -1.1505941647974545, 0.3185331783207228, 0.8562093507089286, -0.651604128474846, 0.45198833264601274, 1.3482242401288627, 0.8353632247445613, -1.6635070300669133, 1.166008542614696, -1.062260511565378, 0.5730805504655455, -0.08993760847573472, -0.43617816768055856, -1.5656173028182858, 1.165886988023119, 0.6929846977776724, 0.8990660463253227, 0.8770676699379643, 0.35505829390139904, -2.3865360599607173, -0.6196681063548992, 0.09208226131825127, -1.0205102925440586, -0.06404273101740816], \"yaxis\": \"y2\"}, {\"line\": {\"color\": \"rgba(128, 128, 128, 1.0)\", \"dash\": \"solid\", \"shape\": \"linear\", \"width\": 1.3}, \"marker\": {\"size\": 2, \"symbol\": \"circle\"}, \"mode\": \"markers\", \"name\": \"A\", \"text\": \"\", \"type\": \"scatter\", \"x\": [-0.37187648446881755, -0.6763426334321764, 0.44254904544186424, 0.043128429335627556, 1.3218966083042718, -0.8689893255236225, -0.839423336646792, 0.09534116283732383, 0.7908300919783517, -0.003224382633578965, -1.611742154159054, 0.30217033167470897, -0.457592516675857, 1.0018171916238594, 0.3080356581826416, -0.8842088012709165, 0.6539070103086261, -0.7852458290296245, 2.2834248251617093, 0.6583106796492599, 0.2818627313011538, -1.3995983056802286, 0.738115191088348, -2.244443308711659, 0.3268343994554045, 0.6170152431305861, -1.144488918162176, -0.7276175094798126, 0.9094425700212857, -0.634981675068958, 0.6353637152292143, 0.3714755522848729, 1.1016368815752597, -1.0736541582562131, -0.5499263958601537, 0.12825680039161888, -0.19422090452153448, 0.6711847173472533, -0.5079720083360137, 0.8794376618777473, 0.7660839068399569, 0.4469657505645519, 0.1782288875422464, 1.2572553261277692, 0.012797089187213312, -1.315455101006535, 0.9444140121501476, -1.699309603661943, 1.5507327884698012, -2.263157926441218, -0.7640410787725485, 0.16524522140828057, -0.1391152332793379, -0.30755171808980164, -1.9665223204572826, 0.022182409925213985, 0.042103650514074824, 0.566141047628371, 0.37353919623312437, -0.6033802410403714, -1.6834930966532138, -0.7609948802891601, -0.600547350368087, 1.121037092850829, 1.8694226769685849, -0.38346078410638423, -1.1283922985448451, 1.4861840623283453, 0.7425161967706508, 0.2348162278991996, -0.736006720875728, 1.299124119015103, -2.2967600855017936, -0.6611027621510719, 0.09011037592488812, -0.8505606704256958, 1.289789067009791, 0.4470853129246212, 0.31281684194385173, -1.9840149554041737, -1.5167922471062651, 1.1444450814825367, 0.9313695985489706, 0.24504351281138553, 0.5477182800240153, -0.5415496320942039, 0.09391876463548578, 0.35077022804760993, -0.44725758015311173, -0.40790677494983807, -1.91641511072492, 0.7807166832884038, -1.5177837093068176, -0.07973952036839911, 1.2356160848351003, -0.49352563378429737, -1.4454348009865599, -2.075119576417736, -1.8223545817177422, -0.011589663425400137], \"xaxis\": \"x3\", \"y\": [-1.139418730002032, 0.6547989998648551, 0.39084583433649694, 0.9646681826571936, 0.42119755974889467, -0.23873385414912676, -0.2218960966330283, 0.5675391268184925, -0.14589675805068572, 0.2983797328942242, 0.2481277187050298, -0.959565662084963, 0.8983589857556141, -0.9205451688459358, -0.9073710648065669, -0.515818083052144, 0.3568982359524299, -0.05039881754988521, 1.045422545573841, -1.028197584323138, 1.8884199740984546, 0.5149998983933638, -0.4612569621502, -2.044884484384707, -2.2642782146088707, -1.3689178453525237, -0.4933880894392799, -0.44892769824569806, 0.7021651569997387, 0.17312188407331758, 0.8297254909813514, -1.209018772125511, -0.6643563939520879, -0.03970583699998416, -0.5617207661402005, -1.5631259578039896, 0.515889523095962, -0.8125689245955071, 0.8352380213053745, -0.4821209854676755, 1.1041130497801088, 1.0306206606074977, 0.9855867620785455, 2.0027569273403243, 0.2638266457953439, 0.04350891310129441, 0.8762454129201205, -0.08759198143271017, 0.8125231817138858, -0.9075513348000999, 0.5607733054161146, -0.23865240636633556, 1.1191716763190929, 0.5388212292102299, 0.27082148087794466, -0.1956758784434622, 1.2547094140308235, 0.302733734712402, -1.1695245267490626, 0.5185335466102716, 0.8190908979174077, 1.5642856701289398, -0.1839684949396022, -0.10464377212627611, -0.3738902853185688, -1.0578193647424976, 2.0398000529190385, -0.47861082085741863, -0.26066652323696304, 0.9178630415695512, 1.9169026133398048, 0.7487388185319119, -2.30795387068723, -0.04512853989323989, 0.679899641273138, -0.48688078490635245, -1.1505941647974545, 0.3185331783207228, 0.8562093507089286, -0.651604128474846, 0.45198833264601274, 1.3482242401288627, 0.8353632247445613, -1.6635070300669133, 1.166008542614696, -1.062260511565378, 0.5730805504655455, -0.08993760847573472, -0.43617816768055856, -1.5656173028182858, 1.165886988023119, 0.6929846977776724, 0.8990660463253227, 0.8770676699379643, 0.35505829390139904, -2.3865360599607173, -0.6196681063548992, 0.09208226131825127, -1.0205102925440586, -0.06404273101740816], \"yaxis\": \"y3\"}, {\"line\": {\"color\": \"rgba(128, 128, 128, 1.0)\", \"dash\": \"solid\", \"shape\": \"linear\", \"width\": 1.3}, \"marker\": {\"size\": 2, \"symbol\": \"circle\"}, \"mode\": \"markers\", \"name\": \"A\", \"text\": \"\", \"type\": \"scatter\", \"x\": [1.3047348576523032, 0.3522854133635167, -0.11018101728661994, 0.2663134248285946, -0.8820139616124586, -0.29582873262302045, 0.610877477526127, -0.4021014760746017, 0.7586739024738353, 0.9924838356932888, 0.0127559692876085, -1.6145738347932665, 0.3526465359649648, -0.038412393262158145, 1.6963814661509784, 1.2063338613139851, 1.5147780686008994, -0.015762633756935002, -0.09763432032843802, -1.0197923385180283, 1.322555564316582, -1.5523748434890081, 0.3847252513200086, -2.404479643278339, 0.37583335029270026, -0.6805267240227657, 1.140879087039691, -0.13286165094480124, 0.5387632215140534, 0.5774624821858806, -1.0866619941105529, -1.8913254109498334, -0.7142559243192667, -0.9781057274193367, 0.2696396184969162, 0.7470069064548276, -0.754363086434098, 0.3183019202719849, -0.6902852771497229, -0.14019007812654616, 0.24722884031532097, 3.0602247282836035, -0.6169750899905723, -1.8203409884613124, -2.0218942661271386, 0.5714514329583718, 0.7746220544773167, 1.0019448096437793, 0.5930547903983026, 0.58312660915772, 1.80253463074248, -0.781343018728653, -0.5817764091318236, -0.32602081954393186, -2.3558055082279465, -1.278381209586953, -1.077896458424639, -0.40461249132144234, 0.6197478560566623, -0.3541624271997475, 0.09694251336396409, 1.0607667054090593, 0.4607660949371727, 2.6608540891158885, 0.5753055944897928, 0.8670746614054494, 0.09549931013497635, -0.3900968840396244, 1.7303804491463284, 0.5468344316265031, 0.5442749395448334, -1.3469741930030925, -2.4392324000309293, 0.44017350923609655, -1.1806725737388115, -0.683975295653359, -2.2033654746908327, -0.9084827475825425, -0.7085658234674517, -0.9853084295615194, 1.0487734941633586, -0.3696460253466033, 0.5890494116782784, 1.6273023472449155, -0.26598068561695515, -0.1054810064965316, -1.0845950476614117, 0.846017301947262, -0.2262893476297783, -0.6375006468385689, 1.6079648863684999, 0.17846153204623383, -3.576868174692061, 0.02491286046082355, -0.19616430137984783, -1.5588803889449627, 0.14645756294213907, -1.0132828206338977, 0.5519082042584673, -1.2697352073814285], \"xaxis\": \"x4\", \"y\": [-1.139418730002032, 0.6547989998648551, 0.39084583433649694, 0.9646681826571936, 0.42119755974889467, -0.23873385414912676, -0.2218960966330283, 0.5675391268184925, -0.14589675805068572, 0.2983797328942242, 0.2481277187050298, -0.959565662084963, 0.8983589857556141, -0.9205451688459358, -0.9073710648065669, -0.515818083052144, 0.3568982359524299, -0.05039881754988521, 1.045422545573841, -1.028197584323138, 1.8884199740984546, 0.5149998983933638, -0.4612569621502, -2.044884484384707, -2.2642782146088707, -1.3689178453525237, -0.4933880894392799, -0.44892769824569806, 0.7021651569997387, 0.17312188407331758, 0.8297254909813514, -1.209018772125511, -0.6643563939520879, -0.03970583699998416, -0.5617207661402005, -1.5631259578039896, 0.515889523095962, -0.8125689245955071, 0.8352380213053745, -0.4821209854676755, 1.1041130497801088, 1.0306206606074977, 0.9855867620785455, 2.0027569273403243, 0.2638266457953439, 0.04350891310129441, 0.8762454129201205, -0.08759198143271017, 0.8125231817138858, -0.9075513348000999, 0.5607733054161146, -0.23865240636633556, 1.1191716763190929, 0.5388212292102299, 0.27082148087794466, -0.1956758784434622, 1.2547094140308235, 0.302733734712402, -1.1695245267490626, 0.5185335466102716, 0.8190908979174077, 1.5642856701289398, -0.1839684949396022, -0.10464377212627611, -0.3738902853185688, -1.0578193647424976, 2.0398000529190385, -0.47861082085741863, -0.26066652323696304, 0.9178630415695512, 1.9169026133398048, 0.7487388185319119, -2.30795387068723, -0.04512853989323989, 0.679899641273138, -0.48688078490635245, -1.1505941647974545, 0.3185331783207228, 0.8562093507089286, -0.651604128474846, 0.45198833264601274, 1.3482242401288627, 0.8353632247445613, -1.6635070300669133, 1.166008542614696, -1.062260511565378, 0.5730805504655455, -0.08993760847573472, -0.43617816768055856, -1.5656173028182858, 1.165886988023119, 0.6929846977776724, 0.8990660463253227, 0.8770676699379643, 0.35505829390139904, -2.3865360599607173, -0.6196681063548992, 0.09208226131825127, -1.0205102925440586, -0.06404273101740816], \"yaxis\": \"y4\"}, {\"line\": {\"color\": \"rgba(128, 128, 128, 1.0)\", \"dash\": \"solid\", \"shape\": \"linear\", \"width\": 1.3}, \"marker\": {\"size\": 2, \"symbol\": \"circle\"}, \"mode\": \"markers\", \"name\": \"B\", \"text\": \"\", \"type\": \"scatter\", \"x\": [-1.139418730002032, 0.6547989998648551, 0.39084583433649694, 0.9646681826571936, 0.42119755974889467, -0.23873385414912676, -0.2218960966330283, 0.5675391268184925, -0.14589675805068572, 0.2983797328942242, 0.2481277187050298, -0.959565662084963, 0.8983589857556141, -0.9205451688459358, -0.9073710648065669, -0.515818083052144, 0.3568982359524299, -0.05039881754988521, 1.045422545573841, -1.028197584323138, 1.8884199740984546, 0.5149998983933638, -0.4612569621502, -2.044884484384707, -2.2642782146088707, -1.3689178453525237, -0.4933880894392799, -0.44892769824569806, 0.7021651569997387, 0.17312188407331758, 0.8297254909813514, -1.209018772125511, -0.6643563939520879, -0.03970583699998416, -0.5617207661402005, -1.5631259578039896, 0.515889523095962, -0.8125689245955071, 0.8352380213053745, -0.4821209854676755, 1.1041130497801088, 1.0306206606074977, 0.9855867620785455, 2.0027569273403243, 0.2638266457953439, 0.04350891310129441, 0.8762454129201205, -0.08759198143271017, 0.8125231817138858, -0.9075513348000999, 0.5607733054161146, -0.23865240636633556, 1.1191716763190929, 0.5388212292102299, 0.27082148087794466, -0.1956758784434622, 1.2547094140308235, 0.302733734712402, -1.1695245267490626, 0.5185335466102716, 0.8190908979174077, 1.5642856701289398, -0.1839684949396022, -0.10464377212627611, -0.3738902853185688, -1.0578193647424976, 2.0398000529190385, -0.47861082085741863, -0.26066652323696304, 0.9178630415695512, 1.9169026133398048, 0.7487388185319119, -2.30795387068723, -0.04512853989323989, 0.679899641273138, -0.48688078490635245, -1.1505941647974545, 0.3185331783207228, 0.8562093507089286, -0.651604128474846, 0.45198833264601274, 1.3482242401288627, 0.8353632247445613, -1.6635070300669133, 1.166008542614696, -1.062260511565378, 0.5730805504655455, -0.08993760847573472, -0.43617816768055856, -1.5656173028182858, 1.165886988023119, 0.6929846977776724, 0.8990660463253227, 0.8770676699379643, 0.35505829390139904, -2.3865360599607173, -0.6196681063548992, 0.09208226131825127, -1.0205102925440586, -0.06404273101740816], \"xaxis\": \"x5\", \"y\": [0.07185369046079401, 0.29267616132149354, 1.3359631098647982, 0.545107252353979, 0.023573072156253636, 1.7806383033831787, -0.41920654167464244, 0.004753334568482668, -2.7545563538357722, 0.07041581324653917, -1.364304744464887, 0.718262483781206, 0.37671176544749074, -1.0847088557375442, 1.6187844586389555, -0.41038939569643645, 0.9022879204128095, 0.07470444368018322, -0.7584331811688072, 0.3479398247480616, 0.8397792016531902, 0.2845358694450361, 0.19511201142922244, -0.010539222850371364, -0.14990513147805898, -0.37005534246633354, 0.16154465308645954, -0.9630652851775763, 0.579517364159973, -1.4035777230307875, -0.14667617489278087, 0.429449098925077, 1.440046259087059, 2.779703254185213, -1.514950174241543, -0.38314255705606365, -0.28049090845899743, -1.6463839162523453, 0.9295239384079738, 0.7384350925009466, 0.10959327433895386, -0.39257212731936186, 0.23713498567784455, -1.7154102455070654, 0.20760628052385752, -1.2702993648325682, 0.07927160209414827, -0.4941781039881184, -0.5452131194133613, 0.8346752200099381, 0.21672730634365797, 2.0009415803598136, -0.4925540797247069, 0.290306402115402, -2.7768372967908723, -0.01243405416751847, -0.6796710071224988, -0.5173016212189284, 0.011980851961724251, -0.4746822465762274, -0.5944376172789942, 0.1581220435820472, 1.26495408912878, -1.0696550732525592, 0.013027485374751303, -0.4319955499309191, 1.3510716342226594, 0.47790259237997684, 1.270129257323493, -0.7962319883857973, 0.4221151806341645, 1.2241360896242566, 1.2238455887227986, 0.5360442855369453, 0.026539491263576968, 0.16069619963252837, -0.11268005216683398, 0.9944938623906966, 0.4271947826458063, 1.149959525055607, 1.1635316140334477, -0.5986582879739627, -0.7622941206283473, 0.23379827654993318, 1.303149004453367, 1.287826099022475, 1.2714709343016026, -0.35790525271922513, -0.6941904164226653, -0.21990783839232766, 0.4049388044447175, -0.7029717255640098, 2.1418061547745078, -0.04272070937948088, 0.00047843236067118583, 0.40654832502335314, -0.9318105156963058, 1.6492233784140895, -0.11745673997334564, 0.1436187868780339], \"yaxis\": \"y5\"}, {\"histfunc\": \"count\", \"histnorm\": \"\", \"marker\": {\"color\": \"rgba(55, 128, 191, 1.0)\", \"line\": {\"color\": \"#4D5663\", \"width\": 1.3}}, \"name\": \"B\", \"nbinsx\": 10, \"opacity\": 0.8, \"orientation\": \"v\", \"type\": \"histogram\", \"x\": [0.07185369046079401, 0.29267616132149354, 1.3359631098647982, 0.545107252353979, 0.023573072156253636, 1.7806383033831787, -0.41920654167464244, 0.004753334568482668, -2.7545563538357722, 0.07041581324653917, -1.364304744464887, 0.718262483781206, 0.37671176544749074, -1.0847088557375442, 1.6187844586389555, -0.41038939569643645, 0.9022879204128095, 0.07470444368018322, -0.7584331811688072, 0.3479398247480616, 0.8397792016531902, 0.2845358694450361, 0.19511201142922244, -0.010539222850371364, -0.14990513147805898, -0.37005534246633354, 0.16154465308645954, -0.9630652851775763, 0.579517364159973, -1.4035777230307875, -0.14667617489278087, 0.429449098925077, 1.440046259087059, 2.779703254185213, -1.514950174241543, -0.38314255705606365, -0.28049090845899743, -1.6463839162523453, 0.9295239384079738, 0.7384350925009466, 0.10959327433895386, -0.39257212731936186, 0.23713498567784455, -1.7154102455070654, 0.20760628052385752, -1.2702993648325682, 0.07927160209414827, -0.4941781039881184, -0.5452131194133613, 0.8346752200099381, 0.21672730634365797, 2.0009415803598136, -0.4925540797247069, 0.290306402115402, -2.7768372967908723, -0.01243405416751847, -0.6796710071224988, -0.5173016212189284, 0.011980851961724251, -0.4746822465762274, -0.5944376172789942, 0.1581220435820472, 1.26495408912878, -1.0696550732525592, 0.013027485374751303, -0.4319955499309191, 1.3510716342226594, 0.47790259237997684, 1.270129257323493, -0.7962319883857973, 0.4221151806341645, 1.2241360896242566, 1.2238455887227986, 0.5360442855369453, 0.026539491263576968, 0.16069619963252837, -0.11268005216683398, 0.9944938623906966, 0.4271947826458063, 1.149959525055607, 1.1635316140334477, -0.5986582879739627, -0.7622941206283473, 0.23379827654993318, 1.303149004453367, 1.287826099022475, 1.2714709343016026, -0.35790525271922513, -0.6941904164226653, -0.21990783839232766, 0.4049388044447175, -0.7029717255640098, 2.1418061547745078, -0.04272070937948088, 0.00047843236067118583, 0.40654832502335314, -0.9318105156963058, 1.6492233784140895, -0.11745673997334564, 0.1436187868780339], \"xaxis\": \"x6\", \"yaxis\": \"y6\"}, {\"line\": {\"color\": \"rgba(128, 128, 128, 1.0)\", \"dash\": \"solid\", \"shape\": \"linear\", \"width\": 1.3}, \"marker\": {\"size\": 2, \"symbol\": \"circle\"}, \"mode\": \"markers\", \"name\": \"B\", \"text\": \"\", \"type\": \"scatter\", \"x\": [-0.37187648446881755, -0.6763426334321764, 0.44254904544186424, 0.043128429335627556, 1.3218966083042718, -0.8689893255236225, -0.839423336646792, 0.09534116283732383, 0.7908300919783517, -0.003224382633578965, -1.611742154159054, 0.30217033167470897, -0.457592516675857, 1.0018171916238594, 0.3080356581826416, -0.8842088012709165, 0.6539070103086261, -0.7852458290296245, 2.2834248251617093, 0.6583106796492599, 0.2818627313011538, -1.3995983056802286, 0.738115191088348, -2.244443308711659, 0.3268343994554045, 0.6170152431305861, -1.144488918162176, -0.7276175094798126, 0.9094425700212857, -0.634981675068958, 0.6353637152292143, 0.3714755522848729, 1.1016368815752597, -1.0736541582562131, -0.5499263958601537, 0.12825680039161888, -0.19422090452153448, 0.6711847173472533, -0.5079720083360137, 0.8794376618777473, 0.7660839068399569, 0.4469657505645519, 0.1782288875422464, 1.2572553261277692, 0.012797089187213312, -1.315455101006535, 0.9444140121501476, -1.699309603661943, 1.5507327884698012, -2.263157926441218, -0.7640410787725485, 0.16524522140828057, -0.1391152332793379, -0.30755171808980164, -1.9665223204572826, 0.022182409925213985, 0.042103650514074824, 0.566141047628371, 0.37353919623312437, -0.6033802410403714, -1.6834930966532138, -0.7609948802891601, -0.600547350368087, 1.121037092850829, 1.8694226769685849, -0.38346078410638423, -1.1283922985448451, 1.4861840623283453, 0.7425161967706508, 0.2348162278991996, -0.736006720875728, 1.299124119015103, -2.2967600855017936, -0.6611027621510719, 0.09011037592488812, -0.8505606704256958, 1.289789067009791, 0.4470853129246212, 0.31281684194385173, -1.9840149554041737, -1.5167922471062651, 1.1444450814825367, 0.9313695985489706, 0.24504351281138553, 0.5477182800240153, -0.5415496320942039, 0.09391876463548578, 0.35077022804760993, -0.44725758015311173, -0.40790677494983807, -1.91641511072492, 0.7807166832884038, -1.5177837093068176, -0.07973952036839911, 1.2356160848351003, -0.49352563378429737, -1.4454348009865599, -2.075119576417736, -1.8223545817177422, -0.011589663425400137], \"xaxis\": \"x7\", \"y\": [0.07185369046079401, 0.29267616132149354, 1.3359631098647982, 0.545107252353979, 0.023573072156253636, 1.7806383033831787, -0.41920654167464244, 0.004753334568482668, -2.7545563538357722, 0.07041581324653917, -1.364304744464887, 0.718262483781206, 0.37671176544749074, -1.0847088557375442, 1.6187844586389555, -0.41038939569643645, 0.9022879204128095, 0.07470444368018322, -0.7584331811688072, 0.3479398247480616, 0.8397792016531902, 0.2845358694450361, 0.19511201142922244, -0.010539222850371364, -0.14990513147805898, -0.37005534246633354, 0.16154465308645954, -0.9630652851775763, 0.579517364159973, -1.4035777230307875, -0.14667617489278087, 0.429449098925077, 1.440046259087059, 2.779703254185213, -1.514950174241543, -0.38314255705606365, -0.28049090845899743, -1.6463839162523453, 0.9295239384079738, 0.7384350925009466, 0.10959327433895386, -0.39257212731936186, 0.23713498567784455, -1.7154102455070654, 0.20760628052385752, -1.2702993648325682, 0.07927160209414827, -0.4941781039881184, -0.5452131194133613, 0.8346752200099381, 0.21672730634365797, 2.0009415803598136, -0.4925540797247069, 0.290306402115402, -2.7768372967908723, -0.01243405416751847, -0.6796710071224988, -0.5173016212189284, 0.011980851961724251, -0.4746822465762274, -0.5944376172789942, 0.1581220435820472, 1.26495408912878, -1.0696550732525592, 0.013027485374751303, -0.4319955499309191, 1.3510716342226594, 0.47790259237997684, 1.270129257323493, -0.7962319883857973, 0.4221151806341645, 1.2241360896242566, 1.2238455887227986, 0.5360442855369453, 0.026539491263576968, 0.16069619963252837, -0.11268005216683398, 0.9944938623906966, 0.4271947826458063, 1.149959525055607, 1.1635316140334477, -0.5986582879739627, -0.7622941206283473, 0.23379827654993318, 1.303149004453367, 1.287826099022475, 1.2714709343016026, -0.35790525271922513, -0.6941904164226653, -0.21990783839232766, 0.4049388044447175, -0.7029717255640098, 2.1418061547745078, -0.04272070937948088, 0.00047843236067118583, 0.40654832502335314, -0.9318105156963058, 1.6492233784140895, -0.11745673997334564, 0.1436187868780339], \"yaxis\": \"y7\"}, {\"line\": {\"color\": \"rgba(128, 128, 128, 1.0)\", \"dash\": \"solid\", \"shape\": \"linear\", \"width\": 1.3}, \"marker\": {\"size\": 2, \"symbol\": \"circle\"}, \"mode\": \"markers\", \"name\": \"B\", \"text\": \"\", \"type\": \"scatter\", \"x\": [1.3047348576523032, 0.3522854133635167, -0.11018101728661994, 0.2663134248285946, -0.8820139616124586, -0.29582873262302045, 0.610877477526127, -0.4021014760746017, 0.7586739024738353, 0.9924838356932888, 0.0127559692876085, -1.6145738347932665, 0.3526465359649648, -0.038412393262158145, 1.6963814661509784, 1.2063338613139851, 1.5147780686008994, -0.015762633756935002, -0.09763432032843802, -1.0197923385180283, 1.322555564316582, -1.5523748434890081, 0.3847252513200086, -2.404479643278339, 0.37583335029270026, -0.6805267240227657, 1.140879087039691, -0.13286165094480124, 0.5387632215140534, 0.5774624821858806, -1.0866619941105529, -1.8913254109498334, -0.7142559243192667, -0.9781057274193367, 0.2696396184969162, 0.7470069064548276, -0.754363086434098, 0.3183019202719849, -0.6902852771497229, -0.14019007812654616, 0.24722884031532097, 3.0602247282836035, -0.6169750899905723, -1.8203409884613124, -2.0218942661271386, 0.5714514329583718, 0.7746220544773167, 1.0019448096437793, 0.5930547903983026, 0.58312660915772, 1.80253463074248, -0.781343018728653, -0.5817764091318236, -0.32602081954393186, -2.3558055082279465, -1.278381209586953, -1.077896458424639, -0.40461249132144234, 0.6197478560566623, -0.3541624271997475, 0.09694251336396409, 1.0607667054090593, 0.4607660949371727, 2.6608540891158885, 0.5753055944897928, 0.8670746614054494, 0.09549931013497635, -0.3900968840396244, 1.7303804491463284, 0.5468344316265031, 0.5442749395448334, -1.3469741930030925, -2.4392324000309293, 0.44017350923609655, -1.1806725737388115, -0.683975295653359, -2.2033654746908327, -0.9084827475825425, -0.7085658234674517, -0.9853084295615194, 1.0487734941633586, -0.3696460253466033, 0.5890494116782784, 1.6273023472449155, -0.26598068561695515, -0.1054810064965316, -1.0845950476614117, 0.846017301947262, -0.2262893476297783, -0.6375006468385689, 1.6079648863684999, 0.17846153204623383, -3.576868174692061, 0.02491286046082355, -0.19616430137984783, -1.5588803889449627, 0.14645756294213907, -1.0132828206338977, 0.5519082042584673, -1.2697352073814285], \"xaxis\": \"x8\", \"y\": [0.07185369046079401, 0.29267616132149354, 1.3359631098647982, 0.545107252353979, 0.023573072156253636, 1.7806383033831787, -0.41920654167464244, 0.004753334568482668, -2.7545563538357722, 0.07041581324653917, -1.364304744464887, 0.718262483781206, 0.37671176544749074, -1.0847088557375442, 1.6187844586389555, -0.41038939569643645, 0.9022879204128095, 0.07470444368018322, -0.7584331811688072, 0.3479398247480616, 0.8397792016531902, 0.2845358694450361, 0.19511201142922244, -0.010539222850371364, -0.14990513147805898, -0.37005534246633354, 0.16154465308645954, -0.9630652851775763, 0.579517364159973, -1.4035777230307875, -0.14667617489278087, 0.429449098925077, 1.440046259087059, 2.779703254185213, -1.514950174241543, -0.38314255705606365, -0.28049090845899743, -1.6463839162523453, 0.9295239384079738, 0.7384350925009466, 0.10959327433895386, -0.39257212731936186, 0.23713498567784455, -1.7154102455070654, 0.20760628052385752, -1.2702993648325682, 0.07927160209414827, -0.4941781039881184, -0.5452131194133613, 0.8346752200099381, 0.21672730634365797, 2.0009415803598136, -0.4925540797247069, 0.290306402115402, -2.7768372967908723, -0.01243405416751847, -0.6796710071224988, -0.5173016212189284, 0.011980851961724251, -0.4746822465762274, -0.5944376172789942, 0.1581220435820472, 1.26495408912878, -1.0696550732525592, 0.013027485374751303, -0.4319955499309191, 1.3510716342226594, 0.47790259237997684, 1.270129257323493, -0.7962319883857973, 0.4221151806341645, 1.2241360896242566, 1.2238455887227986, 0.5360442855369453, 0.026539491263576968, 0.16069619963252837, -0.11268005216683398, 0.9944938623906966, 0.4271947826458063, 1.149959525055607, 1.1635316140334477, -0.5986582879739627, -0.7622941206283473, 0.23379827654993318, 1.303149004453367, 1.287826099022475, 1.2714709343016026, -0.35790525271922513, -0.6941904164226653, -0.21990783839232766, 0.4049388044447175, -0.7029717255640098, 2.1418061547745078, -0.04272070937948088, 0.00047843236067118583, 0.40654832502335314, -0.9318105156963058, 1.6492233784140895, -0.11745673997334564, 0.1436187868780339], \"yaxis\": \"y8\"}, {\"line\": {\"color\": \"rgba(128, 128, 128, 1.0)\", \"dash\": \"solid\", \"shape\": \"linear\", \"width\": 1.3}, \"marker\": {\"size\": 2, \"symbol\": \"circle\"}, \"mode\": \"markers\", \"name\": \"C\", \"text\": \"\", \"type\": \"scatter\", \"x\": [-1.139418730002032, 0.6547989998648551, 0.39084583433649694, 0.9646681826571936, 0.42119755974889467, -0.23873385414912676, -0.2218960966330283, 0.5675391268184925, -0.14589675805068572, 0.2983797328942242, 0.2481277187050298, -0.959565662084963, 0.8983589857556141, -0.9205451688459358, -0.9073710648065669, -0.515818083052144, 0.3568982359524299, -0.05039881754988521, 1.045422545573841, -1.028197584323138, 1.8884199740984546, 0.5149998983933638, -0.4612569621502, -2.044884484384707, -2.2642782146088707, -1.3689178453525237, -0.4933880894392799, -0.44892769824569806, 0.7021651569997387, 0.17312188407331758, 0.8297254909813514, -1.209018772125511, -0.6643563939520879, -0.03970583699998416, -0.5617207661402005, -1.5631259578039896, 0.515889523095962, -0.8125689245955071, 0.8352380213053745, -0.4821209854676755, 1.1041130497801088, 1.0306206606074977, 0.9855867620785455, 2.0027569273403243, 0.2638266457953439, 0.04350891310129441, 0.8762454129201205, -0.08759198143271017, 0.8125231817138858, -0.9075513348000999, 0.5607733054161146, -0.23865240636633556, 1.1191716763190929, 0.5388212292102299, 0.27082148087794466, -0.1956758784434622, 1.2547094140308235, 0.302733734712402, -1.1695245267490626, 0.5185335466102716, 0.8190908979174077, 1.5642856701289398, -0.1839684949396022, -0.10464377212627611, -0.3738902853185688, -1.0578193647424976, 2.0398000529190385, -0.47861082085741863, -0.26066652323696304, 0.9178630415695512, 1.9169026133398048, 0.7487388185319119, -2.30795387068723, -0.04512853989323989, 0.679899641273138, -0.48688078490635245, -1.1505941647974545, 0.3185331783207228, 0.8562093507089286, -0.651604128474846, 0.45198833264601274, 1.3482242401288627, 0.8353632247445613, -1.6635070300669133, 1.166008542614696, -1.062260511565378, 0.5730805504655455, -0.08993760847573472, -0.43617816768055856, -1.5656173028182858, 1.165886988023119, 0.6929846977776724, 0.8990660463253227, 0.8770676699379643, 0.35505829390139904, -2.3865360599607173, -0.6196681063548992, 0.09208226131825127, -1.0205102925440586, -0.06404273101740816], \"xaxis\": \"x9\", \"y\": [-0.37187648446881755, -0.6763426334321764, 0.44254904544186424, 0.043128429335627556, 1.3218966083042718, -0.8689893255236225, -0.839423336646792, 0.09534116283732383, 0.7908300919783517, -0.003224382633578965, -1.611742154159054, 0.30217033167470897, -0.457592516675857, 1.0018171916238594, 0.3080356581826416, -0.8842088012709165, 0.6539070103086261, -0.7852458290296245, 2.2834248251617093, 0.6583106796492599, 0.2818627313011538, -1.3995983056802286, 0.738115191088348, -2.244443308711659, 0.3268343994554045, 0.6170152431305861, -1.144488918162176, -0.7276175094798126, 0.9094425700212857, -0.634981675068958, 0.6353637152292143, 0.3714755522848729, 1.1016368815752597, -1.0736541582562131, -0.5499263958601537, 0.12825680039161888, -0.19422090452153448, 0.6711847173472533, -0.5079720083360137, 0.8794376618777473, 0.7660839068399569, 0.4469657505645519, 0.1782288875422464, 1.2572553261277692, 0.012797089187213312, -1.315455101006535, 0.9444140121501476, -1.699309603661943, 1.5507327884698012, -2.263157926441218, -0.7640410787725485, 0.16524522140828057, -0.1391152332793379, -0.30755171808980164, -1.9665223204572826, 0.022182409925213985, 0.042103650514074824, 0.566141047628371, 0.37353919623312437, -0.6033802410403714, -1.6834930966532138, -0.7609948802891601, -0.600547350368087, 1.121037092850829, 1.8694226769685849, -0.38346078410638423, -1.1283922985448451, 1.4861840623283453, 0.7425161967706508, 0.2348162278991996, -0.736006720875728, 1.299124119015103, -2.2967600855017936, -0.6611027621510719, 0.09011037592488812, -0.8505606704256958, 1.289789067009791, 0.4470853129246212, 0.31281684194385173, -1.9840149554041737, -1.5167922471062651, 1.1444450814825367, 0.9313695985489706, 0.24504351281138553, 0.5477182800240153, -0.5415496320942039, 0.09391876463548578, 0.35077022804760993, -0.44725758015311173, -0.40790677494983807, -1.91641511072492, 0.7807166832884038, -1.5177837093068176, -0.07973952036839911, 1.2356160848351003, -0.49352563378429737, -1.4454348009865599, -2.075119576417736, -1.8223545817177422, -0.011589663425400137], \"yaxis\": \"y9\"}, {\"line\": {\"color\": \"rgba(128, 128, 128, 1.0)\", \"dash\": \"solid\", \"shape\": \"linear\", \"width\": 1.3}, \"marker\": {\"size\": 2, \"symbol\": \"circle\"}, \"mode\": \"markers\", \"name\": \"C\", \"text\": \"\", \"type\": \"scatter\", \"x\": [0.07185369046079401, 0.29267616132149354, 1.3359631098647982, 0.545107252353979, 0.023573072156253636, 1.7806383033831787, -0.41920654167464244, 0.004753334568482668, -2.7545563538357722, 0.07041581324653917, -1.364304744464887, 0.718262483781206, 0.37671176544749074, -1.0847088557375442, 1.6187844586389555, -0.41038939569643645, 0.9022879204128095, 0.07470444368018322, -0.7584331811688072, 0.3479398247480616, 0.8397792016531902, 0.2845358694450361, 0.19511201142922244, -0.010539222850371364, -0.14990513147805898, -0.37005534246633354, 0.16154465308645954, -0.9630652851775763, 0.579517364159973, -1.4035777230307875, -0.14667617489278087, 0.429449098925077, 1.440046259087059, 2.779703254185213, -1.514950174241543, -0.38314255705606365, -0.28049090845899743, -1.6463839162523453, 0.9295239384079738, 0.7384350925009466, 0.10959327433895386, -0.39257212731936186, 0.23713498567784455, -1.7154102455070654, 0.20760628052385752, -1.2702993648325682, 0.07927160209414827, -0.4941781039881184, -0.5452131194133613, 0.8346752200099381, 0.21672730634365797, 2.0009415803598136, -0.4925540797247069, 0.290306402115402, -2.7768372967908723, -0.01243405416751847, -0.6796710071224988, -0.5173016212189284, 0.011980851961724251, -0.4746822465762274, -0.5944376172789942, 0.1581220435820472, 1.26495408912878, -1.0696550732525592, 0.013027485374751303, -0.4319955499309191, 1.3510716342226594, 0.47790259237997684, 1.270129257323493, -0.7962319883857973, 0.4221151806341645, 1.2241360896242566, 1.2238455887227986, 0.5360442855369453, 0.026539491263576968, 0.16069619963252837, -0.11268005216683398, 0.9944938623906966, 0.4271947826458063, 1.149959525055607, 1.1635316140334477, -0.5986582879739627, -0.7622941206283473, 0.23379827654993318, 1.303149004453367, 1.287826099022475, 1.2714709343016026, -0.35790525271922513, -0.6941904164226653, -0.21990783839232766, 0.4049388044447175, -0.7029717255640098, 2.1418061547745078, -0.04272070937948088, 0.00047843236067118583, 0.40654832502335314, -0.9318105156963058, 1.6492233784140895, -0.11745673997334564, 0.1436187868780339], \"xaxis\": \"x10\", \"y\": [-0.37187648446881755, -0.6763426334321764, 0.44254904544186424, 0.043128429335627556, 1.3218966083042718, -0.8689893255236225, -0.839423336646792, 0.09534116283732383, 0.7908300919783517, -0.003224382633578965, -1.611742154159054, 0.30217033167470897, -0.457592516675857, 1.0018171916238594, 0.3080356581826416, -0.8842088012709165, 0.6539070103086261, -0.7852458290296245, 2.2834248251617093, 0.6583106796492599, 0.2818627313011538, -1.3995983056802286, 0.738115191088348, -2.244443308711659, 0.3268343994554045, 0.6170152431305861, -1.144488918162176, -0.7276175094798126, 0.9094425700212857, -0.634981675068958, 0.6353637152292143, 0.3714755522848729, 1.1016368815752597, -1.0736541582562131, -0.5499263958601537, 0.12825680039161888, -0.19422090452153448, 0.6711847173472533, -0.5079720083360137, 0.8794376618777473, 0.7660839068399569, 0.4469657505645519, 0.1782288875422464, 1.2572553261277692, 0.012797089187213312, -1.315455101006535, 0.9444140121501476, -1.699309603661943, 1.5507327884698012, -2.263157926441218, -0.7640410787725485, 0.16524522140828057, -0.1391152332793379, -0.30755171808980164, -1.9665223204572826, 0.022182409925213985, 0.042103650514074824, 0.566141047628371, 0.37353919623312437, -0.6033802410403714, -1.6834930966532138, -0.7609948802891601, -0.600547350368087, 1.121037092850829, 1.8694226769685849, -0.38346078410638423, -1.1283922985448451, 1.4861840623283453, 0.7425161967706508, 0.2348162278991996, -0.736006720875728, 1.299124119015103, -2.2967600855017936, -0.6611027621510719, 0.09011037592488812, -0.8505606704256958, 1.289789067009791, 0.4470853129246212, 0.31281684194385173, -1.9840149554041737, -1.5167922471062651, 1.1444450814825367, 0.9313695985489706, 0.24504351281138553, 0.5477182800240153, -0.5415496320942039, 0.09391876463548578, 0.35077022804760993, -0.44725758015311173, -0.40790677494983807, -1.91641511072492, 0.7807166832884038, -1.5177837093068176, -0.07973952036839911, 1.2356160848351003, -0.49352563378429737, -1.4454348009865599, -2.075119576417736, -1.8223545817177422, -0.011589663425400137], \"yaxis\": \"y10\"}, {\"histfunc\": \"count\", \"histnorm\": \"\", \"marker\": {\"color\": \"rgba(50, 171, 96, 1.0)\", \"line\": {\"color\": \"#4D5663\", \"width\": 1.3}}, \"name\": \"C\", \"nbinsx\": 10, \"opacity\": 0.8, \"orientation\": \"v\", \"type\": \"histogram\", \"x\": [-0.37187648446881755, -0.6763426334321764, 0.44254904544186424, 0.043128429335627556, 1.3218966083042718, -0.8689893255236225, -0.839423336646792, 0.09534116283732383, 0.7908300919783517, -0.003224382633578965, -1.611742154159054, 0.30217033167470897, -0.457592516675857, 1.0018171916238594, 0.3080356581826416, -0.8842088012709165, 0.6539070103086261, -0.7852458290296245, 2.2834248251617093, 0.6583106796492599, 0.2818627313011538, -1.3995983056802286, 0.738115191088348, -2.244443308711659, 0.3268343994554045, 0.6170152431305861, -1.144488918162176, -0.7276175094798126, 0.9094425700212857, -0.634981675068958, 0.6353637152292143, 0.3714755522848729, 1.1016368815752597, -1.0736541582562131, -0.5499263958601537, 0.12825680039161888, -0.19422090452153448, 0.6711847173472533, -0.5079720083360137, 0.8794376618777473, 0.7660839068399569, 0.4469657505645519, 0.1782288875422464, 1.2572553261277692, 0.012797089187213312, -1.315455101006535, 0.9444140121501476, -1.699309603661943, 1.5507327884698012, -2.263157926441218, -0.7640410787725485, 0.16524522140828057, -0.1391152332793379, -0.30755171808980164, -1.9665223204572826, 0.022182409925213985, 0.042103650514074824, 0.566141047628371, 0.37353919623312437, -0.6033802410403714, -1.6834930966532138, -0.7609948802891601, -0.600547350368087, 1.121037092850829, 1.8694226769685849, -0.38346078410638423, -1.1283922985448451, 1.4861840623283453, 0.7425161967706508, 0.2348162278991996, -0.736006720875728, 1.299124119015103, -2.2967600855017936, -0.6611027621510719, 0.09011037592488812, -0.8505606704256958, 1.289789067009791, 0.4470853129246212, 0.31281684194385173, -1.9840149554041737, -1.5167922471062651, 1.1444450814825367, 0.9313695985489706, 0.24504351281138553, 0.5477182800240153, -0.5415496320942039, 0.09391876463548578, 0.35077022804760993, -0.44725758015311173, -0.40790677494983807, -1.91641511072492, 0.7807166832884038, -1.5177837093068176, -0.07973952036839911, 1.2356160848351003, -0.49352563378429737, -1.4454348009865599, -2.075119576417736, -1.8223545817177422, -0.011589663425400137], \"xaxis\": \"x11\", \"yaxis\": \"y11\"}, {\"line\": {\"color\": \"rgba(128, 128, 128, 1.0)\", \"dash\": \"solid\", \"shape\": \"linear\", \"width\": 1.3}, \"marker\": {\"size\": 2, \"symbol\": \"circle\"}, \"mode\": \"markers\", \"name\": \"C\", \"text\": \"\", \"type\": \"scatter\", \"x\": [1.3047348576523032, 0.3522854133635167, -0.11018101728661994, 0.2663134248285946, -0.8820139616124586, -0.29582873262302045, 0.610877477526127, -0.4021014760746017, 0.7586739024738353, 0.9924838356932888, 0.0127559692876085, -1.6145738347932665, 0.3526465359649648, -0.038412393262158145, 1.6963814661509784, 1.2063338613139851, 1.5147780686008994, -0.015762633756935002, -0.09763432032843802, -1.0197923385180283, 1.322555564316582, -1.5523748434890081, 0.3847252513200086, -2.404479643278339, 0.37583335029270026, -0.6805267240227657, 1.140879087039691, -0.13286165094480124, 0.5387632215140534, 0.5774624821858806, -1.0866619941105529, -1.8913254109498334, -0.7142559243192667, -0.9781057274193367, 0.2696396184969162, 0.7470069064548276, -0.754363086434098, 0.3183019202719849, -0.6902852771497229, -0.14019007812654616, 0.24722884031532097, 3.0602247282836035, -0.6169750899905723, -1.8203409884613124, -2.0218942661271386, 0.5714514329583718, 0.7746220544773167, 1.0019448096437793, 0.5930547903983026, 0.58312660915772, 1.80253463074248, -0.781343018728653, -0.5817764091318236, -0.32602081954393186, -2.3558055082279465, -1.278381209586953, -1.077896458424639, -0.40461249132144234, 0.6197478560566623, -0.3541624271997475, 0.09694251336396409, 1.0607667054090593, 0.4607660949371727, 2.6608540891158885, 0.5753055944897928, 0.8670746614054494, 0.09549931013497635, -0.3900968840396244, 1.7303804491463284, 0.5468344316265031, 0.5442749395448334, -1.3469741930030925, -2.4392324000309293, 0.44017350923609655, -1.1806725737388115, -0.683975295653359, -2.2033654746908327, -0.9084827475825425, -0.7085658234674517, -0.9853084295615194, 1.0487734941633586, -0.3696460253466033, 0.5890494116782784, 1.6273023472449155, -0.26598068561695515, -0.1054810064965316, -1.0845950476614117, 0.846017301947262, -0.2262893476297783, -0.6375006468385689, 1.6079648863684999, 0.17846153204623383, -3.576868174692061, 0.02491286046082355, -0.19616430137984783, -1.5588803889449627, 0.14645756294213907, -1.0132828206338977, 0.5519082042584673, -1.2697352073814285], \"xaxis\": \"x12\", \"y\": [-0.37187648446881755, -0.6763426334321764, 0.44254904544186424, 0.043128429335627556, 1.3218966083042718, -0.8689893255236225, -0.839423336646792, 0.09534116283732383, 0.7908300919783517, -0.003224382633578965, -1.611742154159054, 0.30217033167470897, -0.457592516675857, 1.0018171916238594, 0.3080356581826416, -0.8842088012709165, 0.6539070103086261, -0.7852458290296245, 2.2834248251617093, 0.6583106796492599, 0.2818627313011538, -1.3995983056802286, 0.738115191088348, -2.244443308711659, 0.3268343994554045, 0.6170152431305861, -1.144488918162176, -0.7276175094798126, 0.9094425700212857, -0.634981675068958, 0.6353637152292143, 0.3714755522848729, 1.1016368815752597, -1.0736541582562131, -0.5499263958601537, 0.12825680039161888, -0.19422090452153448, 0.6711847173472533, -0.5079720083360137, 0.8794376618777473, 0.7660839068399569, 0.4469657505645519, 0.1782288875422464, 1.2572553261277692, 0.012797089187213312, -1.315455101006535, 0.9444140121501476, -1.699309603661943, 1.5507327884698012, -2.263157926441218, -0.7640410787725485, 0.16524522140828057, -0.1391152332793379, -0.30755171808980164, -1.9665223204572826, 0.022182409925213985, 0.042103650514074824, 0.566141047628371, 0.37353919623312437, -0.6033802410403714, -1.6834930966532138, -0.7609948802891601, -0.600547350368087, 1.121037092850829, 1.8694226769685849, -0.38346078410638423, -1.1283922985448451, 1.4861840623283453, 0.7425161967706508, 0.2348162278991996, -0.736006720875728, 1.299124119015103, -2.2967600855017936, -0.6611027621510719, 0.09011037592488812, -0.8505606704256958, 1.289789067009791, 0.4470853129246212, 0.31281684194385173, -1.9840149554041737, -1.5167922471062651, 1.1444450814825367, 0.9313695985489706, 0.24504351281138553, 0.5477182800240153, -0.5415496320942039, 0.09391876463548578, 0.35077022804760993, -0.44725758015311173, -0.40790677494983807, -1.91641511072492, 0.7807166832884038, -1.5177837093068176, -0.07973952036839911, 1.2356160848351003, -0.49352563378429737, -1.4454348009865599, -2.075119576417736, -1.8223545817177422, -0.011589663425400137], \"yaxis\": \"y12\"}, {\"line\": {\"color\": \"rgba(128, 128, 128, 1.0)\", \"dash\": \"solid\", \"shape\": \"linear\", \"width\": 1.3}, \"marker\": {\"size\": 2, \"symbol\": \"circle\"}, \"mode\": \"markers\", \"name\": \"D\", \"text\": \"\", \"type\": \"scatter\", \"x\": [-1.139418730002032, 0.6547989998648551, 0.39084583433649694, 0.9646681826571936, 0.42119755974889467, -0.23873385414912676, -0.2218960966330283, 0.5675391268184925, -0.14589675805068572, 0.2983797328942242, 0.2481277187050298, -0.959565662084963, 0.8983589857556141, -0.9205451688459358, -0.9073710648065669, -0.515818083052144, 0.3568982359524299, -0.05039881754988521, 1.045422545573841, -1.028197584323138, 1.8884199740984546, 0.5149998983933638, -0.4612569621502, -2.044884484384707, -2.2642782146088707, -1.3689178453525237, -0.4933880894392799, -0.44892769824569806, 0.7021651569997387, 0.17312188407331758, 0.8297254909813514, -1.209018772125511, -0.6643563939520879, -0.03970583699998416, -0.5617207661402005, -1.5631259578039896, 0.515889523095962, -0.8125689245955071, 0.8352380213053745, -0.4821209854676755, 1.1041130497801088, 1.0306206606074977, 0.9855867620785455, 2.0027569273403243, 0.2638266457953439, 0.04350891310129441, 0.8762454129201205, -0.08759198143271017, 0.8125231817138858, -0.9075513348000999, 0.5607733054161146, -0.23865240636633556, 1.1191716763190929, 0.5388212292102299, 0.27082148087794466, -0.1956758784434622, 1.2547094140308235, 0.302733734712402, -1.1695245267490626, 0.5185335466102716, 0.8190908979174077, 1.5642856701289398, -0.1839684949396022, -0.10464377212627611, -0.3738902853185688, -1.0578193647424976, 2.0398000529190385, -0.47861082085741863, -0.26066652323696304, 0.9178630415695512, 1.9169026133398048, 0.7487388185319119, -2.30795387068723, -0.04512853989323989, 0.679899641273138, -0.48688078490635245, -1.1505941647974545, 0.3185331783207228, 0.8562093507089286, -0.651604128474846, 0.45198833264601274, 1.3482242401288627, 0.8353632247445613, -1.6635070300669133, 1.166008542614696, -1.062260511565378, 0.5730805504655455, -0.08993760847573472, -0.43617816768055856, -1.5656173028182858, 1.165886988023119, 0.6929846977776724, 0.8990660463253227, 0.8770676699379643, 0.35505829390139904, -2.3865360599607173, -0.6196681063548992, 0.09208226131825127, -1.0205102925440586, -0.06404273101740816], \"xaxis\": \"x13\", \"y\": [1.3047348576523032, 0.3522854133635167, -0.11018101728661994, 0.2663134248285946, -0.8820139616124586, -0.29582873262302045, 0.610877477526127, -0.4021014760746017, 0.7586739024738353, 0.9924838356932888, 0.0127559692876085, -1.6145738347932665, 0.3526465359649648, -0.038412393262158145, 1.6963814661509784, 1.2063338613139851, 1.5147780686008994, -0.015762633756935002, -0.09763432032843802, -1.0197923385180283, 1.322555564316582, -1.5523748434890081, 0.3847252513200086, -2.404479643278339, 0.37583335029270026, -0.6805267240227657, 1.140879087039691, -0.13286165094480124, 0.5387632215140534, 0.5774624821858806, -1.0866619941105529, -1.8913254109498334, -0.7142559243192667, -0.9781057274193367, 0.2696396184969162, 0.7470069064548276, -0.754363086434098, 0.3183019202719849, -0.6902852771497229, -0.14019007812654616, 0.24722884031532097, 3.0602247282836035, -0.6169750899905723, -1.8203409884613124, -2.0218942661271386, 0.5714514329583718, 0.7746220544773167, 1.0019448096437793, 0.5930547903983026, 0.58312660915772, 1.80253463074248, -0.781343018728653, -0.5817764091318236, -0.32602081954393186, -2.3558055082279465, -1.278381209586953, -1.077896458424639, -0.40461249132144234, 0.6197478560566623, -0.3541624271997475, 0.09694251336396409, 1.0607667054090593, 0.4607660949371727, 2.6608540891158885, 0.5753055944897928, 0.8670746614054494, 0.09549931013497635, -0.3900968840396244, 1.7303804491463284, 0.5468344316265031, 0.5442749395448334, -1.3469741930030925, -2.4392324000309293, 0.44017350923609655, -1.1806725737388115, -0.683975295653359, -2.2033654746908327, -0.9084827475825425, -0.7085658234674517, -0.9853084295615194, 1.0487734941633586, -0.3696460253466033, 0.5890494116782784, 1.6273023472449155, -0.26598068561695515, -0.1054810064965316, -1.0845950476614117, 0.846017301947262, -0.2262893476297783, -0.6375006468385689, 1.6079648863684999, 0.17846153204623383, -3.576868174692061, 0.02491286046082355, -0.19616430137984783, -1.5588803889449627, 0.14645756294213907, -1.0132828206338977, 0.5519082042584673, -1.2697352073814285], \"yaxis\": \"y13\"}, {\"line\": {\"color\": \"rgba(128, 128, 128, 1.0)\", \"dash\": \"solid\", \"shape\": \"linear\", \"width\": 1.3}, \"marker\": {\"size\": 2, \"symbol\": \"circle\"}, \"mode\": \"markers\", \"name\": \"D\", \"text\": \"\", \"type\": \"scatter\", \"x\": [0.07185369046079401, 0.29267616132149354, 1.3359631098647982, 0.545107252353979, 0.023573072156253636, 1.7806383033831787, -0.41920654167464244, 0.004753334568482668, -2.7545563538357722, 0.07041581324653917, -1.364304744464887, 0.718262483781206, 0.37671176544749074, -1.0847088557375442, 1.6187844586389555, -0.41038939569643645, 0.9022879204128095, 0.07470444368018322, -0.7584331811688072, 0.3479398247480616, 0.8397792016531902, 0.2845358694450361, 0.19511201142922244, -0.010539222850371364, -0.14990513147805898, -0.37005534246633354, 0.16154465308645954, -0.9630652851775763, 0.579517364159973, -1.4035777230307875, -0.14667617489278087, 0.429449098925077, 1.440046259087059, 2.779703254185213, -1.514950174241543, -0.38314255705606365, -0.28049090845899743, -1.6463839162523453, 0.9295239384079738, 0.7384350925009466, 0.10959327433895386, -0.39257212731936186, 0.23713498567784455, -1.7154102455070654, 0.20760628052385752, -1.2702993648325682, 0.07927160209414827, -0.4941781039881184, -0.5452131194133613, 0.8346752200099381, 0.21672730634365797, 2.0009415803598136, -0.4925540797247069, 0.290306402115402, -2.7768372967908723, -0.01243405416751847, -0.6796710071224988, -0.5173016212189284, 0.011980851961724251, -0.4746822465762274, -0.5944376172789942, 0.1581220435820472, 1.26495408912878, -1.0696550732525592, 0.013027485374751303, -0.4319955499309191, 1.3510716342226594, 0.47790259237997684, 1.270129257323493, -0.7962319883857973, 0.4221151806341645, 1.2241360896242566, 1.2238455887227986, 0.5360442855369453, 0.026539491263576968, 0.16069619963252837, -0.11268005216683398, 0.9944938623906966, 0.4271947826458063, 1.149959525055607, 1.1635316140334477, -0.5986582879739627, -0.7622941206283473, 0.23379827654993318, 1.303149004453367, 1.287826099022475, 1.2714709343016026, -0.35790525271922513, -0.6941904164226653, -0.21990783839232766, 0.4049388044447175, -0.7029717255640098, 2.1418061547745078, -0.04272070937948088, 0.00047843236067118583, 0.40654832502335314, -0.9318105156963058, 1.6492233784140895, -0.11745673997334564, 0.1436187868780339], \"xaxis\": \"x14\", \"y\": [1.3047348576523032, 0.3522854133635167, -0.11018101728661994, 0.2663134248285946, -0.8820139616124586, -0.29582873262302045, 0.610877477526127, -0.4021014760746017, 0.7586739024738353, 0.9924838356932888, 0.0127559692876085, -1.6145738347932665, 0.3526465359649648, -0.038412393262158145, 1.6963814661509784, 1.2063338613139851, 1.5147780686008994, -0.015762633756935002, -0.09763432032843802, -1.0197923385180283, 1.322555564316582, -1.5523748434890081, 0.3847252513200086, -2.404479643278339, 0.37583335029270026, -0.6805267240227657, 1.140879087039691, -0.13286165094480124, 0.5387632215140534, 0.5774624821858806, -1.0866619941105529, -1.8913254109498334, -0.7142559243192667, -0.9781057274193367, 0.2696396184969162, 0.7470069064548276, -0.754363086434098, 0.3183019202719849, -0.6902852771497229, -0.14019007812654616, 0.24722884031532097, 3.0602247282836035, -0.6169750899905723, -1.8203409884613124, -2.0218942661271386, 0.5714514329583718, 0.7746220544773167, 1.0019448096437793, 0.5930547903983026, 0.58312660915772, 1.80253463074248, -0.781343018728653, -0.5817764091318236, -0.32602081954393186, -2.3558055082279465, -1.278381209586953, -1.077896458424639, -0.40461249132144234, 0.6197478560566623, -0.3541624271997475, 0.09694251336396409, 1.0607667054090593, 0.4607660949371727, 2.6608540891158885, 0.5753055944897928, 0.8670746614054494, 0.09549931013497635, -0.3900968840396244, 1.7303804491463284, 0.5468344316265031, 0.5442749395448334, -1.3469741930030925, -2.4392324000309293, 0.44017350923609655, -1.1806725737388115, -0.683975295653359, -2.2033654746908327, -0.9084827475825425, -0.7085658234674517, -0.9853084295615194, 1.0487734941633586, -0.3696460253466033, 0.5890494116782784, 1.6273023472449155, -0.26598068561695515, -0.1054810064965316, -1.0845950476614117, 0.846017301947262, -0.2262893476297783, -0.6375006468385689, 1.6079648863684999, 0.17846153204623383, -3.576868174692061, 0.02491286046082355, -0.19616430137984783, -1.5588803889449627, 0.14645756294213907, -1.0132828206338977, 0.5519082042584673, -1.2697352073814285], \"yaxis\": \"y14\"}, {\"line\": {\"color\": \"rgba(128, 128, 128, 1.0)\", \"dash\": \"solid\", \"shape\": \"linear\", \"width\": 1.3}, \"marker\": {\"size\": 2, \"symbol\": \"circle\"}, \"mode\": \"markers\", \"name\": \"D\", \"text\": \"\", \"type\": \"scatter\", \"x\": [-0.37187648446881755, -0.6763426334321764, 0.44254904544186424, 0.043128429335627556, 1.3218966083042718, -0.8689893255236225, -0.839423336646792, 0.09534116283732383, 0.7908300919783517, -0.003224382633578965, -1.611742154159054, 0.30217033167470897, -0.457592516675857, 1.0018171916238594, 0.3080356581826416, -0.8842088012709165, 0.6539070103086261, -0.7852458290296245, 2.2834248251617093, 0.6583106796492599, 0.2818627313011538, -1.3995983056802286, 0.738115191088348, -2.244443308711659, 0.3268343994554045, 0.6170152431305861, -1.144488918162176, -0.7276175094798126, 0.9094425700212857, -0.634981675068958, 0.6353637152292143, 0.3714755522848729, 1.1016368815752597, -1.0736541582562131, -0.5499263958601537, 0.12825680039161888, -0.19422090452153448, 0.6711847173472533, -0.5079720083360137, 0.8794376618777473, 0.7660839068399569, 0.4469657505645519, 0.1782288875422464, 1.2572553261277692, 0.012797089187213312, -1.315455101006535, 0.9444140121501476, -1.699309603661943, 1.5507327884698012, -2.263157926441218, -0.7640410787725485, 0.16524522140828057, -0.1391152332793379, -0.30755171808980164, -1.9665223204572826, 0.022182409925213985, 0.042103650514074824, 0.566141047628371, 0.37353919623312437, -0.6033802410403714, -1.6834930966532138, -0.7609948802891601, -0.600547350368087, 1.121037092850829, 1.8694226769685849, -0.38346078410638423, -1.1283922985448451, 1.4861840623283453, 0.7425161967706508, 0.2348162278991996, -0.736006720875728, 1.299124119015103, -2.2967600855017936, -0.6611027621510719, 0.09011037592488812, -0.8505606704256958, 1.289789067009791, 0.4470853129246212, 0.31281684194385173, -1.9840149554041737, -1.5167922471062651, 1.1444450814825367, 0.9313695985489706, 0.24504351281138553, 0.5477182800240153, -0.5415496320942039, 0.09391876463548578, 0.35077022804760993, -0.44725758015311173, -0.40790677494983807, -1.91641511072492, 0.7807166832884038, -1.5177837093068176, -0.07973952036839911, 1.2356160848351003, -0.49352563378429737, -1.4454348009865599, -2.075119576417736, -1.8223545817177422, -0.011589663425400137], \"xaxis\": \"x15\", \"y\": [1.3047348576523032, 0.3522854133635167, -0.11018101728661994, 0.2663134248285946, -0.8820139616124586, -0.29582873262302045, 0.610877477526127, -0.4021014760746017, 0.7586739024738353, 0.9924838356932888, 0.0127559692876085, -1.6145738347932665, 0.3526465359649648, -0.038412393262158145, 1.6963814661509784, 1.2063338613139851, 1.5147780686008994, -0.015762633756935002, -0.09763432032843802, -1.0197923385180283, 1.322555564316582, -1.5523748434890081, 0.3847252513200086, -2.404479643278339, 0.37583335029270026, -0.6805267240227657, 1.140879087039691, -0.13286165094480124, 0.5387632215140534, 0.5774624821858806, -1.0866619941105529, -1.8913254109498334, -0.7142559243192667, -0.9781057274193367, 0.2696396184969162, 0.7470069064548276, -0.754363086434098, 0.3183019202719849, -0.6902852771497229, -0.14019007812654616, 0.24722884031532097, 3.0602247282836035, -0.6169750899905723, -1.8203409884613124, -2.0218942661271386, 0.5714514329583718, 0.7746220544773167, 1.0019448096437793, 0.5930547903983026, 0.58312660915772, 1.80253463074248, -0.781343018728653, -0.5817764091318236, -0.32602081954393186, -2.3558055082279465, -1.278381209586953, -1.077896458424639, -0.40461249132144234, 0.6197478560566623, -0.3541624271997475, 0.09694251336396409, 1.0607667054090593, 0.4607660949371727, 2.6608540891158885, 0.5753055944897928, 0.8670746614054494, 0.09549931013497635, -0.3900968840396244, 1.7303804491463284, 0.5468344316265031, 0.5442749395448334, -1.3469741930030925, -2.4392324000309293, 0.44017350923609655, -1.1806725737388115, -0.683975295653359, -2.2033654746908327, -0.9084827475825425, -0.7085658234674517, -0.9853084295615194, 1.0487734941633586, -0.3696460253466033, 0.5890494116782784, 1.6273023472449155, -0.26598068561695515, -0.1054810064965316, -1.0845950476614117, 0.846017301947262, -0.2262893476297783, -0.6375006468385689, 1.6079648863684999, 0.17846153204623383, -3.576868174692061, 0.02491286046082355, -0.19616430137984783, -1.5588803889449627, 0.14645756294213907, -1.0132828206338977, 0.5519082042584673, -1.2697352073814285], \"yaxis\": \"y15\"}, {\"histfunc\": \"count\", \"histnorm\": \"\", \"marker\": {\"color\": \"rgba(128, 0, 128, 1.0)\", \"line\": {\"color\": \"#4D5663\", \"width\": 1.3}}, \"name\": \"D\", \"nbinsx\": 10, \"opacity\": 0.8, \"orientation\": \"v\", \"type\": \"histogram\", \"x\": [1.3047348576523032, 0.3522854133635167, -0.11018101728661994, 0.2663134248285946, -0.8820139616124586, -0.29582873262302045, 0.610877477526127, -0.4021014760746017, 0.7586739024738353, 0.9924838356932888, 0.0127559692876085, -1.6145738347932665, 0.3526465359649648, -0.038412393262158145, 1.6963814661509784, 1.2063338613139851, 1.5147780686008994, -0.015762633756935002, -0.09763432032843802, -1.0197923385180283, 1.322555564316582, -1.5523748434890081, 0.3847252513200086, -2.404479643278339, 0.37583335029270026, -0.6805267240227657, 1.140879087039691, -0.13286165094480124, 0.5387632215140534, 0.5774624821858806, -1.0866619941105529, -1.8913254109498334, -0.7142559243192667, -0.9781057274193367, 0.2696396184969162, 0.7470069064548276, -0.754363086434098, 0.3183019202719849, -0.6902852771497229, -0.14019007812654616, 0.24722884031532097, 3.0602247282836035, -0.6169750899905723, -1.8203409884613124, -2.0218942661271386, 0.5714514329583718, 0.7746220544773167, 1.0019448096437793, 0.5930547903983026, 0.58312660915772, 1.80253463074248, -0.781343018728653, -0.5817764091318236, -0.32602081954393186, -2.3558055082279465, -1.278381209586953, -1.077896458424639, -0.40461249132144234, 0.6197478560566623, -0.3541624271997475, 0.09694251336396409, 1.0607667054090593, 0.4607660949371727, 2.6608540891158885, 0.5753055944897928, 0.8670746614054494, 0.09549931013497635, -0.3900968840396244, 1.7303804491463284, 0.5468344316265031, 0.5442749395448334, -1.3469741930030925, -2.4392324000309293, 0.44017350923609655, -1.1806725737388115, -0.683975295653359, -2.2033654746908327, -0.9084827475825425, -0.7085658234674517, -0.9853084295615194, 1.0487734941633586, -0.3696460253466033, 0.5890494116782784, 1.6273023472449155, -0.26598068561695515, -0.1054810064965316, -1.0845950476614117, 0.846017301947262, -0.2262893476297783, -0.6375006468385689, 1.6079648863684999, 0.17846153204623383, -3.576868174692061, 0.02491286046082355, -0.19616430137984783, -1.5588803889449627, 0.14645756294213907, -1.0132828206338977, 0.5519082042584673, -1.2697352073814285], \"xaxis\": \"x16\", \"yaxis\": \"y16\"}],\n",
       "                        {\"bargap\": 0.02, \"legend\": {\"bgcolor\": \"#F5F6F9\", \"font\": {\"color\": \"#4D5663\"}}, \"paper_bgcolor\": \"#F5F6F9\", \"plot_bgcolor\": \"#F5F6F9\", \"showlegend\": false, \"template\": {\"data\": {\"bar\": [{\"error_x\": {\"color\": \"#2a3f5f\"}, \"error_y\": {\"color\": \"#2a3f5f\"}, \"marker\": {\"line\": {\"color\": \"#E5ECF6\", \"width\": 0.5}}, \"type\": \"bar\"}], \"barpolar\": [{\"marker\": {\"line\": {\"color\": \"#E5ECF6\", \"width\": 0.5}}, \"type\": \"barpolar\"}], \"carpet\": [{\"aaxis\": {\"endlinecolor\": \"#2a3f5f\", \"gridcolor\": \"white\", \"linecolor\": \"white\", \"minorgridcolor\": \"white\", \"startlinecolor\": \"#2a3f5f\"}, \"baxis\": {\"endlinecolor\": \"#2a3f5f\", \"gridcolor\": \"white\", \"linecolor\": \"white\", \"minorgridcolor\": \"white\", \"startlinecolor\": \"#2a3f5f\"}, \"type\": \"carpet\"}], \"choropleth\": [{\"colorbar\": {\"outlinewidth\": 0, \"ticks\": \"\"}, \"type\": \"choropleth\"}], \"contour\": [{\"colorbar\": {\"outlinewidth\": 0, \"ticks\": \"\"}, \"colorscale\": [[0.0, \"#0d0887\"], [0.1111111111111111, \"#46039f\"], [0.2222222222222222, \"#7201a8\"], [0.3333333333333333, \"#9c179e\"], [0.4444444444444444, \"#bd3786\"], [0.5555555555555556, \"#d8576b\"], [0.6666666666666666, \"#ed7953\"], [0.7777777777777778, \"#fb9f3a\"], [0.8888888888888888, \"#fdca26\"], [1.0, \"#f0f921\"]], \"type\": \"contour\"}], \"contourcarpet\": [{\"colorbar\": {\"outlinewidth\": 0, \"ticks\": \"\"}, \"type\": \"contourcarpet\"}], \"heatmap\": [{\"colorbar\": {\"outlinewidth\": 0, \"ticks\": \"\"}, \"colorscale\": [[0.0, \"#0d0887\"], [0.1111111111111111, \"#46039f\"], [0.2222222222222222, \"#7201a8\"], [0.3333333333333333, \"#9c179e\"], [0.4444444444444444, \"#bd3786\"], [0.5555555555555556, \"#d8576b\"], [0.6666666666666666, \"#ed7953\"], [0.7777777777777778, \"#fb9f3a\"], [0.8888888888888888, \"#fdca26\"], [1.0, \"#f0f921\"]], \"type\": \"heatmap\"}], \"heatmapgl\": [{\"colorbar\": {\"outlinewidth\": 0, \"ticks\": \"\"}, \"colorscale\": [[0.0, \"#0d0887\"], [0.1111111111111111, \"#46039f\"], [0.2222222222222222, \"#7201a8\"], [0.3333333333333333, \"#9c179e\"], [0.4444444444444444, \"#bd3786\"], [0.5555555555555556, \"#d8576b\"], [0.6666666666666666, \"#ed7953\"], [0.7777777777777778, \"#fb9f3a\"], [0.8888888888888888, \"#fdca26\"], [1.0, \"#f0f921\"]], \"type\": \"heatmapgl\"}], \"histogram\": [{\"marker\": {\"colorbar\": {\"outlinewidth\": 0, \"ticks\": \"\"}}, \"type\": \"histogram\"}], \"histogram2d\": [{\"colorbar\": {\"outlinewidth\": 0, \"ticks\": \"\"}, \"colorscale\": [[0.0, \"#0d0887\"], [0.1111111111111111, \"#46039f\"], [0.2222222222222222, \"#7201a8\"], [0.3333333333333333, \"#9c179e\"], [0.4444444444444444, \"#bd3786\"], [0.5555555555555556, \"#d8576b\"], [0.6666666666666666, \"#ed7953\"], [0.7777777777777778, \"#fb9f3a\"], [0.8888888888888888, \"#fdca26\"], [1.0, \"#f0f921\"]], \"type\": \"histogram2d\"}], \"histogram2dcontour\": [{\"colorbar\": {\"outlinewidth\": 0, \"ticks\": \"\"}, \"colorscale\": [[0.0, \"#0d0887\"], [0.1111111111111111, \"#46039f\"], [0.2222222222222222, \"#7201a8\"], [0.3333333333333333, \"#9c179e\"], [0.4444444444444444, \"#bd3786\"], [0.5555555555555556, \"#d8576b\"], [0.6666666666666666, \"#ed7953\"], [0.7777777777777778, \"#fb9f3a\"], [0.8888888888888888, \"#fdca26\"], [1.0, \"#f0f921\"]], \"type\": \"histogram2dcontour\"}], \"mesh3d\": [{\"colorbar\": {\"outlinewidth\": 0, \"ticks\": \"\"}, \"type\": \"mesh3d\"}], \"parcoords\": [{\"line\": {\"colorbar\": {\"outlinewidth\": 0, \"ticks\": \"\"}}, \"type\": \"parcoords\"}], \"pie\": [{\"automargin\": true, \"type\": \"pie\"}], \"scatter\": [{\"marker\": {\"colorbar\": {\"outlinewidth\": 0, \"ticks\": \"\"}}, \"type\": \"scatter\"}], \"scatter3d\": [{\"line\": {\"colorbar\": {\"outlinewidth\": 0, \"ticks\": \"\"}}, \"marker\": {\"colorbar\": {\"outlinewidth\": 0, \"ticks\": \"\"}}, \"type\": \"scatter3d\"}], \"scattercarpet\": [{\"marker\": {\"colorbar\": {\"outlinewidth\": 0, \"ticks\": \"\"}}, \"type\": \"scattercarpet\"}], \"scattergeo\": [{\"marker\": {\"colorbar\": {\"outlinewidth\": 0, \"ticks\": \"\"}}, \"type\": \"scattergeo\"}], \"scattergl\": [{\"marker\": {\"colorbar\": {\"outlinewidth\": 0, \"ticks\": \"\"}}, \"type\": \"scattergl\"}], \"scattermapbox\": [{\"marker\": {\"colorbar\": {\"outlinewidth\": 0, \"ticks\": \"\"}}, \"type\": \"scattermapbox\"}], \"scatterpolar\": [{\"marker\": {\"colorbar\": {\"outlinewidth\": 0, \"ticks\": \"\"}}, \"type\": \"scatterpolar\"}], \"scatterpolargl\": [{\"marker\": {\"colorbar\": {\"outlinewidth\": 0, \"ticks\": \"\"}}, \"type\": \"scatterpolargl\"}], \"scatterternary\": [{\"marker\": {\"colorbar\": {\"outlinewidth\": 0, \"ticks\": \"\"}}, \"type\": \"scatterternary\"}], \"surface\": [{\"colorbar\": {\"outlinewidth\": 0, \"ticks\": \"\"}, \"colorscale\": [[0.0, \"#0d0887\"], [0.1111111111111111, \"#46039f\"], [0.2222222222222222, \"#7201a8\"], [0.3333333333333333, \"#9c179e\"], [0.4444444444444444, \"#bd3786\"], [0.5555555555555556, \"#d8576b\"], [0.6666666666666666, \"#ed7953\"], [0.7777777777777778, \"#fb9f3a\"], [0.8888888888888888, \"#fdca26\"], [1.0, \"#f0f921\"]], \"type\": \"surface\"}], \"table\": [{\"cells\": {\"fill\": {\"color\": \"#EBF0F8\"}, \"line\": {\"color\": \"white\"}}, \"header\": {\"fill\": {\"color\": \"#C8D4E3\"}, \"line\": {\"color\": \"white\"}}, \"type\": \"table\"}]}, \"layout\": {\"annotationdefaults\": {\"arrowcolor\": \"#2a3f5f\", \"arrowhead\": 0, \"arrowwidth\": 1}, \"coloraxis\": {\"colorbar\": {\"outlinewidth\": 0, \"ticks\": \"\"}}, \"colorscale\": {\"diverging\": [[0, \"#8e0152\"], [0.1, \"#c51b7d\"], [0.2, \"#de77ae\"], [0.3, \"#f1b6da\"], [0.4, \"#fde0ef\"], [0.5, \"#f7f7f7\"], [0.6, \"#e6f5d0\"], [0.7, \"#b8e186\"], [0.8, \"#7fbc41\"], [0.9, \"#4d9221\"], [1, \"#276419\"]], \"sequential\": [[0.0, \"#0d0887\"], [0.1111111111111111, \"#46039f\"], [0.2222222222222222, \"#7201a8\"], [0.3333333333333333, \"#9c179e\"], [0.4444444444444444, \"#bd3786\"], [0.5555555555555556, \"#d8576b\"], [0.6666666666666666, \"#ed7953\"], [0.7777777777777778, \"#fb9f3a\"], [0.8888888888888888, \"#fdca26\"], [1.0, \"#f0f921\"]], \"sequentialminus\": [[0.0, \"#0d0887\"], [0.1111111111111111, \"#46039f\"], [0.2222222222222222, \"#7201a8\"], [0.3333333333333333, \"#9c179e\"], [0.4444444444444444, \"#bd3786\"], [0.5555555555555556, \"#d8576b\"], [0.6666666666666666, \"#ed7953\"], [0.7777777777777778, \"#fb9f3a\"], [0.8888888888888888, \"#fdca26\"], [1.0, \"#f0f921\"]]}, \"colorway\": [\"#636efa\", \"#EF553B\", \"#00cc96\", \"#ab63fa\", \"#FFA15A\", \"#19d3f3\", \"#FF6692\", \"#B6E880\", \"#FF97FF\", \"#FECB52\"], \"font\": {\"color\": \"#2a3f5f\"}, \"geo\": {\"bgcolor\": \"white\", \"lakecolor\": \"white\", \"landcolor\": \"#E5ECF6\", \"showlakes\": true, \"showland\": true, \"subunitcolor\": \"white\"}, \"hoverlabel\": {\"align\": \"left\"}, \"hovermode\": \"closest\", \"mapbox\": {\"style\": \"light\"}, \"paper_bgcolor\": \"white\", \"plot_bgcolor\": \"#E5ECF6\", \"polar\": {\"angularaxis\": {\"gridcolor\": \"white\", \"linecolor\": \"white\", \"ticks\": \"\"}, \"bgcolor\": \"#E5ECF6\", \"radialaxis\": {\"gridcolor\": \"white\", \"linecolor\": \"white\", \"ticks\": \"\"}}, \"scene\": {\"xaxis\": {\"backgroundcolor\": \"#E5ECF6\", \"gridcolor\": \"white\", \"gridwidth\": 2, \"linecolor\": \"white\", \"showbackground\": true, \"ticks\": \"\", \"zerolinecolor\": \"white\"}, \"yaxis\": {\"backgroundcolor\": \"#E5ECF6\", \"gridcolor\": \"white\", \"gridwidth\": 2, \"linecolor\": \"white\", \"showbackground\": true, \"ticks\": \"\", \"zerolinecolor\": \"white\"}, \"zaxis\": {\"backgroundcolor\": \"#E5ECF6\", \"gridcolor\": \"white\", \"gridwidth\": 2, \"linecolor\": \"white\", \"showbackground\": true, \"ticks\": \"\", \"zerolinecolor\": \"white\"}}, \"shapedefaults\": {\"line\": {\"color\": \"#2a3f5f\"}}, \"ternary\": {\"aaxis\": {\"gridcolor\": \"white\", \"linecolor\": \"white\", \"ticks\": \"\"}, \"baxis\": {\"gridcolor\": \"white\", \"linecolor\": \"white\", \"ticks\": \"\"}, \"bgcolor\": \"#E5ECF6\", \"caxis\": {\"gridcolor\": \"white\", \"linecolor\": \"white\", \"ticks\": \"\"}}, \"title\": {\"x\": 0.05}, \"xaxis\": {\"automargin\": true, \"gridcolor\": \"white\", \"linecolor\": \"white\", \"ticks\": \"\", \"title\": {\"standoff\": 15}, \"zerolinecolor\": \"white\", \"zerolinewidth\": 2}, \"yaxis\": {\"automargin\": true, \"gridcolor\": \"white\", \"linecolor\": \"white\", \"ticks\": \"\", \"title\": {\"standoff\": 15}, \"zerolinecolor\": \"white\", \"zerolinewidth\": 2}}}, \"title\": {\"font\": {\"color\": \"#4D5663\"}}, \"xaxis\": {\"anchor\": \"y\", \"domain\": [0.0, 0.2125], \"gridcolor\": \"#E1E5ED\", \"showgrid\": false, \"tickfont\": {\"color\": \"#4D5663\"}, \"title\": {\"font\": {\"color\": \"#4D5663\"}, \"text\": \"\"}, \"zerolinecolor\": \"#E1E5ED\"}, \"xaxis10\": {\"anchor\": \"y10\", \"domain\": [0.2625, 0.475], \"gridcolor\": \"#E1E5ED\", \"showgrid\": false, \"tickfont\": {\"color\": \"#4D5663\"}, \"title\": {\"font\": {\"color\": \"#4D5663\"}, \"text\": \"\"}, \"zerolinecolor\": \"#E1E5ED\"}, \"xaxis11\": {\"anchor\": \"y11\", \"domain\": [0.525, 0.7375], \"gridcolor\": \"#E1E5ED\", \"showgrid\": false, \"tickfont\": {\"color\": \"#4D5663\"}, \"title\": {\"font\": {\"color\": \"#4D5663\"}, \"text\": \"\"}, \"zerolinecolor\": \"#E1E5ED\"}, \"xaxis12\": {\"anchor\": \"y12\", \"domain\": [0.7875, 1.0], \"gridcolor\": \"#E1E5ED\", \"showgrid\": false, \"tickfont\": {\"color\": \"#4D5663\"}, \"title\": {\"font\": {\"color\": \"#4D5663\"}, \"text\": \"\"}, \"zerolinecolor\": \"#E1E5ED\"}, \"xaxis13\": {\"anchor\": \"y13\", \"domain\": [0.0, 0.2125], \"gridcolor\": \"#E1E5ED\", \"showgrid\": false, \"tickfont\": {\"color\": \"#4D5663\"}, \"title\": {\"font\": {\"color\": \"#4D5663\"}, \"text\": \"\"}, \"zerolinecolor\": \"#E1E5ED\"}, \"xaxis14\": {\"anchor\": \"y14\", \"domain\": [0.2625, 0.475], \"gridcolor\": \"#E1E5ED\", \"showgrid\": false, \"tickfont\": {\"color\": \"#4D5663\"}, \"title\": {\"font\": {\"color\": \"#4D5663\"}, \"text\": \"\"}, \"zerolinecolor\": \"#E1E5ED\"}, \"xaxis15\": {\"anchor\": \"y15\", \"domain\": [0.525, 0.7375], \"gridcolor\": \"#E1E5ED\", \"showgrid\": false, \"tickfont\": {\"color\": \"#4D5663\"}, \"title\": {\"font\": {\"color\": \"#4D5663\"}, \"text\": \"\"}, \"zerolinecolor\": \"#E1E5ED\"}, \"xaxis16\": {\"anchor\": \"y16\", \"domain\": [0.7875, 1.0], \"gridcolor\": \"#E1E5ED\", \"showgrid\": false, \"tickfont\": {\"color\": \"#4D5663\"}, \"title\": {\"font\": {\"color\": \"#4D5663\"}, \"text\": \"\"}, \"zerolinecolor\": \"#E1E5ED\"}, \"xaxis2\": {\"anchor\": \"y2\", \"domain\": [0.2625, 0.475], \"gridcolor\": \"#E1E5ED\", \"showgrid\": false, \"tickfont\": {\"color\": \"#4D5663\"}, \"title\": {\"font\": {\"color\": \"#4D5663\"}, \"text\": \"\"}, \"zerolinecolor\": \"#E1E5ED\"}, \"xaxis3\": {\"anchor\": \"y3\", \"domain\": [0.525, 0.7375], \"gridcolor\": \"#E1E5ED\", \"showgrid\": false, \"tickfont\": {\"color\": \"#4D5663\"}, \"title\": {\"font\": {\"color\": \"#4D5663\"}, \"text\": \"\"}, \"zerolinecolor\": \"#E1E5ED\"}, \"xaxis4\": {\"anchor\": \"y4\", \"domain\": [0.7875, 1.0], \"gridcolor\": \"#E1E5ED\", \"showgrid\": false, \"tickfont\": {\"color\": \"#4D5663\"}, \"title\": {\"font\": {\"color\": \"#4D5663\"}, \"text\": \"\"}, \"zerolinecolor\": \"#E1E5ED\"}, \"xaxis5\": {\"anchor\": \"y5\", \"domain\": [0.0, 0.2125], \"gridcolor\": \"#E1E5ED\", \"showgrid\": false, \"tickfont\": {\"color\": \"#4D5663\"}, \"title\": {\"font\": {\"color\": \"#4D5663\"}, \"text\": \"\"}, \"zerolinecolor\": \"#E1E5ED\"}, \"xaxis6\": {\"anchor\": \"y6\", \"domain\": [0.2625, 0.475], \"gridcolor\": \"#E1E5ED\", \"showgrid\": false, \"tickfont\": {\"color\": \"#4D5663\"}, \"title\": {\"font\": {\"color\": \"#4D5663\"}, \"text\": \"\"}, \"zerolinecolor\": \"#E1E5ED\"}, \"xaxis7\": {\"anchor\": \"y7\", \"domain\": [0.525, 0.7375], \"gridcolor\": \"#E1E5ED\", \"showgrid\": false, \"tickfont\": {\"color\": \"#4D5663\"}, \"title\": {\"font\": {\"color\": \"#4D5663\"}, \"text\": \"\"}, \"zerolinecolor\": \"#E1E5ED\"}, \"xaxis8\": {\"anchor\": \"y8\", \"domain\": [0.7875, 1.0], \"gridcolor\": \"#E1E5ED\", \"showgrid\": false, \"tickfont\": {\"color\": \"#4D5663\"}, \"title\": {\"font\": {\"color\": \"#4D5663\"}, \"text\": \"\"}, \"zerolinecolor\": \"#E1E5ED\"}, \"xaxis9\": {\"anchor\": \"y9\", \"domain\": [0.0, 0.2125], \"gridcolor\": \"#E1E5ED\", \"showgrid\": false, \"tickfont\": {\"color\": \"#4D5663\"}, \"title\": {\"font\": {\"color\": \"#4D5663\"}, \"text\": \"\"}, \"zerolinecolor\": \"#E1E5ED\"}, \"yaxis\": {\"anchor\": \"x\", \"domain\": [0.8025, 1.0], \"gridcolor\": \"#E1E5ED\", \"showgrid\": false, \"tickfont\": {\"color\": \"#4D5663\"}, \"title\": {\"font\": {\"color\": \"#4D5663\"}, \"text\": \"\"}, \"zerolinecolor\": \"#E1E5ED\"}, \"yaxis10\": {\"anchor\": \"x10\", \"domain\": [0.2675, 0.465], \"gridcolor\": \"#E1E5ED\", \"showgrid\": false, \"tickfont\": {\"color\": \"#4D5663\"}, \"title\": {\"font\": {\"color\": \"#4D5663\"}, \"text\": \"\"}, \"zerolinecolor\": \"#E1E5ED\"}, \"yaxis11\": {\"anchor\": \"x11\", \"domain\": [0.2675, 0.465], \"gridcolor\": \"#E1E5ED\", \"showgrid\": false, \"tickfont\": {\"color\": \"#4D5663\"}, \"title\": {\"font\": {\"color\": \"#4D5663\"}, \"text\": \"\"}, \"zerolinecolor\": \"#E1E5ED\"}, \"yaxis12\": {\"anchor\": \"x12\", \"domain\": [0.2675, 0.465], \"gridcolor\": \"#E1E5ED\", \"showgrid\": false, \"tickfont\": {\"color\": \"#4D5663\"}, \"title\": {\"font\": {\"color\": \"#4D5663\"}, \"text\": \"\"}, \"zerolinecolor\": \"#E1E5ED\"}, \"yaxis13\": {\"anchor\": \"x13\", \"domain\": [0.0, 0.1975], \"gridcolor\": \"#E1E5ED\", \"showgrid\": false, \"tickfont\": {\"color\": \"#4D5663\"}, \"title\": {\"font\": {\"color\": \"#4D5663\"}, \"text\": \"\"}, \"zerolinecolor\": \"#E1E5ED\"}, \"yaxis14\": {\"anchor\": \"x14\", \"domain\": [0.0, 0.1975], \"gridcolor\": \"#E1E5ED\", \"showgrid\": false, \"tickfont\": {\"color\": \"#4D5663\"}, \"title\": {\"font\": {\"color\": \"#4D5663\"}, \"text\": \"\"}, \"zerolinecolor\": \"#E1E5ED\"}, \"yaxis15\": {\"anchor\": \"x15\", \"domain\": [0.0, 0.1975], \"gridcolor\": \"#E1E5ED\", \"showgrid\": false, \"tickfont\": {\"color\": \"#4D5663\"}, \"title\": {\"font\": {\"color\": \"#4D5663\"}, \"text\": \"\"}, \"zerolinecolor\": \"#E1E5ED\"}, \"yaxis16\": {\"anchor\": \"x16\", \"domain\": [0.0, 0.1975], \"gridcolor\": \"#E1E5ED\", \"showgrid\": false, \"tickfont\": {\"color\": \"#4D5663\"}, \"title\": {\"font\": {\"color\": \"#4D5663\"}, \"text\": \"\"}, \"zerolinecolor\": \"#E1E5ED\"}, \"yaxis2\": {\"anchor\": \"x2\", \"domain\": [0.8025, 1.0], \"gridcolor\": \"#E1E5ED\", \"showgrid\": false, \"tickfont\": {\"color\": \"#4D5663\"}, \"title\": {\"font\": {\"color\": \"#4D5663\"}, \"text\": \"\"}, \"zerolinecolor\": \"#E1E5ED\"}, \"yaxis3\": {\"anchor\": \"x3\", \"domain\": [0.8025, 1.0], \"gridcolor\": \"#E1E5ED\", \"showgrid\": false, \"tickfont\": {\"color\": \"#4D5663\"}, \"title\": {\"font\": {\"color\": \"#4D5663\"}, \"text\": \"\"}, \"zerolinecolor\": \"#E1E5ED\"}, \"yaxis4\": {\"anchor\": \"x4\", \"domain\": [0.8025, 1.0], \"gridcolor\": \"#E1E5ED\", \"showgrid\": false, \"tickfont\": {\"color\": \"#4D5663\"}, \"title\": {\"font\": {\"color\": \"#4D5663\"}, \"text\": \"\"}, \"zerolinecolor\": \"#E1E5ED\"}, \"yaxis5\": {\"anchor\": \"x5\", \"domain\": [0.535, 0.7325], \"gridcolor\": \"#E1E5ED\", \"showgrid\": false, \"tickfont\": {\"color\": \"#4D5663\"}, \"title\": {\"font\": {\"color\": \"#4D5663\"}, \"text\": \"\"}, \"zerolinecolor\": \"#E1E5ED\"}, \"yaxis6\": {\"anchor\": \"x6\", \"domain\": [0.535, 0.7325], \"gridcolor\": \"#E1E5ED\", \"showgrid\": false, \"tickfont\": {\"color\": \"#4D5663\"}, \"title\": {\"font\": {\"color\": \"#4D5663\"}, \"text\": \"\"}, \"zerolinecolor\": \"#E1E5ED\"}, \"yaxis7\": {\"anchor\": \"x7\", \"domain\": [0.535, 0.7325], \"gridcolor\": \"#E1E5ED\", \"showgrid\": false, \"tickfont\": {\"color\": \"#4D5663\"}, \"title\": {\"font\": {\"color\": \"#4D5663\"}, \"text\": \"\"}, \"zerolinecolor\": \"#E1E5ED\"}, \"yaxis8\": {\"anchor\": \"x8\", \"domain\": [0.535, 0.7325], \"gridcolor\": \"#E1E5ED\", \"showgrid\": false, \"tickfont\": {\"color\": \"#4D5663\"}, \"title\": {\"font\": {\"color\": \"#4D5663\"}, \"text\": \"\"}, \"zerolinecolor\": \"#E1E5ED\"}, \"yaxis9\": {\"anchor\": \"x9\", \"domain\": [0.2675, 0.465], \"gridcolor\": \"#E1E5ED\", \"showgrid\": false, \"tickfont\": {\"color\": \"#4D5663\"}, \"title\": {\"font\": {\"color\": \"#4D5663\"}, \"text\": \"\"}, \"zerolinecolor\": \"#E1E5ED\"}},\n",
       "                        {\"showLink\": true, \"linkText\": \"Export to plot.ly\", \"plotlyServerURL\": \"https://plot.ly\", \"responsive\": true}\n",
       "                    ).then(function(){\n",
       "                            \n",
       "var gd = document.getElementById('289e23e7-37e0-4053-8aaf-d42edec925c4');\n",
       "var x = new MutationObserver(function (mutations, observer) {{\n",
       "        var display = window.getComputedStyle(gd).display;\n",
       "        if (!display || display === 'none') {{\n",
       "            console.log([gd, 'removed!']);\n",
       "            Plotly.purge(gd);\n",
       "            observer.disconnect();\n",
       "        }}\n",
       "}});\n",
       "\n",
       "// Listen for the removal of the full notebook cells\n",
       "var notebookContainer = gd.closest('#notebook-container');\n",
       "if (notebookContainer) {{\n",
       "    x.observe(notebookContainer, {childList: true});\n",
       "}}\n",
       "\n",
       "// Listen for the clearing of the current output cell\n",
       "var outputEl = gd.closest('.output');\n",
       "if (outputEl) {{\n",
       "    x.observe(outputEl, {childList: true});\n",
       "}}\n",
       "\n",
       "                        })\n",
       "                };\n",
       "                });\n",
       "            </script>\n",
       "        </div>"
      ]
     },
     "metadata": {},
     "output_type": "display_data"
    }
   ],
   "source": [
    "df.scatter_matrix()"
   ]
  },
  {
   "cell_type": "markdown",
   "metadata": {
    "collapsed": true
   },
   "source": [
    "# Great Job!"
   ]
  }
 ],
 "metadata": {
  "kernelspec": {
   "display_name": "Python 3",
   "language": "python",
   "name": "python3"
  },
  "language_info": {
   "codemirror_mode": {
    "name": "ipython",
    "version": 3
   },
   "file_extension": ".py",
   "mimetype": "text/x-python",
   "name": "python",
   "nbconvert_exporter": "python",
   "pygments_lexer": "ipython3",
   "version": "3.7.7"
  },
  "toc": {
   "base_numbering": 1,
   "nav_menu": {},
   "number_sections": true,
   "sideBar": true,
   "skip_h1_title": false,
   "title_cell": "Table of Contents",
   "title_sidebar": "Contents",
   "toc_cell": false,
   "toc_position": {},
   "toc_section_display": true,
   "toc_window_display": false
  },
  "varInspector": {
   "cols": {
    "lenName": 16,
    "lenType": 16,
    "lenVar": 40
   },
   "kernels_config": {
    "python": {
     "delete_cmd_postfix": "",
     "delete_cmd_prefix": "del ",
     "library": "var_list.py",
     "varRefreshCmd": "print(var_dic_list())"
    },
    "r": {
     "delete_cmd_postfix": ") ",
     "delete_cmd_prefix": "rm(",
     "library": "var_list.r",
     "varRefreshCmd": "cat(var_dic_list()) "
    }
   },
   "types_to_exclude": [
    "module",
    "function",
    "builtin_function_or_method",
    "instance",
    "_Feature"
   ],
   "window_display": false
  }
 },
 "nbformat": 4,
 "nbformat_minor": 1
}
