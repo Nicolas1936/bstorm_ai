{
 "cells": [
  {
   "cell_type": "markdown",
   "metadata": {},
   "source": [
    "# Exercices Numpy"
   ]
  },
  {
   "cell_type": "code",
   "execution_count": 1,
   "metadata": {},
   "outputs": [],
   "source": [
    "import numpy as np"
   ]
  },
  {
   "cell_type": "markdown",
   "metadata": {},
   "source": [
    "## Exercice 1"
   ]
  },
  {
   "cell_type": "markdown",
   "metadata": {},
   "source": [
    "Créer un tableau depuis la liste [1.6, 0.5, 7.4, 22.3] et stocker le dans la variable « vec ».\n",
    "* Afficher le contenu de la variable « vec »\n",
    "* Afficher le type de données du tableau « vec », sa forme, sa dimension et sa\n",
    "longueur.\n",
    "* Afficher le troisième élément du tableau.\n",
    "* Modifier la valeur « 0.5 » par « 3.8 ».\n",
    "* Calculer la taille de la mémoire du tableau.\n",
    "* Convertir le type du tableau vers « int »\n",
    "* Calculer la taille de la mé moire du tableau aprè s la conversion du type. \n",
    "* Sauvegarder le tableau dans un fichier texte."
   ]
  },
  {
   "cell_type": "code",
   "execution_count": 73,
   "metadata": {},
   "outputs": [
    {
     "data": {
      "text/plain": [
       "array([ 1.6,  0.5,  7.4, 22.3])"
      ]
     },
     "execution_count": 73,
     "metadata": {},
     "output_type": "execute_result"
    }
   ],
   "source": [
    "#1-2\n",
    "vec = np.array([1.6, 0.5, 7.4, 22.3])\n",
    "vec"
   ]
  },
  {
   "cell_type": "code",
   "execution_count": 74,
   "metadata": {},
   "outputs": [
    {
     "name": "stdout",
     "output_type": "stream",
     "text": [
      "<class 'numpy.ndarray'>\n",
      "float64\n",
      "(4,)\n",
      "1\n",
      "4\n"
     ]
    }
   ],
   "source": [
    "#3\n",
    "print(type(vec))\n",
    "print(vec.dtype)\n",
    "print(vec.shape)\n",
    "print(vec.ndim)\n",
    "print(vec.size)"
   ]
  },
  {
   "cell_type": "code",
   "execution_count": 75,
   "metadata": {},
   "outputs": [
    {
     "data": {
      "text/plain": [
       "7.4"
      ]
     },
     "execution_count": 75,
     "metadata": {},
     "output_type": "execute_result"
    }
   ],
   "source": [
    "#4\n",
    "vec[2]"
   ]
  },
  {
   "cell_type": "code",
   "execution_count": 78,
   "metadata": {},
   "outputs": [
    {
     "data": {
      "text/plain": [
       "array([ 1.6,  0.5,  7.4, 22.3])"
      ]
     },
     "execution_count": 78,
     "metadata": {},
     "output_type": "execute_result"
    }
   ],
   "source": [
    "vec"
   ]
  },
  {
   "cell_type": "code",
   "execution_count": 20,
   "metadata": {},
   "outputs": [
    {
     "name": "stdout",
     "output_type": "stream",
     "text": [
      "[ 1.6  0.5  7.4 22.3]\n",
      "[ 1.6  3.8  7.4 22.3]\n"
     ]
    }
   ],
   "source": [
    "#5\n",
    "print(vec)\n",
    "vec[1] = 3.8 #==> Mieux! : vec[vec==0.5] = 3.8\n",
    "print(vec)"
   ]
  },
  {
   "cell_type": "code",
   "execution_count": 85,
   "metadata": {},
   "outputs": [
    {
     "data": {
      "text/plain": [
       "array([ 1.6,  3.8,  7.4, 22.3])"
      ]
     },
     "execution_count": 85,
     "metadata": {},
     "output_type": "execute_result"
    }
   ],
   "source": [
    "#np.where(a < 5, a, 10*a)\n",
    "np.where(vec == 0.5, 3.8, vec)"
   ]
  },
  {
   "cell_type": "code",
   "execution_count": 21,
   "metadata": {},
   "outputs": [
    {
     "data": {
      "text/plain": [
       "32"
      ]
     },
     "execution_count": 21,
     "metadata": {},
     "output_type": "execute_result"
    }
   ],
   "source": [
    "#6\n",
    "vec.nbytes"
   ]
  },
  {
   "cell_type": "code",
   "execution_count": 23,
   "metadata": {},
   "outputs": [
    {
     "data": {
      "text/plain": [
       "array([ 1,  3,  7, 22])"
      ]
     },
     "execution_count": 23,
     "metadata": {},
     "output_type": "execute_result"
    }
   ],
   "source": [
    "#7\n",
    "vec = vec.astype(int)\n",
    "vec"
   ]
  },
  {
   "cell_type": "code",
   "execution_count": 24,
   "metadata": {},
   "outputs": [
    {
     "data": {
      "text/plain": [
       "32"
      ]
     },
     "execution_count": 24,
     "metadata": {},
     "output_type": "execute_result"
    }
   ],
   "source": [
    "vec.nbytes"
   ]
  },
  {
   "cell_type": "code",
   "execution_count": 31,
   "metadata": {},
   "outputs": [
    {
     "name": "stdout",
     "output_type": "stream",
     "text": [
      "[ 1  3  7 22]\n",
      "32\n",
      "int64\n"
     ]
    }
   ],
   "source": [
    "#8\n",
    "vec = vec.astype(np.int64)\n",
    "print(vec)\n",
    "print(vec.nbytes)\n",
    "print(vec.dtype)"
   ]
  },
  {
   "cell_type": "code",
   "execution_count": 33,
   "metadata": {},
   "outputs": [],
   "source": [
    "#9\n",
    "np.savetxt(\"ex1.txt\", vec)"
   ]
  },
  {
   "cell_type": "markdown",
   "metadata": {},
   "source": [
    "Créer une matrice « mat » depuis la liste [[0, 3, 6, 9], [5, 10, 15, 20], [30, 40, 50, 60]]\n",
    "* Afficher le contenu de la variable « mat »\n",
    "* Afficher le type de donné es de la matrice « mat », sa forme, sa dimension et sa longueur.\n",
    "* Pouvez-vous obtenir la dimension et la longueur à partir de la forme ?\n",
    "* Créer la matrice mat_1 extraite de mat telle que i >= 1, j <=2.\n",
    "* Modifier la matrice « mat » afin que sa derniè re ligne soit divisé e par 10 et que sa première colonne soit multipliée par 2."
   ]
  },
  {
   "cell_type": "code",
   "execution_count": 95,
   "metadata": {},
   "outputs": [
    {
     "data": {
      "text/plain": [
       "array([[ 0,  3,  6,  9],\n",
       "       [ 5, 10, 15, 20],\n",
       "       [30, 40, 50, 60]])"
      ]
     },
     "execution_count": 95,
     "metadata": {},
     "output_type": "execute_result"
    }
   ],
   "source": [
    "#1\n",
    "mat = np.array([[0, 3, 6, 9], [5, 10, 15, 20], [30, 40, 50, 60]])\n",
    "mat"
   ]
  },
  {
   "cell_type": "code",
   "execution_count": 53,
   "metadata": {},
   "outputs": [
    {
     "name": "stdout",
     "output_type": "stream",
     "text": [
      "int64\n",
      "(3, 4)\n",
      "2\n",
      "12\n"
     ]
    }
   ],
   "source": [
    "#2\n",
    "print(mat.dtype)\n",
    "print(mat.shape)\n",
    "print(mat.ndim)\n",
    "print(mat.size)"
   ]
  },
  {
   "cell_type": "code",
   "execution_count": 54,
   "metadata": {},
   "outputs": [],
   "source": [
    "#3\n",
    "#Oui!!!\n",
    "#dimension = (nb_lignes, nb_colonnes)\n",
    "#longueur = nb_lignes * nb_colonnes"
   ]
  },
  {
   "cell_type": "code",
   "execution_count": 94,
   "metadata": {},
   "outputs": [
    {
     "data": {
      "text/plain": [
       "array([[ 0,  3],\n",
       "       [ 5, 10],\n",
       "       [30, 40]])"
      ]
     },
     "execution_count": 94,
     "metadata": {},
     "output_type": "execute_result"
    }
   ],
   "source": [
    "#4\n",
    "#mat_1 = mat.reshape(12,1)\n",
    "mat_1 = mat[:, :2]\n",
    "mat_1"
   ]
  },
  {
   "cell_type": "code",
   "execution_count": 98,
   "metadata": {},
   "outputs": [
    {
     "data": {
      "text/plain": [
       "array([[ 0,  3,  6,  9],\n",
       "       [ 5, 10, 15, 20],\n",
       "       [ 3,  4,  5,  6]])"
      ]
     },
     "execution_count": 98,
     "metadata": {},
     "output_type": "execute_result"
    }
   ],
   "source": [
    "#5\n",
    "#mat[2] = mat[2] / 10\n",
    "mat[2, :] = mat[2, :] / 10\n",
    "mat"
   ]
  },
  {
   "cell_type": "code",
   "execution_count": 99,
   "metadata": {},
   "outputs": [
    {
     "data": {
      "text/plain": [
       "array([[ 0,  3,  6,  9],\n",
       "       [10, 10, 15, 20],\n",
       "       [ 6,  4,  5,  6]])"
      ]
     },
     "execution_count": 99,
     "metadata": {},
     "output_type": "execute_result"
    }
   ],
   "source": [
    "#mat[:, 0] = mat[:, 0] * 2\n",
    "mat[:, 0] *= 2\n",
    "mat"
   ]
  },
  {
   "cell_type": "markdown",
   "metadata": {},
   "source": [
    "Créer un tableau multidimensionnel « nd_vec » d’une dimension > 2\n",
    "* Afficher le contenu de « nd_vec »\n",
    "* Afficher le type de données du tableau « nd_vec », sa forme, sa dimension et sa longueur.\n",
    "* Pouvez-vous obtenir la dimension et la longueur à partir de la forme ? \n",
    "* Afficher un élément de ce tableau ainsi qu’un sous tableau."
   ]
  },
  {
   "cell_type": "code",
   "execution_count": 111,
   "metadata": {},
   "outputs": [
    {
     "data": {
      "text/plain": [
       "array([[[1., 1., 1.],\n",
       "        [1., 1., 1.],\n",
       "        [1., 1., 1.]],\n",
       "\n",
       "       [[1., 1., 1.],\n",
       "        [1., 1., 1.],\n",
       "        [1., 1., 1.]]])"
      ]
     },
     "execution_count": 111,
     "metadata": {},
     "output_type": "execute_result"
    }
   ],
   "source": [
    "#1\n",
    "nd_vec = np.ones((2, 3, 3))\n",
    "nd_vec"
   ]
  },
  {
   "cell_type": "code",
   "execution_count": 104,
   "metadata": {},
   "outputs": [
    {
     "name": "stdout",
     "output_type": "stream",
     "text": [
      "float64\n",
      "(3, 3, 1)\n",
      "3\n",
      "9\n"
     ]
    }
   ],
   "source": [
    "#2\n",
    "print(nd_vec.dtype)\n",
    "print(nd_vec.shape)\n",
    "print(nd_vec.ndim)\n",
    "print(nd_vec.size)"
   ]
  },
  {
   "cell_type": "code",
   "execution_count": 105,
   "metadata": {},
   "outputs": [],
   "source": [
    "#3"
   ]
  },
  {
   "cell_type": "code",
   "execution_count": 116,
   "metadata": {},
   "outputs": [
    {
     "data": {
      "text/plain": [
       "array([[1., 1., 1.],\n",
       "       [1., 1., 1.],\n",
       "       [1., 1., 1.]])"
      ]
     },
     "execution_count": 116,
     "metadata": {},
     "output_type": "execute_result"
    }
   ],
   "source": [
    "#4\n",
    "nd_vec[0, :, :]"
   ]
  },
  {
   "cell_type": "code",
   "execution_count": 117,
   "metadata": {},
   "outputs": [],
   "source": [
    "nd_vec[0, 1, 1] = 55"
   ]
  },
  {
   "cell_type": "code",
   "execution_count": 118,
   "metadata": {},
   "outputs": [
    {
     "data": {
      "text/plain": [
       "array([[[ 1.,  1.,  1.],\n",
       "        [ 1., 55.,  1.],\n",
       "        [ 1.,  1.,  1.]],\n",
       "\n",
       "       [[ 1.,  1.,  1.],\n",
       "        [ 1.,  1.,  1.],\n",
       "        [ 1.,  1.,  1.]]])"
      ]
     },
     "execution_count": 118,
     "metadata": {},
     "output_type": "execute_result"
    }
   ],
   "source": [
    "nd_vec"
   ]
  },
  {
   "cell_type": "code",
   "execution_count": 119,
   "metadata": {},
   "outputs": [
    {
     "data": {
      "text/plain": [
       "55.0"
      ]
     },
     "execution_count": 119,
     "metadata": {},
     "output_type": "execute_result"
    }
   ],
   "source": [
    "nd_vec[0, 1, 1]"
   ]
  },
  {
   "cell_type": "markdown",
   "metadata": {},
   "source": [
    "## Exercice 2"
   ]
  },
  {
   "cell_type": "markdown",
   "metadata": {},
   "source": [
    "* Créer un tableau 1D vide de taille 10 et de type « int » ; observer les valeurs du tableau.\n",
    "* Créer un tableau 2D vide de dimension (3*3) et de type « float » ; observer les valeurs du tableau.\n",
    "* Créer un tableau de 3 dimensions (3*3*3) initialisé avec des zéros « 0 ».\n",
    "* Créer une matrice de taille (5*5) comportant des uns « 1 ».\n",
    "* Créer un tableau de taille (10*10) initialisé avec la valeur « np.inf ».\n",
    "* Créer une matrice d’identité de taille (4*4).\n",
    "* Créer une matrice dont la diagonale est égale à [2, 3, 4, 5] et des 0 ailleurs."
   ]
  },
  {
   "cell_type": "code",
   "execution_count": 125,
   "metadata": {},
   "outputs": [
    {
     "data": {
      "text/plain": [
       "array([1152921504606846976, 6917537795515376483,        408021893125,\n",
       "              433791697014,        390842024035,        188978561073,\n",
       "              249108103200,        137438953516,        399431958586,\n",
       "          1407376584749872])"
      ]
     },
     "execution_count": 125,
     "metadata": {},
     "output_type": "execute_result"
    }
   ],
   "source": [
    "#1\n",
    "np.empty(10, dtype=int)"
   ]
  },
  {
   "cell_type": "code",
   "execution_count": 130,
   "metadata": {},
   "outputs": [
    {
     "data": {
      "text/plain": [
       "array([[1., 1., 1.],\n",
       "       [1., 1., 1.],\n",
       "       [1., 1., 1.]])"
      ]
     },
     "execution_count": 130,
     "metadata": {},
     "output_type": "execute_result"
    }
   ],
   "source": [
    "#2\n",
    "np.empty((3, 3), dtype=float)"
   ]
  },
  {
   "cell_type": "code",
   "execution_count": 132,
   "metadata": {},
   "outputs": [
    {
     "data": {
      "text/plain": [
       "array([[0., 0., 0.],\n",
       "       [0., 0., 0.],\n",
       "       [0., 0., 0.]])"
      ]
     },
     "execution_count": 132,
     "metadata": {},
     "output_type": "execute_result"
    }
   ],
   "source": [
    "#3\n",
    "np.zeros((3, 3), dtype=float)"
   ]
  },
  {
   "cell_type": "code",
   "execution_count": 134,
   "metadata": {},
   "outputs": [
    {
     "data": {
      "text/plain": [
       "array([[1, 1, 1, 1, 1],\n",
       "       [1, 1, 1, 1, 1],\n",
       "       [1, 1, 1, 1, 1],\n",
       "       [1, 1, 1, 1, 1],\n",
       "       [1, 1, 1, 1, 1]])"
      ]
     },
     "execution_count": 134,
     "metadata": {},
     "output_type": "execute_result"
    }
   ],
   "source": [
    "#4\n",
    "np.ones((5, 5), dtype=int)"
   ]
  },
  {
   "cell_type": "code",
   "execution_count": 138,
   "metadata": {},
   "outputs": [
    {
     "data": {
      "text/plain": [
       "array([[inf, inf, inf, inf, inf, inf, inf, inf, inf, inf],\n",
       "       [inf, inf, inf, inf, inf, inf, inf, inf, inf, inf],\n",
       "       [inf, inf, inf, inf, inf, inf, inf, inf, inf, inf],\n",
       "       [inf, inf, inf, inf, inf, inf, inf, inf, inf, inf],\n",
       "       [inf, inf, inf, inf, inf, inf, inf, inf, inf, inf],\n",
       "       [inf, inf, inf, inf, inf, inf, inf, inf, inf, inf],\n",
       "       [inf, inf, inf, inf, inf, inf, inf, inf, inf, inf],\n",
       "       [inf, inf, inf, inf, inf, inf, inf, inf, inf, inf],\n",
       "       [inf, inf, inf, inf, inf, inf, inf, inf, inf, inf],\n",
       "       [inf, inf, inf, inf, inf, inf, inf, inf, inf, inf]])"
      ]
     },
     "execution_count": 138,
     "metadata": {},
     "output_type": "execute_result"
    }
   ],
   "source": [
    "#5\n",
    "np.full((10, 10), np.inf)"
   ]
  },
  {
   "cell_type": "code",
   "execution_count": 188,
   "metadata": {},
   "outputs": [
    {
     "data": {
      "text/plain": [
       "array([[1., 0., 0., 0., 0.],\n",
       "       [0., 1., 0., 0., 0.],\n",
       "       [0., 0., 1., 0., 0.],\n",
       "       [0., 0., 0., 1., 0.],\n",
       "       [0., 0., 0., 0., 1.]])"
      ]
     },
     "execution_count": 188,
     "metadata": {},
     "output_type": "execute_result"
    }
   ],
   "source": [
    "#6-1\n",
    "np.eye(5)"
   ]
  },
  {
   "cell_type": "code",
   "execution_count": 189,
   "metadata": {},
   "outputs": [
    {
     "data": {
      "text/plain": [
       "array([[1., 0., 0., 0., 0.],\n",
       "       [0., 1., 0., 0., 0.],\n",
       "       [0., 0., 1., 0., 0.],\n",
       "       [0., 0., 0., 1., 0.],\n",
       "       [0., 0., 0., 0., 1.]])"
      ]
     },
     "execution_count": 189,
     "metadata": {},
     "output_type": "execute_result"
    }
   ],
   "source": [
    "#6-2\n",
    "np.identity(5)"
   ]
  },
  {
   "cell_type": "code",
   "execution_count": 192,
   "metadata": {},
   "outputs": [
    {
     "data": {
      "text/plain": [
       "array([[1., 0., 0., 0., 0.],\n",
       "       [0., 1., 0., 0., 0.],\n",
       "       [0., 0., 1., 0., 0.],\n",
       "       [0., 0., 0., 1., 0.],\n",
       "       [0., 0., 0., 0., 1.]])"
      ]
     },
     "execution_count": 192,
     "metadata": {},
     "output_type": "execute_result"
    }
   ],
   "source": [
    "#6-3\n",
    "i = np.zeros((5, 5))\n",
    "i[0,0] = 1\n",
    "i[1,1] = 1\n",
    "i[2,2] = 1\n",
    "i[3,3] = 1\n",
    "i[4,4] = 1\n",
    "i"
   ]
  },
  {
   "cell_type": "code",
   "execution_count": 196,
   "metadata": {},
   "outputs": [
    {
     "data": {
      "text/plain": [
       "array([[1., 0., 0., 0., 0.],\n",
       "       [0., 1., 0., 0., 0.],\n",
       "       [0., 0., 1., 0., 0.],\n",
       "       [0., 0., 0., 1., 0.],\n",
       "       [0., 0., 0., 0., 1.]])"
      ]
     },
     "execution_count": 196,
     "metadata": {},
     "output_type": "execute_result"
    }
   ],
   "source": [
    "#6-4\n",
    "i = np.zeros((5, 5))\n",
    "for j in range(i.shape[0]):\n",
    "    i[j, j] = 1\n",
    "i"
   ]
  },
  {
   "cell_type": "code",
   "execution_count": 146,
   "metadata": {},
   "outputs": [
    {
     "data": {
      "text/plain": [
       "array([[2, 0, 0, 0],\n",
       "       [0, 3, 0, 0],\n",
       "       [0, 0, 4, 0],\n",
       "       [0, 0, 0, 5]])"
      ]
     },
     "execution_count": 146,
     "metadata": {},
     "output_type": "execute_result"
    }
   ],
   "source": [
    "#7-1\n",
    "np.diag([2, 3, 4, 5])"
   ]
  },
  {
   "cell_type": "code",
   "execution_count": 197,
   "metadata": {},
   "outputs": [
    {
     "data": {
      "text/plain": [
       "array([[2, 0, 0, 0],\n",
       "       [0, 3, 0, 0],\n",
       "       [0, 0, 4, 0],\n",
       "       [0, 0, 0, 5]])"
      ]
     },
     "execution_count": 197,
     "metadata": {},
     "output_type": "execute_result"
    }
   ],
   "source": [
    "#7-2\n",
    "d = np.zeros((4, 4), dtype='int')\n",
    "d[0,0] = 2\n",
    "d[1,1] = 3\n",
    "d[2,2] = 4\n",
    "d[3,3] = 5\n",
    "d"
   ]
  },
  {
   "cell_type": "markdown",
   "metadata": {},
   "source": [
    "## Exercice 3"
   ]
  },
  {
   "cell_type": "markdown",
   "metadata": {},
   "source": [
    "* Créer un tableau comportant la série d’entiers de 5 à 25 : [5, 6, 7, ... , 23,24,25]\n",
    "* Créer un tableau contenant tous les entiers pairs entre 100 et 150 inclus.\n",
    "* Créer un tableau qui comporte les dates du mois de Février 2019, ce tableau est\n",
    "de type « datetime64[D] »\n",
    "* Créer un tableau de dix éléments équidistants entre 2 et 5 inclus.\n",
    "* Soit la fonction y = f(x)= (ex – e-x )/(ex + e-x ). Cré er des tableaux x, y qui\n",
    "contiennent respectivement 50 valeurs réparties uniformément sur [-5, 5] et\n",
    "l’évaluation de la fonction sur ces valeurs\n",
    "* Ecrire un programme NumPy qui permet de générer un nombre aléatoire entre 0\n",
    "et 1.\n",
    "* Créer un tableau de la dimension et de la taille de votre choix contenant des\n",
    "valeurs entre 34 et 76.\n",
    "* Faitesuntableaudeforme(3,5)avecdesnombresaléatoiresàpartird'une\n",
    "distribution normale standard (une distribution normale avec une moyenne 0 et\n",
    "une variance 1).\n",
    "* Créer une matrice (10x5) comportant des entiers alé atoires entre 0 et 100.\n",
    "* Standardiser cette matrice telle que chaque colonne aura une moyenne nulle et un écart type égal à 1."
   ]
  },
  {
   "cell_type": "code",
   "execution_count": 152,
   "metadata": {},
   "outputs": [
    {
     "data": {
      "text/plain": [
       "array([ 5,  6,  7,  8,  9, 10, 11, 12, 13, 14, 15, 16, 17, 18, 19, 20, 21,\n",
       "       22, 23, 24, 25])"
      ]
     },
     "execution_count": 152,
     "metadata": {},
     "output_type": "execute_result"
    }
   ],
   "source": [
    "#1) Créer un tableau comportant la série d’entiers de 5 à 25 : [5, 6, 7, ... , 23,24,25]\n",
    "\n",
    "np.arange(5, 26)"
   ]
  },
  {
   "cell_type": "code",
   "execution_count": 154,
   "metadata": {},
   "outputs": [
    {
     "data": {
      "text/plain": [
       "array([100, 102, 104, 106, 108, 110, 112, 114, 116, 118, 120, 122, 124,\n",
       "       126, 128, 130, 132, 134, 136, 138, 140, 142, 144, 146, 148, 150])"
      ]
     },
     "execution_count": 154,
     "metadata": {},
     "output_type": "execute_result"
    }
   ],
   "source": [
    "#2) Créer un tableau contenant tous les entiers pairs entre 100 et 150 inclus\n",
    "\n",
    "np.arange(100, 151, 2)"
   ]
  },
  {
   "cell_type": "code",
   "execution_count": 273,
   "metadata": {},
   "outputs": [
    {
     "data": {
      "text/plain": [
       "array(['2019-02-01', '2019-02-02', '2019-02-03', '2019-02-04',\n",
       "       '2019-02-05', '2019-02-06', '2019-02-07', '2019-02-08',\n",
       "       '2019-02-09', '2019-02-10', '2019-02-11', '2019-02-12',\n",
       "       '2019-02-13', '2019-02-14', '2019-02-15', '2019-02-16',\n",
       "       '2019-02-17', '2019-02-18', '2019-02-19', '2019-02-20',\n",
       "       '2019-02-21', '2019-02-22', '2019-02-23', '2019-02-24',\n",
       "       '2019-02-25', '2019-02-26', '2019-02-27', '2019-02-28'],\n",
       "      dtype='datetime64[D]')"
      ]
     },
     "execution_count": 273,
     "metadata": {},
     "output_type": "execute_result"
    }
   ],
   "source": [
    "#3) Créer un tableau qui comporte les dates du mois de Février 2019, \n",
    "#   ce tableau est de type « datetime64[D] »\n",
    "\n",
    "np.arange('2019-02', '2019-03', dtype='datetime64[D]')"
   ]
  },
  {
   "cell_type": "code",
   "execution_count": 168,
   "metadata": {},
   "outputs": [
    {
     "data": {
      "text/plain": [
       "array([2. , 2.5, 3. , 3.5, 4. , 4.5, 5. ])"
      ]
     },
     "execution_count": 168,
     "metadata": {},
     "output_type": "execute_result"
    }
   ],
   "source": [
    "#4) Créer un tableau de dix éléments équidistants entre 2 et 5 inclus.\n",
    "np.linspace(2, 5, 7)"
   ]
  },
  {
   "cell_type": "code",
   "execution_count": 184,
   "metadata": {},
   "outputs": [
    {
     "data": {
      "text/plain": [
       "array([-5.        , -4.79591837, -4.59183673, -4.3877551 , -4.18367347,\n",
       "       -3.97959184, -3.7755102 , -3.57142857, -3.36734694, -3.16326531,\n",
       "       -2.95918367, -2.75510204, -2.55102041, -2.34693878, -2.14285714,\n",
       "       -1.93877551, -1.73469388, -1.53061224, -1.32653061, -1.12244898,\n",
       "       -0.91836735, -0.71428571, -0.51020408, -0.30612245, -0.10204082,\n",
       "        0.10204082,  0.30612245,  0.51020408,  0.71428571,  0.91836735,\n",
       "        1.12244898,  1.32653061,  1.53061224,  1.73469388,  1.93877551,\n",
       "        2.14285714,  2.34693878,  2.55102041,  2.75510204,  2.95918367,\n",
       "        3.16326531,  3.36734694,  3.57142857,  3.7755102 ,  3.97959184,\n",
       "        4.18367347,  4.3877551 ,  4.59183673,  4.79591837,  5.        ])"
      ]
     },
     "execution_count": 184,
     "metadata": {},
     "output_type": "execute_result"
    }
   ],
   "source": [
    "#5) Soit la fonction y = f(x)= (ex – e-x )/(ex + e-x ). \n",
    "#   Créer des tableaux x, y qui contiennent respectivement 50 valeurs réparties \n",
    "#   uniformément sur [-5, 5] et l’évaluation de la fonction sur ces valeurs\n",
    "\n",
    "x = np.linspace(-5, 5, 50)\n",
    "x"
   ]
  },
  {
   "cell_type": "code",
   "execution_count": 185,
   "metadata": {},
   "outputs": [],
   "source": [
    "def ma_function(x):\n",
    "    result = (np.exp(x) - np.exp(-x)) / (np.exp(x) + np.exp(-x))\n",
    "    return result"
   ]
  },
  {
   "cell_type": "code",
   "execution_count": 186,
   "metadata": {},
   "outputs": [
    {
     "data": {
      "text/plain": [
       "array([-0.9999092 , -0.99986344, -0.99979462, -0.99969111, -0.99953545,\n",
       "       -0.99930137, -0.99894941, -0.99842027, -0.99762495, -0.99642993,\n",
       "       -0.99463525, -0.99194203, -0.98790496, -0.9818637 , -0.97284617,\n",
       "       -0.9594368 , -0.93960819, -0.91052931, -0.86839883, -0.80841907,\n",
       "       -0.72512414, -0.61335726, -0.47010419, -0.29690545, -0.10168812,\n",
       "        0.10168812,  0.29690545,  0.47010419,  0.61335726,  0.72512414,\n",
       "        0.80841907,  0.86839883,  0.91052931,  0.93960819,  0.9594368 ,\n",
       "        0.97284617,  0.9818637 ,  0.98790496,  0.99194203,  0.99463525,\n",
       "        0.99642993,  0.99762495,  0.99842027,  0.99894941,  0.99930137,\n",
       "        0.99953545,  0.99969111,  0.99979462,  0.99986344,  0.9999092 ])"
      ]
     },
     "execution_count": 186,
     "metadata": {},
     "output_type": "execute_result"
    }
   ],
   "source": [
    "ma_function(x)"
   ]
  },
  {
   "cell_type": "code",
   "execution_count": 220,
   "metadata": {},
   "outputs": [
    {
     "data": {
      "text/plain": [
       "array([0.31857551])"
      ]
     },
     "execution_count": 220,
     "metadata": {},
     "output_type": "execute_result"
    }
   ],
   "source": [
    "#6) Ecrire un programme NumPy qui permet de générer un nombre aléatoire entre 0\n",
    "#   et 1.\n",
    "\n",
    "np.random.random(1)"
   ]
  },
  {
   "cell_type": "code",
   "execution_count": 227,
   "metadata": {},
   "outputs": [
    {
     "data": {
      "text/plain": [
       "array([[59, 71, 68, 76],\n",
       "       [34, 63, 59, 52],\n",
       "       [66, 35, 65, 61],\n",
       "       [53, 47, 52, 40],\n",
       "       [75, 53, 46, 49]])"
      ]
     },
     "execution_count": 227,
     "metadata": {},
     "output_type": "execute_result"
    }
   ],
   "source": [
    "#7) Créer un tableau de la dimension et de la taille de votre choix contenant des\n",
    "#   valeurs entre 34 et 76.\n",
    "\n",
    "np.random.randint(34, 77, (5, 4))"
   ]
  },
  {
   "cell_type": "code",
   "execution_count": 230,
   "metadata": {},
   "outputs": [
    {
     "data": {
      "text/plain": [
       "array([[-0.48925518, -0.62257797,  1.78446028, -1.9150078 ,  0.21407764],\n",
       "       [-1.0282656 , -1.67051324,  0.76591915,  0.23714229, -0.40696993],\n",
       "       [-0.42491465, -0.40066085, -0.87720368,  0.620618  , -1.30599057]])"
      ]
     },
     "execution_count": 230,
     "metadata": {},
     "output_type": "execute_result"
    }
   ],
   "source": [
    "#8) Faites un tableau de forme(3,5) avec des nombres aléatoires à partir d'une\n",
    "#   distribution normale standard (une distribution normale avec une moyenne 0 et\n",
    "#   une variance 1).\n",
    "\n",
    "np.random.normal(loc=0, scale=1, size=(3, 5))"
   ]
  },
  {
   "cell_type": "code",
   "execution_count": 261,
   "metadata": {},
   "outputs": [
    {
     "data": {
      "text/plain": [
       "array([[ 22,  29,  40,  49,  83],\n",
       "       [ 12,  82,  89,  32,  63],\n",
       "       [ 52,  57,  54,  34,  87],\n",
       "       [ 89,  94,  11, 100, 100],\n",
       "       [ 17,  75,  31,  42,  17],\n",
       "       [ 26,  55,  57,  11,  59],\n",
       "       [ 57,  98,   9,  93,  96],\n",
       "       [ 95,  29,   0,  10,  13],\n",
       "       [ 76,  32,  58,   5,  56],\n",
       "       [ 60,  75,  69,  60,  97]])"
      ]
     },
     "execution_count": 261,
     "metadata": {},
     "output_type": "execute_result"
    }
   ],
   "source": [
    "#9) Créer une matrice (10x5) comportant des entiers aléatoires entre 0 et 100.\n",
    "     # Standardiser cette matrice telle que chaque colonne aura une moyenne nulle \n",
    "     # et un écart type égal à 1\n",
    "\n",
    "m = np.random.randint(0, 101, (10, 5))\n",
    "m"
   ]
  },
  {
   "cell_type": "code",
   "execution_count": 272,
   "metadata": {},
   "outputs": [
    {
     "data": {
      "text/plain": [
       "array([[-0.99485633, -1.34871254, -0.0657197 ,  0.17222975,  0.5269959 ],\n",
       "       [-1.3427082 ,  0.77872093,  1.7233165 , -0.36997501, -0.13589203],\n",
       "       [ 0.04869926, -0.22478542,  0.4454335 , -0.30618622,  0.65957349],\n",
       "       [ 1.33575116,  1.26040398, -1.12453704,  1.79884403,  1.09045064],\n",
       "       [-1.16878226,  0.49773915, -0.39431818, -0.05103104, -1.66053426],\n",
       "       [-0.85571559, -0.30506593,  0.55496633, -1.03975736, -0.26846961],\n",
       "       [ 0.22262519,  1.420965  , -1.19755893,  1.57558325,  0.95787306],\n",
       "       [ 1.54446228, -1.34871254, -1.52615741, -1.07165176, -1.79311184],\n",
       "       [ 0.88354374, -1.22829178,  0.59147727, -1.23112375, -0.3679028 ],\n",
       "       [ 0.32698075,  0.49773915,  0.99309765,  0.52306812,  0.99101745]])"
      ]
     },
     "execution_count": 272,
     "metadata": {},
     "output_type": "execute_result"
    }
   ],
   "source": [
    "(m - m.mean(axis=0)) / m.std(axis=0)"
   ]
  },
  {
   "cell_type": "markdown",
   "metadata": {},
   "source": [
    "## Exercice 4"
   ]
  },
  {
   "cell_type": "markdown",
   "metadata": {},
   "source": [
    "* Créer une matrice aléatoire 10x10.\n",
    "    * Sélectionner l'élément dans la première ligne et la première colonne.\n",
    "    * Mettre l'élément de la dernière ligne et de la dernière colonne à -1.\n",
    "    * Sélectionner les éléments de la deuxième ligne.\n",
    "    * Sélectionner les éléments de la troisième colonne.\n",
    "    * Remplacer tous les éléments de la deuxième ligne par 0.\n",
    "* Ecrire un programme NumPy pour inverser un tableau (le premier é lé ment devient le dernier).\n",
    "* Ecrire un programme NumPy pour créer un tableau 2d avec 1 sur la bordure et 0 à l'intérieur.\n",
    "* Ecrire un programme NumPy pour créer une matrice 8x8 et remplissez-la avec un motif en damier."
   ]
  },
  {
   "cell_type": "code",
   "execution_count": 279,
   "metadata": {},
   "outputs": [
    {
     "data": {
      "text/plain": [
       "array([[ 42,  25,  63,  24,  64,  79,  59,  55,  37,  79],\n",
       "       [ 96,  19,  90,  49,  58,  83,  50,  45,  20,  44],\n",
       "       [ 72,  57,  76,  85,  70,  26,  12,   4,  56,  93],\n",
       "       [ 26,   5,  29,  13,  87,  29,  60,  93,  41,  38],\n",
       "       [ 46,  82, 100,  53,  12,  86,  60,  10,  25,  11],\n",
       "       [ 97,  53,  44,  55,  48,  32,  37,  93,  21,  71],\n",
       "       [ 57,  15,  59,  89,  72,  26,   3,  12,  71,  57],\n",
       "       [ 27,  36,  87,  94,  39,   2,   3,  77,  95,  64],\n",
       "       [ 98,  47,  66,  20,  10,  26,  74,  26,  55,   3],\n",
       "       [100,  40,  81,  63,  36,  68,  18,  88,  80,  73]])"
      ]
     },
     "execution_count": 279,
     "metadata": {},
     "output_type": "execute_result"
    }
   ],
   "source": [
    "#1) Créer une matrice aléatoire 10x10.\n",
    "m = np.random.randint(0, 101, (10, 10))\n",
    "m"
   ]
  },
  {
   "cell_type": "code",
   "execution_count": 280,
   "metadata": {},
   "outputs": [
    {
     "data": {
      "text/plain": [
       "42"
      ]
     },
     "execution_count": 280,
     "metadata": {},
     "output_type": "execute_result"
    }
   ],
   "source": [
    "#1.1) Sélectionner l'élément dans la première ligne et la première colonne.\n",
    "m[0,0]"
   ]
  },
  {
   "cell_type": "code",
   "execution_count": 282,
   "metadata": {},
   "outputs": [
    {
     "data": {
      "text/plain": [
       "array([[ 42,  25,  63,  24,  64,  79,  59,  55,  37,  79],\n",
       "       [ 96,  19,  90,  49,  58,  83,  50,  45,  20,  44],\n",
       "       [ 72,  57,  76,  85,  70,  26,  12,   4,  56,  93],\n",
       "       [ 26,   5,  29,  13,  87,  29,  60,  93,  41,  38],\n",
       "       [ 46,  82, 100,  53,  12,  86,  60,  10,  25,  11],\n",
       "       [ 97,  53,  44,  55,  48,  32,  37,  93,  21,  71],\n",
       "       [ 57,  15,  59,  89,  72,  26,   3,  12,  71,  57],\n",
       "       [ 27,  36,  87,  94,  39,   2,   3,  77,  95,  64],\n",
       "       [ 98,  47,  66,  20,  10,  26,  74,  26,  55,   3],\n",
       "       [100,  40,  81,  63,  36,  68,  18,  88,  80,  -1]])"
      ]
     },
     "execution_count": 282,
     "metadata": {},
     "output_type": "execute_result"
    }
   ],
   "source": [
    "#1.2) Mettre l'élément de la dernière ligne et de la dernière colonne à -1.\n",
    "m[-1, -1] = -1\n",
    "m"
   ]
  },
  {
   "cell_type": "code",
   "execution_count": 283,
   "metadata": {},
   "outputs": [
    {
     "data": {
      "text/plain": [
       "array([96, 19, 90, 49, 58, 83, 50, 45, 20, 44])"
      ]
     },
     "execution_count": 283,
     "metadata": {},
     "output_type": "execute_result"
    }
   ],
   "source": [
    "#1.3) Sélectionner les éléments de la deuxième ligne.\n",
    "m[1, :]"
   ]
  },
  {
   "cell_type": "code",
   "execution_count": 284,
   "metadata": {},
   "outputs": [
    {
     "data": {
      "text/plain": [
       "array([ 63,  90,  76,  29, 100,  44,  59,  87,  66,  81])"
      ]
     },
     "execution_count": 284,
     "metadata": {},
     "output_type": "execute_result"
    }
   ],
   "source": [
    "#1.4) Sélectionner les éléments de la troisième colonne.\n",
    "m[:, 2]"
   ]
  },
  {
   "cell_type": "code",
   "execution_count": 285,
   "metadata": {},
   "outputs": [
    {
     "data": {
      "text/plain": [
       "array([[ 63],\n",
       "       [ 90],\n",
       "       [ 76],\n",
       "       [ 29],\n",
       "       [100],\n",
       "       [ 44],\n",
       "       [ 59],\n",
       "       [ 87],\n",
       "       [ 66],\n",
       "       [ 81]])"
      ]
     },
     "execution_count": 285,
     "metadata": {},
     "output_type": "execute_result"
    }
   ],
   "source": [
    "m[:, 2:3]"
   ]
  },
  {
   "cell_type": "code",
   "execution_count": 287,
   "metadata": {},
   "outputs": [
    {
     "data": {
      "text/plain": [
       "array([[ 42,  25,  63,  24,  64,  79,  59,  55,  37,  79],\n",
       "       [  0,   0,   0,   0,   0,   0,   0,   0,   0,   0],\n",
       "       [ 72,  57,  76,  85,  70,  26,  12,   4,  56,  93],\n",
       "       [ 26,   5,  29,  13,  87,  29,  60,  93,  41,  38],\n",
       "       [ 46,  82, 100,  53,  12,  86,  60,  10,  25,  11],\n",
       "       [ 97,  53,  44,  55,  48,  32,  37,  93,  21,  71],\n",
       "       [ 57,  15,  59,  89,  72,  26,   3,  12,  71,  57],\n",
       "       [ 27,  36,  87,  94,  39,   2,   3,  77,  95,  64],\n",
       "       [ 98,  47,  66,  20,  10,  26,  74,  26,  55,   3],\n",
       "       [100,  40,  81,  63,  36,  68,  18,  88,  80,  -1]])"
      ]
     },
     "execution_count": 287,
     "metadata": {},
     "output_type": "execute_result"
    }
   ],
   "source": [
    "#1.5) Remplacer tous les éléments de la deuxième ligne par 0.\n",
    "m[1, :] = 0\n",
    "m"
   ]
  },
  {
   "cell_type": "code",
   "execution_count": 295,
   "metadata": {},
   "outputs": [
    {
     "data": {
      "text/plain": [
       "array([[ -1,  80,  88,  18,  68,  36,  63,  81,  40, 100],\n",
       "       [  3,  55,  26,  74,  26,  10,  20,  66,  47,  98],\n",
       "       [ 64,  95,  77,   3,   2,  39,  94,  87,  36,  27],\n",
       "       [ 57,  71,  12,   3,  26,  72,  89,  59,  15,  57],\n",
       "       [ 71,  21,  93,  37,  32,  48,  55,  44,  53,  97],\n",
       "       [ 11,  25,  10,  60,  86,  12,  53, 100,  82,  46],\n",
       "       [ 38,  41,  93,  60,  29,  87,  13,  29,   5,  26],\n",
       "       [ 93,  56,   4,  12,  26,  70,  85,  76,  57,  72],\n",
       "       [  0,   0,   0,   0,   0,   0,   0,   0,   0,   0],\n",
       "       [ 79,  37,  55,  59,  79,  64,  24,  63,  25,  42]])"
      ]
     },
     "execution_count": 295,
     "metadata": {},
     "output_type": "execute_result"
    }
   ],
   "source": [
    "#2) Ecrire un programme NumPy pour inverser un tableau \n",
    "#   (le premier élément devient le dernier).\n",
    "\n",
    "m[::-1,::-1]"
   ]
  },
  {
   "cell_type": "code",
   "execution_count": 298,
   "metadata": {},
   "outputs": [
    {
     "data": {
      "text/plain": [
       "array([[0., 0.],\n",
       "       [0., 0.]])"
      ]
     },
     "execution_count": 298,
     "metadata": {},
     "output_type": "execute_result"
    }
   ],
   "source": [
    "#3) Ecrire un programme NumPy pour créer un tableau 2d avec 1 sur la bordure \n",
    "#   et 0 à l'intérieur.\n",
    "\n",
    "z = np.zeros((2,2))\n",
    "z"
   ]
  },
  {
   "cell_type": "code",
   "execution_count": 314,
   "metadata": {},
   "outputs": [
    {
     "data": {
      "text/plain": [
       "array([[1., 1., 1., 1.],\n",
       "       [1., 0., 0., 1.],\n",
       "       [1., 0., 0., 1.],\n",
       "       [1., 1., 1., 1.]])"
      ]
     },
     "execution_count": 314,
     "metadata": {},
     "output_type": "execute_result"
    }
   ],
   "source": [
    "np.pad(z, 1, 'constant', constant_values=(1,1))"
   ]
  },
  {
   "cell_type": "code",
   "execution_count": 315,
   "metadata": {},
   "outputs": [
    {
     "data": {
      "text/plain": [
       "array([[0, 1, 0, 1, 0, 1, 0, 1],\n",
       "       [1, 0, 1, 0, 1, 0, 1, 0],\n",
       "       [0, 1, 0, 1, 0, 1, 0, 1],\n",
       "       [1, 0, 1, 0, 1, 0, 1, 0],\n",
       "       [0, 1, 0, 1, 0, 1, 0, 1],\n",
       "       [1, 0, 1, 0, 1, 0, 1, 0],\n",
       "       [0, 1, 0, 1, 0, 1, 0, 1],\n",
       "       [1, 0, 1, 0, 1, 0, 1, 0]])"
      ]
     },
     "execution_count": 315,
     "metadata": {},
     "output_type": "execute_result"
    }
   ],
   "source": [
    "#4) Ecrire un programme NumPy pour créer une matrice 8x8 et remplissez-la avec un motif en damier.\n",
    "#numpy.tile( list_0_1, ( n//2, n//2) )\n",
    "np.tile([[0, 1], [1, 0]], (4, 4))"
   ]
  },
  {
   "cell_type": "markdown",
   "metadata": {},
   "source": [
    "## Exercice 5"
   ]
  },
  {
   "cell_type": "markdown",
   "metadata": {},
   "source": [
    "Ecrire un programme NumPy dans lequel vous allez:\n",
    "* Définir un tableau à une dimension de la taille de votre choix.\n",
    "* Calculer l’écart type des valeurs présentes dans ce tableau.\n",
    "* Chercher les valeurs et les indices des éléments qui sont supérieurs à « la moyenne des valeurs + 1.96 l’écart type ».\n",
    "* Remplacer toutes ces valeurs par la valeur maximale du tableau.\n",
    "* Chercher les valeurs et les indices des éléments qui sont inférieurs à « la moyenne des valeurs - 1.96 l’écart type ».\n",
    "* Remplacer toutes ces valeurs par la valeur minimale du tableau \n",
    "* Compter le nombre d’éléments égaux au maximum et le nombre d’éléments égaux au minimum.\n",
    "* Compter le nombre d’éléments différents de min ou de max."
   ]
  },
  {
   "cell_type": "code",
   "execution_count": 430,
   "metadata": {},
   "outputs": [
    {
     "data": {
      "text/plain": [
       "array([[ 0,  1,  2,  3,  4,  5],\n",
       "       [ 6,  7,  8,  9, 10, 11],\n",
       "       [12, 13, 14, 15, 16, 17],\n",
       "       [18, 19, 20, 21, 22, 23],\n",
       "       [24, 25, 26, 27, 28, 29],\n",
       "       [30, 31, 32, 33, 34, 35]])"
      ]
     },
     "execution_count": 430,
     "metadata": {},
     "output_type": "execute_result"
    }
   ],
   "source": [
    "# Définir un tableau à une dimension de la taille de votre choix.\n",
    "t = np.arange(0, 36).reshape(6, 6)\n",
    "t"
   ]
  },
  {
   "cell_type": "code",
   "execution_count": 431,
   "metadata": {},
   "outputs": [
    {
     "data": {
      "text/plain": [
       "array([[3536, 2780, 2517, 6372, 1700],\n",
       "       [ 289, 8169, 4669, 4021, 9544],\n",
       "       [3243,  538,  289, 5436,  112],\n",
       "       [2551, 1093, 9247, 5336, 4797],\n",
       "       [2587, 1982, 2892, 6305, 8057]])"
      ]
     },
     "execution_count": 431,
     "metadata": {},
     "output_type": "execute_result"
    }
   ],
   "source": [
    "t = np.random.randint(0, 10000, (5, 5))\n",
    "t"
   ]
  },
  {
   "cell_type": "code",
   "execution_count": 537,
   "metadata": {},
   "outputs": [
    {
     "data": {
      "text/plain": [
       "array([[2000,    0,  100],\n",
       "       [1999,  300,  200],\n",
       "       [ 150,    0,  190],\n",
       "       [ 500,  500,  500]])"
      ]
     },
     "execution_count": 537,
     "metadata": {},
     "output_type": "execute_result"
    }
   ],
   "source": [
    "t = np.array([[2000, 0, 100], [1999, 300, 200], [150, 0, 190], [500, 500, 500]])\n",
    "t"
   ]
  },
  {
   "cell_type": "code",
   "execution_count": 538,
   "metadata": {},
   "outputs": [
    {
     "data": {
      "text/plain": [
       "676.3591819851014"
      ]
     },
     "execution_count": 538,
     "metadata": {},
     "output_type": "execute_result"
    }
   ],
   "source": [
    "# Calculer l’écart type des valeurs présentes dans ce tableau.\n",
    "t.std()"
   ]
  },
  {
   "cell_type": "code",
   "execution_count": 539,
   "metadata": {},
   "outputs": [
    {
     "data": {
      "text/plain": [
       "536.5833333333334"
      ]
     },
     "execution_count": 539,
     "metadata": {},
     "output_type": "execute_result"
    }
   ],
   "source": [
    "t.mean()"
   ]
  },
  {
   "cell_type": "code",
   "execution_count": 540,
   "metadata": {},
   "outputs": [
    {
     "data": {
      "text/plain": [
       "array([2000, 1999])"
      ]
     },
     "execution_count": 540,
     "metadata": {},
     "output_type": "execute_result"
    }
   ],
   "source": [
    "# Chercher les valeurs et les indices des éléments qui sont supérieurs \n",
    "# à « la moyenne des valeurs + 1.96 l’écart type ».\n",
    "\n",
    "t[t > (t.mean() + (1.96 * t.std()))]"
   ]
  },
  {
   "cell_type": "code",
   "execution_count": 541,
   "metadata": {},
   "outputs": [
    {
     "data": {
      "text/plain": [
       "array([[2000,    0,  100],\n",
       "       [2000,  300,  200],\n",
       "       [ 150,    0,  190],\n",
       "       [ 500,  500,  500]])"
      ]
     },
     "execution_count": 541,
     "metadata": {},
     "output_type": "execute_result"
    }
   ],
   "source": [
    "# Remplacer toutes ces valeurs par la valeur maximale du tableau.\n",
    "t[t > (t.mean() + (1.96 * t.std()))] = t.max()\n",
    "t"
   ]
  },
  {
   "cell_type": "code",
   "execution_count": 542,
   "metadata": {},
   "outputs": [
    {
     "data": {
      "text/plain": [
       "array([], dtype=int64)"
      ]
     },
     "execution_count": 542,
     "metadata": {},
     "output_type": "execute_result"
    }
   ],
   "source": [
    "# Chercher les valeurs et les indices des éléments qui sont inférieurs à \n",
    "# « la moyenne des valeurs - 1.96 l’é cart type »\n",
    "\n",
    "t[t < (t.mean() - (1.96 * t.std()))]"
   ]
  },
  {
   "cell_type": "code",
   "execution_count": 543,
   "metadata": {},
   "outputs": [
    {
     "data": {
      "text/plain": [
       "array([[2000,    0,  100],\n",
       "       [2000,  300,  200],\n",
       "       [ 150,    0,  190],\n",
       "       [ 500,  500,  500]])"
      ]
     },
     "execution_count": 543,
     "metadata": {},
     "output_type": "execute_result"
    }
   ],
   "source": [
    "# Remplacer toutes ces valeurs par la valeur minimale du tableau\n",
    "t[t < (t.mean() - (1.96 * t.std()))] = t.min()\n",
    "t"
   ]
  },
  {
   "cell_type": "code",
   "execution_count": 553,
   "metadata": {},
   "outputs": [
    {
     "data": {
      "text/plain": [
       "4"
      ]
     },
     "execution_count": 553,
     "metadata": {},
     "output_type": "execute_result"
    }
   ],
   "source": [
    "# Compter le nombre d’éléments égaux au maximum et le nombre d’éléments égaux au minimum.\n",
    "t[(t == t.max()) | (t == t.min())].size"
   ]
  },
  {
   "cell_type": "code",
   "execution_count": 549,
   "metadata": {},
   "outputs": [
    {
     "data": {
      "text/plain": [
       "2"
      ]
     },
     "execution_count": 549,
     "metadata": {},
     "output_type": "execute_result"
    }
   ],
   "source": [
    "np.count_nonzero((t == t.max()) | t == t.min())"
   ]
  },
  {
   "cell_type": "markdown",
   "metadata": {},
   "source": [
    "## Exercice 6"
   ]
  },
  {
   "cell_type": "markdown",
   "metadata": {},
   "source": [
    "* Ecrire un programme NumPy pour créer une matrice 3x3 avec des valeurs allant de 2 à 10\n",
    "* Créer la matricer suivante sans saisir explicitement ses valeurs : --\n",
    "* Diviser le tableau « s = np.arange(25).reshape(5,5)» afin de séparer chaque colonne à part.\n",
    "* Créer la matrice suivante en concaté nant 3 tableaux unidimensionnel. Utiliser np.arange et np.ones pour la création des tableaux."
   ]
  },
  {
   "cell_type": "code",
   "execution_count": 556,
   "metadata": {},
   "outputs": [
    {
     "data": {
      "text/plain": [
       "array([[ 2,  3,  4],\n",
       "       [ 5,  6,  7],\n",
       "       [ 8,  9, 10]])"
      ]
     },
     "execution_count": 556,
     "metadata": {},
     "output_type": "execute_result"
    }
   ],
   "source": [
    "# Ecrire un programme NumPy pour créer une matrice 3x3 avec des valeurs allant de 2 à 10\n",
    "m = np.arange(2, 11).reshape(3, 3)\n",
    "m"
   ]
  },
  {
   "cell_type": "code",
   "execution_count": 561,
   "metadata": {},
   "outputs": [
    {
     "data": {
      "text/plain": [
       "array([[ 1,  6, 11],\n",
       "       [ 2,  7, 12],\n",
       "       [ 3,  8, 13],\n",
       "       [ 4,  9, 14],\n",
       "       [ 5, 10, 15]])"
      ]
     },
     "execution_count": 561,
     "metadata": {},
     "output_type": "execute_result"
    }
   ],
   "source": [
    "# Créer la matricer suivante sans saisir explicitement ses valeurs :\n",
    "np.arange(1, 16).reshape(3, 5).T"
   ]
  },
  {
   "cell_type": "code",
   "execution_count": 564,
   "metadata": {},
   "outputs": [
    {
     "data": {
      "text/plain": [
       "array([[ 0,  1,  2,  3,  4],\n",
       "       [ 5,  6,  7,  8,  9],\n",
       "       [10, 11, 12, 13, 14],\n",
       "       [15, 16, 17, 18, 19],\n",
       "       [20, 21, 22, 23, 24]])"
      ]
     },
     "execution_count": 564,
     "metadata": {},
     "output_type": "execute_result"
    }
   ],
   "source": [
    "# Diviser le tableau « s = np.arange(25).reshape(5,5)» afin de séparer chaque colonne à part.\n",
    "s = np.arange(25).reshape(5, 5)\n",
    "s"
   ]
  },
  {
   "cell_type": "code",
   "execution_count": 571,
   "metadata": {},
   "outputs": [
    {
     "data": {
      "text/plain": [
       "array([[ 0],\n",
       "       [ 5],\n",
       "       [10],\n",
       "       [15],\n",
       "       [20]])"
      ]
     },
     "execution_count": 571,
     "metadata": {},
     "output_type": "execute_result"
    }
   ],
   "source": [
    "s[:, 0:1]"
   ]
  },
  {
   "cell_type": "code",
   "execution_count": 584,
   "metadata": {},
   "outputs": [
    {
     "data": {
      "text/plain": [
       "array([[1., 1., 1.]])"
      ]
     },
     "execution_count": 584,
     "metadata": {},
     "output_type": "execute_result"
    }
   ],
   "source": [
    "# Créer la matrice suivante en concaténant 3 tableaux unidimensionnel. \n",
    "# Utiliser np.arange et np.ones pour la création des tableaux.\n",
    "\n",
    "a = np.ones(3).reshape(1, 3)\n",
    "a"
   ]
  },
  {
   "cell_type": "code",
   "execution_count": 585,
   "metadata": {},
   "outputs": [
    {
     "data": {
      "text/plain": [
       "array([[7, 8, 9]])"
      ]
     },
     "execution_count": 585,
     "metadata": {},
     "output_type": "execute_result"
    }
   ],
   "source": [
    "b = np.arange(7, 10).reshape(1, 3)\n",
    "b"
   ]
  },
  {
   "cell_type": "code",
   "execution_count": 589,
   "metadata": {},
   "outputs": [
    {
     "data": {
      "text/plain": [
       "array([[12, 18,  2]])"
      ]
     },
     "execution_count": 589,
     "metadata": {},
     "output_type": "execute_result"
    }
   ],
   "source": [
    "c = np.array([12, 18, 2]).reshape(1, 3)\n",
    "c"
   ]
  },
  {
   "cell_type": "code",
   "execution_count": 592,
   "metadata": {},
   "outputs": [
    {
     "data": {
      "text/plain": [
       "array([[ 7.,  8.,  9.],\n",
       "       [ 1.,  1.,  1.],\n",
       "       [12., 18.,  2.]])"
      ]
     },
     "execution_count": 592,
     "metadata": {},
     "output_type": "execute_result"
    }
   ],
   "source": [
    "np.concatenate((b, a, c), axis=0)"
   ]
  },
  {
   "cell_type": "markdown",
   "metadata": {},
   "source": [
    "## Exercice 7"
   ]
  },
  {
   "cell_type": "markdown",
   "metadata": {},
   "source": [
    "* Ecrire un programme qui trouve les positions des éléments non nulls dans un tableau.\n",
    "* Ecrire un programme qui teste si aucun des é lé ments d'un tableau donné n'est nul.\n",
    "* Utiliser la fonction numpy « np.pad » pour ajouter une bordure (remplie de 0) autour d'un tableau existant.\n",
    "* Utiliser la fonction « np.asarray » pour cré er un tableau à partir d’un tuple ou une liste.\n",
    "* Tester la fonction « np.append » pour ajouter des é lé ments à la fin d’un tableau.\n",
    "* Utiliser la fonction «np.in1d » pour tester si chaque é lé ment d'un tableau 1-D est également présent dans un second tableau.\n",
    "* Utiliser la fonction « np.intersect1d» pour trouver des valeurs communes entre deux tableaux.\n",
    "  \n",
    "* Utiliser la fonction « np.tile » pour construire un tableau en ré pé tant les é lé ments d’un autre tableau.\n",
    "* Utiliser la fonction « bincount » pour compter le nombre d’occurrences de chaque valeur d’un tableau de valeurs positives."
   ]
  },
  {
   "cell_type": "code",
   "execution_count": 602,
   "metadata": {},
   "outputs": [
    {
     "data": {
      "text/plain": [
       "array([[ 0.,  1.,  2.,  3.,  4.],\n",
       "       [ 5.,  6.,  7.,  8.,  9.],\n",
       "       [10., 11., 12., 13., 14.],\n",
       "       [15., 16., 17., 18., 19.],\n",
       "       [20., 21., 22., 23., 24.]])"
      ]
     },
     "execution_count": 602,
     "metadata": {},
     "output_type": "execute_result"
    }
   ],
   "source": [
    "# Ecrire un programme qui trouve les positions des éléments non nulls dans un tableau.\n",
    "t = np.arange(25, dtype=float).reshape(5, 5)\n",
    "t"
   ]
  },
  {
   "cell_type": "code",
   "execution_count": 605,
   "metadata": {},
   "outputs": [
    {
     "data": {
      "text/plain": [
       "array([[ 0.,  1., nan,  3.,  4.],\n",
       "       [ 5.,  6., nan,  8.,  9.],\n",
       "       [10., 11., nan, 13., 14.],\n",
       "       [15., 16., nan, 18., 19.],\n",
       "       [20., 21., nan, 23., 24.]])"
      ]
     },
     "execution_count": 605,
     "metadata": {},
     "output_type": "execute_result"
    }
   ],
   "source": [
    "t[:, 2] = np.nan\n",
    "t"
   ]
  },
  {
   "cell_type": "code",
   "execution_count": 607,
   "metadata": {},
   "outputs": [
    {
     "data": {
      "text/plain": [
       "5"
      ]
     },
     "execution_count": 607,
     "metadata": {},
     "output_type": "execute_result"
    }
   ],
   "source": [
    "np.isnan(t).sum()"
   ]
  },
  {
   "cell_type": "code",
   "execution_count": 608,
   "metadata": {},
   "outputs": [
    {
     "data": {
      "text/plain": [
       "array([[False, False,  True, False, False],\n",
       "       [False, False,  True, False, False],\n",
       "       [False, False,  True, False, False],\n",
       "       [False, False,  True, False, False],\n",
       "       [False, False,  True, False, False]])"
      ]
     },
     "execution_count": 608,
     "metadata": {},
     "output_type": "execute_result"
    }
   ],
   "source": [
    "# Ecrire un programme qui teste si aucun des éléments d'un tableau donné n'est nul.\n",
    "np.isnan(t)"
   ]
  },
  {
   "cell_type": "code",
   "execution_count": 613,
   "metadata": {},
   "outputs": [
    {
     "data": {
      "text/plain": [
       "array([[1., 1., 1., 1.],\n",
       "       [1., 1., 1., 1.],\n",
       "       [1., 1., 1., 1.],\n",
       "       [1., 1., 1., 1.]])"
      ]
     },
     "execution_count": 613,
     "metadata": {},
     "output_type": "execute_result"
    }
   ],
   "source": [
    "# Utiliser la fonction numpy « np.pad » pour ajouter \n",
    "# une bordure (remplie de 0) autour d'un tableau existant.\n",
    "z = np.ones((4, 4))\n",
    "z"
   ]
  },
  {
   "cell_type": "code",
   "execution_count": 628,
   "metadata": {},
   "outputs": [
    {
     "data": {
      "text/plain": [
       "array([[0., 0., 0., 0., 0., 0.],\n",
       "       [0., 1., 1., 1., 1., 0.],\n",
       "       [0., 1., 1., 1., 1., 0.],\n",
       "       [0., 1., 1., 1., 1., 0.],\n",
       "       [0., 1., 1., 1., 1., 0.],\n",
       "       [0., 0., 0., 0., 0., 0.]])"
      ]
     },
     "execution_count": 628,
     "metadata": {},
     "output_type": "execute_result"
    }
   ],
   "source": [
    "z = np.pad(z, 1)\n",
    "z"
   ]
  },
  {
   "cell_type": "code",
   "execution_count": 619,
   "metadata": {},
   "outputs": [
    {
     "data": {
      "text/plain": [
       "array([1, 2, 3])"
      ]
     },
     "execution_count": 619,
     "metadata": {},
     "output_type": "execute_result"
    }
   ],
   "source": [
    "# Utiliser la fonction « np.asarray » pour cré er un tableau à partir d’un tuple ou une liste.\n",
    "np.asarray((1, 2, 3))"
   ]
  },
  {
   "cell_type": "code",
   "execution_count": 620,
   "metadata": {},
   "outputs": [
    {
     "data": {
      "text/plain": [
       "array([1, 2, 3])"
      ]
     },
     "execution_count": 620,
     "metadata": {},
     "output_type": "execute_result"
    }
   ],
   "source": [
    "np.asarray([1, 2, 3])"
   ]
  },
  {
   "cell_type": "code",
   "execution_count": 627,
   "metadata": {},
   "outputs": [
    {
     "data": {
      "text/plain": [
       "array([1, 2, 3, 4, 5, 6])"
      ]
     },
     "execution_count": 627,
     "metadata": {},
     "output_type": "execute_result"
    }
   ],
   "source": [
    "# Tester la fonction « np.append » pour ajouter des éléments à la fin d’un tableau.\n",
    "np.append([1, 2, 3], [4, 5, 6])"
   ]
  },
  {
   "cell_type": "code",
   "execution_count": 631,
   "metadata": {},
   "outputs": [
    {
     "data": {
      "text/plain": [
       "array([False, False, False, False, False, False, False,  True,  True,\n",
       "        True,  True, False, False,  True,  True,  True,  True, False,\n",
       "       False,  True,  True,  True,  True, False, False,  True,  True,\n",
       "        True,  True, False, False, False, False, False, False, False])"
      ]
     },
     "execution_count": 631,
     "metadata": {},
     "output_type": "execute_result"
    }
   ],
   "source": [
    "# Utiliser la fonction «np.in1d » pour tester si chaque é lé ment d'un tableau 1-D est \n",
    "# également présent dans un second tableau.\n",
    "\n",
    "mask = np.in1d(z, 1)\n",
    "mask"
   ]
  },
  {
   "cell_type": "code",
   "execution_count": 634,
   "metadata": {},
   "outputs": [
    {
     "data": {
      "text/plain": [
       "array([1., 1., 1., 1., 1., 1., 1., 1., 1., 1., 1., 1., 1., 1., 1., 1.])"
      ]
     },
     "execution_count": 634,
     "metadata": {},
     "output_type": "execute_result"
    }
   ],
   "source": [
    "z.flatten()[mask]"
   ]
  },
  {
   "cell_type": "code",
   "execution_count": 635,
   "metadata": {},
   "outputs": [
    {
     "data": {
      "text/plain": [
       "array([4, 5])"
      ]
     },
     "execution_count": 635,
     "metadata": {},
     "output_type": "execute_result"
    }
   ],
   "source": [
    "# Utiliser la fonction « np.intersect1d» pour trouver des valeurs communes \n",
    "# entre deux tableaux.\n",
    "a = [1, 2, 3, 4, 5]\n",
    "b = [4, 5, 6, 7, 8]\n",
    "\n",
    "np.intersect1d(a, b)"
   ]
  },
  {
   "cell_type": "code",
   "execution_count": 637,
   "metadata": {},
   "outputs": [
    {
     "data": {
      "text/plain": [
       "array([[0, 1, 0, 1, 0, 1],\n",
       "       [1, 0, 1, 0, 1, 0],\n",
       "       [0, 1, 0, 1, 0, 1],\n",
       "       [1, 0, 1, 0, 1, 0],\n",
       "       [0, 1, 0, 1, 0, 1],\n",
       "       [1, 0, 1, 0, 1, 0]])"
      ]
     },
     "execution_count": 637,
     "metadata": {},
     "output_type": "execute_result"
    }
   ],
   "source": [
    "# Utiliser la fonction « np.tile » pour construire un tableau \n",
    "# en répétant les éléments d’un autre tableau.\n",
    "np.tile([[0, 1], [1, 0]], (3, 3))"
   ]
  },
  {
   "cell_type": "code",
   "execution_count": 638,
   "metadata": {},
   "outputs": [
    {
     "data": {
      "text/plain": [
       "array([0, 0, 1, 0, 0, 1])"
      ]
     },
     "execution_count": 638,
     "metadata": {},
     "output_type": "execute_result"
    }
   ],
   "source": [
    "# Utiliser la fonction « bincount » pour compter le nombre d’occurrences \n",
    "# de chaque valeur d’un tableau de valeurs positives.\n",
    "np.bincount([2, 5])"
   ]
  },
  {
   "cell_type": "markdown",
   "metadata": {},
   "source": [
    "## Exercice 8"
   ]
  },
  {
   "cell_type": "code",
   "execution_count": null,
   "metadata": {},
   "outputs": [],
   "source": []
  }
 ],
 "metadata": {
  "kernelspec": {
   "display_name": "Python 3",
   "language": "python",
   "name": "python3"
  },
  "language_info": {
   "codemirror_mode": {
    "name": "ipython",
    "version": 3
   },
   "file_extension": ".py",
   "mimetype": "text/x-python",
   "name": "python",
   "nbconvert_exporter": "python",
   "pygments_lexer": "ipython3",
   "version": "3.7.7"
  }
 },
 "nbformat": 4,
 "nbformat_minor": 4
}
