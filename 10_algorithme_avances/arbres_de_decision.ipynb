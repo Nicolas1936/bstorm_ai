{
 "cells": [
  {
   "cell_type": "markdown",
   "metadata": {},
   "source": [
    "# Arbre de décision"
   ]
  },
  {
   "cell_type": "markdown",
   "metadata": {},
   "source": [
    "- Pas de DataFrame\n",
    "- Pas de Series\n",
    "- Dictionnaires OK\n",
    "- Numpy OK"
   ]
  },
  {
   "cell_type": "code",
   "execution_count": 1,
   "metadata": {},
   "outputs": [],
   "source": [
    "import numpy as np"
   ]
  },
  {
   "cell_type": "code",
   "execution_count": null,
   "metadata": {},
   "outputs": [],
   "source": [
    "np.random.choice(arr, )"
   ]
  },
  {
   "cell_type": "code",
   "execution_count": 54,
   "metadata": {},
   "outputs": [],
   "source": [
    "X = np.array([13, 17, 26, 32, 18, 8, 15, 20]).reshape(-1,1)\n",
    "y = np.array(['chat', 'chat', 'chient', 'chient', 'chient', 'chat', 'chient', 'chat'])"
   ]
  },
  {
   "cell_type": "code",
   "execution_count": 55,
   "metadata": {},
   "outputs": [
    {
     "data": {
      "text/plain": [
       "{13: 'chat',\n",
       " 17: 'chat',\n",
       " 26: 'chient',\n",
       " 32: 'chient',\n",
       " 18: 'chient',\n",
       " 8: 'chat',\n",
       " 15: 'chient',\n",
       " 20: 'chat'}"
      ]
     },
     "execution_count": 55,
     "metadata": {},
     "output_type": "execute_result"
    }
   ],
   "source": [
    "#Création de dictionnaire des valeurs\n",
    "dict_ = dict(zip(X.flatten(), y.flatten()))\n",
    "dict_"
   ]
  },
  {
   "cell_type": "code",
   "execution_count": 78,
   "metadata": {},
   "outputs": [
    {
     "data": {
      "text/plain": [
       "8"
      ]
     },
     "execution_count": 78,
     "metadata": {},
     "output_type": "execute_result"
    }
   ],
   "source": [
    "#Prendre un chiffre aléatoire\n",
    "\n",
    "#Fixation de l'aléatoire\n",
    "np.random.seed(1)\n",
    "value = np.random.choice(X.flatten(), 1)[0]\n",
    "value"
   ]
  },
  {
   "cell_type": "code",
   "execution_count": 82,
   "metadata": {},
   "outputs": [
    {
     "data": {
      "text/plain": [
       "(array([[8]]), array(['chat'], dtype='<U6'))"
      ]
     },
     "execution_count": 82,
     "metadata": {},
     "output_type": "execute_result"
    }
   ],
   "source": [
    "#Séparer 'X' en 2 groupes 'X1' et 'X2'\n",
    "#X1\n",
    "left = (X[X[:,0] <= value], y[X[:,0] <= value])\n",
    "left"
   ]
  },
  {
   "cell_type": "code",
   "execution_count": 83,
   "metadata": {},
   "outputs": [
    {
     "data": {
      "text/plain": [
       "(array([[13],\n",
       "        [17],\n",
       "        [26],\n",
       "        [32],\n",
       "        [18],\n",
       "        [15],\n",
       "        [20]]),\n",
       " array(['chat', 'chat', 'chient', 'chient', 'chient', 'chient', 'chat'],\n",
       "       dtype='<U6'))"
      ]
     },
     "execution_count": 83,
     "metadata": {},
     "output_type": "execute_result"
    }
   ],
   "source": [
    "#X2\n",
    "right = (X[X[:,0] > value], y[X[:,0] > value])\n",
    "right"
   ]
  },
  {
   "cell_type": "code",
   "execution_count": 88,
   "metadata": {},
   "outputs": [
    {
     "name": "stdout",
     "output_type": "stream",
     "text": [
      "['chat']\n",
      "['chat' 'chient']\n"
     ]
    }
   ],
   "source": [
    "temp_l = np.unique(left[1])\n",
    "temp_r = np.unique(right[1])\n",
    "print(temp_l)\n",
    "print(temp_r)"
   ]
  },
  {
   "cell_type": "code",
   "execution_count": 92,
   "metadata": {},
   "outputs": [
    {
     "name": "stdout",
     "output_type": "stream",
     "text": [
      "purity left\n"
     ]
    }
   ],
   "source": [
    "if len(np.unique(left[1])) == 1:\n",
    "    print('purity left')\n",
    "else:\n",
    "    pass"
   ]
  },
  {
   "cell_type": "code",
   "execution_count": 93,
   "metadata": {},
   "outputs": [],
   "source": [
    "if len(np.unique(right[1])) == 1:\n",
    "    print('purity right')\n",
    "else:\n",
    "    pass"
   ]
  },
  {
   "cell_type": "code",
   "execution_count": 111,
   "metadata": {},
   "outputs": [],
   "source": [
    "def get_split(X, y):\n",
    "    node = {}\n",
    "    \n",
    "    node['condition'] = np.random.choice(X[:,0])\n",
    "    \n",
    "    node['left'] = (X[X[:,0] <= node['condition']], y[X[:,0] <= node['condition']])\n",
    "    node['right'] = (X[X[:,0] > node['condition']], y[X[:,0] > node['condition']])\n",
    "    \n",
    "    # left\n",
    "    if len(np.unique(node['left'][1])) == 1:\n",
    "        node['left'] = np.unique(node['left'][1])[0]\n",
    "    elif len(np.unique(node['left'][1])) == 0:\n",
    "        node['left'] = None\n",
    "    else:\n",
    "        node['left'] = get_split(node['left'][0], node['left'][1])\n",
    "    \n",
    "    # right\n",
    "    if len(np.unique(node['right'][1])) == 1:\n",
    "        node['right'] = np.unique(node['right'][1])[0]\n",
    "    elif len(np.unique(node['right'][1])) == 0:\n",
    "        node['right'] = None\n",
    "    else:\n",
    "        node['right'] = get_split(node['right'][0], node['right'][1])\n",
    "    \n",
    "    return node"
   ]
  },
  {
   "cell_type": "code",
   "execution_count": 112,
   "metadata": {},
   "outputs": [
    {
     "data": {
      "text/plain": [
       "{'condition': 8,\n",
       " 'left': 'chat',\n",
       " 'right': {'condition': 32,\n",
       "  'left': {'condition': 18,\n",
       "   'left': {'condition': 13,\n",
       "    'left': 'chat',\n",
       "    'right': {'condition': 18,\n",
       "     'left': {'condition': 18,\n",
       "      'left': {'condition': 17,\n",
       "       'left': {'condition': 17,\n",
       "        'left': {'condition': 15, 'left': 'chient', 'right': 'chat'},\n",
       "        'right': None},\n",
       "       'right': 'chient'},\n",
       "      'right': None},\n",
       "     'right': None}},\n",
       "   'right': {'condition': 26,\n",
       "    'left': {'condition': 20, 'left': 'chat', 'right': 'chient'},\n",
       "    'right': 'chient'}},\n",
       "  'right': None}}"
      ]
     },
     "execution_count": 112,
     "metadata": {},
     "output_type": "execute_result"
    }
   ],
   "source": [
    "np.random.seed(1)\n",
    "X = np.array([13, 17, 26, 32, 18, 8, 15, 20]).reshape(-1,1)\n",
    "y = np.array(['chat', 'chat', 'chient', 'chient', 'chient', 'chat', 'chient', 'chat'])\n",
    "\n",
    "get_split(X, y)"
   ]
  },
  {
   "cell_type": "code",
   "execution_count": 75,
   "metadata": {},
   "outputs": [],
   "source": [
    "#decision_tree(X)"
   ]
  },
  {
   "cell_type": "markdown",
   "metadata": {},
   "source": [
    "- choisir un nombre au hasard (poids)\n",
    "- "
   ]
  }
 ],
 "metadata": {
  "kernelspec": {
   "display_name": "Python 3",
   "language": "python",
   "name": "python3"
  },
  "language_info": {
   "codemirror_mode": {
    "name": "ipython",
    "version": 3
   },
   "file_extension": ".py",
   "mimetype": "text/x-python",
   "name": "python",
   "nbconvert_exporter": "python",
   "pygments_lexer": "ipython3",
   "version": "3.7.7"
  }
 },
 "nbformat": 4,
 "nbformat_minor": 4
}
