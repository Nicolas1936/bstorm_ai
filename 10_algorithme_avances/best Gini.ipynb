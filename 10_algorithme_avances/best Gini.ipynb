{
 "cells": [
  {
   "cell_type": "code",
   "execution_count": 1,
   "metadata": {},
   "outputs": [],
   "source": [
    "import numpy as np"
   ]
  },
  {
   "cell_type": "code",
   "execution_count": 3,
   "metadata": {},
   "outputs": [],
   "source": [
    "def node_gini(node):\n",
    "    _, p_node = np.unique(node, return_counts=True)\n",
    "    p_node = p_node/node.shape[0]\n",
    "    gini_node = 1-((p_node**2).sum())\n",
    "    return gini_node"
   ]
  },
  {
   "cell_type": "code",
   "execution_count": 12,
   "metadata": {},
   "outputs": [],
   "source": [
    "def split_gini(left, right):\n",
    "    if (len(left) == 0) & (len(right) == 0):\n",
    "        return \"Erreur, left et right vide!\"\n",
    "    \n",
    "    if len(left) == 0:\n",
    "        return node_gini(right)\n",
    "    \n",
    "    if len(right) == 0:\n",
    "        return node_gini(left)\n",
    "    \n",
    "    _, p_left = np.unique(left, return_counts=True)\n",
    "    _, p_right = np.unique(right, return_counts=True)\n",
    "    p_left = p_left/left.shape[0]\n",
    "    p_right = p_right/right.shape[0]\n",
    "    gini_left = 1-((p_left**2).sum())\n",
    "    gini_right = 1-((p_right**2).sum())\n",
    "    gini_left = (left.shape[0]/node.shape[0])*gini_left\n",
    "    gini_right = (right.shape[0]/node.shape[0])*gini_right\n",
    "    split_gini = gini_left+gini_right\n",
    "    return split_gini"
   ]
  },
  {
   "cell_type": "code",
   "execution_count": 25,
   "metadata": {},
   "outputs": [],
   "source": [
    "def split_all_gini(node):\n",
    "    # return (left, right)\n",
    "    \n",
    "    gini = 1\n",
    "    for i in range(len(node)):\n",
    "        new_gini = split_gini(node[:i], node[i:])\n",
    "        if new_gini < gini:\n",
    "            gini = new_gini\n",
    "            left = node[:i]\n",
    "            right = node[i:]\n",
    "    \n",
    "    return (left, right)"
   ]
  },
  {
   "cell_type": "code",
   "execution_count": 26,
   "metadata": {},
   "outputs": [
    {
     "data": {
      "text/plain": [
       "(array([0, 0, 0, 0]), array([1, 1, 1, 1]))"
      ]
     },
     "execution_count": 26,
     "metadata": {},
     "output_type": "execute_result"
    }
   ],
   "source": [
    "node = np.array([0,0,0,0,1,1,1,1])\n",
    "split_all_gini(node)"
   ]
  },
  {
   "cell_type": "code",
   "execution_count": 5,
   "metadata": {},
   "outputs": [
    {
     "data": {
      "text/plain": [
       "0.5"
      ]
     },
     "execution_count": 5,
     "metadata": {},
     "output_type": "execute_result"
    }
   ],
   "source": [
    "node = np.array([0,0,0,0,1,1,1,1])\n",
    "node_gini(node)"
   ]
  },
  {
   "cell_type": "code",
   "execution_count": 6,
   "metadata": {},
   "outputs": [
    {
     "data": {
      "text/plain": [
       "0.375"
      ]
     },
     "execution_count": 6,
     "metadata": {},
     "output_type": "execute_result"
    }
   ],
   "source": [
    "left = np.array([0,0,0,1])\n",
    "right = np.array([1,1,1,0])\n",
    "\n",
    "split_gini(left, right)"
   ]
  },
  {
   "cell_type": "code",
   "execution_count": 23,
   "metadata": {},
   "outputs": [
    {
     "name": "stdout",
     "output_type": "stream",
     "text": [
      "i : 0\n",
      "left : []\n",
      "right : [0 0 0 0 1 1 1 1]\n",
      "gini : 0.5\n",
      "---------\n",
      "i : 1\n",
      "left : [0]\n",
      "right : [0 0 0 1 1 1 1]\n",
      "gini : 0.42857142857142866\n",
      "---------\n",
      "i : 2\n",
      "left : [0 0]\n",
      "right : [0 0 1 1 1 1]\n",
      "gini : 0.3333333333333333\n",
      "---------\n",
      "i : 3\n",
      "left : [0 0 0]\n",
      "right : [0 1 1 1 1]\n",
      "gini : 0.1999999999999999\n",
      "---------\n",
      "i : 4\n",
      "left : [0 0 0 0]\n",
      "right : [1 1 1 1]\n",
      "gini : 0.0\n",
      "---------\n",
      "i : 5\n",
      "left : [0 0 0 0 1]\n",
      "right : [1 1 1]\n",
      "gini : 0.1999999999999999\n",
      "---------\n",
      "i : 6\n",
      "left : [0 0 0 0 1 1]\n",
      "right : [1 1]\n",
      "gini : 0.3333333333333333\n",
      "---------\n",
      "i : 7\n",
      "left : [0 0 0 0 1 1 1]\n",
      "right : [1]\n",
      "gini : 0.42857142857142866\n",
      "---------\n"
     ]
    }
   ],
   "source": [
    "gini = 1\n",
    "for i in range(len(node)):\n",
    "    new_gini = split_gini(node[:i], node[i:])\n",
    "    print('i :', i)\n",
    "    print('left :', node[:i])\n",
    "    print('right :' , node[i:])\n",
    "    print('gini :', split_gini(node[:i], node[i:]))\n",
    "    print('---------')"
   ]
  },
  {
   "cell_type": "code",
   "execution_count": 24,
   "metadata": {},
   "outputs": [
    {
     "name": "stdout",
     "output_type": "stream",
     "text": [
      "n_left : [0 0 0 0]\n",
      "n_right : [1 1 1 1]\n"
     ]
    }
   ],
   "source": [
    "gini = 1\n",
    "for i in range(len(node)):\n",
    "    new_gini = split_gini(node[:i], node[i:])\n",
    "    if new_gini < gini:\n",
    "        gini = new_gini\n",
    "        n_left = node[:i]\n",
    "        n_right = node[i:]\n",
    "        \n",
    "print('n_left :', n_left)\n",
    "print('n_right :', n_right)"
   ]
  },
  {
   "cell_type": "code",
   "execution_count": 28,
   "metadata": {},
   "outputs": [
    {
     "data": {
      "text/plain": [
       "array([0, 1])"
      ]
     },
     "execution_count": 28,
     "metadata": {},
     "output_type": "execute_result"
    }
   ],
   "source": [
    "left"
   ]
  },
  {
   "cell_type": "code",
   "execution_count": 29,
   "metadata": {},
   "outputs": [
    {
     "data": {
      "text/plain": [
       "array([], dtype=float64)"
      ]
     },
     "execution_count": 29,
     "metadata": {},
     "output_type": "execute_result"
    }
   ],
   "source": [
    "right"
   ]
  },
  {
   "cell_type": "code",
   "execution_count": 30,
   "metadata": {},
   "outputs": [
    {
     "data": {
      "text/plain": [
       "array([1, 1, 1, 1])"
      ]
     },
     "execution_count": 30,
     "metadata": {},
     "output_type": "execute_result"
    }
   ],
   "source": [
    "left = np.array([0,0,0,1])\n",
    "right = np.array([1,1,1,0])\n",
    "\n",
    "left + right"
   ]
  },
  {
   "cell_type": "code",
   "execution_count": 31,
   "metadata": {},
   "outputs": [
    {
     "data": {
      "text/plain": [
       "array([0, 0, 0, 1, 1, 1, 1, 0])"
      ]
     },
     "execution_count": 31,
     "metadata": {},
     "output_type": "execute_result"
    }
   ],
   "source": [
    "np.concatenate([left, right])"
   ]
  },
  {
   "cell_type": "code",
   "execution_count": null,
   "metadata": {},
   "outputs": [],
   "source": []
  }
 ],
 "metadata": {
  "kernelspec": {
   "display_name": "Python 3",
   "language": "python",
   "name": "python3"
  },
  "language_info": {
   "codemirror_mode": {
    "name": "ipython",
    "version": 3
   },
   "file_extension": ".py",
   "mimetype": "text/x-python",
   "name": "python",
   "nbconvert_exporter": "python",
   "pygments_lexer": "ipython3",
   "version": "3.7.7"
  },
  "varInspector": {
   "cols": {
    "lenName": 16,
    "lenType": 16,
    "lenVar": 40
   },
   "kernels_config": {
    "python": {
     "delete_cmd_postfix": "",
     "delete_cmd_prefix": "del ",
     "library": "var_list.py",
     "varRefreshCmd": "print(var_dic_list())"
    },
    "r": {
     "delete_cmd_postfix": ") ",
     "delete_cmd_prefix": "rm(",
     "library": "var_list.r",
     "varRefreshCmd": "cat(var_dic_list()) "
    }
   },
   "types_to_exclude": [
    "module",
    "function",
    "builtin_function_or_method",
    "instance",
    "_Feature"
   ],
   "window_display": false
  }
 },
 "nbformat": 4,
 "nbformat_minor": 4
}
