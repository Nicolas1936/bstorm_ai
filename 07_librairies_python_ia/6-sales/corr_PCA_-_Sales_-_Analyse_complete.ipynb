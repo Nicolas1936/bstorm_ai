{
 "cells": [
  {
   "cell_type": "code",
   "execution_count": null,
   "id": "material-missile",
   "metadata": {},
   "outputs": [],
   "source": [
    "import pandas as pds\n",
    "\n",
    "pds.set_option('display.max_rows', None)\n",
    "data = pds.read_csv(r\"C:\\Users\\aurel\\Documents\\Aurélien\\BStorm\\Formations\\Python - DM & ML\\Python_Clustering\\6-Sales2.csv\")\n",
    "data"
   ]
  },
  {
   "cell_type": "code",
   "execution_count": null,
   "id": "approved-field",
   "metadata": {},
   "outputs": [],
   "source": [
    "data.drop([\"Unnamed: 0\",\"Week\"], axis = 1, inplace = True)"
   ]
  },
  {
   "cell_type": "code",
   "execution_count": null,
   "id": "another-sierra",
   "metadata": {},
   "outputs": [],
   "source": [
    "data"
   ]
  },
  {
   "cell_type": "code",
   "execution_count": null,
   "id": "growing-durham",
   "metadata": {},
   "outputs": [],
   "source": [
    "data[\"Qty\"] = data[\"Qty\"].astype(int)\n",
    "data"
   ]
  },
  {
   "cell_type": "code",
   "execution_count": null,
   "id": "mexican-doctrine",
   "metadata": {},
   "outputs": [],
   "source": [
    "data = pds.get_dummies(data)\n",
    "data"
   ]
  },
  {
   "cell_type": "code",
   "execution_count": null,
   "id": "dependent-creation",
   "metadata": {},
   "outputs": [],
   "source": [
    "data.drop(\"Qty\", axis = 1, inplace = True)"
   ]
  },
  {
   "cell_type": "code",
   "execution_count": null,
   "id": "helpful-swaziland",
   "metadata": {},
   "outputs": [],
   "source": [
    "data"
   ]
  },
  {
   "cell_type": "code",
   "execution_count": null,
   "id": "breeding-rugby",
   "metadata": {},
   "outputs": [],
   "source": [
    "data = data.groupby(\"Customer\").sum()\n",
    "data"
   ]
  },
  {
   "cell_type": "code",
   "execution_count": null,
   "id": "banned-generic",
   "metadata": {},
   "outputs": [],
   "source": [
    "data.shape"
   ]
  },
  {
   "cell_type": "code",
   "execution_count": null,
   "id": "secure-worse",
   "metadata": {},
   "outputs": [],
   "source": [
    "from sklearn.decomposition import PCA\n",
    "\n",
    "pca_sales = PCA().fit(data)"
   ]
  },
  {
   "cell_type": "code",
   "execution_count": null,
   "id": "subject-courage",
   "metadata": {},
   "outputs": [],
   "source": [
    "pca_sales.explained_variance_ratio_"
   ]
  },
  {
   "cell_type": "code",
   "execution_count": null,
   "id": "beginning-filename",
   "metadata": {},
   "outputs": [],
   "source": [
    "pca_sales.explained_variance_"
   ]
  },
  {
   "cell_type": "markdown",
   "id": "large-scanning",
   "metadata": {},
   "source": [
    "#### Pour info : on peut retrouver les valeurs propres sur base des variances expliquées (et inversément)\n",
    "#### Les valeurs propres nous permettent d'accepter ou non les CP's selon leur valeur : \n",
    "#### si >1 alors on la conserve sinon on ne la garde pas"
   ]
  },
  {
   "cell_type": "code",
   "execution_count": null,
   "id": "danish-month",
   "metadata": {},
   "outputs": [],
   "source": [
    "val_propre = (pca_sales.explained_variance_ * 16)/100\n",
    "val_propre"
   ]
  },
  {
   "cell_type": "code",
   "execution_count": null,
   "id": "civic-section",
   "metadata": {},
   "outputs": [],
   "source": [
    "nb_components = 16\n",
    "print((val_propre/nb_components)*100)"
   ]
  },
  {
   "cell_type": "markdown",
   "id": "false-welcome",
   "metadata": {},
   "source": [
    "#### Fin info"
   ]
  },
  {
   "cell_type": "code",
   "execution_count": null,
   "id": "every-monroe",
   "metadata": {},
   "outputs": [],
   "source": [
    "import matplotlib.pyplot as plt\n",
    "import numpy as np\n",
    "\n",
    "# variance expliquée\n",
    "\n",
    "plt.bar(range(1,17), pca_sales.explained_variance_, color = 'red')\n",
    "plt.xlabel(\"Nombre de composantes\")\n",
    "plt.ylabel(\"Variance expliquée\")\n",
    "plt.plot(range(1,17), pca_sales.explained_variance_)\n",
    "plt.show()\n",
    "\n",
    "# ratio de la variance expliquée\n",
    "\n",
    "plt.bar(range(1,17), np.cumsum(pca_sales.explained_variance_ratio_), color = 'green')\n",
    "plt.xlabel(\"Nombre de composantes\")\n",
    "plt.ylabel(\"Cumul du ratio de la variance expliquée\")\n",
    "plt.show()"
   ]
  },
  {
   "cell_type": "code",
   "execution_count": null,
   "id": "pleased-truth",
   "metadata": {},
   "outputs": [],
   "source": [
    "# on affiche l'apport de chaque feature dans chaque composante\n",
    "for i in range(0,3):\n",
    "    print(pca_sales.components_[i])"
   ]
  },
  {
   "cell_type": "code",
   "execution_count": null,
   "id": "stuffed-explanation",
   "metadata": {},
   "outputs": [],
   "source": [
    "data.columns"
   ]
  },
  {
   "cell_type": "code",
   "execution_count": null,
   "id": "norman-homeless",
   "metadata": {},
   "outputs": [],
   "source": [
    "for i in range(0,3):\n",
    "    plt.barh(data.columns, pca_sales.components_[i])\n",
    "    plt.xticks(rotation = 90)\n",
    "    plt.title(\"CP\"+ str(i+1) + \" Variance expliquée \" + str(round(pca_sales.explained_variance_ratio_[i] * 100, 2)) + \"%\")\n",
    "    plt.show()"
   ]
  },
  {
   "cell_type": "code",
   "execution_count": null,
   "id": "cross-memorabilia",
   "metadata": {},
   "outputs": [],
   "source": [
    "pca_data = pca_sales.transform(data)\n",
    "for i in range(0,100):\n",
    "    print(pca_data[i])"
   ]
  },
  {
   "cell_type": "code",
   "execution_count": null,
   "id": "distinct-verification",
   "metadata": {
    "scrolled": false
   },
   "outputs": [],
   "source": [
    "plt.scatter(pca_data[:,0], pca_data[:,1])\n",
    "plt.title(\"Projection de la CP1 et de la CP2\")\n",
    "plt.xlabel(\"CP1 - Enfants en bas âge\")\n",
    "plt.ylabel(\"CP2 - Sportifs\")\n",
    "plt.axhline(linewidth = 1 , color = 'red')\n",
    "plt.axvline(linewidth = 1 , color = 'red')"
   ]
  },
  {
   "cell_type": "code",
   "execution_count": null,
   "id": "sharp-birmingham",
   "metadata": {},
   "outputs": [],
   "source": [
    "# indique si OUI ou NON le client est caractérisé positivement à la CP1 (enfants en bas âge)\n",
    "print(pca_data[:,0] > 0)\n",
    "\n",
    "# indique si OUI ou NON le client est caractérisé positivement à la CP2 (sportifs)\n",
    "print(pca_data[:,1] > 0)"
   ]
  },
  {
   "cell_type": "code",
   "execution_count": null,
   "id": "directed-witch",
   "metadata": {},
   "outputs": [],
   "source": [
    "data[\"Enfants\"] = pca_data[:,0] > 0\n",
    "\n",
    "data[\"Sportifs\"] = pca_data[:,1] > 0"
   ]
  },
  {
   "cell_type": "code",
   "execution_count": null,
   "id": "beginning-hungarian",
   "metadata": {},
   "outputs": [],
   "source": [
    "data"
   ]
  },
  {
   "cell_type": "code",
   "execution_count": null,
   "id": "double-being",
   "metadata": {},
   "outputs": [],
   "source": [
    "data_kmeans = data.drop([\"Enfants\", \"Sportifs\"], axis = 1)"
   ]
  },
  {
   "cell_type": "markdown",
   "id": "iraqi-thinking",
   "metadata": {},
   "source": [
    "### Kmeans sur le dataset originel\n",
    "#### Va nous permet de comparer les clusters déduits de la PCA avec ceux du KMeans"
   ]
  },
  {
   "cell_type": "code",
   "execution_count": null,
   "id": "acute-transmission",
   "metadata": {},
   "outputs": [],
   "source": [
    "from sklearn.cluster import KMeans\n",
    "\n",
    "all_inertia = []\n",
    "\n",
    "\n",
    "for i in range(1,11):\n",
    "    modelKmeans = KMeans(n_clusters = i, random_state = 0).fit(data_kmeans)\n",
    "    inertia = modelKmeans.inertia_\n",
    "    all_inertia.append(inertia)\n"
   ]
  },
  {
   "cell_type": "code",
   "execution_count": null,
   "id": "distinct-nutrition",
   "metadata": {},
   "outputs": [],
   "source": [
    "all_inertia"
   ]
  },
  {
   "cell_type": "code",
   "execution_count": null,
   "id": "numeric-toolbox",
   "metadata": {},
   "outputs": [],
   "source": [
    "nb_clusters = range(1,11)\n",
    "plt.plot(nb_clusters, all_inertia)\n",
    "plt.xlabel(\"Nombre de clusters\")\n",
    "plt.ylabel(\"Inertie totale\")"
   ]
  },
  {
   "cell_type": "markdown",
   "id": "recovered-wednesday",
   "metadata": {},
   "source": [
    "#### On constate que l'on obtient le même nombre de clusters => 4 \n",
    "#### Affichons les labels correspondants aux customers afin de les comparer avec les groupements générés grâce à la PCA"
   ]
  },
  {
   "cell_type": "code",
   "execution_count": null,
   "id": "based-sound",
   "metadata": {},
   "outputs": [],
   "source": [
    "modelKmeans_4 = KMeans(n_clusters = 4, random_state = 0).fit(data_kmeans)"
   ]
  },
  {
   "cell_type": "code",
   "execution_count": null,
   "id": "behavioral-handle",
   "metadata": {},
   "outputs": [],
   "source": [
    "modelKmeans_4.labels_"
   ]
  },
  {
   "cell_type": "code",
   "execution_count": null,
   "id": "analyzed-rugby",
   "metadata": {},
   "outputs": [],
   "source": [
    "data[\"Label KMeans\"] = modelKmeans_4.labels_\n",
    "data"
   ]
  },
  {
   "cell_type": "markdown",
   "id": "congressional-fitness",
   "metadata": {},
   "source": [
    "#### Dérivons des 2 colonnes Enfants et Sportifs, une colonne de label propre à la PCA (\"Label PCA\")"
   ]
  },
  {
   "cell_type": "code",
   "execution_count": null,
   "id": "spanish-kitty",
   "metadata": {},
   "outputs": [],
   "source": [
    "data.loc[(data[\"Enfants\"] == True) & (data[\"Sportifs\"] == False), 'Label PCA'] = 0\n",
    "\n",
    "data.loc[(data[\"Enfants\"] == False) & (data[\"Sportifs\"] == False), 'Label PCA'] = 1\n",
    "\n",
    "data.loc[(data[\"Enfants\"] == False) & (data[\"Sportifs\"] == True), 'Label PCA'] = 2\n",
    "\n",
    "data.loc[(data[\"Enfants\"] == True) & (data[\"Sportifs\"] == True), 'Label PCA'] = 3"
   ]
  },
  {
   "cell_type": "code",
   "execution_count": null,
   "id": "consecutive-output",
   "metadata": {},
   "outputs": [],
   "source": [
    "data[\"Label PCA\"] = data[\"Label PCA\"].astype(int)\n",
    "data"
   ]
  },
  {
   "cell_type": "markdown",
   "id": "respiratory-puzzle",
   "metadata": {},
   "source": [
    "### Comparons les labels générés à partir de la PCA avec ceux de KMeans"
   ]
  },
  {
   "cell_type": "code",
   "execution_count": null,
   "id": "loaded-latvia",
   "metadata": {},
   "outputs": [],
   "source": [
    "comparaison = data[\"Label KMeans\"] == data[\"Label PCA\"]\n",
    "comparaison.sum()"
   ]
  },
  {
   "cell_type": "markdown",
   "id": "polyphonic-prophet",
   "metadata": {},
   "source": [
    "### Pour aller plus loin, effectuons un KMeans avec les données générées à partir de la PCA"
   ]
  },
  {
   "cell_type": "markdown",
   "id": "experienced-motel",
   "metadata": {},
   "source": [
    "#### On va créer un KMeans avec les données transformées des 2 premières composantes (CP) (ou + si on veut)"
   ]
  },
  {
   "cell_type": "code",
   "execution_count": null,
   "id": "cultural-tyler",
   "metadata": {},
   "outputs": [],
   "source": [
    "pca_data[0][0:2]"
   ]
  },
  {
   "cell_type": "code",
   "execution_count": null,
   "id": "martial-helmet",
   "metadata": {},
   "outputs": [],
   "source": [
    "for i in range(0,100):\n",
    "    print(pca_data[i][0:])"
   ]
  },
  {
   "cell_type": "code",
   "execution_count": null,
   "id": "latest-guyana",
   "metadata": {},
   "outputs": [],
   "source": [
    "all_inertia_PCA = []\n",
    "\n",
    "for i in range(1,11):\n",
    "    modelKmeansPCA = KMeans(n_clusters = i, random_state = 0).fit(pca_data[:, 0:2])\n",
    "    inertiaPCA = modelKmeansPCA.inertia_\n",
    "    all_inertia_PCA.append(inertiaPCA)"
   ]
  },
  {
   "cell_type": "code",
   "execution_count": null,
   "id": "composed-energy",
   "metadata": {
    "scrolled": true
   },
   "outputs": [],
   "source": [
    "all_inertia_PCA"
   ]
  },
  {
   "cell_type": "code",
   "execution_count": null,
   "id": "invalid-association",
   "metadata": {},
   "outputs": [],
   "source": [
    "nb_clusters = range(1,11)\n",
    "plt.plot(nb_clusters, all_inertia_PCA)\n",
    "plt.xlabel(\"Nombre de clusters\")\n",
    "plt.ylabel(\"Inertie totale\")"
   ]
  },
  {
   "cell_type": "markdown",
   "id": "modular-stick",
   "metadata": {},
   "source": [
    "### On obtient les mêmes conclusions qu'avec le KMeans sans PCA et la PCA simple"
   ]
  },
  {
   "cell_type": "code",
   "execution_count": null,
   "id": "academic-treat",
   "metadata": {},
   "outputs": [],
   "source": [
    "modelKmeansPCA_4 = KMeans(n_clusters = 4, random_state = 0).fit(pca_data[:, 0:2])"
   ]
  },
  {
   "cell_type": "code",
   "execution_count": null,
   "id": "consolidated-modeling",
   "metadata": {},
   "outputs": [],
   "source": [
    "modelKmeansPCA_4.labels_"
   ]
  },
  {
   "cell_type": "code",
   "execution_count": null,
   "id": "international-handle",
   "metadata": {},
   "outputs": [],
   "source": [
    "data[\"Label PCA + KMeans\"] = modelKmeansPCA_4.labels_"
   ]
  },
  {
   "cell_type": "code",
   "execution_count": null,
   "id": "regulation-discretion",
   "metadata": {},
   "outputs": [],
   "source": [
    "modelKmeans_4.labels_"
   ]
  },
  {
   "cell_type": "code",
   "execution_count": null,
   "id": "existing-rebecca",
   "metadata": {},
   "outputs": [],
   "source": [
    "pds.crosstab(modelKmeansPCA_4.labels_, modelKmeans_4.labels_)"
   ]
  },
  {
   "cell_type": "code",
   "execution_count": null,
   "id": "metropolitan-trustee",
   "metadata": {},
   "outputs": [],
   "source": []
  }
 ],
 "metadata": {
  "kernelspec": {
   "display_name": "Python 3",
   "language": "python",
   "name": "python3"
  },
  "language_info": {
   "codemirror_mode": {
    "name": "ipython",
    "version": 3
   },
   "file_extension": ".py",
   "mimetype": "text/x-python",
   "name": "python",
   "nbconvert_exporter": "python",
   "pygments_lexer": "ipython3",
   "version": "3.6.8"
  }
 },
 "nbformat": 4,
 "nbformat_minor": 5
}
